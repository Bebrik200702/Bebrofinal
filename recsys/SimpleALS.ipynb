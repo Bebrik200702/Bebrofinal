{
 "cells": [
  {
   "cell_type": "code",
   "execution_count": 1,
   "id": "869b568c-ceb0-49c3-a3d5-95590d0c22d4",
   "metadata": {},
   "outputs": [
    {
     "name": "stdout",
     "output_type": "stream",
     "text": [
      "Wed Mar  6 08:13:22 2024       \n",
      "+-----------------------------------------------------------------------------+\n",
      "| NVIDIA-SMI 525.116.04   Driver Version: 525.116.04   CUDA Version: 12.0     |\n",
      "|-------------------------------+----------------------+----------------------+\n",
      "| GPU  Name        Persistence-M| Bus-Id        Disp.A | Volatile Uncorr. ECC |\n",
      "| Fan  Temp  Perf  Pwr:Usage/Cap|         Memory-Usage | GPU-Util  Compute M. |\n",
      "|                               |                      |               MIG M. |\n",
      "|===============================+======================+======================|\n",
      "|   0  NVIDIA RTX A6000    Off  | 00000000:00:05.0 Off |                  Off |\n",
      "| 30%   40C    P8    28W / 300W |      1MiB / 49140MiB |      0%      Default |\n",
      "|                               |                      |                  N/A |\n",
      "+-------------------------------+----------------------+----------------------+\n",
      "                                                                               \n",
      "+-----------------------------------------------------------------------------+\n",
      "| Processes:                                                                  |\n",
      "|  GPU   GI   CI        PID   Type   Process name                  GPU Memory |\n",
      "|        ID   ID                                                   Usage      |\n",
      "|=============================================================================|\n",
      "|  No running processes found                                                 |\n",
      "+-----------------------------------------------------------------------------+\n"
     ]
    }
   ],
   "source": [
    "!nvidia-smi"
   ]
  },
  {
   "cell_type": "code",
   "execution_count": 2,
   "id": "af5341f1-afc5-4c42-b37d-c918d2fd0498",
   "metadata": {},
   "outputs": [],
   "source": [
    "import pandas as pd\n",
    "import numpy as np\n",
    "import random\n",
    "from tqdm.auto import tqdm\n",
    "import gc\n",
    "from implicit.evaluation import mean_average_precision_at_k,train_test_split\n",
    "from implicit.approximate_als import FaissAlternatingLeastSquares\n",
    "from implicit.nearest_neighbours import CosineRecommender, BM25Recommender,TFIDFRecommender\n",
    "from implicit.cpu.lmf import LogisticMatrixFactorization\n",
    "import scipy.sparse as sp\n",
    "from implicit.gpu.bpr import BayesianPersonalizedRanking\n",
    "from implicit.gpu.als import AlternatingLeastSquares"
   ]
  },
  {
   "cell_type": "code",
   "execution_count": 3,
   "id": "e5681163-52c7-4c41-9660-f1f774237924",
   "metadata": {},
   "outputs": [],
   "source": [
    "train_df = pd.read_csv('./train.csv',parse_dates=['timestamp'])"
   ]
  },
  {
   "cell_type": "code",
   "execution_count": 4,
   "id": "112469db-0731-49f5-9037-66590dc716d1",
   "metadata": {},
   "outputs": [
    {
     "data": {
      "text/html": [
       "<div>\n",
       "<style scoped>\n",
       "    .dataframe tbody tr th:only-of-type {\n",
       "        vertical-align: middle;\n",
       "    }\n",
       "\n",
       "    .dataframe tbody tr th {\n",
       "        vertical-align: top;\n",
       "    }\n",
       "\n",
       "    .dataframe thead th {\n",
       "        text-align: right;\n",
       "    }\n",
       "</style>\n",
       "<table border=\"1\" class=\"dataframe\">\n",
       "  <thead>\n",
       "    <tr style=\"text-align: right;\">\n",
       "      <th></th>\n",
       "      <th>interaction_type</th>\n",
       "      <th>timestamp</th>\n",
       "      <th>user_id</th>\n",
       "      <th>video_id</th>\n",
       "    </tr>\n",
       "  </thead>\n",
       "  <tbody>\n",
       "    <tr>\n",
       "      <th>0</th>\n",
       "      <td>view</td>\n",
       "      <td>1696271079748</td>\n",
       "      <td>126492</td>\n",
       "      <td>228525</td>\n",
       "    </tr>\n",
       "    <tr>\n",
       "      <th>1</th>\n",
       "      <td>view</td>\n",
       "      <td>1696271079760</td>\n",
       "      <td>117764</td>\n",
       "      <td>204343</td>\n",
       "    </tr>\n",
       "    <tr>\n",
       "      <th>2</th>\n",
       "      <td>view</td>\n",
       "      <td>1696271079988</td>\n",
       "      <td>11347</td>\n",
       "      <td>201337</td>\n",
       "    </tr>\n",
       "    <tr>\n",
       "      <th>3</th>\n",
       "      <td>view</td>\n",
       "      <td>1696271080451</td>\n",
       "      <td>125274</td>\n",
       "      <td>221842</td>\n",
       "    </tr>\n",
       "    <tr>\n",
       "      <th>4</th>\n",
       "      <td>view</td>\n",
       "      <td>1696271080451</td>\n",
       "      <td>125274</td>\n",
       "      <td>221842</td>\n",
       "    </tr>\n",
       "    <tr>\n",
       "      <th>...</th>\n",
       "      <td>...</td>\n",
       "      <td>...</td>\n",
       "      <td>...</td>\n",
       "      <td>...</td>\n",
       "    </tr>\n",
       "    <tr>\n",
       "      <th>5657319</th>\n",
       "      <td>view</td>\n",
       "      <td>1696946405821</td>\n",
       "      <td>20627</td>\n",
       "      <td>42064</td>\n",
       "    </tr>\n",
       "    <tr>\n",
       "      <th>5657320</th>\n",
       "      <td>view</td>\n",
       "      <td>1696946406884</td>\n",
       "      <td>73913</td>\n",
       "      <td>242899</td>\n",
       "    </tr>\n",
       "    <tr>\n",
       "      <th>5657321</th>\n",
       "      <td>view</td>\n",
       "      <td>1696946407292</td>\n",
       "      <td>53555</td>\n",
       "      <td>241941</td>\n",
       "    </tr>\n",
       "    <tr>\n",
       "      <th>5657322</th>\n",
       "      <td>view</td>\n",
       "      <td>1696946407461</td>\n",
       "      <td>97851</td>\n",
       "      <td>222069</td>\n",
       "    </tr>\n",
       "    <tr>\n",
       "      <th>5657323</th>\n",
       "      <td>like</td>\n",
       "      <td>1696946407541</td>\n",
       "      <td>63223</td>\n",
       "      <td>180394</td>\n",
       "    </tr>\n",
       "  </tbody>\n",
       "</table>\n",
       "<p>5657324 rows × 4 columns</p>\n",
       "</div>"
      ],
      "text/plain": [
       "        interaction_type      timestamp  user_id  video_id\n",
       "0                   view  1696271079748   126492    228525\n",
       "1                   view  1696271079760   117764    204343\n",
       "2                   view  1696271079988    11347    201337\n",
       "3                   view  1696271080451   125274    221842\n",
       "4                   view  1696271080451   125274    221842\n",
       "...                  ...            ...      ...       ...\n",
       "5657319             view  1696946405821    20627     42064\n",
       "5657320             view  1696946406884    73913    242899\n",
       "5657321             view  1696946407292    53555    241941\n",
       "5657322             view  1696946407461    97851    222069\n",
       "5657323             like  1696946407541    63223    180394\n",
       "\n",
       "[5657324 rows x 4 columns]"
      ]
     },
     "execution_count": 4,
     "metadata": {},
     "output_type": "execute_result"
    }
   ],
   "source": [
    "train_df"
   ]
  },
  {
   "cell_type": "code",
   "execution_count": 5,
   "id": "f8991ae5-0a2e-4e0d-ace4-e73d3227a5d0",
   "metadata": {},
   "outputs": [],
   "source": [
    "def chrono_split(\n",
    "        df: pd.DataFrame, \n",
    "        split_by_column: str = 'user_id', \n",
    "        ratio: float = 0.7, \n",
    "        col_timestamp: str = 'timestamp'):\n",
    "\n",
    "    df = df.sort_values([split_by_column, col_timestamp])\n",
    "    groups = df.groupby(split_by_column)\n",
    "\n",
    "    df[\"count\"] = groups[split_by_column].transform(\"count\")\n",
    "    df[\"rank_s\"] = groups.cumcount() + 1\n",
    "\n",
    "    ratio = [ratio, 1 - ratio]\n",
    "    splits = []\n",
    "    prev_threshold = None\n",
    "    for threshold in np.cumsum(ratio):\n",
    "        condition = df[\"rank_s\"] <= round(threshold * df[\"count\"])\n",
    "        if prev_threshold is not None:\n",
    "            condition &= df[\"rank_s\"] > round(prev_threshold * df[\"count\"])\n",
    "        splits.append(df[condition].drop([\"rank_s\", \"count\"], axis=1))\n",
    "        prev_threshold = threshold\n",
    "\n",
    "    return splits\n",
    "\n",
    "def train_val_split(\n",
    "        train_df: pd.DataFrame, \n",
    "        val_users_n: int = 200_000):\n",
    "    \n",
    "    user_ids = train_df['user_id'].unique()\n",
    "    user_ids_val = random.sample(list(user_ids), val_users_n)\n",
    "    condition = train_df['user_id'].isin(user_ids_val)\n",
    "\n",
    "    val = train_df[condition]\n",
    "    val_no_targets, val_targets = chrono_split(val, ratio=0.7)\n",
    "\n",
    "    train = pd.concat([train_df[~condition], val_no_targets]).sort_values('timestamp')\n",
    "    return train, val_no_targets, val_targets"
   ]
  },
  {
   "cell_type": "code",
   "execution_count": 6,
   "id": "50c6e160-08d1-44c3-a954-1b28c2afca41",
   "metadata": {},
   "outputs": [],
   "source": [
    "random.seed(56)\n",
    "train, val_no_targets, val_targets = train_val_split(train_df,val_users_n=100_000)"
   ]
  },
  {
   "cell_type": "code",
   "execution_count": 7,
   "id": "16a7bae6-7861-46bd-ba2d-5c2c8b612bee",
   "metadata": {},
   "outputs": [],
   "source": [
    "idxes = train.index"
   ]
  },
  {
   "cell_type": "code",
   "execution_count": 8,
   "id": "b7f2beaf-2ca1-4116-9e59-96d1bb750fc2",
   "metadata": {},
   "outputs": [
    {
     "data": {
      "text/plain": [
       "40821"
      ]
     },
     "execution_count": 8,
     "metadata": {},
     "output_type": "execute_result"
    }
   ],
   "source": [
    "train['user_id'].iloc[0]"
   ]
  },
  {
   "cell_type": "code",
   "execution_count": 9,
   "id": "f761667b-46e2-4821-aed5-2760e6dece9a",
   "metadata": {},
   "outputs": [
    {
     "name": "stderr",
     "output_type": "stream",
     "text": [
      "/tmp/ipykernel_328/2636569710.py:1: FutureWarning: The behavior of `series[i:j]` with an integer-dtype index is deprecated. In a future version, this will be treated as *label-based* indexing, consistent with e.g. `series[i]` lookups. To retain the old behavior, use `series.iloc[i:j]`. To get the future behavior, use `series.loc[i:j]`.\n",
      "  train['video_id'].value_counts()[:10]\n"
     ]
    },
    {
     "data": {
      "text/plain": [
       "166825    17901\n",
       "131005    17146\n",
       "38943     16410\n",
       "188589    15830\n",
       "169519    15394\n",
       "34204     15272\n",
       "51799     12325\n",
       "137447    12091\n",
       "166282    11737\n",
       "123953    10883\n",
       "Name: video_id, dtype: int64"
      ]
     },
     "execution_count": 9,
     "metadata": {},
     "output_type": "execute_result"
    }
   ],
   "source": [
    "train['video_id'].value_counts()[:10]"
   ]
  },
  {
   "cell_type": "code",
   "execution_count": 10,
   "id": "02ae2433-9ab2-48fe-b354-24cbfd8ac4e9",
   "metadata": {},
   "outputs": [
    {
     "data": {
      "text/plain": [
       "0.17421546088274967"
      ]
     },
     "execution_count": 10,
     "metadata": {},
     "output_type": "execute_result"
    }
   ],
   "source": [
    "val_no_targets[val_no_targets['interaction_type'] != 'view'].shape[0] / val_no_targets.shape[0]"
   ]
  },
  {
   "cell_type": "code",
   "execution_count": 11,
   "id": "55afd687-1308-4865-831c-9886a516dafd",
   "metadata": {},
   "outputs": [],
   "source": [
    "def apk(actual, predicted, k=10):\n",
    "    if len(predicted)>k:\n",
    "        predicted = predicted[:k]\n",
    "\n",
    "    score = 0.0\n",
    "    num_hits = 0.0\n",
    "\n",
    "    for i,p in enumerate(predicted):\n",
    "        if p in actual and p not in predicted[:i]:\n",
    "            num_hits += 1.0\n",
    "            score += num_hits / (i+1.0)\n",
    "    if not actual:\n",
    "        return 0.0\n",
    "    return score / min(len(actual), k)\n",
    "\n",
    "def mapk(actual, predicted, k=10):\n",
    "    return np.mean([apk(a,p,k) for a,p in zip(actual, predicted)])"
   ]
  },
  {
   "cell_type": "code",
   "execution_count": 12,
   "id": "07f22826-6c34-4d30-be71-a3864a619f00",
   "metadata": {},
   "outputs": [],
   "source": [
    "val_labels = val_targets.groupby('user_id')['video_id'].apply(lambda x:x.tolist()).tolist()"
   ]
  },
  {
   "cell_type": "code",
   "execution_count": 13,
   "id": "47c739ae-d72f-4d1d-b1e9-53342b5e3e25",
   "metadata": {},
   "outputs": [
    {
     "data": {
      "text/plain": [
       "0.006894914600655077"
      ]
     },
     "execution_count": 13,
     "metadata": {},
     "output_type": "execute_result"
    }
   ],
   "source": [
    "### BaseLine_Simple\n",
    "\n",
    "train_best_cols = train['video_id'].value_counts().index[:10]\n",
    "mapk(val_labels,[train_best_cols] * len(val_labels),k=10)"
   ]
  },
  {
   "cell_type": "code",
   "execution_count": 14,
   "id": "162d172f-d498-4010-9d2e-801ed6ec0033",
   "metadata": {},
   "outputs": [],
   "source": [
    "train['is_like'] = train['interaction_type'].apply(lambda x: 1 if x == 'like' else 0)\n",
    "video_features = train.groupby('video_id')['is_like'].agg(['sum','count'])"
   ]
  },
  {
   "cell_type": "code",
   "execution_count": 15,
   "id": "01ee11a6-2030-438f-b3e8-f989fd6d5152",
   "metadata": {},
   "outputs": [],
   "source": [
    "video_features['index'] = video_features['sum'] * 10 + video_features['count']"
   ]
  },
  {
   "cell_type": "code",
   "execution_count": 16,
   "id": "0b6cae07-5a01-4d2b-97e8-925c5a0a293c",
   "metadata": {},
   "outputs": [],
   "source": [
    "video_features['video_id'] = video_features.index"
   ]
  },
  {
   "cell_type": "code",
   "execution_count": 17,
   "id": "6047b9be-8592-45a8-b0c8-0d88b5707a4d",
   "metadata": {},
   "outputs": [
    {
     "data": {
      "text/plain": [
       "0.007281970669564121"
      ]
     },
     "execution_count": 17,
     "metadata": {},
     "output_type": "execute_result"
    }
   ],
   "source": [
    "train_best_cols = video_features.sort_values(by='index')[::-1][:10].index.tolist()\n",
    "mapk(val_labels,[train_best_cols] * len(val_labels),k=10)"
   ]
  },
  {
   "cell_type": "code",
   "execution_count": 18,
   "id": "2aba9a0b-3ab3-4cbf-8369-9ef0d5ad2979",
   "metadata": {},
   "outputs": [],
   "source": [
    "#### BM25\n",
    "video_features[['video_id','index']].index = range(video_features.shape[0])\n",
    "video_features['range'] = range(video_features.shape[0])\n",
    "video_features = video_features.set_index('range')"
   ]
  },
  {
   "cell_type": "code",
   "execution_count": 21,
   "id": "f6c45e9f-e52b-4317-b5a1-17a345186b61",
   "metadata": {},
   "outputs": [],
   "source": [
    "#train = train.drop('index',axis=1)\n",
    "train = train.merge(video_features[['video_id','index']],on='video_id')"
   ]
  },
  {
   "cell_type": "code",
   "execution_count": 22,
   "id": "7332fac3-2c80-490c-9b13-3472420bc2d7",
   "metadata": {},
   "outputs": [],
   "source": [
    "train['index'] = train['index'].map(lambda x: x ** 0.25)"
   ]
  },
  {
   "cell_type": "code",
   "execution_count": 23,
   "id": "cbb27b3a-9bfb-4af8-baab-f984814da0bb",
   "metadata": {},
   "outputs": [
    {
     "data": {
      "text/plain": [
       "(152911, 228506)"
      ]
     },
     "execution_count": 23,
     "metadata": {},
     "output_type": "execute_result"
    }
   ],
   "source": [
    "users_inv_mapping = dict(enumerate(train_df['user_id'].unique()))\n",
    "users_mapping = {v: k for k, v in users_inv_mapping.items()}\n",
    "\n",
    "items_inv_mapping = dict(enumerate(train_df['video_id'].unique()))\n",
    "items_mapping = {v: k for k, v in items_inv_mapping.items()}\n",
    "len(users_mapping),len(items_mapping)"
   ]
  },
  {
   "cell_type": "code",
   "execution_count": 24,
   "id": "7e6c72ed-340b-4a7c-83f2-8ab2c61db2af",
   "metadata": {},
   "outputs": [],
   "source": [
    "def get_coo_matrix(df,\n",
    "                   user_col='user_id',\n",
    "                   item_col='item_id',\n",
    "                   weight_col=None,\n",
    "                   users_mapping=None,\n",
    "                   items_mapping=None):\n",
    "    if weight_col is None:\n",
    "        weights = np.ones(len(df), dtype=np.float32)\n",
    "    else:\n",
    "        weights = df[weight_col].astype(np.float32)\n",
    "\n",
    "    interaction_matrix = sp.coo_matrix((\n",
    "        weights,\n",
    "        (\n",
    "            df[user_col].map(users_mapping.get),\n",
    "            df[item_col].map(items_mapping.get)\n",
    "        )),\n",
    "    )\n",
    "    return interaction_matrix"
   ]
  },
  {
   "cell_type": "code",
   "execution_count": 25,
   "id": "cdfd7c15-c203-4ba0-a68e-0a6f1a2a4329",
   "metadata": {},
   "outputs": [],
   "source": [
    "train_mat = get_coo_matrix(df=train,\n",
    "                           user_col='user_id',\n",
    "                           item_col='video_id',\n",
    "                           weight_col='index', \n",
    "                           users_mapping=users_mapping,\n",
    "                           items_mapping=items_mapping).tocsr()"
   ]
  },
  {
   "cell_type": "code",
   "execution_count": 47,
   "id": "9d2a5b62-1b69-4ec0-aa86-ba532fb48b9b",
   "metadata": {},
   "outputs": [
    {
     "name": "stderr",
     "output_type": "stream",
     "text": [
      "/usr/local/lib/python3.9/dist-packages/implicit/utils.py:164: ParameterWarning: Method expects CSR input, and was passed coo_matrix instead. Converting to CSR took 0.02057790756225586 seconds\n",
      "  warnings.warn(\n"
     ]
    },
    {
     "data": {
      "application/vnd.jupyter.widget-view+json": {
       "model_id": "ff1ea16c474a4c9f9e40d40a849e8467",
       "version_major": 2,
       "version_minor": 0
      },
      "text/plain": [
       "  0%|          | 0/228506 [00:00<?, ?it/s]"
      ]
     },
     "metadata": {},
     "output_type": "display_data"
    }
   ],
   "source": [
    "#model = AlternatingLeastSquares(\n",
    "#    factors=32, iterations=128,\n",
    "#    random_state=56\n",
    "#)\n",
    "#model = BayesianPersonalizedRanking(factors=32, iterations=16,random_state=56)\n",
    "#model = LogisticMatrixFactorization(factors=32, iterations=50,random_state=56)\n",
    "model = TFIDFRecommender(K=2048)\n",
    "#model = BM25Recommender()\n",
    "\n",
    "model.fit(train_mat)"
   ]
  },
  {
   "cell_type": "code",
   "execution_count": 41,
   "id": "56d83424-f364-4cdc-a9b1-80d6105a3502",
   "metadata": {},
   "outputs": [],
   "source": [
    "def predict_impl(model,test_users,mat,users_mapping,items_inv_mapping,N=10,falh=True):\n",
    "    recs,scores = [],[]\n",
    "    for id in tqdm(test_users):\n",
    "        row_id = users_mapping[id]\n",
    "        ranks = model.recommend(row_id, mat[row_id], N=N, filter_already_liked_items=falh)\n",
    "        recs += [[items_inv_mapping.get(it) for it in ranks[0]]]\n",
    "        scores += [ranks[1]]\n",
    "    return recs,scores\n",
    "\n",
    "def predict_impl_batched(model,test_users,mat,users_mapping,items_inv_mapping,batch_size=1024,N=10,falh=True):\n",
    "    recs,scores = [],[]\n",
    "    N = len(test_users)\n",
    "    for i in tqdm(range(0,N,batch_size)):\n",
    "        ids = test_users[i:i+batch_size]\n",
    "        row_id = [users_mapping[id] for id in ids]\n",
    "        ranks_lst = model.recommend(row_id, mat[row_id], N=N, filter_already_liked_items=falh)\n",
    "        for ranks in ranks_lst:\n",
    "            recs += [[items_inv_mapping.get(it) for it in ranks[0]]]\n",
    "            scores += [ranks[1]]\n",
    "    return recs,scores"
   ]
  },
  {
   "cell_type": "code",
   "execution_count": 28,
   "id": "9d428fe2-3722-42ed-8c93-94f946432c03",
   "metadata": {},
   "outputs": [],
   "source": [
    "val_group = val_targets.groupby('user_id')\n",
    "act = val_group['video_id'].agg(lambda x:x.tolist()).tolist()\n",
    "val_users = val_group.agg(lambda x:x.tolist()).index.tolist()"
   ]
  },
  {
   "cell_type": "code",
   "execution_count": 52,
   "id": "d715e926-d534-49b8-b6d1-e3f2b81472ba",
   "metadata": {},
   "outputs": [
    {
     "data": {
      "application/vnd.jupyter.widget-view+json": {
       "model_id": "29e9cb5ac50e4432ab27abcc606f3990",
       "version_major": 2,
       "version_minor": 0
      },
      "text/plain": [
       "  0%|          | 0/100000 [00:00<?, ?it/s]"
      ]
     },
     "metadata": {},
     "output_type": "display_data"
    }
   ],
   "source": [
    "test_preds,test_scores = predict_impl(model,\n",
    "                                      val_users,\n",
    "                                      train_mat,\n",
    "                                      users_mapping,\n",
    "                                      items_inv_mapping,\n",
    "                                      N=100,\n",
    "                                      falh=True)"
   ]
  },
  {
   "cell_type": "code",
   "execution_count": 51,
   "id": "b6b6b2cc-6246-470f-8bf7-4003a7303f29",
   "metadata": {},
   "outputs": [
    {
     "data": {
      "text/plain": [
       "0.02063615730190224"
      ]
     },
     "execution_count": 51,
     "metadata": {},
     "output_type": "execute_result"
    }
   ],
   "source": [
    "mapk(val_labels,test_preds,k=10)"
   ]
  },
  {
   "cell_type": "code",
   "execution_count": 53,
   "id": "fd55e7ef-696b-42d4-a935-efb7974b5ad9",
   "metadata": {},
   "outputs": [],
   "source": [
    "pd.DataFrame({'preds':test_preds,'scores':test_scores}).to_parquet('TFIDF_preds_val.parquet')"
   ]
  },
  {
   "cell_type": "code",
   "execution_count": 54,
   "id": "b0cf2699-1082-476e-88de-2331a06bce2b",
   "metadata": {},
   "outputs": [],
   "source": [
    "train_df['is_like'] = train_df['interaction_type'].apply(lambda x: 1 if x == 'like' else 0)\n",
    "video_features = train_df.groupby('video_id')['is_like'].agg(['sum','count'])\n",
    "video_features['index'] = video_features['sum'] * 10 + video_features['count']\n",
    "video_features['video_id'] = video_features.index\n",
    "video_features[['video_id','index']].index = range(video_features.shape[0])\n",
    "video_features['range'] = range(video_features.shape[0])\n",
    "video_features = video_features.set_index('range')\n",
    "train_df = train_df.merge(video_features[['video_id','index']],on='video_id')\n",
    "train_df['index'] = train_df['index'].map(lambda x: x ** 0.25)"
   ]
  },
  {
   "cell_type": "code",
   "execution_count": 55,
   "id": "6f4495d4-9547-4999-a5f9-02ad01578bd4",
   "metadata": {},
   "outputs": [],
   "source": [
    "train_mat = get_coo_matrix(df=train_df,\n",
    "                           user_col='user_id',\n",
    "                           item_col='video_id',\n",
    "                           weight_col='index',\n",
    "                           users_mapping=users_mapping,\n",
    "                           items_mapping=items_mapping).tocsr()"
   ]
  },
  {
   "cell_type": "code",
   "execution_count": 56,
   "id": "922e3bdf-5cf1-4be0-83a9-2e2fdc6123e7",
   "metadata": {},
   "outputs": [
    {
     "name": "stderr",
     "output_type": "stream",
     "text": [
      "/usr/local/lib/python3.9/dist-packages/implicit/utils.py:164: ParameterWarning: Method expects CSR input, and was passed coo_matrix instead. Converting to CSR took 0.03292107582092285 seconds\n",
      "  warnings.warn(\n"
     ]
    },
    {
     "data": {
      "application/vnd.jupyter.widget-view+json": {
       "model_id": "98115f128fc64f11a90a7218cb56ac61",
       "version_major": 2,
       "version_minor": 0
      },
      "text/plain": [
       "  0%|          | 0/228506 [00:00<?, ?it/s]"
      ]
     },
     "metadata": {},
     "output_type": "display_data"
    }
   ],
   "source": [
    "model = TFIDFRecommender(K=2048)\n",
    "\n",
    "model.fit(train_mat)"
   ]
  },
  {
   "cell_type": "code",
   "execution_count": 60,
   "id": "4cf50447-b48c-4d75-bed5-70f31aee87a9",
   "metadata": {},
   "outputs": [],
   "source": [
    "pd.DataFrame({'preds':test_preds,'scores':test_scores}).to_parquet('TFIDF_preds_test.parquet')"
   ]
  },
  {
   "cell_type": "code",
   "execution_count": 57,
   "id": "d651c951-cb45-4a42-a0c7-72b5c41188d2",
   "metadata": {},
   "outputs": [],
   "source": [
    "sample_sub = pd.read_csv('TFIDFV2.csv')\n",
    "test_id = sample_sub['user_id'].tolist()"
   ]
  },
  {
   "cell_type": "code",
   "execution_count": 58,
   "id": "d32d323a-c5be-4d04-82bb-21eb6da34ba9",
   "metadata": {},
   "outputs": [
    {
     "data": {
      "application/vnd.jupyter.widget-view+json": {
       "model_id": "f704f43d3835462696c6f5cd250f7d10",
       "version_major": 2,
       "version_minor": 0
      },
      "text/plain": [
       "  0%|          | 0/152911 [00:00<?, ?it/s]"
      ]
     },
     "metadata": {},
     "output_type": "display_data"
    }
   ],
   "source": [
    "test_preds,test_scores = predict_impl(model,\n",
    "                                      test_id,\n",
    "                                      train_mat,\n",
    "                                      users_mapping,\n",
    "                                      items_inv_mapping,\n",
    "                                      N=100,\n",
    "                                      falh=True)"
   ]
  },
  {
   "cell_type": "code",
   "execution_count": 164,
   "id": "e489c386-cbb5-4f83-afda-50d78e45c95d",
   "metadata": {},
   "outputs": [],
   "source": [
    "predicted_cols=[' '.join(map(str, i)) for i in test_preds]\n",
    "sample_sub['recommendation'] = predicted_cols"
   ]
  },
  {
   "cell_type": "code",
   "execution_count": 166,
   "id": "b98ef1ad-5cf4-45f0-ad9a-d0bdf6f3ec92",
   "metadata": {},
   "outputs": [],
   "source": [
    "sample_sub['count_tr'] = sample_sub['recommendation'].map(lambda x: len(x.split()))"
   ]
  },
  {
   "cell_type": "code",
   "execution_count": 167,
   "id": "1046a60e-8f62-4e99-8681-b2666940dbf9",
   "metadata": {},
   "outputs": [
    {
     "data": {
      "text/html": [
       "<div>\n",
       "<style scoped>\n",
       "    .dataframe tbody tr th:only-of-type {\n",
       "        vertical-align: middle;\n",
       "    }\n",
       "\n",
       "    .dataframe tbody tr th {\n",
       "        vertical-align: top;\n",
       "    }\n",
       "\n",
       "    .dataframe thead th {\n",
       "        text-align: right;\n",
       "    }\n",
       "</style>\n",
       "<table border=\"1\" class=\"dataframe\">\n",
       "  <thead>\n",
       "    <tr style=\"text-align: right;\">\n",
       "      <th></th>\n",
       "      <th>user_id</th>\n",
       "      <th>recommendation</th>\n",
       "      <th>count_tr</th>\n",
       "    </tr>\n",
       "  </thead>\n",
       "  <tbody>\n",
       "    <tr>\n",
       "      <th>98527</th>\n",
       "      <td>22025</td>\n",
       "      <td>180173 143427 16701 74601 252568 222751</td>\n",
       "      <td>6</td>\n",
       "    </tr>\n",
       "    <tr>\n",
       "      <th>98927</th>\n",
       "      <td>78973</td>\n",
       "      <td>29784 120362</td>\n",
       "      <td>2</td>\n",
       "    </tr>\n",
       "    <tr>\n",
       "      <th>144672</th>\n",
       "      <td>55148</td>\n",
       "      <td>137219 2538 149457 141781 79672 251129 24127 2...</td>\n",
       "      <td>9</td>\n",
       "    </tr>\n",
       "  </tbody>\n",
       "</table>\n",
       "</div>"
      ],
      "text/plain": [
       "        user_id                                     recommendation  count_tr\n",
       "98527     22025            180173 143427 16701 74601 252568 222751         6\n",
       "98927     78973                                       29784 120362         2\n",
       "144672    55148  137219 2538 149457 141781 79672 251129 24127 2...         9"
      ]
     },
     "execution_count": 167,
     "metadata": {},
     "output_type": "execute_result"
    }
   ],
   "source": [
    "sample_sub[sample_sub['count_tr'] != 10]"
   ]
  },
  {
   "cell_type": "code",
   "execution_count": 168,
   "id": "45e43620-e490-4e67-a381-fff4c886989d",
   "metadata": {},
   "outputs": [
    {
     "name": "stderr",
     "output_type": "stream",
     "text": [
      "/tmp/ipykernel_174/3122395054.py:2: SettingWithCopyWarning: \n",
      "A value is trying to be set on a copy of a slice from a DataFrame\n",
      "\n",
      "See the caveats in the documentation: https://pandas.pydata.org/pandas-docs/stable/user_guide/indexing.html#returning-a-view-versus-a-copy\n",
      "  recs[98527] = '24671 65611 45311 132648 217384 34204 166282 51799 131005 188589'\n",
      "/tmp/ipykernel_174/3122395054.py:3: SettingWithCopyWarning: \n",
      "A value is trying to be set on a copy of a slice from a DataFrame\n",
      "\n",
      "See the caveats in the documentation: https://pandas.pydata.org/pandas-docs/stable/user_guide/indexing.html#returning-a-view-versus-a-copy\n",
      "  recs[98927] = '24671 65611 45311 132648 217384 34204 166282 51799 131005 188589'\n",
      "/tmp/ipykernel_174/3122395054.py:4: SettingWithCopyWarning: \n",
      "A value is trying to be set on a copy of a slice from a DataFrame\n",
      "\n",
      "See the caveats in the documentation: https://pandas.pydata.org/pandas-docs/stable/user_guide/indexing.html#returning-a-view-versus-a-copy\n",
      "  recs[144672] = '24671 65611 45311 132648 217384 34204 166282 51799 131005 188589'\n"
     ]
    }
   ],
   "source": [
    "recs = sample_sub['recommendation']\n",
    "recs[98527] = '24671 65611 45311 132648 217384 34204 166282 51799 131005 188589'\n",
    "recs[98927] = '24671 65611 45311 132648 217384 34204 166282 51799 131005 188589'\n",
    "recs[144672] = '24671 65611 45311 132648 217384 34204 166282 51799 131005 188589'"
   ]
  },
  {
   "cell_type": "code",
   "execution_count": 169,
   "id": "de04e732-18db-4259-ba5a-1e1ff9414f73",
   "metadata": {},
   "outputs": [],
   "source": [
    "sample_sub['recommendation'] = recs"
   ]
  },
  {
   "cell_type": "code",
   "execution_count": 170,
   "id": "cc7e2bb3-0aa7-4423-b90e-048068c15923",
   "metadata": {},
   "outputs": [],
   "source": [
    "sample_sub[['recommendation','user_id']].to_csv('TF_IDF_REWEIGHTV2_025.csv',index=False)"
   ]
  },
  {
   "cell_type": "code",
   "execution_count": 172,
   "id": "fa96dbcc-51ab-41be-83a3-c42b2b9b3fa8",
   "metadata": {},
   "outputs": [
    {
     "data": {
      "text/html": [
       "<div>\n",
       "<style scoped>\n",
       "    .dataframe tbody tr th:only-of-type {\n",
       "        vertical-align: middle;\n",
       "    }\n",
       "\n",
       "    .dataframe tbody tr th {\n",
       "        vertical-align: top;\n",
       "    }\n",
       "\n",
       "    .dataframe thead th {\n",
       "        text-align: right;\n",
       "    }\n",
       "</style>\n",
       "<table border=\"1\" class=\"dataframe\">\n",
       "  <thead>\n",
       "    <tr style=\"text-align: right;\">\n",
       "      <th></th>\n",
       "      <th>user_id</th>\n",
       "      <th>recommendation</th>\n",
       "      <th>count_tr</th>\n",
       "    </tr>\n",
       "  </thead>\n",
       "  <tbody>\n",
       "    <tr>\n",
       "      <th>0</th>\n",
       "      <td>938</td>\n",
       "      <td>38943 207669 6 18999 137366 14803 245475 72256...</td>\n",
       "      <td>10</td>\n",
       "    </tr>\n",
       "    <tr>\n",
       "      <th>1</th>\n",
       "      <td>57571</td>\n",
       "      <td>34204 169519 188589 166282 137447 54812 214736...</td>\n",
       "      <td>10</td>\n",
       "    </tr>\n",
       "    <tr>\n",
       "      <th>2</th>\n",
       "      <td>50873</td>\n",
       "      <td>37487 3402 200362 52442 70460 148191 248427 15...</td>\n",
       "      <td>10</td>\n",
       "    </tr>\n",
       "    <tr>\n",
       "      <th>3</th>\n",
       "      <td>4335</td>\n",
       "      <td>131005 188589 34204 169519 133062 13009 166282...</td>\n",
       "      <td>10</td>\n",
       "    </tr>\n",
       "    <tr>\n",
       "      <th>4</th>\n",
       "      <td>42138</td>\n",
       "      <td>73271 230006 170373 51799 193601 131005 188589...</td>\n",
       "      <td>10</td>\n",
       "    </tr>\n",
       "    <tr>\n",
       "      <th>...</th>\n",
       "      <td>...</td>\n",
       "      <td>...</td>\n",
       "      <td>...</td>\n",
       "    </tr>\n",
       "    <tr>\n",
       "      <th>152906</th>\n",
       "      <td>79591</td>\n",
       "      <td>117763 230387 108084 10748 58865 62430 22914 1...</td>\n",
       "      <td>10</td>\n",
       "    </tr>\n",
       "    <tr>\n",
       "      <th>152907</th>\n",
       "      <td>93648</td>\n",
       "      <td>188589 131005 89801 34204 166282 193340 166825...</td>\n",
       "      <td>10</td>\n",
       "    </tr>\n",
       "    <tr>\n",
       "      <th>152908</th>\n",
       "      <td>42337</td>\n",
       "      <td>166825 245475 169519 207669 131005 34204 10356...</td>\n",
       "      <td>10</td>\n",
       "    </tr>\n",
       "    <tr>\n",
       "      <th>152909</th>\n",
       "      <td>4694</td>\n",
       "      <td>248488 7216 224218 153743 68214 169519 131005 ...</td>\n",
       "      <td>10</td>\n",
       "    </tr>\n",
       "    <tr>\n",
       "      <th>152910</th>\n",
       "      <td>25414</td>\n",
       "      <td>13009 133062 169519 89274 166282 34204 131005 ...</td>\n",
       "      <td>10</td>\n",
       "    </tr>\n",
       "  </tbody>\n",
       "</table>\n",
       "<p>152911 rows × 3 columns</p>\n",
       "</div>"
      ],
      "text/plain": [
       "        user_id                                     recommendation  count_tr\n",
       "0           938  38943 207669 6 18999 137366 14803 245475 72256...        10\n",
       "1         57571  34204 169519 188589 166282 137447 54812 214736...        10\n",
       "2         50873  37487 3402 200362 52442 70460 148191 248427 15...        10\n",
       "3          4335  131005 188589 34204 169519 133062 13009 166282...        10\n",
       "4         42138  73271 230006 170373 51799 193601 131005 188589...        10\n",
       "...         ...                                                ...       ...\n",
       "152906    79591  117763 230387 108084 10748 58865 62430 22914 1...        10\n",
       "152907    93648  188589 131005 89801 34204 166282 193340 166825...        10\n",
       "152908    42337  166825 245475 169519 207669 131005 34204 10356...        10\n",
       "152909     4694  248488 7216 224218 153743 68214 169519 131005 ...        10\n",
       "152910    25414  13009 133062 169519 89274 166282 34204 131005 ...        10\n",
       "\n",
       "[152911 rows x 3 columns]"
      ]
     },
     "execution_count": 172,
     "metadata": {},
     "output_type": "execute_result"
    }
   ],
   "source": [
    "sample_sub"
   ]
  },
  {
   "cell_type": "code",
   "execution_count": null,
   "id": "afef5fb7-c20c-4f7a-b1cc-a3dbae692f81",
   "metadata": {},
   "outputs": [],
   "source": []
  }
 ],
 "metadata": {
  "kernelspec": {
   "display_name": "Python 3 (ipykernel)",
   "language": "python",
   "name": "python3"
  },
  "language_info": {
   "codemirror_mode": {
    "name": "ipython",
    "version": 3
   },
   "file_extension": ".py",
   "mimetype": "text/x-python",
   "name": "python",
   "nbconvert_exporter": "python",
   "pygments_lexer": "ipython3",
   "version": "3.9.16"
  }
 },
 "nbformat": 4,
 "nbformat_minor": 5
}
