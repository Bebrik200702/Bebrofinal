{
 "cells": [
  {
   "cell_type": "code",
   "execution_count": 1,
   "id": "692352fd-18c0-4f66-9ed2-73686e6cb068",
   "metadata": {
    "tags": []
   },
   "outputs": [],
   "source": [
    "import pandas as pd\n",
    "import numpy as np\n",
    "from catboost import CatBoostClassifier, Pool\n",
    "from sklearn.model_selection import train_test_split, TimeSeriesSplit, StratifiedKFold, StratifiedGroupKFold\n",
    "from sklearn.metrics import roc_auc_score\n",
    "import random\n",
    "from statistics import mean\n",
    "from tqdm.auto import tqdm, trange\n",
    "from sklearn.base import BaseEstimator"
   ]
  },
  {
   "cell_type": "code",
   "execution_count": 29,
   "id": "9f73a100-7ef0-4246-aa16-035be757ac1e",
   "metadata": {
    "tags": []
   },
   "outputs": [],
   "source": [
    "train_data = pd.read_csv('dodohack/Data Secrets First Cup/train_target.csv',parse_dates=['LocalBeginDate','LocalEndDate'])\n",
    "test_data = pd.read_csv('dodohack/Data Secrets First Cup/test.csv',parse_dates=['LocalBeginDate','LocalEndDate'])\n",
    "sample_submit = pd.read_csv('dodohack/Data Secrets First Cup/submit.csv')\n",
    "orders_data = pd.read_csv('dodohack/Data Secrets First Cup/orders.csv',parse_dates=['SaleDate','Date'])\n",
    "mobile_data = pd.read_csv('dodohack/Data Secrets First Cup/mobile_events.csv',parse_dates=['Timestamp'])\n",
    "clients_data = pd.read_csv('dodohack/Data Secrets First Cup/clients_promo_october.csv',parse_dates=['LocalBeginDate','LocalEndDate'])"
   ]
  },
  {
   "cell_type": "code",
   "execution_count": 3,
   "id": "53f9e6ea-c591-48d1-841f-3bdef76e4b67",
   "metadata": {
    "tags": []
   },
   "outputs": [],
   "source": [
    "def mounth_count_day(x):\n",
    "    months = [31,28,31,30,31,30,31,31,30,31,30,31]\n",
    "    return sum(months[:x])\n",
    "\n",
    "def create_time_features(df,time_col):\n",
    "    df['month'] = df[time_col].dt.month\n",
    "    df['day'] = df[time_col].dt.day\n",
    "    df['hour'] = df[time_col].dt.hour\n",
    "    df['year'] = df[time_col].dt.year\n",
    "    df['weekofyear'] = df[time_col].apply(lambda x: x.weekofyear)\n",
    "    df['dayofweek'] = df[time_col].dt.dayofweek\n",
    "    df['dayofyear'] = df[time_col].dt.dayofyear\n",
    "    df['absolute_time'] = (df[time_col] - df[time_col].min()).dt.days\n",
    "    \n",
    "    df['all_day_time'] = df[time_col].apply(lambda x: x.hour * 3600 + x.minute * 60 + x.second)\n",
    "    df['all_week_time'] = df[time_col].apply(lambda x: x.dayofweek * 24 + x.hour)\n",
    "    \n",
    "    df['cl_early_morning'] = ((df['hour'] > 4) & (df['hour'] <= 8)).astype('int16')\n",
    "    df['cl_is_weekend'] = (df['dayofweek'] > 4).astype('int16')\n",
    "    return df"
   ]
  },
  {
   "cell_type": "code",
   "execution_count": 4,
   "id": "41f06e2e-96b6-4e75-94bb-cb99149a87f4",
   "metadata": {
    "tags": []
   },
   "outputs": [],
   "source": [
    "mobile_data = create_time_features(mobile_data,'Timestamp')\n",
    "orders_data = create_time_features(orders_data,'SaleDate')"
   ]
  },
  {
   "cell_type": "code",
   "execution_count": 5,
   "id": "e7bc10e9-b341-49fa-8b7b-33089b420b7c",
   "metadata": {
    "tags": []
   },
   "outputs": [
    {
     "data": {
      "text/html": [
       "<div>\n",
       "<style scoped>\n",
       "    .dataframe tbody tr th:only-of-type {\n",
       "        vertical-align: middle;\n",
       "    }\n",
       "\n",
       "    .dataframe tbody tr th {\n",
       "        vertical-align: top;\n",
       "    }\n",
       "\n",
       "    .dataframe thead th {\n",
       "        text-align: right;\n",
       "    }\n",
       "</style>\n",
       "<table border=\"1\" class=\"dataframe\">\n",
       "  <thead>\n",
       "    <tr style=\"text-align: right;\">\n",
       "      <th></th>\n",
       "      <th>ClientUUId</th>\n",
       "      <th>VisitToken</th>\n",
       "      <th>EventName</th>\n",
       "      <th>Platform</th>\n",
       "      <th>Timestamp</th>\n",
       "      <th>month</th>\n",
       "      <th>day</th>\n",
       "      <th>hour</th>\n",
       "      <th>year</th>\n",
       "      <th>weekofyear</th>\n",
       "      <th>dayofweek</th>\n",
       "      <th>dayofyear</th>\n",
       "      <th>absolute_time</th>\n",
       "      <th>all_day_time</th>\n",
       "      <th>all_week_time</th>\n",
       "      <th>cl_early_morning</th>\n",
       "      <th>cl_is_weekend</th>\n",
       "    </tr>\n",
       "  </thead>\n",
       "  <tbody>\n",
       "    <tr>\n",
       "      <th>0</th>\n",
       "      <td>000D3A22FA54A81611EB315CF5443815</td>\n",
       "      <td>976627AD-76DC-41D9-981E-F2A6CA14B3A9</td>\n",
       "      <td>screen_menu</td>\n",
       "      <td>ios</td>\n",
       "      <td>2023-10-29 16:14:21.343000+00:00</td>\n",
       "      <td>10</td>\n",
       "      <td>29</td>\n",
       "      <td>16</td>\n",
       "      <td>2023</td>\n",
       "      <td>43</td>\n",
       "      <td>6</td>\n",
       "      <td>302</td>\n",
       "      <td>387</td>\n",
       "      <td>58461</td>\n",
       "      <td>160</td>\n",
       "      <td>0</td>\n",
       "      <td>1</td>\n",
       "    </tr>\n",
       "    <tr>\n",
       "      <th>1</th>\n",
       "      <td>2A4A64AF719E994511EE3F2D8B31E188</td>\n",
       "      <td>5b22e610-c71e-4b6a-a842-71e8575ece87</td>\n",
       "      <td>screen_menu</td>\n",
       "      <td>android</td>\n",
       "      <td>2023-10-29 11:04:36.484000+00:00</td>\n",
       "      <td>10</td>\n",
       "      <td>29</td>\n",
       "      <td>11</td>\n",
       "      <td>2023</td>\n",
       "      <td>43</td>\n",
       "      <td>6</td>\n",
       "      <td>302</td>\n",
       "      <td>386</td>\n",
       "      <td>39876</td>\n",
       "      <td>155</td>\n",
       "      <td>0</td>\n",
       "      <td>1</td>\n",
       "    </tr>\n",
       "    <tr>\n",
       "      <th>2</th>\n",
       "      <td>000D3AAC977BBB2F11ECDD081F5481AE</td>\n",
       "      <td>BDCEB72F-2B6A-4565-801A-6CB729279C6F</td>\n",
       "      <td>open_app</td>\n",
       "      <td>ios</td>\n",
       "      <td>2023-10-29 11:14:34.723000+00:00</td>\n",
       "      <td>10</td>\n",
       "      <td>29</td>\n",
       "      <td>11</td>\n",
       "      <td>2023</td>\n",
       "      <td>43</td>\n",
       "      <td>6</td>\n",
       "      <td>302</td>\n",
       "      <td>386</td>\n",
       "      <td>40474</td>\n",
       "      <td>155</td>\n",
       "      <td>0</td>\n",
       "      <td>1</td>\n",
       "    </tr>\n",
       "    <tr>\n",
       "      <th>3</th>\n",
       "      <td>000D3A21DA51A81411EAE468856F96F1</td>\n",
       "      <td>A66E2DA6-4E2E-4C37-9FBF-627732623212</td>\n",
       "      <td>add_to_cart</td>\n",
       "      <td>ios</td>\n",
       "      <td>2023-10-29 14:03:08.363000+00:00</td>\n",
       "      <td>10</td>\n",
       "      <td>29</td>\n",
       "      <td>14</td>\n",
       "      <td>2023</td>\n",
       "      <td>43</td>\n",
       "      <td>6</td>\n",
       "      <td>302</td>\n",
       "      <td>387</td>\n",
       "      <td>50588</td>\n",
       "      <td>158</td>\n",
       "      <td>0</td>\n",
       "      <td>1</td>\n",
       "    </tr>\n",
       "    <tr>\n",
       "      <th>4</th>\n",
       "      <td>000D3A23B0DC80D811E67F4D0A9CA345</td>\n",
       "      <td>1BE8139F-A3D3-439F-A51B-5CBD4D3FFF1B</td>\n",
       "      <td>screen_menu</td>\n",
       "      <td>ios</td>\n",
       "      <td>2023-10-29 08:35:40.127000+00:00</td>\n",
       "      <td>10</td>\n",
       "      <td>29</td>\n",
       "      <td>8</td>\n",
       "      <td>2023</td>\n",
       "      <td>43</td>\n",
       "      <td>6</td>\n",
       "      <td>302</td>\n",
       "      <td>386</td>\n",
       "      <td>30940</td>\n",
       "      <td>152</td>\n",
       "      <td>1</td>\n",
       "      <td>1</td>\n",
       "    </tr>\n",
       "    <tr>\n",
       "      <th>...</th>\n",
       "      <td>...</td>\n",
       "      <td>...</td>\n",
       "      <td>...</td>\n",
       "      <td>...</td>\n",
       "      <td>...</td>\n",
       "      <td>...</td>\n",
       "      <td>...</td>\n",
       "      <td>...</td>\n",
       "      <td>...</td>\n",
       "      <td>...</td>\n",
       "      <td>...</td>\n",
       "      <td>...</td>\n",
       "      <td>...</td>\n",
       "      <td>...</td>\n",
       "      <td>...</td>\n",
       "      <td>...</td>\n",
       "      <td>...</td>\n",
       "    </tr>\n",
       "    <tr>\n",
       "      <th>3916649</th>\n",
       "      <td>000D3A25D54580E011E707D4762E0C84</td>\n",
       "      <td>C5EC0144-6C3C-45C2-B0A4-A7A2B6B45444</td>\n",
       "      <td>open_app</td>\n",
       "      <td>ios</td>\n",
       "      <td>2023-10-14 06:00:21.558000+00:00</td>\n",
       "      <td>10</td>\n",
       "      <td>14</td>\n",
       "      <td>6</td>\n",
       "      <td>2023</td>\n",
       "      <td>41</td>\n",
       "      <td>5</td>\n",
       "      <td>287</td>\n",
       "      <td>371</td>\n",
       "      <td>21621</td>\n",
       "      <td>126</td>\n",
       "      <td>1</td>\n",
       "      <td>1</td>\n",
       "    </tr>\n",
       "    <tr>\n",
       "      <th>3916650</th>\n",
       "      <td>CEA31E584572ADD411ED0E4D10ED070E</td>\n",
       "      <td>5a8b6b6c-e4ad-4fd9-aad9-895fa987ddf1</td>\n",
       "      <td>screen_profile</td>\n",
       "      <td>android</td>\n",
       "      <td>2023-10-13 12:55:57.752000+00:00</td>\n",
       "      <td>10</td>\n",
       "      <td>13</td>\n",
       "      <td>12</td>\n",
       "      <td>2023</td>\n",
       "      <td>41</td>\n",
       "      <td>4</td>\n",
       "      <td>286</td>\n",
       "      <td>370</td>\n",
       "      <td>46557</td>\n",
       "      <td>108</td>\n",
       "      <td>0</td>\n",
       "      <td>0</td>\n",
       "    </tr>\n",
       "    <tr>\n",
       "      <th>3916651</th>\n",
       "      <td>000D3A25D54580E011E707D4762E0C84</td>\n",
       "      <td>C5EC0144-6C3C-45C2-B0A4-A7A2B6B45444</td>\n",
       "      <td>close_app</td>\n",
       "      <td>ios</td>\n",
       "      <td>2023-10-14 06:00:21.515000+00:00</td>\n",
       "      <td>10</td>\n",
       "      <td>14</td>\n",
       "      <td>6</td>\n",
       "      <td>2023</td>\n",
       "      <td>41</td>\n",
       "      <td>5</td>\n",
       "      <td>287</td>\n",
       "      <td>371</td>\n",
       "      <td>21621</td>\n",
       "      <td>126</td>\n",
       "      <td>1</td>\n",
       "      <td>1</td>\n",
       "    </tr>\n",
       "    <tr>\n",
       "      <th>3916652</th>\n",
       "      <td>CEA31E584572ADD411ED0E4D10ED070E</td>\n",
       "      <td>5a8b6b6c-e4ad-4fd9-aad9-895fa987ddf1</td>\n",
       "      <td>screen_menu</td>\n",
       "      <td>android</td>\n",
       "      <td>2023-10-13 12:55:56.303000+00:00</td>\n",
       "      <td>10</td>\n",
       "      <td>13</td>\n",
       "      <td>12</td>\n",
       "      <td>2023</td>\n",
       "      <td>41</td>\n",
       "      <td>4</td>\n",
       "      <td>286</td>\n",
       "      <td>370</td>\n",
       "      <td>46556</td>\n",
       "      <td>108</td>\n",
       "      <td>0</td>\n",
       "      <td>0</td>\n",
       "    </tr>\n",
       "    <tr>\n",
       "      <th>3916653</th>\n",
       "      <td>000D3A25D54580E011E707D4762E0C84</td>\n",
       "      <td>C5EC0144-6C3C-45C2-B0A4-A7A2B6B45444</td>\n",
       "      <td>close_app</td>\n",
       "      <td>ios</td>\n",
       "      <td>2023-10-14 06:00:21.558000+00:00</td>\n",
       "      <td>10</td>\n",
       "      <td>14</td>\n",
       "      <td>6</td>\n",
       "      <td>2023</td>\n",
       "      <td>41</td>\n",
       "      <td>5</td>\n",
       "      <td>287</td>\n",
       "      <td>371</td>\n",
       "      <td>21621</td>\n",
       "      <td>126</td>\n",
       "      <td>1</td>\n",
       "      <td>1</td>\n",
       "    </tr>\n",
       "  </tbody>\n",
       "</table>\n",
       "<p>3916654 rows × 17 columns</p>\n",
       "</div>"
      ],
      "text/plain": [
       "                               ClientUUId  \\\n",
       "0        000D3A22FA54A81611EB315CF5443815   \n",
       "1        2A4A64AF719E994511EE3F2D8B31E188   \n",
       "2        000D3AAC977BBB2F11ECDD081F5481AE   \n",
       "3        000D3A21DA51A81411EAE468856F96F1   \n",
       "4        000D3A23B0DC80D811E67F4D0A9CA345   \n",
       "...                                   ...   \n",
       "3916649  000D3A25D54580E011E707D4762E0C84   \n",
       "3916650  CEA31E584572ADD411ED0E4D10ED070E   \n",
       "3916651  000D3A25D54580E011E707D4762E0C84   \n",
       "3916652  CEA31E584572ADD411ED0E4D10ED070E   \n",
       "3916653  000D3A25D54580E011E707D4762E0C84   \n",
       "\n",
       "                                   VisitToken       EventName Platform  \\\n",
       "0        976627AD-76DC-41D9-981E-F2A6CA14B3A9     screen_menu      ios   \n",
       "1        5b22e610-c71e-4b6a-a842-71e8575ece87     screen_menu  android   \n",
       "2        BDCEB72F-2B6A-4565-801A-6CB729279C6F        open_app      ios   \n",
       "3        A66E2DA6-4E2E-4C37-9FBF-627732623212     add_to_cart      ios   \n",
       "4        1BE8139F-A3D3-439F-A51B-5CBD4D3FFF1B     screen_menu      ios   \n",
       "...                                       ...             ...      ...   \n",
       "3916649  C5EC0144-6C3C-45C2-B0A4-A7A2B6B45444        open_app      ios   \n",
       "3916650  5a8b6b6c-e4ad-4fd9-aad9-895fa987ddf1  screen_profile  android   \n",
       "3916651  C5EC0144-6C3C-45C2-B0A4-A7A2B6B45444       close_app      ios   \n",
       "3916652  5a8b6b6c-e4ad-4fd9-aad9-895fa987ddf1     screen_menu  android   \n",
       "3916653  C5EC0144-6C3C-45C2-B0A4-A7A2B6B45444       close_app      ios   \n",
       "\n",
       "                               Timestamp  month  day  hour  year  weekofyear  \\\n",
       "0       2023-10-29 16:14:21.343000+00:00     10   29    16  2023          43   \n",
       "1       2023-10-29 11:04:36.484000+00:00     10   29    11  2023          43   \n",
       "2       2023-10-29 11:14:34.723000+00:00     10   29    11  2023          43   \n",
       "3       2023-10-29 14:03:08.363000+00:00     10   29    14  2023          43   \n",
       "4       2023-10-29 08:35:40.127000+00:00     10   29     8  2023          43   \n",
       "...                                  ...    ...  ...   ...   ...         ...   \n",
       "3916649 2023-10-14 06:00:21.558000+00:00     10   14     6  2023          41   \n",
       "3916650 2023-10-13 12:55:57.752000+00:00     10   13    12  2023          41   \n",
       "3916651 2023-10-14 06:00:21.515000+00:00     10   14     6  2023          41   \n",
       "3916652 2023-10-13 12:55:56.303000+00:00     10   13    12  2023          41   \n",
       "3916653 2023-10-14 06:00:21.558000+00:00     10   14     6  2023          41   \n",
       "\n",
       "         dayofweek  dayofyear  absolute_time  all_day_time  all_week_time  \\\n",
       "0                6        302            387         58461            160   \n",
       "1                6        302            386         39876            155   \n",
       "2                6        302            386         40474            155   \n",
       "3                6        302            387         50588            158   \n",
       "4                6        302            386         30940            152   \n",
       "...            ...        ...            ...           ...            ...   \n",
       "3916649          5        287            371         21621            126   \n",
       "3916650          4        286            370         46557            108   \n",
       "3916651          5        287            371         21621            126   \n",
       "3916652          4        286            370         46556            108   \n",
       "3916653          5        287            371         21621            126   \n",
       "\n",
       "         cl_early_morning  cl_is_weekend  \n",
       "0                       0              1  \n",
       "1                       0              1  \n",
       "2                       0              1  \n",
       "3                       0              1  \n",
       "4                       1              1  \n",
       "...                   ...            ...  \n",
       "3916649                 1              1  \n",
       "3916650                 0              0  \n",
       "3916651                 1              1  \n",
       "3916652                 0              0  \n",
       "3916653                 1              1  \n",
       "\n",
       "[3916654 rows x 17 columns]"
      ]
     },
     "execution_count": 5,
     "metadata": {},
     "output_type": "execute_result"
    }
   ],
   "source": [
    "mobile_data"
   ]
  },
  {
   "cell_type": "code",
   "execution_count": 6,
   "id": "e904afb1-f0c1-4229-be15-b143ca639145",
   "metadata": {
    "tags": []
   },
   "outputs": [],
   "source": [
    "def get_shift_features(data,time_col='absolute_time',user_col='ClientUUId',prefix=''):\n",
    "    shift_time = data.groupby(user_col)[time_col].agg(lambda x: np.diff(np.sort(x)).tolist())\n",
    "    shift_features = pd.DataFrame(index=shift_time.index)\n",
    "    shift_features[f'{prefix}_mean'] = shift_time.apply(np.mean)\n",
    "    shift_features[f'{prefix}_min'] = shift_time.apply(np.min)\n",
    "    shift_features[f'{prefix}_max'] = shift_time.apply(np.max)\n",
    "    shift_features[f'{prefix}_std'] = shift_time.apply(np.std)\n",
    "    shift_features[f'{prefix}_polyfit'] = shift_time.apply(lambda x:np.polyfit(range(len(x)), x, 1)[1] if len(x) > 10 else -100)\n",
    "    shift_features[f'{prefix}_polyfit_st'] = shift_time.apply(lambda x:np.polyfit(range(len(x)), x, 1)[0] if len(x) > 10 else -100)\n",
    "    return shift_features\n",
    "\n",
    "def get_shift_features(data,time_col='absolute_time',user_col='ClientUUId',prefix=''):\n",
    "    shift_time = data.groupby(user_col)[time_col].agg(lambda x: np.diff(np.sort(x)).tolist())\n",
    "    shift_features = pd.DataFrame(index=shift_time.index)\n",
    "    shift_features[f'{prefix}_mean'] = shift_time.apply(np.mean)\n",
    "    shift_features[f'{prefix}_min'] = shift_time.apply(np.min)\n",
    "    shift_features[f'{prefix}_max'] = shift_time.apply(np.max)\n",
    "    shift_features[f'{prefix}_std'] = shift_time.apply(np.std)\n",
    "    shift_features[f'{prefix}_polyfit'] = shift_time.apply(lambda x:np.polyfit(range(len(x)), x, 1)[1] if len(x) > 10 else -100)\n",
    "    shift_features[f'{prefix}_polyfit_st'] = shift_time.apply(lambda x:np.polyfit(range(len(x)), x, 1)[0] if len(x) > 10 else -100)\n",
    "    return shift_features\n",
    "\n",
    "\n",
    "def get_mobile_data_features(mobile_data):\n",
    "    time_day_feats = mobile_data.groupby('ClientUUId')['absolute_time'].agg(['min','max','mean','std','nunique','count'])\n",
    "    time_day_feats['diff'] = time_day_feats['max'] - time_day_feats['min']\n",
    "    time_day_feats['otn_diff'] = time_day_feats['diff'] / time_day_feats['mean']\n",
    "    time_day_feats['designity'] = time_day_feats['nunique'] / time_day_feats['count']\n",
    "    time_day_feats.columns = [f'mobile_time_{x}' for x in time_day_feats.columns]\n",
    "    \n",
    "    time_shift_feats = get_shift_features(mobile_data,prefix='mobile_data')\n",
    "    \n",
    "    time_hour_features = mobile_data.groupby('ClientUUId')['hour'].agg(['min','max','mean','std','nunique'])\n",
    "    time_hour_features.columns = [f'mobile_hour_{x}' for x in time_hour_features.columns]\n",
    "    \n",
    "    \n",
    "    platform_featues = pd.pivot_table(\n",
    "                             mobile_data,\n",
    "                             index =['ClientUUId'],\n",
    "                             values=['absolute_time'],\n",
    "                             columns=['Platform'],\n",
    "                             aggfunc=['count','nunique','mean','min','max','std']\n",
    "    ).fillna(-1).sort_index()\n",
    "    \n",
    "    event_featues = pd.pivot_table(\n",
    "                             mobile_data,\n",
    "                             index =['ClientUUId'],\n",
    "                             values=['absolute_time'],\n",
    "                             columns=['EventName'],\n",
    "                             aggfunc=['count','nunique','mean','min','max','std']\n",
    "    ).fillna(-1).sort_index()\n",
    "    \n",
    "    day_of_week_featues = pd.pivot_table(\n",
    "                             mobile_data,\n",
    "                             index =['ClientUUId'],\n",
    "                             values=['dayofweek'],\n",
    "                             columns=['EventName'],\n",
    "                             aggfunc=['count','nunique','mean']\n",
    "    ).fillna(-1).sort_index()\n",
    "\n",
    "    \n",
    "    hour_counters = pd.pivot_table(\n",
    "                             mobile_data,\n",
    "                             index =['ClientUUId'],\n",
    "                             values=['absolute_time'],\n",
    "                             columns=['hour'],\n",
    "                             aggfunc=['count','nunique','mean']\n",
    "    ).fillna(-1).sort_index()\n",
    "    \n",
    "    platform_featues.columns = [f'mobile_platform_{x[0]}_{x[2]}' for x in platform_featues.columns]\n",
    "    event_featues.columns = [f'mobile_event_{x[0]}_{x[2]}' for x in event_featues.columns]\n",
    "    hour_counters.columns = [f'mobile_hour_{x[0]}_{x[2]}' for x in hour_counters.columns]\n",
    "    day_of_week_featues.columns = [f'mobile_dayofweek_{x[0]}_{x[2]}' for x in day_of_week_featues.columns]\n",
    "    \n",
    "    mobile_data['VisitToken_count'] = mobile_data.groupby('VisitToken')['EventName'].transform('count')\n",
    "    visitors_features = mobile_data.groupby('ClientUUId')['VisitToken_count'].agg(['min','max','mean','std'])\n",
    "    visitors_features.columns = [f'mobile_visitors_{x}' for x in visitors_features.columns]\n",
    "    visitors_features['mobile_visitors_nunique'] = mobile_data.groupby('ClientUUId')['VisitToken'].agg('nunique')\n",
    "    \n",
    "    for col in event_featues.columns:\n",
    "        event_featues[f'{col}_otn'] = event_featues[col] / time_day_feats['mobile_time_count']\n",
    "    for col in platform_featues.columns:\n",
    "        platform_featues[f'{col}_otn'] = platform_featues[col] / time_day_feats['mobile_time_count']\n",
    "    \n",
    "    return pd.concat([\n",
    "        time_day_feats,\n",
    "        time_hour_features,\n",
    "        platform_featues,\n",
    "        event_featues,\n",
    "        hour_counters,\n",
    "        visitors_features,\n",
    "        time_shift_feats\n",
    "    ],axis=1)"
   ]
  },
  {
   "cell_type": "code",
   "execution_count": 7,
   "id": "cb1c2702-5d43-4142-ad95-20609433de56",
   "metadata": {
    "tags": []
   },
   "outputs": [],
   "source": [
    "mobile_features = get_mobile_data_features(mobile_data)"
   ]
  },
  {
   "cell_type": "code",
   "execution_count": 8,
   "id": "55a0b055-e038-4aeb-8aec-963d4af4f8d6",
   "metadata": {
    "tags": []
   },
   "outputs": [],
   "source": [
    "def get_clients_features(clients_data):\n",
    "    clients_data['vugoda'] = clients_data['Discount'] / clients_data['OrderPrice']\n",
    "    clients_data['Id+OrderType'] = clients_data['Id'].astype(str) + clients_data['OrderType'].astype(str)\n",
    "    \n",
    "    order_price_feats = clients_data.groupby('ClientUUId')['OrderPrice'].agg(['mean','std','sum','mean','max','count'])\n",
    "    Discount_feats = clients_data.groupby('ClientUUId')['Discount'].agg(['mean','std','sum','mean','max'])\n",
    "    vugoda_feats = clients_data.groupby('ClientUUId')['vugoda'].agg(['mean','std','sum','mean','max'])\n",
    "    \n",
    "    order_price_feats.columns = [f'clients_order_price_{x}' for x in order_price_feats.columns]\n",
    "    Discount_feats.columns = [f'clients_discount_{x}' for x in Discount_feats.columns]\n",
    "    vugoda_feats.columns = [f'clients_vugoda_{x}' for x in vugoda_feats.columns]\n",
    "    \n",
    "    id_features = pd.pivot_table(\n",
    "                             clients_data,\n",
    "                             index =['ClientUUId'],\n",
    "                             values=['OrderPrice',],\n",
    "                             columns=['Id'],\n",
    "                             aggfunc=['count','nunique']\n",
    "    ).fillna(-1).sort_index()\n",
    "    \n",
    "    order_features = pd.pivot_table(\n",
    "                             clients_data,\n",
    "                             index =['ClientUUId'],\n",
    "                             values=['OrderPrice',],\n",
    "                             columns=['OrderType'],\n",
    "                             aggfunc=['count','nunique']\n",
    "    ).fillna(-1).sort_index()\n",
    "    \n",
    "    orderid_features = pd.pivot_table(\n",
    "                             clients_data,\n",
    "                             index =['ClientUUId'],\n",
    "                             values=['OrderPrice'],\n",
    "                             columns=['Id+OrderType'],\n",
    "                             aggfunc=['count',]\n",
    "    ).fillna(-1).sort_index()\n",
    "    \n",
    "    id_features.columns = [f'clients_id_{x[0]}_{x[1]}_{x[2]}' for x in id_features.columns]\n",
    "    order_features.columns = [f'clients_order_{x[0]}_{x[1]}_{x[2]}' for x in order_features.columns]\n",
    "    orderid_features.columns = [f'clients_orderid_{x[0]}_{x[2]}' for x in orderid_features.columns]\n",
    "\n",
    "    return pd.concat([\n",
    "        id_features,\n",
    "        order_features,\n",
    "        orderid_features,\n",
    "        order_price_feats,\n",
    "        Discount_feats,\n",
    "        vugoda_feats\n",
    "    ],axis=1)"
   ]
  },
  {
   "cell_type": "code",
   "execution_count": 9,
   "id": "d74c691f-875a-4cc4-851c-bdfe5f19b2a3",
   "metadata": {
    "tags": []
   },
   "outputs": [],
   "source": [
    "clients_features = get_clients_features(clients_data)"
   ]
  },
  {
   "cell_type": "code",
   "execution_count": 10,
   "id": "e6e217e2-5a96-4c19-a789-896727e4aec2",
   "metadata": {
    "tags": []
   },
   "outputs": [],
   "source": [
    "def get_order_data_feats(orders_data):\n",
    "    time_day_feats = mobile_data.groupby('ClientUUId')['absolute_time'].agg(['min','max','mean','std','nunique','count'])\n",
    "    time_day_feats['diff'] = time_day_feats['max'] - time_day_feats['min']\n",
    "    time_day_feats['otn_diff'] = time_day_feats['diff'] / time_day_feats['mean']\n",
    "    time_day_feats['designity'] = time_day_feats['nunique'] / time_day_feats['count']\n",
    "    time_day_feats.columns = [f'order_time_{x}' for x in time_day_feats.columns]\n",
    "    \n",
    "    time_shift_feats = get_shift_features(orders_data,prefix='orders_data')\n",
    "    \n",
    "    orders_data = orders_data.fillna(0)\n",
    "    orders_data['OrderUUId_count'] = orders_data.groupby('OrderUUId').transform('count')['NewClient']\n",
    "    orders_data['addressId_count'] = orders_data.groupby('addressId').transform('count')['NewClient']\n",
    "    orders_data['deliverySectorId_count'] = orders_data.groupby('deliverySectorId').transform('count')['NewClient']\n",
    "    orders_data['UnitUUId_count'] = orders_data.groupby('UnitUUId').transform('count')['NewClient']\n",
    "    orders_data['ProductUUId_count'] = orders_data.groupby('ProductUUId').transform('count')['NewClient']\n",
    "    \n",
    "    orders_data['OrderUUId_appl_mean'] = orders_data.groupby('OrderUUId')['apply_promo'].agg('mean').loc[orders_data['OrderUUId']].values\n",
    "    orders_data['addressId_appl_mean'] = orders_data.groupby('addressId')['apply_promo'].agg('mean').loc[orders_data['addressId']].values\n",
    "    orders_data['deliverySectorId_appl_mean'] = orders_data.groupby('deliverySectorId')['apply_promo'].agg('mean').loc[orders_data['deliverySectorId']].values\n",
    "    orders_data['UnitUUId_appl_mean'] = orders_data.groupby('UnitUUId')['apply_promo'].agg('mean').loc[orders_data['UnitUUId']].values\n",
    "    orders_data['ProductUUId_appl_mean'] = orders_data.groupby('ProductUUId')['apply_promo'].agg('mean').loc[orders_data['ProductUUId']].values\n",
    "\n",
    "    orders_data['Skidka'] = orders_data['MenuPrice'] - orders_data['ProductTotalPrice']\n",
    "    orders_data['Skidka_otn'] = orders_data['Skidka'] / orders_data['ProductTotalPrice']\n",
    "    \n",
    "    appl_features = orders_data.groupby('ClientUUId')['apply_promo'].agg(['mean','count','std','sum'])\n",
    "    newcl_features = orders_data.groupby('ClientUUId')['NewClient'].agg(['sum'])\n",
    "    appl_features.columns = [f'order_appl_{x}' for x in appl_features.columns]\n",
    "    newcl_features.columns = [f'order_newcl_{x}' for x in newcl_features.columns]\n",
    "    \n",
    "    category_features = pd.pivot_table(\n",
    "                             orders_data,\n",
    "                             index =['ClientUUId'],\n",
    "                             values=['MenuPrice'],\n",
    "                             columns=['apply_promo','CategoryId'],\n",
    "                             aggfunc=['count','sum']\n",
    "    ).fillna(-1).sort_index()\n",
    "    \n",
    "    payment_features = pd.pivot_table(\n",
    "                             orders_data,\n",
    "                             index =['ClientUUId'],\n",
    "                             values=['MenuPrice'],\n",
    "                             columns=['apply_promo','OrderPaymentType'],\n",
    "                             aggfunc=['count','nunique','sum','mean']\n",
    "    ).fillna(-1).sort_index()\n",
    "\n",
    "    \n",
    "    order_features = pd.pivot_table(\n",
    "                             orders_data,\n",
    "                             index =['ClientUUId'],\n",
    "                             values=['MenuPrice'],\n",
    "                             columns=['apply_promo','OrderType'],\n",
    "                             aggfunc=['count','nunique','sum','mean']\n",
    "    ).fillna(-1).sort_index()\n",
    "    \n",
    "    order_state_features = pd.pivot_table(\n",
    "                             orders_data,\n",
    "                             index =['ClientUUId'],\n",
    "                             values=['MenuPrice'],\n",
    "                             columns=['apply_promo','OrderState'],\n",
    "                             aggfunc=['count','nunique','sum','mean']\n",
    "    ).fillna(-1).sort_index()\n",
    "\n",
    "\n",
    "    features = pd.pivot_table(\n",
    "                             orders_data,\n",
    "                             index =['ClientUUId'],\n",
    "                             values=['MenuPrice','ClientOrderNumber',\n",
    "                                     'ProductTotalPrice','OrderTotalPrice',\n",
    "                                     'OrderUUId_count','Skidka','Skidka_otn',\n",
    "                                     'addressId_count','deliverySectorId_count',\n",
    "                                     'UnitUUId_count','ProductUUId_count',\n",
    "                                     'OrderUUId_appl_mean','addressId_appl_mean',\n",
    "                                     'deliverySectorId_appl_mean',\n",
    "                                     'UnitUUId_appl_mean','ProductUUId_appl_mean',\n",
    "                                     'hour','absolute_time','dayofweek'],\n",
    "                             columns=['apply_promo'],\n",
    "                             aggfunc=['mean','sum','min','max','std','nunique',lambda x:np.max(x) - np.min(x)]\n",
    "        \n",
    "    ).fillna(-1).sort_index()\n",
    "    \n",
    "    features.columns = [f'order_feats_{x[0]}_{x[1]}_{x[2]}' for x in features.columns]\n",
    "    payment_features.columns = [f'order_payment_{x[0]}_{x[1]}_{x[2]}_{x[3]}' for x in payment_features.columns]\n",
    "    order_features.columns = [f'order_order_{x[0]}_{x[1]}_{x[2]}_{x[3]}' for x in order_features.columns]\n",
    "    category_features.columns = [f'order_order_{x[0]}_{x[1]}_{x[2]}_{x[3]}' for x in category_features.columns]\n",
    "    order_state_features.columns = [f'order_order_{x[0]}_{x[1]}_{x[2]}_{x[3]}' for x in order_state_features.columns]\n",
    "    \n",
    "    return pd.concat([\n",
    "        appl_features,\n",
    "        newcl_features,\n",
    "        payment_features,\n",
    "        order_features,\n",
    "        time_day_feats,\n",
    "        order_state_features,\n",
    "        time_shift_feats,\n",
    "        features,\n",
    "    ],axis=1)"
   ]
  },
  {
   "cell_type": "code",
   "execution_count": 11,
   "id": "79b5c05c-702d-4e03-be1e-d0da0ba69815",
   "metadata": {
    "tags": []
   },
   "outputs": [
    {
     "name": "stderr",
     "output_type": "stream",
     "text": [
      "/tmp/ipykernel_141/1923592305.py:78: RuntimeWarning: invalid value encountered in scalar subtract\n",
      "  aggfunc=['mean','sum','min','max','std','nunique',lambda x:np.max(x) - np.min(x)]\n"
     ]
    }
   ],
   "source": [
    "order_features = get_order_data_feats(orders_data)"
   ]
  },
  {
   "cell_type": "code",
   "execution_count": 12,
   "id": "dcff042f-f73a-4b54-b790-d02806565344",
   "metadata": {
    "tags": []
   },
   "outputs": [],
   "source": [
    "mobile_embeds = pd.read_parquet('mobile_embeds.parquet')\n",
    "order_embeds = pd.read_parquet('order_embeds.parquet')"
   ]
  },
  {
   "cell_type": "code",
   "execution_count": 13,
   "id": "2ba01d7a-5dee-490b-bd1a-9b656c0fd987",
   "metadata": {
    "tags": []
   },
   "outputs": [],
   "source": [
    "mobile_embeds.columns = [f\"mobile_{x}\" for x in mobile_embeds.columns]\n",
    "order_embeds.columns = [f\"order_{x}\" for x in order_embeds.columns]"
   ]
  },
  {
   "cell_type": "code",
   "execution_count": 14,
   "id": "eb4928e5-eafb-44e7-aab0-d4ce53247703",
   "metadata": {
    "tags": []
   },
   "outputs": [],
   "source": [
    "all_features = pd.concat([\n",
    "    order_features,\n",
    "    clients_features,\n",
    "    mobile_features,\n",
    "    mobile_embeds,\n",
    "    order_embeds\n",
    "],axis=1).fillna(-100)"
   ]
  },
  {
   "cell_type": "code",
   "execution_count": 15,
   "id": "5edc3405-3e43-4d68-979f-1e6c95d29a31",
   "metadata": {
    "tags": []
   },
   "outputs": [],
   "source": [
    "all_features = all_features.T.drop_duplicates().T\n",
    "all_features['ClientUUId'] = all_features.index\n",
    "all_features.index = range(len(all_features))"
   ]
  },
  {
   "cell_type": "code",
   "execution_count": 16,
   "id": "eecca4bf-6432-445d-8f45-f7f4205b629f",
   "metadata": {
    "tags": []
   },
   "outputs": [
    {
     "data": {
      "text/plain": [
       "(30000, 774)"
      ]
     },
     "execution_count": 16,
     "metadata": {},
     "output_type": "execute_result"
    }
   ],
   "source": [
    "all_features.shape"
   ]
  },
  {
   "cell_type": "code",
   "execution_count": 17,
   "id": "6ad021f7-1476-43ac-8a82-767dceee93a1",
   "metadata": {
    "tags": []
   },
   "outputs": [],
   "source": [
    "best_feats = np.load('best_features4.npy')"
   ]
  },
  {
   "cell_type": "code",
   "execution_count": 18,
   "id": "3a4222dd-ee09-40ff-802d-1b5ea1fac03a",
   "metadata": {
    "tags": []
   },
   "outputs": [
    {
     "data": {
      "text/plain": [
       "array(['Discount', 'order_appl_mean', 'order_appl_std',\n",
       "       'order_payment_count_MenuPrice_0_1',\n",
       "       'order_payment_mean_MenuPrice_1_0',\n",
       "       'order_order_count_MenuPrice_0_1', 'order_order_sum_MenuPrice_0_1',\n",
       "       'order_order_sum_MenuPrice_1_3', 'order_order_sum_MenuPrice_1_4',\n",
       "       'order_order_mean_MenuPrice_1_4',\n",
       "       'order_feats_mean_ProductTotalPrice_1',\n",
       "       'order_feats_mean_dayofweek_1',\n",
       "       'order_feats_sum_ClientOrderNumber_1',\n",
       "       'order_feats_sum_OrderUUId_count_0', 'order_feats_sum_Skidka_1',\n",
       "       'order_feats_sum_hour_1', 'order_feats_min_ClientOrderNumber_1',\n",
       "       'order_feats_min_ProductTotalPrice_1',\n",
       "       'order_feats_min_deliverySectorId_count_1',\n",
       "       'order_feats_max_ClientOrderNumber_1',\n",
       "       'order_feats_max_ProductTotalPrice_1',\n",
       "       'order_feats_max_ProductUUId_count_1', 'order_feats_max_Skidka_1',\n",
       "       'order_feats_max_UnitUUId_appl_mean_1',\n",
       "       'order_feats_std_MenuPrice_1', 'order_feats_std_OrderTotalPrice_1',\n",
       "       'order_feats_std_absolute_time_1', 'order_feats_std_hour_1',\n",
       "       'order_feats_nunique_ClientOrderNumber_1',\n",
       "       'order_feats_nunique_OrderTotalPrice_1',\n",
       "       'order_feats_nunique_ProductTotalPrice_1',\n",
       "       'order_feats_nunique_Skidka_1', 'order_feats_nunique_hour_1',\n",
       "       'order_feats_<lambda>_ProductTotalPrice_1',\n",
       "       'order_feats_<lambda>_ProductUUId_count_1',\n",
       "       'order_feats_<lambda>_absolute_time_1',\n",
       "       'order_feats_<lambda>_hour_1', 'clients_id_count_OrderPrice_7',\n",
       "       'clients_orderid_count_71,2,3',\n",
       "       'mobile_event_nunique_apply_personal_offer',\n",
       "       'mobile_event_nunique_close_app', 'mobile_event_nunique_open_app',\n",
       "       'mobile_event_min_apply_personal_offer',\n",
       "       'mobile_event_max_apply_personal_offer',\n",
       "       'mobile_event_std_apply_personal_offer',\n",
       "       'mobile_event_nunique_apply_personal_offer_otn',\n",
       "       'mobile_event_nunique_screen_cart_otn',\n",
       "       'mobile_event_mean_apply_personal_offer_otn',\n",
       "       'mobile_event_mean_open_bonusaction_otn',\n",
       "       'mobile_event_max_apply_personal_offer_otn',\n",
       "       'mobile_event_std_apply_personal_offer_otn',\n",
       "       'mobile_hour_nunique_6', 'mobile_hour_nunique_7',\n",
       "       'mobile_hour_nunique_8', 'mobile_hour_nunique_9',\n",
       "       'mobile_hour_nunique_20', 'mobile_hour_nunique_22',\n",
       "       'mobile_hour_mean_10', 'mobile_hour_mean_22', 'mobile_emb_0008',\n",
       "       'order_emb_0001', 'order_emb_0014', 'order_emb_0052',\n",
       "       'order_emb_0061'], dtype='<U45')"
      ]
     },
     "execution_count": 18,
     "metadata": {},
     "output_type": "execute_result"
    }
   ],
   "source": [
    "best_feats"
   ]
  },
  {
   "cell_type": "code",
   "execution_count": 19,
   "id": "5c5006d6-aa3f-4b05-b26a-6494f944bf88",
   "metadata": {
    "tags": []
   },
   "outputs": [],
   "source": [
    "train_data = train_data.merge(all_features)"
   ]
  },
  {
   "cell_type": "code",
   "execution_count": 37,
   "id": "0ae987e6-b7a8-4e8a-a9b8-82feaacd02bb",
   "metadata": {
    "tags": []
   },
   "outputs": [],
   "source": [
    "params = {\n",
    "    'iterations':1000,\n",
    "    'learning_rate':0.01,\n",
    "    'loss_function':'CrossEntropy',\n",
    "    'max_depth':7,\n",
    "    'eval_metric':'AUC',\n",
    "    'task_type':'GPU',\n",
    "    'random_seed':56\n",
    "}\n",
    "\n",
    "drop_cols = [\n",
    "    'LocalBeginDate',\n",
    "    'LocalEndDate',\n",
    "    'ClientUUId',\n",
    "]\n",
    "\n",
    "cat_cols = [\n",
    "    'Id',\n",
    "    'OrderType',\n",
    "]\n",
    "\n",
    "label_col = 'apply_promo'\n",
    "num_fold = 5\n",
    "n_fold_test = 10\n",
    "test_c_stop = 3\n",
    "num_repits = 1"
   ]
  },
  {
   "cell_type": "code",
   "execution_count": 38,
   "id": "ecd434c4-115c-4ca0-af5b-1ebecaf86493",
   "metadata": {
    "tags": []
   },
   "outputs": [
    {
     "ename": "KeyError",
     "evalue": "\"['order_appl_mean', 'order_appl_std', 'order_payment_count_MenuPrice_0_1', 'order_payment_mean_MenuPrice_1_0', 'order_order_count_MenuPrice_0_1', 'order_order_sum_MenuPrice_0_1', 'order_order_sum_MenuPrice_1_3', 'order_order_sum_MenuPrice_1_4', 'order_order_mean_MenuPrice_1_4', 'order_feats_mean_ProductTotalPrice_1', 'order_feats_mean_dayofweek_1', 'order_feats_sum_ClientOrderNumber_1', 'order_feats_sum_OrderUUId_count_0', 'order_feats_sum_Skidka_1', 'order_feats_sum_hour_1', 'order_feats_min_ClientOrderNumber_1', 'order_feats_min_ProductTotalPrice_1', 'order_feats_min_deliverySectorId_count_1', 'order_feats_max_ClientOrderNumber_1', 'order_feats_max_ProductTotalPrice_1', 'order_feats_max_ProductUUId_count_1', 'order_feats_max_Skidka_1', 'order_feats_max_UnitUUId_appl_mean_1', 'order_feats_std_MenuPrice_1', 'order_feats_std_OrderTotalPrice_1', 'order_feats_std_absolute_time_1', 'order_feats_std_hour_1', 'order_feats_nunique_ClientOrderNumber_1', 'order_feats_nunique_OrderTotalPrice_1', 'order_feats_nunique_ProductTotalPrice_1', 'order_feats_nunique_Skidka_1', 'order_feats_nunique_hour_1', 'order_feats_<lambda>_ProductTotalPrice_1', 'order_feats_<lambda>_ProductUUId_count_1', 'order_feats_<lambda>_absolute_time_1', 'order_feats_<lambda>_hour_1', 'clients_id_count_OrderPrice_7', 'clients_orderid_count_71,2,3', 'mobile_event_nunique_apply_personal_offer', 'mobile_event_nunique_close_app', 'mobile_event_nunique_open_app', 'mobile_event_min_apply_personal_offer', 'mobile_event_max_apply_personal_offer', 'mobile_event_std_apply_personal_offer', 'mobile_event_nunique_apply_personal_offer_otn', 'mobile_event_nunique_screen_cart_otn', 'mobile_event_mean_apply_personal_offer_otn', 'mobile_event_mean_open_bonusaction_otn', 'mobile_event_max_apply_personal_offer_otn', 'mobile_event_std_apply_personal_offer_otn', 'mobile_hour_nunique_6', 'mobile_hour_nunique_7', 'mobile_hour_nunique_8', 'mobile_hour_nunique_9', 'mobile_hour_nunique_20', 'mobile_hour_nunique_22', 'mobile_hour_mean_10', 'mobile_hour_mean_22', 'mobile_emb_0008', 'order_emb_0001', 'order_emb_0014', 'order_emb_0052', 'order_emb_0061'] not in index\"",
     "output_type": "error",
     "traceback": [
      "\u001b[0;31m---------------------------------------------------------------------------\u001b[0m",
      "\u001b[0;31mKeyError\u001b[0m                                  Traceback (most recent call last)",
      "Cell \u001b[0;32mIn[38], line 1\u001b[0m\n\u001b[0;32m----> 1\u001b[0m train_data \u001b[38;5;241m=\u001b[39m \u001b[43mtrain_data\u001b[49m\u001b[43m[\u001b[49m\u001b[43mbest_feats\u001b[49m\u001b[38;5;241;43m.\u001b[39;49m\u001b[43mtolist\u001b[49m\u001b[43m(\u001b[49m\u001b[43m)\u001b[49m\u001b[43m \u001b[49m\u001b[38;5;241;43m+\u001b[39;49m\u001b[43m \u001b[49m\u001b[43mdrop_cols\u001b[49m\u001b[43m \u001b[49m\u001b[38;5;241;43m+\u001b[39;49m\u001b[43m \u001b[49m\u001b[43m[\u001b[49m\u001b[43mlabel_col\u001b[49m\u001b[43m,\u001b[49m\u001b[38;5;124;43m\"\u001b[39;49m\u001b[38;5;124;43mId\u001b[39;49m\u001b[38;5;124;43m\"\u001b[39;49m\u001b[43m,\u001b[49m\u001b[38;5;124;43m'\u001b[39;49m\u001b[38;5;124;43mOrderType\u001b[39;49m\u001b[38;5;124;43m'\u001b[39;49m\u001b[43m]\u001b[49m\u001b[43m]\u001b[49m\n",
      "File \u001b[0;32m/usr/local/lib/python3.11/dist-packages/pandas/core/frame.py:4096\u001b[0m, in \u001b[0;36mDataFrame.__getitem__\u001b[0;34m(self, key)\u001b[0m\n\u001b[1;32m   4094\u001b[0m     \u001b[38;5;28;01mif\u001b[39;00m is_iterator(key):\n\u001b[1;32m   4095\u001b[0m         key \u001b[38;5;241m=\u001b[39m \u001b[38;5;28mlist\u001b[39m(key)\n\u001b[0;32m-> 4096\u001b[0m     indexer \u001b[38;5;241m=\u001b[39m \u001b[38;5;28;43mself\u001b[39;49m\u001b[38;5;241;43m.\u001b[39;49m\u001b[43mcolumns\u001b[49m\u001b[38;5;241;43m.\u001b[39;49m\u001b[43m_get_indexer_strict\u001b[49m\u001b[43m(\u001b[49m\u001b[43mkey\u001b[49m\u001b[43m,\u001b[49m\u001b[43m \u001b[49m\u001b[38;5;124;43m\"\u001b[39;49m\u001b[38;5;124;43mcolumns\u001b[39;49m\u001b[38;5;124;43m\"\u001b[39;49m\u001b[43m)\u001b[49m[\u001b[38;5;241m1\u001b[39m]\n\u001b[1;32m   4098\u001b[0m \u001b[38;5;66;03m# take() does not accept boolean indexers\u001b[39;00m\n\u001b[1;32m   4099\u001b[0m \u001b[38;5;28;01mif\u001b[39;00m \u001b[38;5;28mgetattr\u001b[39m(indexer, \u001b[38;5;124m\"\u001b[39m\u001b[38;5;124mdtype\u001b[39m\u001b[38;5;124m\"\u001b[39m, \u001b[38;5;28;01mNone\u001b[39;00m) \u001b[38;5;241m==\u001b[39m \u001b[38;5;28mbool\u001b[39m:\n",
      "File \u001b[0;32m/usr/local/lib/python3.11/dist-packages/pandas/core/indexes/base.py:6199\u001b[0m, in \u001b[0;36mIndex._get_indexer_strict\u001b[0;34m(self, key, axis_name)\u001b[0m\n\u001b[1;32m   6196\u001b[0m \u001b[38;5;28;01melse\u001b[39;00m:\n\u001b[1;32m   6197\u001b[0m     keyarr, indexer, new_indexer \u001b[38;5;241m=\u001b[39m \u001b[38;5;28mself\u001b[39m\u001b[38;5;241m.\u001b[39m_reindex_non_unique(keyarr)\n\u001b[0;32m-> 6199\u001b[0m \u001b[38;5;28;43mself\u001b[39;49m\u001b[38;5;241;43m.\u001b[39;49m\u001b[43m_raise_if_missing\u001b[49m\u001b[43m(\u001b[49m\u001b[43mkeyarr\u001b[49m\u001b[43m,\u001b[49m\u001b[43m \u001b[49m\u001b[43mindexer\u001b[49m\u001b[43m,\u001b[49m\u001b[43m \u001b[49m\u001b[43maxis_name\u001b[49m\u001b[43m)\u001b[49m\n\u001b[1;32m   6201\u001b[0m keyarr \u001b[38;5;241m=\u001b[39m \u001b[38;5;28mself\u001b[39m\u001b[38;5;241m.\u001b[39mtake(indexer)\n\u001b[1;32m   6202\u001b[0m \u001b[38;5;28;01mif\u001b[39;00m \u001b[38;5;28misinstance\u001b[39m(key, Index):\n\u001b[1;32m   6203\u001b[0m     \u001b[38;5;66;03m# GH 42790 - Preserve name from an Index\u001b[39;00m\n",
      "File \u001b[0;32m/usr/local/lib/python3.11/dist-packages/pandas/core/indexes/base.py:6251\u001b[0m, in \u001b[0;36mIndex._raise_if_missing\u001b[0;34m(self, key, indexer, axis_name)\u001b[0m\n\u001b[1;32m   6248\u001b[0m     \u001b[38;5;28;01mraise\u001b[39;00m \u001b[38;5;167;01mKeyError\u001b[39;00m(\u001b[38;5;124mf\u001b[39m\u001b[38;5;124m\"\u001b[39m\u001b[38;5;124mNone of [\u001b[39m\u001b[38;5;132;01m{\u001b[39;00mkey\u001b[38;5;132;01m}\u001b[39;00m\u001b[38;5;124m] are in the [\u001b[39m\u001b[38;5;132;01m{\u001b[39;00maxis_name\u001b[38;5;132;01m}\u001b[39;00m\u001b[38;5;124m]\u001b[39m\u001b[38;5;124m\"\u001b[39m)\n\u001b[1;32m   6250\u001b[0m not_found \u001b[38;5;241m=\u001b[39m \u001b[38;5;28mlist\u001b[39m(ensure_index(key)[missing_mask\u001b[38;5;241m.\u001b[39mnonzero()[\u001b[38;5;241m0\u001b[39m]]\u001b[38;5;241m.\u001b[39munique())\n\u001b[0;32m-> 6251\u001b[0m \u001b[38;5;28;01mraise\u001b[39;00m \u001b[38;5;167;01mKeyError\u001b[39;00m(\u001b[38;5;124mf\u001b[39m\u001b[38;5;124m\"\u001b[39m\u001b[38;5;132;01m{\u001b[39;00mnot_found\u001b[38;5;132;01m}\u001b[39;00m\u001b[38;5;124m not in index\u001b[39m\u001b[38;5;124m\"\u001b[39m)\n",
      "\u001b[0;31mKeyError\u001b[0m: \"['order_appl_mean', 'order_appl_std', 'order_payment_count_MenuPrice_0_1', 'order_payment_mean_MenuPrice_1_0', 'order_order_count_MenuPrice_0_1', 'order_order_sum_MenuPrice_0_1', 'order_order_sum_MenuPrice_1_3', 'order_order_sum_MenuPrice_1_4', 'order_order_mean_MenuPrice_1_4', 'order_feats_mean_ProductTotalPrice_1', 'order_feats_mean_dayofweek_1', 'order_feats_sum_ClientOrderNumber_1', 'order_feats_sum_OrderUUId_count_0', 'order_feats_sum_Skidka_1', 'order_feats_sum_hour_1', 'order_feats_min_ClientOrderNumber_1', 'order_feats_min_ProductTotalPrice_1', 'order_feats_min_deliverySectorId_count_1', 'order_feats_max_ClientOrderNumber_1', 'order_feats_max_ProductTotalPrice_1', 'order_feats_max_ProductUUId_count_1', 'order_feats_max_Skidka_1', 'order_feats_max_UnitUUId_appl_mean_1', 'order_feats_std_MenuPrice_1', 'order_feats_std_OrderTotalPrice_1', 'order_feats_std_absolute_time_1', 'order_feats_std_hour_1', 'order_feats_nunique_ClientOrderNumber_1', 'order_feats_nunique_OrderTotalPrice_1', 'order_feats_nunique_ProductTotalPrice_1', 'order_feats_nunique_Skidka_1', 'order_feats_nunique_hour_1', 'order_feats_<lambda>_ProductTotalPrice_1', 'order_feats_<lambda>_ProductUUId_count_1', 'order_feats_<lambda>_absolute_time_1', 'order_feats_<lambda>_hour_1', 'clients_id_count_OrderPrice_7', 'clients_orderid_count_71,2,3', 'mobile_event_nunique_apply_personal_offer', 'mobile_event_nunique_close_app', 'mobile_event_nunique_open_app', 'mobile_event_min_apply_personal_offer', 'mobile_event_max_apply_personal_offer', 'mobile_event_std_apply_personal_offer', 'mobile_event_nunique_apply_personal_offer_otn', 'mobile_event_nunique_screen_cart_otn', 'mobile_event_mean_apply_personal_offer_otn', 'mobile_event_mean_open_bonusaction_otn', 'mobile_event_max_apply_personal_offer_otn', 'mobile_event_std_apply_personal_offer_otn', 'mobile_hour_nunique_6', 'mobile_hour_nunique_7', 'mobile_hour_nunique_8', 'mobile_hour_nunique_9', 'mobile_hour_nunique_20', 'mobile_hour_nunique_22', 'mobile_hour_mean_10', 'mobile_hour_mean_22', 'mobile_emb_0008', 'order_emb_0001', 'order_emb_0014', 'order_emb_0052', 'order_emb_0061'] not in index\""
     ]
    }
   ],
   "source": [
    "train_data = train_data[best_feats.tolist() + drop_cols + [label_col,\"Id\",'OrderType']]"
   ]
  },
  {
   "cell_type": "code",
   "execution_count": null,
   "id": "395553de-e444-43cd-bf43-e1d088f8cd21",
   "metadata": {
    "tags": []
   },
   "outputs": [],
   "source": [
    "class CatBoostKfoldWraper(BaseEstimator):\n",
    "    def __init__(self,num_folds,num_repits,params,random_state=56):\n",
    "        self.models = []\n",
    "        self.params = params\n",
    "        self.random_state = random_state\n",
    "        self.num_folds = num_folds\n",
    "        \n",
    "    def fit(self,train_data,cat_features=None,drop_cols=None,label_col=None,verbose=False):\n",
    "        scores = []\n",
    "        \n",
    "        for i in trange(num_repits):\n",
    "            kfold = StratifiedGroupKFold(self.num_folds,random_state=self.random_state+i,shuffle=True)\n",
    "            for train_index, test_index in (kfold.split(train_data,train_data[label_col],groups=train_data['ClientUUId'])):\n",
    "                train_df = train_data.iloc[train_index]\n",
    "                test_df = train_data.iloc[test_index]\n",
    "\n",
    "                train_pool = Pool(\n",
    "                    train_df.drop([label_col]+drop_cols,axis=1),\n",
    "                    label = train_df[label_col],\n",
    "                    cat_features = cat_features\n",
    "                )\n",
    "\n",
    "                eval_pool = Pool(\n",
    "                    test_df.drop([label_col]+drop_cols,axis=1),\n",
    "                    label = test_df[label_col],\n",
    "                    cat_features = cat_features\n",
    "                )\n",
    "\n",
    "                cbm = CatBoostClassifier(**self.params)\n",
    "                cbm.fit(train_pool,eval_set=eval_pool,verbose=verbose)\n",
    "\n",
    "                score = roc_auc_score(test_df[label_col],cbm.predict_proba(eval_pool)[:,1])\n",
    "                scores += [score]\n",
    "                self.models += [cbm]\n",
    "        #print(f\"Total Score {np.mean(scores)}\")\n",
    "            \n",
    "    def predict(self,test_data,drop_cols=None,cat_features=None):\n",
    "        test_pool = Pool(\n",
    "            test_data.drop(drop_cols,axis=1),\n",
    "            cat_features=cat_features\n",
    "        )\n",
    "        preds = np.mean([model.predict_proba(test_pool)[:,1] for model in self.models],axis=0)\n",
    "        return preds\n",
    "    \n",
    "    def get_feature_importance(self):\n",
    "        imp_0 = self.models[0].get_feature_importance(prettified=True).set_index('Feature Id')\n",
    "        for i in range(1,len(self.models)):\n",
    "            imp_0 += self.models[i].get_feature_importance(prettified=True).set_index('Feature Id')\n",
    "        return (imp_0 / len(self.models)).sort_values(by='Importances')[::-1]"
   ]
  },
  {
   "cell_type": "code",
   "execution_count": 39,
   "id": "00f9797f-5e31-4b22-86df-3a0eb396c0e3",
   "metadata": {
    "tags": []
   },
   "outputs": [],
   "source": [
    "def model_builder(train_data):\n",
    "    model = CatBoostKfoldWraper(num_fold,num_repits,params)\n",
    "    \n",
    "    model.fit(\n",
    "        train_data,\n",
    "        cat_features=cat_cols,\n",
    "        drop_cols=drop_cols,\n",
    "        label_col=label_col,\n",
    "        verbose=500\n",
    "    )\n",
    "    \n",
    "    return model\n",
    "\n",
    "def model_predicter(model,test_data):\n",
    "    return model.predict(test_data,drop_cols=drop_cols,cat_features=cat_cols)"
   ]
  },
  {
   "cell_type": "code",
   "execution_count": 40,
   "id": "bffd25ed-8d02-4521-87be-1120979f0258",
   "metadata": {
    "tags": []
   },
   "outputs": [],
   "source": [
    "class TestKFoldWrapper():\n",
    "    def __init__(self,num_folds=10,top_c=1,random_state=56):\n",
    "        self.top_c = top_c\n",
    "        self.kfold = StratifiedGroupKFold(num_folds,random_state=random_state,shuffle=True)\n",
    "    \n",
    "    def run_experiments(self,model_builder,model_predicter,train_data,label_col=None):\n",
    "        self.models = []\n",
    "        self.scores = []\n",
    "        c = 0\n",
    "        \n",
    "        for train_index, test_index in tqdm(self.kfold.split(train_data,train_data[label_col],groups=train_data['ClientUUId'])):\n",
    "            train_df = train_data.iloc[train_index]\n",
    "            test_df = train_data.iloc[test_index]\n",
    "            \n",
    "            model = model_builder(train_df)\n",
    "            score = roc_auc_score(test_df[label_col],model_predicter(model,test_df))\n",
    "            self.scores.append(score)\n",
    "            self.models.append(model)\n",
    "            c += 1\n",
    "            if c >= self.top_c:\n",
    "                break\n",
    "        \n",
    "        print(f\"Total Score {np.mean(self.scores)}\")\n"
   ]
  },
  {
   "cell_type": "code",
   "execution_count": 41,
   "id": "b2160205-a7b5-4d67-8529-4c328890c5df",
   "metadata": {
    "tags": []
   },
   "outputs": [
    {
     "data": {
      "application/vnd.jupyter.widget-view+json": {
       "model_id": "4c24c519b4de40e486bd22ae7223afc3",
       "version_major": 2,
       "version_minor": 0
      },
      "text/plain": [
       "0it [00:00, ?it/s]"
      ]
     },
     "metadata": {},
     "output_type": "display_data"
    },
    {
     "data": {
      "application/vnd.jupyter.widget-view+json": {
       "model_id": "0d7c4c50c7c04d3d85c895012dd74127",
       "version_major": 2,
       "version_minor": 0
      },
      "text/plain": [
       "  0%|          | 0/1 [00:00<?, ?it/s]"
      ]
     },
     "metadata": {},
     "output_type": "display_data"
    },
    {
     "name": "stderr",
     "output_type": "stream",
     "text": [
      "Default metric period is 5 because AUC is/are not implemented for GPU\n"
     ]
    },
    {
     "name": "stdout",
     "output_type": "stream",
     "text": [
      "0:\ttest: 0.5291578\tbest: 0.5291578 (0)\ttotal: 25.2ms\tremaining: 25.1s\n",
      "500:\ttest: 0.5681150\tbest: 0.5723687 (185)\ttotal: 10.8s\tremaining: 10.7s\n",
      "999:\ttest: 0.5614500\tbest: 0.5723687 (185)\ttotal: 23.1s\tremaining: 0us\n",
      "bestTest = 0.5723686516\n",
      "bestIteration = 185\n",
      "Shrink model to first 186 iterations.\n"
     ]
    },
    {
     "name": "stderr",
     "output_type": "stream",
     "text": [
      "Default metric period is 5 because AUC is/are not implemented for GPU\n"
     ]
    },
    {
     "name": "stdout",
     "output_type": "stream",
     "text": [
      "0:\ttest: 0.5498991\tbest: 0.5498991 (0)\ttotal: 16.7ms\tremaining: 16.7s\n",
      "500:\ttest: 0.5816314\tbest: 0.5854330 (315)\ttotal: 11.1s\tremaining: 11.1s\n",
      "999:\ttest: 0.5759275\tbest: 0.5854330 (315)\ttotal: 23.8s\tremaining: 0us\n",
      "bestTest = 0.5854329765\n",
      "bestIteration = 315\n",
      "Shrink model to first 316 iterations.\n"
     ]
    },
    {
     "name": "stderr",
     "output_type": "stream",
     "text": [
      "Default metric period is 5 because AUC is/are not implemented for GPU\n"
     ]
    },
    {
     "name": "stdout",
     "output_type": "stream",
     "text": [
      "0:\ttest: 0.5465097\tbest: 0.5465097 (0)\ttotal: 15.5ms\tremaining: 15.5s\n",
      "500:\ttest: 0.5407131\tbest: 0.5613647 (5)\ttotal: 11s\tremaining: 10.9s\n",
      "999:\ttest: 0.5427504\tbest: 0.5613647 (5)\ttotal: 23.5s\tremaining: 0us\n",
      "bestTest = 0.5613647252\n",
      "bestIteration = 5\n",
      "Shrink model to first 6 iterations.\n"
     ]
    },
    {
     "name": "stderr",
     "output_type": "stream",
     "text": [
      "Default metric period is 5 because AUC is/are not implemented for GPU\n"
     ]
    },
    {
     "name": "stdout",
     "output_type": "stream",
     "text": [
      "0:\ttest: 0.5541841\tbest: 0.5541841 (0)\ttotal: 14ms\tremaining: 14s\n",
      "500:\ttest: 0.5910054\tbest: 0.5924819 (430)\ttotal: 12.4s\tremaining: 12.3s\n",
      "999:\ttest: 0.5981155\tbest: 0.5994857 (900)\ttotal: 25.1s\tremaining: 0us\n",
      "bestTest = 0.5994856656\n",
      "bestIteration = 900\n",
      "Shrink model to first 901 iterations.\n"
     ]
    },
    {
     "name": "stderr",
     "output_type": "stream",
     "text": [
      "Default metric period is 5 because AUC is/are not implemented for GPU\n"
     ]
    },
    {
     "name": "stdout",
     "output_type": "stream",
     "text": [
      "0:\ttest: 0.5240374\tbest: 0.5240374 (0)\ttotal: 14.4ms\tremaining: 14.4s\n",
      "500:\ttest: 0.5476362\tbest: 0.5483635 (480)\ttotal: 10.4s\tremaining: 10.4s\n",
      "999:\ttest: 0.5541857\tbest: 0.5569019 (870)\ttotal: 25.1s\tremaining: 0us\n",
      "bestTest = 0.556901902\n",
      "bestIteration = 870\n",
      "Shrink model to first 871 iterations.\n"
     ]
    },
    {
     "data": {
      "application/vnd.jupyter.widget-view+json": {
       "model_id": "5e7ebe9b20c14eebb37d93d0f57216ed",
       "version_major": 2,
       "version_minor": 0
      },
      "text/plain": [
       "  0%|          | 0/1 [00:00<?, ?it/s]"
      ]
     },
     "metadata": {},
     "output_type": "display_data"
    },
    {
     "name": "stderr",
     "output_type": "stream",
     "text": [
      "Default metric period is 5 because AUC is/are not implemented for GPU\n"
     ]
    },
    {
     "name": "stdout",
     "output_type": "stream",
     "text": [
      "0:\ttest: 0.5421959\tbest: 0.5421959 (0)\ttotal: 22.8ms\tremaining: 22.8s\n",
      "500:\ttest: 0.5547471\tbest: 0.5619089 (45)\ttotal: 12.3s\tremaining: 12.2s\n",
      "999:\ttest: 0.5474137\tbest: 0.5619089 (45)\ttotal: 26s\tremaining: 0us\n",
      "bestTest = 0.5619088858\n",
      "bestIteration = 45\n",
      "Shrink model to first 46 iterations.\n"
     ]
    },
    {
     "name": "stderr",
     "output_type": "stream",
     "text": [
      "Default metric period is 5 because AUC is/are not implemented for GPU\n"
     ]
    },
    {
     "name": "stdout",
     "output_type": "stream",
     "text": [
      "0:\ttest: 0.5373290\tbest: 0.5373290 (0)\ttotal: 18ms\tremaining: 18s\n",
      "500:\ttest: 0.5556414\tbest: 0.5556414 (500)\ttotal: 12.4s\tremaining: 12.4s\n",
      "999:\ttest: 0.5509958\tbest: 0.5606341 (705)\ttotal: 25.9s\tremaining: 0us\n",
      "bestTest = 0.5606341064\n",
      "bestIteration = 705\n",
      "Shrink model to first 706 iterations.\n"
     ]
    },
    {
     "name": "stderr",
     "output_type": "stream",
     "text": [
      "Default metric period is 5 because AUC is/are not implemented for GPU\n"
     ]
    },
    {
     "name": "stdout",
     "output_type": "stream",
     "text": [
      "0:\ttest: 0.5341925\tbest: 0.5341925 (0)\ttotal: 15ms\tremaining: 15s\n",
      "500:\ttest: 0.5528321\tbest: 0.5556626 (5)\ttotal: 10.9s\tremaining: 10.8s\n",
      "999:\ttest: 0.5564939\tbest: 0.5585209 (750)\ttotal: 23.8s\tremaining: 0us\n",
      "bestTest = 0.5585209429\n",
      "bestIteration = 750\n",
      "Shrink model to first 751 iterations.\n"
     ]
    },
    {
     "name": "stderr",
     "output_type": "stream",
     "text": [
      "Default metric period is 5 because AUC is/are not implemented for GPU\n"
     ]
    },
    {
     "name": "stdout",
     "output_type": "stream",
     "text": [
      "0:\ttest: 0.5405416\tbest: 0.5405416 (0)\ttotal: 14.4ms\tremaining: 14.4s\n",
      "500:\ttest: 0.5580577\tbest: 0.5673683 (65)\ttotal: 9.66s\tremaining: 9.62s\n",
      "999:\ttest: 0.5596487\tbest: 0.5673683 (65)\ttotal: 21s\tremaining: 0us\n",
      "bestTest = 0.5673682988\n",
      "bestIteration = 65\n",
      "Shrink model to first 66 iterations.\n"
     ]
    },
    {
     "name": "stderr",
     "output_type": "stream",
     "text": [
      "Default metric period is 5 because AUC is/are not implemented for GPU\n"
     ]
    },
    {
     "name": "stdout",
     "output_type": "stream",
     "text": [
      "0:\ttest: 0.5479324\tbest: 0.5479324 (0)\ttotal: 15.8ms\tremaining: 15.8s\n",
      "500:\ttest: 0.5664322\tbest: 0.5691692 (15)\ttotal: 9.85s\tremaining: 9.81s\n",
      "999:\ttest: 0.5626872\tbest: 0.5691692 (15)\ttotal: 24s\tremaining: 0us\n",
      "bestTest = 0.5691692382\n",
      "bestIteration = 15\n",
      "Shrink model to first 16 iterations.\n"
     ]
    },
    {
     "data": {
      "application/vnd.jupyter.widget-view+json": {
       "model_id": "c7c9c9c424bd4aa78eb8fbe1d255a282",
       "version_major": 2,
       "version_minor": 0
      },
      "text/plain": [
       "  0%|          | 0/1 [00:00<?, ?it/s]"
      ]
     },
     "metadata": {},
     "output_type": "display_data"
    },
    {
     "name": "stderr",
     "output_type": "stream",
     "text": [
      "Default metric period is 5 because AUC is/are not implemented for GPU\n"
     ]
    },
    {
     "name": "stdout",
     "output_type": "stream",
     "text": [
      "0:\ttest: 0.5591819\tbest: 0.5591819 (0)\ttotal: 15.5ms\tremaining: 15.5s\n",
      "500:\ttest: 0.5334298\tbest: 0.5688922 (130)\ttotal: 10.8s\tremaining: 10.7s\n",
      "999:\ttest: 0.5227798\tbest: 0.5688922 (130)\ttotal: 23.4s\tremaining: 0us\n",
      "bestTest = 0.5688921809\n",
      "bestIteration = 130\n",
      "Shrink model to first 131 iterations.\n"
     ]
    },
    {
     "name": "stderr",
     "output_type": "stream",
     "text": [
      "Default metric period is 5 because AUC is/are not implemented for GPU\n"
     ]
    },
    {
     "name": "stdout",
     "output_type": "stream",
     "text": [
      "0:\ttest: 0.5508027\tbest: 0.5508027 (0)\ttotal: 14.3ms\tremaining: 14.3s\n",
      "500:\ttest: 0.5319194\tbest: 0.5508027 (0)\ttotal: 11.1s\tremaining: 11.1s\n",
      "999:\ttest: 0.5118139\tbest: 0.5508027 (0)\ttotal: 24.2s\tremaining: 0us\n",
      "bestTest = 0.5508027226\n",
      "bestIteration = 0\n",
      "Shrink model to first 1 iterations.\n"
     ]
    },
    {
     "name": "stderr",
     "output_type": "stream",
     "text": [
      "Default metric period is 5 because AUC is/are not implemented for GPU\n"
     ]
    },
    {
     "name": "stdout",
     "output_type": "stream",
     "text": [
      "0:\ttest: 0.5255332\tbest: 0.5255332 (0)\ttotal: 16.2ms\tremaining: 16.2s\n",
      "500:\ttest: 0.5534925\tbest: 0.5565796 (430)\ttotal: 11.2s\tremaining: 11.2s\n",
      "999:\ttest: 0.5535735\tbest: 0.5565796 (430)\ttotal: 22.6s\tremaining: 0us\n",
      "bestTest = 0.5565796196\n",
      "bestIteration = 430\n",
      "Shrink model to first 431 iterations.\n"
     ]
    },
    {
     "name": "stderr",
     "output_type": "stream",
     "text": [
      "Default metric period is 5 because AUC is/are not implemented for GPU\n"
     ]
    },
    {
     "name": "stdout",
     "output_type": "stream",
     "text": [
      "0:\ttest: 0.5433789\tbest: 0.5433789 (0)\ttotal: 14.8ms\tremaining: 14.8s\n",
      "500:\ttest: 0.5561716\tbest: 0.5627559 (300)\ttotal: 9.89s\tremaining: 9.85s\n",
      "999:\ttest: 0.5677490\tbest: 0.5686696 (905)\ttotal: 22.9s\tremaining: 0us\n",
      "bestTest = 0.5686695576\n",
      "bestIteration = 905\n",
      "Shrink model to first 906 iterations.\n"
     ]
    },
    {
     "name": "stderr",
     "output_type": "stream",
     "text": [
      "Default metric period is 5 because AUC is/are not implemented for GPU\n"
     ]
    },
    {
     "name": "stdout",
     "output_type": "stream",
     "text": [
      "0:\ttest: 0.5314177\tbest: 0.5314177 (0)\ttotal: 14.4ms\tremaining: 14.4s\n",
      "500:\ttest: 0.5417268\tbest: 0.5426583 (420)\ttotal: 9.67s\tremaining: 9.63s\n",
      "999:\ttest: 0.5460235\tbest: 0.5470753 (785)\ttotal: 22.4s\tremaining: 0us\n",
      "bestTest = 0.5470752716\n",
      "bestIteration = 785\n",
      "Shrink model to first 786 iterations.\n",
      "Total Score 0.5662169399812113\n"
     ]
    }
   ],
   "source": [
    "evaluator = TestKFoldWrapper(n_fold_test,test_c_stop)\n",
    "\n",
    "evaluator.run_experiments(\n",
    "    model_builder=model_builder,\n",
    "    model_predicter=model_predicter,\n",
    "    train_data=train_data,\n",
    "    label_col=label_col\n",
    ")"
   ]
  },
  {
   "cell_type": "code",
   "execution_count": null,
   "id": "7b8535db-948e-4903-8d4c-05295cc6f52d",
   "metadata": {
    "tags": []
   },
   "outputs": [],
   "source": [
    "evaluator.models[0].get_feature_importance()[:60]"
   ]
  },
  {
   "cell_type": "code",
   "execution_count": 71,
   "id": "7d354c7c-85d6-4233-a154-b959950a292f",
   "metadata": {
    "tags": []
   },
   "outputs": [
    {
     "data": {
      "application/vnd.jupyter.widget-view+json": {
       "model_id": "4499d28b87fc428f9b3b8f0497749746",
       "version_major": 2,
       "version_minor": 0
      },
      "text/plain": [
       "  0%|          | 0/3 [00:00<?, ?it/s]"
      ]
     },
     "metadata": {},
     "output_type": "display_data"
    },
    {
     "ename": "KeyboardInterrupt",
     "evalue": "",
     "output_type": "error",
     "traceback": [
      "\u001b[0;31m---------------------------------------------------------------------------\u001b[0m",
      "\u001b[0;31mKeyboardInterrupt\u001b[0m                         Traceback (most recent call last)",
      "Cell \u001b[0;32mIn[71], line 2\u001b[0m\n\u001b[1;32m      1\u001b[0m num_repits \u001b[38;5;241m=\u001b[39m \u001b[38;5;241m3\u001b[39m\n\u001b[0;32m----> 2\u001b[0m model \u001b[38;5;241m=\u001b[39m \u001b[43mmodel_builder\u001b[49m\u001b[43m(\u001b[49m\u001b[43mtrain_data\u001b[49m\u001b[43m)\u001b[49m\n",
      "Cell \u001b[0;32mIn[67], line 4\u001b[0m, in \u001b[0;36mmodel_builder\u001b[0;34m(train_data)\u001b[0m\n\u001b[1;32m      1\u001b[0m \u001b[38;5;28;01mdef\u001b[39;00m \u001b[38;5;21mmodel_builder\u001b[39m(train_data):\n\u001b[1;32m      2\u001b[0m     model \u001b[38;5;241m=\u001b[39m CatBoostKfoldWraper(num_fold,num_repits,params)\n\u001b[0;32m----> 4\u001b[0m     \u001b[43mmodel\u001b[49m\u001b[38;5;241;43m.\u001b[39;49m\u001b[43mfit\u001b[49m\u001b[43m(\u001b[49m\n\u001b[1;32m      5\u001b[0m \u001b[43m        \u001b[49m\u001b[43mtrain_data\u001b[49m\u001b[43m,\u001b[49m\n\u001b[1;32m      6\u001b[0m \u001b[43m        \u001b[49m\u001b[43mcat_features\u001b[49m\u001b[38;5;241;43m=\u001b[39;49m\u001b[43mcat_cols\u001b[49m\u001b[43m,\u001b[49m\n\u001b[1;32m      7\u001b[0m \u001b[43m        \u001b[49m\u001b[43mdrop_cols\u001b[49m\u001b[38;5;241;43m=\u001b[39;49m\u001b[43mdrop_cols\u001b[49m\u001b[43m,\u001b[49m\n\u001b[1;32m      8\u001b[0m \u001b[43m        \u001b[49m\u001b[43mlabel_col\u001b[49m\u001b[38;5;241;43m=\u001b[39;49m\u001b[43mlabel_col\u001b[49m\u001b[43m,\u001b[49m\n\u001b[1;32m      9\u001b[0m \u001b[43m        \u001b[49m\u001b[43mverbose\u001b[49m\u001b[38;5;241;43m=\u001b[39;49m\u001b[38;5;241;43m500\u001b[39;49m\n\u001b[1;32m     10\u001b[0m \u001b[43m    \u001b[49m\u001b[43m)\u001b[49m\n\u001b[1;32m     12\u001b[0m     \u001b[38;5;28;01mreturn\u001b[39;00m model\n",
      "Cell \u001b[0;32mIn[66], line 13\u001b[0m, in \u001b[0;36mCatBoostKfoldWraper.fit\u001b[0;34m(self, train_data, cat_features, drop_cols, label_col, verbose)\u001b[0m\n\u001b[1;32m     11\u001b[0m \u001b[38;5;28;01mfor\u001b[39;00m i \u001b[38;5;129;01min\u001b[39;00m trange(num_repits):\n\u001b[1;32m     12\u001b[0m     kfold \u001b[38;5;241m=\u001b[39m StratifiedGroupKFold(\u001b[38;5;28mself\u001b[39m\u001b[38;5;241m.\u001b[39mnum_folds,random_state\u001b[38;5;241m=\u001b[39m\u001b[38;5;28mself\u001b[39m\u001b[38;5;241m.\u001b[39mrandom_state\u001b[38;5;241m+\u001b[39mi,shuffle\u001b[38;5;241m=\u001b[39m\u001b[38;5;28;01mTrue\u001b[39;00m)\n\u001b[0;32m---> 13\u001b[0m \u001b[43m    \u001b[49m\u001b[38;5;28;43;01mfor\u001b[39;49;00m\u001b[43m \u001b[49m\u001b[43mtrain_index\u001b[49m\u001b[43m,\u001b[49m\u001b[43m \u001b[49m\u001b[43mtest_index\u001b[49m\u001b[43m \u001b[49m\u001b[38;5;129;43;01min\u001b[39;49;00m\u001b[43m \u001b[49m\u001b[43m(\u001b[49m\u001b[43mkfold\u001b[49m\u001b[38;5;241;43m.\u001b[39;49m\u001b[43msplit\u001b[49m\u001b[43m(\u001b[49m\u001b[43mtrain_data\u001b[49m\u001b[43m,\u001b[49m\u001b[43mtrain_data\u001b[49m\u001b[43m[\u001b[49m\u001b[43mlabel_col\u001b[49m\u001b[43m]\u001b[49m\u001b[43m,\u001b[49m\u001b[43mgroups\u001b[49m\u001b[38;5;241;43m=\u001b[39;49m\u001b[43mtrain_data\u001b[49m\u001b[43m[\u001b[49m\u001b[38;5;124;43m'\u001b[39;49m\u001b[38;5;124;43mClientUUId\u001b[39;49m\u001b[38;5;124;43m'\u001b[39;49m\u001b[43m]\u001b[49m\u001b[43m)\u001b[49m\u001b[43m)\u001b[49m\u001b[43m:\u001b[49m\n\u001b[1;32m     14\u001b[0m \u001b[43m        \u001b[49m\u001b[43mtrain_df\u001b[49m\u001b[43m \u001b[49m\u001b[38;5;241;43m=\u001b[39;49m\u001b[43m \u001b[49m\u001b[43mtrain_data\u001b[49m\u001b[38;5;241;43m.\u001b[39;49m\u001b[43miloc\u001b[49m\u001b[43m[\u001b[49m\u001b[43mtrain_index\u001b[49m\u001b[43m]\u001b[49m\n\u001b[1;32m     15\u001b[0m \u001b[43m        \u001b[49m\u001b[43mtest_df\u001b[49m\u001b[43m \u001b[49m\u001b[38;5;241;43m=\u001b[39;49m\u001b[43m \u001b[49m\u001b[43mtrain_data\u001b[49m\u001b[38;5;241;43m.\u001b[39;49m\u001b[43miloc\u001b[49m\u001b[43m[\u001b[49m\u001b[43mtest_index\u001b[49m\u001b[43m]\u001b[49m\n",
      "File \u001b[0;32m/usr/local/lib/python3.11/dist-packages/sklearn/model_selection/_split.py:377\u001b[0m, in \u001b[0;36m_BaseKFold.split\u001b[0;34m(self, X, y, groups)\u001b[0m\n\u001b[1;32m    369\u001b[0m \u001b[38;5;28;01mif\u001b[39;00m \u001b[38;5;28mself\u001b[39m\u001b[38;5;241m.\u001b[39mn_splits \u001b[38;5;241m>\u001b[39m n_samples:\n\u001b[1;32m    370\u001b[0m     \u001b[38;5;28;01mraise\u001b[39;00m \u001b[38;5;167;01mValueError\u001b[39;00m(\n\u001b[1;32m    371\u001b[0m         (\n\u001b[1;32m    372\u001b[0m             \u001b[38;5;124m\"\u001b[39m\u001b[38;5;124mCannot have number of splits n_splits=\u001b[39m\u001b[38;5;132;01m{0}\u001b[39;00m\u001b[38;5;124m greater\u001b[39m\u001b[38;5;124m\"\u001b[39m\n\u001b[1;32m    373\u001b[0m             \u001b[38;5;124m\"\u001b[39m\u001b[38;5;124m than the number of samples: n_samples=\u001b[39m\u001b[38;5;132;01m{1}\u001b[39;00m\u001b[38;5;124m.\u001b[39m\u001b[38;5;124m\"\u001b[39m\n\u001b[1;32m    374\u001b[0m         )\u001b[38;5;241m.\u001b[39mformat(\u001b[38;5;28mself\u001b[39m\u001b[38;5;241m.\u001b[39mn_splits, n_samples)\n\u001b[1;32m    375\u001b[0m     )\n\u001b[0;32m--> 377\u001b[0m \u001b[43m\u001b[49m\u001b[38;5;28;43;01mfor\u001b[39;49;00m\u001b[43m \u001b[49m\u001b[43mtrain\u001b[49m\u001b[43m,\u001b[49m\u001b[43m \u001b[49m\u001b[43mtest\u001b[49m\u001b[43m \u001b[49m\u001b[38;5;129;43;01min\u001b[39;49;00m\u001b[43m \u001b[49m\u001b[38;5;28;43msuper\u001b[39;49m\u001b[43m(\u001b[49m\u001b[43m)\u001b[49m\u001b[38;5;241;43m.\u001b[39;49m\u001b[43msplit\u001b[49m\u001b[43m(\u001b[49m\u001b[43mX\u001b[49m\u001b[43m,\u001b[49m\u001b[43m \u001b[49m\u001b[43my\u001b[49m\u001b[43m,\u001b[49m\u001b[43m \u001b[49m\u001b[43mgroups\u001b[49m\u001b[43m)\u001b[49m\u001b[43m:\u001b[49m\n\u001b[1;32m    378\u001b[0m \u001b[43m    \u001b[49m\u001b[38;5;28;43;01myield\u001b[39;49;00m\u001b[43m \u001b[49m\u001b[43mtrain\u001b[49m\u001b[43m,\u001b[49m\u001b[43m \u001b[49m\u001b[43mtest\u001b[49m\n",
      "File \u001b[0;32m/usr/local/lib/python3.11/dist-packages/sklearn/model_selection/_split.py:108\u001b[0m, in \u001b[0;36mBaseCrossValidator.split\u001b[0;34m(self, X, y, groups)\u001b[0m\n\u001b[1;32m    106\u001b[0m X, y, groups \u001b[38;5;241m=\u001b[39m indexable(X, y, groups)\n\u001b[1;32m    107\u001b[0m indices \u001b[38;5;241m=\u001b[39m np\u001b[38;5;241m.\u001b[39marange(_num_samples(X))\n\u001b[0;32m--> 108\u001b[0m \u001b[43m\u001b[49m\u001b[38;5;28;43;01mfor\u001b[39;49;00m\u001b[43m \u001b[49m\u001b[43mtest_index\u001b[49m\u001b[43m \u001b[49m\u001b[38;5;129;43;01min\u001b[39;49;00m\u001b[43m \u001b[49m\u001b[38;5;28;43mself\u001b[39;49m\u001b[38;5;241;43m.\u001b[39;49m\u001b[43m_iter_test_masks\u001b[49m\u001b[43m(\u001b[49m\u001b[43mX\u001b[49m\u001b[43m,\u001b[49m\u001b[43m \u001b[49m\u001b[43my\u001b[49m\u001b[43m,\u001b[49m\u001b[43m \u001b[49m\u001b[43mgroups\u001b[49m\u001b[43m)\u001b[49m\u001b[43m:\u001b[49m\n\u001b[1;32m    109\u001b[0m \u001b[43m    \u001b[49m\u001b[43mtrain_index\u001b[49m\u001b[43m \u001b[49m\u001b[38;5;241;43m=\u001b[39;49m\u001b[43m \u001b[49m\u001b[43mindices\u001b[49m\u001b[43m[\u001b[49m\u001b[43mnp\u001b[49m\u001b[38;5;241;43m.\u001b[39;49m\u001b[43mlogical_not\u001b[49m\u001b[43m(\u001b[49m\u001b[43mtest_index\u001b[49m\u001b[43m)\u001b[49m\u001b[43m]\u001b[49m\n\u001b[1;32m    110\u001b[0m \u001b[43m    \u001b[49m\u001b[43mtest_index\u001b[49m\u001b[43m \u001b[49m\u001b[38;5;241;43m=\u001b[39;49m\u001b[43m \u001b[49m\u001b[43mindices\u001b[49m\u001b[43m[\u001b[49m\u001b[43mtest_index\u001b[49m\u001b[43m]\u001b[49m\n",
      "File \u001b[0;32m/usr/local/lib/python3.11/dist-packages/sklearn/model_selection/_split.py:120\u001b[0m, in \u001b[0;36mBaseCrossValidator._iter_test_masks\u001b[0;34m(self, X, y, groups)\u001b[0m\n\u001b[1;32m    115\u001b[0m \u001b[38;5;28;01mdef\u001b[39;00m \u001b[38;5;21m_iter_test_masks\u001b[39m(\u001b[38;5;28mself\u001b[39m, X\u001b[38;5;241m=\u001b[39m\u001b[38;5;28;01mNone\u001b[39;00m, y\u001b[38;5;241m=\u001b[39m\u001b[38;5;28;01mNone\u001b[39;00m, groups\u001b[38;5;241m=\u001b[39m\u001b[38;5;28;01mNone\u001b[39;00m):\n\u001b[1;32m    116\u001b[0m \u001b[38;5;250m    \u001b[39m\u001b[38;5;124;03m\"\"\"Generates boolean masks corresponding to test sets.\u001b[39;00m\n\u001b[1;32m    117\u001b[0m \n\u001b[1;32m    118\u001b[0m \u001b[38;5;124;03m    By default, delegates to _iter_test_indices(X, y, groups)\u001b[39;00m\n\u001b[1;32m    119\u001b[0m \u001b[38;5;124;03m    \"\"\"\u001b[39;00m\n\u001b[0;32m--> 120\u001b[0m \u001b[43m    \u001b[49m\u001b[38;5;28;43;01mfor\u001b[39;49;00m\u001b[43m \u001b[49m\u001b[43mtest_index\u001b[49m\u001b[43m \u001b[49m\u001b[38;5;129;43;01min\u001b[39;49;00m\u001b[43m \u001b[49m\u001b[38;5;28;43mself\u001b[39;49m\u001b[38;5;241;43m.\u001b[39;49m\u001b[43m_iter_test_indices\u001b[49m\u001b[43m(\u001b[49m\u001b[43mX\u001b[49m\u001b[43m,\u001b[49m\u001b[43m \u001b[49m\u001b[43my\u001b[49m\u001b[43m,\u001b[49m\u001b[43m \u001b[49m\u001b[43mgroups\u001b[49m\u001b[43m)\u001b[49m\u001b[43m:\u001b[49m\n\u001b[1;32m    121\u001b[0m \u001b[43m        \u001b[49m\u001b[43mtest_mask\u001b[49m\u001b[43m \u001b[49m\u001b[38;5;241;43m=\u001b[39;49m\u001b[43m \u001b[49m\u001b[43mnp\u001b[49m\u001b[38;5;241;43m.\u001b[39;49m\u001b[43mzeros\u001b[49m\u001b[43m(\u001b[49m\u001b[43m_num_samples\u001b[49m\u001b[43m(\u001b[49m\u001b[43mX\u001b[49m\u001b[43m)\u001b[49m\u001b[43m,\u001b[49m\u001b[43m \u001b[49m\u001b[43mdtype\u001b[49m\u001b[38;5;241;43m=\u001b[39;49m\u001b[38;5;28;43mbool\u001b[39;49m\u001b[43m)\u001b[49m\n\u001b[1;32m    122\u001b[0m \u001b[43m        \u001b[49m\u001b[43mtest_mask\u001b[49m\u001b[43m[\u001b[49m\u001b[43mtest_index\u001b[49m\u001b[43m]\u001b[49m\u001b[43m \u001b[49m\u001b[38;5;241;43m=\u001b[39;49m\u001b[43m \u001b[49m\u001b[38;5;28;43;01mTrue\u001b[39;49;00m\n",
      "File \u001b[0;32m/usr/local/lib/python3.11/dist-packages/sklearn/model_selection/_split.py:963\u001b[0m, in \u001b[0;36mStratifiedGroupKFold._iter_test_indices\u001b[0;34m(self, X, y, groups)\u001b[0m\n\u001b[1;32m    961\u001b[0m \u001b[38;5;28;01mfor\u001b[39;00m group_idx \u001b[38;5;129;01min\u001b[39;00m sorted_groups_idx:\n\u001b[1;32m    962\u001b[0m     group_y_counts \u001b[38;5;241m=\u001b[39m y_counts_per_group[group_idx]\n\u001b[0;32m--> 963\u001b[0m     best_fold \u001b[38;5;241m=\u001b[39m \u001b[38;5;28;43mself\u001b[39;49m\u001b[38;5;241;43m.\u001b[39;49m\u001b[43m_find_best_fold\u001b[49m\u001b[43m(\u001b[49m\n\u001b[1;32m    964\u001b[0m \u001b[43m        \u001b[49m\u001b[43my_counts_per_fold\u001b[49m\u001b[38;5;241;43m=\u001b[39;49m\u001b[43my_counts_per_fold\u001b[49m\u001b[43m,\u001b[49m\n\u001b[1;32m    965\u001b[0m \u001b[43m        \u001b[49m\u001b[43my_cnt\u001b[49m\u001b[38;5;241;43m=\u001b[39;49m\u001b[43my_cnt\u001b[49m\u001b[43m,\u001b[49m\n\u001b[1;32m    966\u001b[0m \u001b[43m        \u001b[49m\u001b[43mgroup_y_counts\u001b[49m\u001b[38;5;241;43m=\u001b[39;49m\u001b[43mgroup_y_counts\u001b[49m\u001b[43m,\u001b[49m\n\u001b[1;32m    967\u001b[0m \u001b[43m    \u001b[49m\u001b[43m)\u001b[49m\n\u001b[1;32m    968\u001b[0m     y_counts_per_fold[best_fold] \u001b[38;5;241m+\u001b[39m\u001b[38;5;241m=\u001b[39m group_y_counts\n\u001b[1;32m    969\u001b[0m     groups_per_fold[best_fold]\u001b[38;5;241m.\u001b[39madd(group_idx)\n",
      "File \u001b[0;32m/usr/local/lib/python3.11/dist-packages/sklearn/model_selection/_split.py:992\u001b[0m, in \u001b[0;36mStratifiedGroupKFold._find_best_fold\u001b[0;34m(self, y_counts_per_fold, y_cnt, group_y_counts)\u001b[0m\n\u001b[1;32m    988\u001b[0m fold_eval \u001b[38;5;241m=\u001b[39m np\u001b[38;5;241m.\u001b[39mmean(std_per_class)\n\u001b[1;32m    989\u001b[0m samples_in_fold \u001b[38;5;241m=\u001b[39m np\u001b[38;5;241m.\u001b[39msum(y_counts_per_fold[i])\n\u001b[1;32m    990\u001b[0m is_current_fold_better \u001b[38;5;241m=\u001b[39m (\n\u001b[1;32m    991\u001b[0m     fold_eval \u001b[38;5;241m<\u001b[39m min_eval\n\u001b[0;32m--> 992\u001b[0m     \u001b[38;5;129;01mor\u001b[39;00m \u001b[43mnp\u001b[49m\u001b[38;5;241;43m.\u001b[39;49m\u001b[43misclose\u001b[49m\u001b[43m(\u001b[49m\u001b[43mfold_eval\u001b[49m\u001b[43m,\u001b[49m\u001b[43m \u001b[49m\u001b[43mmin_eval\u001b[49m\u001b[43m)\u001b[49m\n\u001b[1;32m    993\u001b[0m     \u001b[38;5;129;01mand\u001b[39;00m samples_in_fold \u001b[38;5;241m<\u001b[39m min_samples_in_fold\n\u001b[1;32m    994\u001b[0m )\n\u001b[1;32m    995\u001b[0m \u001b[38;5;28;01mif\u001b[39;00m is_current_fold_better:\n\u001b[1;32m    996\u001b[0m     min_eval \u001b[38;5;241m=\u001b[39m fold_eval\n",
      "File \u001b[0;32m/usr/local/lib/python3.11/dist-packages/numpy/core/numeric.py:2350\u001b[0m, in \u001b[0;36misclose\u001b[0;34m(a, b, rtol, atol, equal_nan)\u001b[0m\n\u001b[1;32m   2348\u001b[0m xfin \u001b[38;5;241m=\u001b[39m isfinite(x)\n\u001b[1;32m   2349\u001b[0m yfin \u001b[38;5;241m=\u001b[39m isfinite(y)\n\u001b[0;32m-> 2350\u001b[0m \u001b[38;5;28;01mif\u001b[39;00m \u001b[38;5;28mall\u001b[39m(xfin) \u001b[38;5;129;01mand\u001b[39;00m \u001b[38;5;28;43mall\u001b[39;49m\u001b[43m(\u001b[49m\u001b[43myfin\u001b[49m\u001b[43m)\u001b[49m:\n\u001b[1;32m   2351\u001b[0m     \u001b[38;5;28;01mreturn\u001b[39;00m within_tol(x, y, atol, rtol)\n\u001b[1;32m   2352\u001b[0m \u001b[38;5;28;01melse\u001b[39;00m:\n",
      "File \u001b[0;32m/usr/local/lib/python3.11/dist-packages/numpy/core/fromnumeric.py:2504\u001b[0m, in \u001b[0;36mall\u001b[0;34m(a, axis, out, keepdims, where)\u001b[0m\n\u001b[1;32m   2421\u001b[0m \u001b[38;5;129m@array_function_dispatch\u001b[39m(_all_dispatcher)\n\u001b[1;32m   2422\u001b[0m \u001b[38;5;28;01mdef\u001b[39;00m \u001b[38;5;21mall\u001b[39m(a, axis\u001b[38;5;241m=\u001b[39m\u001b[38;5;28;01mNone\u001b[39;00m, out\u001b[38;5;241m=\u001b[39m\u001b[38;5;28;01mNone\u001b[39;00m, keepdims\u001b[38;5;241m=\u001b[39mnp\u001b[38;5;241m.\u001b[39m_NoValue, \u001b[38;5;241m*\u001b[39m, where\u001b[38;5;241m=\u001b[39mnp\u001b[38;5;241m.\u001b[39m_NoValue):\n\u001b[1;32m   2423\u001b[0m \u001b[38;5;250m    \u001b[39m\u001b[38;5;124;03m\"\"\"\u001b[39;00m\n\u001b[1;32m   2424\u001b[0m \u001b[38;5;124;03m    Test whether all array elements along a given axis evaluate to True.\u001b[39;00m\n\u001b[1;32m   2425\u001b[0m \n\u001b[0;32m   (...)\u001b[0m\n\u001b[1;32m   2502\u001b[0m \n\u001b[1;32m   2503\u001b[0m \u001b[38;5;124;03m    \"\"\"\u001b[39;00m\n\u001b[0;32m-> 2504\u001b[0m     \u001b[38;5;28;01mreturn\u001b[39;00m \u001b[43m_wrapreduction\u001b[49m\u001b[43m(\u001b[49m\u001b[43ma\u001b[49m\u001b[43m,\u001b[49m\u001b[43m \u001b[49m\u001b[43mnp\u001b[49m\u001b[38;5;241;43m.\u001b[39;49m\u001b[43mlogical_and\u001b[49m\u001b[43m,\u001b[49m\u001b[43m \u001b[49m\u001b[38;5;124;43m'\u001b[39;49m\u001b[38;5;124;43mall\u001b[39;49m\u001b[38;5;124;43m'\u001b[39;49m\u001b[43m,\u001b[49m\u001b[43m \u001b[49m\u001b[43maxis\u001b[49m\u001b[43m,\u001b[49m\u001b[43m \u001b[49m\u001b[38;5;28;43;01mNone\u001b[39;49;00m\u001b[43m,\u001b[49m\u001b[43m \u001b[49m\u001b[43mout\u001b[49m\u001b[43m,\u001b[49m\n\u001b[1;32m   2505\u001b[0m \u001b[43m                          \u001b[49m\u001b[43mkeepdims\u001b[49m\u001b[38;5;241;43m=\u001b[39;49m\u001b[43mkeepdims\u001b[49m\u001b[43m,\u001b[49m\u001b[43m \u001b[49m\u001b[43mwhere\u001b[49m\u001b[38;5;241;43m=\u001b[39;49m\u001b[43mwhere\u001b[49m\u001b[43m)\u001b[49m\n",
      "File \u001b[0;32m/usr/local/lib/python3.11/dist-packages/numpy/core/fromnumeric.py:71\u001b[0m, in \u001b[0;36m_wrapreduction\u001b[0;34m(obj, ufunc, method, axis, dtype, out, **kwargs)\u001b[0m\n\u001b[1;32m     60\u001b[0m     \u001b[38;5;28;01mexcept\u001b[39;00m \u001b[38;5;167;01mTypeError\u001b[39;00m:\n\u001b[1;32m     61\u001b[0m         \u001b[38;5;66;03m# A TypeError occurs if the object does have such a method in its\u001b[39;00m\n\u001b[1;32m     62\u001b[0m         \u001b[38;5;66;03m# class, but its signature is not identical to that of NumPy's. This\u001b[39;00m\n\u001b[0;32m   (...)\u001b[0m\n\u001b[1;32m     66\u001b[0m         \u001b[38;5;66;03m# Call _wrapit from within the except clause to ensure a potential\u001b[39;00m\n\u001b[1;32m     67\u001b[0m         \u001b[38;5;66;03m# exception has a traceback chain.\u001b[39;00m\n\u001b[1;32m     68\u001b[0m         \u001b[38;5;28;01mreturn\u001b[39;00m _wrapit(obj, method, \u001b[38;5;241m*\u001b[39margs, \u001b[38;5;241m*\u001b[39m\u001b[38;5;241m*\u001b[39mkwds)\n\u001b[0;32m---> 71\u001b[0m \u001b[38;5;28;01mdef\u001b[39;00m \u001b[38;5;21m_wrapreduction\u001b[39m(obj, ufunc, method, axis, dtype, out, \u001b[38;5;241m*\u001b[39m\u001b[38;5;241m*\u001b[39mkwargs):\n\u001b[1;32m     72\u001b[0m     passkwargs \u001b[38;5;241m=\u001b[39m {k: v \u001b[38;5;28;01mfor\u001b[39;00m k, v \u001b[38;5;129;01min\u001b[39;00m kwargs\u001b[38;5;241m.\u001b[39mitems()\n\u001b[1;32m     73\u001b[0m                   \u001b[38;5;28;01mif\u001b[39;00m v \u001b[38;5;129;01mis\u001b[39;00m \u001b[38;5;129;01mnot\u001b[39;00m np\u001b[38;5;241m.\u001b[39m_NoValue}\n\u001b[1;32m     75\u001b[0m     \u001b[38;5;28;01mif\u001b[39;00m \u001b[38;5;28mtype\u001b[39m(obj) \u001b[38;5;129;01mis\u001b[39;00m \u001b[38;5;129;01mnot\u001b[39;00m mu\u001b[38;5;241m.\u001b[39mndarray:\n",
      "\u001b[0;31mKeyboardInterrupt\u001b[0m: "
     ]
    }
   ],
   "source": [
    "num_repits = 3\n",
    "model = model_builder(train_data)"
   ]
  },
  {
   "cell_type": "code",
   "execution_count": 30,
   "id": "1fa6ef7f-a677-4e8e-9e45-0cdbfcbdacde",
   "metadata": {
    "tags": []
   },
   "outputs": [],
   "source": [
    "test_data = test_data.merge(all_features)"
   ]
  },
  {
   "cell_type": "code",
   "execution_count": 31,
   "id": "70523584-27c8-4afe-9631-8ee78131ebc8",
   "metadata": {
    "tags": []
   },
   "outputs": [],
   "source": [
    "test_data = test_data[best_feats.tolist() + drop_cols + ['Id','OrderType']]"
   ]
  },
  {
   "cell_type": "code",
   "execution_count": 32,
   "id": "3b9714d4-f137-4ae7-b6cf-c3d8d598702f",
   "metadata": {
    "tags": []
   },
   "outputs": [],
   "source": [
    "preds = evaluator.models[0].predict(test_data,drop_cols=drop_cols,cat_features=cat_cols)\n",
    "preds += evaluator.models[1].predict(test_data,drop_cols=drop_cols,cat_features=cat_cols)\n",
    "preds += evaluator.models[2].predict(test_data,drop_cols=drop_cols,cat_features=cat_cols)\n",
    "preds /= 3\n",
    "#preds = model.predict(test_data,drop_cols=drop_cols,cat_features=cat_cols)"
   ]
  },
  {
   "cell_type": "code",
   "execution_count": 35,
   "id": "8616a519-ee6d-49d5-8150-4d39c326bf83",
   "metadata": {
    "tags": []
   },
   "outputs": [],
   "source": [
    "sample_submit['apply_promo'] = preds  + pd.read_csv('./submits/sub_dodo15.csv').apply_promo"
   ]
  },
  {
   "cell_type": "code",
   "execution_count": 36,
   "id": "3b261b14-5bbb-4245-879a-46b6e19fe4b6",
   "metadata": {
    "tags": []
   },
   "outputs": [],
   "source": [
    "sample_submit.to_csv('./submits/sub_dodo17.csv',index=False)"
   ]
  },
  {
   "cell_type": "code",
   "execution_count": null,
   "id": "2f44160b-6824-4b49-a365-79990e7ffd5a",
   "metadata": {},
   "outputs": [],
   "source": []
  }
 ],
 "metadata": {
  "kernelspec": {
   "display_name": "Python 3 (ipykernel)",
   "language": "python",
   "name": "python3"
  },
  "language_info": {
   "codemirror_mode": {
    "name": "ipython",
    "version": 3
   },
   "file_extension": ".py",
   "mimetype": "text/x-python",
   "name": "python",
   "nbconvert_exporter": "python",
   "pygments_lexer": "ipython3",
   "version": "3.11.7"
  }
 },
 "nbformat": 4,
 "nbformat_minor": 5
}
