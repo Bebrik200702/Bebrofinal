{
 "cells": [
  {
   "cell_type": "code",
   "execution_count": 102,
   "id": "692352fd-18c0-4f66-9ed2-73686e6cb068",
   "metadata": {
    "tags": []
   },
   "outputs": [],
   "source": [
    "import pandas as pd\n",
    "import numpy as np\n",
    "from catboost import CatBoostClassifier, Pool\n",
    "from sklearn.model_selection import train_test_split, TimeSeriesSplit, StratifiedKFold, StratifiedGroupKFold\n",
    "from sklearn.metrics import roc_auc_score\n",
    "import random\n",
    "from statistics import mean\n",
    "from tqdm.auto import tqdm, trange\n",
    "from sklearn.base import BaseEstimator"
   ]
  },
  {
   "cell_type": "code",
   "execution_count": 103,
   "id": "9f73a100-7ef0-4246-aa16-035be757ac1e",
   "metadata": {
    "tags": []
   },
   "outputs": [],
   "source": [
    "train_data = pd.read_csv('dodohack/Data Secrets First Cup/train_target.csv',parse_dates=['LocalBeginDate','LocalEndDate'])\n",
    "test_data = pd.read_csv('dodohack/Data Secrets First Cup/test.csv',parse_dates=['LocalBeginDate','LocalEndDate'])\n",
    "sample_submit = pd.read_csv('dodohack/Data Secrets First Cup/submit.csv')\n",
    "orders_data = pd.read_csv('dodohack/Data Secrets First Cup/orders.csv',parse_dates=['SaleDate','Date'])\n",
    "mobile_data = pd.read_csv('dodohack/Data Secrets First Cup/mobile_events.csv',parse_dates=['Timestamp'])\n",
    "clients_data = pd.read_csv('dodohack/Data Secrets First Cup/clients_promo_october.csv',parse_dates=['LocalBeginDate','LocalEndDate'])"
   ]
  },
  {
   "cell_type": "code",
   "execution_count": 104,
   "id": "53f9e6ea-c591-48d1-841f-3bdef76e4b67",
   "metadata": {
    "tags": []
   },
   "outputs": [],
   "source": [
    "def mounth_count_day(x):\n",
    "    months = [31,28,31,30,31,30,31,31,30,31,30,31]\n",
    "    return sum(months[:x])\n",
    "\n",
    "def create_time_features(df,time_col):\n",
    "    df['month'] = df[time_col].dt.month\n",
    "    df['day'] = df[time_col].dt.day\n",
    "    df['hour'] = df[time_col].dt.hour\n",
    "    df['year'] = df[time_col].dt.year\n",
    "    df['weekofyear'] = df[time_col].apply(lambda x: x.weekofyear)\n",
    "    df['dayofweek'] = df[time_col].dt.dayofweek\n",
    "    df['dayofyear'] = df[time_col].dt.dayofyear\n",
    "    df['absolute_time'] = (df[time_col] - df[time_col].min()).dt.days\n",
    "    \n",
    "    df['all_day_time'] = df[time_col].apply(lambda x: x.hour * 3600 + x.minute * 60 + x.second)\n",
    "    df['all_week_time'] = df[time_col].apply(lambda x: x.dayofweek * 24 + x.hour)\n",
    "    \n",
    "    df['cl_early_morning'] = ((df['hour'] > 4) & (df['hour'] <= 8)).astype('int16')\n",
    "    df['cl_is_weekend'] = (df['dayofweek'] > 4).astype('int16')\n",
    "    return df"
   ]
  },
  {
   "cell_type": "code",
   "execution_count": 105,
   "id": "41f06e2e-96b6-4e75-94bb-cb99149a87f4",
   "metadata": {
    "tags": []
   },
   "outputs": [],
   "source": [
    "mobile_data = create_time_features(mobile_data,'Timestamp')\n",
    "orders_data = create_time_features(orders_data,'SaleDate')"
   ]
  },
  {
   "cell_type": "code",
   "execution_count": 106,
   "id": "e904afb1-f0c1-4229-be15-b143ca639145",
   "metadata": {
    "tags": []
   },
   "outputs": [],
   "source": [
    "def get_shift_features(data,time_col='absolute_time',user_col='ClientUUId',prefix=''):\n",
    "    shift_time = data.groupby(user_col)[time_col].agg(lambda x: np.diff(np.sort(x)).tolist())\n",
    "    shift_features = pd.DataFrame(index=shift_time.index)\n",
    "    shift_features[f'{prefix}_mean'] = shift_time.apply(np.mean)\n",
    "    shift_features[f'{prefix}_min'] = shift_time.apply(np.min)\n",
    "    shift_features[f'{prefix}_max'] = shift_time.apply(np.max)\n",
    "    shift_features[f'{prefix}_std'] = shift_time.apply(np.std)\n",
    "    shift_features[f'{prefix}_polyfit'] = shift_time.apply(lambda x:np.polyfit(range(len(x)), x, 1)[1] if len(x) > 10 else -100)\n",
    "    shift_features[f'{prefix}_polyfit_st'] = shift_time.apply(lambda x:np.polyfit(range(len(x)), x, 1)[0] if len(x) > 10 else -100)\n",
    "    return shift_features\n",
    "\n",
    "\n",
    "def get_mobile_data_features(mobile_data):\n",
    "    time_day_feats = mobile_data.groupby('ClientUUId')['absolute_time'].agg(['min','max','mean','std','nunique','count'])\n",
    "    time_day_feats['diff'] = time_day_feats['max'] - time_day_feats['min']\n",
    "    time_day_feats['otn_diff'] = time_day_feats['diff'] / time_day_feats['mean']\n",
    "    time_day_feats['designity'] = time_day_feats['nunique'] / time_day_feats['count']\n",
    "    time_day_feats.columns = [f'mobile_time_{x}' for x in time_day_feats.columns]\n",
    "    \n",
    "    time_shift_feats = get_shift_features(mobile_data,prefix='mobile_data')\n",
    "    \n",
    "    time_hour_features = mobile_data.groupby('ClientUUId')['hour'].agg(['min','max','mean','std','nunique'])\n",
    "    time_hour_features.columns = [f'mobile_hour_{x}' for x in time_hour_features.columns]\n",
    "    \n",
    "    \n",
    "    platform_featues = pd.pivot_table(\n",
    "                             mobile_data,\n",
    "                             index =['ClientUUId'],\n",
    "                             values=['absolute_time'],\n",
    "                             columns=['Platform'],\n",
    "                             aggfunc=['count','nunique','mean','min','max','std']\n",
    "    ).fillna(-1).sort_index()\n",
    "    \n",
    "    event_featues = pd.pivot_table(\n",
    "                             mobile_data,\n",
    "                             index =['ClientUUId'],\n",
    "                             values=['absolute_time'],\n",
    "                             columns=['EventName'],\n",
    "                             aggfunc=['count','nunique','mean','min','max','std']\n",
    "    ).fillna(-1).sort_index()\n",
    "    \n",
    "    day_of_week_featues = pd.pivot_table(\n",
    "                             mobile_data,\n",
    "                             index =['ClientUUId'],\n",
    "                             values=['dayofweek'],\n",
    "                             columns=['EventName'],\n",
    "                             aggfunc=['count','nunique','mean']\n",
    "    ).fillna(-1).sort_index()\n",
    "\n",
    "    \n",
    "    hour_counters = pd.pivot_table(\n",
    "                             mobile_data,\n",
    "                             index =['ClientUUId'],\n",
    "                             values=['absolute_time'],\n",
    "                             columns=['hour'],\n",
    "                             aggfunc=['count','nunique','mean']\n",
    "    ).fillna(-1).sort_index()\n",
    "    \n",
    "    platform_featues.columns = [f'mobile_platform_{x[0]}_{x[2]}' for x in platform_featues.columns]\n",
    "    event_featues.columns = [f'mobile_event_{x[0]}_{x[2]}' for x in event_featues.columns]\n",
    "    hour_counters.columns = [f'mobile_hour_{x[0]}_{x[2]}' for x in hour_counters.columns]\n",
    "    day_of_week_featues.columns = [f'mobile_dayofweek_{x[0]}_{x[2]}' for x in day_of_week_featues.columns]\n",
    "    \n",
    "    mobile_data['VisitToken_count'] = mobile_data.groupby('VisitToken')['EventName'].transform('count')\n",
    "    visitors_features = mobile_data.groupby('ClientUUId')['VisitToken_count'].agg(['min','max','mean','std'])\n",
    "    visitors_features.columns = [f'mobile_visitors_{x}' for x in visitors_features.columns]\n",
    "    visitors_features['mobile_visitors_nunique'] = mobile_data.groupby('ClientUUId')['VisitToken'].agg('nunique')\n",
    "    \n",
    "    for col in event_featues.columns:\n",
    "        event_featues[f'{col}_otn'] = event_featues[col] / time_day_feats['mobile_time_count']\n",
    "    for col in platform_featues.columns:\n",
    "        platform_featues[f'{col}_otn'] = platform_featues[col] / time_day_feats['mobile_time_count']\n",
    "    \n",
    "    return pd.concat([\n",
    "        time_day_feats,\n",
    "        time_hour_features,\n",
    "        platform_featues,\n",
    "        event_featues,\n",
    "        hour_counters,\n",
    "        visitors_features,\n",
    "        time_shift_feats\n",
    "    ],axis=1)"
   ]
  },
  {
   "cell_type": "code",
   "execution_count": 107,
   "id": "cb1c2702-5d43-4142-ad95-20609433de56",
   "metadata": {
    "tags": []
   },
   "outputs": [],
   "source": [
    "mobile_features = get_mobile_data_features(mobile_data)"
   ]
  },
  {
   "cell_type": "code",
   "execution_count": 108,
   "id": "55a0b055-e038-4aeb-8aec-963d4af4f8d6",
   "metadata": {
    "tags": []
   },
   "outputs": [],
   "source": [
    "def get_clients_features(clients_data):\n",
    "    clients_data['vugoda'] = clients_data['Discount'] / clients_data['OrderPrice']\n",
    "    clients_data['Id+OrderType'] = clients_data['Id'].astype(str) + clients_data['OrderType'].astype(str)\n",
    "    \n",
    "    order_price_feats = clients_data.groupby('ClientUUId')['OrderPrice'].agg(['mean','std','sum','mean','max','count'])\n",
    "    Discount_feats = clients_data.groupby('ClientUUId')['Discount'].agg(['mean','std','sum','mean','max','nunique'])\n",
    "    vugoda_feats = clients_data.groupby('ClientUUId')['vugoda'].agg(['mean','std','sum','mean','max','nunique'])\n",
    "    \n",
    "    order_price_feats.columns = [f'clients_order_price_{x}' for x in order_price_feats.columns]\n",
    "    Discount_feats.columns = [f'clients_discount_{x}' for x in Discount_feats.columns]\n",
    "    vugoda_feats.columns = [f'clients_vugoda_{x}' for x in vugoda_feats.columns]\n",
    "    \n",
    "    id_features = pd.pivot_table(\n",
    "                             clients_data,\n",
    "                             index =['ClientUUId'],\n",
    "                             values=['OrderPrice',],\n",
    "                             columns=['Id'],\n",
    "                             aggfunc=['count','nunique','sum']\n",
    "    ).fillna(-1).sort_index()\n",
    "    \n",
    "    order_features = pd.pivot_table(\n",
    "                             clients_data,\n",
    "                             index =['ClientUUId'],\n",
    "                             values=['OrderPrice',],\n",
    "                             columns=['OrderType'],\n",
    "                             aggfunc=['count','nunique','sum']\n",
    "    ).fillna(-1).sort_index()\n",
    "    \n",
    "    orderid_features = pd.pivot_table(\n",
    "                             clients_data,\n",
    "                             index =['ClientUUId'],\n",
    "                             values=['OrderPrice'],\n",
    "                             columns=['Id+OrderType'],\n",
    "                             aggfunc=['count']\n",
    "    ).fillna(-1).sort_index()\n",
    "    \n",
    "    id_features.columns = [f'clients_id_{x[0]}_{x[1]}_{x[2]}' for x in id_features.columns]\n",
    "    order_features.columns = [f'clients_order_{x[0]}_{x[1]}_{x[2]}' for x in order_features.columns]\n",
    "    orderid_features.columns = [f'clients_orderid_{x[0]}_{x[2]}' for x in orderid_features.columns]\n",
    "\n",
    "    return pd.concat([\n",
    "        id_features,\n",
    "        order_features,\n",
    "        orderid_features,\n",
    "        order_price_feats,\n",
    "        Discount_feats,\n",
    "        vugoda_feats\n",
    "    ],axis=1)"
   ]
  },
  {
   "cell_type": "code",
   "execution_count": 109,
   "id": "d74c691f-875a-4cc4-851c-bdfe5f19b2a3",
   "metadata": {
    "tags": []
   },
   "outputs": [],
   "source": [
    "clients_features = get_clients_features(clients_data)"
   ]
  },
  {
   "cell_type": "code",
   "execution_count": 110,
   "id": "e6e217e2-5a96-4c19-a789-896727e4aec2",
   "metadata": {
    "tags": []
   },
   "outputs": [],
   "source": [
    "def get_order_data_feats(orders_data):\n",
    "    time_day_feats = mobile_data.groupby('ClientUUId')['absolute_time'].agg(['min','max','mean','std','nunique','count'])\n",
    "    time_day_feats['diff'] = time_day_feats['max'] - time_day_feats['min']\n",
    "    time_day_feats['otn_diff'] = time_day_feats['diff'] / time_day_feats['mean']\n",
    "    time_day_feats['designity'] = time_day_feats['nunique'] / time_day_feats['count']\n",
    "    time_day_feats.columns = [f'order_time_{x}' for x in time_day_feats.columns]\n",
    "    \n",
    "    time_shift_feats = get_shift_features(orders_data,prefix='orders_data')\n",
    "    \n",
    "    orders_data = orders_data.fillna(0)\n",
    "    orders_data['OrderUUId_count'] = orders_data.groupby('OrderUUId').transform('count')['NewClient']\n",
    "    orders_data['addressId_count'] = orders_data.groupby('addressId').transform('count')['NewClient']\n",
    "    orders_data['deliverySectorId_count'] = orders_data.groupby('deliverySectorId').transform('count')['NewClient']\n",
    "    orders_data['UnitUUId_count'] = orders_data.groupby('UnitUUId').transform('count')['NewClient']\n",
    "    orders_data['ProductUUId_count'] = orders_data.groupby('ProductUUId').transform('count')['NewClient']\n",
    "    \n",
    "    orders_data['OrderUUId_appl_mean'] = orders_data.groupby('OrderUUId')['apply_promo'].agg('mean').loc[orders_data['OrderUUId']].values\n",
    "    orders_data['addressId_appl_mean'] = orders_data.groupby('addressId')['apply_promo'].agg('mean').loc[orders_data['addressId']].values\n",
    "    orders_data['deliverySectorId_appl_mean'] = orders_data.groupby('deliverySectorId')['apply_promo'].agg('mean').loc[orders_data['deliverySectorId']].values\n",
    "    orders_data['UnitUUId_appl_mean'] = orders_data.groupby('UnitUUId')['apply_promo'].agg('mean').loc[orders_data['UnitUUId']].values\n",
    "    orders_data['ProductUUId_appl_mean'] = orders_data.groupby('ProductUUId')['apply_promo'].agg('mean').loc[orders_data['ProductUUId']].values\n",
    "    \n",
    "    orders_data['OrderUUId_appl_sum'] = orders_data.groupby('OrderUUId')['apply_promo'].agg('sum').loc[orders_data['OrderUUId']].values\n",
    "    orders_data['addressId_appl_sum'] = orders_data.groupby('addressId')['apply_promo'].agg('sum').loc[orders_data['addressId']].values\n",
    "    orders_data['deliverySectorId_appl_sum'] = orders_data.groupby('deliverySectorId')['apply_promo'].agg('sum').loc[orders_data['deliverySectorId']].values\n",
    "    orders_data['UnitUUId_appl_sum'] = orders_data.groupby('UnitUUId')['apply_promo'].agg('sum').loc[orders_data['UnitUUId']].values\n",
    "    orders_data['ProductUUId_appl_sum'] = orders_data.groupby('ProductUUId')['apply_promo'].agg('sum').loc[orders_data['ProductUUId']].values\n",
    "\n",
    "\n",
    "    orders_data['Skidka'] = orders_data['MenuPrice'] - orders_data['ProductTotalPrice']\n",
    "    orders_data['Skidka_otn'] = orders_data['Skidka'] / orders_data['ProductTotalPrice']\n",
    "    \n",
    "    appl_features = orders_data.groupby('ClientUUId')['apply_promo'].agg(['mean','count','std','sum'])\n",
    "    newcl_features = orders_data.groupby('ClientUUId')['NewClient'].agg(['sum'])\n",
    "    appl_features.columns = [f'order_appl_{x}' for x in appl_features.columns]\n",
    "    newcl_features.columns = [f'order_newcl_{x}' for x in newcl_features.columns]\n",
    "    \n",
    "    category_features = pd.pivot_table(\n",
    "                             orders_data,\n",
    "                             index =['ClientUUId'],\n",
    "                             values=['MenuPrice','absolute_time'],\n",
    "                             columns=['apply_promo','CategoryId'],\n",
    "                             aggfunc=['count','sum','mean','std']\n",
    "    ).fillna(-1).sort_index()\n",
    "    \n",
    "    payment_features = pd.pivot_table(\n",
    "                             orders_data,\n",
    "                             index =['ClientUUId'],\n",
    "                             values=['MenuPrice','absolute_time'],\n",
    "                             columns=['apply_promo','OrderPaymentType'],\n",
    "                             aggfunc=['count','nunique','sum','mean','std']\n",
    "    ).fillna(-1).sort_index()\n",
    "\n",
    "    \n",
    "    order_features = pd.pivot_table(\n",
    "                             orders_data,\n",
    "                             index =['ClientUUId'],\n",
    "                             values=['MenuPrice','absolute_time'],\n",
    "                             columns=['apply_promo','OrderType'],\n",
    "                             aggfunc=['count','nunique','sum','mean','std']\n",
    "    ).fillna(-1).sort_index()\n",
    "    \n",
    "    order_state_features = pd.pivot_table(\n",
    "                             orders_data,\n",
    "                             index =['ClientUUId'],\n",
    "                             values=['MenuPrice'],\n",
    "                             columns=['apply_promo','OrderState'],\n",
    "                             aggfunc=['count','nunique','sum','mean']\n",
    "    ).fillna(-1).sort_index()\n",
    "\n",
    "\n",
    "    features = pd.pivot_table(\n",
    "                             orders_data,\n",
    "                             index =['ClientUUId'],\n",
    "                             values=['MenuPrice','ClientOrderNumber',\n",
    "                                     'ProductTotalPrice','OrderTotalPrice',\n",
    "                                     'OrderUUId_count','Skidka','Skidka_otn',\n",
    "                                     'addressId_count','deliverySectorId_count',\n",
    "                                     'UnitUUId_count','ProductUUId_count',\n",
    "                                     'OrderUUId_appl_mean','addressId_appl_mean',\n",
    "                                     'deliverySectorId_appl_mean',\n",
    "                                     'UnitUUId_appl_mean','ProductUUId_appl_mean',\n",
    "                                     'OrderUUId_appl_sum','addressId_appl_sum',\n",
    "                                     'deliverySectorId_appl_sum',\n",
    "                                     'UnitUUId_appl_sum','ProductUUId_appl_sum',\n",
    "                                     'hour','absolute_time','dayofweek','month','all_day_time'],\n",
    "                             columns=['apply_promo'],\n",
    "                             aggfunc=['mean','sum','min','max','std','nunique',lambda x:np.max(x) - np.min(x)]\n",
    "        \n",
    "    ).fillna(-1).sort_index()\n",
    "    \n",
    "    features.columns = [f'order_feats_{x[0]}_{x[1]}_{x[2]}' for x in features.columns]\n",
    "    payment_features.columns = [f'order_payment_{x[0]}_{x[1]}_{x[2]}_{x[3]}' for x in payment_features.columns]\n",
    "    order_features.columns = [f'order_order_{x[0]}_{x[1]}_{x[2]}_{x[3]}' for x in order_features.columns]\n",
    "    category_features.columns = [f'order_order_{x[0]}_{x[1]}_{x[2]}_{x[3]}' for x in category_features.columns]\n",
    "    order_state_features.columns = [f'order_order_{x[0]}_{x[1]}_{x[2]}_{x[3]}' for x in order_state_features.columns]\n",
    "    \n",
    "    return pd.concat([\n",
    "        appl_features,\n",
    "        newcl_features,\n",
    "        payment_features,\n",
    "        order_features,\n",
    "        time_day_feats,\n",
    "        order_state_features,\n",
    "        time_shift_feats,\n",
    "        features,\n",
    "    ],axis=1)"
   ]
  },
  {
   "cell_type": "code",
   "execution_count": 111,
   "id": "79b5c05c-702d-4e03-be1e-d0da0ba69815",
   "metadata": {
    "tags": []
   },
   "outputs": [
    {
     "name": "stderr",
     "output_type": "stream",
     "text": [
      "/tmp/ipykernel_77/1861438450.py:88: RuntimeWarning: invalid value encountered in scalar subtract\n",
      "  aggfunc=['mean','sum','min','max','std','nunique',lambda x:np.max(x) - np.min(x)]\n"
     ]
    }
   ],
   "source": [
    "order_features = get_order_data_feats(orders_data)"
   ]
  },
  {
   "cell_type": "code",
   "execution_count": 112,
   "id": "dcff042f-f73a-4b54-b790-d02806565344",
   "metadata": {
    "tags": []
   },
   "outputs": [],
   "source": [
    "mobile_embeds = pd.read_parquet('mobile_embeds.parquet')\n",
    "order_embeds = pd.read_parquet('order_embeds.parquet')"
   ]
  },
  {
   "cell_type": "code",
   "execution_count": 113,
   "id": "2ba01d7a-5dee-490b-bd1a-9b656c0fd987",
   "metadata": {
    "tags": []
   },
   "outputs": [],
   "source": [
    "mobile_embeds.columns = [f\"mobile_{x}\" for x in mobile_embeds.columns]\n",
    "order_embeds.columns = [f\"order_{x}\" for x in order_embeds.columns]"
   ]
  },
  {
   "cell_type": "code",
   "execution_count": 114,
   "id": "eb4928e5-eafb-44e7-aab0-d4ce53247703",
   "metadata": {
    "tags": []
   },
   "outputs": [],
   "source": [
    "all_features = pd.concat([\n",
    "    order_features,\n",
    "    clients_features,\n",
    "    mobile_features,\n",
    "    mobile_embeds,\n",
    "    order_embeds\n",
    "],axis=1).fillna(-100)"
   ]
  },
  {
   "cell_type": "code",
   "execution_count": 115,
   "id": "5edc3405-3e43-4d68-979f-1e6c95d29a31",
   "metadata": {
    "tags": []
   },
   "outputs": [],
   "source": [
    "all_features = all_features.T.drop_duplicates().T\n",
    "all_features['ClientUUId'] = all_features.index\n",
    "all_features.index = range(len(all_features))"
   ]
  },
  {
   "cell_type": "code",
   "execution_count": 116,
   "id": "eecca4bf-6432-445d-8f45-f7f4205b629f",
   "metadata": {
    "tags": []
   },
   "outputs": [
    {
     "data": {
      "text/plain": [
       "(30000, 919)"
      ]
     },
     "execution_count": 116,
     "metadata": {},
     "output_type": "execute_result"
    }
   ],
   "source": [
    "all_features.shape"
   ]
  },
  {
   "cell_type": "code",
   "execution_count": 117,
   "id": "6ad021f7-1476-43ac-8a82-767dceee93a1",
   "metadata": {
    "tags": []
   },
   "outputs": [],
   "source": [
    "best_feats = np.load('best_features1.npy')"
   ]
  },
  {
   "cell_type": "code",
   "execution_count": 118,
   "id": "fde1d1fd-8d6c-42f0-bf23-f317a9a285ec",
   "metadata": {
    "tags": []
   },
   "outputs": [],
   "source": [
    "train_data['vigoda'] = train_data['Discount'] / train_data['OrderPrice']\n",
    "train_data['pr'] =  train_data['OrderPrice'] - train_data['Discount']"
   ]
  },
  {
   "cell_type": "code",
   "execution_count": 158,
   "id": "0ae987e6-b7a8-4e8a-a9b8-82feaacd02bb",
   "metadata": {
    "tags": []
   },
   "outputs": [],
   "source": [
    "params = {\n",
    "    'iterations':1000,\n",
    "    'learning_rate':0.01,\n",
    "    'loss_function':'CrossEntropy',\n",
    "    'max_depth':7,\n",
    "    'eval_metric':'AUC',\n",
    "    'task_type':'GPU',\n",
    "    'random_seed':56\n",
    "}\n",
    "\n",
    "drop_cols = [\n",
    "    'LocalBeginDate',\n",
    "    'LocalEndDate',\n",
    "    'ClientUUId',\n",
    "]\n",
    "\n",
    "cat_cols = [\n",
    "    'Id',\n",
    "    'OrderType',\n",
    "]\n",
    "\n",
    "label_col = 'apply_promo'\n",
    "num_fold = 5\n",
    "n_fold_test = 10\n",
    "test_c_stop = 100\n",
    "num_repits = 1"
   ]
  },
  {
   "cell_type": "code",
   "execution_count": 120,
   "id": "5c5006d6-aa3f-4b05-b26a-6494f944bf88",
   "metadata": {
    "tags": []
   },
   "outputs": [],
   "source": [
    "train_data = train_data.merge(all_features)"
   ]
  },
  {
   "cell_type": "code",
   "execution_count": 121,
   "id": "ecd434c4-115c-4ca0-af5b-1ebecaf86493",
   "metadata": {
    "tags": []
   },
   "outputs": [],
   "source": [
    "train_data = train_data[best_feats.tolist() + drop_cols + [label_col,'OrderPrice','vigoda','pr']]"
   ]
  },
  {
   "cell_type": "code",
   "execution_count": 159,
   "id": "395553de-e444-43cd-bf43-e1d088f8cd21",
   "metadata": {
    "tags": []
   },
   "outputs": [],
   "source": [
    "class CatBoostKfoldWraper(BaseEstimator):\n",
    "    def __init__(self,num_folds,num_repits,params,random_state=56):\n",
    "        self.models = []\n",
    "        self.params = params\n",
    "        self.random_state = random_state\n",
    "        self.num_folds = num_folds\n",
    "        \n",
    "    def fit(self,train_data,cat_features=None,drop_cols=None,label_col=None,verbose=False):\n",
    "        scores = []\n",
    "        \n",
    "        for i in trange(num_repits):\n",
    "            kfold = StratifiedGroupKFold(self.num_folds,random_state=self.random_state+i,shuffle=True)\n",
    "            for train_index, test_index in (kfold.split(train_data,train_data[label_col],groups=train_data['ClientUUId'])):\n",
    "                train_df = train_data.iloc[train_index]\n",
    "                test_df = train_data.iloc[test_index]\n",
    "\n",
    "                train_pool = Pool(\n",
    "                    train_df.drop([label_col]+drop_cols,axis=1),\n",
    "                    label = train_df[label_col],\n",
    "                    cat_features = cat_features\n",
    "                )\n",
    "\n",
    "                eval_pool = Pool(\n",
    "                    test_df.drop([label_col]+drop_cols,axis=1),\n",
    "                    label = test_df[label_col],\n",
    "                    cat_features = cat_features\n",
    "                )\n",
    "\n",
    "                cbm = CatBoostClassifier(**self.params)\n",
    "                cbm.fit(train_pool,eval_set=eval_pool,verbose=verbose)\n",
    "\n",
    "                score = roc_auc_score(test_df[label_col],cbm.predict_proba(eval_pool)[:,1])\n",
    "                scores += [score]\n",
    "                self.models += [cbm]\n",
    "        #print(f\"Total Score {np.mean(scores)}\")\n",
    "            \n",
    "    def predict(self,test_data,drop_cols=None,cat_features=None):\n",
    "        test_pool = Pool(\n",
    "            test_data.drop(drop_cols,axis=1),\n",
    "            cat_features=cat_features\n",
    "        )\n",
    "        preds = np.mean([model.predict_proba(test_pool)[:,1] for model in self.models],axis=0)\n",
    "        return preds\n",
    "    \n",
    "    def get_feature_importance(self):\n",
    "        imp_0 = self.models[0].get_feature_importance(prettified=True).set_index('Feature Id')\n",
    "        for i in range(1,len(self.models)):\n",
    "            imp_0 += self.models[i].get_feature_importance(prettified=True).set_index('Feature Id')\n",
    "        return (imp_0 / len(self.models)).sort_values(by='Importances')[::-1]"
   ]
  },
  {
   "cell_type": "code",
   "execution_count": 160,
   "id": "00f9797f-5e31-4b22-86df-3a0eb396c0e3",
   "metadata": {
    "tags": []
   },
   "outputs": [],
   "source": [
    "def model_builder(train_data):\n",
    "    model = CatBoostKfoldWraper(num_fold,num_repits,params)\n",
    "    \n",
    "    model.fit(\n",
    "        train_data,\n",
    "        cat_features=cat_cols,\n",
    "        drop_cols=drop_cols,\n",
    "        label_col=label_col,\n",
    "        verbose=500\n",
    "    )\n",
    "    \n",
    "    return model\n",
    "\n",
    "def model_predicter(model,test_data):\n",
    "    return model.predict(test_data,drop_cols=drop_cols,cat_features=cat_cols)"
   ]
  },
  {
   "cell_type": "code",
   "execution_count": 161,
   "id": "bffd25ed-8d02-4521-87be-1120979f0258",
   "metadata": {
    "tags": []
   },
   "outputs": [],
   "source": [
    "class TestKFoldWrapper():\n",
    "    def __init__(self,num_folds=10,top_c=1,random_state=56):\n",
    "        self.top_c = top_c\n",
    "        self.kfold = StratifiedGroupKFold(num_folds,random_state=random_state,shuffle=True)\n",
    "    \n",
    "    def run_experiments(self,model_builder,model_predicter,train_data,label_col=None):\n",
    "        self.models = []\n",
    "        self.scores = []\n",
    "        c = 0\n",
    "        \n",
    "        for train_index, test_index in tqdm(self.kfold.split(train_data,train_data[label_col],groups=train_data['ClientUUId'])):\n",
    "            train_df = train_data.iloc[train_index]\n",
    "            test_df = train_data.iloc[test_index]\n",
    "            \n",
    "            model = model_builder(train_df)\n",
    "            score = roc_auc_score(test_df[label_col],model_predicter(model,test_df))\n",
    "            self.scores.append(score)\n",
    "            self.models.append(model)\n",
    "            c += 1\n",
    "            if c >= self.top_c:\n",
    "                break\n",
    "        \n",
    "        print(f\"Total Score {np.mean(self.scores)}\")\n"
   ]
  },
  {
   "cell_type": "code",
   "execution_count": 162,
   "id": "b2160205-a7b5-4d67-8529-4c328890c5df",
   "metadata": {
    "collapsed": true,
    "jupyter": {
     "outputs_hidden": true
    },
    "tags": []
   },
   "outputs": [
    {
     "data": {
      "application/vnd.jupyter.widget-view+json": {
       "model_id": "044d0a998f6749e7ba6fddbb9c4cbf6c",
       "version_major": 2,
       "version_minor": 0
      },
      "text/plain": [
       "0it [00:00, ?it/s]"
      ]
     },
     "metadata": {},
     "output_type": "display_data"
    },
    {
     "data": {
      "application/vnd.jupyter.widget-view+json": {
       "model_id": "9eb872b72f0e43608422578b40173773",
       "version_major": 2,
       "version_minor": 0
      },
      "text/plain": [
       "  0%|          | 0/1 [00:00<?, ?it/s]"
      ]
     },
     "metadata": {},
     "output_type": "display_data"
    },
    {
     "name": "stderr",
     "output_type": "stream",
     "text": [
      "Default metric period is 5 because AUC is/are not implemented for GPU\n"
     ]
    },
    {
     "name": "stdout",
     "output_type": "stream",
     "text": [
      "0:\ttest: 0.5291578\tbest: 0.5291578 (0)\ttotal: 13.9ms\tremaining: 13.8s\n",
      "500:\ttest: 0.7770278\tbest: 0.7790359 (355)\ttotal: 23.5s\tremaining: 23.5s\n",
      "999:\ttest: 0.7727700\tbest: 0.7790359 (355)\ttotal: 47.5s\tremaining: 0us\n",
      "bestTest = 0.7790359259\n",
      "bestIteration = 355\n",
      "Shrink model to first 356 iterations.\n"
     ]
    },
    {
     "name": "stderr",
     "output_type": "stream",
     "text": [
      "Default metric period is 5 because AUC is/are not implemented for GPU\n"
     ]
    },
    {
     "name": "stdout",
     "output_type": "stream",
     "text": [
      "0:\ttest: 0.5498991\tbest: 0.5498991 (0)\ttotal: 21ms\tremaining: 21s\n",
      "500:\ttest: 0.7694749\tbest: 0.7695445 (490)\ttotal: 23.8s\tremaining: 23.7s\n",
      "999:\ttest: 0.7705436\tbest: 0.7724399 (815)\ttotal: 47.9s\tremaining: 0us\n",
      "bestTest = 0.7724398971\n",
      "bestIteration = 815\n",
      "Shrink model to first 816 iterations.\n"
     ]
    },
    {
     "name": "stderr",
     "output_type": "stream",
     "text": [
      "Default metric period is 5 because AUC is/are not implemented for GPU\n"
     ]
    },
    {
     "name": "stdout",
     "output_type": "stream",
     "text": [
      "0:\ttest: 0.5465097\tbest: 0.5465097 (0)\ttotal: 22ms\tremaining: 22s\n",
      "500:\ttest: 0.7797034\tbest: 0.7891747 (75)\ttotal: 23.6s\tremaining: 23.5s\n",
      "999:\ttest: 0.7727748\tbest: 0.7891747 (75)\ttotal: 47.8s\tremaining: 0us\n",
      "bestTest = 0.7891747355\n",
      "bestIteration = 75\n",
      "Shrink model to first 76 iterations.\n"
     ]
    },
    {
     "name": "stderr",
     "output_type": "stream",
     "text": [
      "Default metric period is 5 because AUC is/are not implemented for GPU\n"
     ]
    },
    {
     "name": "stdout",
     "output_type": "stream",
     "text": [
      "0:\ttest: 0.5541841\tbest: 0.5541841 (0)\ttotal: 18.2ms\tremaining: 18.1s\n",
      "500:\ttest: 0.7896367\tbest: 0.7903101 (405)\ttotal: 24.1s\tremaining: 24s\n",
      "999:\ttest: 0.7938451\tbest: 0.7938451 (999)\ttotal: 48.5s\tremaining: 0us\n",
      "bestTest = 0.7938451171\n",
      "bestIteration = 999\n"
     ]
    },
    {
     "name": "stderr",
     "output_type": "stream",
     "text": [
      "Default metric period is 5 because AUC is/are not implemented for GPU\n"
     ]
    },
    {
     "name": "stdout",
     "output_type": "stream",
     "text": [
      "0:\ttest: 0.5240374\tbest: 0.5240374 (0)\ttotal: 16.2ms\tremaining: 16.2s\n",
      "500:\ttest: 0.7700291\tbest: 0.7701522 (490)\ttotal: 23.8s\tremaining: 23.7s\n",
      "999:\ttest: 0.7739676\tbest: 0.7740786 (860)\ttotal: 47.9s\tremaining: 0us\n",
      "bestTest = 0.7740786374\n",
      "bestIteration = 860\n",
      "Shrink model to first 861 iterations.\n"
     ]
    },
    {
     "data": {
      "application/vnd.jupyter.widget-view+json": {
       "model_id": "311ad36349094819882ed074c7a09114",
       "version_major": 2,
       "version_minor": 0
      },
      "text/plain": [
       "  0%|          | 0/1 [00:00<?, ?it/s]"
      ]
     },
     "metadata": {},
     "output_type": "display_data"
    },
    {
     "name": "stderr",
     "output_type": "stream",
     "text": [
      "Default metric period is 5 because AUC is/are not implemented for GPU\n"
     ]
    },
    {
     "name": "stdout",
     "output_type": "stream",
     "text": [
      "0:\ttest: 0.5421959\tbest: 0.5421959 (0)\ttotal: 14.6ms\tremaining: 14.6s\n",
      "500:\ttest: 0.7950425\tbest: 0.7961564 (430)\ttotal: 23.8s\tremaining: 23.7s\n",
      "999:\ttest: 0.7915820\tbest: 0.7961564 (430)\ttotal: 48.9s\tremaining: 0us\n",
      "bestTest = 0.7961564064\n",
      "bestIteration = 430\n",
      "Shrink model to first 431 iterations.\n"
     ]
    },
    {
     "name": "stderr",
     "output_type": "stream",
     "text": [
      "Default metric period is 5 because AUC is/are not implemented for GPU\n"
     ]
    },
    {
     "name": "stdout",
     "output_type": "stream",
     "text": [
      "0:\ttest: 0.5373290\tbest: 0.5373290 (0)\ttotal: 17ms\tremaining: 16.9s\n",
      "500:\ttest: 0.7641284\tbest: 0.7647828 (470)\ttotal: 24.1s\tremaining: 24s\n",
      "999:\ttest: 0.7622771\tbest: 0.7652158 (670)\ttotal: 48.9s\tremaining: 0us\n",
      "bestTest = 0.7652157545\n",
      "bestIteration = 670\n",
      "Shrink model to first 671 iterations.\n"
     ]
    },
    {
     "name": "stderr",
     "output_type": "stream",
     "text": [
      "Default metric period is 5 because AUC is/are not implemented for GPU\n"
     ]
    },
    {
     "name": "stdout",
     "output_type": "stream",
     "text": [
      "0:\ttest: 0.5341925\tbest: 0.5341925 (0)\ttotal: 15.4ms\tremaining: 15.4s\n",
      "500:\ttest: 0.7702050\tbest: 0.7711396 (445)\ttotal: 24.1s\tremaining: 24s\n",
      "999:\ttest: 0.7635940\tbest: 0.7711396 (445)\ttotal: 48.5s\tremaining: 0us\n",
      "bestTest = 0.7711396217\n",
      "bestIteration = 445\n",
      "Shrink model to first 446 iterations.\n"
     ]
    },
    {
     "name": "stderr",
     "output_type": "stream",
     "text": [
      "Default metric period is 5 because AUC is/are not implemented for GPU\n"
     ]
    },
    {
     "name": "stdout",
     "output_type": "stream",
     "text": [
      "0:\ttest: 0.5405416\tbest: 0.5405416 (0)\ttotal: 15.7ms\tremaining: 15.7s\n",
      "500:\ttest: 0.7697665\tbest: 0.7712349 (255)\ttotal: 23.7s\tremaining: 23.6s\n",
      "999:\ttest: 0.7615603\tbest: 0.7712349 (255)\ttotal: 48.3s\tremaining: 0us\n",
      "bestTest = 0.77123487\n",
      "bestIteration = 255\n",
      "Shrink model to first 256 iterations.\n"
     ]
    },
    {
     "name": "stderr",
     "output_type": "stream",
     "text": [
      "Default metric period is 5 because AUC is/are not implemented for GPU\n"
     ]
    },
    {
     "name": "stdout",
     "output_type": "stream",
     "text": [
      "0:\ttest: 0.5479324\tbest: 0.5479324 (0)\ttotal: 15.2ms\tremaining: 15.1s\n",
      "500:\ttest: 0.7678386\tbest: 0.7699664 (170)\ttotal: 23.8s\tremaining: 23.7s\n",
      "999:\ttest: 0.7679067\tbest: 0.7699664 (170)\ttotal: 48.3s\tremaining: 0us\n",
      "bestTest = 0.7699663639\n",
      "bestIteration = 170\n",
      "Shrink model to first 171 iterations.\n"
     ]
    },
    {
     "data": {
      "application/vnd.jupyter.widget-view+json": {
       "model_id": "c70f2efa1a304129b61c7139cb2c51fd",
       "version_major": 2,
       "version_minor": 0
      },
      "text/plain": [
       "  0%|          | 0/1 [00:00<?, ?it/s]"
      ]
     },
     "metadata": {},
     "output_type": "display_data"
    },
    {
     "name": "stderr",
     "output_type": "stream",
     "text": [
      "Default metric period is 5 because AUC is/are not implemented for GPU\n"
     ]
    },
    {
     "name": "stdout",
     "output_type": "stream",
     "text": [
      "0:\ttest: 0.5591819\tbest: 0.5591819 (0)\ttotal: 16.1ms\tremaining: 16s\n",
      "500:\ttest: 0.7327316\tbest: 0.7327316 (500)\ttotal: 24s\tremaining: 23.9s\n",
      "999:\ttest: 0.7339741\tbest: 0.7355404 (700)\ttotal: 48.6s\tremaining: 0us\n",
      "bestTest = 0.7355404496\n",
      "bestIteration = 700\n",
      "Shrink model to first 701 iterations.\n"
     ]
    },
    {
     "name": "stderr",
     "output_type": "stream",
     "text": [
      "Default metric period is 5 because AUC is/are not implemented for GPU\n"
     ]
    },
    {
     "name": "stdout",
     "output_type": "stream",
     "text": [
      "0:\ttest: 0.5508027\tbest: 0.5508027 (0)\ttotal: 16ms\tremaining: 16s\n",
      "500:\ttest: 0.8009461\tbest: 0.8084205 (230)\ttotal: 24.1s\tremaining: 24s\n",
      "999:\ttest: 0.7871029\tbest: 0.8084205 (230)\ttotal: 48.4s\tremaining: 0us\n",
      "bestTest = 0.8084205389\n",
      "bestIteration = 230\n",
      "Shrink model to first 231 iterations.\n"
     ]
    },
    {
     "name": "stderr",
     "output_type": "stream",
     "text": [
      "Default metric period is 5 because AUC is/are not implemented for GPU\n"
     ]
    },
    {
     "name": "stdout",
     "output_type": "stream",
     "text": [
      "0:\ttest: 0.5255332\tbest: 0.5255332 (0)\ttotal: 14.8ms\tremaining: 14.8s\n",
      "500:\ttest: 0.8057029\tbest: 0.8098621 (355)\ttotal: 23.9s\tremaining: 23.8s\n",
      "999:\ttest: 0.7913927\tbest: 0.8098621 (355)\ttotal: 48.3s\tremaining: 0us\n",
      "bestTest = 0.8098620772\n",
      "bestIteration = 355\n",
      "Shrink model to first 356 iterations.\n"
     ]
    },
    {
     "name": "stderr",
     "output_type": "stream",
     "text": [
      "Default metric period is 5 because AUC is/are not implemented for GPU\n"
     ]
    },
    {
     "name": "stdout",
     "output_type": "stream",
     "text": [
      "0:\ttest: 0.5433789\tbest: 0.5433789 (0)\ttotal: 14.5ms\tremaining: 14.5s\n",
      "500:\ttest: 0.7436132\tbest: 0.7436216 (495)\ttotal: 24.3s\tremaining: 24.2s\n",
      "999:\ttest: 0.7529610\tbest: 0.7531469 (985)\ttotal: 49s\tremaining: 0us\n",
      "bestTest = 0.7531468868\n",
      "bestIteration = 985\n",
      "Shrink model to first 986 iterations.\n"
     ]
    },
    {
     "name": "stderr",
     "output_type": "stream",
     "text": [
      "Default metric period is 5 because AUC is/are not implemented for GPU\n"
     ]
    },
    {
     "name": "stdout",
     "output_type": "stream",
     "text": [
      "0:\ttest: 0.5314177\tbest: 0.5314177 (0)\ttotal: 16.2ms\tremaining: 16.1s\n",
      "500:\ttest: 0.7430389\tbest: 0.7476655 (385)\ttotal: 23.7s\tremaining: 23.6s\n",
      "999:\ttest: 0.7403809\tbest: 0.7476655 (385)\ttotal: 47.8s\tremaining: 0us\n",
      "bestTest = 0.7476655245\n",
      "bestIteration = 385\n",
      "Shrink model to first 386 iterations.\n"
     ]
    },
    {
     "data": {
      "application/vnd.jupyter.widget-view+json": {
       "model_id": "598ca51ec9a14dbbae00459ad351afa3",
       "version_major": 2,
       "version_minor": 0
      },
      "text/plain": [
       "  0%|          | 0/1 [00:00<?, ?it/s]"
      ]
     },
     "metadata": {},
     "output_type": "display_data"
    },
    {
     "name": "stderr",
     "output_type": "stream",
     "text": [
      "Default metric period is 5 because AUC is/are not implemented for GPU\n"
     ]
    },
    {
     "name": "stdout",
     "output_type": "stream",
     "text": [
      "0:\ttest: 0.5291526\tbest: 0.5291526 (0)\ttotal: 15.7ms\tremaining: 15.7s\n",
      "500:\ttest: 0.7320710\tbest: 0.7320710 (500)\ttotal: 23.9s\tremaining: 23.8s\n",
      "999:\ttest: 0.7350286\tbest: 0.7354928 (990)\ttotal: 48.6s\tremaining: 0us\n",
      "bestTest = 0.7354928255\n",
      "bestIteration = 990\n",
      "Shrink model to first 991 iterations.\n"
     ]
    },
    {
     "name": "stderr",
     "output_type": "stream",
     "text": [
      "Default metric period is 5 because AUC is/are not implemented for GPU\n"
     ]
    },
    {
     "name": "stdout",
     "output_type": "stream",
     "text": [
      "0:\ttest: 0.5450152\tbest: 0.5450152 (0)\ttotal: 16ms\tremaining: 16s\n",
      "500:\ttest: 0.7555572\tbest: 0.7558942 (490)\ttotal: 23.9s\tremaining: 23.8s\n",
      "999:\ttest: 0.7598435\tbest: 0.7613446 (885)\ttotal: 48.2s\tremaining: 0us\n",
      "bestTest = 0.761344552\n",
      "bestIteration = 885\n",
      "Shrink model to first 886 iterations.\n"
     ]
    },
    {
     "name": "stderr",
     "output_type": "stream",
     "text": [
      "Default metric period is 5 because AUC is/are not implemented for GPU\n"
     ]
    },
    {
     "name": "stdout",
     "output_type": "stream",
     "text": [
      "0:\ttest: 0.5396785\tbest: 0.5396785 (0)\ttotal: 13.7ms\tremaining: 13.7s\n",
      "500:\ttest: 0.7577391\tbest: 0.7702219 (145)\ttotal: 23.8s\tremaining: 23.7s\n",
      "999:\ttest: 0.7503097\tbest: 0.7702219 (145)\ttotal: 47.9s\tremaining: 0us\n",
      "bestTest = 0.770221889\n",
      "bestIteration = 145\n",
      "Shrink model to first 146 iterations.\n"
     ]
    },
    {
     "name": "stderr",
     "output_type": "stream",
     "text": [
      "Default metric period is 5 because AUC is/are not implemented for GPU\n"
     ]
    },
    {
     "name": "stdout",
     "output_type": "stream",
     "text": [
      "0:\ttest: 0.5571058\tbest: 0.5571058 (0)\ttotal: 15.4ms\tremaining: 15.4s\n",
      "500:\ttest: 0.8007773\tbest: 0.8017529 (410)\ttotal: 23.8s\tremaining: 23.7s\n",
      "999:\ttest: 0.7946445\tbest: 0.8017529 (410)\ttotal: 48.4s\tremaining: 0us\n",
      "bestTest = 0.8017529249\n",
      "bestIteration = 410\n",
      "Shrink model to first 411 iterations.\n"
     ]
    },
    {
     "name": "stderr",
     "output_type": "stream",
     "text": [
      "Default metric period is 5 because AUC is/are not implemented for GPU\n"
     ]
    },
    {
     "name": "stdout",
     "output_type": "stream",
     "text": [
      "0:\ttest: 0.5303495\tbest: 0.5303495 (0)\ttotal: 15.2ms\tremaining: 15.2s\n",
      "500:\ttest: 0.7826564\tbest: 0.7840828 (380)\ttotal: 24.2s\tremaining: 24.1s\n",
      "999:\ttest: 0.7760787\tbest: 0.7840828 (380)\ttotal: 49s\tremaining: 0us\n",
      "bestTest = 0.7840827703\n",
      "bestIteration = 380\n",
      "Shrink model to first 381 iterations.\n"
     ]
    },
    {
     "data": {
      "application/vnd.jupyter.widget-view+json": {
       "model_id": "71807eccd7214b0f842ebff269f3bfb5",
       "version_major": 2,
       "version_minor": 0
      },
      "text/plain": [
       "  0%|          | 0/1 [00:00<?, ?it/s]"
      ]
     },
     "metadata": {},
     "output_type": "display_data"
    },
    {
     "name": "stderr",
     "output_type": "stream",
     "text": [
      "Default metric period is 5 because AUC is/are not implemented for GPU\n"
     ]
    },
    {
     "name": "stdout",
     "output_type": "stream",
     "text": [
      "0:\ttest: 0.5403728\tbest: 0.5403728 (0)\ttotal: 15.1ms\tremaining: 15.1s\n",
      "500:\ttest: 0.7584716\tbest: 0.7649713 (330)\ttotal: 23.9s\tremaining: 23.8s\n",
      "999:\ttest: 0.7506155\tbest: 0.7649713 (330)\ttotal: 48.6s\tremaining: 0us\n",
      "bestTest = 0.7649713159\n",
      "bestIteration = 330\n",
      "Shrink model to first 331 iterations.\n"
     ]
    },
    {
     "name": "stderr",
     "output_type": "stream",
     "text": [
      "Default metric period is 5 because AUC is/are not implemented for GPU\n"
     ]
    },
    {
     "name": "stdout",
     "output_type": "stream",
     "text": [
      "0:\ttest: 0.5469549\tbest: 0.5469549 (0)\ttotal: 15ms\tremaining: 15s\n",
      "500:\ttest: 0.7563549\tbest: 0.7568886 (460)\ttotal: 23.7s\tremaining: 23.6s\n",
      "999:\ttest: 0.7571365\tbest: 0.7582009 (775)\ttotal: 47.8s\tremaining: 0us\n",
      "bestTest = 0.7582008839\n",
      "bestIteration = 775\n",
      "Shrink model to first 776 iterations.\n"
     ]
    },
    {
     "name": "stderr",
     "output_type": "stream",
     "text": [
      "Default metric period is 5 because AUC is/are not implemented for GPU\n"
     ]
    },
    {
     "name": "stdout",
     "output_type": "stream",
     "text": [
      "0:\ttest: 0.5419255\tbest: 0.5419255 (0)\ttotal: 14.9ms\tremaining: 14.9s\n",
      "500:\ttest: 0.7907553\tbest: 0.7918285 (475)\ttotal: 23.6s\tremaining: 23.5s\n",
      "999:\ttest: 0.7934318\tbest: 0.7952258 (855)\ttotal: 48.2s\tremaining: 0us\n",
      "bestTest = 0.7952257991\n",
      "bestIteration = 855\n",
      "Shrink model to first 856 iterations.\n"
     ]
    },
    {
     "name": "stderr",
     "output_type": "stream",
     "text": [
      "Default metric period is 5 because AUC is/are not implemented for GPU\n"
     ]
    },
    {
     "name": "stdout",
     "output_type": "stream",
     "text": [
      "0:\ttest: 0.5307242\tbest: 0.5307242 (0)\ttotal: 14.2ms\tremaining: 14.2s\n",
      "500:\ttest: 0.7659968\tbest: 0.7666491 (485)\ttotal: 24.1s\tremaining: 24s\n",
      "999:\ttest: 0.7720178\tbest: 0.7728277 (815)\ttotal: 48.6s\tremaining: 0us\n",
      "bestTest = 0.7728276849\n",
      "bestIteration = 815\n",
      "Shrink model to first 816 iterations.\n"
     ]
    },
    {
     "name": "stderr",
     "output_type": "stream",
     "text": [
      "Default metric period is 5 because AUC is/are not implemented for GPU\n"
     ]
    },
    {
     "name": "stdout",
     "output_type": "stream",
     "text": [
      "0:\ttest: 0.5312662\tbest: 0.5312662 (0)\ttotal: 18.1ms\tremaining: 18.1s\n",
      "500:\ttest: 0.7805716\tbest: 0.7853457 (245)\ttotal: 24.1s\tremaining: 24s\n",
      "999:\ttest: 0.7719502\tbest: 0.7853457 (245)\ttotal: 48.8s\tremaining: 0us\n",
      "bestTest = 0.7853457332\n",
      "bestIteration = 245\n",
      "Shrink model to first 246 iterations.\n"
     ]
    },
    {
     "data": {
      "application/vnd.jupyter.widget-view+json": {
       "model_id": "eb746462d8604f1f8cccaa5c7a18889e",
       "version_major": 2,
       "version_minor": 0
      },
      "text/plain": [
       "  0%|          | 0/1 [00:00<?, ?it/s]"
      ]
     },
     "metadata": {},
     "output_type": "display_data"
    },
    {
     "name": "stderr",
     "output_type": "stream",
     "text": [
      "Default metric period is 5 because AUC is/are not implemented for GPU\n"
     ]
    },
    {
     "name": "stdout",
     "output_type": "stream",
     "text": [
      "0:\ttest: 0.5385603\tbest: 0.5385603 (0)\ttotal: 31.5ms\tremaining: 31.5s\n",
      "500:\ttest: 0.7703426\tbest: 0.7730598 (365)\ttotal: 23.9s\tremaining: 23.8s\n",
      "999:\ttest: 0.7594776\tbest: 0.7730598 (365)\ttotal: 48.6s\tremaining: 0us\n",
      "bestTest = 0.773059845\n",
      "bestIteration = 365\n",
      "Shrink model to first 366 iterations.\n"
     ]
    },
    {
     "name": "stderr",
     "output_type": "stream",
     "text": [
      "Default metric period is 5 because AUC is/are not implemented for GPU\n"
     ]
    },
    {
     "name": "stdout",
     "output_type": "stream",
     "text": [
      "0:\ttest: 0.5258165\tbest: 0.5258165 (0)\ttotal: 15.2ms\tremaining: 15.2s\n",
      "500:\ttest: 0.8008124\tbest: 0.8028598 (380)\ttotal: 24s\tremaining: 24s\n",
      "999:\ttest: 0.7976022\tbest: 0.8028598 (380)\ttotal: 48.3s\tremaining: 0us\n",
      "bestTest = 0.8028597832\n",
      "bestIteration = 380\n",
      "Shrink model to first 381 iterations.\n"
     ]
    },
    {
     "name": "stderr",
     "output_type": "stream",
     "text": [
      "Default metric period is 5 because AUC is/are not implemented for GPU\n"
     ]
    },
    {
     "name": "stdout",
     "output_type": "stream",
     "text": [
      "0:\ttest: 0.5522988\tbest: 0.5522988 (0)\ttotal: 15.3ms\tremaining: 15.3s\n",
      "500:\ttest: 0.7690729\tbest: 0.7701645 (410)\ttotal: 23.9s\tremaining: 23.8s\n",
      "999:\ttest: 0.7595562\tbest: 0.7701645 (410)\ttotal: 48.2s\tremaining: 0us\n",
      "bestTest = 0.7701645494\n",
      "bestIteration = 410\n",
      "Shrink model to first 411 iterations.\n"
     ]
    },
    {
     "name": "stderr",
     "output_type": "stream",
     "text": [
      "Default metric period is 5 because AUC is/are not implemented for GPU\n"
     ]
    },
    {
     "name": "stdout",
     "output_type": "stream",
     "text": [
      "0:\ttest: 0.5321336\tbest: 0.5321336 (0)\ttotal: 15.6ms\tremaining: 15.6s\n",
      "500:\ttest: 0.7495285\tbest: 0.7498019 (490)\ttotal: 24.1s\tremaining: 24s\n",
      "999:\ttest: 0.7556458\tbest: 0.7560738 (990)\ttotal: 48.7s\tremaining: 0us\n",
      "bestTest = 0.7560738325\n",
      "bestIteration = 990\n",
      "Shrink model to first 991 iterations.\n"
     ]
    },
    {
     "name": "stderr",
     "output_type": "stream",
     "text": [
      "Default metric period is 5 because AUC is/are not implemented for GPU\n"
     ]
    },
    {
     "name": "stdout",
     "output_type": "stream",
     "text": [
      "0:\ttest: 0.5577211\tbest: 0.5577211 (0)\ttotal: 15ms\tremaining: 15s\n",
      "500:\ttest: 0.7631039\tbest: 0.7777802 (5)\ttotal: 24.1s\tremaining: 24s\n",
      "999:\ttest: 0.7656584\tbest: 0.7777802 (5)\ttotal: 48.6s\tremaining: 0us\n",
      "bestTest = 0.777780205\n",
      "bestIteration = 5\n",
      "Shrink model to first 6 iterations.\n"
     ]
    },
    {
     "data": {
      "application/vnd.jupyter.widget-view+json": {
       "model_id": "0529499d85d6490790c6ecf7b7e20c5b",
       "version_major": 2,
       "version_minor": 0
      },
      "text/plain": [
       "  0%|          | 0/1 [00:00<?, ?it/s]"
      ]
     },
     "metadata": {},
     "output_type": "display_data"
    },
    {
     "name": "stderr",
     "output_type": "stream",
     "text": [
      "Default metric period is 5 because AUC is/are not implemented for GPU\n"
     ]
    },
    {
     "name": "stdout",
     "output_type": "stream",
     "text": [
      "0:\ttest: 0.5500532\tbest: 0.5500532 (0)\ttotal: 15.4ms\tremaining: 15.4s\n",
      "500:\ttest: 0.7520258\tbest: 0.7532638 (355)\ttotal: 23.8s\tremaining: 23.7s\n",
      "999:\ttest: 0.7445852\tbest: 0.7532638 (355)\ttotal: 48.3s\tremaining: 0us\n",
      "bestTest = 0.7532638311\n",
      "bestIteration = 355\n",
      "Shrink model to first 356 iterations.\n"
     ]
    },
    {
     "name": "stderr",
     "output_type": "stream",
     "text": [
      "Default metric period is 5 because AUC is/are not implemented for GPU\n"
     ]
    },
    {
     "name": "stdout",
     "output_type": "stream",
     "text": [
      "0:\ttest: 0.5354156\tbest: 0.5354156 (0)\ttotal: 15.8ms\tremaining: 15.8s\n",
      "500:\ttest: 0.7719339\tbest: 0.7723988 (485)\ttotal: 23.9s\tremaining: 23.8s\n",
      "999:\ttest: 0.7656330\tbest: 0.7723988 (485)\ttotal: 48.3s\tremaining: 0us\n",
      "bestTest = 0.7723987699\n",
      "bestIteration = 485\n",
      "Shrink model to first 486 iterations.\n"
     ]
    },
    {
     "name": "stderr",
     "output_type": "stream",
     "text": [
      "Default metric period is 5 because AUC is/are not implemented for GPU\n"
     ]
    },
    {
     "name": "stdout",
     "output_type": "stream",
     "text": [
      "0:\ttest: 0.5504219\tbest: 0.5504219 (0)\ttotal: 14.3ms\tremaining: 14.3s\n",
      "500:\ttest: 0.7733331\tbest: 0.7734794 (455)\ttotal: 23.7s\tremaining: 23.7s\n",
      "999:\ttest: 0.7725923\tbest: 0.7756743 (660)\ttotal: 47.8s\tremaining: 0us\n",
      "bestTest = 0.7756743431\n",
      "bestIteration = 660\n",
      "Shrink model to first 661 iterations.\n"
     ]
    },
    {
     "name": "stderr",
     "output_type": "stream",
     "text": [
      "Default metric period is 5 because AUC is/are not implemented for GPU\n"
     ]
    },
    {
     "name": "stdout",
     "output_type": "stream",
     "text": [
      "0:\ttest: 0.5313740\tbest: 0.5313740 (0)\ttotal: 15.4ms\tremaining: 15.4s\n",
      "500:\ttest: 0.8036038\tbest: 0.8047867 (400)\ttotal: 23.6s\tremaining: 23.5s\n",
      "999:\ttest: 0.7949976\tbest: 0.8047867 (400)\ttotal: 47.9s\tremaining: 0us\n",
      "bestTest = 0.8047867417\n",
      "bestIteration = 400\n",
      "Shrink model to first 401 iterations.\n"
     ]
    },
    {
     "name": "stderr",
     "output_type": "stream",
     "text": [
      "Default metric period is 5 because AUC is/are not implemented for GPU\n"
     ]
    },
    {
     "name": "stdout",
     "output_type": "stream",
     "text": [
      "0:\ttest: 0.5506247\tbest: 0.5506247 (0)\ttotal: 14.8ms\tremaining: 14.8s\n",
      "500:\ttest: 0.7539645\tbest: 0.7545996 (485)\ttotal: 24s\tremaining: 23.9s\n",
      "999:\ttest: 0.7538155\tbest: 0.7546250 (920)\ttotal: 48.2s\tremaining: 0us\n",
      "bestTest = 0.7546249628\n",
      "bestIteration = 920\n",
      "Shrink model to first 921 iterations.\n"
     ]
    },
    {
     "data": {
      "application/vnd.jupyter.widget-view+json": {
       "model_id": "a28b20342d484cac80e1636affd27562",
       "version_major": 2,
       "version_minor": 0
      },
      "text/plain": [
       "  0%|          | 0/1 [00:00<?, ?it/s]"
      ]
     },
     "metadata": {},
     "output_type": "display_data"
    },
    {
     "name": "stderr",
     "output_type": "stream",
     "text": [
      "Default metric period is 5 because AUC is/are not implemented for GPU\n"
     ]
    },
    {
     "name": "stdout",
     "output_type": "stream",
     "text": [
      "0:\ttest: 0.5353601\tbest: 0.5353601 (0)\ttotal: 14.7ms\tremaining: 14.6s\n",
      "500:\ttest: 0.7889388\tbest: 0.7893353 (465)\ttotal: 23.7s\tremaining: 23.7s\n",
      "999:\ttest: 0.7825478\tbest: 0.7895210 (625)\ttotal: 47.9s\tremaining: 0us\n",
      "bestTest = 0.7895209789\n",
      "bestIteration = 625\n",
      "Shrink model to first 626 iterations.\n"
     ]
    },
    {
     "name": "stderr",
     "output_type": "stream",
     "text": [
      "Default metric period is 5 because AUC is/are not implemented for GPU\n"
     ]
    },
    {
     "name": "stdout",
     "output_type": "stream",
     "text": [
      "0:\ttest: 0.5468577\tbest: 0.5468577 (0)\ttotal: 15.3ms\tremaining: 15.3s\n",
      "500:\ttest: 0.7586719\tbest: 0.7586719 (500)\ttotal: 23.5s\tremaining: 23.4s\n",
      "999:\ttest: 0.7545487\tbest: 0.7591575 (645)\ttotal: 48s\tremaining: 0us\n",
      "bestTest = 0.7591575384\n",
      "bestIteration = 645\n",
      "Shrink model to first 646 iterations.\n"
     ]
    },
    {
     "name": "stderr",
     "output_type": "stream",
     "text": [
      "Default metric period is 5 because AUC is/are not implemented for GPU\n"
     ]
    },
    {
     "name": "stdout",
     "output_type": "stream",
     "text": [
      "0:\ttest: 0.5502254\tbest: 0.5502254 (0)\ttotal: 16.6ms\tremaining: 16.6s\n",
      "500:\ttest: 0.7865313\tbest: 0.7873600 (435)\ttotal: 23.6s\tremaining: 23.5s\n",
      "999:\ttest: 0.7902030\tbest: 0.7902030 (999)\ttotal: 47.9s\tremaining: 0us\n",
      "bestTest = 0.7902029753\n",
      "bestIteration = 999\n"
     ]
    },
    {
     "name": "stderr",
     "output_type": "stream",
     "text": [
      "Default metric period is 5 because AUC is/are not implemented for GPU\n"
     ]
    },
    {
     "name": "stdout",
     "output_type": "stream",
     "text": [
      "0:\ttest: 0.5315709\tbest: 0.5315709 (0)\ttotal: 14.7ms\tremaining: 14.7s\n",
      "500:\ttest: 0.8184702\tbest: 0.8216069 (260)\ttotal: 24.4s\tremaining: 24.3s\n",
      "999:\ttest: 0.8126925\tbest: 0.8216069 (260)\ttotal: 48.7s\tremaining: 0us\n",
      "bestTest = 0.8216068745\n",
      "bestIteration = 260\n",
      "Shrink model to first 261 iterations.\n"
     ]
    },
    {
     "name": "stderr",
     "output_type": "stream",
     "text": [
      "Default metric period is 5 because AUC is/are not implemented for GPU\n"
     ]
    },
    {
     "name": "stdout",
     "output_type": "stream",
     "text": [
      "0:\ttest: 0.5361612\tbest: 0.5361612 (0)\ttotal: 15ms\tremaining: 15s\n",
      "500:\ttest: 0.7109149\tbest: 0.7140241 (365)\ttotal: 24.2s\tremaining: 24.1s\n",
      "999:\ttest: 0.7048585\tbest: 0.7140241 (365)\ttotal: 48.7s\tremaining: 0us\n",
      "bestTest = 0.7140240669\n",
      "bestIteration = 365\n",
      "Shrink model to first 366 iterations.\n"
     ]
    },
    {
     "data": {
      "application/vnd.jupyter.widget-view+json": {
       "model_id": "2101c0422dff4067aeefb0a6cfe7722b",
       "version_major": 2,
       "version_minor": 0
      },
      "text/plain": [
       "  0%|          | 0/1 [00:00<?, ?it/s]"
      ]
     },
     "metadata": {},
     "output_type": "display_data"
    },
    {
     "name": "stderr",
     "output_type": "stream",
     "text": [
      "Default metric period is 5 because AUC is/are not implemented for GPU\n"
     ]
    },
    {
     "name": "stdout",
     "output_type": "stream",
     "text": [
      "0:\ttest: 0.5431921\tbest: 0.5431921 (0)\ttotal: 16.7ms\tremaining: 16.7s\n",
      "500:\ttest: 0.8052099\tbest: 0.8052099 (500)\ttotal: 24s\tremaining: 23.9s\n",
      "999:\ttest: 0.8090035\tbest: 0.8103076 (885)\ttotal: 48.6s\tremaining: 0us\n",
      "bestTest = 0.8103075624\n",
      "bestIteration = 885\n",
      "Shrink model to first 886 iterations.\n"
     ]
    },
    {
     "name": "stderr",
     "output_type": "stream",
     "text": [
      "Default metric period is 5 because AUC is/are not implemented for GPU\n"
     ]
    },
    {
     "name": "stdout",
     "output_type": "stream",
     "text": [
      "0:\ttest: 0.5283962\tbest: 0.5283962 (0)\ttotal: 15.9ms\tremaining: 15.9s\n",
      "500:\ttest: 0.7480584\tbest: 0.7511666 (385)\ttotal: 23.5s\tremaining: 23.4s\n",
      "999:\ttest: 0.7382894\tbest: 0.7511666 (385)\ttotal: 48s\tremaining: 0us\n",
      "bestTest = 0.7511665821\n",
      "bestIteration = 385\n",
      "Shrink model to first 386 iterations.\n"
     ]
    },
    {
     "name": "stderr",
     "output_type": "stream",
     "text": [
      "Default metric period is 5 because AUC is/are not implemented for GPU\n"
     ]
    },
    {
     "name": "stdout",
     "output_type": "stream",
     "text": [
      "0:\ttest: 0.5483219\tbest: 0.5483219 (0)\ttotal: 15.8ms\tremaining: 15.7s\n",
      "500:\ttest: 0.7670751\tbest: 0.7717038 (300)\ttotal: 24.2s\tremaining: 24.1s\n",
      "999:\ttest: 0.7493001\tbest: 0.7717038 (300)\ttotal: 48.5s\tremaining: 0us\n",
      "bestTest = 0.7717037797\n",
      "bestIteration = 300\n",
      "Shrink model to first 301 iterations.\n"
     ]
    },
    {
     "name": "stderr",
     "output_type": "stream",
     "text": [
      "Default metric period is 5 because AUC is/are not implemented for GPU\n"
     ]
    },
    {
     "name": "stdout",
     "output_type": "stream",
     "text": [
      "0:\ttest: 0.5358802\tbest: 0.5358802 (0)\ttotal: 14.3ms\tremaining: 14.3s\n",
      "500:\ttest: 0.7816867\tbest: 0.7816867 (500)\ttotal: 23.7s\tremaining: 23.6s\n",
      "999:\ttest: 0.7795882\tbest: 0.7844696 (650)\ttotal: 48.4s\tremaining: 0us\n",
      "bestTest = 0.7844696045\n",
      "bestIteration = 650\n",
      "Shrink model to first 651 iterations.\n"
     ]
    },
    {
     "name": "stderr",
     "output_type": "stream",
     "text": [
      "Default metric period is 5 because AUC is/are not implemented for GPU\n"
     ]
    },
    {
     "name": "stdout",
     "output_type": "stream",
     "text": [
      "0:\ttest: 0.5487879\tbest: 0.5487879 (0)\ttotal: 14.8ms\tremaining: 14.8s\n",
      "500:\ttest: 0.7446346\tbest: 0.7446346 (500)\ttotal: 24s\tremaining: 23.9s\n",
      "999:\ttest: 0.7485260\tbest: 0.7491128 (910)\ttotal: 48.5s\tremaining: 0us\n",
      "bestTest = 0.7491128445\n",
      "bestIteration = 910\n",
      "Shrink model to first 911 iterations.\n"
     ]
    },
    {
     "data": {
      "application/vnd.jupyter.widget-view+json": {
       "model_id": "373906c75de04aaebb08658e8a881c2b",
       "version_major": 2,
       "version_minor": 0
      },
      "text/plain": [
       "  0%|          | 0/1 [00:00<?, ?it/s]"
      ]
     },
     "metadata": {},
     "output_type": "display_data"
    },
    {
     "name": "stderr",
     "output_type": "stream",
     "text": [
      "Default metric period is 5 because AUC is/are not implemented for GPU\n"
     ]
    },
    {
     "name": "stdout",
     "output_type": "stream",
     "text": [
      "0:\ttest: 0.5406818\tbest: 0.5406818 (0)\ttotal: 15.8ms\tremaining: 15.7s\n",
      "500:\ttest: 0.7761292\tbest: 0.7766906 (410)\ttotal: 24s\tremaining: 23.9s\n",
      "999:\ttest: 0.7772942\tbest: 0.7772971 (995)\ttotal: 48.4s\tremaining: 0us\n",
      "bestTest = 0.7772971392\n",
      "bestIteration = 995\n",
      "Shrink model to first 996 iterations.\n"
     ]
    },
    {
     "name": "stderr",
     "output_type": "stream",
     "text": [
      "Default metric period is 5 because AUC is/are not implemented for GPU\n"
     ]
    },
    {
     "name": "stdout",
     "output_type": "stream",
     "text": [
      "0:\ttest: 0.5541808\tbest: 0.5541808 (0)\ttotal: 14.6ms\tremaining: 14.6s\n",
      "500:\ttest: 0.7468292\tbest: 0.7468292 (500)\ttotal: 24.5s\tremaining: 24.4s\n",
      "999:\ttest: 0.7535661\tbest: 0.7536559 (995)\ttotal: 49.2s\tremaining: 0us\n",
      "bestTest = 0.7536558509\n",
      "bestIteration = 995\n",
      "Shrink model to first 996 iterations.\n"
     ]
    },
    {
     "name": "stderr",
     "output_type": "stream",
     "text": [
      "Default metric period is 5 because AUC is/are not implemented for GPU\n"
     ]
    },
    {
     "name": "stdout",
     "output_type": "stream",
     "text": [
      "0:\ttest: 0.5442208\tbest: 0.5442208 (0)\ttotal: 16ms\tremaining: 15.9s\n",
      "500:\ttest: 0.7789164\tbest: 0.7796447 (85)\ttotal: 24s\tremaining: 23.9s\n",
      "999:\ttest: 0.7714816\tbest: 0.7796447 (85)\ttotal: 48.6s\tremaining: 0us\n",
      "bestTest = 0.7796447277\n",
      "bestIteration = 85\n",
      "Shrink model to first 86 iterations.\n"
     ]
    },
    {
     "name": "stderr",
     "output_type": "stream",
     "text": [
      "Default metric period is 5 because AUC is/are not implemented for GPU\n"
     ]
    },
    {
     "name": "stdout",
     "output_type": "stream",
     "text": [
      "0:\ttest: 0.5236980\tbest: 0.5236980 (0)\ttotal: 15.7ms\tremaining: 15.7s\n",
      "500:\ttest: 0.8105212\tbest: 0.8105212 (500)\ttotal: 24s\tremaining: 23.9s\n",
      "999:\ttest: 0.8018584\tbest: 0.8106487 (505)\ttotal: 48.9s\tremaining: 0us\n",
      "bestTest = 0.8106486797\n",
      "bestIteration = 505\n",
      "Shrink model to first 506 iterations.\n"
     ]
    },
    {
     "name": "stderr",
     "output_type": "stream",
     "text": [
      "Default metric period is 5 because AUC is/are not implemented for GPU\n"
     ]
    },
    {
     "name": "stdout",
     "output_type": "stream",
     "text": [
      "0:\ttest: 0.5409864\tbest: 0.5409864 (0)\ttotal: 14.6ms\tremaining: 14.6s\n",
      "500:\ttest: 0.7757629\tbest: 0.7763822 (395)\ttotal: 24.4s\tremaining: 24.3s\n",
      "999:\ttest: 0.7722932\tbest: 0.7763822 (395)\ttotal: 49.6s\tremaining: 0us\n",
      "bestTest = 0.7763822079\n",
      "bestIteration = 395\n",
      "Shrink model to first 396 iterations.\n",
      "Total Score 0.7713927758654888\n"
     ]
    }
   ],
   "source": [
    "evaluator = TestKFoldWrapper(n_fold_test,test_c_stop)\n",
    "\n",
    "evaluator.run_experiments(\n",
    "    model_builder=model_builder,\n",
    "    model_predicter=model_predicter,\n",
    "    train_data=train_data,\n",
    "    label_col=label_col\n",
    ")"
   ]
  },
  {
   "cell_type": "code",
   "execution_count": 34,
   "id": "7b8535db-948e-4903-8d4c-05295cc6f52d",
   "metadata": {
    "collapsed": true,
    "jupyter": {
     "outputs_hidden": true
    },
    "tags": []
   },
   "outputs": [
    {
     "data": {
      "text/html": [
       "<div>\n",
       "<style scoped>\n",
       "    .dataframe tbody tr th:only-of-type {\n",
       "        vertical-align: middle;\n",
       "    }\n",
       "\n",
       "    .dataframe tbody tr th {\n",
       "        vertical-align: top;\n",
       "    }\n",
       "\n",
       "    .dataframe thead th {\n",
       "        text-align: right;\n",
       "    }\n",
       "</style>\n",
       "<table border=\"1\" class=\"dataframe\">\n",
       "  <thead>\n",
       "    <tr style=\"text-align: right;\">\n",
       "      <th></th>\n",
       "      <th>Importances</th>\n",
       "    </tr>\n",
       "    <tr>\n",
       "      <th>Feature Id</th>\n",
       "      <th></th>\n",
       "    </tr>\n",
       "  </thead>\n",
       "  <tbody>\n",
       "    <tr>\n",
       "      <th>mobile_platform_count_ios_otn</th>\n",
       "      <td>2.139177</td>\n",
       "    </tr>\n",
       "    <tr>\n",
       "      <th>clients_id_count_OrderPrice_7</th>\n",
       "      <td>2.064758</td>\n",
       "    </tr>\n",
       "    <tr>\n",
       "      <th>order_feats_min_absolute_time_0</th>\n",
       "      <td>2.064053</td>\n",
       "    </tr>\n",
       "    <tr>\n",
       "      <th>order_feats_sum_ProductUUId_count_0</th>\n",
       "      <td>2.048825</td>\n",
       "    </tr>\n",
       "    <tr>\n",
       "      <th>order_feats_mean_hour_1</th>\n",
       "      <td>2.037610</td>\n",
       "    </tr>\n",
       "    <tr>\n",
       "      <th>mobile_event_count_screen_menu_otn</th>\n",
       "      <td>2.011414</td>\n",
       "    </tr>\n",
       "    <tr>\n",
       "      <th>order_emb_0120</th>\n",
       "      <td>1.993875</td>\n",
       "    </tr>\n",
       "    <tr>\n",
       "      <th>order_feats_min_UnitUUId_appl_mean_1</th>\n",
       "      <td>1.973122</td>\n",
       "    </tr>\n",
       "    <tr>\n",
       "      <th>order_feats_std_hour_1</th>\n",
       "      <td>1.884915</td>\n",
       "    </tr>\n",
       "    <tr>\n",
       "      <th>order_feats_nunique_ClientOrderNumber_1</th>\n",
       "      <td>1.819715</td>\n",
       "    </tr>\n",
       "    <tr>\n",
       "      <th>mobile_emb_0000</th>\n",
       "      <td>1.811834</td>\n",
       "    </tr>\n",
       "    <tr>\n",
       "      <th>mobile_emb_0003</th>\n",
       "      <td>1.762476</td>\n",
       "    </tr>\n",
       "    <tr>\n",
       "      <th>order_emb_0119</th>\n",
       "      <td>1.740743</td>\n",
       "    </tr>\n",
       "    <tr>\n",
       "      <th>order_feats_nunique_absolute_time_1</th>\n",
       "      <td>1.724493</td>\n",
       "    </tr>\n",
       "    <tr>\n",
       "      <th>order_feats_min_OrderTotalPrice_0</th>\n",
       "      <td>1.709935</td>\n",
       "    </tr>\n",
       "    <tr>\n",
       "      <th>order_payment_mean_MenuPrice_1_2</th>\n",
       "      <td>1.699924</td>\n",
       "    </tr>\n",
       "    <tr>\n",
       "      <th>order_feats_nunique_dayofweek_1</th>\n",
       "      <td>1.605352</td>\n",
       "    </tr>\n",
       "    <tr>\n",
       "      <th>order_time_nunique</th>\n",
       "      <td>1.599251</td>\n",
       "    </tr>\n",
       "    <tr>\n",
       "      <th>order_feats_nunique_hour_1</th>\n",
       "      <td>1.578205</td>\n",
       "    </tr>\n",
       "    <tr>\n",
       "      <th>mobile_emb_0016</th>\n",
       "      <td>1.568238</td>\n",
       "    </tr>\n",
       "    <tr>\n",
       "      <th>order_feats_mean_absolute_time_1</th>\n",
       "      <td>1.520577</td>\n",
       "    </tr>\n",
       "    <tr>\n",
       "      <th>order_feats_std_MenuPrice_1</th>\n",
       "      <td>1.463553</td>\n",
       "    </tr>\n",
       "    <tr>\n",
       "      <th>order_feats_sum_ClientOrderNumber_1</th>\n",
       "      <td>1.451843</td>\n",
       "    </tr>\n",
       "    <tr>\n",
       "      <th>order_emb_0067</th>\n",
       "      <td>1.424316</td>\n",
       "    </tr>\n",
       "    <tr>\n",
       "      <th>order_feats_max_Skidka_1</th>\n",
       "      <td>1.414630</td>\n",
       "    </tr>\n",
       "    <tr>\n",
       "      <th>order_feats_min_ProductUUId_appl_mean_1</th>\n",
       "      <td>1.401162</td>\n",
       "    </tr>\n",
       "    <tr>\n",
       "      <th>OrderType</th>\n",
       "      <td>1.307831</td>\n",
       "    </tr>\n",
       "    <tr>\n",
       "      <th>order_appl_mean</th>\n",
       "      <td>1.258179</td>\n",
       "    </tr>\n",
       "    <tr>\n",
       "      <th>order_emb_0117</th>\n",
       "      <td>1.162655</td>\n",
       "    </tr>\n",
       "    <tr>\n",
       "      <th>order_feats_max_ClientOrderNumber_1</th>\n",
       "      <td>1.142204</td>\n",
       "    </tr>\n",
       "    <tr>\n",
       "      <th>order_feats_mean_dayofweek_1</th>\n",
       "      <td>1.113333</td>\n",
       "    </tr>\n",
       "    <tr>\n",
       "      <th>order_feats_max_deliverySectorId_count_1</th>\n",
       "      <td>1.107188</td>\n",
       "    </tr>\n",
       "    <tr>\n",
       "      <th>mobile_hour_nunique_12</th>\n",
       "      <td>1.094154</td>\n",
       "    </tr>\n",
       "    <tr>\n",
       "      <th>order_emb_0011</th>\n",
       "      <td>1.092231</td>\n",
       "    </tr>\n",
       "    <tr>\n",
       "      <th>order_emb_0076</th>\n",
       "      <td>1.087442</td>\n",
       "    </tr>\n",
       "    <tr>\n",
       "      <th>order_feats_nunique_Skidka_1</th>\n",
       "      <td>1.018710</td>\n",
       "    </tr>\n",
       "    <tr>\n",
       "      <th>order_emb_0014</th>\n",
       "      <td>1.014671</td>\n",
       "    </tr>\n",
       "    <tr>\n",
       "      <th>mobile_event_count_screen_profile</th>\n",
       "      <td>1.007716</td>\n",
       "    </tr>\n",
       "    <tr>\n",
       "      <th>order_order_mean_MenuPrice_1_4</th>\n",
       "      <td>1.000102</td>\n",
       "    </tr>\n",
       "    <tr>\n",
       "      <th>order_emb_0063</th>\n",
       "      <td>0.871962</td>\n",
       "    </tr>\n",
       "    <tr>\n",
       "      <th>order_feats_nunique_ProductTotalPrice_1</th>\n",
       "      <td>0.723721</td>\n",
       "    </tr>\n",
       "    <tr>\n",
       "      <th>mobile_hour_nunique_22</th>\n",
       "      <td>0.706069</td>\n",
       "    </tr>\n",
       "    <tr>\n",
       "      <th>order_feats_min_ProductTotalPrice_1</th>\n",
       "      <td>0.687845</td>\n",
       "    </tr>\n",
       "    <tr>\n",
       "      <th>order_feats_min_ClientOrderNumber_1</th>\n",
       "      <td>0.671901</td>\n",
       "    </tr>\n",
       "    <tr>\n",
       "      <th>mobile_hour_count_9</th>\n",
       "      <td>0.670111</td>\n",
       "    </tr>\n",
       "    <tr>\n",
       "      <th>mobile_hour_count_2</th>\n",
       "      <td>0.595842</td>\n",
       "    </tr>\n",
       "    <tr>\n",
       "      <th>Discount</th>\n",
       "      <td>0.560865</td>\n",
       "    </tr>\n",
       "    <tr>\n",
       "      <th>order_payment_nunique_MenuPrice_0_0</th>\n",
       "      <td>0.504657</td>\n",
       "    </tr>\n",
       "    <tr>\n",
       "      <th>Id</th>\n",
       "      <td>0.500092</td>\n",
       "    </tr>\n",
       "    <tr>\n",
       "      <th>order_feats_max_ProductUUId_count_1</th>\n",
       "      <td>0.435417</td>\n",
       "    </tr>\n",
       "    <tr>\n",
       "      <th>mobile_hour_count_22</th>\n",
       "      <td>0.402795</td>\n",
       "    </tr>\n",
       "    <tr>\n",
       "      <th>order_feats_&lt;lambda&gt;_hour_1</th>\n",
       "      <td>0.399620</td>\n",
       "    </tr>\n",
       "    <tr>\n",
       "      <th>order_payment_mean_MenuPrice_0_1</th>\n",
       "      <td>0.351739</td>\n",
       "    </tr>\n",
       "    <tr>\n",
       "      <th>order_payment_sum_MenuPrice_0_1</th>\n",
       "      <td>0.260115</td>\n",
       "    </tr>\n",
       "    <tr>\n",
       "      <th>vigoda</th>\n",
       "      <td>0.208100</td>\n",
       "    </tr>\n",
       "    <tr>\n",
       "      <th>OrderPrice</th>\n",
       "      <td>0.198250</td>\n",
       "    </tr>\n",
       "    <tr>\n",
       "      <th>pr</th>\n",
       "      <td>0.163847</td>\n",
       "    </tr>\n",
       "  </tbody>\n",
       "</table>\n",
       "</div>"
      ],
      "text/plain": [
       "                                          Importances\n",
       "Feature Id                                           \n",
       "mobile_platform_count_ios_otn                2.139177\n",
       "clients_id_count_OrderPrice_7                2.064758\n",
       "order_feats_min_absolute_time_0              2.064053\n",
       "order_feats_sum_ProductUUId_count_0          2.048825\n",
       "order_feats_mean_hour_1                      2.037610\n",
       "mobile_event_count_screen_menu_otn           2.011414\n",
       "order_emb_0120                               1.993875\n",
       "order_feats_min_UnitUUId_appl_mean_1         1.973122\n",
       "order_feats_std_hour_1                       1.884915\n",
       "order_feats_nunique_ClientOrderNumber_1      1.819715\n",
       "mobile_emb_0000                              1.811834\n",
       "mobile_emb_0003                              1.762476\n",
       "order_emb_0119                               1.740743\n",
       "order_feats_nunique_absolute_time_1          1.724493\n",
       "order_feats_min_OrderTotalPrice_0            1.709935\n",
       "order_payment_mean_MenuPrice_1_2             1.699924\n",
       "order_feats_nunique_dayofweek_1              1.605352\n",
       "order_time_nunique                           1.599251\n",
       "order_feats_nunique_hour_1                   1.578205\n",
       "mobile_emb_0016                              1.568238\n",
       "order_feats_mean_absolute_time_1             1.520577\n",
       "order_feats_std_MenuPrice_1                  1.463553\n",
       "order_feats_sum_ClientOrderNumber_1          1.451843\n",
       "order_emb_0067                               1.424316\n",
       "order_feats_max_Skidka_1                     1.414630\n",
       "order_feats_min_ProductUUId_appl_mean_1      1.401162\n",
       "OrderType                                    1.307831\n",
       "order_appl_mean                              1.258179\n",
       "order_emb_0117                               1.162655\n",
       "order_feats_max_ClientOrderNumber_1          1.142204\n",
       "order_feats_mean_dayofweek_1                 1.113333\n",
       "order_feats_max_deliverySectorId_count_1     1.107188\n",
       "mobile_hour_nunique_12                       1.094154\n",
       "order_emb_0011                               1.092231\n",
       "order_emb_0076                               1.087442\n",
       "order_feats_nunique_Skidka_1                 1.018710\n",
       "order_emb_0014                               1.014671\n",
       "mobile_event_count_screen_profile            1.007716\n",
       "order_order_mean_MenuPrice_1_4               1.000102\n",
       "order_emb_0063                               0.871962\n",
       "order_feats_nunique_ProductTotalPrice_1      0.723721\n",
       "mobile_hour_nunique_22                       0.706069\n",
       "order_feats_min_ProductTotalPrice_1          0.687845\n",
       "order_feats_min_ClientOrderNumber_1          0.671901\n",
       "mobile_hour_count_9                          0.670111\n",
       "mobile_hour_count_2                          0.595842\n",
       "Discount                                     0.560865\n",
       "order_payment_nunique_MenuPrice_0_0          0.504657\n",
       "Id                                           0.500092\n",
       "order_feats_max_ProductUUId_count_1          0.435417\n",
       "mobile_hour_count_22                         0.402795\n",
       "order_feats_<lambda>_hour_1                  0.399620\n",
       "order_payment_mean_MenuPrice_0_1             0.351739\n",
       "order_payment_sum_MenuPrice_0_1              0.260115\n",
       "vigoda                                       0.208100\n",
       "OrderPrice                                   0.198250\n",
       "pr                                           0.163847"
      ]
     },
     "execution_count": 34,
     "metadata": {},
     "output_type": "execute_result"
    }
   ],
   "source": [
    "evaluator.models[0].get_feature_importance()[10:70]"
   ]
  },
  {
   "cell_type": "code",
   "execution_count": 165,
   "id": "1fa6ef7f-a677-4e8e-9e45-0cdbfcbdacde",
   "metadata": {
    "tags": []
   },
   "outputs": [],
   "source": [
    "test_data = test_data.merge(all_features)"
   ]
  },
  {
   "cell_type": "code",
   "execution_count": 166,
   "id": "3aeb5fe0-4979-4141-b3ed-d302c5993554",
   "metadata": {
    "tags": []
   },
   "outputs": [],
   "source": [
    "test_data['vigoda'] = test_data['Discount'] / test_data['OrderPrice']\n",
    "test_data['pr'] =  test_data['OrderPrice'] - test_data['Discount']"
   ]
  },
  {
   "cell_type": "code",
   "execution_count": 167,
   "id": "70523584-27c8-4afe-9631-8ee78131ebc8",
   "metadata": {
    "tags": []
   },
   "outputs": [],
   "source": [
    "test_data = test_data[best_feats.tolist() + drop_cols +  ['OrderPrice','vigoda','pr']]"
   ]
  },
  {
   "cell_type": "code",
   "execution_count": 213,
   "id": "3b9714d4-f137-4ae7-b6cf-c3d8d598702f",
   "metadata": {
    "tags": []
   },
   "outputs": [],
   "source": [
    "preds = evaluator.models[].predict(test_data,drop_cols=drop_cols,cat_features=cat_cols)\n",
    "#preds = evaluator.models[1].predict(test_data,drop_cols=drop_cols,cat_features=cat_cols)\n",
    "#preds = evaluator.models[2].predict(test_data,drop_cols=drop_cols,cat_features=cat_cols)\n",
    "#preds /= 3\n",
    "#preds = model.predict(test_data,drop_cols=drop_cols,cat_features=cat_cols)"
   ]
  },
  {
   "cell_type": "code",
   "execution_count": 214,
   "id": "fd1b302e-054f-4ccb-9f78-5782eaedc4de",
   "metadata": {
    "tags": []
   },
   "outputs": [],
   "source": [
    "preds = preds * 0.05\n",
    "preds += pd.read_csv('submits/sub_dodo35.csv').apply_promo"
   ]
  },
  {
   "cell_type": "code",
   "execution_count": 215,
   "id": "8616a519-ee6d-49d5-8150-4d39c326bf83",
   "metadata": {
    "tags": []
   },
   "outputs": [],
   "source": [
    "sample_submit['apply_promo'] = preds"
   ]
  },
  {
   "cell_type": "code",
   "execution_count": 217,
   "id": "3b261b14-5bbb-4245-879a-46b6e19fe4b6",
   "metadata": {
    "tags": []
   },
   "outputs": [],
   "source": [
    "sample_submit.to_csv('./submits/sub_dodo65.csv',index=False)"
   ]
  },
  {
   "cell_type": "code",
   "execution_count": 61,
   "id": "817c6ae5-d12e-4092-867a-7f147a921f24",
   "metadata": {
    "tags": []
   },
   "outputs": [],
   "source": [
    "test_pool = Pool(\n",
    "    test_data.drop(drop_cols,axis=1),\n",
    "    cat_features=cat_cols\n",
    ")"
   ]
  },
  {
   "cell_type": "code",
   "execution_count": 154,
   "id": "70437c59-2f16-4acd-b288-5327e0f60456",
   "metadata": {
    "tags": []
   },
   "outputs": [],
   "source": [
    "preds = new_models.models[4].predict_proba(test_pool)[:,1] * 0.05"
   ]
  },
  {
   "cell_type": "code",
   "execution_count": 155,
   "id": "24448da2-23cd-4619-8f8e-a4bb6adc79f0",
   "metadata": {
    "tags": []
   },
   "outputs": [],
   "source": [
    "preds += pd.read_csv('submits/sub_dodo35.csv')['apply_promo']"
   ]
  },
  {
   "cell_type": "code",
   "execution_count": 146,
   "id": "8c71a8e8-e8c5-41a7-90db-bbac1f1196da",
   "metadata": {
    "collapsed": true,
    "jupyter": {
     "outputs_hidden": true
    },
    "tags": []
   },
   "outputs": [
    {
     "data": {
      "application/vnd.jupyter.widget-view+json": {
       "model_id": "e78b440f89724e81a1f09c96e0e9741e",
       "version_major": 2,
       "version_minor": 0
      },
      "text/plain": [
       "  0%|          | 0/1 [00:00<?, ?it/s]"
      ]
     },
     "metadata": {},
     "output_type": "display_data"
    },
    {
     "ename": "KeyboardInterrupt",
     "evalue": "",
     "output_type": "error",
     "traceback": [
      "\u001b[0;31m---------------------------------------------------------------------------\u001b[0m",
      "\u001b[0;31mKeyboardInterrupt\u001b[0m                         Traceback (most recent call last)",
      "Cell \u001b[0;32mIn[146], line 1\u001b[0m\n\u001b[0;32m----> 1\u001b[0m new_models \u001b[38;5;241m=\u001b[39m \u001b[43mmodel_builder\u001b[49m\u001b[43m(\u001b[49m\u001b[43mtrain_data\u001b[49m\u001b[43m)\u001b[49m\n",
      "Cell \u001b[0;32mIn[123], line 4\u001b[0m, in \u001b[0;36mmodel_builder\u001b[0;34m(train_data)\u001b[0m\n\u001b[1;32m      1\u001b[0m \u001b[38;5;28;01mdef\u001b[39;00m \u001b[38;5;21mmodel_builder\u001b[39m(train_data):\n\u001b[1;32m      2\u001b[0m     model \u001b[38;5;241m=\u001b[39m CatBoostKfoldWraper(num_fold,num_repits,params)\n\u001b[0;32m----> 4\u001b[0m     \u001b[43mmodel\u001b[49m\u001b[38;5;241;43m.\u001b[39;49m\u001b[43mfit\u001b[49m\u001b[43m(\u001b[49m\n\u001b[1;32m      5\u001b[0m \u001b[43m        \u001b[49m\u001b[43mtrain_data\u001b[49m\u001b[43m,\u001b[49m\n\u001b[1;32m      6\u001b[0m \u001b[43m        \u001b[49m\u001b[43mcat_features\u001b[49m\u001b[38;5;241;43m=\u001b[39;49m\u001b[43mcat_cols\u001b[49m\u001b[43m,\u001b[49m\n\u001b[1;32m      7\u001b[0m \u001b[43m        \u001b[49m\u001b[43mdrop_cols\u001b[49m\u001b[38;5;241;43m=\u001b[39;49m\u001b[43mdrop_cols\u001b[49m\u001b[43m,\u001b[49m\n\u001b[1;32m      8\u001b[0m \u001b[43m        \u001b[49m\u001b[43mlabel_col\u001b[49m\u001b[38;5;241;43m=\u001b[39;49m\u001b[43mlabel_col\u001b[49m\u001b[43m,\u001b[49m\n\u001b[1;32m      9\u001b[0m \u001b[43m        \u001b[49m\u001b[43mverbose\u001b[49m\u001b[38;5;241;43m=\u001b[39;49m\u001b[38;5;241;43m500\u001b[39;49m\n\u001b[1;32m     10\u001b[0m \u001b[43m    \u001b[49m\u001b[43m)\u001b[49m\n\u001b[1;32m     12\u001b[0m     \u001b[38;5;28;01mreturn\u001b[39;00m model\n",
      "Cell \u001b[0;32mIn[122], line 13\u001b[0m, in \u001b[0;36mCatBoostKfoldWraper.fit\u001b[0;34m(self, train_data, cat_features, drop_cols, label_col, verbose)\u001b[0m\n\u001b[1;32m     11\u001b[0m \u001b[38;5;28;01mfor\u001b[39;00m i \u001b[38;5;129;01min\u001b[39;00m trange(num_repits):\n\u001b[1;32m     12\u001b[0m     kfold \u001b[38;5;241m=\u001b[39m StratifiedGroupKFold(\u001b[38;5;28mself\u001b[39m\u001b[38;5;241m.\u001b[39mnum_folds,random_state\u001b[38;5;241m=\u001b[39m\u001b[38;5;28mself\u001b[39m\u001b[38;5;241m.\u001b[39mrandom_state\u001b[38;5;241m+\u001b[39mi,shuffle\u001b[38;5;241m=\u001b[39m\u001b[38;5;28;01mTrue\u001b[39;00m)\n\u001b[0;32m---> 13\u001b[0m \u001b[43m    \u001b[49m\u001b[38;5;28;43;01mfor\u001b[39;49;00m\u001b[43m \u001b[49m\u001b[43mtrain_index\u001b[49m\u001b[43m,\u001b[49m\u001b[43m \u001b[49m\u001b[43mtest_index\u001b[49m\u001b[43m \u001b[49m\u001b[38;5;129;43;01min\u001b[39;49;00m\u001b[43m \u001b[49m\u001b[43m(\u001b[49m\u001b[43mkfold\u001b[49m\u001b[38;5;241;43m.\u001b[39;49m\u001b[43msplit\u001b[49m\u001b[43m(\u001b[49m\u001b[43mtrain_data\u001b[49m\u001b[43m,\u001b[49m\u001b[43mtrain_data\u001b[49m\u001b[43m[\u001b[49m\u001b[43mlabel_col\u001b[49m\u001b[43m]\u001b[49m\u001b[43m,\u001b[49m\u001b[43mgroups\u001b[49m\u001b[38;5;241;43m=\u001b[39;49m\u001b[43mtrain_data\u001b[49m\u001b[43m[\u001b[49m\u001b[38;5;124;43m'\u001b[39;49m\u001b[38;5;124;43mClientUUId\u001b[39;49m\u001b[38;5;124;43m'\u001b[39;49m\u001b[43m]\u001b[49m\u001b[43m)\u001b[49m\u001b[43m)\u001b[49m\u001b[43m:\u001b[49m\n\u001b[1;32m     14\u001b[0m \u001b[43m        \u001b[49m\u001b[43mtrain_df\u001b[49m\u001b[43m \u001b[49m\u001b[38;5;241;43m=\u001b[39;49m\u001b[43m \u001b[49m\u001b[43mtrain_data\u001b[49m\u001b[38;5;241;43m.\u001b[39;49m\u001b[43miloc\u001b[49m\u001b[43m[\u001b[49m\u001b[43mtrain_index\u001b[49m\u001b[43m]\u001b[49m\n\u001b[1;32m     15\u001b[0m \u001b[43m        \u001b[49m\u001b[43mtest_df\u001b[49m\u001b[43m \u001b[49m\u001b[38;5;241;43m=\u001b[39;49m\u001b[43m \u001b[49m\u001b[43mtrain_data\u001b[49m\u001b[38;5;241;43m.\u001b[39;49m\u001b[43miloc\u001b[49m\u001b[43m[\u001b[49m\u001b[43mtest_index\u001b[49m\u001b[43m]\u001b[49m\n",
      "File \u001b[0;32m/usr/local/lib/python3.11/dist-packages/sklearn/model_selection/_split.py:377\u001b[0m, in \u001b[0;36m_BaseKFold.split\u001b[0;34m(self, X, y, groups)\u001b[0m\n\u001b[1;32m    369\u001b[0m \u001b[38;5;28;01mif\u001b[39;00m \u001b[38;5;28mself\u001b[39m\u001b[38;5;241m.\u001b[39mn_splits \u001b[38;5;241m>\u001b[39m n_samples:\n\u001b[1;32m    370\u001b[0m     \u001b[38;5;28;01mraise\u001b[39;00m \u001b[38;5;167;01mValueError\u001b[39;00m(\n\u001b[1;32m    371\u001b[0m         (\n\u001b[1;32m    372\u001b[0m             \u001b[38;5;124m\"\u001b[39m\u001b[38;5;124mCannot have number of splits n_splits=\u001b[39m\u001b[38;5;132;01m{0}\u001b[39;00m\u001b[38;5;124m greater\u001b[39m\u001b[38;5;124m\"\u001b[39m\n\u001b[1;32m    373\u001b[0m             \u001b[38;5;124m\"\u001b[39m\u001b[38;5;124m than the number of samples: n_samples=\u001b[39m\u001b[38;5;132;01m{1}\u001b[39;00m\u001b[38;5;124m.\u001b[39m\u001b[38;5;124m\"\u001b[39m\n\u001b[1;32m    374\u001b[0m         )\u001b[38;5;241m.\u001b[39mformat(\u001b[38;5;28mself\u001b[39m\u001b[38;5;241m.\u001b[39mn_splits, n_samples)\n\u001b[1;32m    375\u001b[0m     )\n\u001b[0;32m--> 377\u001b[0m \u001b[43m\u001b[49m\u001b[38;5;28;43;01mfor\u001b[39;49;00m\u001b[43m \u001b[49m\u001b[43mtrain\u001b[49m\u001b[43m,\u001b[49m\u001b[43m \u001b[49m\u001b[43mtest\u001b[49m\u001b[43m \u001b[49m\u001b[38;5;129;43;01min\u001b[39;49;00m\u001b[43m \u001b[49m\u001b[38;5;28;43msuper\u001b[39;49m\u001b[43m(\u001b[49m\u001b[43m)\u001b[49m\u001b[38;5;241;43m.\u001b[39;49m\u001b[43msplit\u001b[49m\u001b[43m(\u001b[49m\u001b[43mX\u001b[49m\u001b[43m,\u001b[49m\u001b[43m \u001b[49m\u001b[43my\u001b[49m\u001b[43m,\u001b[49m\u001b[43m \u001b[49m\u001b[43mgroups\u001b[49m\u001b[43m)\u001b[49m\u001b[43m:\u001b[49m\n\u001b[1;32m    378\u001b[0m \u001b[43m    \u001b[49m\u001b[38;5;28;43;01myield\u001b[39;49;00m\u001b[43m \u001b[49m\u001b[43mtrain\u001b[49m\u001b[43m,\u001b[49m\u001b[43m \u001b[49m\u001b[43mtest\u001b[49m\n",
      "File \u001b[0;32m/usr/local/lib/python3.11/dist-packages/sklearn/model_selection/_split.py:108\u001b[0m, in \u001b[0;36mBaseCrossValidator.split\u001b[0;34m(self, X, y, groups)\u001b[0m\n\u001b[1;32m    106\u001b[0m X, y, groups \u001b[38;5;241m=\u001b[39m indexable(X, y, groups)\n\u001b[1;32m    107\u001b[0m indices \u001b[38;5;241m=\u001b[39m np\u001b[38;5;241m.\u001b[39marange(_num_samples(X))\n\u001b[0;32m--> 108\u001b[0m \u001b[43m\u001b[49m\u001b[38;5;28;43;01mfor\u001b[39;49;00m\u001b[43m \u001b[49m\u001b[43mtest_index\u001b[49m\u001b[43m \u001b[49m\u001b[38;5;129;43;01min\u001b[39;49;00m\u001b[43m \u001b[49m\u001b[38;5;28;43mself\u001b[39;49m\u001b[38;5;241;43m.\u001b[39;49m\u001b[43m_iter_test_masks\u001b[49m\u001b[43m(\u001b[49m\u001b[43mX\u001b[49m\u001b[43m,\u001b[49m\u001b[43m \u001b[49m\u001b[43my\u001b[49m\u001b[43m,\u001b[49m\u001b[43m \u001b[49m\u001b[43mgroups\u001b[49m\u001b[43m)\u001b[49m\u001b[43m:\u001b[49m\n\u001b[1;32m    109\u001b[0m \u001b[43m    \u001b[49m\u001b[43mtrain_index\u001b[49m\u001b[43m \u001b[49m\u001b[38;5;241;43m=\u001b[39;49m\u001b[43m \u001b[49m\u001b[43mindices\u001b[49m\u001b[43m[\u001b[49m\u001b[43mnp\u001b[49m\u001b[38;5;241;43m.\u001b[39;49m\u001b[43mlogical_not\u001b[49m\u001b[43m(\u001b[49m\u001b[43mtest_index\u001b[49m\u001b[43m)\u001b[49m\u001b[43m]\u001b[49m\n\u001b[1;32m    110\u001b[0m \u001b[43m    \u001b[49m\u001b[43mtest_index\u001b[49m\u001b[43m \u001b[49m\u001b[38;5;241;43m=\u001b[39;49m\u001b[43m \u001b[49m\u001b[43mindices\u001b[49m\u001b[43m[\u001b[49m\u001b[43mtest_index\u001b[49m\u001b[43m]\u001b[49m\n",
      "File \u001b[0;32m/usr/local/lib/python3.11/dist-packages/sklearn/model_selection/_split.py:120\u001b[0m, in \u001b[0;36mBaseCrossValidator._iter_test_masks\u001b[0;34m(self, X, y, groups)\u001b[0m\n\u001b[1;32m    115\u001b[0m \u001b[38;5;28;01mdef\u001b[39;00m \u001b[38;5;21m_iter_test_masks\u001b[39m(\u001b[38;5;28mself\u001b[39m, X\u001b[38;5;241m=\u001b[39m\u001b[38;5;28;01mNone\u001b[39;00m, y\u001b[38;5;241m=\u001b[39m\u001b[38;5;28;01mNone\u001b[39;00m, groups\u001b[38;5;241m=\u001b[39m\u001b[38;5;28;01mNone\u001b[39;00m):\n\u001b[1;32m    116\u001b[0m \u001b[38;5;250m    \u001b[39m\u001b[38;5;124;03m\"\"\"Generates boolean masks corresponding to test sets.\u001b[39;00m\n\u001b[1;32m    117\u001b[0m \n\u001b[1;32m    118\u001b[0m \u001b[38;5;124;03m    By default, delegates to _iter_test_indices(X, y, groups)\u001b[39;00m\n\u001b[1;32m    119\u001b[0m \u001b[38;5;124;03m    \"\"\"\u001b[39;00m\n\u001b[0;32m--> 120\u001b[0m \u001b[43m    \u001b[49m\u001b[38;5;28;43;01mfor\u001b[39;49;00m\u001b[43m \u001b[49m\u001b[43mtest_index\u001b[49m\u001b[43m \u001b[49m\u001b[38;5;129;43;01min\u001b[39;49;00m\u001b[43m \u001b[49m\u001b[38;5;28;43mself\u001b[39;49m\u001b[38;5;241;43m.\u001b[39;49m\u001b[43m_iter_test_indices\u001b[49m\u001b[43m(\u001b[49m\u001b[43mX\u001b[49m\u001b[43m,\u001b[49m\u001b[43m \u001b[49m\u001b[43my\u001b[49m\u001b[43m,\u001b[49m\u001b[43m \u001b[49m\u001b[43mgroups\u001b[49m\u001b[43m)\u001b[49m\u001b[43m:\u001b[49m\n\u001b[1;32m    121\u001b[0m \u001b[43m        \u001b[49m\u001b[43mtest_mask\u001b[49m\u001b[43m \u001b[49m\u001b[38;5;241;43m=\u001b[39;49m\u001b[43m \u001b[49m\u001b[43mnp\u001b[49m\u001b[38;5;241;43m.\u001b[39;49m\u001b[43mzeros\u001b[49m\u001b[43m(\u001b[49m\u001b[43m_num_samples\u001b[49m\u001b[43m(\u001b[49m\u001b[43mX\u001b[49m\u001b[43m)\u001b[49m\u001b[43m,\u001b[49m\u001b[43m \u001b[49m\u001b[43mdtype\u001b[49m\u001b[38;5;241;43m=\u001b[39;49m\u001b[38;5;28;43mbool\u001b[39;49m\u001b[43m)\u001b[49m\n\u001b[1;32m    122\u001b[0m \u001b[43m        \u001b[49m\u001b[43mtest_mask\u001b[49m\u001b[43m[\u001b[49m\u001b[43mtest_index\u001b[49m\u001b[43m]\u001b[49m\u001b[43m \u001b[49m\u001b[38;5;241;43m=\u001b[39;49m\u001b[43m \u001b[49m\u001b[38;5;28;43;01mTrue\u001b[39;49;00m\n",
      "File \u001b[0;32m/usr/local/lib/python3.11/dist-packages/sklearn/model_selection/_split.py:963\u001b[0m, in \u001b[0;36mStratifiedGroupKFold._iter_test_indices\u001b[0;34m(self, X, y, groups)\u001b[0m\n\u001b[1;32m    961\u001b[0m \u001b[38;5;28;01mfor\u001b[39;00m group_idx \u001b[38;5;129;01min\u001b[39;00m sorted_groups_idx:\n\u001b[1;32m    962\u001b[0m     group_y_counts \u001b[38;5;241m=\u001b[39m y_counts_per_group[group_idx]\n\u001b[0;32m--> 963\u001b[0m     best_fold \u001b[38;5;241m=\u001b[39m \u001b[38;5;28;43mself\u001b[39;49m\u001b[38;5;241;43m.\u001b[39;49m\u001b[43m_find_best_fold\u001b[49m\u001b[43m(\u001b[49m\n\u001b[1;32m    964\u001b[0m \u001b[43m        \u001b[49m\u001b[43my_counts_per_fold\u001b[49m\u001b[38;5;241;43m=\u001b[39;49m\u001b[43my_counts_per_fold\u001b[49m\u001b[43m,\u001b[49m\n\u001b[1;32m    965\u001b[0m \u001b[43m        \u001b[49m\u001b[43my_cnt\u001b[49m\u001b[38;5;241;43m=\u001b[39;49m\u001b[43my_cnt\u001b[49m\u001b[43m,\u001b[49m\n\u001b[1;32m    966\u001b[0m \u001b[43m        \u001b[49m\u001b[43mgroup_y_counts\u001b[49m\u001b[38;5;241;43m=\u001b[39;49m\u001b[43mgroup_y_counts\u001b[49m\u001b[43m,\u001b[49m\n\u001b[1;32m    967\u001b[0m \u001b[43m    \u001b[49m\u001b[43m)\u001b[49m\n\u001b[1;32m    968\u001b[0m     y_counts_per_fold[best_fold] \u001b[38;5;241m+\u001b[39m\u001b[38;5;241m=\u001b[39m group_y_counts\n\u001b[1;32m    969\u001b[0m     groups_per_fold[best_fold]\u001b[38;5;241m.\u001b[39madd(group_idx)\n",
      "File \u001b[0;32m/usr/local/lib/python3.11/dist-packages/sklearn/model_selection/_split.py:986\u001b[0m, in \u001b[0;36mStratifiedGroupKFold._find_best_fold\u001b[0;34m(self, y_counts_per_fold, y_cnt, group_y_counts)\u001b[0m\n\u001b[1;32m    984\u001b[0m y_counts_per_fold[i] \u001b[38;5;241m+\u001b[39m\u001b[38;5;241m=\u001b[39m group_y_counts\n\u001b[1;32m    985\u001b[0m \u001b[38;5;66;03m# Summarise the distribution over classes in each proposed fold\u001b[39;00m\n\u001b[0;32m--> 986\u001b[0m std_per_class \u001b[38;5;241m=\u001b[39m np\u001b[38;5;241m.\u001b[39mstd(y_counts_per_fold \u001b[38;5;241m/\u001b[39m \u001b[43my_cnt\u001b[49m\u001b[38;5;241;43m.\u001b[39;49m\u001b[43mreshape\u001b[49m\u001b[43m(\u001b[49m\u001b[38;5;241;43m1\u001b[39;49m\u001b[43m,\u001b[49m\u001b[43m \u001b[49m\u001b[38;5;241;43m-\u001b[39;49m\u001b[38;5;241;43m1\u001b[39;49m\u001b[43m)\u001b[49m, axis\u001b[38;5;241m=\u001b[39m\u001b[38;5;241m0\u001b[39m)\n\u001b[1;32m    987\u001b[0m y_counts_per_fold[i] \u001b[38;5;241m-\u001b[39m\u001b[38;5;241m=\u001b[39m group_y_counts\n\u001b[1;32m    988\u001b[0m fold_eval \u001b[38;5;241m=\u001b[39m np\u001b[38;5;241m.\u001b[39mmean(std_per_class)\n",
      "\u001b[0;31mKeyboardInterrupt\u001b[0m: "
     ]
    }
   ],
   "source": [
    "new_models = model_builder(train_data)"
   ]
  }
 ],
 "metadata": {
  "kernelspec": {
   "display_name": "Python 3 (ipykernel)",
   "language": "python",
   "name": "python3"
  },
  "language_info": {
   "codemirror_mode": {
    "name": "ipython",
    "version": 3
   },
   "file_extension": ".py",
   "mimetype": "text/x-python",
   "name": "python",
   "nbconvert_exporter": "python",
   "pygments_lexer": "ipython3",
   "version": "3.11.7"
  }
 },
 "nbformat": 4,
 "nbformat_minor": 5
}
