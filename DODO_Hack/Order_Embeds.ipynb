{
 "cells": [
  {
   "cell_type": "code",
   "execution_count": 28,
   "id": "7a14094a-dcea-4e63-a6ad-76502baaae87",
   "metadata": {
    "tags": []
   },
   "outputs": [],
   "source": [
    "import pandas as pd\n",
    "import numpy as np\n",
    "import random\n",
    "from ptls.nn import TrxEncoder, RnnSeqEncoder\n",
    "from ptls.frames.coles import CoLESModule\n",
    "from tqdm.auto import tqdm, trange\n",
    "from copy import deepcopy\n",
    "from ptls.data_load.datasets import MemoryMapDataset\n",
    "from ptls.data_load.iterable_processing import SeqLenFilter\n",
    "from ptls.frames.coles import ColesDataset\n",
    "from catboost import CatBoostClassifier, Pool, cv\n",
    "from ptls.preprocessing import PandasDataPreprocessor\n",
    "from functools import partial\n",
    "import pytorch_lightning as pl\n",
    "from ptls.data_load.datasets import inference_data_loader\n",
    "from ptls.frames.coles.split_strategy import SampleSlices\n",
    "from ptls.frames import PtlsDataModule"
   ]
  },
  {
   "cell_type": "code",
   "execution_count": 29,
   "id": "e934f37a-8e88-4c3a-979b-10bff79595a8",
   "metadata": {
    "tags": []
   },
   "outputs": [],
   "source": [
    "import torch\n",
    "import pytorch_lightning as pl\n",
    "from functools import partial\n",
    "from ptls.nn import TrxEncoder, RnnSeqEncoder\n",
    "from ptls.frames.coles import CoLESModule\n",
    "from ptls.frames.coles.losses import SoftmaxLoss\n",
    "from ptls.data_load.datasets import MemoryMapDataset\n",
    "from ptls.data_load.iterable_processing import SeqLenFilter\n",
    "from ptls.frames.coles import ColesDataset\n",
    "from ptls.frames.coles.split_strategy import SampleSlices\n",
    "from ptls.frames import PtlsDataModule\n",
    "from ptls.frames.inference_module import InferenceModule\n",
    "from ptls.data_load.utils import collate_feature_dict"
   ]
  },
  {
   "cell_type": "code",
   "execution_count": 30,
   "id": "f6a9a4c4-7edf-4ccb-a068-1ccd2fceea96",
   "metadata": {
    "tags": []
   },
   "outputs": [],
   "source": [
    "data = pd.read_csv('dodohack/Data Secrets First Cup/orders.csv',parse_dates=['SaleDate'])"
   ]
  },
  {
   "cell_type": "code",
   "execution_count": 31,
   "id": "d8fb1657-fb2c-4673-b025-e7c9436e596e",
   "metadata": {
    "tags": []
   },
   "outputs": [],
   "source": [
    "def mounth_count_day(x):\n",
    "    months = [31,28,31,30,31,30,31,31,30,31,30,31]\n",
    "    return sum(months[:x])\n",
    "\n",
    "def create_time_features(df,time_col):\n",
    "    df['month'] = df[time_col].dt.month\n",
    "    df['day'] = df[time_col].dt.day\n",
    "    df['hour'] = df[time_col].dt.hour\n",
    "    df['year'] = df[time_col].dt.year\n",
    "    df['weekofyear'] = df[time_col].apply(lambda x: x.weekofyear)\n",
    "    df['dayofweek'] = df[time_col].dt.dayofweek\n",
    "    df['dayofyear'] = df[time_col].dt.dayofyear\n",
    "    df['absolute_time'] = (df[time_col] - df[time_col].min()).dt.days\n",
    "    \n",
    "    df['all_day_time'] = df[time_col].apply(lambda x: x.hour * 3600 + x.minute * 60 + x.second)\n",
    "    df['all_week_time'] = df[time_col].apply(lambda x: x.dayofweek * 24 + x.hour)\n",
    "    \n",
    "    df['cl_early_morning'] = ((df['hour'] > 4) & (df['hour'] <= 8)).astype('int16')\n",
    "    df['cl_is_weekend'] = (df['dayofweek'] > 4).astype('int16')\n",
    "    return df"
   ]
  },
  {
   "cell_type": "code",
   "execution_count": 32,
   "id": "fc0e669d-7940-4171-b7b2-a3d694b9491a",
   "metadata": {
    "tags": []
   },
   "outputs": [],
   "source": [
    "data = create_time_features(data,'SaleDate')"
   ]
  },
  {
   "cell_type": "code",
   "execution_count": 33,
   "id": "f2f6c1c0-8837-4db2-a2a6-9509c3656bd0",
   "metadata": {
    "tags": []
   },
   "outputs": [
    {
     "data": {
      "text/plain": [
       "Index(['OrderUUId', 'addressId', 'deliverySectorId', 'ClientUUId', 'Date',\n",
       "       'SaleDate', 'UnitUUId', 'NewClient', 'ClientOrderNumber', 'ProductUUId',\n",
       "       'CategoryId', 'ProductTotalPrice', 'MenuPrice', 'OrderState',\n",
       "       'OrderPaymentType', 'OrderTotalPrice', 'OrderType', 'apply_promo',\n",
       "       'month', 'day', 'hour', 'year', 'weekofyear', 'dayofweek', 'dayofyear',\n",
       "       'absolute_time', 'all_day_time', 'all_week_time', 'cl_early_morning',\n",
       "       'cl_is_weekend'],\n",
       "      dtype='object')"
      ]
     },
     "execution_count": 33,
     "metadata": {},
     "output_type": "execute_result"
    }
   ],
   "source": [
    "data.columns"
   ]
  },
  {
   "cell_type": "code",
   "execution_count": 34,
   "id": "6bd4a681-2de1-4e92-a48d-04b7d3ee05be",
   "metadata": {
    "tags": []
   },
   "outputs": [
    {
     "data": {
      "text/plain": [
       "7"
      ]
     },
     "execution_count": 34,
     "metadata": {},
     "output_type": "execute_result"
    }
   ],
   "source": [
    "data['CategoryId'].nunique()"
   ]
  },
  {
   "cell_type": "code",
   "execution_count": 35,
   "id": "a2ab3a3b-17d6-45f9-965e-e8d47f5105a8",
   "metadata": {
    "tags": []
   },
   "outputs": [],
   "source": [
    "preprocessor = PandasDataPreprocessor(\n",
    "    col_id='ClientUUId',\n",
    "    col_event_time='SaleDate',\n",
    "    event_time_transformation='dt_to_timestamp',\n",
    "    cols_category=['addressId','deliverySectorId','UnitUUId',\n",
    "                   'ProductUUId','CategoryId',\n",
    "                   'OrderType','OrderState','OrderPaymentType'],\n",
    "    \n",
    "    cols_numerical=['month','hour','dayofweek','absolute_time',\n",
    "                    'NewClient','ClientOrderNumber','ProductTotalPrice',\n",
    "                    'MenuPrice','OrderTotalPrice','apply_promo'],\n",
    ")"
   ]
  },
  {
   "cell_type": "code",
   "execution_count": 36,
   "id": "99fed28e-0050-4ba1-a1d3-e4b718efa3de",
   "metadata": {
    "tags": []
   },
   "outputs": [],
   "source": [
    "data['SaleDate'] = data['SaleDate'].map(lambda x:x.strftime('%Y-%m-%d %X'))\n",
    "data_proc = preprocessor.fit_transform(data)"
   ]
  },
  {
   "cell_type": "code",
   "execution_count": 45,
   "id": "a68b89e7-24bf-451d-8e96-9072b646179e",
   "metadata": {
    "tags": []
   },
   "outputs": [
    {
     "data": {
      "text/plain": [
       "3"
      ]
     },
     "execution_count": 45,
     "metadata": {},
     "output_type": "execute_result"
    }
   ],
   "source": [
    "data['OrderPaymentType'].nunique()"
   ]
  },
  {
   "cell_type": "code",
   "execution_count": 46,
   "id": "be3c12ff-78b1-401f-a1af-6a0675b7d094",
   "metadata": {
    "tags": []
   },
   "outputs": [],
   "source": [
    "trx_encoder = TrxEncoder(\n",
    "    embeddings_noise=0.003,\n",
    "    numeric_values={\n",
    "        'month': 'identity',\n",
    "        'hour':'identity',\n",
    "        'dayofweek':'identity',\n",
    "        'absolute_time':'identity',\n",
    "        'NewClient':'identity',\n",
    "        'ClientOrderNumber':'identity',\n",
    "        'ProductTotalPrice':'identity',\n",
    "        'MenuPrice':'identity',\n",
    "        'OrderTotalPrice':'identity',\n",
    "        'apply_promo':'identity',\n",
    "        \n",
    "    },\n",
    "    embeddings={\n",
    "        'addressId': {'in': 2706, 'out': 384},\n",
    "        'deliverySectorId': {'in': 1259, 'out': 256},\n",
    "        'UnitUUId': {'in': 784, 'out': 256},\n",
    "        'ProductUUId': {'in': 1259, 'out': 128},\n",
    "        'CategoryId': {'in': 7, 'out': 4},\n",
    "        'OrderType': {'in': 3, 'out': 2},\n",
    "        'OrderState': {'in': 2, 'out': 2},\n",
    "        'OrderPaymentType': {'in': 3, 'out': 2},\n",
    "    }\n",
    ")\n",
    "\n",
    "# Sequence Encoder\n",
    "seq_encoder = RnnSeqEncoder(\n",
    "    trx_encoder=trx_encoder,\n",
    "    hidden_size=128,  # Dimension of the generated embeddings\n",
    "    type='gru',\n",
    ")\n",
    "\n",
    "# CoLES Module\n",
    "coles_module = CoLESModule(\n",
    "    seq_encoder=seq_encoder,\n",
    "    optimizer_partial=partial(torch.optim.AdamW, lr=0.001),\n",
    "    lr_scheduler_partial=partial(torch.optim.lr_scheduler.StepLR, step_size=5, gamma=0.9)\n",
    ")"
   ]
  },
  {
   "cell_type": "code",
   "execution_count": 47,
   "id": "d9e4c589-54ff-443a-bcbd-454f2e862488",
   "metadata": {
    "tags": []
   },
   "outputs": [],
   "source": [
    "train_dl = PtlsDataModule(\n",
    "    train_data=ColesDataset(\n",
    "        MemoryMapDataset(\n",
    "            data=data_proc,\n",
    "            i_filters=[\n",
    "                SeqLenFilter(min_seq_len=5),\n",
    "            ],\n",
    "        ),\n",
    "        splitter=SampleSlices(\n",
    "            split_count=5,\n",
    "            cnt_min=5,\n",
    "            cnt_max=200,\n",
    "        ),\n",
    "    ),\n",
    "    train_num_workers=8,\n",
    "    train_batch_size=128,\n",
    ")"
   ]
  },
  {
   "cell_type": "code",
   "execution_count": 48,
   "id": "487aaa13-c8ce-4117-a443-29d0c50842c2",
   "metadata": {
    "tags": []
   },
   "outputs": [
    {
     "name": "stderr",
     "output_type": "stream",
     "text": [
      "GPU available: True (cuda), used: True\n",
      "TPU available: False, using: 0 TPU cores\n",
      "HPU available: False, using: 0 HPUs\n",
      "/usr/local/lib/python3.11/dist-packages/pytorch_lightning/trainer/configuration_validator.py:70: You defined a `validation_step` but have no `val_dataloader`. Skipping val loop.\n",
      "You are using a CUDA device ('NVIDIA RTX A6000') that has Tensor Cores. To properly utilize them, you should set `torch.set_float32_matmul_precision('medium' | 'high')` which will trade-off precision for performance. For more details, read https://pytorch.org/docs/stable/generated/torch.set_float32_matmul_precision.html#torch.set_float32_matmul_precision\n",
      "2024-07-20 01:54:57.354084: E external/local_xla/xla/stream_executor/cuda/cuda_dnn.cc:9261] Unable to register cuDNN factory: Attempting to register factory for plugin cuDNN when one has already been registered\n",
      "2024-07-20 01:54:57.354143: E external/local_xla/xla/stream_executor/cuda/cuda_fft.cc:607] Unable to register cuFFT factory: Attempting to register factory for plugin cuFFT when one has already been registered\n",
      "2024-07-20 01:54:57.355117: E external/local_xla/xla/stream_executor/cuda/cuda_blas.cc:1515] Unable to register cuBLAS factory: Attempting to register factory for plugin cuBLAS when one has already been registered\n",
      "2024-07-20 01:54:57.360665: I tensorflow/core/platform/cpu_feature_guard.cc:182] This TensorFlow binary is optimized to use available CPU instructions in performance-critical operations.\n",
      "To enable the following instructions: AVX2 FMA, in other operations, rebuild TensorFlow with the appropriate compiler flags.\n",
      "2024-07-20 01:54:58.282935: W tensorflow/compiler/tf2tensorrt/utils/py_utils.cc:38] TF-TRT Warning: Could not find TensorRT\n",
      "LOCAL_RANK: 0 - CUDA_VISIBLE_DEVICES: [0]\n",
      "\n",
      "  | Name               | Type            | Params | Mode \n",
      "---------------------------------------------------------------\n",
      "0 | _loss              | ContrastiveLoss | 0      | train\n",
      "1 | _seq_encoder       | RnnSeqEncoder   | 2.2 M  | train\n",
      "2 | _validation_metric | BatchRecallTopK | 0      | train\n",
      "3 | _head              | Head            | 0      | train\n",
      "---------------------------------------------------------------\n",
      "2.2 M     Trainable params\n",
      "0         Non-trainable params\n",
      "2.2 M     Total params\n",
      "8.697     Total estimated model params size (MB)\n"
     ]
    },
    {
     "data": {
      "application/vnd.jupyter.widget-view+json": {
       "model_id": "700d589437604090947e0c422118b28a",
       "version_major": 2,
       "version_minor": 0
      },
      "text/plain": [
       "Training: |          | 0/? [00:00<?, ?it/s]"
      ]
     },
     "metadata": {},
     "output_type": "display_data"
    },
    {
     "name": "stderr",
     "output_type": "stream",
     "text": [
      "`Trainer.fit` stopped: `max_epochs=12` reached.\n"
     ]
    }
   ],
   "source": [
    "trainer = pl.Trainer(max_epochs=12, devices=1)\n",
    "\n",
    "trainer.fit(coles_module, train_dl)"
   ]
  },
  {
   "cell_type": "code",
   "execution_count": 49,
   "id": "8268a47a-be38-4e7b-a4b5-98dbe074bda9",
   "metadata": {
    "tags": []
   },
   "outputs": [],
   "source": [
    "inference_module = InferenceModule(\n",
    "        model=seq_encoder,\n",
    "        pandas_output=True,\n",
    "        drop_seq_features=True,\n",
    "        model_out_name=f'emb'\n",
    ")"
   ]
  },
  {
   "cell_type": "code",
   "execution_count": 50,
   "id": "5cb2346f-8bbc-4cd9-b5cc-feb132e21213",
   "metadata": {
    "tags": []
   },
   "outputs": [],
   "source": [
    "inference_dataset_train = MemoryMapDataset(\n",
    "    data=data_proc,\n",
    ")\n",
    "\n",
    "inference_dl_train = torch.utils.data.DataLoader(\n",
    "    dataset=inference_dataset_train,\n",
    "    collate_fn=collate_feature_dict,\n",
    "    shuffle=False,\n",
    "    batch_size=128,\n",
    "    num_workers=8,\n",
    ")"
   ]
  },
  {
   "cell_type": "code",
   "execution_count": 51,
   "id": "2c353f83-39f7-43c3-b1f6-8d85890fe548",
   "metadata": {
    "tags": []
   },
   "outputs": [
    {
     "name": "stderr",
     "output_type": "stream",
     "text": [
      "GPU available: True (cuda), used: True\n",
      "TPU available: False, using: 0 TPU cores\n",
      "HPU available: False, using: 0 HPUs\n",
      "LOCAL_RANK: 0 - CUDA_VISIBLE_DEVICES: [0]\n"
     ]
    },
    {
     "data": {
      "application/vnd.jupyter.widget-view+json": {
       "model_id": "2ada0291ad6c4e80b4ed5cd2d83c65aa",
       "version_major": 2,
       "version_minor": 0
      },
      "text/plain": [
       "Predicting: |          | 0/? [00:00<?, ?it/s]"
      ]
     },
     "metadata": {},
     "output_type": "display_data"
    }
   ],
   "source": [
    "predict = pl.Trainer(devices=1).predict(inference_module, inference_dl_train)\n",
    "all_feats = pd.concat(predict, axis=0).set_index('ClientUUId')"
   ]
  },
  {
   "cell_type": "code",
   "execution_count": 52,
   "id": "8808eddb-f6e6-4222-ac01-223b0cc6e1ae",
   "metadata": {
    "tags": []
   },
   "outputs": [],
   "source": [
    "all_feats.to_parquet('order_embeds.parquet')"
   ]
  },
  {
   "cell_type": "code",
   "execution_count": 53,
   "id": "eb474f6b-92be-4ef3-bda1-cc3da022f7ca",
   "metadata": {
    "tags": []
   },
   "outputs": [],
   "source": [
    "from catboost import CatBoostClassifier, Pool\n",
    "from sklearn.model_selection import train_test_split, TimeSeriesSplit, StratifiedKFold, StratifiedGroupKFold\n",
    "from sklearn.metrics import roc_auc_score\n",
    "from sklearn.base import BaseEstimator"
   ]
  },
  {
   "cell_type": "code",
   "execution_count": 54,
   "id": "0ee9bef5-317c-4bef-8ffa-8d2521cedc1e",
   "metadata": {
    "tags": []
   },
   "outputs": [],
   "source": [
    "all_feats = all_feats.T.drop_duplicates().T\n",
    "all_feats['ClientUUId'] = all_feats.index\n",
    "all_feats.index = range(len(all_feats))"
   ]
  },
  {
   "cell_type": "code",
   "execution_count": 55,
   "id": "9145a300-5718-4ca2-9f49-6a94cc55c83a",
   "metadata": {
    "tags": []
   },
   "outputs": [],
   "source": [
    "train_data = pd.read_csv('dodohack/Data Secrets First Cup/train_target.csv',parse_dates=['LocalBeginDate','LocalEndDate'])\n",
    "train_data = train_data.merge(all_feats)"
   ]
  },
  {
   "cell_type": "code",
   "execution_count": 56,
   "id": "a33e11fd-097f-4e6c-a8ef-aa11a32aabfe",
   "metadata": {
    "tags": []
   },
   "outputs": [],
   "source": [
    "params = {\n",
    "    'iterations':500,\n",
    "    'learning_rate':0.01,\n",
    "    'loss_function':'CrossEntropy',\n",
    "    'max_depth':4,\n",
    "    'eval_metric':'AUC',\n",
    "    'task_type':'GPU',\n",
    "    'random_seed':56\n",
    "}\n",
    "\n",
    "drop_cols = [\n",
    "    'LocalBeginDate',\n",
    "    'LocalEndDate',\n",
    "    'ClientUUId',\n",
    "]\n",
    "\n",
    "cat_cols = [\n",
    "    'Id',\n",
    "    'OrderType',\n",
    "]\n",
    "\n",
    "label_col = 'apply_promo'\n",
    "num_fold = 5\n",
    "n_fold_test = 10\n",
    "test_c_stop = 1\n",
    "num_repits = 1"
   ]
  },
  {
   "cell_type": "code",
   "execution_count": 57,
   "id": "50e08b55-c280-472a-a2df-322c01165347",
   "metadata": {
    "tags": []
   },
   "outputs": [],
   "source": [
    "class CatBoostKfoldWraper(BaseEstimator):\n",
    "    def __init__(self,num_folds,num_repits,params,random_state=56):\n",
    "        self.models = []\n",
    "        self.params = params\n",
    "        self.random_state = random_state\n",
    "        self.num_folds = num_folds\n",
    "        \n",
    "    def fit(self,train_data,cat_features=None,drop_cols=None,label_col=None,verbose=False):\n",
    "        scores = []\n",
    "        \n",
    "        for i in trange(num_repits):\n",
    "            kfold = StratifiedGroupKFold(self.num_folds,random_state=self.random_state+i,shuffle=True)\n",
    "            for train_index, test_index in (kfold.split(train_data,train_data[label_col],groups=train_data['ClientUUId'])):\n",
    "                train_df = train_data.iloc[train_index]\n",
    "                test_df = train_data.iloc[test_index]\n",
    "\n",
    "                train_pool = Pool(\n",
    "                    train_df.drop([label_col]+drop_cols,axis=1),\n",
    "                    label = train_df[label_col],\n",
    "                    cat_features = cat_features\n",
    "                )\n",
    "\n",
    "                eval_pool = Pool(\n",
    "                    test_df.drop([label_col]+drop_cols,axis=1),\n",
    "                    label = test_df[label_col],\n",
    "                    cat_features = cat_features\n",
    "                )\n",
    "\n",
    "                cbm = CatBoostClassifier(**self.params)\n",
    "                cbm.fit(train_pool,eval_set=eval_pool,verbose=verbose)\n",
    "\n",
    "                score = roc_auc_score(test_df[label_col],cbm.predict_proba(eval_pool)[:,1])\n",
    "                scores += [score]\n",
    "                self.models += [cbm]\n",
    "        #print(f\"Total Score {np.mean(scores)}\")\n",
    "            \n",
    "    def predict(self,test_data,drop_cols=None,cat_features=None):\n",
    "        test_pool = Pool(\n",
    "            test_data.drop(drop_cols,axis=1),\n",
    "            cat_features=cat_features\n",
    "        )\n",
    "        preds = np.mean([model.predict_proba(test_pool)[:,1] for model in self.models],axis=0)\n",
    "        return preds\n",
    "    \n",
    "    def get_feature_importance(self):\n",
    "        imp_0 = self.models[0].get_feature_importance(prettified=True).set_index('Feature Id')\n",
    "        for i in range(1,len(self.models)):\n",
    "            imp_0 += self.models[i].get_feature_importance(prettified=True).set_index('Feature Id')\n",
    "        return (imp_0 / len(self.models)).sort_values(by='Importances')[::-1]"
   ]
  },
  {
   "cell_type": "code",
   "execution_count": 58,
   "id": "6bb85859-c341-496f-a774-386daf7a71d9",
   "metadata": {
    "tags": []
   },
   "outputs": [],
   "source": [
    "def model_builder(train_data):\n",
    "    model = CatBoostKfoldWraper(num_fold,num_repits,params)\n",
    "    \n",
    "    model.fit(\n",
    "        train_data,\n",
    "        cat_features=cat_cols,\n",
    "        drop_cols=drop_cols,\n",
    "        label_col=label_col,\n",
    "        verbose=500\n",
    "    )\n",
    "    \n",
    "    return model\n",
    "\n",
    "def model_predicter(model,test_data):\n",
    "    return model.predict(test_data,drop_cols=drop_cols,cat_features=cat_cols)"
   ]
  },
  {
   "cell_type": "code",
   "execution_count": 59,
   "id": "d41bf44b-3c85-47dd-9b4a-a85dcbfd096b",
   "metadata": {
    "tags": []
   },
   "outputs": [],
   "source": [
    "class TestKFoldWrapper():\n",
    "    def __init__(self,num_folds=10,top_c=1,random_state=56):\n",
    "        self.top_c = top_c\n",
    "        self.kfold = StratifiedGroupKFold(num_folds,random_state=random_state,shuffle=True)\n",
    "    \n",
    "    def run_experiments(self,model_builder,model_predicter,train_data,label_col=None):\n",
    "        self.models = []\n",
    "        self.scores = []\n",
    "        c = 0\n",
    "        \n",
    "        for train_index, test_index in tqdm(self.kfold.split(train_data,train_data[label_col],groups=train_data['ClientUUId'])):\n",
    "            train_df = train_data.iloc[train_index]\n",
    "            test_df = train_data.iloc[test_index]\n",
    "            \n",
    "            model = model_builder(train_df)\n",
    "            score = roc_auc_score(test_df[label_col],model_predicter(model,test_df))\n",
    "            self.scores.append(score)\n",
    "            self.models.append(model)\n",
    "            c += 1\n",
    "            if c >= self.top_c:\n",
    "                break\n",
    "        \n",
    "        print(f\"Total Score {np.mean(self.scores)}\")"
   ]
  },
  {
   "cell_type": "code",
   "execution_count": 60,
   "id": "bba8d583-b5c2-4899-8f4a-5374c8f5329d",
   "metadata": {
    "tags": []
   },
   "outputs": [
    {
     "data": {
      "application/vnd.jupyter.widget-view+json": {
       "model_id": "2d6da2150b0244b1895432bc2491010b",
       "version_major": 2,
       "version_minor": 0
      },
      "text/plain": [
       "0it [00:00, ?it/s]"
      ]
     },
     "metadata": {},
     "output_type": "display_data"
    },
    {
     "data": {
      "application/vnd.jupyter.widget-view+json": {
       "model_id": "08906dbd895744b7a10dadfb576e2f3d",
       "version_major": 2,
       "version_minor": 0
      },
      "text/plain": [
       "  0%|          | 0/1 [00:00<?, ?it/s]"
      ]
     },
     "metadata": {},
     "output_type": "display_data"
    },
    {
     "name": "stderr",
     "output_type": "stream",
     "text": [
      "Default metric period is 5 because AUC is/are not implemented for GPU\n"
     ]
    },
    {
     "name": "stdout",
     "output_type": "stream",
     "text": [
      "0:\ttest: 0.5399282\tbest: 0.5399282 (0)\ttotal: 17.4ms\tremaining: 8.67s\n",
      "499:\ttest: 0.6548592\tbest: 0.6560553 (470)\ttotal: 8s\tremaining: 0us\n",
      "bestTest = 0.6560552716\n",
      "bestIteration = 470\n",
      "Shrink model to first 471 iterations.\n"
     ]
    },
    {
     "name": "stderr",
     "output_type": "stream",
     "text": [
      "Default metric period is 5 because AUC is/are not implemented for GPU\n"
     ]
    },
    {
     "name": "stdout",
     "output_type": "stream",
     "text": [
      "0:\ttest: 0.5492847\tbest: 0.5492847 (0)\ttotal: 12.3ms\tremaining: 6.12s\n",
      "499:\ttest: 0.6151896\tbest: 0.6166139 (440)\ttotal: 7.88s\tremaining: 0us\n",
      "bestTest = 0.6166139245\n",
      "bestIteration = 440\n",
      "Shrink model to first 441 iterations.\n"
     ]
    },
    {
     "name": "stderr",
     "output_type": "stream",
     "text": [
      "Default metric period is 5 because AUC is/are not implemented for GPU\n"
     ]
    },
    {
     "name": "stdout",
     "output_type": "stream",
     "text": [
      "0:\ttest: 0.5372133\tbest: 0.5372133 (0)\ttotal: 12.3ms\tremaining: 6.12s\n",
      "499:\ttest: 0.5678112\tbest: 0.5723202 (85)\ttotal: 7.67s\tremaining: 0us\n",
      "bestTest = 0.5723201632\n",
      "bestIteration = 85\n",
      "Shrink model to first 86 iterations.\n"
     ]
    },
    {
     "name": "stderr",
     "output_type": "stream",
     "text": [
      "Default metric period is 5 because AUC is/are not implemented for GPU\n"
     ]
    },
    {
     "name": "stdout",
     "output_type": "stream",
     "text": [
      "0:\ttest: 0.5401148\tbest: 0.5401148 (0)\ttotal: 13ms\tremaining: 6.47s\n",
      "499:\ttest: 0.5730336\tbest: 0.5887601 (55)\ttotal: 8.27s\tremaining: 0us\n",
      "bestTest = 0.588760078\n",
      "bestIteration = 55\n",
      "Shrink model to first 56 iterations.\n"
     ]
    },
    {
     "name": "stderr",
     "output_type": "stream",
     "text": [
      "Default metric period is 5 because AUC is/are not implemented for GPU\n"
     ]
    },
    {
     "name": "stdout",
     "output_type": "stream",
     "text": [
      "0:\ttest: 0.5536158\tbest: 0.5536158 (0)\ttotal: 13.3ms\tremaining: 6.62s\n",
      "499:\ttest: 0.5577962\tbest: 0.5894220 (40)\ttotal: 7.98s\tremaining: 0us\n",
      "bestTest = 0.5894219875\n",
      "bestIteration = 40\n",
      "Shrink model to first 41 iterations.\n",
      "Total Score 0.6415881809787627\n"
     ]
    }
   ],
   "source": [
    "evaluator = TestKFoldWrapper(n_fold_test,test_c_stop)\n",
    "\n",
    "evaluator.run_experiments(\n",
    "    model_builder=model_builder,\n",
    "    model_predicter=model_predicter,\n",
    "    train_data=train_data,\n",
    "    label_col=label_col\n",
    ")"
   ]
  },
  {
   "cell_type": "code",
   "execution_count": null,
   "id": "603eacc3-4d5a-4df1-9ef6-81b078c49bb9",
   "metadata": {},
   "outputs": [],
   "source": []
  }
 ],
 "metadata": {
  "kernelspec": {
   "display_name": "Python 3 (ipykernel)",
   "language": "python",
   "name": "python3"
  },
  "language_info": {
   "codemirror_mode": {
    "name": "ipython",
    "version": 3
   },
   "file_extension": ".py",
   "mimetype": "text/x-python",
   "name": "python",
   "nbconvert_exporter": "python",
   "pygments_lexer": "ipython3",
   "version": "3.11.7"
  }
 },
 "nbformat": 4,
 "nbformat_minor": 5
}
