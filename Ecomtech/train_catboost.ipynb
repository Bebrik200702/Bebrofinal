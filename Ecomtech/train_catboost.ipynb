{
 "cells": [
  {
   "cell_type": "code",
   "execution_count": 1,
   "id": "047c9f82-502d-4dc2-a7e8-83b04faaf156",
   "metadata": {
    "tags": []
   },
   "outputs": [],
   "source": [
    "import numpy as np\n",
    "import pandas as pd\n",
    "import polars as pl\n",
    "from catboost import CatBoostClassifier, Pool, cv\n",
    "import lightgbm as lgb\n",
    "import xgboost as xgb\n",
    "from sklearn.metrics import roc_auc_score, roc_curve, auc, accuracy_score\n",
    "from iterstrat.ml_stratifiers import MultilabelStratifiedKFold\n",
    "from functools import partial \n",
    "from sklearn.base import BaseEstimator\n",
    "from scipy.stats import rankdata\n",
    "from tqdm.auto import trange\n",
    "from sklearn.model_selection import train_test_split, StratifiedKFold, StratifiedGroupKFold"
   ]
  },
  {
   "cell_type": "code",
   "execution_count": 24,
   "id": "3d7d34ef-f3d0-4821-b04b-832f17698930",
   "metadata": {
    "tags": []
   },
   "outputs": [
    {
     "data": {
      "text/html": [
       "<div>\n",
       "<style scoped>\n",
       "    .dataframe tbody tr th:only-of-type {\n",
       "        vertical-align: middle;\n",
       "    }\n",
       "\n",
       "    .dataframe tbody tr th {\n",
       "        vertical-align: top;\n",
       "    }\n",
       "\n",
       "    .dataframe thead th {\n",
       "        text-align: right;\n",
       "    }\n",
       "</style>\n",
       "<table border=\"1\" class=\"dataframe\">\n",
       "  <thead>\n",
       "    <tr style=\"text-align: right;\">\n",
       "      <th></th>\n",
       "      <th>Unnamed: 0</th>\n",
       "      <th>index</th>\n",
       "      <th>assessment</th>\n",
       "      <th>tags</th>\n",
       "      <th>text</th>\n",
       "      <th>trend_id_res0</th>\n",
       "      <th>trend_id_res1</th>\n",
       "      <th>trend_id_res2</th>\n",
       "      <th>trend_id_res3</th>\n",
       "      <th>trend_id_res4</th>\n",
       "      <th>...</th>\n",
       "      <th>trend_id_res40</th>\n",
       "      <th>trend_id_res41</th>\n",
       "      <th>trend_id_res42</th>\n",
       "      <th>trend_id_res43</th>\n",
       "      <th>trend_id_res44</th>\n",
       "      <th>trend_id_res45</th>\n",
       "      <th>trend_id_res46</th>\n",
       "      <th>trend_id_res47</th>\n",
       "      <th>trend_id_res48</th>\n",
       "      <th>trend_id_res49</th>\n",
       "    </tr>\n",
       "  </thead>\n",
       "  <tbody>\n",
       "    <tr>\n",
       "      <th>0</th>\n",
       "      <td>0</td>\n",
       "      <td>5652</td>\n",
       "      <td>6.0</td>\n",
       "      <td>{ASSORTMENT,PROMOTIONS,DELIVERY}</td>\n",
       "      <td>Маленький выбор товаров, хотелось бы ассортиме...</td>\n",
       "      <td>0</td>\n",
       "      <td>0</td>\n",
       "      <td>0</td>\n",
       "      <td>0</td>\n",
       "      <td>0</td>\n",
       "      <td>...</td>\n",
       "      <td>0</td>\n",
       "      <td>0</td>\n",
       "      <td>0</td>\n",
       "      <td>0</td>\n",
       "      <td>0</td>\n",
       "      <td>0</td>\n",
       "      <td>0</td>\n",
       "      <td>0</td>\n",
       "      <td>0</td>\n",
       "      <td>0</td>\n",
       "    </tr>\n",
       "    <tr>\n",
       "      <th>1</th>\n",
       "      <td>1</td>\n",
       "      <td>18092</td>\n",
       "      <td>4.0</td>\n",
       "      <td>{ASSORTMENT,PRICE,PRODUCTS_QUALITY,DELIVERY}</td>\n",
       "      <td>Быстро</td>\n",
       "      <td>0</td>\n",
       "      <td>0</td>\n",
       "      <td>0</td>\n",
       "      <td>0</td>\n",
       "      <td>0</td>\n",
       "      <td>...</td>\n",
       "      <td>0</td>\n",
       "      <td>0</td>\n",
       "      <td>0</td>\n",
       "      <td>0</td>\n",
       "      <td>0</td>\n",
       "      <td>0</td>\n",
       "      <td>0</td>\n",
       "      <td>0</td>\n",
       "      <td>0</td>\n",
       "      <td>0</td>\n",
       "    </tr>\n",
       "    <tr>\n",
       "      <th>2</th>\n",
       "      <td>2</td>\n",
       "      <td>13845</td>\n",
       "      <td>6.0</td>\n",
       "      <td>{DELIVERY,PROMOTIONS,PRICE,ASSORTMENT,SUPPORT}</td>\n",
       "      <td>Доставка постоянно задерживается</td>\n",
       "      <td>0</td>\n",
       "      <td>0</td>\n",
       "      <td>0</td>\n",
       "      <td>1</td>\n",
       "      <td>0</td>\n",
       "      <td>...</td>\n",
       "      <td>0</td>\n",
       "      <td>0</td>\n",
       "      <td>0</td>\n",
       "      <td>0</td>\n",
       "      <td>0</td>\n",
       "      <td>0</td>\n",
       "      <td>0</td>\n",
       "      <td>0</td>\n",
       "      <td>0</td>\n",
       "      <td>0</td>\n",
       "    </tr>\n",
       "    <tr>\n",
       "      <th>3</th>\n",
       "      <td>3</td>\n",
       "      <td>25060</td>\n",
       "      <td>6.0</td>\n",
       "      <td>{PRICE,PROMOTIONS,ASSORTMENT}</td>\n",
       "      <td>Наценка и ассортимент расстраивают</td>\n",
       "      <td>0</td>\n",
       "      <td>0</td>\n",
       "      <td>0</td>\n",
       "      <td>0</td>\n",
       "      <td>0</td>\n",
       "      <td>...</td>\n",
       "      <td>0</td>\n",
       "      <td>0</td>\n",
       "      <td>0</td>\n",
       "      <td>0</td>\n",
       "      <td>0</td>\n",
       "      <td>0</td>\n",
       "      <td>0</td>\n",
       "      <td>0</td>\n",
       "      <td>0</td>\n",
       "      <td>0</td>\n",
       "    </tr>\n",
       "    <tr>\n",
       "      <th>4</th>\n",
       "      <td>5</td>\n",
       "      <td>1428</td>\n",
       "      <td>6.0</td>\n",
       "      <td>{PRICE,PROMOTIONS}</td>\n",
       "      <td>Можно немного скинуть минимальную сумму заказа...</td>\n",
       "      <td>0</td>\n",
       "      <td>0</td>\n",
       "      <td>0</td>\n",
       "      <td>0</td>\n",
       "      <td>0</td>\n",
       "      <td>...</td>\n",
       "      <td>0</td>\n",
       "      <td>0</td>\n",
       "      <td>0</td>\n",
       "      <td>0</td>\n",
       "      <td>0</td>\n",
       "      <td>0</td>\n",
       "      <td>0</td>\n",
       "      <td>0</td>\n",
       "      <td>0</td>\n",
       "      <td>0</td>\n",
       "    </tr>\n",
       "  </tbody>\n",
       "</table>\n",
       "<p>5 rows × 55 columns</p>\n",
       "</div>"
      ],
      "text/plain": [
       "   Unnamed: 0  index  assessment  \\\n",
       "0           0   5652         6.0   \n",
       "1           1  18092         4.0   \n",
       "2           2  13845         6.0   \n",
       "3           3  25060         6.0   \n",
       "4           5   1428         6.0   \n",
       "\n",
       "                                             tags  \\\n",
       "0                {ASSORTMENT,PROMOTIONS,DELIVERY}   \n",
       "1    {ASSORTMENT,PRICE,PRODUCTS_QUALITY,DELIVERY}   \n",
       "2  {DELIVERY,PROMOTIONS,PRICE,ASSORTMENT,SUPPORT}   \n",
       "3                   {PRICE,PROMOTIONS,ASSORTMENT}   \n",
       "4                              {PRICE,PROMOTIONS}   \n",
       "\n",
       "                                                text  trend_id_res0  \\\n",
       "0  Маленький выбор товаров, хотелось бы ассортиме...              0   \n",
       "1                                             Быстро              0   \n",
       "2                   Доставка постоянно задерживается              0   \n",
       "3                 Наценка и ассортимент расстраивают              0   \n",
       "4  Можно немного скинуть минимальную сумму заказа...              0   \n",
       "\n",
       "   trend_id_res1  trend_id_res2  trend_id_res3  trend_id_res4  ...  \\\n",
       "0              0              0              0              0  ...   \n",
       "1              0              0              0              0  ...   \n",
       "2              0              0              1              0  ...   \n",
       "3              0              0              0              0  ...   \n",
       "4              0              0              0              0  ...   \n",
       "\n",
       "   trend_id_res40  trend_id_res41  trend_id_res42  trend_id_res43  \\\n",
       "0               0               0               0               0   \n",
       "1               0               0               0               0   \n",
       "2               0               0               0               0   \n",
       "3               0               0               0               0   \n",
       "4               0               0               0               0   \n",
       "\n",
       "   trend_id_res44  trend_id_res45  trend_id_res46  trend_id_res47  \\\n",
       "0               0               0               0               0   \n",
       "1               0               0               0               0   \n",
       "2               0               0               0               0   \n",
       "3               0               0               0               0   \n",
       "4               0               0               0               0   \n",
       "\n",
       "   trend_id_res48  trend_id_res49  \n",
       "0               0               0  \n",
       "1               0               0  \n",
       "2               0               0  \n",
       "3               0               0  \n",
       "4               0               0  \n",
       "\n",
       "[5 rows x 55 columns]"
      ]
     },
     "execution_count": 24,
     "metadata": {},
     "output_type": "execute_result"
    }
   ],
   "source": [
    "train_data = pd.read_csv('train.csv')\n",
    "test_data = pd.read_csv('test.csv')\n",
    "train_data.head(5)"
   ]
  },
  {
   "cell_type": "code",
   "execution_count": 34,
   "id": "f7ac6e90-f783-4f6c-b5a9-e7c129195067",
   "metadata": {
    "tags": []
   },
   "outputs": [
    {
     "data": {
      "text/plain": [
       "trend_id_res0     837\n",
       "trend_id_res12    624\n",
       "trend_id_res2     597\n",
       "trend_id_res27    530\n",
       "trend_id_res28    420\n",
       "trend_id_res3     361\n",
       "trend_id_res19    360\n",
       "trend_id_res1     347\n",
       "trend_id_res30    306\n",
       "trend_id_res18    231\n",
       "trend_id_res16    191\n",
       "trend_id_res36    167\n",
       "trend_id_res8     140\n",
       "trend_id_res20    132\n",
       "trend_id_res4     126\n",
       "trend_id_res11    108\n",
       "trend_id_res21     99\n",
       "trend_id_res10     96\n",
       "trend_id_res15     81\n",
       "trend_id_res14     73\n",
       "trend_id_res40     72\n",
       "trend_id_res23     65\n",
       "trend_id_res29     61\n",
       "trend_id_res35     58\n",
       "trend_id_res5      52\n",
       "trend_id_res31     50\n",
       "trend_id_res37     46\n",
       "trend_id_res43     44\n",
       "trend_id_res39     44\n",
       "trend_id_res42     35\n",
       "trend_id_res7      35\n",
       "trend_id_res13     34\n",
       "trend_id_res47     31\n",
       "trend_id_res48     29\n",
       "trend_id_res33     28\n",
       "trend_id_res38     28\n",
       "trend_id_res44     27\n",
       "trend_id_res26     27\n",
       "trend_id_res22     25\n",
       "trend_id_res6      21\n",
       "trend_id_res41     21\n",
       "trend_id_res32     13\n",
       "trend_id_res25     13\n",
       "trend_id_res49     12\n",
       "trend_id_res45     12\n",
       "trend_id_res34     11\n",
       "trend_id_res9      10\n",
       "trend_id_res24     10\n",
       "trend_id_res17      9\n",
       "trend_id_res46      7\n",
       "dtype: int64"
      ]
     },
     "execution_count": 34,
     "metadata": {},
     "output_type": "execute_result"
    }
   ],
   "source": [
    "train_data.iloc[:,5:].sum(axis=0).sort_values()[::-1]"
   ]
  },
  {
   "cell_type": "code",
   "execution_count": 3,
   "id": "2f438d42-07ca-4d45-a0b2-d5c90a643b73",
   "metadata": {
    "tags": []
   },
   "outputs": [],
   "source": [
    "TAG_LIST = [\n",
    "    'DELIVERY',\n",
    "    'ASSORTMENT',\n",
    "    'PRICE',\n",
    "    'PROMOTIONS',\n",
    "    'PRODUCTS_QUALITY',\n",
    "    'SUPPORT',\n",
    "    'CATALOG_NAVIGATION',\n",
    "    'PAYMENT',\n",
    "]\n",
    "\n",
    "def get_tags_feats(df):\n",
    "    for tag in TAG_LIST:\n",
    "        df[f'tag_{tag}'] = df['tags'].fillna('').apply(lambda x: tag in x).astype(int)\n",
    "    return df\n",
    "\n",
    "train_data = get_tags_feats(train_data)\n",
    "test_data = get_tags_feats(test_data)"
   ]
  },
  {
   "cell_type": "code",
   "execution_count": 4,
   "id": "b2f7d5da-cb4a-45d3-8077-6e7993e7117e",
   "metadata": {
    "tags": []
   },
   "outputs": [],
   "source": [
    "def get_static_text_features(df):\n",
    "    df['length'] = df['text'].fillna('').apply(len)\n",
    "    df['words_number'] = df['text'].fillna('').apply(lambda x: len(x.split()))\n",
    "    df['end_with_.'] = df['text'].fillna('a').apply(lambda x: x[-1] == '.').astype(int)\n",
    "    df['sentence_count'] = df['text'].fillna('').apply(lambda x:x.count('.'))\n",
    "    df['angry'] = df['text'].fillna('').apply(lambda x:x.count('!'))\n",
    "    return df\n",
    "\n",
    "train_data = get_static_text_features(train_data)\n",
    "test_data = get_static_text_features(test_data)"
   ]
  },
  {
   "cell_type": "code",
   "execution_count": 5,
   "id": "f1a0deb4-3327-4f99-917f-2d0b3194a456",
   "metadata": {
    "tags": []
   },
   "outputs": [],
   "source": [
    "deberta_oof = pd.read_parquet('gemma_preds.parquet')"
   ]
  },
  {
   "cell_type": "code",
   "execution_count": 6,
   "id": "1351ebbd-44cd-4136-943e-eda9716ef0ef",
   "metadata": {
    "tags": []
   },
   "outputs": [],
   "source": [
    "for i in range(50):\n",
    "    train_data[f'preds_{i}'] = deberta_oof['preds'].apply(lambda x:x[i])\n",
    "#for i in range(50):\n",
    "#    train_data[f'rank_preds_{i}'] = deberta_oof['preds'].apply(lambda x: rankdata(x[i]))"
   ]
  },
  {
   "cell_type": "code",
   "execution_count": 9,
   "id": "788a85a9-cfac-4e6c-b015-44e5114cebba",
   "metadata": {
    "tags": []
   },
   "outputs": [],
   "source": [
    "idxes = np.load('first_foldn.npy')"
   ]
  },
  {
   "cell_type": "code",
   "execution_count": 11,
   "id": "71eb70b6-0f15-489d-ae72-fb5fff8bc9b3",
   "metadata": {
    "tags": []
   },
   "outputs": [],
   "source": [
    "train_data = train_data.iloc[idxes]"
   ]
  },
  {
   "cell_type": "code",
   "execution_count": 12,
   "id": "f9f177b1-cd48-4ad7-968c-f0436bf7f30b",
   "metadata": {
    "tags": []
   },
   "outputs": [],
   "source": [
    "cb_params = {\n",
    "    'iterations': 1000,\n",
    "    'learning_rate': 0.05,\n",
    "    'loss_function': 'MultiCrossEntropy',\n",
    "    'max_depth': 4,\n",
    "    'eval_metric': 'Accuracy',\n",
    "    'random_seed': 56\n",
    "}\n",
    "\n",
    "params = {\n",
    "    'cb_params':cb_params,\n",
    "    'lgb_params': None,\n",
    "    'xgb_params': None,\n",
    "}\n",
    "\n",
    "cat_cols = []\n",
    "labels = [f'trend_id_res{i}' for i in range(50)]\n",
    "drop_cols = [\n",
    "    'Unnamed: 0',\n",
    "    'tags',\n",
    "    'text'\n",
    "]"
   ]
  },
  {
   "cell_type": "code",
   "execution_count": 13,
   "id": "bcc102a5-4175-4628-b895-ce6275ce1008",
   "metadata": {
    "tags": []
   },
   "outputs": [],
   "source": [
    "class EnsembleClassifier(BaseEstimator):\n",
    "    def __init__(self,cb_params,lgb_params,xgb_params):\n",
    "        self.cbm = CatBoostClassifier(**cb_params)\n",
    "        #self.lgbm = lgb.LGBMClassifier(**lgb_params)\n",
    "        #self.xgbm = xgb.XGBClassifier(**xgb_params)\n",
    "    \n",
    "    def fit(self,X,y,X_val,y_val,cat_features=None,verbose=False):\n",
    "        train_pool = Pool(X,label=y,cat_features=cat_features)\n",
    "        eval_pool = Pool(X_val,label=y_val,cat_features=cat_features)\n",
    "        self.cbm.fit(train_pool,eval_set=eval_pool,verbose=verbose)\n",
    "        #self.lgbm.fit(X, y,eval_set=[(X_val,y_val)],eval_metric=lgb_custom_metric,categorical_feature=cat_features)\n",
    "        #self.xgbm.fit(X,y,eval_set=[(X_val,y_val)],verbose=False)\n",
    "    \n",
    "    def predict_proba(self,X_test,cat_features):\n",
    "        test_pool = Pool(X_test,cat_features=cat_features)\n",
    "        cb_preds = self.cbm.predict_proba(test_pool)\n",
    "        #lgb_preds = self.lgbm.predict_proba(X_test)[:,1]\n",
    "        #xgb_preds = self.xgbm.predict_proba(X_test)[:,1]\n",
    "        return cb_preds #, lgb_preds, xgb_preds"
   ]
  },
  {
   "cell_type": "code",
   "execution_count": 14,
   "id": "8f28125b-4ad8-491f-b633-95c150936e8a",
   "metadata": {
    "tags": []
   },
   "outputs": [],
   "source": [
    "class CustomBoostKfoldWraper(BaseEstimator):\n",
    "    def __init__(self,num_folds,num_repits,params,random_state=56,score_func=None):\n",
    "        self.models = []\n",
    "        self.params = params\n",
    "        self.random_state = random_state\n",
    "        self.num_folds = num_folds\n",
    "        self.num_repits = num_repits\n",
    "        self.score_func = score_func\n",
    "        \n",
    "    def fit(self,train_data,cat_features=None,drop_cols=None,label_col=None,verbose=False):\n",
    "        self.scores = []\n",
    "        \n",
    "        for i in trange(self.num_repits):\n",
    "            kfold = MultilabelStratifiedKFold(self.num_folds,random_state=self.random_state+i,shuffle=True)\n",
    "            for train_index, test_index in (kfold.split(train_data,train_data[label_col].values)):\n",
    "                train_df = train_data.iloc[train_index]\n",
    "                test_df = train_data.iloc[test_index]\n",
    "                \n",
    "                model = EnsembleClassifier(**self.params)\n",
    "                model.fit(\n",
    "                    X = train_df.drop(label_col+drop_cols,axis=1),\n",
    "                    y = train_df[label_col],\n",
    "                    X_val = test_df.drop(label_col+drop_cols,axis=1),\n",
    "                    y_val = test_df[label_col],\n",
    "                    cat_features = cat_features,\n",
    "                    verbose = verbose\n",
    "                )\n",
    "                cb_preds = model.predict_proba(test_df.drop(label_col+drop_cols,axis=1),cat_features)\n",
    "                avg_preds =  cb_preds#(cb_preds + lgb_preds + xgb_preds) / 3\n",
    "                self.scores += [[\n",
    "                    self.score_func(\n",
    "                        test_df.apply(lambda x: [x[f'trend_id_res{i}'] for i in range(50)],axis=1).tolist(),\n",
    "                        cb_preds\n",
    "                    )\n",
    "                ]]\n",
    "                print(self.scores[-1])\n",
    "                self.models += [model]\n",
    "                \n",
    "        print(f\"Total Score {np.mean([x[0] for x in self.scores])}\")\n",
    "            \n",
    "    def predict(self,test_data,drop_cols=None,cat_features=None):\n",
    "        preds = np.mean([\n",
    "            model.predict_proba(test_data.drop(drop_cols,axis=1),cat_features=cat_features)\n",
    "            for model in self.models\n",
    "        ],axis=0)\n",
    "        return preds\n",
    "    \n",
    "    def get_feature_importance(self,type='FeatureImportance'):\n",
    "        imp_0 = self.models[0].cbm.get_feature_importance(prettified=True,type=type).set_index('Feature Id')\n",
    "        for i in range(1,len(self.models)):\n",
    "            imp_0 += self.models[i].cbm.get_feature_importance(prettified=True,type=type).set_index('Feature Id')\n",
    "        return (imp_0 / len(self.models)).sort_values(by='Importances')[::-1]"
   ]
  },
  {
   "cell_type": "code",
   "execution_count": 15,
   "id": "64750d92-814c-413d-bb82-6e0166492fa2",
   "metadata": {
    "tags": []
   },
   "outputs": [],
   "source": [
    "def rank_accuracy(y_true,y_preds):\n",
    "    preds = [list(map(lambda y: str(round(y)),x)) for x in y_preds]\n",
    "    labels = [''.join(map(str,x)) for x in y_true]\n",
    "    for i in range(len(y_preds)):\n",
    "        preds[i][np.argmax(y_preds[i])] = '1'\n",
    "    preds = [''.join(x) for x in preds]\n",
    "    return accuracy_score(preds,labels)"
   ]
  },
  {
   "cell_type": "code",
   "execution_count": 16,
   "id": "d851242c-043f-48dc-a21d-d2ad7ad2d640",
   "metadata": {
    "tags": []
   },
   "outputs": [],
   "source": [
    "model = CustomBoostKfoldWraper(\n",
    "    num_folds=5,\n",
    "    num_repits=3,\n",
    "    params=params,\n",
    "    random_state=5656,\n",
    "    score_func=rank_accuracy\n",
    ")"
   ]
  },
  {
   "cell_type": "code",
   "execution_count": 17,
   "id": "6303b6f9-fa0c-4932-89ef-83824030c6bd",
   "metadata": {
    "collapsed": true,
    "jupyter": {
     "outputs_hidden": true
    },
    "tags": []
   },
   "outputs": [
    {
     "data": {
      "application/vnd.jupyter.widget-view+json": {
       "model_id": "5fbbbf46276b48cda1753823306edb60",
       "version_major": 2,
       "version_minor": 0
      },
      "text/plain": [
       "  0%|          | 0/3 [00:00<?, ?it/s]"
      ]
     },
     "metadata": {},
     "output_type": "display_data"
    },
    {
     "name": "stdout",
     "output_type": "stream",
     "text": [
      "0:\tlearn: 0.0026350\ttest: 0.0000000\tbest: 0.0000000 (0)\ttotal: 72.3ms\tremaining: 1m 12s\n",
      "350:\tlearn: 0.8985507\ttest: 0.4836957\tbest: 0.4891304 (252)\ttotal: 7.75s\tremaining: 14.3s\n",
      "700:\tlearn: 1.0000000\ttest: 0.4782609\tbest: 0.4945652 (445)\ttotal: 15.5s\tremaining: 6.59s\n",
      "999:\tlearn: 1.0000000\ttest: 0.5000000\tbest: 0.5000000 (831)\ttotal: 22s\tremaining: 0us\n",
      "\n",
      "bestTest = 0.5\n",
      "bestIteration = 831\n",
      "\n",
      "Shrink model to first 832 iterations.\n",
      "[0.5543478260869565]\n",
      "0:\tlearn: 0.0026882\ttest: 0.0000000\tbest: 0.0000000 (0)\ttotal: 22.5ms\tremaining: 22.5s\n",
      "350:\tlearn: 0.8911290\ttest: 0.4924623\tbest: 0.4924623 (343)\ttotal: 8.58s\tremaining: 15.9s\n",
      "700:\tlearn: 1.0000000\ttest: 0.4924623\tbest: 0.5025126 (441)\ttotal: 16.1s\tremaining: 6.88s\n",
      "999:\tlearn: 1.0000000\ttest: 0.5025126\tbest: 0.5025126 (441)\ttotal: 23.3s\tremaining: 0us\n",
      "\n",
      "bestTest = 0.5025125628\n",
      "bestIteration = 441\n",
      "\n",
      "Shrink model to first 442 iterations.\n",
      "[0.5728643216080402]\n"
     ]
    },
    {
     "ename": "CatBoostError",
     "evalue": "catboost/libs/metrics/metric.cpp:6930: All train targets are equal",
     "output_type": "error",
     "traceback": [
      "\u001b[0;31m---------------------------------------------------------------------------\u001b[0m",
      "\u001b[0;31mCatBoostError\u001b[0m                             Traceback (most recent call last)",
      "Cell \u001b[0;32mIn[17], line 1\u001b[0m\n\u001b[0;32m----> 1\u001b[0m \u001b[43mmodel\u001b[49m\u001b[38;5;241;43m.\u001b[39;49m\u001b[43mfit\u001b[49m\u001b[43m(\u001b[49m\n\u001b[1;32m      2\u001b[0m \u001b[43m    \u001b[49m\u001b[43mtrain_data\u001b[49m\u001b[38;5;241;43m=\u001b[39;49m\u001b[43mtrain_data\u001b[49m\u001b[43m,\u001b[49m\n\u001b[1;32m      3\u001b[0m \u001b[43m    \u001b[49m\u001b[43mcat_features\u001b[49m\u001b[38;5;241;43m=\u001b[39;49m\u001b[43mcat_cols\u001b[49m\u001b[43m,\u001b[49m\n\u001b[1;32m      4\u001b[0m \u001b[43m    \u001b[49m\u001b[43mdrop_cols\u001b[49m\u001b[38;5;241;43m=\u001b[39;49m\u001b[43mdrop_cols\u001b[49m\u001b[43m,\u001b[49m\n\u001b[1;32m      5\u001b[0m \u001b[43m    \u001b[49m\u001b[43mlabel_col\u001b[49m\u001b[38;5;241;43m=\u001b[39;49m\u001b[43mlabels\u001b[49m\u001b[43m,\u001b[49m\n\u001b[1;32m      6\u001b[0m \u001b[43m    \u001b[49m\u001b[43mverbose\u001b[49m\u001b[38;5;241;43m=\u001b[39;49m\u001b[38;5;241;43m350\u001b[39;49m\u001b[43m,\u001b[49m\n\u001b[1;32m      7\u001b[0m \u001b[43m)\u001b[49m\n",
      "Cell \u001b[0;32mIn[14], line 20\u001b[0m, in \u001b[0;36mCustomBoostKfoldWraper.fit\u001b[0;34m(self, train_data, cat_features, drop_cols, label_col, verbose)\u001b[0m\n\u001b[1;32m     17\u001b[0m test_df \u001b[38;5;241m=\u001b[39m train_data\u001b[38;5;241m.\u001b[39miloc[test_index]\n\u001b[1;32m     19\u001b[0m model \u001b[38;5;241m=\u001b[39m EnsembleClassifier(\u001b[38;5;241m*\u001b[39m\u001b[38;5;241m*\u001b[39m\u001b[38;5;28mself\u001b[39m\u001b[38;5;241m.\u001b[39mparams)\n\u001b[0;32m---> 20\u001b[0m \u001b[43mmodel\u001b[49m\u001b[38;5;241;43m.\u001b[39;49m\u001b[43mfit\u001b[49m\u001b[43m(\u001b[49m\n\u001b[1;32m     21\u001b[0m \u001b[43m    \u001b[49m\u001b[43mX\u001b[49m\u001b[43m \u001b[49m\u001b[38;5;241;43m=\u001b[39;49m\u001b[43m \u001b[49m\u001b[43mtrain_df\u001b[49m\u001b[38;5;241;43m.\u001b[39;49m\u001b[43mdrop\u001b[49m\u001b[43m(\u001b[49m\u001b[43mlabel_col\u001b[49m\u001b[38;5;241;43m+\u001b[39;49m\u001b[43mdrop_cols\u001b[49m\u001b[43m,\u001b[49m\u001b[43maxis\u001b[49m\u001b[38;5;241;43m=\u001b[39;49m\u001b[38;5;241;43m1\u001b[39;49m\u001b[43m)\u001b[49m\u001b[43m,\u001b[49m\n\u001b[1;32m     22\u001b[0m \u001b[43m    \u001b[49m\u001b[43my\u001b[49m\u001b[43m \u001b[49m\u001b[38;5;241;43m=\u001b[39;49m\u001b[43m \u001b[49m\u001b[43mtrain_df\u001b[49m\u001b[43m[\u001b[49m\u001b[43mlabel_col\u001b[49m\u001b[43m]\u001b[49m\u001b[43m,\u001b[49m\n\u001b[1;32m     23\u001b[0m \u001b[43m    \u001b[49m\u001b[43mX_val\u001b[49m\u001b[43m \u001b[49m\u001b[38;5;241;43m=\u001b[39;49m\u001b[43m \u001b[49m\u001b[43mtest_df\u001b[49m\u001b[38;5;241;43m.\u001b[39;49m\u001b[43mdrop\u001b[49m\u001b[43m(\u001b[49m\u001b[43mlabel_col\u001b[49m\u001b[38;5;241;43m+\u001b[39;49m\u001b[43mdrop_cols\u001b[49m\u001b[43m,\u001b[49m\u001b[43maxis\u001b[49m\u001b[38;5;241;43m=\u001b[39;49m\u001b[38;5;241;43m1\u001b[39;49m\u001b[43m)\u001b[49m\u001b[43m,\u001b[49m\n\u001b[1;32m     24\u001b[0m \u001b[43m    \u001b[49m\u001b[43my_val\u001b[49m\u001b[43m \u001b[49m\u001b[38;5;241;43m=\u001b[39;49m\u001b[43m \u001b[49m\u001b[43mtest_df\u001b[49m\u001b[43m[\u001b[49m\u001b[43mlabel_col\u001b[49m\u001b[43m]\u001b[49m\u001b[43m,\u001b[49m\n\u001b[1;32m     25\u001b[0m \u001b[43m    \u001b[49m\u001b[43mcat_features\u001b[49m\u001b[43m \u001b[49m\u001b[38;5;241;43m=\u001b[39;49m\u001b[43m \u001b[49m\u001b[43mcat_features\u001b[49m\u001b[43m,\u001b[49m\n\u001b[1;32m     26\u001b[0m \u001b[43m    \u001b[49m\u001b[43mverbose\u001b[49m\u001b[43m \u001b[49m\u001b[38;5;241;43m=\u001b[39;49m\u001b[43m \u001b[49m\u001b[43mverbose\u001b[49m\n\u001b[1;32m     27\u001b[0m \u001b[43m\u001b[49m\u001b[43m)\u001b[49m\n\u001b[1;32m     28\u001b[0m cb_preds \u001b[38;5;241m=\u001b[39m model\u001b[38;5;241m.\u001b[39mpredict_proba(test_df\u001b[38;5;241m.\u001b[39mdrop(label_col\u001b[38;5;241m+\u001b[39mdrop_cols,axis\u001b[38;5;241m=\u001b[39m\u001b[38;5;241m1\u001b[39m),cat_features)\n\u001b[1;32m     29\u001b[0m avg_preds \u001b[38;5;241m=\u001b[39m  cb_preds\u001b[38;5;66;03m#(cb_preds + lgb_preds + xgb_preds) / 3\u001b[39;00m\n",
      "Cell \u001b[0;32mIn[13], line 10\u001b[0m, in \u001b[0;36mEnsembleClassifier.fit\u001b[0;34m(self, X, y, X_val, y_val, cat_features, verbose)\u001b[0m\n\u001b[1;32m      8\u001b[0m train_pool \u001b[38;5;241m=\u001b[39m Pool(X,label\u001b[38;5;241m=\u001b[39my,cat_features\u001b[38;5;241m=\u001b[39mcat_features)\n\u001b[1;32m      9\u001b[0m eval_pool \u001b[38;5;241m=\u001b[39m Pool(X_val,label\u001b[38;5;241m=\u001b[39my_val,cat_features\u001b[38;5;241m=\u001b[39mcat_features)\n\u001b[0;32m---> 10\u001b[0m \u001b[38;5;28;43mself\u001b[39;49m\u001b[38;5;241;43m.\u001b[39;49m\u001b[43mcbm\u001b[49m\u001b[38;5;241;43m.\u001b[39;49m\u001b[43mfit\u001b[49m\u001b[43m(\u001b[49m\u001b[43mtrain_pool\u001b[49m\u001b[43m,\u001b[49m\u001b[43meval_set\u001b[49m\u001b[38;5;241;43m=\u001b[39;49m\u001b[43meval_pool\u001b[49m\u001b[43m,\u001b[49m\u001b[43mverbose\u001b[49m\u001b[38;5;241;43m=\u001b[39;49m\u001b[43mverbose\u001b[49m\u001b[43m)\u001b[49m\n",
      "File \u001b[0;32m/usr/local/lib/python3.11/dist-packages/catboost/core.py:5245\u001b[0m, in \u001b[0;36mCatBoostClassifier.fit\u001b[0;34m(self, X, y, cat_features, text_features, embedding_features, graph, sample_weight, baseline, use_best_model, eval_set, verbose, logging_level, plot, plot_file, column_description, verbose_eval, metric_period, silent, early_stopping_rounds, save_snapshot, snapshot_file, snapshot_interval, init_model, callbacks, log_cout, log_cerr)\u001b[0m\n\u001b[1;32m   5242\u001b[0m \u001b[38;5;28;01mif\u001b[39;00m \u001b[38;5;124m'\u001b[39m\u001b[38;5;124mloss_function\u001b[39m\u001b[38;5;124m'\u001b[39m \u001b[38;5;129;01min\u001b[39;00m params:\n\u001b[1;32m   5243\u001b[0m     CatBoostClassifier\u001b[38;5;241m.\u001b[39m_check_is_compatible_loss(params[\u001b[38;5;124m'\u001b[39m\u001b[38;5;124mloss_function\u001b[39m\u001b[38;5;124m'\u001b[39m])\n\u001b[0;32m-> 5245\u001b[0m \u001b[38;5;28;43mself\u001b[39;49m\u001b[38;5;241;43m.\u001b[39;49m\u001b[43m_fit\u001b[49m\u001b[43m(\u001b[49m\u001b[43mX\u001b[49m\u001b[43m,\u001b[49m\u001b[43m \u001b[49m\u001b[43my\u001b[49m\u001b[43m,\u001b[49m\u001b[43m \u001b[49m\u001b[43mcat_features\u001b[49m\u001b[43m,\u001b[49m\u001b[43m \u001b[49m\u001b[43mtext_features\u001b[49m\u001b[43m,\u001b[49m\u001b[43m \u001b[49m\u001b[43membedding_features\u001b[49m\u001b[43m,\u001b[49m\u001b[43m \u001b[49m\u001b[38;5;28;43;01mNone\u001b[39;49;00m\u001b[43m,\u001b[49m\u001b[43m \u001b[49m\u001b[43mgraph\u001b[49m\u001b[43m,\u001b[49m\u001b[43m \u001b[49m\u001b[43msample_weight\u001b[49m\u001b[43m,\u001b[49m\u001b[43m \u001b[49m\u001b[38;5;28;43;01mNone\u001b[39;49;00m\u001b[43m,\u001b[49m\u001b[43m \u001b[49m\u001b[38;5;28;43;01mNone\u001b[39;49;00m\u001b[43m,\u001b[49m\u001b[43m \u001b[49m\u001b[38;5;28;43;01mNone\u001b[39;49;00m\u001b[43m,\u001b[49m\u001b[43m \u001b[49m\u001b[38;5;28;43;01mNone\u001b[39;49;00m\u001b[43m,\u001b[49m\u001b[43m \u001b[49m\u001b[43mbaseline\u001b[49m\u001b[43m,\u001b[49m\u001b[43m \u001b[49m\u001b[43muse_best_model\u001b[49m\u001b[43m,\u001b[49m\n\u001b[1;32m   5246\u001b[0m \u001b[43m          \u001b[49m\u001b[43meval_set\u001b[49m\u001b[43m,\u001b[49m\u001b[43m \u001b[49m\u001b[43mverbose\u001b[49m\u001b[43m,\u001b[49m\u001b[43m \u001b[49m\u001b[43mlogging_level\u001b[49m\u001b[43m,\u001b[49m\u001b[43m \u001b[49m\u001b[43mplot\u001b[49m\u001b[43m,\u001b[49m\u001b[43m \u001b[49m\u001b[43mplot_file\u001b[49m\u001b[43m,\u001b[49m\u001b[43m \u001b[49m\u001b[43mcolumn_description\u001b[49m\u001b[43m,\u001b[49m\u001b[43m \u001b[49m\u001b[43mverbose_eval\u001b[49m\u001b[43m,\u001b[49m\u001b[43m \u001b[49m\u001b[43mmetric_period\u001b[49m\u001b[43m,\u001b[49m\n\u001b[1;32m   5247\u001b[0m \u001b[43m          \u001b[49m\u001b[43msilent\u001b[49m\u001b[43m,\u001b[49m\u001b[43m \u001b[49m\u001b[43mearly_stopping_rounds\u001b[49m\u001b[43m,\u001b[49m\u001b[43m \u001b[49m\u001b[43msave_snapshot\u001b[49m\u001b[43m,\u001b[49m\u001b[43m \u001b[49m\u001b[43msnapshot_file\u001b[49m\u001b[43m,\u001b[49m\u001b[43m \u001b[49m\u001b[43msnapshot_interval\u001b[49m\u001b[43m,\u001b[49m\u001b[43m \u001b[49m\u001b[43minit_model\u001b[49m\u001b[43m,\u001b[49m\u001b[43m \u001b[49m\u001b[43mcallbacks\u001b[49m\u001b[43m,\u001b[49m\u001b[43m \u001b[49m\u001b[43mlog_cout\u001b[49m\u001b[43m,\u001b[49m\u001b[43m \u001b[49m\u001b[43mlog_cerr\u001b[49m\u001b[43m)\u001b[49m\n\u001b[1;32m   5248\u001b[0m \u001b[38;5;28;01mreturn\u001b[39;00m \u001b[38;5;28mself\u001b[39m\n",
      "File \u001b[0;32m/usr/local/lib/python3.11/dist-packages/catboost/core.py:2410\u001b[0m, in \u001b[0;36mCatBoost._fit\u001b[0;34m(self, X, y, cat_features, text_features, embedding_features, pairs, graph, sample_weight, group_id, group_weight, subgroup_id, pairs_weight, baseline, use_best_model, eval_set, verbose, logging_level, plot, plot_file, column_description, verbose_eval, metric_period, silent, early_stopping_rounds, save_snapshot, snapshot_file, snapshot_interval, init_model, callbacks, log_cout, log_cerr)\u001b[0m\n\u001b[1;32m   2407\u001b[0m allow_clear_pool \u001b[38;5;241m=\u001b[39m train_params[\u001b[38;5;124m\"\u001b[39m\u001b[38;5;124mallow_clear_pool\u001b[39m\u001b[38;5;124m\"\u001b[39m]\n\u001b[1;32m   2409\u001b[0m \u001b[38;5;28;01mwith\u001b[39;00m plot_wrapper(plot, plot_file, \u001b[38;5;124m'\u001b[39m\u001b[38;5;124mTraining plots\u001b[39m\u001b[38;5;124m'\u001b[39m, [_get_train_dir(\u001b[38;5;28mself\u001b[39m\u001b[38;5;241m.\u001b[39mget_params())]):\n\u001b[0;32m-> 2410\u001b[0m     \u001b[38;5;28;43mself\u001b[39;49m\u001b[38;5;241;43m.\u001b[39;49m\u001b[43m_train\u001b[49m\u001b[43m(\u001b[49m\n\u001b[1;32m   2411\u001b[0m \u001b[43m        \u001b[49m\u001b[43mtrain_pool\u001b[49m\u001b[43m,\u001b[49m\n\u001b[1;32m   2412\u001b[0m \u001b[43m        \u001b[49m\u001b[43mtrain_params\u001b[49m\u001b[43m[\u001b[49m\u001b[38;5;124;43m\"\u001b[39;49m\u001b[38;5;124;43meval_sets\u001b[39;49m\u001b[38;5;124;43m\"\u001b[39;49m\u001b[43m]\u001b[49m\u001b[43m,\u001b[49m\n\u001b[1;32m   2413\u001b[0m \u001b[43m        \u001b[49m\u001b[43mparams\u001b[49m\u001b[43m,\u001b[49m\n\u001b[1;32m   2414\u001b[0m \u001b[43m        \u001b[49m\u001b[43mallow_clear_pool\u001b[49m\u001b[43m,\u001b[49m\n\u001b[1;32m   2415\u001b[0m \u001b[43m        \u001b[49m\u001b[43mtrain_params\u001b[49m\u001b[43m[\u001b[49m\u001b[38;5;124;43m\"\u001b[39;49m\u001b[38;5;124;43minit_model\u001b[39;49m\u001b[38;5;124;43m\"\u001b[39;49m\u001b[43m]\u001b[49m\n\u001b[1;32m   2416\u001b[0m \u001b[43m    \u001b[49m\u001b[43m)\u001b[49m\n\u001b[1;32m   2418\u001b[0m \u001b[38;5;66;03m# Have property feature_importance possibly set\u001b[39;00m\n\u001b[1;32m   2419\u001b[0m loss \u001b[38;5;241m=\u001b[39m \u001b[38;5;28mself\u001b[39m\u001b[38;5;241m.\u001b[39m_object\u001b[38;5;241m.\u001b[39m_get_loss_function_name()\n",
      "File \u001b[0;32m/usr/local/lib/python3.11/dist-packages/catboost/core.py:1790\u001b[0m, in \u001b[0;36m_CatBoostBase._train\u001b[0;34m(self, train_pool, test_pool, params, allow_clear_pool, init_model)\u001b[0m\n\u001b[1;32m   1789\u001b[0m \u001b[38;5;28;01mdef\u001b[39;00m \u001b[38;5;21m_train\u001b[39m(\u001b[38;5;28mself\u001b[39m, train_pool, test_pool, params, allow_clear_pool, init_model):\n\u001b[0;32m-> 1790\u001b[0m     \u001b[38;5;28;43mself\u001b[39;49m\u001b[38;5;241;43m.\u001b[39;49m\u001b[43m_object\u001b[49m\u001b[38;5;241;43m.\u001b[39;49m\u001b[43m_train\u001b[49m\u001b[43m(\u001b[49m\u001b[43mtrain_pool\u001b[49m\u001b[43m,\u001b[49m\u001b[43m \u001b[49m\u001b[43mtest_pool\u001b[49m\u001b[43m,\u001b[49m\u001b[43m \u001b[49m\u001b[43mparams\u001b[49m\u001b[43m,\u001b[49m\u001b[43m \u001b[49m\u001b[43mallow_clear_pool\u001b[49m\u001b[43m,\u001b[49m\u001b[43m \u001b[49m\u001b[43minit_model\u001b[49m\u001b[38;5;241;43m.\u001b[39;49m\u001b[43m_object\u001b[49m\u001b[43m \u001b[49m\u001b[38;5;28;43;01mif\u001b[39;49;00m\u001b[43m \u001b[49m\u001b[43minit_model\u001b[49m\u001b[43m \u001b[49m\u001b[38;5;28;43;01melse\u001b[39;49;00m\u001b[43m \u001b[49m\u001b[38;5;28;43;01mNone\u001b[39;49;00m\u001b[43m)\u001b[49m\n\u001b[1;32m   1791\u001b[0m     \u001b[38;5;28mself\u001b[39m\u001b[38;5;241m.\u001b[39m_set_trained_model_attributes()\n",
      "File \u001b[0;32m_catboost.pyx:5017\u001b[0m, in \u001b[0;36m_catboost._CatBoost._train\u001b[0;34m()\u001b[0m\n",
      "File \u001b[0;32m_catboost.pyx:5066\u001b[0m, in \u001b[0;36m_catboost._CatBoost._train\u001b[0;34m()\u001b[0m\n",
      "\u001b[0;31mCatBoostError\u001b[0m: catboost/libs/metrics/metric.cpp:6930: All train targets are equal"
     ]
    }
   ],
   "source": [
    "model.fit(\n",
    "    train_data=train_data,\n",
    "    cat_features=cat_cols,\n",
    "    drop_cols=drop_cols,\n",
    "    label_col=labels,\n",
    "    verbose=350,\n",
    ")"
   ]
  },
  {
   "cell_type": "code",
   "execution_count": 16,
   "id": "5f692ae6-23ef-4e97-9304-662a87ccac74",
   "metadata": {
    "tags": []
   },
   "outputs": [
    {
     "data": {
      "text/html": [
       "<div>\n",
       "<style scoped>\n",
       "    .dataframe tbody tr th:only-of-type {\n",
       "        vertical-align: middle;\n",
       "    }\n",
       "\n",
       "    .dataframe tbody tr th {\n",
       "        vertical-align: top;\n",
       "    }\n",
       "\n",
       "    .dataframe thead th {\n",
       "        text-align: right;\n",
       "    }\n",
       "</style>\n",
       "<table border=\"1\" class=\"dataframe\">\n",
       "  <thead>\n",
       "    <tr style=\"text-align: right;\">\n",
       "      <th></th>\n",
       "      <th>Importances</th>\n",
       "    </tr>\n",
       "    <tr>\n",
       "      <th>Feature Id</th>\n",
       "      <th></th>\n",
       "    </tr>\n",
       "  </thead>\n",
       "  <tbody>\n",
       "    <tr>\n",
       "      <th>preds_0</th>\n",
       "      <td>6.809859</td>\n",
       "    </tr>\n",
       "    <tr>\n",
       "      <th>preds_2</th>\n",
       "      <td>5.542084</td>\n",
       "    </tr>\n",
       "    <tr>\n",
       "      <th>preds_27</th>\n",
       "      <td>5.302952</td>\n",
       "    </tr>\n",
       "    <tr>\n",
       "      <th>preds_12</th>\n",
       "      <td>4.833376</td>\n",
       "    </tr>\n",
       "    <tr>\n",
       "      <th>preds_19</th>\n",
       "      <td>4.071223</td>\n",
       "    </tr>\n",
       "    <tr>\n",
       "      <th>preds_18</th>\n",
       "      <td>3.672766</td>\n",
       "    </tr>\n",
       "    <tr>\n",
       "      <th>preds_28</th>\n",
       "      <td>3.606547</td>\n",
       "    </tr>\n",
       "    <tr>\n",
       "      <th>preds_3</th>\n",
       "      <td>3.570526</td>\n",
       "    </tr>\n",
       "    <tr>\n",
       "      <th>preds_1</th>\n",
       "      <td>3.450128</td>\n",
       "    </tr>\n",
       "    <tr>\n",
       "      <th>preds_30</th>\n",
       "      <td>3.018386</td>\n",
       "    </tr>\n",
       "    <tr>\n",
       "      <th>preds_16</th>\n",
       "      <td>2.873645</td>\n",
       "    </tr>\n",
       "    <tr>\n",
       "      <th>preds_36</th>\n",
       "      <td>2.117118</td>\n",
       "    </tr>\n",
       "    <tr>\n",
       "      <th>index</th>\n",
       "      <td>1.995391</td>\n",
       "    </tr>\n",
       "    <tr>\n",
       "      <th>preds_8</th>\n",
       "      <td>1.945143</td>\n",
       "    </tr>\n",
       "    <tr>\n",
       "      <th>length</th>\n",
       "      <td>1.562756</td>\n",
       "    </tr>\n",
       "    <tr>\n",
       "      <th>preds_4</th>\n",
       "      <td>1.536139</td>\n",
       "    </tr>\n",
       "    <tr>\n",
       "      <th>preds_21</th>\n",
       "      <td>1.517465</td>\n",
       "    </tr>\n",
       "    <tr>\n",
       "      <th>preds_14</th>\n",
       "      <td>1.503499</td>\n",
       "    </tr>\n",
       "    <tr>\n",
       "      <th>preds_7</th>\n",
       "      <td>1.444368</td>\n",
       "    </tr>\n",
       "    <tr>\n",
       "      <th>preds_11</th>\n",
       "      <td>1.412187</td>\n",
       "    </tr>\n",
       "  </tbody>\n",
       "</table>\n",
       "</div>"
      ],
      "text/plain": [
       "            Importances\n",
       "Feature Id             \n",
       "preds_0        6.809859\n",
       "preds_2        5.542084\n",
       "preds_27       5.302952\n",
       "preds_12       4.833376\n",
       "preds_19       4.071223\n",
       "preds_18       3.672766\n",
       "preds_28       3.606547\n",
       "preds_3        3.570526\n",
       "preds_1        3.450128\n",
       "preds_30       3.018386\n",
       "preds_16       2.873645\n",
       "preds_36       2.117118\n",
       "index          1.995391\n",
       "preds_8        1.945143\n",
       "length         1.562756\n",
       "preds_4        1.536139\n",
       "preds_21       1.517465\n",
       "preds_14       1.503499\n",
       "preds_7        1.444368\n",
       "preds_11       1.412187"
      ]
     },
     "execution_count": 16,
     "metadata": {},
     "output_type": "execute_result"
    }
   ],
   "source": [
    "model.get_feature_importance()[:20]"
   ]
  },
  {
   "cell_type": "code",
   "execution_count": 24,
   "id": "eb171dfd-dfbe-4b71-9a0f-42e5648b5408",
   "metadata": {
    "tags": []
   },
   "outputs": [],
   "source": [
    "mean_state = np.average([\n",
    "    np.load('gemma__test_fold_0.npy'),\n",
    "    np.load('gemma__test_fold_1.npy'),\n",
    "    np.load('gemma__test_fold_2.npy'),\n",
    "    np.load('gemma__test_fold_3.npy'),\n",
    "    np.load('gemma__test_fold_4.npy'),\n",
    "    np.load('IlyaGusev_gemma-2-9b-it-abliterated-test-fold_attnlrnk-0.npy'),\n",
    "    #np.load('IlyaGusev_gemma-2-9b-it-abliterated-test-fold_attnlrnk-0.npy'),\n",
    "    np.load('IlyaGusev_gemma-2-9b-it-abliterated-test-fold-0.npy'),  # last_token_pool\n",
    "    np.load('e5_preds.npy'), np.load('e5_preds.npy'), # mean_pool\n",
    "    np.load('/notebooks/BAAI-bge-multilingual-gemma2-test-fold_attnlrnk-0.npy'), # last_token_pool\n",
    "    np.load('labse_en_ru_preds.npy'),# attn_pool\n",
    "    np.load('IlyaGusev-gemma-2-9b-it-abliterated_mlp_old-0.npy'),\n",
    "    np.load('IlyaGusev-gemma-2-9b-it-abliterated_mlp_old-0.npy'),\n",
    "],axis=0,weights = [\n",
    "    0.5,0.5,0.5,0.5,0.5,\n",
    "    1,1,1,1,1,1,1,1\n",
    "])"
   ]
  },
  {
   "cell_type": "code",
   "execution_count": 33,
   "id": "5ae9b97a-50b6-4c32-865e-b827c1391daa",
   "metadata": {
    "tags": []
   },
   "outputs": [],
   "source": [
    "mean_state_0 = np.mean([\n",
    "    np.load('gemma__test_fold_0.npy'),\n",
    "    np.load('gemma__test_fold_1.npy'),\n",
    "    np.load('gemma__test_fold_2.npy'),\n",
    "    np.load('gemma__test_fold_3.npy'),\n",
    "    np.load('gemma__test_fold_4.npy'),\n",
    "    np.load('IlyaGusev_gemma-2-9b-it-abliterated-test-fold_attnlrnk-0.npy'),\n",
    "    #np.load('IlyaGusev_gemma-2-9b-it-abliterated-test-fold_attnlrnk-0.npy'),\n",
    "    np.load('IlyaGusev_gemma-2-9b-it-abliterated-test-fold-0.npy'),  # last_token_pool\n",
    "    np.load('e5_preds.npy'), np.load('e5_preds.npy'), # mean_pool\n",
    "    np.load('/notebooks/BAAI-bge-multilingual-gemma2-test-fold_attnlrnk-0.npy'), # last_token_pool\n",
    "    np.load('labse_en_ru_preds.npy'),# attn_pool\n",
    "    np.load('IlyaGusev-gemma-2-9b-it-abliterated_mlp_old-0.npy'),\n",
    "    np.load('IlyaGusev-gemma-2-9b-it-abliterated_mlp_old-0.npy'),\n",
    "],axis=0)\n",
    "\n",
    "#mean_state_1 = np.load('IlyaGusev-gemma-2-9b-it-abliterated_mlp_old-0.npy')\n",
    "\n",
    "mean_state = mean_state_0#(mean_state_0 + mean_state_1 * 2) / 3"
   ]
  },
  {
   "cell_type": "code",
   "execution_count": 21,
   "id": "6631da82-3048-4e87-8555-34ab3ddb4d46",
   "metadata": {
    "tags": []
   },
   "outputs": [],
   "source": [
    "for i in range(50):\n",
    "    test_data[f'preds_{i}'] = mean_state[:,i]"
   ]
  },
  {
   "cell_type": "code",
   "execution_count": 44,
   "id": "ca080c22-2a21-4520-8a19-399bb4bb9c2c",
   "metadata": {
    "tags": []
   },
   "outputs": [
    {
     "ename": "NameError",
     "evalue": "name 'model' is not defined",
     "output_type": "error",
     "traceback": [
      "\u001b[0;31m---------------------------------------------------------------------------\u001b[0m",
      "\u001b[0;31mNameError\u001b[0m                                 Traceback (most recent call last)",
      "Cell \u001b[0;32mIn[44], line 1\u001b[0m\n\u001b[0;32m----> 1\u001b[0m preds \u001b[38;5;241m=\u001b[39m \u001b[43mmodel\u001b[49m\u001b[38;5;241m.\u001b[39mpredict(test_data,drop_cols\u001b[38;5;241m=\u001b[39mdrop_cols,cat_features\u001b[38;5;241m=\u001b[39mcat_cols)\n",
      "\u001b[0;31mNameError\u001b[0m: name 'model' is not defined"
     ]
    }
   ],
   "source": [
    "preds = model.predict(test_data,drop_cols=drop_cols,cat_features=cat_cols)"
   ]
  },
  {
   "cell_type": "code",
   "execution_count": 25,
   "id": "9abf1958-23d5-4fe1-9374-1c6ae1049d74",
   "metadata": {
    "tags": []
   },
   "outputs": [],
   "source": [
    "simple_sub = pd.read_csv('sample_submission_formated.csv')"
   ]
  },
  {
   "cell_type": "code",
   "execution_count": 26,
   "id": "408e5398-5a7c-4074-910d-d2a9bfbc8862",
   "metadata": {
    "tags": []
   },
   "outputs": [
    {
     "data": {
      "text/html": [
       "<div>\n",
       "<style scoped>\n",
       "    .dataframe tbody tr th:only-of-type {\n",
       "        vertical-align: middle;\n",
       "    }\n",
       "\n",
       "    .dataframe tbody tr th {\n",
       "        vertical-align: top;\n",
       "    }\n",
       "\n",
       "    .dataframe thead th {\n",
       "        text-align: right;\n",
       "    }\n",
       "</style>\n",
       "<table border=\"1\" class=\"dataframe\">\n",
       "  <thead>\n",
       "    <tr style=\"text-align: right;\">\n",
       "      <th></th>\n",
       "      <th>index</th>\n",
       "      <th>target</th>\n",
       "    </tr>\n",
       "  </thead>\n",
       "  <tbody>\n",
       "    <tr>\n",
       "      <th>0</th>\n",
       "      <td>3135</td>\n",
       "      <td>NaN</td>\n",
       "    </tr>\n",
       "    <tr>\n",
       "      <th>1</th>\n",
       "      <td>4655</td>\n",
       "      <td>12</td>\n",
       "    </tr>\n",
       "    <tr>\n",
       "      <th>2</th>\n",
       "      <td>22118</td>\n",
       "      <td>2</td>\n",
       "    </tr>\n",
       "    <tr>\n",
       "      <th>3</th>\n",
       "      <td>23511</td>\n",
       "      <td>0</td>\n",
       "    </tr>\n",
       "    <tr>\n",
       "      <th>4</th>\n",
       "      <td>45</td>\n",
       "      <td>NaN</td>\n",
       "    </tr>\n",
       "    <tr>\n",
       "      <th>...</th>\n",
       "      <td>...</td>\n",
       "      <td>...</td>\n",
       "    </tr>\n",
       "    <tr>\n",
       "      <th>9010</th>\n",
       "      <td>3523</td>\n",
       "      <td>NaN</td>\n",
       "    </tr>\n",
       "    <tr>\n",
       "      <th>9011</th>\n",
       "      <td>24925</td>\n",
       "      <td>NaN</td>\n",
       "    </tr>\n",
       "    <tr>\n",
       "      <th>9012</th>\n",
       "      <td>6327</td>\n",
       "      <td>NaN</td>\n",
       "    </tr>\n",
       "    <tr>\n",
       "      <th>9013</th>\n",
       "      <td>530</td>\n",
       "      <td>NaN</td>\n",
       "    </tr>\n",
       "    <tr>\n",
       "      <th>9014</th>\n",
       "      <td>20221</td>\n",
       "      <td>NaN</td>\n",
       "    </tr>\n",
       "  </tbody>\n",
       "</table>\n",
       "<p>9015 rows × 2 columns</p>\n",
       "</div>"
      ],
      "text/plain": [
       "      index target\n",
       "0      3135    NaN\n",
       "1      4655     12\n",
       "2     22118      2\n",
       "3     23511      0\n",
       "4        45    NaN\n",
       "...     ...    ...\n",
       "9010   3523    NaN\n",
       "9011  24925    NaN\n",
       "9012   6327    NaN\n",
       "9013    530    NaN\n",
       "9014  20221    NaN\n",
       "\n",
       "[9015 rows x 2 columns]"
      ]
     },
     "execution_count": 26,
     "metadata": {},
     "output_type": "execute_result"
    }
   ],
   "source": [
    "simple_sub"
   ]
  },
  {
   "cell_type": "code",
   "execution_count": 34,
   "id": "880705ed-8d91-4b92-8ad6-c67853a650a4",
   "metadata": {
    "tags": []
   },
   "outputs": [],
   "source": [
    "def prepare_predict(pred):\n",
    "    preds_r = list(map(lambda y: str(round(y)),pred))\n",
    "    preds_r[np.argmax(pred)] = '1'\n",
    "    return ' '.join([str(i) for i,x in enumerate(preds_r) if x == '1'])"
   ]
  },
  {
   "cell_type": "code",
   "execution_count": 35,
   "id": "bcda707b-6f13-4ff3-9aeb-0ffe78a3cac7",
   "metadata": {
    "tags": []
   },
   "outputs": [],
   "source": [
    "simple_sub['target'] = [prepare_predict(x) for x in mean_state]"
   ]
  },
  {
   "cell_type": "code",
   "execution_count": 36,
   "id": "e0396043-b94e-465e-91cb-9557e02d28d2",
   "metadata": {
    "tags": []
   },
   "outputs": [],
   "source": [
    "simple_sub.to_csv('dump_subv22.csv',index=False)"
   ]
  },
  {
   "cell_type": "code",
   "execution_count": 10,
   "id": "eac1de38-aaa1-4c59-af76-929cd80471a3",
   "metadata": {
    "tags": []
   },
   "outputs": [],
   "source": [
    "df_old = pd.read_csv('dump_subv5.csv')"
   ]
  },
  {
   "cell_type": "code",
   "execution_count": 11,
   "id": "9ddb7e4c-f3ea-400e-881d-e8cd21761cf4",
   "metadata": {
    "tags": []
   },
   "outputs": [
    {
     "data": {
      "text/plain": [
       "1016"
      ]
     },
     "execution_count": 11,
     "metadata": {},
     "output_type": "execute_result"
    }
   ],
   "source": [
    "(df_old['target'] != simple_sub['target']).sum()"
   ]
  },
  {
   "cell_type": "code",
   "execution_count": 30,
   "id": "ed861c59-bdd6-4075-9189-d4bfdbe6f005",
   "metadata": {
    "tags": []
   },
   "outputs": [
    {
     "data": {
      "text/html": [
       "<div>\n",
       "<style scoped>\n",
       "    .dataframe tbody tr th:only-of-type {\n",
       "        vertical-align: middle;\n",
       "    }\n",
       "\n",
       "    .dataframe tbody tr th {\n",
       "        vertical-align: top;\n",
       "    }\n",
       "\n",
       "    .dataframe thead th {\n",
       "        text-align: right;\n",
       "    }\n",
       "</style>\n",
       "<table border=\"1\" class=\"dataframe\">\n",
       "  <thead>\n",
       "    <tr style=\"text-align: right;\">\n",
       "      <th></th>\n",
       "      <th>index</th>\n",
       "      <th>target</th>\n",
       "    </tr>\n",
       "  </thead>\n",
       "  <tbody>\n",
       "    <tr>\n",
       "      <th>0</th>\n",
       "      <td>3135</td>\n",
       "      <td>1 2 12</td>\n",
       "    </tr>\n",
       "    <tr>\n",
       "      <th>1</th>\n",
       "      <td>4655</td>\n",
       "      <td>12</td>\n",
       "    </tr>\n",
       "    <tr>\n",
       "      <th>2</th>\n",
       "      <td>22118</td>\n",
       "      <td>35</td>\n",
       "    </tr>\n",
       "    <tr>\n",
       "      <th>3</th>\n",
       "      <td>23511</td>\n",
       "      <td>0</td>\n",
       "    </tr>\n",
       "    <tr>\n",
       "      <th>4</th>\n",
       "      <td>45</td>\n",
       "      <td>16</td>\n",
       "    </tr>\n",
       "    <tr>\n",
       "      <th>...</th>\n",
       "      <td>...</td>\n",
       "      <td>...</td>\n",
       "    </tr>\n",
       "    <tr>\n",
       "      <th>9010</th>\n",
       "      <td>3523</td>\n",
       "      <td>37</td>\n",
       "    </tr>\n",
       "    <tr>\n",
       "      <th>9011</th>\n",
       "      <td>24925</td>\n",
       "      <td>12 28</td>\n",
       "    </tr>\n",
       "    <tr>\n",
       "      <th>9012</th>\n",
       "      <td>6327</td>\n",
       "      <td>8</td>\n",
       "    </tr>\n",
       "    <tr>\n",
       "      <th>9013</th>\n",
       "      <td>530</td>\n",
       "      <td>15</td>\n",
       "    </tr>\n",
       "    <tr>\n",
       "      <th>9014</th>\n",
       "      <td>20221</td>\n",
       "      <td>8</td>\n",
       "    </tr>\n",
       "  </tbody>\n",
       "</table>\n",
       "<p>9015 rows × 2 columns</p>\n",
       "</div>"
      ],
      "text/plain": [
       "      index  target\n",
       "0      3135  1 2 12\n",
       "1      4655      12\n",
       "2     22118      35\n",
       "3     23511       0\n",
       "4        45      16\n",
       "...     ...     ...\n",
       "9010   3523      37\n",
       "9011  24925   12 28\n",
       "9012   6327       8\n",
       "9013    530      15\n",
       "9014  20221       8\n",
       "\n",
       "[9015 rows x 2 columns]"
      ]
     },
     "execution_count": 30,
     "metadata": {},
     "output_type": "execute_result"
    }
   ],
   "source": [
    "simple_sub"
   ]
  },
  {
   "cell_type": "code",
   "execution_count": null,
   "id": "9e2299c9-2936-4611-bca9-12f74ea8eceb",
   "metadata": {},
   "outputs": [],
   "source": []
  }
 ],
 "metadata": {
  "kernelspec": {
   "display_name": "Python 3 (ipykernel)",
   "language": "python",
   "name": "python3"
  },
  "language_info": {
   "codemirror_mode": {
    "name": "ipython",
    "version": 3
   },
   "file_extension": ".py",
   "mimetype": "text/x-python",
   "name": "python",
   "nbconvert_exporter": "python",
   "pygments_lexer": "ipython3",
   "version": "3.11.7"
  }
 },
 "nbformat": 4,
 "nbformat_minor": 5
}
