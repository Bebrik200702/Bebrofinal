{
 "cells": [
  {
   "cell_type": "code",
   "execution_count": 1,
   "id": "faf9a3c2",
   "metadata": {
    "execution": {
     "iopub.execute_input": "2024-07-07T16:54:08.584408Z",
     "iopub.status.busy": "2024-07-07T16:54:08.583986Z",
     "iopub.status.idle": "2024-07-07T16:54:15.839759Z",
     "shell.execute_reply": "2024-07-07T16:54:15.838413Z"
    },
    "papermill": {
     "duration": 7.26369,
     "end_time": "2024-07-07T16:54:15.842898",
     "exception": false,
     "start_time": "2024-07-07T16:54:08.579208",
     "status": "completed"
    },
    "tags": []
   },
   "outputs": [],
   "source": [
    "import pandas as pd\n",
    "import numpy as np\n",
    "from tsfresh.feature_extraction.settings import ComprehensiveFCParameters\n",
    "from tsfresh.feature_extraction import feature_calculators\n",
    "from catboost import CatBoostClassifier, Pool, cv\n",
    "from functools import partial\n",
    "import multiprocessing as mp\n",
    "from sklearn.model_selection import train_test_split, KFold\n",
    "from tqdm.auto import tqdm\n",
    "import librosa"
   ]
  },
  {
   "cell_type": "code",
   "execution_count": 2,
   "id": "a5641b57",
   "metadata": {
    "execution": {
     "iopub.execute_input": "2024-07-07T16:54:15.851245Z",
     "iopub.status.busy": "2024-07-07T16:54:15.850281Z",
     "iopub.status.idle": "2024-07-07T16:54:15.900108Z",
     "shell.execute_reply": "2024-07-07T16:54:15.898528Z"
    },
    "papermill": {
     "duration": 0.057018,
     "end_time": "2024-07-07T16:54:15.902974",
     "exception": false,
     "start_time": "2024-07-07T16:54:15.845956",
     "status": "completed"
    },
    "tags": []
   },
   "outputs": [],
   "source": [
    "train_data = pd.read_csv('/kaggle/input/tinkoff/train_gt.csv',header=None)\n",
    "test_data = pd.read_csv('/kaggle/input/tinkoff/test-10.csv',header=None)\n",
    "train_data.columns = ['path','label']\n",
    "test_data.columns = ['path','label']"
   ]
  },
  {
   "cell_type": "code",
   "execution_count": 3,
   "id": "c31226c2",
   "metadata": {
    "execution": {
     "iopub.execute_input": "2024-07-07T16:54:15.910978Z",
     "iopub.status.busy": "2024-07-07T16:54:15.910564Z",
     "iopub.status.idle": "2024-07-07T16:56:23.258408Z",
     "shell.execute_reply": "2024-07-07T16:56:23.257042Z"
    },
    "papermill": {
     "duration": 127.355081,
     "end_time": "2024-07-07T16:56:23.260995",
     "exception": false,
     "start_time": "2024-07-07T16:54:15.905914",
     "status": "completed"
    },
    "tags": []
   },
   "outputs": [
    {
     "data": {
      "application/vnd.jupyter.widget-view+json": {
       "model_id": "73ecc96d75794b9f849277db17c073a1",
       "version_major": 2,
       "version_minor": 0
      },
      "text/plain": [
       "  0%|          | 0/8803 [00:00<?, ?it/s]"
      ]
     },
     "metadata": {},
     "output_type": "display_data"
    },
    {
     "data": {
      "application/vnd.jupyter.widget-view+json": {
       "model_id": "4c2d8dd43b704378b0acf75a5e1518d3",
       "version_major": 2,
       "version_minor": 0
      },
      "text/plain": [
       "  0%|          | 0/2870 [00:00<?, ?it/s]"
      ]
     },
     "metadata": {},
     "output_type": "display_data"
    }
   ],
   "source": [
    "tqdm.pandas()\n",
    "train_data['array'] = train_data['path'].progress_apply(lambda x: librosa.load(f'/kaggle/input/tinkoff/train-4/train/{x}')[0])\n",
    "test_data['array'] = test_data['path'].progress_apply(lambda x: librosa.load(f'/kaggle/input/tinkoff/test-5/test/{x}')[0])"
   ]
  },
  {
   "cell_type": "code",
   "execution_count": 4,
   "id": "fa9cf1db",
   "metadata": {
    "execution": {
     "iopub.execute_input": "2024-07-07T16:56:23.270079Z",
     "iopub.status.busy": "2024-07-07T16:56:23.269053Z"
    },
    "papermill": {
     "duration": null,
     "end_time": null,
     "exception": false,
     "start_time": "2024-07-07T16:56:23.264594",
     "status": "running"
    },
    "tags": []
   },
   "outputs": [
    {
     "data": {
      "application/vnd.jupyter.widget-view+json": {
       "model_id": "4052b152ecec48c897e0911c5fce9ae8",
       "version_major": 2,
       "version_minor": 0
      },
      "text/plain": [
       "  0%|          | 0/75 [00:00<?, ?it/s]"
      ]
     },
     "metadata": {},
     "output_type": "display_data"
    },
    {
     "name": "stdout",
     "output_type": "stream",
     "text": [
      "Iter\n"
     ]
    },
    {
     "name": "stdout",
     "output_type": "stream",
     "text": [
      "Iter\n"
     ]
    },
    {
     "name": "stdout",
     "output_type": "stream",
     "text": [
      "Iter\n"
     ]
    },
    {
     "name": "stdout",
     "output_type": "stream",
     "text": [
      "Iter\n"
     ]
    },
    {
     "name": "stdout",
     "output_type": "stream",
     "text": [
      "Iter\n"
     ]
    },
    {
     "name": "stdout",
     "output_type": "stream",
     "text": [
      "Iter\n"
     ]
    },
    {
     "name": "stdout",
     "output_type": "stream",
     "text": [
      "Iter\n"
     ]
    },
    {
     "name": "stdout",
     "output_type": "stream",
     "text": [
      "Iter\n"
     ]
    },
    {
     "name": "stdout",
     "output_type": "stream",
     "text": [
      "Iter\n"
     ]
    },
    {
     "name": "stdout",
     "output_type": "stream",
     "text": [
      "Iter\n"
     ]
    },
    {
     "name": "stdout",
     "output_type": "stream",
     "text": [
      "Iter\n"
     ]
    },
    {
     "name": "stdout",
     "output_type": "stream",
     "text": [
      "Iter\n"
     ]
    },
    {
     "name": "stdout",
     "output_type": "stream",
     "text": [
      "Iter\n"
     ]
    },
    {
     "name": "stdout",
     "output_type": "stream",
     "text": [
      "Iter\n"
     ]
    },
    {
     "name": "stdout",
     "output_type": "stream",
     "text": [
      "Iter\n"
     ]
    },
    {
     "name": "stdout",
     "output_type": "stream",
     "text": [
      "Iter\n"
     ]
    },
    {
     "name": "stdout",
     "output_type": "stream",
     "text": [
      "Iter\n"
     ]
    },
    {
     "name": "stdout",
     "output_type": "stream",
     "text": [
      "Iter\n"
     ]
    },
    {
     "name": "stdout",
     "output_type": "stream",
     "text": [
      "Iter\n"
     ]
    },
    {
     "name": "stdout",
     "output_type": "stream",
     "text": [
      "Iter\n"
     ]
    },
    {
     "name": "stdout",
     "output_type": "stream",
     "text": [
      "Iter\n"
     ]
    },
    {
     "name": "stdout",
     "output_type": "stream",
     "text": [
      "Iter\n"
     ]
    },
    {
     "name": "stdout",
     "output_type": "stream",
     "text": [
      "Iter\n"
     ]
    },
    {
     "name": "stdout",
     "output_type": "stream",
     "text": [
      "Iter\n"
     ]
    },
    {
     "name": "stdout",
     "output_type": "stream",
     "text": [
      "Iter\n"
     ]
    },
    {
     "name": "stdout",
     "output_type": "stream",
     "text": [
      "Iter\n"
     ]
    },
    {
     "name": "stdout",
     "output_type": "stream",
     "text": [
      "Iter\n"
     ]
    },
    {
     "name": "stdout",
     "output_type": "stream",
     "text": [
      "Iter\n"
     ]
    },
    {
     "name": "stdout",
     "output_type": "stream",
     "text": [
      "Iter\n"
     ]
    },
    {
     "name": "stdout",
     "output_type": "stream",
     "text": [
      "Iter\n"
     ]
    },
    {
     "name": "stdout",
     "output_type": "stream",
     "text": [
      "Iter\n"
     ]
    }
   ],
   "source": [
    "fc_parameters = ComprehensiveFCParameters()\n",
    "pool = mp.Pool(mp.cpu_count())\n",
    "\n",
    "for f_or_function_name, parameter_list in tqdm(fc_parameters.items()):\n",
    "    func = getattr(feature_calculators, f_or_function_name)\n",
    "    if parameter_list is not None:\n",
    "        for params in parameter_list:\n",
    "            func = partial(func,param=params)\n",
    "            train_data[f'f_or_function_name_{params}'] = pool.map(func,train_data['array'])\n",
    "            test_data[f'f_or_function_name_{params}'] = pool.map(func,test_data['array'])\n",
    "            func = getattr(feature_calculators, f_or_function_name)\n",
    "    else:   \n",
    "        train_data[f_or_function_name] = pool.map(func,train_data['array'])\n",
    "        test_data[f_or_function_name] = pool.map(func,test_data['array'])\n",
    "    print('Iter')\n"
   ]
  },
  {
   "cell_type": "code",
   "execution_count": null,
   "id": "07c291fc",
   "metadata": {
    "papermill": {
     "duration": null,
     "end_time": null,
     "exception": null,
     "start_time": null,
     "status": "pending"
    },
    "tags": []
   },
   "outputs": [],
   "source": [
    "train_data.to_csv('train_data.csv',index=False)\n",
    "test_data.to_csv('test_data.csv',index=False)"
   ]
  }
 ],
 "metadata": {
  "kaggle": {
   "accelerator": "none",
   "dataSources": [
    {
     "datasetId": 5337838,
     "sourceId": 8869468,
     "sourceType": "datasetVersion"
    }
   ],
   "dockerImageVersionId": 30732,
   "isGpuEnabled": false,
   "isInternetEnabled": true,
   "language": "python",
   "sourceType": "notebook"
  },
  "kernelspec": {
   "display_name": "Python 3",
   "language": "python",
   "name": "python3"
  },
  "language_info": {
   "codemirror_mode": {
    "name": "ipython",
    "version": 3
   },
   "file_extension": ".py",
   "mimetype": "text/x-python",
   "name": "python",
   "nbconvert_exporter": "python",
   "pygments_lexer": "ipython3",
   "version": "3.10.13"
  },
  "papermill": {
   "default_parameters": {},
   "duration": null,
   "end_time": null,
   "environment_variables": {},
   "exception": null,
   "input_path": "__notebook__.ipynb",
   "output_path": "__notebook__.ipynb",
   "parameters": {},
   "start_time": "2024-07-07T16:54:05.153259",
   "version": "2.5.0"
  }
 },
 "nbformat": 4,
 "nbformat_minor": 5
}