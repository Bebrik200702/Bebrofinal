{
 "cells": [
  {
   "cell_type": "code",
   "execution_count": 1,
   "id": "93b3a198-5fb3-4c5e-b4e3-daa7184834c7",
   "metadata": {
    "tags": []
   },
   "outputs": [],
   "source": [
    "import numpy as np\n",
    "import pandas as pd\n",
    "import polars as pl\n",
    "from catboost import CatBoostClassifier, Pool, cv\n",
    "import lightgbm as lgb\n",
    "import xgboost as xgb\n",
    "from imblearn.under_sampling import RandomUnderSampler\n",
    "from sklearn.metrics import roc_auc_score, roc_curve, auc\n",
    "from functools import partial \n",
    "from sklearn.base import BaseEstimator\n",
    "from tqdm.auto import trange\n",
    "from sklearn.model_selection import train_test_split, StratifiedKFold, StratifiedGroupKFold"
   ]
  },
  {
   "cell_type": "code",
   "execution_count": 2,
   "id": "318f65c3-681e-47ba-ac80-c7b4a5987a52",
   "metadata": {
    "tags": []
   },
   "outputs": [],
   "source": [
    "train_data = pl.read_csv('./isic-2024-challenge/train-metadata.csv')"
   ]
  },
  {
   "cell_type": "code",
   "execution_count": 3,
   "id": "b5fd6320-1ef9-4b82-ace8-f39840260ddb",
   "metadata": {
    "tags": []
   },
   "outputs": [],
   "source": [
    "def process_data(data):\n",
    "    return (\n",
    "        data\n",
    "        .with_columns(\n",
    "                pl.col('age_approx').cast(pl.String).replace('NA', np.nan).cast(pl.Float64),\n",
    "            )\n",
    "        .with_columns(\n",
    "                lesion_size_ratio              = pl.col('tbp_lv_minorAxisMM') / pl.col('clin_size_long_diam_mm'),\n",
    "                lesion_shape_index             = pl.col('tbp_lv_areaMM2') / (pl.col('tbp_lv_perimeterMM') ** 2),\n",
    "                hue_contrast                   = (pl.col('tbp_lv_H') - pl.col('tbp_lv_Hext')).abs(),\n",
    "                luminance_contrast             = (pl.col('tbp_lv_L') - pl.col('tbp_lv_Lext')).abs(),\n",
    "                lesion_color_difference        = (pl.col('tbp_lv_deltaA') ** 2 + pl.col('tbp_lv_deltaB') ** 2 + pl.col('tbp_lv_deltaL') ** 2).sqrt(),\n",
    "                border_complexity              = pl.col('tbp_lv_norm_border') + pl.col('tbp_lv_symm_2axis'),\n",
    "                color_uniformity               = pl.col('tbp_lv_color_std_mean') / (pl.col('tbp_lv_radial_color_std_max') + 1e-6),\n",
    "            )\n",
    "        .with_columns(\n",
    "                position_distance_3d           = (pl.col('tbp_lv_x') ** 2 + pl.col('tbp_lv_y') ** 2 + pl.col('tbp_lv_z') ** 2).sqrt(),\n",
    "                perimeter_to_area_ratio        = pl.col('tbp_lv_perimeterMM') / pl.col('tbp_lv_areaMM2'),\n",
    "                area_to_perimeter_ratio        = pl.col('tbp_lv_areaMM2') / pl.col('tbp_lv_perimeterMM'),\n",
    "                lesion_visibility_score        = pl.col('tbp_lv_deltaLBnorm') + pl.col('tbp_lv_norm_color'),\n",
    "                combined_anatomical_site       = pl.col('anatom_site_general') + '_' + pl.col('tbp_lv_location'),\n",
    "                symmetry_border_consistency    = pl.col('tbp_lv_symm_2axis') * pl.col('tbp_lv_norm_border'),\n",
    "                consistency_symmetry_border    = pl.col('tbp_lv_symm_2axis') * pl.col('tbp_lv_norm_border') / (pl.col('tbp_lv_symm_2axis') + pl.col('tbp_lv_norm_border')),\n",
    "            )\n",
    "        .with_columns(\n",
    "                color_consistency              = pl.col('tbp_lv_stdL') / pl.col('tbp_lv_Lext'),\n",
    "                consistency_color              = pl.col('tbp_lv_stdL') * pl.col('tbp_lv_Lext') / (pl.col('tbp_lv_stdL') + pl.col('tbp_lv_Lext')),\n",
    "                size_age_interaction           = pl.col('clin_size_long_diam_mm') * pl.col('age_approx'),\n",
    "                hue_color_std_interaction      = pl.col('tbp_lv_H') * pl.col('tbp_lv_color_std_mean'),\n",
    "                lesion_severity_index          = (pl.col('tbp_lv_norm_border') + pl.col('tbp_lv_norm_color') + pl.col('tbp_lv_eccentricity')) / 3,\n",
    "                shape_complexity_index         = pl.col('border_complexity') + pl.col('lesion_shape_index'),\n",
    "                color_contrast_index           = pl.col('tbp_lv_deltaA') + pl.col('tbp_lv_deltaB') + pl.col('tbp_lv_deltaL') + pl.col('tbp_lv_deltaLBnorm'),\n",
    "            )\n",
    "        .with_columns(\n",
    "                log_lesion_area                = (pl.col('tbp_lv_areaMM2') + 1).log(),\n",
    "                normalized_lesion_size         = pl.col('clin_size_long_diam_mm') / pl.col('age_approx'),\n",
    "                mean_hue_difference            = (pl.col('tbp_lv_H') + pl.col('tbp_lv_Hext')) / 2,\n",
    "                std_dev_contrast               = ((pl.col('tbp_lv_deltaA') ** 2 + pl.col('tbp_lv_deltaB') ** 2 + pl.col('tbp_lv_deltaL') ** 2) / 3).sqrt(),\n",
    "                color_shape_composite_index    = (pl.col('tbp_lv_color_std_mean') + pl.col('tbp_lv_area_perim_ratio') + pl.col('tbp_lv_symm_2axis')) / 3,\n",
    "                lesion_orientation_3d          = pl.arctan2(pl.col('tbp_lv_y'), pl.col('tbp_lv_x')),\n",
    "                overall_color_difference       = (pl.col('tbp_lv_deltaA') + pl.col('tbp_lv_deltaB') + pl.col('tbp_lv_deltaL')) / 3,\n",
    "            )\n",
    "        .with_columns(\n",
    "                symmetry_perimeter_interaction = pl.col('tbp_lv_symm_2axis') * pl.col('tbp_lv_perimeterMM'),\n",
    "                comprehensive_lesion_index     = (pl.col('tbp_lv_area_perim_ratio') + pl.col('tbp_lv_eccentricity') + pl.col('tbp_lv_norm_color') + pl.col('tbp_lv_symm_2axis')) / 4,\n",
    "                color_variance_ratio           = pl.col('tbp_lv_color_std_mean') / pl.col('tbp_lv_stdLExt'),\n",
    "                border_color_interaction       = pl.col('tbp_lv_norm_border') * pl.col('tbp_lv_norm_color'),\n",
    "                border_color_interaction_2     = pl.col('tbp_lv_norm_border') * pl.col('tbp_lv_norm_color') / (pl.col('tbp_lv_norm_border') + pl.col('tbp_lv_norm_color')),\n",
    "                size_color_contrast_ratio      = pl.col('clin_size_long_diam_mm') / pl.col('tbp_lv_deltaLBnorm'),\n",
    "                age_normalized_nevi_confidence = pl.col('tbp_lv_nevi_confidence') / pl.col('age_approx'),\n",
    "                age_normalized_nevi_confidence_2 = (pl.col('clin_size_long_diam_mm')**2 + pl.col('age_approx')**2).sqrt(),\n",
    "                color_asymmetry_index          = pl.col('tbp_lv_radial_color_std_max') * pl.col('tbp_lv_symm_2axis'),\n",
    "            )\n",
    "        .with_columns(\n",
    "                volume_approximation_3d        = pl.col('tbp_lv_areaMM2') * (pl.col('tbp_lv_x')**2 + pl.col('tbp_lv_y')**2 + pl.col('tbp_lv_z')**2).sqrt(),\n",
    "                color_range                    = (pl.col('tbp_lv_L') - pl.col('tbp_lv_Lext')).abs() + (pl.col('tbp_lv_A') - pl.col('tbp_lv_Aext')).abs() + (pl.col('tbp_lv_B') - pl.col('tbp_lv_Bext')).abs(),\n",
    "                shape_color_consistency        = pl.col('tbp_lv_eccentricity') * pl.col('tbp_lv_color_std_mean'),\n",
    "                border_length_ratio            = pl.col('tbp_lv_perimeterMM') / (2 * np.pi * (pl.col('tbp_lv_areaMM2') / np.pi).sqrt()),\n",
    "                age_size_symmetry_index        = pl.col('age_approx') * pl.col('clin_size_long_diam_mm') * pl.col('tbp_lv_symm_2axis'),\n",
    "                index_age_size_symmetry        = pl.col('age_approx') * pl.col('tbp_lv_areaMM2') * pl.col('tbp_lv_symm_2axis'),\n",
    "            )\n",
    "        .with_columns(\n",
    "                count_per_patient = pl.col('isic_id').count().over('patient_id'),\n",
    "            )\n",
    "        .to_pandas()\n",
    "    )"
   ]
  },
  {
   "cell_type": "code",
   "execution_count": 4,
   "id": "0ddd79a1-9bc2-400a-8358-1316d6901d90",
   "metadata": {
    "tags": []
   },
   "outputs": [],
   "source": [
    "train_data = process_data(train_data)"
   ]
  },
  {
   "cell_type": "code",
   "execution_count": 5,
   "id": "1601d61a-e54c-40c6-8cc7-f4a77aa04edb",
   "metadata": {
    "tags": []
   },
   "outputs": [],
   "source": [
    "def p_auc_tpr(v_gt, v_pred, min_tpr=None, sample_weight=None):\n",
    "    \"\"\"Computes the area under the AUC above a minumum TPR.\n",
    "\n",
    "    Args:\n",
    "        v_gt: ground truth vector (1s and 0s)\n",
    "        v_p: predictions vector of scores ranging [0, 1]\n",
    "        min_tpr: minimum true positive threshold (sensitivity)\n",
    "\n",
    "    Returns:\n",
    "        Float value range [0, 1]\n",
    "    \"\"\"\n",
    "    if len(np.unique(v_gt)) != 2:\n",
    "        raise ValueError(\n",
    "            \"Only one class present in y_true. ROC AUC score \"\n",
    "            \"is not defined in that case.\"\n",
    "        )\n",
    "    \n",
    "    # redefine the target. set 0s to 1s and 1s to 0s\n",
    "    v_gt = abs(np.asarray(v_gt)-1)\n",
    "    v_pred = abs(np.asarray(v_pred)-1)\n",
    "    max_fpr = abs(1-min_tpr)\n",
    "    \n",
    "    # using sklearn.metric functions: (1) roc_curve and (2) auc\n",
    "    fpr, tpr, _ = roc_curve(v_gt, v_pred, sample_weight=sample_weight)\n",
    "    if max_fpr is None or max_fpr == 1:\n",
    "        return auc(fpr, tpr)\n",
    "    if max_fpr <= 0 or max_fpr > 1:\n",
    "        raise ValueError(\"Expected min_tpr in range [0, 1), got: %r\" % min_tpr)\n",
    "\n",
    "    # Add a single point at max_fpr by linear interpolation\n",
    "    stop = np.searchsorted(fpr, max_fpr, \"right\")\n",
    "    x_interp = [fpr[stop - 1], fpr[stop]]\n",
    "    y_interp = [tpr[stop - 1], tpr[stop]]\n",
    "    tpr = np.append(tpr[:stop], np.interp(max_fpr, x_interp, y_interp))\n",
    "    fpr = np.append(fpr[:stop], max_fpr)\n",
    "    partial_auc = auc(fpr, tpr)\n",
    "    return(partial_auc)"
   ]
  },
  {
   "cell_type": "code",
   "execution_count": 6,
   "id": "d63ef618-5996-4098-bc84-6c1e464c8c89",
   "metadata": {
    "tags": []
   },
   "outputs": [],
   "source": [
    "def lgb_custom_metric(preds, dataset):\n",
    "    y_true = dataset.get_label()\n",
    "    return 'prauc', p_auc_tpr(y_true, preds,min_tpr=0.80), True\n",
    "\n",
    "def xgb_custom_metric(y_true, y_pred,*args, **kwargs):\n",
    "    return p_auc_tpr(y_true, y_pred, min_tpr=0.80)\n",
    "\n",
    "\n",
    "class PRAUCMetric:\n",
    "    def is_max_optimal(self):\n",
    "        return True # greater is better\n",
    "\n",
    "    def evaluate(self, approxes, target, weight):\n",
    "        assert len(approxes) == 1\n",
    "        assert len(target) == len(approxes[0])\n",
    "\n",
    "        approx = approxes[0]\n",
    "\n",
    "        y_pred = approx #np.rint(approx)\n",
    "        y_true = np.array(target).astype(int)\n",
    "\n",
    "        output_weight = 1 # weight is not used\n",
    "\n",
    "        score = p_auc_tpr(y_true, y_pred,min_tpr=0.80)\n",
    " \n",
    "        return score, output_weight\n",
    "\n",
    "    def get_final_error(self, error, weight):\n",
    "        return error\n"
   ]
  },
  {
   "cell_type": "code",
   "execution_count": 7,
   "id": "e26bc28a-9c7f-4386-bb08-3655375e1d4d",
   "metadata": {
    "tags": []
   },
   "outputs": [],
   "source": [
    "\n",
    "\n",
    "new_cols = [\n",
    "    'lesion_size_ratio',             # tbp_lv_minorAxisMM      / clin_size_long_diam_mm\n",
    "    'lesion_shape_index',            # tbp_lv_areaMM2          / tbp_lv_perimeterMM **2\n",
    "    'hue_contrast',                  # tbp_lv_H                - tbp_lv_Hext              abs\n",
    "    'luminance_contrast',            # tbp_lv_L                - tbp_lv_Lext              abs\n",
    "    'lesion_color_difference',       # tbp_lv_deltaA **2       + tbp_lv_deltaB **2 + tbp_lv_deltaL **2  sqrt  \n",
    "    'border_complexity',             # tbp_lv_norm_border      + tbp_lv_symm_2axis\n",
    "    'color_uniformity',              # tbp_lv_color_std_mean   / tbp_lv_radial_color_std_max\n",
    "\n",
    "    'position_distance_3d',          # tbp_lv_x **2 + tbp_lv_y **2 + tbp_lv_z **2  sqrt\n",
    "    'perimeter_to_area_ratio',       # tbp_lv_perimeterMM      / tbp_lv_areaMM2\n",
    "    'area_to_perimeter_ratio',       # tbp_lv_areaMM2          / tbp_lv_perimeterMM\n",
    "    'lesion_visibility_score',       # tbp_lv_deltaLBnorm      + tbp_lv_norm_color\n",
    "    'symmetry_border_consistency',   # tbp_lv_symm_2axis       * tbp_lv_norm_border\n",
    "    'consistency_symmetry_border',   # tbp_lv_symm_2axis       * tbp_lv_norm_border / (tbp_lv_symm_2axis + tbp_lv_norm_border)\n",
    "\n",
    "    'color_consistency',             # tbp_lv_stdL             / tbp_lv_Lext\n",
    "    'consistency_color',             # tbp_lv_stdL*tbp_lv_Lext / tbp_lv_stdL + tbp_lv_Lext\n",
    "    'size_age_interaction',          # clin_size_long_diam_mm  * age_approx\n",
    "    'hue_color_std_interaction',     # tbp_lv_H                * tbp_lv_color_std_mean\n",
    "    'lesion_severity_index',         # tbp_lv_norm_border      + tbp_lv_norm_color + tbp_lv_eccentricity / 3\n",
    "    'shape_complexity_index',        # border_complexity       + lesion_shape_index\n",
    "    'color_contrast_index',          # tbp_lv_deltaA + tbp_lv_deltaB + tbp_lv_deltaL + tbp_lv_deltaLBnorm\n",
    "\n",
    "    'log_lesion_area',               # tbp_lv_areaMM2          + 1  np.log\n",
    "    'normalized_lesion_size',        # clin_size_long_diam_mm  / age_approx\n",
    "    'mean_hue_difference',           # tbp_lv_H                + tbp_lv_Hext    / 2\n",
    "    'std_dev_contrast',              # tbp_lv_deltaA **2 + tbp_lv_deltaB **2 + tbp_lv_deltaL **2   / 3  np.sqrt\n",
    "    'color_shape_composite_index',   # tbp_lv_color_std_mean   + bp_lv_area_perim_ratio + tbp_lv_symm_2axis   / 3\n",
    "    'lesion_orientation_3d',         # tbp_lv_y                , tbp_lv_x  np.arctan2\n",
    "    'overall_color_difference',      # tbp_lv_deltaA           + tbp_lv_deltaB + tbp_lv_deltaL   / 3\n",
    "\n",
    "    'symmetry_perimeter_interaction',# tbp_lv_symm_2axis       * tbp_lv_perimeterMM\n",
    "    'comprehensive_lesion_index',    # tbp_lv_area_perim_ratio + tbp_lv_eccentricity + bp_lv_norm_color + tbp_lv_symm_2axis   / 4\n",
    "    'color_variance_ratio',          # tbp_lv_color_std_mean   / tbp_lv_stdLExt\n",
    "    'border_color_interaction',      # tbp_lv_norm_border      * tbp_lv_norm_color\n",
    "    'border_color_interaction_2',\n",
    "    'size_color_contrast_ratio',     # clin_size_long_diam_mm  / tbp_lv_deltaLBnorm\n",
    "    'age_normalized_nevi_confidence',# tbp_lv_nevi_confidence  / age_approx\n",
    "    'age_normalized_nevi_confidence_2',\n",
    "    'color_asymmetry_index',         # tbp_lv_symm_2axis       * tbp_lv_radial_color_std_max\n",
    "\n",
    "    'volume_approximation_3d',       # tbp_lv_areaMM2          * sqrt(tbp_lv_x**2 + tbp_lv_y**2 + tbp_lv_z**2)\n",
    "    'color_range',                   # abs(tbp_lv_L - tbp_lv_Lext) + abs(tbp_lv_A - tbp_lv_Aext) + abs(tbp_lv_B - tbp_lv_Bext)\n",
    "    'shape_color_consistency',       # tbp_lv_eccentricity     * tbp_lv_color_std_mean\n",
    "    'border_length_ratio',           # tbp_lv_perimeterMM      / pi * sqrt(tbp_lv_areaMM2 / pi)\n",
    "    'age_size_symmetry_index',       # age_approx              * clin_size_long_diam_mm * tbp_lv_symm_2axis\n",
    "    'index_age_size_symmetry',       # age_approx              * tbp_lv_areaMM2 * tbp_lv_symm_2axis\n",
    "    'count_per_patient',\n",
    "    'combined_anatomical_site'\n",
    "]\n",
    "\n",
    "cat_cols = ['sex', 'anatom_site_general', 'tbp_tile_type', 'tbp_lv_location', 'tbp_lv_location_simple', 'attribution', 'copyright_license','combined_anatomical_site',]\n",
    "drop_cols = [\n",
    "    'isic_id',\n",
    "    'patient_id',\n",
    "    'image_type',\n",
    "    'lesion_id',\n",
    "    'iddx_full',\n",
    "    'iddx_1',\n",
    "    'iddx_2',\n",
    "    'iddx_3',\n",
    "    'iddx_4',\n",
    "    'iddx_5',\n",
    "    'mel_mitotic_index',\n",
    "    'mel_thick_mm', \n",
    "    'tbp_lv_dnn_lesion_confidence',\n",
    "]\n",
    "\n",
    "cb_params = {\n",
    "    'loss_function':     'Logloss',\n",
    "    'iterations':        200,\n",
    "    'verbose':           False,\n",
    "    'random_state':      56,\n",
    "    'max_depth':         7, \n",
    "    'learning_rate':     0.06936242010150652, \n",
    "    'scale_pos_weight':  2.6149345838209532, \n",
    "    'l2_leaf_reg':       6.216113851699493, \n",
    "    'subsample':         0.6249261779711819, \n",
    "    'min_data_in_leaf':  24,\n",
    "    'eval_metric': PRAUCMetric(),\n",
    "    'cat_features':      cat_cols,\n",
    "}\n",
    "\n",
    "lgb_params = {\n",
    "    'enable_categorical': True,\n",
    "    'objective':        'binary',\n",
    "    'verbosity': -1,\n",
    "    'n_iter': 200,\n",
    "    'boosting_type': 'gbdt',\n",
    "    'random_state': 56,\n",
    "    'lambda_l1': 0.08758718919397321, \n",
    "    'lambda_l2': 0.0039689175176025465, \n",
    "    'learning_rate': 0.03231007103195577, \n",
    "    'max_depth': 4, \n",
    "    'num_leaves': 103, \n",
    "    'colsample_bytree': 0.8329551585827726, \n",
    "    'colsample_bynode': 0.4025961355653304, \n",
    "    'bagging_fraction': 0.7738954452473223, \n",
    "    'bagging_freq': 4, \n",
    "    'min_data_in_leaf': 85, \n",
    "    'scale_pos_weight': 2.7984184778875543,\n",
    "}\n",
    "\n",
    "xgb_params = {\n",
    "    'enable_categorical': True,\n",
    "    #'verbose':50,\n",
    "    'objective':'binary:logistic',\n",
    "    'tree_method': 'hist',\n",
    "    #'num_iterations': 400,\n",
    "    'random_state': 56,\n",
    "    'learning_rate': 0.08501257473292347, \n",
    "    'lambda': 8.879624125465703, \n",
    "    'alpha': 0.6779926606782505, \n",
    "    'eval_metric': xgb_custom_metric,\n",
    "    'max_depth': 6,\n",
    "    'subsample': 0.6012681388711075, \n",
    "    'colsample_bytree': 0.8437772277074493, \n",
    "    'colsample_bylevel': 0.5476090898823716, \n",
    "    'colsample_bynode': 0.9928601203635129, \n",
    "    'scale_pos_weight': 3.29440313334688,\n",
    "}\n",
    "\n",
    "params = {\n",
    "    'cb_params':cb_params,\n",
    "    'lgb_params':lgb_params,\n",
    "    'xgb_params':xgb_params,\n",
    "    'weights': [1,1,1],\n",
    "    'early_stopping_rounds':50\n",
    "}\n",
    "\n",
    "label_col = 'target'\n",
    "n_folds = 5\n",
    "n_repits = 1"
   ]
  },
  {
   "cell_type": "code",
   "execution_count": 8,
   "id": "0a3d579f-73e5-470a-b89d-66c3cce03950",
   "metadata": {
    "tags": []
   },
   "outputs": [],
   "source": [
    "train_data[cat_cols] = train_data[cat_cols].astype('category')"
   ]
  },
  {
   "cell_type": "code",
   "execution_count": 9,
   "id": "eef14600-1478-4eb8-9c33-4484d0ef9576",
   "metadata": {
    "tags": []
   },
   "outputs": [],
   "source": [
    "class CustomModelsWrapper(BaseEstimator):\n",
    "    def __init__(self,cb_params,xgb_params,lgb_params,weights=[1,1,1],early_stopping_rounds=100):\n",
    "        self.cb_params = cb_params\n",
    "        self.xgb_params = xgb_params\n",
    "        self.lgb_params = lgb_params\n",
    "        self.early_stopping_rounds = early_stopping_rounds\n",
    "        self.weights = weights\n",
    "    \n",
    "    def fit(self,X,y,X_val,y_val,cat_features=None,verbose=-1):\n",
    "        rus = RandomUnderSampler(sampling_strategy=0.01, random_state=42)\n",
    "        X, y = rus.fit_resample(X, y)\n",
    "        train_pool = Pool(X,label=y,cat_features=cat_features)\n",
    "        eval_pool = Pool(X_val,label=y_val,cat_features=cat_features)\n",
    "        self.cbm = CatBoostClassifier(**self.cb_params)\n",
    "        self.cbm.fit(train_pool,eval_set=eval_pool,verbose=verbose)\n",
    "        \n",
    "        train_ds = lgb.Dataset(X,label=y,categorical_feature=cat_features)\n",
    "        val_ds = lgb.Dataset(X_val,label=y_val,categorical_feature=cat_features)\n",
    "        self.lgm = lgb.train(\n",
    "            self.lgb_params,\n",
    "            train_ds,\n",
    "            valid_sets=[val_ds],\n",
    "            feval=lgb_custom_metric,\n",
    "            callbacks=[\n",
    "                #lgb.early_stopping(self.early_stopping_rounds),\n",
    "                lgb.log_evaluation(verbose)\n",
    "            ]\n",
    "        )\n",
    "        \n",
    "        #train_ds = xgb.DMatrix(X,label=y,enable_categorical=True)\n",
    "        #val_ds = xgb.DMatrix(X_val,label=y_val,enable_categorical=True)\n",
    "        self.xgm = xgb.XGBClassifier(**self.xgb_params).fit(X=X,y=y,eval_set=[(X_val,y_val)],verbose=False)\n",
    "        \n",
    "        pred_cb = self.cbm.predict_proba(eval_pool)[:,1]\n",
    "        pred_lg = self.lgm.predict(X_val)\n",
    "        pred_xg = self.xgm.predict_proba(X_val)[:,1]\n",
    "        return (pred_cb * self.weights[0] + pred_lg * self.weights[1] + pred_xg * self.weights[2]) / sum(self.weights)\n",
    "    \n",
    "    def predict_proba(self, X,cat_features=None):\n",
    "        test_pool = Pool(X,cat_features=cat_features)\n",
    "        \n",
    "        pred_cb = self.cbm.predict_proba(eval_pool)[:,1]\n",
    "        pred_lg = self.lgm.predict_proba(X)[:,1]\n",
    "        pred_xg = self.xgm.predict_proba(X)[:,1]\n",
    "        \n",
    "        return (pred_cb * self.weights[0] + pred_lg * self.weights[1] + pred_xg * self.weights[2]) / sum(self.weights)\n",
    "    "
   ]
  },
  {
   "cell_type": "code",
   "execution_count": 10,
   "id": "c455f407-b056-450c-8243-1829eef85b68",
   "metadata": {
    "tags": []
   },
   "outputs": [],
   "source": [
    "class CustomKfoldWraper(BaseEstimator):\n",
    "    def __init__(self,num_folds,num_repits,params,random_state=56,score_func=p_auc_tpr):\n",
    "        self.models = []\n",
    "        self.params = params\n",
    "        self.random_state = random_state\n",
    "        self.num_folds = num_folds\n",
    "        self.num_repits = num_repits\n",
    "        self.score_func = score_func\n",
    "        \n",
    "    def fit(self,train_data,cat_features=None,drop_cols=None,label_col=None,verbose=False):\n",
    "        self.scores = []\n",
    "        \n",
    "        for i in trange(self.num_repits):\n",
    "            kfold = StratifiedGroupKFold(self.num_folds,random_state=self.random_state+i,shuffle=True)\n",
    "            for train_index, test_index in (kfold.split(train_data,train_data[label_col],train_data['patient_id'])):\n",
    "                train_df = train_data.iloc[train_index]\n",
    "                test_df = train_data.iloc[test_index]\n",
    "                \n",
    "                model = CustomModelsWrapper(**self.params)\n",
    "                preds = model.fit(\n",
    "                    X = train_df.drop([label_col]+drop_cols,axis=1),\n",
    "                    y = train_df[label_col],\n",
    "                    X_val = test_df.drop([label_col]+drop_cols,axis=1),\n",
    "                    y_val = test_df[label_col],\n",
    "                    cat_features = [x for x in cat_features if x in train_df.drop(drop_cols,axis=1).columns.tolist()],\n",
    "                    verbose=verbose\n",
    "                )\n",
    "\n",
    "                score = self.score_func(test_df[label_col], preds)\n",
    "                self.scores += [score]\n",
    "                self.models += [model]\n",
    "                \n",
    "        print(f\"Total Score {np.mean(self.scores)}\")\n",
    "            \n",
    "    def predict(self,test_data,drop_cols=None,cat_features=None):\n",
    "        test_df = test_df.drop(drop_cols,axis=1)\n",
    "        preds = np.mean([model.predict_proba(test_df,cat_features=cat_features)[:,1] for model in self.models],axis=0)\n",
    "        return preds"
   ]
  },
  {
   "cell_type": "code",
   "execution_count": 11,
   "id": "3f1b1d97-988f-4788-a453-1f501353fbd8",
   "metadata": {
    "tags": []
   },
   "outputs": [],
   "source": [
    "model = CustomKfoldWraper(\n",
    "    num_folds=n_folds,\n",
    "    num_repits=n_repits,\n",
    "    params=params,\n",
    "    random_state=5656,\n",
    "    score_func=partial(p_auc_tpr,min_tpr=0.80)\n",
    ")"
   ]
  },
  {
   "cell_type": "code",
   "execution_count": null,
   "id": "e73f9c59-050b-447e-b1dc-a54b069ba782",
   "metadata": {
    "tags": []
   },
   "outputs": [
    {
     "data": {
      "application/vnd.jupyter.widget-view+json": {
       "model_id": "87751fca75784c72be92bada83a1aee1",
       "version_major": 2,
       "version_minor": 0
      },
      "text/plain": [
       "  0%|          | 0/1 [00:00<?, ?it/s]"
      ]
     },
     "metadata": {},
     "output_type": "display_data"
    },
    {
     "name": "stderr",
     "output_type": "stream",
     "text": [
      "/usr/local/lib/python3.11/dist-packages/catboost/core.py:2311: UserWarning: Failed to import numba for optimizing custom metrics and objectives\n",
      "  _check_train_params(params)\n"
     ]
    },
    {
     "name": "stdout",
     "output_type": "stream",
     "text": [
      "0:\tlearn: 0.0572392\ttest: 0.0706576\tbest: 0.0706576 (0)\ttotal: 102ms\tremaining: 20.3s\n",
      "199:\tlearn: 0.1956865\ttest: 0.1550211\tbest: 0.1559761 (86)\ttotal: 10.4s\tremaining: 0us\n",
      "\n",
      "bestTest = 0.1559760602\n",
      "bestIteration = 86\n",
      "\n",
      "Shrink model to first 87 iterations.\n"
     ]
    },
    {
     "name": "stderr",
     "output_type": "stream",
     "text": [
      "/usr/local/lib/python3.11/dist-packages/lightgbm/engine.py:204: UserWarning: Found `n_iter` in params. Will use it instead of argument\n",
      "  _log_warning(f\"Found `{alias}` in params. Will use it instead of argument\")\n",
      "/usr/local/lib/python3.11/dist-packages/catboost/core.py:2311: UserWarning: Failed to import numba for optimizing custom metrics and objectives\n",
      "  _check_train_params(params)\n"
     ]
    },
    {
     "name": "stdout",
     "output_type": "stream",
     "text": [
      "0:\tlearn: 0.0940297\ttest: 0.0691277\tbest: 0.0691277 (0)\ttotal: 57.3ms\tremaining: 11.4s\n",
      "199:\tlearn: 0.1969786\ttest: 0.1551493\tbest: 0.1555788 (181)\ttotal: 11.1s\tremaining: 0us\n",
      "\n",
      "bestTest = 0.1555787663\n",
      "bestIteration = 181\n",
      "\n",
      "Shrink model to first 182 iterations.\n"
     ]
    },
    {
     "name": "stderr",
     "output_type": "stream",
     "text": [
      "/usr/local/lib/python3.11/dist-packages/lightgbm/engine.py:204: UserWarning: Found `n_iter` in params. Will use it instead of argument\n",
      "  _log_warning(f\"Found `{alias}` in params. Will use it instead of argument\")\n",
      "/usr/local/lib/python3.11/dist-packages/catboost/core.py:2311: UserWarning: Failed to import numba for optimizing custom metrics and objectives\n",
      "  _check_train_params(params)\n"
     ]
    },
    {
     "name": "stdout",
     "output_type": "stream",
     "text": [
      "0:\tlearn: 0.1241182\ttest: 0.1146401\tbest: 0.1146401 (0)\ttotal: 45.4ms\tremaining: 9.04s\n",
      "199:\tlearn: 0.1974952\ttest: 0.1686201\tbest: 0.1689609 (196)\ttotal: 9.97s\tremaining: 0us\n",
      "\n",
      "bestTest = 0.1689608508\n",
      "bestIteration = 196\n",
      "\n",
      "Shrink model to first 197 iterations.\n"
     ]
    },
    {
     "name": "stderr",
     "output_type": "stream",
     "text": [
      "/usr/local/lib/python3.11/dist-packages/lightgbm/engine.py:204: UserWarning: Found `n_iter` in params. Will use it instead of argument\n",
      "  _log_warning(f\"Found `{alias}` in params. Will use it instead of argument\")\n",
      "/usr/local/lib/python3.11/dist-packages/catboost/core.py:2311: UserWarning: Failed to import numba for optimizing custom metrics and objectives\n",
      "  _check_train_params(params)\n"
     ]
    },
    {
     "name": "stdout",
     "output_type": "stream",
     "text": [
      "0:\tlearn: 0.0700936\ttest: 0.0781584\tbest: 0.0781584 (0)\ttotal: 37.7ms\tremaining: 7.51s\n"
     ]
    }
   ],
   "source": [
    "model.fit(\n",
    "    train_data=train_data,\n",
    "    cat_features=cat_cols,\n",
    "    drop_cols=drop_cols,\n",
    "    label_col=label_col,\n",
    "    verbose=1000,\n",
    ")"
   ]
  },
  {
   "cell_type": "code",
   "execution_count": 13,
   "id": "998c7d79-2b3d-498e-9c70-ca67dd5d5850",
   "metadata": {
    "tags": []
   },
   "outputs": [
    {
     "ename": "ValueError",
     "evalue": "Experimental support for categorical data is not implemented for current tree method yet.",
     "output_type": "error",
     "traceback": [
      "\u001b[0;31m---------------------------------------------------------------------------\u001b[0m",
      "\u001b[0;31mValueError\u001b[0m                                Traceback (most recent call last)",
      "Cell \u001b[0;32mIn[13], line 18\u001b[0m\n\u001b[1;32m     13\u001b[0m     \u001b[38;5;28;01mreturn\u001b[39;00m \u001b[38;5;241m-\u001b[39mfbeta_score(y_true, y_pred, \u001b[38;5;241m*\u001b[39margs, \u001b[38;5;241m*\u001b[39m\u001b[38;5;241m*\u001b[39mkwargs, beta\u001b[38;5;241m=\u001b[39m\u001b[38;5;241m1.0\u001b[39m)\n\u001b[1;32m     16\u001b[0m clf \u001b[38;5;241m=\u001b[39m xgb\u001b[38;5;241m.\u001b[39mXGBClassifier(eval_metric\u001b[38;5;241m=\u001b[39mxgb_custom_metric,enable_categorical\u001b[38;5;241m=\u001b[39m\u001b[38;5;28;01mTrue\u001b[39;00m)\n\u001b[0;32m---> 18\u001b[0m \u001b[43mclf\u001b[49m\u001b[38;5;241;43m.\u001b[39;49m\u001b[43mfit\u001b[49m\u001b[43m(\u001b[49m\u001b[43mX\u001b[49m\u001b[43m,\u001b[49m\u001b[43m \u001b[49m\u001b[43my\u001b[49m\u001b[43m,\u001b[49m\u001b[43m \u001b[49m\u001b[43meval_set\u001b[49m\u001b[38;5;241;43m=\u001b[39;49m\u001b[43m[\u001b[49m\u001b[43m(\u001b[49m\u001b[43mX\u001b[49m\u001b[43m,\u001b[49m\u001b[43m \u001b[49m\u001b[43my\u001b[49m\u001b[43m)\u001b[49m\u001b[43m]\u001b[49m\u001b[43m)\u001b[49m\n",
      "File \u001b[0;32m/usr/local/lib/python3.11/dist-packages/xgboost/core.py:620\u001b[0m, in \u001b[0;36mrequire_keyword_args.<locals>.throw_if.<locals>.inner_f\u001b[0;34m(*args, **kwargs)\u001b[0m\n\u001b[1;32m    618\u001b[0m \u001b[38;5;28;01mfor\u001b[39;00m k, arg \u001b[38;5;129;01min\u001b[39;00m \u001b[38;5;28mzip\u001b[39m(sig\u001b[38;5;241m.\u001b[39mparameters, args):\n\u001b[1;32m    619\u001b[0m     kwargs[k] \u001b[38;5;241m=\u001b[39m arg\n\u001b[0;32m--> 620\u001b[0m \u001b[38;5;28;01mreturn\u001b[39;00m \u001b[43mfunc\u001b[49m\u001b[43m(\u001b[49m\u001b[38;5;241;43m*\u001b[39;49m\u001b[38;5;241;43m*\u001b[39;49m\u001b[43mkwargs\u001b[49m\u001b[43m)\u001b[49m\n",
      "File \u001b[0;32m/usr/local/lib/python3.11/dist-packages/xgboost/sklearn.py:1468\u001b[0m, in \u001b[0;36mXGBClassifier.fit\u001b[0;34m(self, X, y, sample_weight, base_margin, eval_set, eval_metric, early_stopping_rounds, verbose, xgb_model, sample_weight_eval_set, base_margin_eval_set, feature_weights, callbacks)\u001b[0m\n\u001b[1;32m   1459\u001b[0m         params[\u001b[38;5;124m\"\u001b[39m\u001b[38;5;124mobjective\u001b[39m\u001b[38;5;124m\"\u001b[39m] \u001b[38;5;241m=\u001b[39m \u001b[38;5;124m\"\u001b[39m\u001b[38;5;124mmulti:softprob\u001b[39m\u001b[38;5;124m\"\u001b[39m\n\u001b[1;32m   1460\u001b[0m     params[\u001b[38;5;124m\"\u001b[39m\u001b[38;5;124mnum_class\u001b[39m\u001b[38;5;124m\"\u001b[39m] \u001b[38;5;241m=\u001b[39m \u001b[38;5;28mself\u001b[39m\u001b[38;5;241m.\u001b[39mn_classes_\n\u001b[1;32m   1462\u001b[0m (\n\u001b[1;32m   1463\u001b[0m     model,\n\u001b[1;32m   1464\u001b[0m     metric,\n\u001b[1;32m   1465\u001b[0m     params,\n\u001b[1;32m   1466\u001b[0m     early_stopping_rounds,\n\u001b[1;32m   1467\u001b[0m     callbacks,\n\u001b[0;32m-> 1468\u001b[0m ) \u001b[38;5;241m=\u001b[39m \u001b[38;5;28;43mself\u001b[39;49m\u001b[38;5;241;43m.\u001b[39;49m\u001b[43m_configure_fit\u001b[49m\u001b[43m(\u001b[49m\n\u001b[1;32m   1469\u001b[0m \u001b[43m    \u001b[49m\u001b[43mxgb_model\u001b[49m\u001b[43m,\u001b[49m\u001b[43m \u001b[49m\u001b[43meval_metric\u001b[49m\u001b[43m,\u001b[49m\u001b[43m \u001b[49m\u001b[43mparams\u001b[49m\u001b[43m,\u001b[49m\u001b[43m \u001b[49m\u001b[43mearly_stopping_rounds\u001b[49m\u001b[43m,\u001b[49m\u001b[43m \u001b[49m\u001b[43mcallbacks\u001b[49m\n\u001b[1;32m   1470\u001b[0m \u001b[43m\u001b[49m\u001b[43m)\u001b[49m\n\u001b[1;32m   1471\u001b[0m train_dmatrix, evals \u001b[38;5;241m=\u001b[39m _wrap_evaluation_matrices(\n\u001b[1;32m   1472\u001b[0m     missing\u001b[38;5;241m=\u001b[39m\u001b[38;5;28mself\u001b[39m\u001b[38;5;241m.\u001b[39mmissing,\n\u001b[1;32m   1473\u001b[0m     X\u001b[38;5;241m=\u001b[39mX,\n\u001b[0;32m   (...)\u001b[0m\n\u001b[1;32m   1487\u001b[0m     feature_types\u001b[38;5;241m=\u001b[39m\u001b[38;5;28mself\u001b[39m\u001b[38;5;241m.\u001b[39mfeature_types,\n\u001b[1;32m   1488\u001b[0m )\n\u001b[1;32m   1490\u001b[0m \u001b[38;5;28mself\u001b[39m\u001b[38;5;241m.\u001b[39m_Booster \u001b[38;5;241m=\u001b[39m train(\n\u001b[1;32m   1491\u001b[0m     params,\n\u001b[1;32m   1492\u001b[0m     train_dmatrix,\n\u001b[0;32m   (...)\u001b[0m\n\u001b[1;32m   1501\u001b[0m     callbacks\u001b[38;5;241m=\u001b[39mcallbacks,\n\u001b[1;32m   1502\u001b[0m )\n",
      "File \u001b[0;32m/usr/local/lib/python3.11/dist-packages/xgboost/sklearn.py:892\u001b[0m, in \u001b[0;36mXGBModel._configure_fit\u001b[0;34m(self, booster, eval_metric, params, early_stopping_rounds, callbacks)\u001b[0m\n\u001b[1;32m    890\u001b[0m cat_support \u001b[38;5;241m=\u001b[39m {\u001b[38;5;124m\"\u001b[39m\u001b[38;5;124mgpu_hist\u001b[39m\u001b[38;5;124m\"\u001b[39m, \u001b[38;5;124m\"\u001b[39m\u001b[38;5;124mapprox\u001b[39m\u001b[38;5;124m\"\u001b[39m, \u001b[38;5;124m\"\u001b[39m\u001b[38;5;124mhist\u001b[39m\u001b[38;5;124m\"\u001b[39m}\n\u001b[1;32m    891\u001b[0m \u001b[38;5;28;01mif\u001b[39;00m \u001b[38;5;28mself\u001b[39m\u001b[38;5;241m.\u001b[39menable_categorical \u001b[38;5;129;01mand\u001b[39;00m tree_method \u001b[38;5;129;01mnot\u001b[39;00m \u001b[38;5;129;01min\u001b[39;00m cat_support:\n\u001b[0;32m--> 892\u001b[0m     \u001b[38;5;28;01mraise\u001b[39;00m \u001b[38;5;167;01mValueError\u001b[39;00m(\n\u001b[1;32m    893\u001b[0m         \u001b[38;5;124m\"\u001b[39m\u001b[38;5;124mExperimental support for categorical data is not implemented for\u001b[39m\u001b[38;5;124m\"\u001b[39m\n\u001b[1;32m    894\u001b[0m         \u001b[38;5;124m\"\u001b[39m\u001b[38;5;124m current tree method yet.\u001b[39m\u001b[38;5;124m\"\u001b[39m\n\u001b[1;32m    895\u001b[0m     )\n\u001b[1;32m    897\u001b[0m \u001b[38;5;28;01mreturn\u001b[39;00m model, metric, params, early_stopping_rounds, callbacks\n",
      "\u001b[0;31mValueError\u001b[0m: Experimental support for categorical data is not implemented for current tree method yet."
     ]
    }
   ],
   "source": [
    "import numpy as np\n",
    "import xgboost as xgb\n",
    "from sklearn.datasets import load_digits\n",
    "from sklearn.metrics import fbeta_score\n",
    "\n",
    "X, y = load_digits(n_class=2, return_X_y=True)\n",
    "\n",
    "\n",
    "def error(y_true, y_pred, *args, **kwargs) -> float:\n",
    "    classes = np.repeat(0, y_pred.shape[0])\n",
    "    classes[y_pred > 0.5] = 1\n",
    "    y_pred = classes\n",
    "    return -fbeta_score(y_true, y_pred, *args, **kwargs, beta=1.0)\n",
    "\n",
    "\n",
    "clf = xgb.XGBClassifier(eval_metric=xgb_custom_metric,enable_categorical=True)\n",
    "\n",
    "clf.fit(X, y, eval_set=[(X, y)])"
   ]
  },
  {
   "cell_type": "code",
   "execution_count": 208,
   "id": "abe4f605-3900-459c-8def-5c44f85eda8f",
   "metadata": {
    "tags": []
   },
   "outputs": [
    {
     "data": {
      "text/plain": [
       "<xgboost.core.Booster at 0x7f5f8a879050>"
      ]
     },
     "execution_count": 208,
     "metadata": {},
     "output_type": "execute_result"
    }
   ],
   "source": [
    "fff"
   ]
  },
  {
   "cell_type": "code",
   "execution_count": null,
   "id": "4aec203c-3f36-4dc8-80f1-d898ff01a2ba",
   "metadata": {},
   "outputs": [],
   "source": []
  }
 ],
 "metadata": {
  "kernelspec": {
   "display_name": "Python 3 (ipykernel)",
   "language": "python",
   "name": "python3"
  },
  "language_info": {
   "codemirror_mode": {
    "name": "ipython",
    "version": 3
   },
   "file_extension": ".py",
   "mimetype": "text/x-python",
   "name": "python",
   "nbconvert_exporter": "python",
   "pygments_lexer": "ipython3",
   "version": "3.11.7"
  }
 },
 "nbformat": 4,
 "nbformat_minor": 5
}
