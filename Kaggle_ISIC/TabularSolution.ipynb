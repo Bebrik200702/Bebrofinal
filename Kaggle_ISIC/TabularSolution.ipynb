{
 "cells": [
  {
   "cell_type": "code",
   "execution_count": 1,
   "id": "93b3a198-5fb3-4c5e-b4e3-daa7184834c7",
   "metadata": {
    "tags": []
   },
   "outputs": [],
   "source": [
    "import numpy as np\n",
    "import pandas as pd\n",
    "import polars as pl\n",
    "from catboost import CatBoostClassifier, Pool, cv\n",
    "from imblearn.under_sampling import RandomUnderSampler\n",
    "from sklearn.metrics import roc_auc_score, roc_curve, auc\n",
    "from functools import partial \n",
    "from sklearn.base import BaseEstimator\n",
    "from tqdm.auto import trange\n",
    "from sklearn.model_selection import train_test_split, StratifiedKFold, StratifiedGroupKFold"
   ]
  },
  {
   "cell_type": "code",
   "execution_count": 2,
   "id": "318f65c3-681e-47ba-ac80-c7b4a5987a52",
   "metadata": {
    "tags": []
   },
   "outputs": [],
   "source": [
    "train_data = pl.read_csv('./isic-2024-challenge/train-metadata.csv')"
   ]
  },
  {
   "cell_type": "code",
   "execution_count": 3,
   "id": "b5fd6320-1ef9-4b82-ace8-f39840260ddb",
   "metadata": {
    "tags": []
   },
   "outputs": [],
   "source": [
    "def process_data(data):\n",
    "    return (\n",
    "        data\n",
    "        .with_columns(\n",
    "                pl.col('age_approx').cast(pl.String).replace('NA', np.nan).cast(pl.Float64),\n",
    "            )\n",
    "        .with_columns(\n",
    "                lesion_size_ratio              = pl.col('tbp_lv_minorAxisMM') / pl.col('clin_size_long_diam_mm'),\n",
    "                lesion_shape_index             = pl.col('tbp_lv_areaMM2') / (pl.col('tbp_lv_perimeterMM') ** 2),\n",
    "                hue_contrast                   = (pl.col('tbp_lv_H') - pl.col('tbp_lv_Hext')).abs(),\n",
    "                luminance_contrast             = (pl.col('tbp_lv_L') - pl.col('tbp_lv_Lext')).abs(),\n",
    "                lesion_color_difference        = (pl.col('tbp_lv_deltaA') ** 2 + pl.col('tbp_lv_deltaB') ** 2 + pl.col('tbp_lv_deltaL') ** 2).sqrt(),\n",
    "                border_complexity              = pl.col('tbp_lv_norm_border') + pl.col('tbp_lv_symm_2axis'),\n",
    "                color_uniformity               = pl.col('tbp_lv_color_std_mean') / (pl.col('tbp_lv_radial_color_std_max') + 1e-6),\n",
    "            )\n",
    "        .with_columns(\n",
    "                position_distance_3d           = (pl.col('tbp_lv_x') ** 2 + pl.col('tbp_lv_y') ** 2 + pl.col('tbp_lv_z') ** 2).sqrt(),\n",
    "                perimeter_to_area_ratio        = pl.col('tbp_lv_perimeterMM') / pl.col('tbp_lv_areaMM2'),\n",
    "                area_to_perimeter_ratio        = pl.col('tbp_lv_areaMM2') / pl.col('tbp_lv_perimeterMM'),\n",
    "                lesion_visibility_score        = pl.col('tbp_lv_deltaLBnorm') + pl.col('tbp_lv_norm_color'),\n",
    "                combined_anatomical_site       = pl.col('anatom_site_general') + '_' + pl.col('tbp_lv_location'),\n",
    "                symmetry_border_consistency    = pl.col('tbp_lv_symm_2axis') * pl.col('tbp_lv_norm_border'),\n",
    "                consistency_symmetry_border    = pl.col('tbp_lv_symm_2axis') * pl.col('tbp_lv_norm_border') / (pl.col('tbp_lv_symm_2axis') + pl.col('tbp_lv_norm_border')),\n",
    "            )\n",
    "        .with_columns(\n",
    "                color_consistency              = pl.col('tbp_lv_stdL') / pl.col('tbp_lv_Lext'),\n",
    "                consistency_color              = pl.col('tbp_lv_stdL') * pl.col('tbp_lv_Lext') / (pl.col('tbp_lv_stdL') + pl.col('tbp_lv_Lext')),\n",
    "                size_age_interaction           = pl.col('clin_size_long_diam_mm') * pl.col('age_approx'),\n",
    "                hue_color_std_interaction      = pl.col('tbp_lv_H') * pl.col('tbp_lv_color_std_mean'),\n",
    "                lesion_severity_index          = (pl.col('tbp_lv_norm_border') + pl.col('tbp_lv_norm_color') + pl.col('tbp_lv_eccentricity')) / 3,\n",
    "                shape_complexity_index         = pl.col('border_complexity') + pl.col('lesion_shape_index'),\n",
    "                color_contrast_index           = pl.col('tbp_lv_deltaA') + pl.col('tbp_lv_deltaB') + pl.col('tbp_lv_deltaL') + pl.col('tbp_lv_deltaLBnorm'),\n",
    "            )\n",
    "        .with_columns(\n",
    "                log_lesion_area                = (pl.col('tbp_lv_areaMM2') + 1).log(),\n",
    "                normalized_lesion_size         = pl.col('clin_size_long_diam_mm') / pl.col('age_approx'),\n",
    "                mean_hue_difference            = (pl.col('tbp_lv_H') + pl.col('tbp_lv_Hext')) / 2,\n",
    "                std_dev_contrast               = ((pl.col('tbp_lv_deltaA') ** 2 + pl.col('tbp_lv_deltaB') ** 2 + pl.col('tbp_lv_deltaL') ** 2) / 3).sqrt(),\n",
    "                color_shape_composite_index    = (pl.col('tbp_lv_color_std_mean') + pl.col('tbp_lv_area_perim_ratio') + pl.col('tbp_lv_symm_2axis')) / 3,\n",
    "                lesion_orientation_3d          = pl.arctan2(pl.col('tbp_lv_y'), pl.col('tbp_lv_x')),\n",
    "                overall_color_difference       = (pl.col('tbp_lv_deltaA') + pl.col('tbp_lv_deltaB') + pl.col('tbp_lv_deltaL')) / 3,\n",
    "            )\n",
    "        .with_columns(\n",
    "                symmetry_perimeter_interaction = pl.col('tbp_lv_symm_2axis') * pl.col('tbp_lv_perimeterMM'),\n",
    "                comprehensive_lesion_index     = (pl.col('tbp_lv_area_perim_ratio') + pl.col('tbp_lv_eccentricity') + pl.col('tbp_lv_norm_color') + pl.col('tbp_lv_symm_2axis')) / 4,\n",
    "                color_variance_ratio           = pl.col('tbp_lv_color_std_mean') / pl.col('tbp_lv_stdLExt'),\n",
    "                border_color_interaction       = pl.col('tbp_lv_norm_border') * pl.col('tbp_lv_norm_color'),\n",
    "                border_color_interaction_2     = pl.col('tbp_lv_norm_border') * pl.col('tbp_lv_norm_color') / (pl.col('tbp_lv_norm_border') + pl.col('tbp_lv_norm_color')),\n",
    "                size_color_contrast_ratio      = pl.col('clin_size_long_diam_mm') / pl.col('tbp_lv_deltaLBnorm'),\n",
    "                age_normalized_nevi_confidence = pl.col('tbp_lv_nevi_confidence') / pl.col('age_approx'),\n",
    "                age_normalized_nevi_confidence_2 = (pl.col('clin_size_long_diam_mm')**2 + pl.col('age_approx')**2).sqrt(),\n",
    "                color_asymmetry_index          = pl.col('tbp_lv_radial_color_std_max') * pl.col('tbp_lv_symm_2axis'),\n",
    "            )\n",
    "        .with_columns(\n",
    "                volume_approximation_3d        = pl.col('tbp_lv_areaMM2') * (pl.col('tbp_lv_x')**2 + pl.col('tbp_lv_y')**2 + pl.col('tbp_lv_z')**2).sqrt(),\n",
    "                color_range                    = (pl.col('tbp_lv_L') - pl.col('tbp_lv_Lext')).abs() + (pl.col('tbp_lv_A') - pl.col('tbp_lv_Aext')).abs() + (pl.col('tbp_lv_B') - pl.col('tbp_lv_Bext')).abs(),\n",
    "                shape_color_consistency        = pl.col('tbp_lv_eccentricity') * pl.col('tbp_lv_color_std_mean'),\n",
    "                border_length_ratio            = pl.col('tbp_lv_perimeterMM') / (2 * np.pi * (pl.col('tbp_lv_areaMM2') / np.pi).sqrt()),\n",
    "                age_size_symmetry_index        = pl.col('age_approx') * pl.col('clin_size_long_diam_mm') * pl.col('tbp_lv_symm_2axis'),\n",
    "                index_age_size_symmetry        = pl.col('age_approx') * pl.col('tbp_lv_areaMM2') * pl.col('tbp_lv_symm_2axis'),\n",
    "            )\n",
    "        .with_columns(\n",
    "            ((pl.col(col) - pl.col(col).mean().over('patient_id')) / (pl.col(col).std().over('patient_id') + 1e-5)).alias(f'{col}_patient_norm') for col in (num_cols + new_cols)\n",
    "        )\n",
    "\n",
    "        .with_columns(\n",
    "                count_per_patient = pl.col('isic_id').count().over('patient_id'),\n",
    "                age_difference = (pl.col('age_approx').max().over('patient_id') - pl.col('age_approx').min().over('patient_id')),\n",
    "                is_tbp_tile_type = pl.col('tbp_tile_type').map_elements(lambda x: 1 if x == '3D: white' else 0)\n",
    "        )\n",
    "        .with_columns(\n",
    "                tbp_tile_type_mean = pl.col('is_tbp_tile_type').mean().over('patient_id'),\n",
    "                tbp_tile_type_sum = pl.col('is_tbp_tile_type').sum().over('patient_id'),\n",
    "                tbp_tile_type_inv = pl.col('count_per_patient') - pl.col('is_tbp_tile_type').sum().over('patient_id'), \n",
    "        )\n",
    "        .to_pandas()\n",
    "    )"
   ]
  },
  {
   "cell_type": "code",
   "execution_count": 4,
   "id": "1601d61a-e54c-40c6-8cc7-f4a77aa04edb",
   "metadata": {
    "tags": []
   },
   "outputs": [],
   "source": [
    "def p_auc_tpr(v_gt, v_pred, min_tpr=None, sample_weight=None):\n",
    "    \"\"\"Computes the area under the AUC above a minumum TPR.\n",
    "\n",
    "    Args:\n",
    "        v_gt: ground truth vector (1s and 0s)\n",
    "        v_p: predictions vector of scores ranging [0, 1]\n",
    "        min_tpr: minimum true positive threshold (sensitivity)\n",
    "\n",
    "    Returns:\n",
    "        Float value range [0, 1]\n",
    "    \"\"\"\n",
    "    if len(np.unique(v_gt)) != 2:\n",
    "        raise ValueError(\n",
    "            \"Only one class present in y_true. ROC AUC score \"\n",
    "            \"is not defined in that case.\"\n",
    "        )\n",
    "    \n",
    "    # redefine the target. set 0s to 1s and 1s to 0s\n",
    "    v_gt = abs(np.asarray(v_gt)-1)\n",
    "    v_pred = abs(np.asarray(v_pred)-1)\n",
    "    max_fpr = abs(1-min_tpr)\n",
    "    \n",
    "    # using sklearn.metric functions: (1) roc_curve and (2) auc\n",
    "    fpr, tpr, _ = roc_curve(v_gt, v_pred, sample_weight=sample_weight)\n",
    "    if max_fpr is None or max_fpr == 1:\n",
    "        return auc(fpr, tpr)\n",
    "    if max_fpr <= 0 or max_fpr > 1:\n",
    "        raise ValueError(\"Expected min_tpr in range [0, 1), got: %r\" % min_tpr)\n",
    "\n",
    "    # Add a single point at max_fpr by linear interpolation\n",
    "    stop = np.searchsorted(fpr, max_fpr, \"right\")\n",
    "    x_interp = [fpr[stop - 1], fpr[stop]]\n",
    "    y_interp = [tpr[stop - 1], tpr[stop]]\n",
    "    tpr = np.append(tpr[:stop], np.interp(max_fpr, x_interp, y_interp))\n",
    "    fpr = np.append(fpr[:stop], max_fpr)\n",
    "    partial_auc = auc(fpr, tpr)\n",
    "    return(partial_auc)"
   ]
  },
  {
   "cell_type": "code",
   "execution_count": 12,
   "id": "d63ef618-5996-4098-bc84-6c1e464c8c89",
   "metadata": {
    "tags": []
   },
   "outputs": [],
   "source": [
    "class PRAUCMetric:\n",
    "    def is_max_optimal(self):\n",
    "        return True # greater is better\n",
    "\n",
    "    def evaluate(self, approxes, target, weight):\n",
    "        assert len(approxes) == 1\n",
    "        assert len(target) == len(approxes[0])\n",
    "\n",
    "        approx = approxes[0]\n",
    "\n",
    "        y_pred = approx #np.rint(approx)\n",
    "        y_true = np.array(target).astype(int)\n",
    "\n",
    "        output_weight = 1 # weight is not used\n",
    "\n",
    "        score = p_auc_tpr(y_true, y_pred,min_tpr=0.80)\n",
    " \n",
    "        return score, output_weight\n",
    "\n",
    "    def get_final_error(self, error, weight):\n",
    "        return error\n"
   ]
  },
  {
   "cell_type": "code",
   "execution_count": 13,
   "id": "e26bc28a-9c7f-4386-bb08-3655375e1d4d",
   "metadata": {
    "tags": []
   },
   "outputs": [],
   "source": [
    "num_cols = [\n",
    "    'age_approx',                        # Approximate age of patient at time of imaging.\n",
    "    'clin_size_long_diam_mm',            # Maximum diameter of the lesion (mm).+\n",
    "    'tbp_lv_A',                          # A inside  lesion.+\n",
    "    'tbp_lv_Aext',                       # A outside lesion.+\n",
    "    'tbp_lv_B',                          # B inside  lesion.+\n",
    "    'tbp_lv_Bext',                       # B outside lesion.+ \n",
    "    'tbp_lv_C',                          # Chroma inside  lesion.+\n",
    "    'tbp_lv_Cext',                       # Chroma outside lesion.+\n",
    "    'tbp_lv_H',                          # Hue inside the lesion; calculated as the angle of A* and B* in LAB* color space. Typical values range from 25 (red) to 75 (brown).+\n",
    "    'tbp_lv_Hext',                       # Hue outside lesion.+\n",
    "    'tbp_lv_L',                          # L inside lesion.+\n",
    "    'tbp_lv_Lext',                       # L outside lesion.+\n",
    "    'tbp_lv_areaMM2',                    # Area of lesion (mm^2).+\n",
    "    'tbp_lv_area_perim_ratio',           # Border jaggedness, the ratio between lesions perimeter and area. Circular lesions will have low values; irregular shaped lesions will have higher values. Values range 0-10.+\n",
    "    'tbp_lv_color_std_mean',             # Color irregularity, calculated as the variance of colors within the lesion's boundary.\n",
    "    'tbp_lv_deltaA',                     # Average A contrast (inside vs. outside lesion).+\n",
    "    'tbp_lv_deltaB',                     # Average B contrast (inside vs. outside lesion).+\n",
    "    'tbp_lv_deltaL',                     # Average L contrast (inside vs. outside lesion).+\n",
    "    'tbp_lv_deltaLB',                    #\n",
    "    'tbp_lv_deltaLBnorm',                # Contrast between the lesion and its immediate surrounding skin. Low contrast lesions tend to be faintly visible such as freckles; high contrast lesions tend to be those with darker pigment. Calculated as the average delta LB of the lesion relative to its immediate background in LAB* color space. Typical values range from 5.5 to 25.+\n",
    "    'tbp_lv_eccentricity',               # Eccentricity.+\n",
    "    'tbp_lv_minorAxisMM',                # Smallest lesion diameter (mm).+\n",
    "    'tbp_lv_nevi_confidence',            # Nevus confidence score (0-100 scale) is a convolutional neural network classifier estimated probability that the lesion is a nevus. The neural network was trained on approximately 57,000 lesions that were classified and labeled by a dermatologist.+,++\n",
    "    'tbp_lv_norm_border',                # Border irregularity (0-10 scale); the normalized average of border jaggedness and asymmetry.+\n",
    "    'tbp_lv_norm_color',                 # Color variation (0-10 scale); the normalized average of color asymmetry and color irregularity.+\n",
    "    'tbp_lv_perimeterMM',                # Perimeter of lesion (mm).+\n",
    "    'tbp_lv_radial_color_std_max',       # Color asymmetry, a measure of asymmetry of the spatial distribution of color within the lesion. This score is calculated by looking at the average standard deviation in LAB* color space within concentric rings originating from the lesion center. Values range 0-10.+\n",
    "    'tbp_lv_stdL',                       # Standard deviation of L inside  lesion.+\n",
    "    'tbp_lv_stdLExt',                    # Standard deviation of L outside lesion.+\n",
    "    'tbp_lv_symm_2axis',                 # Border asymmetry; a measure of asymmetry of the lesion's contour about an axis perpendicular to the lesion's most symmetric axis. Lesions with two axes of symmetry will therefore have low scores (more symmetric), while lesions with only one or zero axes of symmetry will have higher scores (less symmetric). This score is calculated by comparing opposite halves of the lesion contour over many degrees of rotation. The angle where the halves are most similar identifies the principal axis of symmetry, while the second axis of symmetry is perpendicular to the principal axis. Border asymmetry is reported as the asymmetry value about this second axis. Values range 0-10.+\n",
    "    'tbp_lv_symm_2axis_angle',           # Lesion border asymmetry angle.+\n",
    "    'tbp_lv_x',                          # X-coordinate of the lesion on 3D TBP.+\n",
    "    'tbp_lv_y',                          # Y-coordinate of the lesion on 3D TBP.+\n",
    "    'tbp_lv_z',                          # Z-coordinate of the lesion on 3D TBP.+\n",
    "]\n",
    "\n",
    "new_cols = [\n",
    "    'lesion_size_ratio',             # tbp_lv_minorAxisMM      / clin_size_long_diam_mm\n",
    "    'lesion_shape_index',            # tbp_lv_areaMM2          / tbp_lv_perimeterMM **2\n",
    "    'hue_contrast',                  # tbp_lv_H                - tbp_lv_Hext              abs\n",
    "    'luminance_contrast',            # tbp_lv_L                - tbp_lv_Lext              abs\n",
    "    'lesion_color_difference',       # tbp_lv_deltaA **2       + tbp_lv_deltaB **2 + tbp_lv_deltaL **2  sqrt  \n",
    "    'border_complexity',             # tbp_lv_norm_border      + tbp_lv_symm_2axis\n",
    "    'color_uniformity',              # tbp_lv_color_std_mean   / tbp_lv_radial_color_std_max\n",
    "\n",
    "    'position_distance_3d',          # tbp_lv_x **2 + tbp_lv_y **2 + tbp_lv_z **2  sqrt\n",
    "    'perimeter_to_area_ratio',       # tbp_lv_perimeterMM      / tbp_lv_areaMM2\n",
    "    'area_to_perimeter_ratio',       # tbp_lv_areaMM2          / tbp_lv_perimeterMM\n",
    "    'lesion_visibility_score',       # tbp_lv_deltaLBnorm      + tbp_lv_norm_color\n",
    "    'symmetry_border_consistency',   # tbp_lv_symm_2axis       * tbp_lv_norm_border\n",
    "    'consistency_symmetry_border',   # tbp_lv_symm_2axis       * tbp_lv_norm_border / (tbp_lv_symm_2axis + tbp_lv_norm_border)\n",
    "\n",
    "    'color_consistency',             # tbp_lv_stdL             / tbp_lv_Lext\n",
    "    'consistency_color',             # tbp_lv_stdL*tbp_lv_Lext / tbp_lv_stdL + tbp_lv_Lext\n",
    "    'size_age_interaction',          # clin_size_long_diam_mm  * age_approx\n",
    "    'hue_color_std_interaction',     # tbp_lv_H                * tbp_lv_color_std_mean\n",
    "    'lesion_severity_index',         # tbp_lv_norm_border      + tbp_lv_norm_color + tbp_lv_eccentricity / 3\n",
    "    'shape_complexity_index',        # border_complexity       + lesion_shape_index\n",
    "    'color_contrast_index',          # tbp_lv_deltaA + tbp_lv_deltaB + tbp_lv_deltaL + tbp_lv_deltaLBnorm\n",
    "\n",
    "    'log_lesion_area',               # tbp_lv_areaMM2          + 1  np.log\n",
    "    'normalized_lesion_size',        # clin_size_long_diam_mm  / age_approx\n",
    "    'mean_hue_difference',           # tbp_lv_H                + tbp_lv_Hext    / 2\n",
    "    'std_dev_contrast',              # tbp_lv_deltaA **2 + tbp_lv_deltaB **2 + tbp_lv_deltaL **2   / 3  np.sqrt\n",
    "    'color_shape_composite_index',   # tbp_lv_color_std_mean   + bp_lv_area_perim_ratio + tbp_lv_symm_2axis   / 3\n",
    "    'lesion_orientation_3d',         # tbp_lv_y                , tbp_lv_x  np.arctan2\n",
    "    'overall_color_difference',      # tbp_lv_deltaA           + tbp_lv_deltaB + tbp_lv_deltaL   / 3\n",
    "\n",
    "    'symmetry_perimeter_interaction',# tbp_lv_symm_2axis       * tbp_lv_perimeterMM\n",
    "    'comprehensive_lesion_index',    # tbp_lv_area_perim_ratio + tbp_lv_eccentricity + bp_lv_norm_color + tbp_lv_symm_2axis   / 4\n",
    "    'color_variance_ratio',          # tbp_lv_color_std_mean   / tbp_lv_stdLExt\n",
    "    'border_color_interaction',      # tbp_lv_norm_border      * tbp_lv_norm_color\n",
    "    'border_color_interaction_2',\n",
    "    'size_color_contrast_ratio',     # clin_size_long_diam_mm  / tbp_lv_deltaLBnorm\n",
    "    'age_normalized_nevi_confidence',# tbp_lv_nevi_confidence  / age_approx\n",
    "    'age_normalized_nevi_confidence_2',\n",
    "    'color_asymmetry_index',         # tbp_lv_symm_2axis       * tbp_lv_radial_color_std_max\n",
    "\n",
    "    'volume_approximation_3d',       # tbp_lv_areaMM2          * sqrt(tbp_lv_x**2 + tbp_lv_y**2 + tbp_lv_z**2)\n",
    "    'color_range',                   # abs(tbp_lv_L - tbp_lv_Lext) + abs(tbp_lv_A - tbp_lv_Aext) + abs(tbp_lv_B - tbp_lv_Bext)\n",
    "    'shape_color_consistency',       # tbp_lv_eccentricity     * tbp_lv_color_std_mean\n",
    "    'border_length_ratio',           # tbp_lv_perimeterMM      / pi * sqrt(tbp_lv_areaMM2 / pi)\n",
    "    'age_size_symmetry_index',       # age_approx              * clin_size_long_diam_mm * tbp_lv_symm_2axis\n",
    "    'index_age_size_symmetry',       # age_approx              * tbp_lv_areaMM2 * tbp_lv_symm_2axis\n",
    "]\n",
    "\n",
    "aggr_cols = ['combined_anatomical_site'] + [f'{col}_patient_norm' for col in (num_cols + new_cols)]\n",
    "cat_cols = ['sex', 'anatom_site_general', 'tbp_tile_type', 'tbp_lv_location', 'tbp_lv_location_simple', 'attribution', 'copyright_license','combined_anatomical_site',]\n",
    "drop_cols = [\n",
    "    'isic_id',\n",
    "    'patient_id',\n",
    "    'image_type',\n",
    "    'lesion_id',\n",
    "    'iddx_full',\n",
    "    'iddx_1',\n",
    "    'iddx_2',\n",
    "    'iddx_3',\n",
    "    'iddx_4',\n",
    "    'iddx_5',\n",
    "    'mel_mitotic_index',\n",
    "    'mel_thick_mm', \n",
    "    'tbp_lv_dnn_lesion_confidence',\n",
    "    'is_tbp_tile_type',\n",
    "]\n",
    "\n",
    "params = {\n",
    "    'iterations': 1000,\n",
    "    'learning_rate': 0.05,\n",
    "    'loss_function': 'CrossEntropy',\n",
    "    'max_depth': 6,\n",
    "    'eval_metric': PRAUCMetric(),\n",
    "    'l2_leaf_reg': 6.216113851699493, \n",
    "    #'subsample': 0.6249261779711819, \n",
    "    'min_data_in_leaf': 24,\n",
    "    'task_type': 'GPU',\n",
    "    'random_seed': 56\n",
    "}\n",
    "\n",
    "label_col = 'target'\n",
    "n_folds = 5\n",
    "n_repits = 1"
   ]
  },
  {
   "cell_type": "code",
   "execution_count": 14,
   "id": "c455f407-b056-450c-8243-1829eef85b68",
   "metadata": {
    "tags": []
   },
   "outputs": [],
   "source": [
    "class CatBoostKfoldWraper(BaseEstimator):\n",
    "    def __init__(self,num_folds,num_repits,params,random_state=56,score_func=p_auc_tpr):\n",
    "        self.models = []\n",
    "        self.params = params\n",
    "        self.random_state = random_state\n",
    "        self.num_folds = num_folds\n",
    "        self.num_repits = num_repits\n",
    "        self.score_func = score_func\n",
    "        \n",
    "    def fit(self,train_data,cat_features=None,drop_cols=None,label_col=None,verbose=False):\n",
    "        self.scores = []\n",
    "        self.shap_importances = []\n",
    "        self.cols = train_data.drop([label_col]+drop_cols,axis=1).columns.tolist()\n",
    "        \n",
    "        for i in trange(self.num_repits):\n",
    "            kfold = StratifiedGroupKFold(self.num_folds,random_state=self.random_state+i,shuffle=True)\n",
    "            for train_index, test_index in (kfold.split(train_data,train_data[label_col],train_data['patient_id'])):\n",
    "                train_df = train_data.iloc[train_index]\n",
    "                test_df = train_data.iloc[test_index]\n",
    "\n",
    "                train_pool = Pool(\n",
    "                    train_df.drop([label_col]+drop_cols,axis=1),\n",
    "                    label = train_df[label_col],\n",
    "                    cat_features = [x for x in cat_features if x in train_data.drop(drop_cols,axis=1).columns.tolist()]\n",
    "                )\n",
    "\n",
    "                eval_pool = Pool(\n",
    "                    test_df.drop([label_col]+drop_cols,axis=1),\n",
    "                    label = test_df[label_col],\n",
    "                    cat_features = [x for x in cat_features if x in train_df.drop(drop_cols,axis=1).columns.tolist()]\n",
    "                )\n",
    "\n",
    "                cbm = CatBoostClassifier(**self.params)\n",
    "                cbm.fit(train_pool,eval_set=eval_pool,verbose=verbose)\n",
    "                score = self.score_func(test_df[label_col],cbm.predict_proba(eval_pool)[:,1])\n",
    "                self.scores += [score]\n",
    "                self.models += [cbm]\n",
    "                self.shap_importances += [cbm.get_feature_importance(train_pool,type='ShapValues')]\n",
    "                \n",
    "        print(f\"Total Score {np.mean(self.scores)}\")\n",
    "            \n",
    "    def predict(self,test_data,drop_cols=None,cat_features=None):\n",
    "        test_pool = Pool(\n",
    "            test_data.drop(drop_cols,axis=1),\n",
    "            cat_features=[x for x in cat_features if x in train_df.drop(drop_cols,axis=1).columns.tolist()]\n",
    "        )\n",
    "        preds = np.mean([model.predict_proba(test_pool)[:,1] for model in self.models],axis=0)\n",
    "        return preds\n",
    "    \n",
    "    def get_feature_importance(self,type='FeatureImportance'):\n",
    "        imp_0 = self.models[0].get_feature_importance(prettified=True,type=type).set_index('Feature Id')\n",
    "        for i in range(1,len(self.models)):\n",
    "            imp_0 += self.models[i].get_feature_importance(prettified=True,type=type).set_index('Feature Id')\n",
    "        return (imp_0 / len(self.models)).sort_values(by='Importances')[::-1]\n",
    "    \n",
    "    def get_shap_difference(self):\n",
    "        shap_values = np.mean([x.mean(axis=0) for x in self.shap_importances],axis=0)\n",
    "        df = pd.DataFrame()\n",
    "        df['Feature ID'] = self.cols\n",
    "        df['Importances'] = shap_values\n",
    "        return df.sort_values(by='Importances')[::-1]\n"
   ]
  },
  {
   "cell_type": "code",
   "execution_count": 9,
   "id": "60e93611-1cfe-4cb4-ab2b-a33f83020931",
   "metadata": {
    "tags": []
   },
   "outputs": [
    {
     "name": "stderr",
     "output_type": "stream",
     "text": [
      "sys:1: MapWithoutReturnDtypeWarning: Calling `map_elements` without specifying `return_dtype` can lead to unpredictable results. Specify `return_dtype` to silence this warning.\n"
     ]
    }
   ],
   "source": [
    "train_data = process_data(train_data)"
   ]
  },
  {
   "cell_type": "code",
   "execution_count": 10,
   "id": "3f1b1d97-988f-4788-a453-1f501353fbd8",
   "metadata": {
    "tags": []
   },
   "outputs": [],
   "source": [
    "model = CatBoostKfoldWraper(\n",
    "    num_folds=n_folds,\n",
    "    num_repits=n_repits,\n",
    "    params=params,\n",
    "    random_state=56,\n",
    "    score_func=partial(p_auc_tpr,min_tpr=0.80)\n",
    ")"
   ]
  },
  {
   "cell_type": "code",
   "execution_count": 11,
   "id": "e73f9c59-050b-447e-b1dc-a54b069ba782",
   "metadata": {
    "tags": []
   },
   "outputs": [
    {
     "data": {
      "application/vnd.jupyter.widget-view+json": {
       "model_id": "e3314213f90e45468e21401cc7810fa3",
       "version_major": 2,
       "version_minor": 0
      },
      "text/plain": [
       "  0%|          | 0/1 [00:00<?, ?it/s]"
      ]
     },
     "metadata": {},
     "output_type": "display_data"
    },
    {
     "name": "stderr",
     "output_type": "stream",
     "text": [
      "/usr/local/lib/python3.11/dist-packages/catboost/core.py:2311: UserWarning: Failed to import numba for optimizing custom metrics and objectives\n",
      "  _check_train_params(params)\n",
      "Default metric period is 5 because PythonUserDefinedPerObject is/are not implemented for GPU\n"
     ]
    },
    {
     "name": "stdout",
     "output_type": "stream",
     "text": [
      "0:\tlearn: 0.0265520\ttest: 0.0392256\tbest: 0.0392256 (0)\ttotal: 37.5ms\tremaining: 37.5s\n",
      "200:\tlearn: 0.1761450\ttest: 0.1759944\tbest: 0.1765774 (190)\ttotal: 7.14s\tremaining: 28.4s\n",
      "400:\tlearn: 0.1842021\ttest: 0.1762013\tbest: 0.1770677 (260)\ttotal: 14.2s\tremaining: 21.2s\n",
      "600:\tlearn: 0.1892525\ttest: 0.1758834\tbest: 0.1770677 (260)\ttotal: 21.4s\tremaining: 14.2s\n",
      "800:\tlearn: 0.1925491\ttest: 0.1759285\tbest: 0.1770677 (260)\ttotal: 28.4s\tremaining: 7.05s\n",
      "999:\tlearn: 0.1947561\ttest: 0.1746075\tbest: 0.1770677 (260)\ttotal: 35.6s\tremaining: 0us\n",
      "bestTest = 0.1770676772\n",
      "bestIteration = 260\n",
      "Shrink model to first 261 iterations.\n"
     ]
    },
    {
     "name": "stderr",
     "output_type": "stream",
     "text": [
      "/usr/local/lib/python3.11/dist-packages/catboost/core.py:2311: UserWarning: Failed to import numba for optimizing custom metrics and objectives\n",
      "  _check_train_params(params)\n",
      "Default metric period is 5 because PythonUserDefinedPerObject is/are not implemented for GPU\n"
     ]
    },
    {
     "name": "stdout",
     "output_type": "stream",
     "text": [
      "0:\tlearn: 0.0302481\ttest: 0.0215900\tbest: 0.0215900 (0)\ttotal: 38.8ms\tremaining: 38.7s\n",
      "200:\tlearn: 0.1774341\ttest: 0.1431264\tbest: 0.1431264 (200)\ttotal: 7.11s\tremaining: 28.3s\n",
      "400:\tlearn: 0.1854246\ttest: 0.1503266\tbest: 0.1503266 (400)\ttotal: 14.5s\tremaining: 21.6s\n",
      "600:\tlearn: 0.1898103\ttest: 0.1563356\tbest: 0.1563356 (600)\ttotal: 21.7s\tremaining: 14.4s\n",
      "800:\tlearn: 0.1927889\ttest: 0.1585380\tbest: 0.1585380 (800)\ttotal: 28.9s\tremaining: 7.19s\n",
      "999:\tlearn: 0.1946810\ttest: 0.1583486\tbest: 0.1590224 (915)\ttotal: 36.4s\tremaining: 0us\n",
      "bestTest = 0.1590223593\n",
      "bestIteration = 915\n",
      "Shrink model to first 916 iterations.\n"
     ]
    },
    {
     "name": "stderr",
     "output_type": "stream",
     "text": [
      "/usr/local/lib/python3.11/dist-packages/catboost/core.py:2311: UserWarning: Failed to import numba for optimizing custom metrics and objectives\n",
      "  _check_train_params(params)\n",
      "Default metric period is 5 because PythonUserDefinedPerObject is/are not implemented for GPU\n"
     ]
    },
    {
     "name": "stdout",
     "output_type": "stream",
     "text": [
      "0:\tlearn: 0.0278139\ttest: 0.0308909\tbest: 0.0308909 (0)\ttotal: 35.4ms\tremaining: 35.4s\n",
      "200:\tlearn: 0.1766904\ttest: 0.1753539\tbest: 0.1753539 (200)\ttotal: 7.46s\tremaining: 29.7s\n",
      "400:\tlearn: 0.1846332\ttest: 0.1757911\tbest: 0.1759446 (395)\ttotal: 14.8s\tremaining: 22.1s\n",
      "600:\tlearn: 0.1892927\ttest: 0.1753617\tbest: 0.1762317 (470)\ttotal: 21.8s\tremaining: 14.5s\n",
      "800:\tlearn: 0.1922431\ttest: 0.1756431\tbest: 0.1762317 (470)\ttotal: 28.6s\tremaining: 7.12s\n",
      "999:\tlearn: 0.1945331\ttest: 0.1748766\tbest: 0.1762317 (470)\ttotal: 36s\tremaining: 0us\n",
      "bestTest = 0.1762317438\n",
      "bestIteration = 470\n",
      "Shrink model to first 471 iterations.\n"
     ]
    },
    {
     "name": "stderr",
     "output_type": "stream",
     "text": [
      "/usr/local/lib/python3.11/dist-packages/catboost/core.py:2311: UserWarning: Failed to import numba for optimizing custom metrics and objectives\n",
      "  _check_train_params(params)\n",
      "Default metric period is 5 because PythonUserDefinedPerObject is/are not implemented for GPU\n"
     ]
    },
    {
     "name": "stdout",
     "output_type": "stream",
     "text": [
      "0:\tlearn: 0.0286892\ttest: 0.0276001\tbest: 0.0276001 (0)\ttotal: 37.9ms\tremaining: 37.8s\n",
      "200:\tlearn: 0.1757490\ttest: 0.1633765\tbest: 0.1633943 (190)\ttotal: 7.03s\tremaining: 27.9s\n",
      "400:\tlearn: 0.1841716\ttest: 0.1680982\tbest: 0.1682363 (395)\ttotal: 14.2s\tremaining: 21.2s\n",
      "600:\tlearn: 0.1894483\ttest: 0.1691603\tbest: 0.1694090 (575)\ttotal: 21.2s\tremaining: 14.1s\n",
      "800:\tlearn: 0.1925440\ttest: 0.1699668\tbest: 0.1699668 (800)\ttotal: 28.5s\tremaining: 7.09s\n",
      "999:\tlearn: 0.1946599\ttest: 0.1711487\tbest: 0.1714070 (975)\ttotal: 35.7s\tremaining: 0us\n",
      "bestTest = 0.1714070227\n",
      "bestIteration = 975\n",
      "Shrink model to first 976 iterations.\n"
     ]
    },
    {
     "name": "stderr",
     "output_type": "stream",
     "text": [
      "/usr/local/lib/python3.11/dist-packages/catboost/core.py:2311: UserWarning: Failed to import numba for optimizing custom metrics and objectives\n",
      "  _check_train_params(params)\n",
      "Default metric period is 5 because PythonUserDefinedPerObject is/are not implemented for GPU\n"
     ]
    },
    {
     "name": "stdout",
     "output_type": "stream",
     "text": [
      "0:\tlearn: 0.0290801\ttest: 0.0258610\tbest: 0.0258610 (0)\ttotal: 39.8ms\tremaining: 39.7s\n",
      "200:\tlearn: 0.1778185\ttest: 0.1460303\tbest: 0.1466810 (190)\ttotal: 7.13s\tremaining: 28.4s\n",
      "400:\tlearn: 0.1864046\ttest: 0.1511416\tbest: 0.1512514 (390)\ttotal: 14.3s\tremaining: 21.3s\n",
      "600:\tlearn: 0.1914800\ttest: 0.1556895\tbest: 0.1556895 (600)\ttotal: 21.7s\tremaining: 14.4s\n",
      "800:\tlearn: 0.1948412\ttest: 0.1581504\tbest: 0.1581504 (800)\ttotal: 28.8s\tremaining: 7.17s\n",
      "999:\tlearn: 0.1966900\ttest: 0.1596003\tbest: 0.1596611 (995)\ttotal: 35.9s\tremaining: 0us\n",
      "bestTest = 0.1596611047\n",
      "bestIteration = 995\n",
      "Shrink model to first 996 iterations.\n",
      "Total Score 0.16867791238294777\n"
     ]
    }
   ],
   "source": [
    "model.fit(\n",
    "    train_data=train_data,\n",
    "    cat_features=cat_cols,\n",
    "    drop_cols=drop_cols,\n",
    "    label_col=label_col,\n",
    "    verbose=200,\n",
    ")"
   ]
  },
  {
   "cell_type": "code",
   "execution_count": null,
   "id": "501a2fa3-dd94-46fb-b14c-c615c648d852",
   "metadata": {},
   "outputs": [],
   "source": []
  }
 ],
 "metadata": {
  "kernelspec": {
   "display_name": "Python 3 (ipykernel)",
   "language": "python",
   "name": "python3"
  },
  "language_info": {
   "codemirror_mode": {
    "name": "ipython",
    "version": 3
   },
   "file_extension": ".py",
   "mimetype": "text/x-python",
   "name": "python",
   "nbconvert_exporter": "python",
   "pygments_lexer": "ipython3",
   "version": "3.11.7"
  }
 },
 "nbformat": 4,
 "nbformat_minor": 5
}
