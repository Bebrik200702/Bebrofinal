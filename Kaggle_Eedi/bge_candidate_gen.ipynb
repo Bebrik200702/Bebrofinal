{
 "cells": [
  {
   "cell_type": "code",
   "execution_count": 2,
   "id": "82d3c1ec",
   "metadata": {
    "papermill": {
     "duration": 5.007275,
     "end_time": "2024-09-14T19:24:12.045547",
     "exception": false,
     "start_time": "2024-09-14T19:24:07.038272",
     "status": "completed"
    },
    "tags": []
   },
   "outputs": [],
   "source": [
    "import pandas as pd\n",
    "import numpy as np\n",
    "from transformers import AutoModel, AutoTokenizer\n",
    "import faiss\n",
    "import torch\n",
    "from tqdm.auto import trange\n",
    "import torch.functional as F"
   ]
  },
  {
   "cell_type": "code",
   "execution_count": 3,
   "id": "631e2544",
   "metadata": {
    "papermill": {
     "duration": 0.017009,
     "end_time": "2024-09-14T19:24:12.069529",
     "exception": false,
     "start_time": "2024-09-14T19:24:12.052520",
     "status": "completed"
    },
    "tags": []
   },
   "outputs": [],
   "source": [
    "def apk(actual, predicted, k=10):\n",
    "    \n",
    "    if len(predicted)>k:\n",
    "        predicted = predicted[:k]\n",
    "\n",
    "    score = 0.0\n",
    "    num_hits = 0.0\n",
    "\n",
    "    for i,p in enumerate(predicted):\n",
    "        if p in actual and p not in predicted[:i]:\n",
    "            num_hits += 1.0\n",
    "            score += num_hits / (i+1.0)\n",
    "\n",
    "    if not actual:\n",
    "        return 0.0\n",
    "\n",
    "    return score / min(len(actual), k)\n",
    "\n",
    "def mapk(actual, predicted, k=10):\n",
    "    return np.mean([apk(a,p,k) for a,p in zip(actual, predicted)])"
   ]
  },
  {
   "cell_type": "code",
   "execution_count": 4,
   "id": "f8d8e916",
   "metadata": {
    "papermill": {
     "duration": 0.070353,
     "end_time": "2024-09-14T19:24:12.146459",
     "exception": false,
     "start_time": "2024-09-14T19:24:12.076106",
     "status": "completed"
    },
    "tags": []
   },
   "outputs": [],
   "source": [
    "train_data = pd.read_csv('./eedi-mining-misconceptions-in-mathematics/train.csv')\n",
    "test_data = pd.read_csv('./eedi-mining-misconceptions-in-mathematics/test.csv')\n",
    "simple_sub = pd.read_csv('./eedi-mining-misconceptions-in-mathematics/sample_submission.csv')\n",
    "misconcpts = pd.read_csv('./eedi-mining-misconceptions-in-mathematics/misconception_mapping.csv')"
   ]
  },
  {
   "cell_type": "code",
   "execution_count": 5,
   "id": "33e1a21c",
   "metadata": {
    "papermill": {
     "duration": 0.022193,
     "end_time": "2024-09-14T19:24:12.175402",
     "exception": false,
     "start_time": "2024-09-14T19:24:12.153209",
     "status": "completed"
    },
    "tags": []
   },
   "outputs": [],
   "source": [
    "def mean_pooling(model_output, attention_mask):\n",
    "    token_embeddings = model_output[0] #First element of model_output contains all token embeddings\n",
    "    input_mask_expanded = attention_mask.unsqueeze(-1).expand(token_embeddings.size()).float()\n",
    "    return torch.sum(token_embeddings * input_mask_expanded, 1) / torch.clamp(input_mask_expanded.sum(1), min=1e-9)\n",
    "\n",
    "\n",
    "@torch.no_grad()\n",
    "def create_embeds(texts,model,tokenizer,batch_size=64,max_length=1024):\n",
    "    features = []\n",
    "    for i in trange(len(texts) // batch_size + 1):\n",
    "        encs = tokenizer(\n",
    "            texts[i*batch_size:(i+1)*batch_size],\n",
    "            truncation=True,\n",
    "            padding='longest',\n",
    "            max_length=max_length,\n",
    "            return_tensors='pt'\n",
    "        )\n",
    "        encs['input_ids'] = encs['input_ids'].cuda()\n",
    "        encs['attention_mask'] = encs['attention_mask'].cuda()\n",
    "        if 'token_type_ids' in encs.keys():\n",
    "            encs['token_type_ids'] = encs['token_type_ids'].cuda()\n",
    "        model_output = model(**encs)\n",
    "        embeds = mean_pooling(model_output, encs['attention_mask'])\n",
    "        embeds = torch.nn.functional.normalize(embeds, p=2, dim=1).detach().cpu().numpy()\n",
    "        features.append(embeds)\n",
    "    return np.concatenate(features,dtype=np.float32)\n",
    "\n",
    "@torch.no_grad()\n",
    "def encode_sentence(text,model,tokenizer,max_length=1024):\n",
    "    encs = tokenizer.encode_plus(\n",
    "        text,\n",
    "        truncation=True,\n",
    "        padding=False,\n",
    "        max_length=max_length,\n",
    "        return_tensors='pt'\n",
    "    )\n",
    "    encs['input_ids'] = encs['input_ids'].cuda()\n",
    "    encs['attention_mask'] = encs['attention_mask'].cuda()\n",
    "    model_output = model(**encs)\n",
    "    embeds = mean_pooling(model_output, encs['attention_mask'])\n",
    "    embeds = torch.nn.functional.normalize(embeds, p=2, dim=1).detach().cpu().numpy()\n",
    "    return np.array(embeds[0],dtype=np.float32)"
   ]
  },
  {
   "cell_type": "code",
   "execution_count": 6,
   "id": "967adccb",
   "metadata": {
    "papermill": {
     "duration": 10.725948,
     "end_time": "2024-09-14T19:24:22.907858",
     "exception": false,
     "start_time": "2024-09-14T19:24:12.181910",
     "status": "completed"
    },
    "tags": []
   },
   "outputs": [],
   "source": [
    "encoder = AutoModel.from_pretrained('BAAI/bge-large-en-v1.5').cuda()\n",
    "tokenizer = AutoTokenizer.from_pretrained('BAAI/bge-large-en-v1.5')"
   ]
  },
  {
   "cell_type": "code",
   "execution_count": 7,
   "id": "9a986a65",
   "metadata": {
    "papermill": {
     "duration": 9.79164,
     "end_time": "2024-09-14T19:24:32.706421",
     "exception": false,
     "start_time": "2024-09-14T19:24:22.914781",
     "status": "completed"
    },
    "tags": []
   },
   "outputs": [
    {
     "data": {
      "application/vnd.jupyter.widget-view+json": {
       "model_id": "084e68cb4b8f4a839390a5912cf84edb",
       "version_major": 2,
       "version_minor": 0
      },
      "text/plain": [
       "  0%|          | 0/41 [00:00<?, ?it/s]"
      ]
     },
     "metadata": {},
     "output_type": "display_data"
    }
   ],
   "source": [
    "features = create_embeds(misconcpts['MisconceptionName'].tolist(),encoder,tokenizer,batch_size=64)"
   ]
  },
  {
   "cell_type": "code",
   "execution_count": 8,
   "id": "441624b4",
   "metadata": {
    "papermill": {
     "duration": 0.32451,
     "end_time": "2024-09-14T19:24:33.038089",
     "exception": false,
     "start_time": "2024-09-14T19:24:32.713579",
     "status": "completed"
    },
    "tags": []
   },
   "outputs": [
    {
     "data": {
      "text/plain": [
       "2587"
      ]
     },
     "execution_count": 8,
     "metadata": {},
     "output_type": "execute_result"
    }
   ],
   "source": [
    "index = faiss.IndexFlatIP(features.shape[1]) #use faiss.IndexFlatL2 for l2 distance\n",
    "faiss.normalize_L2(features)\n",
    "index.add(features)\n",
    "#res = faiss.StandardGpuResources()\n",
    "#index = faiss.index_cpu_to_gpu(res, 0, index)\n",
    "index.ntotal"
   ]
  },
  {
   "cell_type": "markdown",
   "id": "b755e917",
   "metadata": {
    "papermill": {
     "duration": 0.006684,
     "end_time": "2024-09-14T19:24:33.051737",
     "exception": false,
     "start_time": "2024-09-14T19:24:33.045053",
     "status": "completed"
    },
    "tags": []
   },
   "source": [
    "## Validate"
   ]
  },
  {
   "cell_type": "code",
   "execution_count": 9,
   "id": "258c3a7b",
   "metadata": {
    "papermill": {
     "duration": 0.018638,
     "end_time": "2024-09-14T19:24:33.077216",
     "exception": false,
     "start_time": "2024-09-14T19:24:33.058578",
     "status": "completed"
    },
    "tags": []
   },
   "outputs": [],
   "source": [
    "def prepare_data(df):\n",
    "    df_melted = df.melt(\n",
    "        id_vars = ['QuestionId','ConstructName','SubjectName','QuestionText','CorrectAnswer'],\n",
    "        value_vars = ['AnswerAText', 'AnswerBText', 'AnswerCText', 'AnswerDText'],\n",
    "        value_name = 'answer_value',\n",
    "        var_name = 'answer_id'\n",
    "    )\n",
    "    return df_melted\n",
    "\n",
    "def set_labels(df,df_prepared):\n",
    "    df_melted = df.melt(\n",
    "        id_vars = ['QuestionId'],\n",
    "        value_vars = ['MisconceptionAId', 'MisconceptionBId', 'MisconceptionCId', 'MisconceptionDId'],\n",
    "        value_name = 'misconcpts_id',\n",
    "        var_name = 'answer_id'\n",
    "    )\n",
    "    df_melted['all_index'] = df_melted.apply(lambda x: f'{x.QuestionId}_{x.answer_id}',axis=1)\n",
    "    df_prepared['all_index'] = df_prepared.apply(lambda x: f'{x.QuestionId}_{x.answer_id}',axis=1)\n",
    "    df_melted = df_melted.drop(['QuestionId','answer_id'],axis=1)\n",
    "    df_melted.set_index('all_index')\n",
    "    df_prepared.set_index('all_index')\n",
    "    return pd.concat([df_prepared,df_melted],axis=1).drop(['all_index'],axis=1).dropna()\n",
    "\n",
    "def parse_request(x):\n",
    "    x = x.fillna('')\n",
    "    return f\"{x.answer_value}  {x.ConstructName} {x.QuestionText} {x.answer_value}\""
   ]
  },
  {
   "cell_type": "code",
   "execution_count": 10,
   "id": "deed9c63",
   "metadata": {
    "papermill": {
     "duration": 0.013251,
     "end_time": "2024-09-14T19:24:33.097243",
     "exception": false,
     "start_time": "2024-09-14T19:24:33.083992",
     "status": "completed"
    },
    "tags": []
   },
   "outputs": [],
   "source": [
    "melted_train = prepare_data(train_data)\n",
    "melted_train = set_labels(train_data,melted_train)\n",
    "melted_train['request'] = melted_train.apply(parse_request,axis=1)"
   ]
  },
  {
   "cell_type": "code",
   "execution_count": null,
   "id": "ac98455b",
   "metadata": {
    "papermill": {
     "duration": 0.013117,
     "end_time": "2024-09-14T19:24:33.117128",
     "exception": false,
     "start_time": "2024-09-14T19:24:33.104011",
     "status": "completed"
    },
    "tags": []
   },
   "outputs": [
    {
     "data": {
      "application/vnd.jupyter.widget-view+json": {
       "model_id": "ca0d58beb8d24abf813b80edaac5068f",
       "version_major": 2,
       "version_minor": 0
      },
      "text/plain": [
       "  0%|          | 0/69 [00:00<?, ?it/s]"
      ]
     },
     "metadata": {},
     "output_type": "display_data"
    }
   ],
   "source": [
    "train_requests = create_embeds(melted_train['request'].tolist(),encoder,tokenizer,batch_size=64,max_length=512)"
   ]
  },
  {
   "cell_type": "code",
   "execution_count": 11,
   "id": "c8b9b3cb",
   "metadata": {
    "papermill": {
     "duration": 0.013649,
     "end_time": "2024-09-14T19:24:33.137537",
     "exception": false,
     "start_time": "2024-09-14T19:24:33.123888",
     "status": "completed"
    },
    "tags": []
   },
   "outputs": [],
   "source": [
    "faiss.normalize_L2(train_requests)\n",
    "D,I = index.search(train_requests,k=25)"
   ]
  },
  {
   "cell_type": "code",
   "execution_count": 12,
   "id": "591c5594",
   "metadata": {
    "papermill": {
     "duration": 0.013445,
     "end_time": "2024-09-14T19:24:33.157743",
     "exception": false,
     "start_time": "2024-09-14T19:24:33.144298",
     "status": "completed"
    },
    "tags": []
   },
   "outputs": [],
   "source": [
    "melted_train['top25_candidates'] = [x.tolist() for x in I]\n",
    "melted_train['top25_scores'] = [x.tolist() for x in D]\n",
    "melted_train['id_in_candidates'] = melted_train.apply(lambda x: int(x.misconcpts_id) in x.top25_candidates,axis=1).astype(np.int16)"
   ]
  },
  {
   "cell_type": "code",
   "execution_count": 13,
   "id": "a23c3766",
   "metadata": {
    "papermill": {
     "duration": 0.01342,
     "end_time": "2024-09-14T19:24:33.178109",
     "exception": false,
     "start_time": "2024-09-14T19:24:33.164689",
     "status": "completed"
    },
    "tags": []
   },
   "outputs": [
    {
     "data": {
      "text/plain": [
       "0.5480549199084668"
      ]
     },
     "execution_count": 13,
     "metadata": {},
     "output_type": "execute_result"
    }
   ],
   "source": [
    "melted_train['id_in_candidates'].sum() / melted_train['id_in_candidates'].shape[0]"
   ]
  },
  {
   "cell_type": "code",
   "execution_count": 14,
   "id": "0d4f91c0",
   "metadata": {
    "papermill": {
     "duration": 0.014628,
     "end_time": "2024-09-14T19:24:33.200025",
     "exception": false,
     "start_time": "2024-09-14T19:24:33.185397",
     "status": "completed"
    },
    "tags": []
   },
   "outputs": [
    {
     "data": {
      "text/plain": [
       "0.20027823392615068"
      ]
     },
     "execution_count": 14,
     "metadata": {},
     "output_type": "execute_result"
    }
   ],
   "source": [
    "mapk(\n",
    "    actual = melted_train['misconcpts_id'].astype(np.int16).values.reshape(-1,1).tolist(),\n",
    "    predicted =  melted_train['top25_candidates'].tolist(),\n",
    "    k=25\n",
    ")"
   ]
  },
  {
   "cell_type": "code",
   "execution_count": 15,
   "id": "45762294-11b7-4207-a864-1861d30995fc",
   "metadata": {
    "tags": []
   },
   "outputs": [],
   "source": [
    "melted_train.to_parquet('candidates_bge_large.parquet')"
   ]
  },
  {
   "cell_type": "code",
   "execution_count": null,
   "id": "fbb4b73e-7669-4677-89e9-a1865920c1f7",
   "metadata": {},
   "outputs": [],
   "source": []
  }
 ],
 "metadata": {
  "kaggle": {
   "accelerator": "gpu",
   "dataSources": [
    {
     "databundleVersionId": 9551816,
     "sourceId": 82695,
     "sourceType": "competition"
    },
    {
     "datasetId": 3238926,
     "sourceId": 5632975,
     "sourceType": "datasetVersion"
    },
    {
     "datasetId": 5702661,
     "sourceId": 9396119,
     "sourceType": "datasetVersion"
    }
   ],
   "dockerImageVersionId": 30762,
   "isGpuEnabled": true,
   "isInternetEnabled": false,
   "language": "python",
   "sourceType": "notebook"
  },
  "kernelspec": {
   "display_name": "Python 3 (ipykernel)",
   "language": "python",
   "name": "python3"
  },
  "language_info": {
   "codemirror_mode": {
    "name": "ipython",
    "version": 3
   },
   "file_extension": ".py",
   "mimetype": "text/x-python",
   "name": "python",
   "nbconvert_exporter": "python",
   "pygments_lexer": "ipython3",
   "version": "3.11.7"
  },
  "papermill": {
   "default_parameters": {},
   "duration": 66.570326,
   "end_time": "2024-09-14T19:24:35.030428",
   "environment_variables": {},
   "exception": null,
   "input_path": "__notebook__.ipynb",
   "output_path": "__notebook__.ipynb",
   "parameters": {},
   "start_time": "2024-09-14T19:23:28.460102",
   "version": "2.6.0"
  },
  "widgets": {
   "application/vnd.jupyter.widget-state+json": {
    "state": {
     "07724f3145a14adb9b2b7b63273c9079": {
      "model_module": "@jupyter-widgets/controls",
      "model_module_version": "1.5.0",
      "model_name": "HTMLModel",
      "state": {
       "_dom_classes": [],
       "_model_module": "@jupyter-widgets/controls",
       "_model_module_version": "1.5.0",
       "_model_name": "HTMLModel",
       "_view_count": null,
       "_view_module": "@jupyter-widgets/controls",
       "_view_module_version": "1.5.0",
       "_view_name": "HTMLView",
       "description": "",
       "description_tooltip": null,
       "layout": "IPY_MODEL_2b487aec1b7c4b24adf6a18dcdbbee33",
       "placeholder": "​",
       "style": "IPY_MODEL_74a83bd0909b46eebbb6125772e0ff2f",
       "value": " 1/1 [00:00&lt;00:00,  7.39it/s]"
      }
     },
     "19667031ff0a48b193e1684b50cc60a4": {
      "model_module": "@jupyter-widgets/controls",
      "model_module_version": "1.5.0",
      "model_name": "ProgressStyleModel",
      "state": {
       "_model_module": "@jupyter-widgets/controls",
       "_model_module_version": "1.5.0",
       "_model_name": "ProgressStyleModel",
       "_view_count": null,
       "_view_module": "@jupyter-widgets/base",
       "_view_module_version": "1.2.0",
       "_view_name": "StyleView",
       "bar_color": null,
       "description_width": ""
      }
     },
     "1b6ff63bccc6411eab418da6d8ee33a3": {
      "model_module": "@jupyter-widgets/controls",
      "model_module_version": "1.5.0",
      "model_name": "HBoxModel",
      "state": {
       "_dom_classes": [],
       "_model_module": "@jupyter-widgets/controls",
       "_model_module_version": "1.5.0",
       "_model_name": "HBoxModel",
       "_view_count": null,
       "_view_module": "@jupyter-widgets/controls",
       "_view_module_version": "1.5.0",
       "_view_name": "HBoxView",
       "box_style": "",
       "children": [
        "IPY_MODEL_e22cd4bbd6a040d0a7afe7046b8b4c00",
        "IPY_MODEL_22ea47b91a5347eca9d0389da6a784b0",
        "IPY_MODEL_2e1d8290775147cda7d46011f20dcf35"
       ],
       "layout": "IPY_MODEL_e97f01f3421e41cd959f4c87de424b5d"
      }
     },
     "22ea47b91a5347eca9d0389da6a784b0": {
      "model_module": "@jupyter-widgets/controls",
      "model_module_version": "1.5.0",
      "model_name": "FloatProgressModel",
      "state": {
       "_dom_classes": [],
       "_model_module": "@jupyter-widgets/controls",
       "_model_module_version": "1.5.0",
       "_model_name": "FloatProgressModel",
       "_view_count": null,
       "_view_module": "@jupyter-widgets/controls",
       "_view_module_version": "1.5.0",
       "_view_name": "ProgressView",
       "bar_style": "success",
       "description": "",
       "description_tooltip": null,
       "layout": "IPY_MODEL_63fb2ac467e4454a954bf844f1547f43",
       "max": 41,
       "min": 0,
       "orientation": "horizontal",
       "style": "IPY_MODEL_2333b26042184ff68b2e5c055cf59d85",
       "value": 41
      }
     },
     "2333b26042184ff68b2e5c055cf59d85": {
      "model_module": "@jupyter-widgets/controls",
      "model_module_version": "1.5.0",
      "model_name": "ProgressStyleModel",
      "state": {
       "_model_module": "@jupyter-widgets/controls",
       "_model_module_version": "1.5.0",
       "_model_name": "ProgressStyleModel",
       "_view_count": null,
       "_view_module": "@jupyter-widgets/base",
       "_view_module_version": "1.2.0",
       "_view_name": "StyleView",
       "bar_color": null,
       "description_width": ""
      }
     },
     "2b487aec1b7c4b24adf6a18dcdbbee33": {
      "model_module": "@jupyter-widgets/base",
      "model_module_version": "1.2.0",
      "model_name": "LayoutModel",
      "state": {
       "_model_module": "@jupyter-widgets/base",
       "_model_module_version": "1.2.0",
       "_model_name": "LayoutModel",
       "_view_count": null,
       "_view_module": "@jupyter-widgets/base",
       "_view_module_version": "1.2.0",
       "_view_name": "LayoutView",
       "align_content": null,
       "align_items": null,
       "align_self": null,
       "border": null,
       "bottom": null,
       "display": null,
       "flex": null,
       "flex_flow": null,
       "grid_area": null,
       "grid_auto_columns": null,
       "grid_auto_flow": null,
       "grid_auto_rows": null,
       "grid_column": null,
       "grid_gap": null,
       "grid_row": null,
       "grid_template_areas": null,
       "grid_template_columns": null,
       "grid_template_rows": null,
       "height": null,
       "justify_content": null,
       "justify_items": null,
       "left": null,
       "margin": null,
       "max_height": null,
       "max_width": null,
       "min_height": null,
       "min_width": null,
       "object_fit": null,
       "object_position": null,
       "order": null,
       "overflow": null,
       "overflow_x": null,
       "overflow_y": null,
       "padding": null,
       "right": null,
       "top": null,
       "visibility": null,
       "width": null
      }
     },
     "2e1d8290775147cda7d46011f20dcf35": {
      "model_module": "@jupyter-widgets/controls",
      "model_module_version": "1.5.0",
      "model_name": "HTMLModel",
      "state": {
       "_dom_classes": [],
       "_model_module": "@jupyter-widgets/controls",
       "_model_module_version": "1.5.0",
       "_model_name": "HTMLModel",
       "_view_count": null,
       "_view_module": "@jupyter-widgets/controls",
       "_view_module_version": "1.5.0",
       "_view_name": "HTMLView",
       "description": "",
       "description_tooltip": null,
       "layout": "IPY_MODEL_94915fec6228442db68676062335b57e",
       "placeholder": "​",
       "style": "IPY_MODEL_a5852aa94d7d4b87bde062d4a917842a",
       "value": " 41/41 [00:09&lt;00:00,  4.74it/s]"
      }
     },
     "421ae8d3cf2c44039451c4e47a06091c": {
      "model_module": "@jupyter-widgets/controls",
      "model_module_version": "1.5.0",
      "model_name": "HBoxModel",
      "state": {
       "_dom_classes": [],
       "_model_module": "@jupyter-widgets/controls",
       "_model_module_version": "1.5.0",
       "_model_name": "HBoxModel",
       "_view_count": null,
       "_view_module": "@jupyter-widgets/controls",
       "_view_module_version": "1.5.0",
       "_view_name": "HBoxView",
       "box_style": "",
       "children": [
        "IPY_MODEL_6c771eff491e43ceb8fa87c79526c597",
        "IPY_MODEL_fd357698bfe9449ab30c849a4d5ca200",
        "IPY_MODEL_07724f3145a14adb9b2b7b63273c9079"
       ],
       "layout": "IPY_MODEL_5c9b9b31874e4c679816159b5d530162"
      }
     },
     "468713654fbd4aa6a36c1c51b47a5de7": {
      "model_module": "@jupyter-widgets/controls",
      "model_module_version": "1.5.0",
      "model_name": "DescriptionStyleModel",
      "state": {
       "_model_module": "@jupyter-widgets/controls",
       "_model_module_version": "1.5.0",
       "_model_name": "DescriptionStyleModel",
       "_view_count": null,
       "_view_module": "@jupyter-widgets/base",
       "_view_module_version": "1.2.0",
       "_view_name": "StyleView",
       "description_width": ""
      }
     },
     "5c9b9b31874e4c679816159b5d530162": {
      "model_module": "@jupyter-widgets/base",
      "model_module_version": "1.2.0",
      "model_name": "LayoutModel",
      "state": {
       "_model_module": "@jupyter-widgets/base",
       "_model_module_version": "1.2.0",
       "_model_name": "LayoutModel",
       "_view_count": null,
       "_view_module": "@jupyter-widgets/base",
       "_view_module_version": "1.2.0",
       "_view_name": "LayoutView",
       "align_content": null,
       "align_items": null,
       "align_self": null,
       "border": null,
       "bottom": null,
       "display": null,
       "flex": null,
       "flex_flow": null,
       "grid_area": null,
       "grid_auto_columns": null,
       "grid_auto_flow": null,
       "grid_auto_rows": null,
       "grid_column": null,
       "grid_gap": null,
       "grid_row": null,
       "grid_template_areas": null,
       "grid_template_columns": null,
       "grid_template_rows": null,
       "height": null,
       "justify_content": null,
       "justify_items": null,
       "left": null,
       "margin": null,
       "max_height": null,
       "max_width": null,
       "min_height": null,
       "min_width": null,
       "object_fit": null,
       "object_position": null,
       "order": null,
       "overflow": null,
       "overflow_x": null,
       "overflow_y": null,
       "padding": null,
       "right": null,
       "top": null,
       "visibility": null,
       "width": null
      }
     },
     "63fb2ac467e4454a954bf844f1547f43": {
      "model_module": "@jupyter-widgets/base",
      "model_module_version": "1.2.0",
      "model_name": "LayoutModel",
      "state": {
       "_model_module": "@jupyter-widgets/base",
       "_model_module_version": "1.2.0",
       "_model_name": "LayoutModel",
       "_view_count": null,
       "_view_module": "@jupyter-widgets/base",
       "_view_module_version": "1.2.0",
       "_view_name": "LayoutView",
       "align_content": null,
       "align_items": null,
       "align_self": null,
       "border": null,
       "bottom": null,
       "display": null,
       "flex": null,
       "flex_flow": null,
       "grid_area": null,
       "grid_auto_columns": null,
       "grid_auto_flow": null,
       "grid_auto_rows": null,
       "grid_column": null,
       "grid_gap": null,
       "grid_row": null,
       "grid_template_areas": null,
       "grid_template_columns": null,
       "grid_template_rows": null,
       "height": null,
       "justify_content": null,
       "justify_items": null,
       "left": null,
       "margin": null,
       "max_height": null,
       "max_width": null,
       "min_height": null,
       "min_width": null,
       "object_fit": null,
       "object_position": null,
       "order": null,
       "overflow": null,
       "overflow_x": null,
       "overflow_y": null,
       "padding": null,
       "right": null,
       "top": null,
       "visibility": null,
       "width": null
      }
     },
     "6c771eff491e43ceb8fa87c79526c597": {
      "model_module": "@jupyter-widgets/controls",
      "model_module_version": "1.5.0",
      "model_name": "HTMLModel",
      "state": {
       "_dom_classes": [],
       "_model_module": "@jupyter-widgets/controls",
       "_model_module_version": "1.5.0",
       "_model_name": "HTMLModel",
       "_view_count": null,
       "_view_module": "@jupyter-widgets/controls",
       "_view_module_version": "1.5.0",
       "_view_name": "HTMLView",
       "description": "",
       "description_tooltip": null,
       "layout": "IPY_MODEL_c75afabcf17649ee86aa439c13a1e3fa",
       "placeholder": "​",
       "style": "IPY_MODEL_468713654fbd4aa6a36c1c51b47a5de7",
       "value": "100%"
      }
     },
     "74a83bd0909b46eebbb6125772e0ff2f": {
      "model_module": "@jupyter-widgets/controls",
      "model_module_version": "1.5.0",
      "model_name": "DescriptionStyleModel",
      "state": {
       "_model_module": "@jupyter-widgets/controls",
       "_model_module_version": "1.5.0",
       "_model_name": "DescriptionStyleModel",
       "_view_count": null,
       "_view_module": "@jupyter-widgets/base",
       "_view_module_version": "1.2.0",
       "_view_name": "StyleView",
       "description_width": ""
      }
     },
     "804530133003405a8b416d97b839ed54": {
      "model_module": "@jupyter-widgets/controls",
      "model_module_version": "1.5.0",
      "model_name": "DescriptionStyleModel",
      "state": {
       "_model_module": "@jupyter-widgets/controls",
       "_model_module_version": "1.5.0",
       "_model_name": "DescriptionStyleModel",
       "_view_count": null,
       "_view_module": "@jupyter-widgets/base",
       "_view_module_version": "1.2.0",
       "_view_name": "StyleView",
       "description_width": ""
      }
     },
     "94915fec6228442db68676062335b57e": {
      "model_module": "@jupyter-widgets/base",
      "model_module_version": "1.2.0",
      "model_name": "LayoutModel",
      "state": {
       "_model_module": "@jupyter-widgets/base",
       "_model_module_version": "1.2.0",
       "_model_name": "LayoutModel",
       "_view_count": null,
       "_view_module": "@jupyter-widgets/base",
       "_view_module_version": "1.2.0",
       "_view_name": "LayoutView",
       "align_content": null,
       "align_items": null,
       "align_self": null,
       "border": null,
       "bottom": null,
       "display": null,
       "flex": null,
       "flex_flow": null,
       "grid_area": null,
       "grid_auto_columns": null,
       "grid_auto_flow": null,
       "grid_auto_rows": null,
       "grid_column": null,
       "grid_gap": null,
       "grid_row": null,
       "grid_template_areas": null,
       "grid_template_columns": null,
       "grid_template_rows": null,
       "height": null,
       "justify_content": null,
       "justify_items": null,
       "left": null,
       "margin": null,
       "max_height": null,
       "max_width": null,
       "min_height": null,
       "min_width": null,
       "object_fit": null,
       "object_position": null,
       "order": null,
       "overflow": null,
       "overflow_x": null,
       "overflow_y": null,
       "padding": null,
       "right": null,
       "top": null,
       "visibility": null,
       "width": null
      }
     },
     "9f28358b7357452b9c2ca58ee5220e7d": {
      "model_module": "@jupyter-widgets/base",
      "model_module_version": "1.2.0",
      "model_name": "LayoutModel",
      "state": {
       "_model_module": "@jupyter-widgets/base",
       "_model_module_version": "1.2.0",
       "_model_name": "LayoutModel",
       "_view_count": null,
       "_view_module": "@jupyter-widgets/base",
       "_view_module_version": "1.2.0",
       "_view_name": "LayoutView",
       "align_content": null,
       "align_items": null,
       "align_self": null,
       "border": null,
       "bottom": null,
       "display": null,
       "flex": null,
       "flex_flow": null,
       "grid_area": null,
       "grid_auto_columns": null,
       "grid_auto_flow": null,
       "grid_auto_rows": null,
       "grid_column": null,
       "grid_gap": null,
       "grid_row": null,
       "grid_template_areas": null,
       "grid_template_columns": null,
       "grid_template_rows": null,
       "height": null,
       "justify_content": null,
       "justify_items": null,
       "left": null,
       "margin": null,
       "max_height": null,
       "max_width": null,
       "min_height": null,
       "min_width": null,
       "object_fit": null,
       "object_position": null,
       "order": null,
       "overflow": null,
       "overflow_x": null,
       "overflow_y": null,
       "padding": null,
       "right": null,
       "top": null,
       "visibility": null,
       "width": null
      }
     },
     "a5852aa94d7d4b87bde062d4a917842a": {
      "model_module": "@jupyter-widgets/controls",
      "model_module_version": "1.5.0",
      "model_name": "DescriptionStyleModel",
      "state": {
       "_model_module": "@jupyter-widgets/controls",
       "_model_module_version": "1.5.0",
       "_model_name": "DescriptionStyleModel",
       "_view_count": null,
       "_view_module": "@jupyter-widgets/base",
       "_view_module_version": "1.2.0",
       "_view_name": "StyleView",
       "description_width": ""
      }
     },
     "acca19a5281b4674a8061ed72049ed3e": {
      "model_module": "@jupyter-widgets/base",
      "model_module_version": "1.2.0",
      "model_name": "LayoutModel",
      "state": {
       "_model_module": "@jupyter-widgets/base",
       "_model_module_version": "1.2.0",
       "_model_name": "LayoutModel",
       "_view_count": null,
       "_view_module": "@jupyter-widgets/base",
       "_view_module_version": "1.2.0",
       "_view_name": "LayoutView",
       "align_content": null,
       "align_items": null,
       "align_self": null,
       "border": null,
       "bottom": null,
       "display": null,
       "flex": null,
       "flex_flow": null,
       "grid_area": null,
       "grid_auto_columns": null,
       "grid_auto_flow": null,
       "grid_auto_rows": null,
       "grid_column": null,
       "grid_gap": null,
       "grid_row": null,
       "grid_template_areas": null,
       "grid_template_columns": null,
       "grid_template_rows": null,
       "height": null,
       "justify_content": null,
       "justify_items": null,
       "left": null,
       "margin": null,
       "max_height": null,
       "max_width": null,
       "min_height": null,
       "min_width": null,
       "object_fit": null,
       "object_position": null,
       "order": null,
       "overflow": null,
       "overflow_x": null,
       "overflow_y": null,
       "padding": null,
       "right": null,
       "top": null,
       "visibility": null,
       "width": null
      }
     },
     "c75afabcf17649ee86aa439c13a1e3fa": {
      "model_module": "@jupyter-widgets/base",
      "model_module_version": "1.2.0",
      "model_name": "LayoutModel",
      "state": {
       "_model_module": "@jupyter-widgets/base",
       "_model_module_version": "1.2.0",
       "_model_name": "LayoutModel",
       "_view_count": null,
       "_view_module": "@jupyter-widgets/base",
       "_view_module_version": "1.2.0",
       "_view_name": "LayoutView",
       "align_content": null,
       "align_items": null,
       "align_self": null,
       "border": null,
       "bottom": null,
       "display": null,
       "flex": null,
       "flex_flow": null,
       "grid_area": null,
       "grid_auto_columns": null,
       "grid_auto_flow": null,
       "grid_auto_rows": null,
       "grid_column": null,
       "grid_gap": null,
       "grid_row": null,
       "grid_template_areas": null,
       "grid_template_columns": null,
       "grid_template_rows": null,
       "height": null,
       "justify_content": null,
       "justify_items": null,
       "left": null,
       "margin": null,
       "max_height": null,
       "max_width": null,
       "min_height": null,
       "min_width": null,
       "object_fit": null,
       "object_position": null,
       "order": null,
       "overflow": null,
       "overflow_x": null,
       "overflow_y": null,
       "padding": null,
       "right": null,
       "top": null,
       "visibility": null,
       "width": null
      }
     },
     "e22cd4bbd6a040d0a7afe7046b8b4c00": {
      "model_module": "@jupyter-widgets/controls",
      "model_module_version": "1.5.0",
      "model_name": "HTMLModel",
      "state": {
       "_dom_classes": [],
       "_model_module": "@jupyter-widgets/controls",
       "_model_module_version": "1.5.0",
       "_model_name": "HTMLModel",
       "_view_count": null,
       "_view_module": "@jupyter-widgets/controls",
       "_view_module_version": "1.5.0",
       "_view_name": "HTMLView",
       "description": "",
       "description_tooltip": null,
       "layout": "IPY_MODEL_acca19a5281b4674a8061ed72049ed3e",
       "placeholder": "​",
       "style": "IPY_MODEL_804530133003405a8b416d97b839ed54",
       "value": "100%"
      }
     },
     "e97f01f3421e41cd959f4c87de424b5d": {
      "model_module": "@jupyter-widgets/base",
      "model_module_version": "1.2.0",
      "model_name": "LayoutModel",
      "state": {
       "_model_module": "@jupyter-widgets/base",
       "_model_module_version": "1.2.0",
       "_model_name": "LayoutModel",
       "_view_count": null,
       "_view_module": "@jupyter-widgets/base",
       "_view_module_version": "1.2.0",
       "_view_name": "LayoutView",
       "align_content": null,
       "align_items": null,
       "align_self": null,
       "border": null,
       "bottom": null,
       "display": null,
       "flex": null,
       "flex_flow": null,
       "grid_area": null,
       "grid_auto_columns": null,
       "grid_auto_flow": null,
       "grid_auto_rows": null,
       "grid_column": null,
       "grid_gap": null,
       "grid_row": null,
       "grid_template_areas": null,
       "grid_template_columns": null,
       "grid_template_rows": null,
       "height": null,
       "justify_content": null,
       "justify_items": null,
       "left": null,
       "margin": null,
       "max_height": null,
       "max_width": null,
       "min_height": null,
       "min_width": null,
       "object_fit": null,
       "object_position": null,
       "order": null,
       "overflow": null,
       "overflow_x": null,
       "overflow_y": null,
       "padding": null,
       "right": null,
       "top": null,
       "visibility": null,
       "width": null
      }
     },
     "fd357698bfe9449ab30c849a4d5ca200": {
      "model_module": "@jupyter-widgets/controls",
      "model_module_version": "1.5.0",
      "model_name": "FloatProgressModel",
      "state": {
       "_dom_classes": [],
       "_model_module": "@jupyter-widgets/controls",
       "_model_module_version": "1.5.0",
       "_model_name": "FloatProgressModel",
       "_view_count": null,
       "_view_module": "@jupyter-widgets/controls",
       "_view_module_version": "1.5.0",
       "_view_name": "ProgressView",
       "bar_style": "success",
       "description": "",
       "description_tooltip": null,
       "layout": "IPY_MODEL_9f28358b7357452b9c2ca58ee5220e7d",
       "max": 1,
       "min": 0,
       "orientation": "horizontal",
       "style": "IPY_MODEL_19667031ff0a48b193e1684b50cc60a4",
       "value": 1
      }
     }
    },
    "version_major": 2,
    "version_minor": 0
   }
  }
 },
 "nbformat": 4,
 "nbformat_minor": 5
}
