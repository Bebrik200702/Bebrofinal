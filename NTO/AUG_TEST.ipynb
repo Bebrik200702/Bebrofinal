{
 "cells": [
  {
   "cell_type": "code",
   "execution_count": 6,
   "id": "a02bad15-5a89-4a33-8c86-1d51a8bfd9b9",
   "metadata": {},
   "outputs": [
    {
     "name": "stdout",
     "output_type": "stream",
     "text": [
      "Requirement already satisfied: svglib in /usr/local/lib/python3.9/dist-packages (1.5.1)\n",
      "\u001b[31mERROR: Could not find a version that satisfies the requirement local_pid (from versions: none)\u001b[0m\u001b[31m\n",
      "\u001b[0m\u001b[31mERROR: No matching distribution found for local_pid\u001b[0m\u001b[31m\n",
      "\u001b[0m"
     ]
    }
   ],
   "source": [
    "!pip install svglib local_pid"
   ]
  },
  {
   "cell_type": "code",
   "execution_count": 1,
   "id": "0ddcbbc8-ba4b-4786-acc2-db1afa2eb823",
   "metadata": {},
   "outputs": [],
   "source": [
    "import cv2\n",
    "import os\n",
    "import glob\n",
    "import numpy as np\n",
    "from tqdm.auto import tqdm\n",
    "import random \n",
    "\n",
    "from multiprocessing import Pool\n",
    "\n",
    "import rdkit \n",
    "from rdkit import Chem\n",
    "from rdkit.Chem import AllChem\n",
    "from rdkit.Chem import Draw\n",
    "\n",
    "from reportlab.graphics import renderPM\n",
    "\n",
    "from ChemPixCH.data.synthetic.pipeline_stages.RDKit_modified.mol_drawing import MolDrawing\n",
    "from ChemPixCH.data.synthetic.pipeline_stages.RDKit_modified.local_canvas import Canvas\n",
    "\n",
    "from ChemPixCH.data.synthetic.pipeline_stages.degrade import degrade_img\n",
    "from ChemPixCH.data.synthetic.pipeline_stages.augment import augment_mol, augment_bkg"
   ]
  },
  {
   "cell_type": "code",
   "execution_count": 28,
   "id": "f30a7fd7-aaf2-4475-ac46-fc5f45be5e8c",
   "metadata": {},
   "outputs": [
    {
     "name": "stdout",
     "output_type": "stream",
     "text": [
      "Collecting rdkit==2022.3.3\n",
      "  Downloading rdkit-2022.3.3-cp39-cp39-manylinux_2_17_x86_64.manylinux2014_x86_64.whl (22.9 MB)\n",
      "\u001b[2K     \u001b[90m━━━━━━━━━━━━━━━━━━━━━━━━━━━━━━━━━━━━━━━━\u001b[0m \u001b[32m22.9/22.9 MB\u001b[0m \u001b[31m15.2 MB/s\u001b[0m eta \u001b[36m0:00:00\u001b[0m00:01\u001b[0m00:01\u001b[0m\n",
      "\u001b[?25hRequirement already satisfied: Pillow in /usr/local/lib/python3.9/dist-packages (from rdkit==2022.3.3) (9.2.0)\n",
      "Requirement already satisfied: numpy in /usr/local/lib/python3.9/dist-packages (from rdkit==2022.3.3) (1.26.4)\n",
      "Installing collected packages: rdkit\n",
      "  Attempting uninstall: rdkit\n",
      "    Found existing installation: rdkit 2023.9.5\n",
      "    Uninstalling rdkit-2023.9.5:\n",
      "      Successfully uninstalled rdkit-2023.9.5\n",
      "Successfully installed rdkit-2022.3.3\n",
      "\u001b[33mWARNING: Running pip as the 'root' user can result in broken permissions and conflicting behaviour with the system package manager. It is recommended to use a virtual environment instead: https://pip.pypa.io/warnings/venv\u001b[0m\u001b[33m\n",
      "\u001b[0m"
     ]
    }
   ],
   "source": [
    "!pip install rdkit==2022.3.3"
   ]
  },
  {
   "cell_type": "code",
   "execution_count": 18,
   "id": "d702c703-46a8-4b02-b1d3-5baa327249bb",
   "metadata": {},
   "outputs": [
    {
     "data": {
      "application/vnd.jupyter.widget-view+json": {
       "model_id": "c8eb522f298d4fd7865a9cf6e40a39ae",
       "version_major": 2,
       "version_minor": 0
      },
      "text/plain": [
       "  0%|          | 0/1051 [00:00<?, ?it/s]"
      ]
     },
     "metadata": {},
     "output_type": "display_data"
    }
   ],
   "source": [
    "def get_background_imgs(path):\n",
    "    '''Reads in background dataset'''\n",
    "    bkg_files = glob.glob(\"{}/*.png\".format(path))\n",
    "    bkgs = [cv2.imread(b) for b in tqdm(bkg_files)]\n",
    "    return bkgs\n",
    "\n",
    "BACKGROUNDS = get_background_imgs('backgrounds')"
   ]
  },
  {
   "cell_type": "code",
   "execution_count": 20,
   "id": "75551425-29e1-41fb-bb1a-3667d679891c",
   "metadata": {},
   "outputs": [
    {
     "data": {
      "text/plain": [
       "(255, 255, 3)"
      ]
     },
     "execution_count": 20,
     "metadata": {},
     "output_type": "execute_result"
    }
   ],
   "source": [
    "BACKGROUNDS[0].shape"
   ]
  },
  {
   "cell_type": "code",
   "execution_count": 2,
   "id": "73f9080c-0eaf-4d59-8c6c-9121c50d54bd",
   "metadata": {},
   "outputs": [
    {
     "ename": "AttributeError",
     "evalue": "type object 'DrawingOptions' has no attribute 'atomLabelAngle'",
     "output_type": "error",
     "traceback": [
      "\u001b[0;31m---------------------------------------------------------------------------\u001b[0m",
      "\u001b[0;31mAttributeError\u001b[0m                            Traceback (most recent call last)",
      "Cell \u001b[0;32mIn [2], line 7\u001b[0m\n\u001b[1;32m      5\u001b[0m canvas \u001b[38;5;241m=\u001b[39m Canvas(size\u001b[38;5;241m=\u001b[39m(\u001b[38;5;241m300\u001b[39m, \u001b[38;5;241m300\u001b[39m), name\u001b[38;5;241m=\u001b[39m\u001b[38;5;124m'\u001b[39m\u001b[38;5;124m./images\u001b[39m\u001b[38;5;124m'\u001b[39m, imageType\u001b[38;5;241m=\u001b[39m\u001b[38;5;124m'\u001b[39m\u001b[38;5;124msvg\u001b[39m\u001b[38;5;124m'\u001b[39m)\n\u001b[1;32m      6\u001b[0m drawer \u001b[38;5;241m=\u001b[39m MolDrawing(canvas, drawingOptions\u001b[38;5;241m=\u001b[39mDraw\u001b[38;5;241m.\u001b[39mDrawingOptions)\n\u001b[0;32m----> 7\u001b[0m \u001b[43mdrawer\u001b[49m\u001b[38;5;241;43m.\u001b[39;49m\u001b[43mAddMol\u001b[49m\u001b[43m(\u001b[49m\u001b[43mm\u001b[49m\u001b[43m)\u001b[49m\n\u001b[1;32m      8\u001b[0m canvas\u001b[38;5;241m.\u001b[39mflush()\n\u001b[1;32m      9\u001b[0m canvas\u001b[38;5;241m.\u001b[39msave()\n",
      "File \u001b[0;32m/notebooks/ChemPixCH/data/synthetic/pipeline_stages/RDKit_modified/mol_drawing.py:504\u001b[0m, in \u001b[0;36mMolDrawing.AddMol\u001b[0;34m(self, mol, centerIt, molTrans, drawingTrans, highlightAtoms, confId, flagCloseContactsDist, highlightMap, ignoreHs, highlightBonds, **kwargs)\u001b[0m\n\u001b[1;32m    502\u001b[0m         \u001b[38;5;28;01melse\u001b[39;00m:\n\u001b[1;32m    503\u001b[0m             color \u001b[38;5;241m=\u001b[39m \u001b[38;5;28mself\u001b[39m\u001b[38;5;241m.\u001b[39mdrawingOptions\u001b[38;5;241m.\u001b[39melemDict\u001b[38;5;241m.\u001b[39mget(atom\u001b[38;5;241m.\u001b[39mGetAtomicNum(), (\u001b[38;5;241m0\u001b[39m, \u001b[38;5;241m0\u001b[39m, \u001b[38;5;241m0\u001b[39m))\n\u001b[0;32m--> 504\u001b[0m         labelSize \u001b[38;5;241m=\u001b[39m \u001b[38;5;28;43mself\u001b[39;49m\u001b[38;5;241;43m.\u001b[39;49m\u001b[43m_drawLabel\u001b[49m\u001b[43m(\u001b[49m\u001b[43msymbol\u001b[49m\u001b[43m,\u001b[49m\u001b[43m \u001b[49m\u001b[43mpos\u001b[49m\u001b[43m,\u001b[49m\u001b[43m \u001b[49m\u001b[43mbaseOffset\u001b[49m\u001b[43m,\u001b[49m\u001b[43m \u001b[49m\u001b[43mfont\u001b[49m\u001b[43m,\u001b[49m\u001b[43m \u001b[49m\u001b[43mcolor\u001b[49m\u001b[38;5;241;43m=\u001b[39;49m\u001b[43mcolor\u001b[49m\u001b[43m,\u001b[49m\u001b[43m \u001b[49m\u001b[43morientation\u001b[49m\u001b[38;5;241;43m=\u001b[39;49m\u001b[43morient\u001b[49m\u001b[43m)\u001b[49m\n\u001b[1;32m    505\u001b[0m         labelSizes[atom\u001b[38;5;241m.\u001b[39mGetIdx()] \u001b[38;5;241m=\u001b[39m [labelSize, orient]\n\u001b[1;32m    507\u001b[0m \u001b[38;5;66;03m# import ipdb; ipdb.set_trace()\u001b[39;00m\n",
      "File \u001b[0;32m/notebooks/ChemPixCH/data/synthetic/pipeline_stages/RDKit_modified/mol_drawing.py:314\u001b[0m, in \u001b[0;36mMolDrawing._drawLabel\u001b[0;34m(self, label, pos, baseOffset, font, color, **kwargs)\u001b[0m\n\u001b[1;32m    312\u001b[0m \u001b[38;5;28;01mdef\u001b[39;00m \u001b[38;5;21m_drawLabel\u001b[39m(\u001b[38;5;28mself\u001b[39m, label, pos, baseOffset, font, color\u001b[38;5;241m=\u001b[39m\u001b[38;5;28;01mNone\u001b[39;00m, \u001b[38;5;241m*\u001b[39m\u001b[38;5;241m*\u001b[39mkwargs):\n\u001b[1;32m    313\u001b[0m     color \u001b[38;5;241m=\u001b[39m color \u001b[38;5;129;01mor\u001b[39;00m \u001b[38;5;28mself\u001b[39m\u001b[38;5;241m.\u001b[39mdrawingOptions\u001b[38;5;241m.\u001b[39mdefaultColor\n\u001b[0;32m--> 314\u001b[0m     \u001b[38;5;28;01mif\u001b[39;00m \u001b[38;5;28;43mself\u001b[39;49m\u001b[38;5;241;43m.\u001b[39;49m\u001b[43mdrawingOptions\u001b[49m\u001b[38;5;241;43m.\u001b[39;49m\u001b[43matomLabelAngle\u001b[49m \u001b[38;5;241m!=\u001b[39m \u001b[38;5;241m0\u001b[39m:\n\u001b[1;32m    315\u001b[0m         kwargs[\u001b[38;5;124m'\u001b[39m\u001b[38;5;124mangle\u001b[39m\u001b[38;5;124m'\u001b[39m] \u001b[38;5;241m=\u001b[39m numpy\u001b[38;5;241m.\u001b[39mrandom\u001b[38;5;241m.\u001b[39muniform(\u001b[38;5;241m-\u001b[39m\u001b[38;5;241m1\u001b[39m\u001b[38;5;241m*\u001b[39m\u001b[38;5;28mself\u001b[39m\u001b[38;5;241m.\u001b[39mdrawingOptions\u001b[38;5;241m.\u001b[39matomLabelAngle, \u001b[38;5;28mself\u001b[39m\u001b[38;5;241m.\u001b[39mdrawingOptions\u001b[38;5;241m.\u001b[39matomLabelAngle)\n\u001b[1;32m    316\u001b[0m     x1 \u001b[38;5;241m=\u001b[39m pos[\u001b[38;5;241m0\u001b[39m]\n",
      "\u001b[0;31mAttributeError\u001b[0m: type object 'DrawingOptions' has no attribute 'atomLabelAngle'"
     ]
    }
   ],
   "source": [
    "s = 'C'\n",
    "m = Chem.MolFromSmiles(s)\n",
    "AllChem.Compute2DCoords(m)\n",
    "\n",
    "canvas = Canvas(size=(300, 300), name='./images', imageType='svg')\n",
    "drawer = MolDrawing(canvas, drawingOptions=Draw.DrawingOptions)\n",
    "drawer.AddMol(m)\n",
    "canvas.flush()\n",
    "canvas.save()"
   ]
  },
  {
   "cell_type": "code",
   "execution_count": null,
   "id": "697e63e0-ec23-4981-a67d-db39eea052fd",
   "metadata": {},
   "outputs": [],
   "source": []
  }
 ],
 "metadata": {
  "kernelspec": {
   "display_name": "Python 3 (ipykernel)",
   "language": "python",
   "name": "python3"
  },
  "language_info": {
   "codemirror_mode": {
    "name": "ipython",
    "version": 3
   },
   "file_extension": ".py",
   "mimetype": "text/x-python",
   "name": "python",
   "nbconvert_exporter": "python",
   "pygments_lexer": "ipython3",
   "version": "3.9.16"
  }
 },
 "nbformat": 4,
 "nbformat_minor": 5
}
