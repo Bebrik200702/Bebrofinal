{
 "cells": [
  {
   "cell_type": "code",
   "execution_count": 79,
   "id": "05deff48-31b6-4c7a-91a5-9908adb4acbe",
   "metadata": {
    "tags": []
   },
   "outputs": [],
   "source": [
    "import numpy as np\n",
    "import pandas as pd\n",
    "from catboost import CatBoostRanker, CatBoostClassifier , Pool, cv\n",
    "from sklearn.metrics import roc_auc_score, roc_curve, auc, accuracy_score, recall_score\n",
    "from functools import partial \n",
    "from sklearn.base import BaseEstimator\n",
    "from sklearn.metrics.pairwise import cosine_similarity as cos_sim\n",
    "from scipy.stats import rankdata\n",
    "import pickle\n",
    "from tqdm.auto import trange\n",
    "from sklearn.model_selection import train_test_split, StratifiedKFold, StratifiedGroupKFold"
   ]
  },
  {
   "cell_type": "code",
   "execution_count": 80,
   "id": "ae58f666-513f-43f5-9027-71618cd60a34",
   "metadata": {
    "tags": []
   },
   "outputs": [],
   "source": [
    "train_data = pd.read_json('dev.statement.jsonl',lines=True)\n",
    "test_data = pd.read_json('test.statement.jsonl',lines=True)\n",
    "\n",
    "train_data['preds'] = [x.tolist() for x in np.load('val_preds.npy')]\n",
    "test_data['preds'] = [x.tolist() for x in np.load('simple_gemma.npy')]\n",
    "train_data['preds_rank'] = train_data['preds'].apply(rankdata)\n",
    "test_data['preds_rank'] = test_data['preds'].apply(rankdata)"
   ]
  },
  {
   "cell_type": "code",
   "execution_count": 81,
   "id": "d5729294-f15f-4bf3-9bf6-5e3739a513a3",
   "metadata": {
    "tags": []
   },
   "outputs": [],
   "source": [
    "def make_rank_data(data,is_test=False):\n",
    "    df = []\n",
    "    for i in trange(len(data)):\n",
    "        row = data.iloc[i]\n",
    "        conc_q = row['question']['question_concept']\n",
    "        label = 'F' if is_test else row['answerKey']\n",
    "        for j,choice in enumerate(row['question']['choices']):\n",
    "            df.append({\n",
    "                'group_id': i,\n",
    "                'model_score': row['preds'][j],\n",
    "                'model_rank': row['preds_rank'][j],\n",
    "                'question_concept': conc_q,\n",
    "                'text': choice['text'],\n",
    "                'key': choice['label'],\n",
    "                'labels': int(choice['label'] == label)\n",
    "            })\n",
    "    return pd.DataFrame(df)"
   ]
  },
  {
   "cell_type": "code",
   "execution_count": 82,
   "id": "1af3336f-c57c-4bd7-a333-77446fea4e17",
   "metadata": {
    "tags": []
   },
   "outputs": [
    {
     "data": {
      "application/vnd.jupyter.widget-view+json": {
       "model_id": "b66bd6dd9a694a75aa8c5ab738dbfc5e",
       "version_major": 2,
       "version_minor": 0
      },
      "text/plain": [
       "  0%|          | 0/877 [00:00<?, ?it/s]"
      ]
     },
     "metadata": {},
     "output_type": "display_data"
    },
    {
     "data": {
      "application/vnd.jupyter.widget-view+json": {
       "model_id": "f8bab3fa382b43fe9c237fff4c80442c",
       "version_major": 2,
       "version_minor": 0
      },
      "text/plain": [
       "  0%|          | 0/2192 [00:00<?, ?it/s]"
      ]
     },
     "metadata": {},
     "output_type": "display_data"
    }
   ],
   "source": [
    "train_df = make_rank_data(train_data,is_test=False)\n",
    "test_df = make_rank_data(test_data,is_test=True)"
   ]
  },
  {
   "cell_type": "code",
   "execution_count": 83,
   "id": "90fbe39a-7ec6-410a-b574-882ab9708426",
   "metadata": {
    "tags": []
   },
   "outputs": [],
   "source": [
    "with open('./graph.pkl','rb') as f:\n",
    "    state = pickle.load(f)"
   ]
  },
  {
   "cell_type": "code",
   "execution_count": 84,
   "id": "67fa803c-b779-4ca9-97f9-8cd66c454271",
   "metadata": {
    "tags": []
   },
   "outputs": [],
   "source": [
    "def get_neghbours(x):\n",
    "    if x == -100:\n",
    "        return {}\n",
    "    return list(state['graph'].neighbors(x))\n",
    "\n",
    "def iou(x,y):\n",
    "    return len(set(x) & set(y)) / len(set(x) | set(y))\n",
    "\n",
    "def obj(x,y):\n",
    "    return len(set(x) & set(y))\n",
    "\n",
    "def get_graph_features(data):\n",
    "    data['question_concept_n'] = data['question_concept'].map(lambda x: state['concepts_maper'][x.replace(' ','_')])\n",
    "    data['target_concapt_n'] = data['text'].apply(lambda x: state['concepts_maper'][x.replace(' ','_')] if x in state['concepts_maper'].keys() else -100)\n",
    "    data['text_is_relevant'] = (data['target_concapt_n'] == -100).astype(int)\n",
    "    \n",
    "    data['is_neghbour_12'] = data.apply(lambda x: int(x['target_concapt_n'] in list(state['graph'].neighbors(x['question_concept_n']))),axis=1)\n",
    "    data['is_neghbour_21'] = data.apply(lambda x: int(x['question_concept_n'] in list(state['graph'].neighbors(x['target_concapt_n'])) if x['text_is_relevant'] == 0 else -100),axis=1)\n",
    "    data['iou_neighbours'] = data.apply(lambda x: iou(get_neghbours(x['question_concept_n']),get_neghbours(x['target_concapt_n'])),axis=1)\n",
    "    data['obj_neighbours'] = data.apply(lambda x: obj(get_neghbours(x['question_concept_n']),get_neghbours(x['target_concapt_n'])),axis=1)\n",
    "    \n",
    "    data['relations'] = data.apply(lambda x: state['graph'].edges[x['question_concept_n'],x['target_concapt_n']]['relation']  if x.is_neghbour_12 == 1 else '-100',axis=1)\n",
    "    data['cos_sim'] = data.apply(lambda x: cos_sim(state['embeds'][[x['question_concept_n']]],state['embeds'][[x['target_concapt_n']]])[0][0],axis=1)\n",
    "    return data"
   ]
  },
  {
   "cell_type": "code",
   "execution_count": 85,
   "id": "7d004643-386d-4e65-9c2c-c61fc6dbe01f",
   "metadata": {
    "tags": []
   },
   "outputs": [],
   "source": [
    "train_df = get_graph_features(train_df)\n",
    "test_df = get_graph_features(test_df)"
   ]
  },
  {
   "cell_type": "code",
   "execution_count": 86,
   "id": "594cc2be-8320-4ded-a090-0d8bc35dd6ae",
   "metadata": {
    "tags": []
   },
   "outputs": [],
   "source": [
    "params = {\n",
    "    'iterations': 1000,\n",
    "    'learning_rate': 0.05,\n",
    "    'loss_function': 'YetiRank',\n",
    "    'max_depth': 5,\n",
    "    'eval_metric': 'PrecisionAt:top=1',\n",
    "    'random_seed': 56,\n",
    "    'task_type': 'CPU'\n",
    "}\n",
    "\n",
    "label_col = 'labels'\n",
    "group_id = 'group_id'\n",
    "cat_cols = []\n",
    "drop_cols = [\n",
    "    'question_concept',\n",
    "    'text',\n",
    "    'key',\n",
    "    'relations', # mayby use it like emb feat,\n",
    "]"
   ]
  },
  {
   "cell_type": "code",
   "execution_count": 87,
   "id": "8b697ede-ce2d-4a81-83c5-fc92e01e9376",
   "metadata": {
    "tags": []
   },
   "outputs": [],
   "source": [
    "class CustomRankerKfoldWraper(BaseEstimator):\n",
    "    def __init__(self,num_folds,num_repits,params,random_state=56):\n",
    "        self.models = []\n",
    "        self.params = params\n",
    "        self.random_state = random_state\n",
    "        self.num_folds = num_folds\n",
    "        self.num_repits = num_repits\n",
    "        \n",
    "    def fit(self,train_data,cat_features=None,drop_cols=None,label_col=None,group_col=None,verbose=False):\n",
    "        self.scores = []\n",
    "        \n",
    "        for i in trange(self.num_repits):\n",
    "            kfold = StratifiedGroupKFold(self.num_folds,random_state=self.random_state+i,shuffle=True)\n",
    "            for train_index, test_index in (kfold.split(train_data,y=train_data[label_col],groups=train_data[group_col])):\n",
    "                train_df = train_data.iloc[train_index]\n",
    "                test_df = train_data.iloc[test_index]\n",
    "                                \n",
    "                train_pool = Pool(\n",
    "                    data = train_df.drop([label_col,group_col]+drop_cols,axis=1),\n",
    "                    label = train_df[label_col],\n",
    "                    group_id = train_df[group_col],\n",
    "                    cat_features = cat_features\n",
    "                )\n",
    "                \n",
    "                test_pool = Pool(\n",
    "                    data = test_df.drop([label_col,group_col]+drop_cols,axis=1),\n",
    "                    label = test_df[label_col],\n",
    "                    group_id = test_df[group_col],\n",
    "                    cat_features = cat_features\n",
    "                )\n",
    "\n",
    "                cbm = CatBoostRanker(**self.params)\n",
    "                cbm.fit(train_pool,eval_set=test_pool,verbose=verbose)\n",
    "                self.models.append(cbm)\n",
    "                \n",
    "        #print(f\"Total Score {np.mean(self.scores)}\")\n",
    "            \n",
    "    def predict(self,test_data, drop_cols=None, cat_features=None, group_col=None):\n",
    "        test_pool = Pool(\n",
    "            data = test_data.drop([group_col] + drop_cols,axis=1),\n",
    "            group_id = test_data[group_col],\n",
    "            cat_features = cat_features,\n",
    "        )\n",
    "        preds = np.mean([\n",
    "            model.predict(test_pool) for model in self.models\n",
    "        ],axis=0)\n",
    "        return preds\n",
    "    \n",
    "    def get_feature_importance(self,type='FeatureImportance'):\n",
    "        imp_0 = self.models[0].get_feature_importance(prettified=True,type=type).set_index('Feature Id')\n",
    "        for i in range(1,len(self.models)):\n",
    "            imp_0 += self.models[i].get_feature_importance(prettified=True,type=type).set_index('Feature Id')\n",
    "        return (imp_0 / len(self.models)).sort_values(by='Importances')[::-1]"
   ]
  },
  {
   "cell_type": "code",
   "execution_count": 88,
   "id": "aa242fea-50e8-4385-9e35-f3422c73b85e",
   "metadata": {
    "tags": []
   },
   "outputs": [],
   "source": [
    "model = CustomRankerKfoldWraper(\n",
    "    num_folds=5,\n",
    "    num_repits=2,\n",
    "    params=params,\n",
    "    random_state=56,\n",
    ")"
   ]
  },
  {
   "cell_type": "code",
   "execution_count": 89,
   "id": "82f213ca-b8f0-4c54-bbb2-73cdefe81a87",
   "metadata": {
    "tags": []
   },
   "outputs": [
    {
     "data": {
      "application/vnd.jupyter.widget-view+json": {
       "model_id": "45363abe0344463ba7fa68b51a8933e7",
       "version_major": 2,
       "version_minor": 0
      },
      "text/plain": [
       "  0%|          | 0/2 [00:00<?, ?it/s]"
      ]
     },
     "metadata": {},
     "output_type": "display_data"
    },
    {
     "name": "stdout",
     "output_type": "stream",
     "text": [
      "0:\tlearn: 0.8202568\ttest: 0.8579545\tbest: 0.8579545 (0)\ttotal: 2.53ms\tremaining: 2.53s\n",
      "500:\tlearn: 0.9871612\ttest: 0.8522727\tbest: 0.8863636 (36)\ttotal: 956ms\tremaining: 952ms\n",
      "999:\tlearn: 0.9942939\ttest: 0.8352273\tbest: 0.8863636 (36)\ttotal: 1.93s\tremaining: 0us\n",
      "\n",
      "bestTest = 0.8863636364\n",
      "bestIteration = 36\n",
      "\n",
      "Shrink model to first 37 iterations.\n",
      "0:\tlearn: 0.8388017\ttest: 0.7954545\tbest: 0.7954545 (0)\ttotal: 2.3ms\tremaining: 2.3s\n",
      "500:\tlearn: 0.9885877\ttest: 0.8068182\tbest: 0.8181818 (126)\ttotal: 983ms\tremaining: 979ms\n",
      "999:\tlearn: 0.9928673\ttest: 0.7954545\tbest: 0.8181818 (126)\ttotal: 1.94s\tremaining: 0us\n",
      "\n",
      "bestTest = 0.8181818182\n",
      "bestIteration = 126\n",
      "\n",
      "Shrink model to first 127 iterations.\n",
      "0:\tlearn: 0.8319088\ttest: 0.8228571\tbest: 0.8228571 (0)\ttotal: 2.26ms\tremaining: 2.26s\n",
      "500:\tlearn: 0.9914530\ttest: 0.8342857\tbest: 0.8514286 (41)\ttotal: 965ms\tremaining: 961ms\n",
      "999:\tlearn: 0.9971510\ttest: 0.8400000\tbest: 0.8514286 (41)\ttotal: 1.98s\tremaining: 0us\n",
      "\n",
      "bestTest = 0.8514285714\n",
      "bestIteration = 41\n",
      "\n",
      "Shrink model to first 42 iterations.\n",
      "0:\tlearn: 0.8247863\ttest: 0.8514286\tbest: 0.8514286 (0)\ttotal: 2.48ms\tremaining: 2.48s\n",
      "500:\tlearn: 0.9914530\ttest: 0.8685714\tbest: 0.8685714 (479)\ttotal: 1.02s\tremaining: 1.02s\n",
      "999:\tlearn: 0.9943020\ttest: 0.8628571\tbest: 0.8685714 (479)\ttotal: 2.02s\tremaining: 0us\n",
      "\n",
      "bestTest = 0.8685714286\n",
      "bestIteration = 479\n",
      "\n",
      "Shrink model to first 480 iterations.\n",
      "0:\tlearn: 0.8361823\ttest: 0.8057143\tbest: 0.8057143 (0)\ttotal: 2.55ms\tremaining: 2.54s\n",
      "500:\tlearn: 0.9871795\ttest: 0.8342857\tbest: 0.8514286 (121)\ttotal: 988ms\tremaining: 984ms\n",
      "999:\tlearn: 0.9928775\ttest: 0.8285714\tbest: 0.8514286 (121)\ttotal: 1.95s\tremaining: 0us\n",
      "\n",
      "bestTest = 0.8514285714\n",
      "bestIteration = 121\n",
      "\n",
      "Shrink model to first 122 iterations.\n",
      "0:\tlearn: 0.8202568\ttest: 0.8579545\tbest: 0.8579545 (0)\ttotal: 2.26ms\tremaining: 2.26s\n",
      "500:\tlearn: 0.9871612\ttest: 0.8522727\tbest: 0.8863636 (36)\ttotal: 941ms\tremaining: 937ms\n",
      "999:\tlearn: 0.9942939\ttest: 0.8352273\tbest: 0.8863636 (36)\ttotal: 1.85s\tremaining: 0us\n",
      "\n",
      "bestTest = 0.8863636364\n",
      "bestIteration = 36\n",
      "\n",
      "Shrink model to first 37 iterations.\n",
      "0:\tlearn: 0.8388017\ttest: 0.7954545\tbest: 0.7954545 (0)\ttotal: 2.15ms\tremaining: 2.15s\n",
      "500:\tlearn: 0.9885877\ttest: 0.8068182\tbest: 0.8181818 (126)\ttotal: 927ms\tremaining: 923ms\n",
      "999:\tlearn: 0.9928673\ttest: 0.7954545\tbest: 0.8181818 (126)\ttotal: 1.86s\tremaining: 0us\n",
      "\n",
      "bestTest = 0.8181818182\n",
      "bestIteration = 126\n",
      "\n",
      "Shrink model to first 127 iterations.\n",
      "0:\tlearn: 0.8319088\ttest: 0.8228571\tbest: 0.8228571 (0)\ttotal: 2.07ms\tremaining: 2.07s\n",
      "500:\tlearn: 0.9914530\ttest: 0.8342857\tbest: 0.8514286 (41)\ttotal: 1s\tremaining: 998ms\n",
      "999:\tlearn: 0.9971510\ttest: 0.8400000\tbest: 0.8514286 (41)\ttotal: 1.97s\tremaining: 0us\n",
      "\n",
      "bestTest = 0.8514285714\n",
      "bestIteration = 41\n",
      "\n",
      "Shrink model to first 42 iterations.\n",
      "0:\tlearn: 0.8247863\ttest: 0.8514286\tbest: 0.8514286 (0)\ttotal: 2.15ms\tremaining: 2.15s\n",
      "500:\tlearn: 0.9914530\ttest: 0.8685714\tbest: 0.8685714 (479)\ttotal: 918ms\tremaining: 914ms\n",
      "999:\tlearn: 0.9943020\ttest: 0.8628571\tbest: 0.8685714 (479)\ttotal: 1.82s\tremaining: 0us\n",
      "\n",
      "bestTest = 0.8685714286\n",
      "bestIteration = 479\n",
      "\n",
      "Shrink model to first 480 iterations.\n",
      "0:\tlearn: 0.8361823\ttest: 0.8057143\tbest: 0.8057143 (0)\ttotal: 2.35ms\tremaining: 2.35s\n",
      "500:\tlearn: 0.9871795\ttest: 0.8342857\tbest: 0.8514286 (121)\ttotal: 955ms\tremaining: 951ms\n",
      "999:\tlearn: 0.9928775\ttest: 0.8285714\tbest: 0.8514286 (121)\ttotal: 1.85s\tremaining: 0us\n",
      "\n",
      "bestTest = 0.8514285714\n",
      "bestIteration = 121\n",
      "\n",
      "Shrink model to first 122 iterations.\n"
     ]
    }
   ],
   "source": [
    "model.fit(\n",
    "    train_data=train_df,\n",
    "    cat_features=cat_cols,\n",
    "    group_col=group_id,\n",
    "    drop_cols=drop_cols,\n",
    "    label_col=label_col,\n",
    "    verbose=500,\n",
    ")"
   ]
  },
  {
   "cell_type": "code",
   "execution_count": 90,
   "id": "064d1fd7-d4b9-4fa4-a7e6-ab66884cbf68",
   "metadata": {
    "tags": []
   },
   "outputs": [],
   "source": [
    "test_ranks = model.predict(test_df,drop_cols=drop_cols, cat_features=cat_cols, group_col=group_id)"
   ]
  },
  {
   "cell_type": "code",
   "execution_count": 91,
   "id": "3bcf73bc-cb8f-4b41-a128-84e7fba7414b",
   "metadata": {
    "tags": []
   },
   "outputs": [],
   "source": [
    "test_df['ranks'] = test_ranks"
   ]
  },
  {
   "cell_type": "code",
   "execution_count": 92,
   "id": "d2ec149b-1f93-40ec-b472-b762129b462a",
   "metadata": {
    "tags": []
   },
   "outputs": [],
   "source": [
    "test_df = test_df.sort_values(by=['group_id','key'])"
   ]
  },
  {
   "cell_type": "code",
   "execution_count": 93,
   "id": "fb61bb64-b4cd-486c-92c7-8259dd797889",
   "metadata": {
    "tags": []
   },
   "outputs": [
    {
     "data": {
      "text/html": [
       "<div>\n",
       "<style scoped>\n",
       "    .dataframe tbody tr th:only-of-type {\n",
       "        vertical-align: middle;\n",
       "    }\n",
       "\n",
       "    .dataframe tbody tr th {\n",
       "        vertical-align: top;\n",
       "    }\n",
       "\n",
       "    .dataframe thead th {\n",
       "        text-align: right;\n",
       "    }\n",
       "</style>\n",
       "<table border=\"1\" class=\"dataframe\">\n",
       "  <thead>\n",
       "    <tr style=\"text-align: right;\">\n",
       "      <th></th>\n",
       "      <th>group_id</th>\n",
       "      <th>model_score</th>\n",
       "      <th>model_rank</th>\n",
       "      <th>question_concept</th>\n",
       "      <th>text</th>\n",
       "      <th>key</th>\n",
       "      <th>labels</th>\n",
       "      <th>question_concept_n</th>\n",
       "      <th>target_concapt_n</th>\n",
       "      <th>text_is_relevant</th>\n",
       "      <th>is_neghbour_12</th>\n",
       "      <th>is_neghbour_21</th>\n",
       "      <th>iou_neighbours</th>\n",
       "      <th>obj_neighbours</th>\n",
       "      <th>relations</th>\n",
       "      <th>cos_sim</th>\n",
       "      <th>ranks</th>\n",
       "    </tr>\n",
       "  </thead>\n",
       "  <tbody>\n",
       "    <tr>\n",
       "      <th>0</th>\n",
       "      <td>0</td>\n",
       "      <td>-8.687500</td>\n",
       "      <td>1.0</td>\n",
       "      <td>committing murder</td>\n",
       "      <td>ocean</td>\n",
       "      <td>A</td>\n",
       "      <td>0</td>\n",
       "      <td>55723</td>\n",
       "      <td>4042</td>\n",
       "      <td>0</td>\n",
       "      <td>0</td>\n",
       "      <td>0</td>\n",
       "      <td>0.000000</td>\n",
       "      <td>0</td>\n",
       "      <td>-100</td>\n",
       "      <td>0.499784</td>\n",
       "      <td>-2.086214</td>\n",
       "    </tr>\n",
       "    <tr>\n",
       "      <th>1</th>\n",
       "      <td>0</td>\n",
       "      <td>-6.500000</td>\n",
       "      <td>2.0</td>\n",
       "      <td>committing murder</td>\n",
       "      <td>fear</td>\n",
       "      <td>B</td>\n",
       "      <td>0</td>\n",
       "      <td>55723</td>\n",
       "      <td>3842</td>\n",
       "      <td>0</td>\n",
       "      <td>1</td>\n",
       "      <td>0</td>\n",
       "      <td>0.004831</td>\n",
       "      <td>1</td>\n",
       "      <td>[0, 0, 0, 1, 0, 0, 0, 0, 0, 0, 0, 0, 0, 0, 0, ...</td>\n",
       "      <td>0.553604</td>\n",
       "      <td>-0.996263</td>\n",
       "    </tr>\n",
       "    <tr>\n",
       "      <th>2</th>\n",
       "      <td>0</td>\n",
       "      <td>1.859375</td>\n",
       "      <td>5.0</td>\n",
       "      <td>committing murder</td>\n",
       "      <td>own death</td>\n",
       "      <td>C</td>\n",
       "      <td>0</td>\n",
       "      <td>55723</td>\n",
       "      <td>-100</td>\n",
       "      <td>1</td>\n",
       "      <td>0</td>\n",
       "      <td>-100</td>\n",
       "      <td>0.000000</td>\n",
       "      <td>0</td>\n",
       "      <td>-100</td>\n",
       "      <td>0.575224</td>\n",
       "      <td>2.160321</td>\n",
       "    </tr>\n",
       "    <tr>\n",
       "      <th>3</th>\n",
       "      <td>0</td>\n",
       "      <td>-3.609375</td>\n",
       "      <td>3.0</td>\n",
       "      <td>committing murder</td>\n",
       "      <td>imprisonment</td>\n",
       "      <td>D</td>\n",
       "      <td>0</td>\n",
       "      <td>55723</td>\n",
       "      <td>55729</td>\n",
       "      <td>0</td>\n",
       "      <td>1</td>\n",
       "      <td>0</td>\n",
       "      <td>0.011111</td>\n",
       "      <td>1</td>\n",
       "      <td>[0, 0, 0, 1, 0, 0, 0, 0, 0, 0, 0, 0, 0, 0, 0, ...</td>\n",
       "      <td>0.576761</td>\n",
       "      <td>-0.149942</td>\n",
       "    </tr>\n",
       "    <tr>\n",
       "      <th>4</th>\n",
       "      <td>0</td>\n",
       "      <td>-3.531250</td>\n",
       "      <td>4.0</td>\n",
       "      <td>committing murder</td>\n",
       "      <td>incarceration</td>\n",
       "      <td>E</td>\n",
       "      <td>0</td>\n",
       "      <td>55723</td>\n",
       "      <td>55730</td>\n",
       "      <td>0</td>\n",
       "      <td>1</td>\n",
       "      <td>0</td>\n",
       "      <td>0.011236</td>\n",
       "      <td>1</td>\n",
       "      <td>[0, 0, 0, 1, 0, 0, 0, 0, 0, 0, 0, 0, 0, 0, 0, ...</td>\n",
       "      <td>0.690385</td>\n",
       "      <td>0.352448</td>\n",
       "    </tr>\n",
       "    <tr>\n",
       "      <th>...</th>\n",
       "      <td>...</td>\n",
       "      <td>...</td>\n",
       "      <td>...</td>\n",
       "      <td>...</td>\n",
       "      <td>...</td>\n",
       "      <td>...</td>\n",
       "      <td>...</td>\n",
       "      <td>...</td>\n",
       "      <td>...</td>\n",
       "      <td>...</td>\n",
       "      <td>...</td>\n",
       "      <td>...</td>\n",
       "      <td>...</td>\n",
       "      <td>...</td>\n",
       "      <td>...</td>\n",
       "      <td>...</td>\n",
       "      <td>...</td>\n",
       "    </tr>\n",
       "    <tr>\n",
       "      <th>10955</th>\n",
       "      <td>2191</td>\n",
       "      <td>3.421875</td>\n",
       "      <td>5.0</td>\n",
       "      <td>clerk</td>\n",
       "      <td>shop</td>\n",
       "      <td>A</td>\n",
       "      <td>0</td>\n",
       "      <td>17799</td>\n",
       "      <td>16864</td>\n",
       "      <td>0</td>\n",
       "      <td>1</td>\n",
       "      <td>0</td>\n",
       "      <td>0.014286</td>\n",
       "      <td>3</td>\n",
       "      <td>[0, 1, 0, 0, 0, 0, 0, 0, 0, 0, 0, 0, 0, 0, 0, ...</td>\n",
       "      <td>0.568044</td>\n",
       "      <td>3.316126</td>\n",
       "    </tr>\n",
       "    <tr>\n",
       "      <th>10956</th>\n",
       "      <td>2191</td>\n",
       "      <td>-0.675781</td>\n",
       "      <td>3.0</td>\n",
       "      <td>clerk</td>\n",
       "      <td>post office</td>\n",
       "      <td>B</td>\n",
       "      <td>0</td>\n",
       "      <td>17799</td>\n",
       "      <td>-100</td>\n",
       "      <td>1</td>\n",
       "      <td>0</td>\n",
       "      <td>-100</td>\n",
       "      <td>0.000000</td>\n",
       "      <td>0</td>\n",
       "      <td>-100</td>\n",
       "      <td>0.461204</td>\n",
       "      <td>0.401740</td>\n",
       "    </tr>\n",
       "    <tr>\n",
       "      <th>10957</th>\n",
       "      <td>2191</td>\n",
       "      <td>-2.937500</td>\n",
       "      <td>1.0</td>\n",
       "      <td>clerk</td>\n",
       "      <td>at hotel</td>\n",
       "      <td>C</td>\n",
       "      <td>0</td>\n",
       "      <td>17799</td>\n",
       "      <td>-100</td>\n",
       "      <td>1</td>\n",
       "      <td>0</td>\n",
       "      <td>-100</td>\n",
       "      <td>0.000000</td>\n",
       "      <td>0</td>\n",
       "      <td>-100</td>\n",
       "      <td>0.461204</td>\n",
       "      <td>-0.685083</td>\n",
       "    </tr>\n",
       "    <tr>\n",
       "      <th>10958</th>\n",
       "      <td>2191</td>\n",
       "      <td>-1.734375</td>\n",
       "      <td>2.0</td>\n",
       "      <td>clerk</td>\n",
       "      <td>airport</td>\n",
       "      <td>D</td>\n",
       "      <td>0</td>\n",
       "      <td>17799</td>\n",
       "      <td>16385</td>\n",
       "      <td>0</td>\n",
       "      <td>1</td>\n",
       "      <td>0</td>\n",
       "      <td>0.000000</td>\n",
       "      <td>0</td>\n",
       "      <td>[0, 1, 0, 0, 0, 0, 0, 0, 0, 0, 0, 0, 0, 0, 0, ...</td>\n",
       "      <td>0.526466</td>\n",
       "      <td>0.206555</td>\n",
       "    </tr>\n",
       "    <tr>\n",
       "      <th>10959</th>\n",
       "      <td>2191</td>\n",
       "      <td>0.835938</td>\n",
       "      <td>4.0</td>\n",
       "      <td>clerk</td>\n",
       "      <td>bookstore</td>\n",
       "      <td>E</td>\n",
       "      <td>0</td>\n",
       "      <td>17799</td>\n",
       "      <td>10161</td>\n",
       "      <td>0</td>\n",
       "      <td>1</td>\n",
       "      <td>0</td>\n",
       "      <td>0.025974</td>\n",
       "      <td>2</td>\n",
       "      <td>[0, 1, 0, 0, 0, 0, 0, 0, 0, 0, 0, 0, 0, 0, 0, ...</td>\n",
       "      <td>0.593771</td>\n",
       "      <td>1.448996</td>\n",
       "    </tr>\n",
       "  </tbody>\n",
       "</table>\n",
       "<p>10960 rows × 17 columns</p>\n",
       "</div>"
      ],
      "text/plain": [
       "       group_id  model_score  model_rank   question_concept           text  \\\n",
       "0             0    -8.687500         1.0  committing murder          ocean   \n",
       "1             0    -6.500000         2.0  committing murder           fear   \n",
       "2             0     1.859375         5.0  committing murder      own death   \n",
       "3             0    -3.609375         3.0  committing murder   imprisonment   \n",
       "4             0    -3.531250         4.0  committing murder  incarceration   \n",
       "...         ...          ...         ...                ...            ...   \n",
       "10955      2191     3.421875         5.0              clerk           shop   \n",
       "10956      2191    -0.675781         3.0              clerk    post office   \n",
       "10957      2191    -2.937500         1.0              clerk       at hotel   \n",
       "10958      2191    -1.734375         2.0              clerk        airport   \n",
       "10959      2191     0.835938         4.0              clerk      bookstore   \n",
       "\n",
       "      key  labels  question_concept_n  target_concapt_n  text_is_relevant  \\\n",
       "0       A       0               55723              4042                 0   \n",
       "1       B       0               55723              3842                 0   \n",
       "2       C       0               55723              -100                 1   \n",
       "3       D       0               55723             55729                 0   \n",
       "4       E       0               55723             55730                 0   \n",
       "...    ..     ...                 ...               ...               ...   \n",
       "10955   A       0               17799             16864                 0   \n",
       "10956   B       0               17799              -100                 1   \n",
       "10957   C       0               17799              -100                 1   \n",
       "10958   D       0               17799             16385                 0   \n",
       "10959   E       0               17799             10161                 0   \n",
       "\n",
       "       is_neghbour_12  is_neghbour_21  iou_neighbours  obj_neighbours  \\\n",
       "0                   0               0        0.000000               0   \n",
       "1                   1               0        0.004831               1   \n",
       "2                   0            -100        0.000000               0   \n",
       "3                   1               0        0.011111               1   \n",
       "4                   1               0        0.011236               1   \n",
       "...               ...             ...             ...             ...   \n",
       "10955               1               0        0.014286               3   \n",
       "10956               0            -100        0.000000               0   \n",
       "10957               0            -100        0.000000               0   \n",
       "10958               1               0        0.000000               0   \n",
       "10959               1               0        0.025974               2   \n",
       "\n",
       "                                               relations   cos_sim     ranks  \n",
       "0                                                   -100  0.499784 -2.086214  \n",
       "1      [0, 0, 0, 1, 0, 0, 0, 0, 0, 0, 0, 0, 0, 0, 0, ...  0.553604 -0.996263  \n",
       "2                                                   -100  0.575224  2.160321  \n",
       "3      [0, 0, 0, 1, 0, 0, 0, 0, 0, 0, 0, 0, 0, 0, 0, ...  0.576761 -0.149942  \n",
       "4      [0, 0, 0, 1, 0, 0, 0, 0, 0, 0, 0, 0, 0, 0, 0, ...  0.690385  0.352448  \n",
       "...                                                  ...       ...       ...  \n",
       "10955  [0, 1, 0, 0, 0, 0, 0, 0, 0, 0, 0, 0, 0, 0, 0, ...  0.568044  3.316126  \n",
       "10956                                               -100  0.461204  0.401740  \n",
       "10957                                               -100  0.461204 -0.685083  \n",
       "10958  [0, 1, 0, 0, 0, 0, 0, 0, 0, 0, 0, 0, 0, 0, 0, ...  0.526466  0.206555  \n",
       "10959  [0, 1, 0, 0, 0, 0, 0, 0, 0, 0, 0, 0, 0, 0, 0, ...  0.593771  1.448996  \n",
       "\n",
       "[10960 rows x 17 columns]"
      ]
     },
     "execution_count": 93,
     "metadata": {},
     "output_type": "execute_result"
    }
   ],
   "source": [
    "test_df"
   ]
  },
  {
   "cell_type": "code",
   "execution_count": 94,
   "id": "8c4130a0-0464-422f-b331-0b4f132240e3",
   "metadata": {
    "tags": []
   },
   "outputs": [],
   "source": [
    "pre_sub = test_df.groupby('group_id')['ranks'].agg(lambda x: np.argmax(list(x)))"
   ]
  },
  {
   "cell_type": "code",
   "execution_count": 96,
   "id": "86a4af20-5a5a-4f81-8aa9-c5b23ab6ad3a",
   "metadata": {
    "tags": []
   },
   "outputs": [],
   "source": [
    "pre_sub.index = test_data['id']"
   ]
  },
  {
   "cell_type": "code",
   "execution_count": 98,
   "id": "a4e57c9a-219f-412a-86c7-36b77d439a15",
   "metadata": {
    "tags": []
   },
   "outputs": [],
   "source": [
    "pre_sub = pre_sub.to_dict()"
   ]
  },
  {
   "cell_type": "code",
   "execution_count": 100,
   "id": "426731b6-d311-4fcb-873d-d47e04ef63f4",
   "metadata": {
    "tags": []
   },
   "outputs": [],
   "source": [
    "df = pd.read_csv('subv56v2.csv',header=None)"
   ]
  },
  {
   "cell_type": "code",
   "execution_count": 102,
   "id": "a4961d31-a34b-454e-ae1e-3d71fc0c3dd5",
   "metadata": {
    "tags": []
   },
   "outputs": [],
   "source": [
    "df['preds_2'] = df[0].map(pre_sub)"
   ]
  },
  {
   "cell_type": "code",
   "execution_count": 104,
   "id": "e87dbc00-89b4-4e70-be3f-02cf0c2ab686",
   "metadata": {
    "tags": []
   },
   "outputs": [],
   "source": [
    "df['preds_2'] = df['preds_2'].apply(lambda x: 'ABCDE'[x])"
   ]
  },
  {
   "cell_type": "code",
   "execution_count": 112,
   "id": "dad55bf6-0b69-42c8-a13f-381bacb42fee",
   "metadata": {
    "tags": []
   },
   "outputs": [
    {
     "data": {
      "text/plain": [
       "1966"
      ]
     },
     "execution_count": 112,
     "metadata": {},
     "output_type": "execute_result"
    }
   ],
   "source": [
    "(df[1] == df['preds_2']).sum()"
   ]
  },
  {
   "cell_type": "code",
   "execution_count": 115,
   "id": "dc5ab702-1cb5-4190-9df8-15e0939f3bf8",
   "metadata": {
    "tags": []
   },
   "outputs": [],
   "source": [
    "df[[0,'preds_2']].to_csv('cb_rerank.csv',index=False,header=None)"
   ]
  },
  {
   "cell_type": "code",
   "execution_count": null,
   "id": "061722e3-7e4c-4b6e-9b93-396ab8a36c36",
   "metadata": {},
   "outputs": [],
   "source": []
  }
 ],
 "metadata": {
  "kernelspec": {
   "display_name": "Python 3 (ipykernel)",
   "language": "python",
   "name": "python3"
  },
  "language_info": {
   "codemirror_mode": {
    "name": "ipython",
    "version": 3
   },
   "file_extension": ".py",
   "mimetype": "text/x-python",
   "name": "python",
   "nbconvert_exporter": "python",
   "pygments_lexer": "ipython3",
   "version": "3.11.7"
  }
 },
 "nbformat": 4,
 "nbformat_minor": 5
}
