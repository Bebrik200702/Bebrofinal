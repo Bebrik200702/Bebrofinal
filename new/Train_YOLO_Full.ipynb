{
 "cells": [
  {
   "cell_type": "code",
   "execution_count": 1,
   "id": "372a0aef-86bc-43db-8d52-fb012c54ad88",
   "metadata": {
    "tags": []
   },
   "outputs": [
    {
     "name": "stdout",
     "output_type": "stream",
     "text": [
      "YAML файл успешно создан!\n"
     ]
    }
   ],
   "source": [
    "import yaml\n",
    "\n",
    "data = {\n",
    "    'train': './yolo_new_split/train',  # путь к обучающим изображениям, вы можете менять его, в зависимостти\n",
    "    'val': './yolo_new_split/val',  # путь к изображениям для валидации, вы можете менять его, в зависимостти\n",
    "    'nc': 1,  \n",
    "    'names': ['Animals']  # имена классов\n",
    "}\n",
    "\n",
    "# Сохранение данных в YAML файл\n",
    "with open('./yolo_config_full.yaml', 'w') as file:\n",
    "    yaml.dump(data, file, default_flow_style=False, allow_unicode=True)\n",
    "\n",
    "print(\"YAML файл успешно создан!\")"
   ]
  },
  {
   "cell_type": "markdown",
   "id": "78ff4bfb",
   "metadata": {},
   "source": [
    "**Хоть стоит, что число эпох = 100, но версия в сабмите была обучена всего на 35 эпохах, значит после 35 нужно остановить обучение.**\n",
    "**Batch, можете менять в зависимости от среды обучения, но могут не большие изменения в скоре**"
   ]
  },
  {
   "cell_type": "code",
   "execution_count": null,
   "id": "1a27d946-fc4d-46c8-add4-8e4cf717be5f",
   "metadata": {
    "tags": []
   },
   "outputs": [],
   "source": [
    "from ultralytics import YOLO\n",
    "model = YOLO('yolo11x-seg')\n",
    "\n",
    "training_results = model.train(\n",
    "        data='yolo_config_full.yaml',\n",
    "        epochs=100, # число эпох для обучения\n",
    "        imgsz=1024, # размер изображения для обучения\n",
    "        batch=16, # размер батча для обучения\n",
    "        device=0, # номер девайса для обучения\n",
    "        single_cls=True, # для обучения с учетом классов на основании data.yaml\n",
    "        #resume=True,\n",
    "        seed=42\n",
    ")"
   ]
  }
 ],
 "metadata": {
  "kernelspec": {
   "display_name": "Python 3 (ipykernel)",
   "language": "python",
   "name": "python3"
  },
  "language_info": {
   "codemirror_mode": {
    "name": "ipython",
    "version": 3
   },
   "file_extension": ".py",
   "mimetype": "text/x-python",
   "name": "python",
   "nbconvert_exporter": "python",
   "pygments_lexer": "ipython3",
   "version": "3.11.7"
  }
 },
 "nbformat": 4,
 "nbformat_minor": 5
}
