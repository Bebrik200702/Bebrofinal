{
 "cells": [
  {
   "cell_type": "code",
   "execution_count": 7,
   "id": "6b7ed7ac-b9fb-4fff-b6b2-b8957800f1cb",
   "metadata": {
    "tags": []
   },
   "outputs": [],
   "source": [
    "import os\n",
    "from shutil import copyfile\n",
    "from tqdm.auto import tqdm\n",
    "import json\n",
    "\n",
    "def create_yolo_segm_data(json_path,image_path,result_path):\n",
    "    anns = json.load(open(json_path))\n",
    "    image_data = {}\n",
    "    for img_s in anns['images']:\n",
    "        image_data[img_s['id']] = img_s\n",
    "        image_data[img_s['id']]['anns'] = []\n",
    "        \n",
    "    for ans_s in anns['annotations']:\n",
    "        image_data[ans_s['image_id']]['anns'].append(ans_s)\n",
    "    \n",
    "    for image in tqdm(image_data.values()):\n",
    "        copyfile(f\"{image_path}/{image['file_name']}\",f\"{result_path}/images/{image['file_name']}\")\n",
    "        label_s = []\n",
    "        for ann in image['anns']:\n",
    "            xs = ann['segmentation'][0][::2]\n",
    "            xs = [x / image['width'] for x in xs]\n",
    "            ys = ann['segmentation'][0][1::2]\n",
    "            ys = [y / image['height'] for y in ys]\n",
    "            m = [ann['category_id']]\n",
    "            for i in range(len(xs)):\n",
    "                m.append(xs[i])\n",
    "                m.append(ys[i])\n",
    "            m = list(map(str,m))\n",
    "            label_s.append(' '.join(m) + '\\n')\n",
    "            \n",
    "        with open(f\"{result_path}/labels/{image['file_name'].split('.')[0]}.txt\",'w') as f:\n",
    "            f.writelines(label_s)"
   ]
  },
  {
   "cell_type": "code",
   "execution_count": 5,
   "id": "142ca875-41e7-4cd6-a39f-367ac2485adc",
   "metadata": {
    "tags": []
   },
   "outputs": [
    {
     "name": "stdout",
     "output_type": "stream",
     "text": [
      "mkdir: cannot create directory ‘yolo_data’: File exists\n",
      "mkdir: cannot create directory ‘yolo_data/val’: File exists\n",
      "mkdir: cannot create directory ‘yolo_data/train’: File exists\n",
      "mkdir: cannot create directory ‘yolo_data/val/images’: File exists\n",
      "mkdir: cannot create directory ‘yolo_data/val/labels’: File exists\n",
      "mkdir: cannot create directory ‘yolo_data/train/images’: File exists\n",
      "mkdir: cannot create directory ‘yolo_data/train/labels’: File exists\n"
     ]
    }
   ],
   "source": [
    "!mkdir yolo_data\n",
    "!mkdir yolo_data/val\n",
    "!mkdir yolo_data/train\n",
    "\n",
    "!mkdir yolo_data/val/images\n",
    "!mkdir yolo_data/val/labels\n",
    "\n",
    "!mkdir yolo_data/train/images\n",
    "!mkdir yolo_data/train/labels"
   ]
  },
  {
   "cell_type": "code",
   "execution_count": 8,
   "id": "c1eb9b77-25bd-4f9f-9198-513c8da5aace",
   "metadata": {
    "tags": []
   },
   "outputs": [
    {
     "data": {
      "application/vnd.jupyter.widget-view+json": {
       "model_id": "e331b239bbe54f3bb4473105049d83ac",
       "version_major": 2,
       "version_minor": 0
      },
      "text/plain": [
       "  0%|          | 0/8557 [00:00<?, ?it/s]"
      ]
     },
     "metadata": {},
     "output_type": "display_data"
    }
   ],
   "source": [
    "create_yolo_segm_data('clear_val_annotations.json','./val','./yolo_data/val')"
   ]
  },
  {
   "cell_type": "code",
   "execution_count": 9,
   "id": "033c2cf7-2149-4a49-87a7-b2cf6560699c",
   "metadata": {
    "tags": []
   },
   "outputs": [
    {
     "data": {
      "application/vnd.jupyter.widget-view+json": {
       "model_id": "e5e69b1324d0453d803feee38e5d7a0f",
       "version_major": 2,
       "version_minor": 0
      },
      "text/plain": [
       "  0%|          | 0/16631 [00:00<?, ?it/s]"
      ]
     },
     "metadata": {},
     "output_type": "display_data"
    }
   ],
   "source": [
    "create_yolo_segm_data('clear_train_annotations.json','./train','./yolo_data/train')"
   ]
  },
  {
   "cell_type": "code",
   "execution_count": null,
   "id": "b424e7d2-fff2-43ee-9a30-e6b5b649f1a6",
   "metadata": {},
   "outputs": [],
   "source": []
  }
 ],
 "metadata": {
  "kernelspec": {
   "display_name": "Python 3 (ipykernel)",
   "language": "python",
   "name": "python3"
  },
  "language_info": {
   "codemirror_mode": {
    "name": "ipython",
    "version": 3
   },
   "file_extension": ".py",
   "mimetype": "text/x-python",
   "name": "python",
   "nbconvert_exporter": "python",
   "pygments_lexer": "ipython3",
   "version": "3.11.7"
  }
 },
 "nbformat": 4,
 "nbformat_minor": 5
}
