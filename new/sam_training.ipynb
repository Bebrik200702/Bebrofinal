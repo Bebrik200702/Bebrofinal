{
 "cells": [
  {
   "cell_type": "markdown",
   "metadata": {},
   "source": [
    "### Downloading SAM"
   ]
  },
  {
   "cell_type": "code",
   "execution_count": null,
   "metadata": {},
   "outputs": [],
   "source": [
    "!git clone https://github.com/facebookresearch/sam2.git"
   ]
  },
  {
   "cell_type": "code",
   "execution_count": null,
   "metadata": {},
   "outputs": [],
   "source": [
    "!wget -O /kaggle/working/sam2/sam2/configs/train.yaml 'https://drive.usercontent.google.com/download?id=11cmbxPPsYqFyWq87tmLgBAQ6OZgEhPG3'"
   ]
  },
  {
   "cell_type": "code",
   "execution_count": null,
   "metadata": {},
   "outputs": [],
   "source": [
    "%cd ./sam2/"
   ]
  },
  {
   "cell_type": "code",
   "execution_count": null,
   "metadata": {},
   "outputs": [],
   "source": [
    "!pip install -e .[dev] -q"
   ]
  },
  {
   "cell_type": "code",
   "execution_count": null,
   "metadata": {},
   "outputs": [],
   "source": [
    "!pip install roboflow -q"
   ]
  },
  {
   "cell_type": "markdown",
   "metadata": {},
   "source": [
    "### Downloading dataset in SAM format from Roboflow"
   ]
  },
  {
   "cell_type": "code",
   "execution_count": null,
   "metadata": {},
   "outputs": [],
   "source": [
    "from roboflow import Roboflow\n",
    "\n",
    "rf = Roboflow(api_key=\"BXpSpBjo67xm5pf2HfAh\")\n",
    "project = rf.workspace(\"alaska-njmkp\").project(\"kakakaka\")\n",
    "version = project.version(1)\n",
    "dataset = version.download(\"sam2\")"
   ]
  },
  {
   "cell_type": "code",
   "execution_count": null,
   "metadata": {},
   "outputs": [],
   "source": [
    "!cd ./checkpoints && ./download_ckpts.sh"
   ]
  },
  {
   "cell_type": "markdown",
   "metadata": {},
   "source": [
    "### Adding code to fix issue"
   ]
  },
  {
   "cell_type": "code",
   "execution_count": 7,
   "metadata": {
    "execution": {
     "iopub.execute_input": "2025-02-05T15:41:53.572172Z",
     "iopub.status.busy": "2025-02-05T15:41:53.571992Z",
     "iopub.status.idle": "2025-02-05T15:41:54.447198Z",
     "shell.execute_reply": "2025-02-05T15:41:54.446509Z",
     "shell.execute_reply.started": "2025-02-05T15:41:53.572156Z"
    }
   },
   "outputs": [],
   "source": [
    "# Script to rename roboflow filenames to something SAM 2.1 compatible.\n",
    "# Maybe it is possible to remove this step tweaking sam2/sam2/configs/train.yaml.\n",
    "import os\n",
    "import re\n",
    "\n",
    "FOLDER = \"/kaggle/working/sam2/kakakaka-1/train\"\n",
    "c = 0\n",
    "for filename in os.listdir(FOLDER):\n",
    "    # Replace all except last dot with underscore\n",
    "    new_filename = filename.replace(\".\", \"_\", filename.count(\".\") - 1)\n",
    "    if not re.search(r\"_\\d+\\.\\w+$\", new_filename):\n",
    "        # Add an int to the end of base name\n",
    "        new_filename = new_filename.replace(\".\", \"_1.\")\n",
    "    os.rename(os.path.join(FOLDER, filename), os.path.join(FOLDER, new_filename))\n",
    "    c += 1"
   ]
  },
  {
   "cell_type": "markdown",
   "metadata": {},
   "source": [
    "### Run training"
   ]
  },
  {
   "cell_type": "code",
   "execution_count": null,
   "metadata": {},
   "outputs": [],
   "source": [
    "%cd /kaggle/working/sam2\n",
    "!python training/train.py --use-cluster 0 --num-gpus 4 -c './configs/train.yaml'"
   ]
  }
 ],
 "metadata": {
  "kaggle": {
   "accelerator": "none",
   "dataSources": [
    {
     "databundleVersionId": 9869096,
     "sourceId": 86023,
     "sourceType": "competition"
    }
   ],
   "dockerImageVersionId": 30840,
   "isGpuEnabled": false,
   "isInternetEnabled": true,
   "language": "python",
   "sourceType": "notebook"
  },
  "kernelspec": {
   "display_name": "cv",
   "language": "python",
   "name": "python3"
  },
  "language_info": {
   "codemirror_mode": {
    "name": "ipython",
    "version": 3
   },
   "file_extension": ".py",
   "mimetype": "text/x-python",
   "name": "python",
   "nbconvert_exporter": "python",
   "pygments_lexer": "ipython3",
   "version": "3.10.12"
  }
 },
 "nbformat": 4,
 "nbformat_minor": 4
}
