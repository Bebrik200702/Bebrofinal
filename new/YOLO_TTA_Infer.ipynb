{
 "cells": [
  {
   "cell_type": "code",
   "execution_count": 1,
   "id": "23a42742-425d-4221-aaca-24862a8036ad",
   "metadata": {
    "tags": []
   },
   "outputs": [],
   "source": [
    "from ultralytics import YOLO\n",
    "from ensemble_masks_wbf import *\n",
    "import albumentations as A\n",
    "from ensemble_masks_wbf import *\n",
    "import os\n",
    "from PIL import Image \n",
    "import cv2"
   ]
  },
  {
   "cell_type": "code",
   "execution_count": 2,
   "id": "3f816e03-e024-478b-a8da-33dc97f64ddf",
   "metadata": {
    "tags": []
   },
   "outputs": [],
   "source": [
    "hor_flip = A.Compose([\n",
    "    A.HorizontalFlip(p=1.0)\n",
    "],bbox_params=A.BboxParams(format='pascal_voc', label_fields=['box_labels']),p=1.0)\n",
    "    \n",
    "vert_flip = A.Compose([\n",
    "    A.VerticalFlip(p=1.0)\n",
    "],bbox_params=A.BboxParams(format='pascal_voc', label_fields=['box_labels']),p=1.0)\n",
    "\n",
    "rot = A.Compose([\n",
    "    A.Rotate(limit=(180,180), p=1.0)\n",
    "],bbox_params=A.BboxParams(format='pascal_voc', label_fields=['box_labels']),p=1.0)\n",
    "    \n",
    "light = A.Compose([\n",
    "    A.RandomBrightnessContrast(\n",
    "        p=1,\n",
    "        brightness_limit=(0.2,0.2),\n",
    "        contrast_limit=(0,0)\n",
    "    )\n",
    "],p=1.0)\n",
    "\n",
    "inv_transforms = [None, hor_flip, vert_flip, rot, None]\n",
    "\n",
    "transforms = [\n",
    "    None,\n",
    "    A.HorizontalFlip(p=1.0),\n",
    "    A.VerticalFlip(p=1.0),\n",
    "    A.Rotate(limit=(180,180), p=1.0),\n",
    "    light\n",
    "]\n",
    "\n",
    "\n",
    "def tta_infer(img_path,model,yolo_kwargs):\n",
    "    img = cv2.imread(img_path)\n",
    "    bboxes,masks,scores, = [],[],[]\n",
    "    \n",
    "    for tr, inv_tr in zip(transforms,inv_transforms):\n",
    "        if tr is not None:\n",
    "            img_tr = tr(image=img)['image']\n",
    "        else:\n",
    "            img_tr = img\n",
    "        \n",
    "        res = model(img_tr,**yolo_kwargs)[0]\n",
    "        if res.masks is None:\n",
    "            continue\n",
    "        mask = res[0].masks.data.cpu().numpy()\n",
    "        mask = [cv2.resize(x,(693,1344)).T for x in mask]\n",
    "        boxes = res[0].boxes.xyxy.cpu().numpy().tolist()\n",
    "        confs = res[0].boxes.conf.cpu().numpy().tolist()\n",
    "        if inv_tr is not None:\n",
    "            res_tr = inv_tr(image=img_tr,masks=mask,bboxes=boxes,box_labels=['box_labels']*len(boxes))\n",
    "            boxes = res_tr['bboxes']\n",
    "            mask = res_tr['masks']\n",
    "        bboxes.append(boxes)\n",
    "        masks.append(mask)\n",
    "        scores.append(confs)\n",
    "    return bboxes,masks,scores"
   ]
  },
  {
   "cell_type": "code",
   "execution_count": 3,
   "id": "45c12b09-e73e-4fd6-877a-f7c515b750c0",
   "metadata": {
    "tags": []
   },
   "outputs": [],
   "source": [
    "model = YOLO('runs/segment/train2/weights/last.pt')  # Укажите путь к вашей модели\n",
    "\n",
    "test_folder = \"test\"  # Папка с тестовыми изображениями\n",
    "output_folder = \"output\"  # Папка для сохранения результатов\n",
    "os.makedirs(output_folder, exist_ok=True)\n",
    "predictions = []\n",
    "conf = 0.5\n",
    "imgsc = (1344,693)"
   ]
  },
  {
   "cell_type": "code",
   "execution_count": null,
   "id": "7617e9a6-30c3-4187-ba13-14594e4e7825",
   "metadata": {
    "tags": []
   },
   "outputs": [
    {
     "data": {
      "application/vnd.jupyter.widget-view+json": {
       "model_id": "da1932b97f664007aafc345df64818ce",
       "version_major": 2,
       "version_minor": 0
      },
      "text/plain": [
       "  0%|          | 0/9074 [00:00<?, ?it/s]"
      ]
     },
     "metadata": {},
     "output_type": "display_data"
    }
   ],
   "source": [
    "from tqdm.auto import tqdm, trange\n",
    "import os\n",
    "import json\n",
    "import numpy as np\n",
    "from ultralytics import YOLO\n",
    "import albumentations as A\n",
    "from ensemble_masks_wbf import *\n",
    "import pycocotools.mask\n",
    "\n",
    "while conf > 0.01:\n",
    "    img_files = set([x['image_name'] for x in predictions]) if len(predictions) != 0 else []\n",
    "    \n",
    "    for file_name in tqdm(os.listdir(test_folder)):\n",
    "        image_path = os.path.join(test_folder, file_name)\n",
    "        if file_name in img_files:\n",
    "            continue\n",
    "        image = cv2.imread(image_path)\n",
    "        bboxes, masks, scores = tta_infer(image_path,model,{'verbose':False,'conf':conf})\n",
    "        if len(bboxes) == 0:\n",
    "            continue\n",
    "        masks = [x[0] for x in masks]\n",
    "        scores = [x[0] for x in scores]\n",
    "        bboxes = [x[0] for x in bboxes]\n",
    "        _, scores, masks, bboxes = nms_predictions(\n",
    "            classes = [0] * len(bboxes),\n",
    "            scores = scores,\n",
    "            bboxes = bboxes,\n",
    "            masks = masks,\n",
    "            iou_th = 0.5#0.75\n",
    "        )\n",
    "        \n",
    "        for i in range(len(bboxes)):\n",
    "            mask = masks[i]\n",
    "            mask = resize(mask,imgsc)\n",
    "            rle = pycocotools.mask.encode(np.asfortranarray(mask.astype(np.uint8)))\n",
    "            segmentation = {\n",
    "                \"size\": [693, 1344],\n",
    "                \"counts\": rle[\"counts\"].decode(\"utf-8\")\n",
    "            }\n",
    "\n",
    "            predictions.append({\n",
    "                \"image_name\": file_name,\n",
    "                \"category_id\": 1,\n",
    "                \"bbox\": bboxes[i].tolist(),\n",
    "                \"score\": scores[i],\n",
    "                \"segmentation\": segmentation\n",
    "            })\n",
    "    conf -= 0.01\n",
    "\n",
    "# Сохранение предсказаний в JSON\n",
    "predictions_file = os.path.join(output_folder, \"submission_31.json\")\n",
    "with open(predictions_file, \"w\") as f:\n",
    "    json.dump(predictions, f, indent=4)\n",
    "\n",
    "print(f\"Обработка завершена. Результаты сохранены в папке: {output_folder}\")"
   ]
  },
  {
   "cell_type": "code",
   "execution_count": null,
   "id": "37b1a73f-3f8b-487a-b35f-45902da5ad19",
   "metadata": {
    "tags": []
   },
   "outputs": [],
   "source": [
    "mask"
   ]
  },
  {
   "cell_type": "code",
   "execution_count": null,
   "id": "26c9bcf1-744a-4187-bb56-f317c5ab51a0",
   "metadata": {},
   "outputs": [],
   "source": []
  }
 ],
 "metadata": {
  "kernelspec": {
   "display_name": "Python 3 (ipykernel)",
   "language": "python",
   "name": "python3"
  },
  "language_info": {
   "codemirror_mode": {
    "name": "ipython",
    "version": 3
   },
   "file_extension": ".py",
   "mimetype": "text/x-python",
   "name": "python",
   "nbconvert_exporter": "python",
   "pygments_lexer": "ipython3",
   "version": "3.11.7"
  }
 },
 "nbformat": 4,
 "nbformat_minor": 5
}
