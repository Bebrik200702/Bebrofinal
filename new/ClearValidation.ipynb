{
 "cells": [
  {
   "cell_type": "code",
   "execution_count": 1,
   "id": "654fb18b-db13-4161-b400-cc64e43a4320",
   "metadata": {
    "tags": []
   },
   "outputs": [],
   "source": [
    "import json\n",
    "val_data = json.load(open('val_annotations.json'))"
   ]
  },
  {
   "cell_type": "code",
   "execution_count": 2,
   "id": "0f5ca35b-981e-4197-a46a-f63768476d46",
   "metadata": {
    "tags": []
   },
   "outputs": [],
   "source": [
    "new_annotations = []\n",
    "for ann in val_data['annotations']:\n",
    "    if len(ann['segmentation'][0]) > 4:\n",
    "        new_annotations.append(ann) "
   ]
  },
  {
   "cell_type": "code",
   "execution_count": 3,
   "id": "3e450c14-68e8-4a16-a110-30f58c114dd6",
   "metadata": {
    "tags": []
   },
   "outputs": [
    {
     "data": {
      "text/plain": [
       "(9551, 9526)"
      ]
     },
     "execution_count": 3,
     "metadata": {},
     "output_type": "execute_result"
    }
   ],
   "source": [
    "len(val_data['annotations']), len(new_annotations)"
   ]
  },
  {
   "cell_type": "code",
   "execution_count": 4,
   "id": "f9d8f488-f932-425e-aa2e-6447b0715e4b",
   "metadata": {
    "tags": []
   },
   "outputs": [],
   "source": [
    "val_data['annotations'] = new_annotations"
   ]
  },
  {
   "cell_type": "code",
   "execution_count": 5,
   "id": "3e53acf4-4f52-4982-a97a-54172e190cf8",
   "metadata": {
    "tags": []
   },
   "outputs": [],
   "source": [
    "with open('clear_val_annotations.json','w') as f:\n",
    "    json.dump(val_data,f)"
   ]
  },
  {
   "cell_type": "code",
   "execution_count": 6,
   "id": "145f9129-ffa1-4c04-ba30-04c0706a1142",
   "metadata": {
    "tags": []
   },
   "outputs": [],
   "source": [
    "import json\n",
    "val_data = json.load(open('train_annotations.json'))"
   ]
  },
  {
   "cell_type": "code",
   "execution_count": 7,
   "id": "0f30e2e0-b25c-4dfe-8ecc-7cb24ccb653b",
   "metadata": {
    "tags": []
   },
   "outputs": [],
   "source": [
    "new_annotations = []\n",
    "for ann in val_data['annotations']:\n",
    "    if len(ann['segmentation'][0]) >= 6:\n",
    "        new_annotations.append(ann)"
   ]
  },
  {
   "cell_type": "code",
   "execution_count": 8,
   "id": "a7d8e253-464e-4568-87ac-5f46f4eda18c",
   "metadata": {
    "tags": []
   },
   "outputs": [
    {
     "data": {
      "text/plain": [
       "(18527, 18488)"
      ]
     },
     "execution_count": 8,
     "metadata": {},
     "output_type": "execute_result"
    }
   ],
   "source": [
    "len(val_data['annotations']), len(new_annotations)"
   ]
  },
  {
   "cell_type": "code",
   "execution_count": 9,
   "id": "3481b3e2-b16e-4c55-99ae-fc5dd5d79775",
   "metadata": {
    "tags": []
   },
   "outputs": [],
   "source": [
    "val_data['annotations'] = new_annotations"
   ]
  },
  {
   "cell_type": "code",
   "execution_count": 10,
   "id": "bd4b1257-f162-4da8-9d8e-1009fb3709af",
   "metadata": {
    "tags": []
   },
   "outputs": [],
   "source": [
    "with open('clear_train_annotations.json','w') as f:\n",
    "    json.dump(val_data,f)"
   ]
  },
  {
   "cell_type": "code",
   "execution_count": null,
   "id": "0fc14741-a35a-4198-841a-029144ec0859",
   "metadata": {},
   "outputs": [],
   "source": []
  }
 ],
 "metadata": {
  "kernelspec": {
   "display_name": "Python 3 (ipykernel)",
   "language": "python",
   "name": "python3"
  },
  "language_info": {
   "codemirror_mode": {
    "name": "ipython",
    "version": 3
   },
   "file_extension": ".py",
   "mimetype": "text/x-python",
   "name": "python",
   "nbconvert_exporter": "python",
   "pygments_lexer": "ipython3",
   "version": "3.11.7"
  }
 },
 "nbformat": 4,
 "nbformat_minor": 5
}
