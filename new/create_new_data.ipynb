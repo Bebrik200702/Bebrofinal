{
 "cells": [
  {
   "cell_type": "code",
   "execution_count": 1,
   "id": "d7da7066-e72f-425f-a727-d1dbc8a1915d",
   "metadata": {
    "tags": []
   },
   "outputs": [
    {
     "name": "stdout",
     "output_type": "stream",
     "text": [
      "rm: cannot remove 'yolo_new_split': No such file or directory\n"
     ]
    }
   ],
   "source": [
    "!rm -r yolo_new_split\n",
    "!mkdir yolo_new_split\n",
    "\n",
    "!mkdir yolo_new_split/train\n",
    "!mkdir yolo_new_split/val\n",
    "\n",
    "!mkdir yolo_new_split/train/images\n",
    "!mkdir yolo_new_split/val/images\n",
    "\n",
    "!mkdir yolo_new_split/train/labels\n",
    "!mkdir yolo_new_split/val/labels"
   ]
  },
  {
   "cell_type": "code",
   "execution_count": 2,
   "id": "15239dc6-20da-4090-afd8-7ca3094d2b73",
   "metadata": {
    "tags": []
   },
   "outputs": [],
   "source": [
    "import os\n",
    "import shutil\n",
    "from tqdm.auto import tqdm\n",
    "from sklearn.model_selection import train_test_split"
   ]
  },
  {
   "cell_type": "code",
   "execution_count": 3,
   "id": "4c912510-7a1b-4068-ad0b-bbef59681b9b",
   "metadata": {
    "tags": []
   },
   "outputs": [],
   "source": [
    "all_data = [f\"yolo_data/train/images/{x}\" for x in os.listdir('yolo_data/train/images')]\n",
    "all_data += [f\"yolo_data/val/images/{x}\" for x in os.listdir('yolo_data/val/images')]"
   ]
  },
  {
   "cell_type": "code",
   "execution_count": 4,
   "id": "2948f57a-f727-4e39-b788-f94456539496",
   "metadata": {
    "tags": []
   },
   "outputs": [],
   "source": [
    "train_data, val_data = train_test_split(all_data, test_size=0.03, random_state=42)"
   ]
  },
  {
   "cell_type": "code",
   "execution_count": 5,
   "id": "fb23165e-4039-45fc-ae71-850a137108ae",
   "metadata": {
    "tags": []
   },
   "outputs": [
    {
     "data": {
      "application/vnd.jupyter.widget-view+json": {
       "model_id": "2232237bd52442e5b1f177f538d27924",
       "version_major": 2,
       "version_minor": 0
      },
      "text/plain": [
       "  0%|          | 0/24432 [00:00<?, ?it/s]"
      ]
     },
     "metadata": {},
     "output_type": "display_data"
    }
   ],
   "source": [
    "cr_path = 'yolo_new_split'\n",
    "old_path = 'yolo_data'\n",
    "for path in tqdm(train_data):\n",
    "    new_path = path.replace(old_path,cr_path).replace('val','train')\n",
    "    shutil.copyfile(path,new_path)\n",
    "    label_path = path.replace('.JPG','.txt').replace('images','labels')\n",
    "    label_path_new = new_path.replace('.JPG','.txt').replace('images','labels')\n",
    "    shutil.copyfile(label_path,label_path_new)"
   ]
  },
  {
   "cell_type": "code",
   "execution_count": 6,
   "id": "9069150e-08d5-4e7f-9417-8c4314b6900b",
   "metadata": {
    "tags": []
   },
   "outputs": [
    {
     "data": {
      "application/vnd.jupyter.widget-view+json": {
       "model_id": "76d1532aba784fc7be6f1e32489ae1c1",
       "version_major": 2,
       "version_minor": 0
      },
      "text/plain": [
       "  0%|          | 0/756 [00:00<?, ?it/s]"
      ]
     },
     "metadata": {},
     "output_type": "display_data"
    }
   ],
   "source": [
    "cr_path = 'yolo_new_split'\n",
    "old_path = 'yolo_data'\n",
    "for path in tqdm(val_data):\n",
    "    new_path = path.replace(old_path,cr_path).replace('train','val')\n",
    "    shutil.copyfile(path,new_path)\n",
    "    label_path = path.replace('.JPG','.txt').replace('images','labels')\n",
    "    label_path_new = new_path.replace('.JPG','.txt').replace('images','labels')\n",
    "    shutil.copyfile(label_path,label_path_new)"
   ]
  }
 ],
 "metadata": {
  "kernelspec": {
   "display_name": "Python 3 (ipykernel)",
   "language": "python",
   "name": "python3"
  },
  "language_info": {
   "codemirror_mode": {
    "name": "ipython",
    "version": 3
   },
   "file_extension": ".py",
   "mimetype": "text/x-python",
   "name": "python",
   "nbconvert_exporter": "python",
   "pygments_lexer": "ipython3",
   "version": "3.11.7"
  }
 },
 "nbformat": 4,
 "nbformat_minor": 5
}
