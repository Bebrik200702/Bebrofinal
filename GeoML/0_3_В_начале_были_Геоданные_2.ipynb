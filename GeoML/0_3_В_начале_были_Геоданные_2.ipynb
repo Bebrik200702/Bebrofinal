{
  "nbformat": 4,
  "nbformat_minor": 0,
  "metadata": {
    "colab": {
      "provenance": []
    },
    "kernelspec": {
      "name": "python3",
      "display_name": "Python 3"
    },
    "language_info": {
      "name": "python"
    },
    "widgets": {
      "application/vnd.jupyter.widget-state+json": {
        "dab68d302f104f4982c029c5951829b9": {
          "model_module": "@jupyter-widgets/controls",
          "model_name": "HBoxModel",
          "model_module_version": "1.5.0",
          "state": {
            "_dom_classes": [],
            "_model_module": "@jupyter-widgets/controls",
            "_model_module_version": "1.5.0",
            "_model_name": "HBoxModel",
            "_view_count": null,
            "_view_module": "@jupyter-widgets/controls",
            "_view_module_version": "1.5.0",
            "_view_name": "HBoxView",
            "box_style": "",
            "children": [
              "IPY_MODEL_c587e1c7fc194ae895dbe6b5fdf9c1e3",
              "IPY_MODEL_2b420b09967c4739a3782ac46c21de30",
              "IPY_MODEL_5298222a01634e148965a5a0f5ff70a2"
            ],
            "layout": "IPY_MODEL_ba3c1f08f7454db8a0c26429eda76a5e"
          }
        },
        "c587e1c7fc194ae895dbe6b5fdf9c1e3": {
          "model_module": "@jupyter-widgets/controls",
          "model_name": "HTMLModel",
          "model_module_version": "1.5.0",
          "state": {
            "_dom_classes": [],
            "_model_module": "@jupyter-widgets/controls",
            "_model_module_version": "1.5.0",
            "_model_name": "HTMLModel",
            "_view_count": null,
            "_view_module": "@jupyter-widgets/controls",
            "_view_module_version": "1.5.0",
            "_view_name": "HTMLView",
            "description": "",
            "description_tooltip": null,
            "layout": "IPY_MODEL_e0285f9e5a9a46b4a6c40ed23e13ad1d",
            "placeholder": "​",
            "style": "IPY_MODEL_355bcd277f2b4a4db2170b8cd0635e57",
            "value": "100%"
          }
        },
        "2b420b09967c4739a3782ac46c21de30": {
          "model_module": "@jupyter-widgets/controls",
          "model_name": "FloatProgressModel",
          "model_module_version": "1.5.0",
          "state": {
            "_dom_classes": [],
            "_model_module": "@jupyter-widgets/controls",
            "_model_module_version": "1.5.0",
            "_model_name": "FloatProgressModel",
            "_view_count": null,
            "_view_module": "@jupyter-widgets/controls",
            "_view_module_version": "1.5.0",
            "_view_name": "ProgressView",
            "bar_style": "success",
            "description": "",
            "description_tooltip": null,
            "layout": "IPY_MODEL_0666c362e77748b19772673187310122",
            "max": 100,
            "min": 0,
            "orientation": "horizontal",
            "style": "IPY_MODEL_27d37de1282248fdb1efb5c0b603ce65",
            "value": 100
          }
        },
        "5298222a01634e148965a5a0f5ff70a2": {
          "model_module": "@jupyter-widgets/controls",
          "model_name": "HTMLModel",
          "model_module_version": "1.5.0",
          "state": {
            "_dom_classes": [],
            "_model_module": "@jupyter-widgets/controls",
            "_model_module_version": "1.5.0",
            "_model_name": "HTMLModel",
            "_view_count": null,
            "_view_module": "@jupyter-widgets/controls",
            "_view_module_version": "1.5.0",
            "_view_name": "HTMLView",
            "description": "",
            "description_tooltip": null,
            "layout": "IPY_MODEL_ac0b84e0566c4ab297144ec891abe6fb",
            "placeholder": "​",
            "style": "IPY_MODEL_4789873ead7745ababebc69d798d1bcc",
            "value": " 100/100 [00:00&lt;00:00,  1.03it/s]"
          }
        },
        "ba3c1f08f7454db8a0c26429eda76a5e": {
          "model_module": "@jupyter-widgets/base",
          "model_name": "LayoutModel",
          "model_module_version": "1.2.0",
          "state": {
            "_model_module": "@jupyter-widgets/base",
            "_model_module_version": "1.2.0",
            "_model_name": "LayoutModel",
            "_view_count": null,
            "_view_module": "@jupyter-widgets/base",
            "_view_module_version": "1.2.0",
            "_view_name": "LayoutView",
            "align_content": null,
            "align_items": null,
            "align_self": null,
            "border": null,
            "bottom": null,
            "display": null,
            "flex": null,
            "flex_flow": null,
            "grid_area": null,
            "grid_auto_columns": null,
            "grid_auto_flow": null,
            "grid_auto_rows": null,
            "grid_column": null,
            "grid_gap": null,
            "grid_row": null,
            "grid_template_areas": null,
            "grid_template_columns": null,
            "grid_template_rows": null,
            "height": null,
            "justify_content": null,
            "justify_items": null,
            "left": null,
            "margin": null,
            "max_height": null,
            "max_width": null,
            "min_height": null,
            "min_width": null,
            "object_fit": null,
            "object_position": null,
            "order": null,
            "overflow": null,
            "overflow_x": null,
            "overflow_y": null,
            "padding": null,
            "right": null,
            "top": null,
            "visibility": null,
            "width": null
          }
        },
        "e0285f9e5a9a46b4a6c40ed23e13ad1d": {
          "model_module": "@jupyter-widgets/base",
          "model_name": "LayoutModel",
          "model_module_version": "1.2.0",
          "state": {
            "_model_module": "@jupyter-widgets/base",
            "_model_module_version": "1.2.0",
            "_model_name": "LayoutModel",
            "_view_count": null,
            "_view_module": "@jupyter-widgets/base",
            "_view_module_version": "1.2.0",
            "_view_name": "LayoutView",
            "align_content": null,
            "align_items": null,
            "align_self": null,
            "border": null,
            "bottom": null,
            "display": null,
            "flex": null,
            "flex_flow": null,
            "grid_area": null,
            "grid_auto_columns": null,
            "grid_auto_flow": null,
            "grid_auto_rows": null,
            "grid_column": null,
            "grid_gap": null,
            "grid_row": null,
            "grid_template_areas": null,
            "grid_template_columns": null,
            "grid_template_rows": null,
            "height": null,
            "justify_content": null,
            "justify_items": null,
            "left": null,
            "margin": null,
            "max_height": null,
            "max_width": null,
            "min_height": null,
            "min_width": null,
            "object_fit": null,
            "object_position": null,
            "order": null,
            "overflow": null,
            "overflow_x": null,
            "overflow_y": null,
            "padding": null,
            "right": null,
            "top": null,
            "visibility": null,
            "width": null
          }
        },
        "355bcd277f2b4a4db2170b8cd0635e57": {
          "model_module": "@jupyter-widgets/controls",
          "model_name": "DescriptionStyleModel",
          "model_module_version": "1.5.0",
          "state": {
            "_model_module": "@jupyter-widgets/controls",
            "_model_module_version": "1.5.0",
            "_model_name": "DescriptionStyleModel",
            "_view_count": null,
            "_view_module": "@jupyter-widgets/base",
            "_view_module_version": "1.2.0",
            "_view_name": "StyleView",
            "description_width": ""
          }
        },
        "0666c362e77748b19772673187310122": {
          "model_module": "@jupyter-widgets/base",
          "model_name": "LayoutModel",
          "model_module_version": "1.2.0",
          "state": {
            "_model_module": "@jupyter-widgets/base",
            "_model_module_version": "1.2.0",
            "_model_name": "LayoutModel",
            "_view_count": null,
            "_view_module": "@jupyter-widgets/base",
            "_view_module_version": "1.2.0",
            "_view_name": "LayoutView",
            "align_content": null,
            "align_items": null,
            "align_self": null,
            "border": null,
            "bottom": null,
            "display": null,
            "flex": null,
            "flex_flow": null,
            "grid_area": null,
            "grid_auto_columns": null,
            "grid_auto_flow": null,
            "grid_auto_rows": null,
            "grid_column": null,
            "grid_gap": null,
            "grid_row": null,
            "grid_template_areas": null,
            "grid_template_columns": null,
            "grid_template_rows": null,
            "height": null,
            "justify_content": null,
            "justify_items": null,
            "left": null,
            "margin": null,
            "max_height": null,
            "max_width": null,
            "min_height": null,
            "min_width": null,
            "object_fit": null,
            "object_position": null,
            "order": null,
            "overflow": null,
            "overflow_x": null,
            "overflow_y": null,
            "padding": null,
            "right": null,
            "top": null,
            "visibility": null,
            "width": null
          }
        },
        "27d37de1282248fdb1efb5c0b603ce65": {
          "model_module": "@jupyter-widgets/controls",
          "model_name": "ProgressStyleModel",
          "model_module_version": "1.5.0",
          "state": {
            "_model_module": "@jupyter-widgets/controls",
            "_model_module_version": "1.5.0",
            "_model_name": "ProgressStyleModel",
            "_view_count": null,
            "_view_module": "@jupyter-widgets/base",
            "_view_module_version": "1.2.0",
            "_view_name": "StyleView",
            "bar_color": null,
            "description_width": ""
          }
        },
        "ac0b84e0566c4ab297144ec891abe6fb": {
          "model_module": "@jupyter-widgets/base",
          "model_name": "LayoutModel",
          "model_module_version": "1.2.0",
          "state": {
            "_model_module": "@jupyter-widgets/base",
            "_model_module_version": "1.2.0",
            "_model_name": "LayoutModel",
            "_view_count": null,
            "_view_module": "@jupyter-widgets/base",
            "_view_module_version": "1.2.0",
            "_view_name": "LayoutView",
            "align_content": null,
            "align_items": null,
            "align_self": null,
            "border": null,
            "bottom": null,
            "display": null,
            "flex": null,
            "flex_flow": null,
            "grid_area": null,
            "grid_auto_columns": null,
            "grid_auto_flow": null,
            "grid_auto_rows": null,
            "grid_column": null,
            "grid_gap": null,
            "grid_row": null,
            "grid_template_areas": null,
            "grid_template_columns": null,
            "grid_template_rows": null,
            "height": null,
            "justify_content": null,
            "justify_items": null,
            "left": null,
            "margin": null,
            "max_height": null,
            "max_width": null,
            "min_height": null,
            "min_width": null,
            "object_fit": null,
            "object_position": null,
            "order": null,
            "overflow": null,
            "overflow_x": null,
            "overflow_y": null,
            "padding": null,
            "right": null,
            "top": null,
            "visibility": null,
            "width": null
          }
        },
        "4789873ead7745ababebc69d798d1bcc": {
          "model_module": "@jupyter-widgets/controls",
          "model_name": "DescriptionStyleModel",
          "model_module_version": "1.5.0",
          "state": {
            "_model_module": "@jupyter-widgets/controls",
            "_model_module_version": "1.5.0",
            "_model_name": "DescriptionStyleModel",
            "_view_count": null,
            "_view_module": "@jupyter-widgets/base",
            "_view_module_version": "1.2.0",
            "_view_name": "StyleView",
            "description_width": ""
          }
        }
      }
    }
  },
  "cells": [
    {
      "cell_type": "markdown",
      "source": [
        "#Введение\n",
        "В данной практике разберем пару примеров геокодинга.\n",
        "\n",
        "Сначала рассмотрим самую популярную библиотеку `geopy`, далее попробуем использовать геокодер `Nominatium`, бесплатный `Yandex`, и в завершении посмотрим, как проводить геокодинг через GeoPandas (Да, снова повторимся, и скажем, что более подробно с GeoPandas-ом будем знакомиться чуть позже, а предварительно по маленькому кусочку будем смотреть на полезные инструменты данной библиотеки)."
      ],
      "metadata": {
        "id": "N_UQ8K4YLc6P"
      }
    },
    {
      "cell_type": "markdown",
      "source": [
        "# Импорт необходимых библиотек"
      ],
      "metadata": {
        "id": "YviZSZKPqt9l"
      }
    },
    {
      "cell_type": "code",
      "source": [
        "import requests\n",
        "import json\n",
        "from geopy.geocoders import Nominatim\n",
        "from geopy.geocoders import Yandex\n",
        "import pandas as pd\n",
        "import geopandas as gpd"
      ],
      "metadata": {
        "id": "kDwjOZqAMeBw"
      },
      "execution_count": 13,
      "outputs": []
    },
    {
      "cell_type": "markdown",
      "source": [
        "# Geopy"
      ],
      "metadata": {
        "id": "NJGESp39FV_2"
      }
    },
    {
      "cell_type": "markdown",
      "source": [
        "Как говорилось ранее с помощью `geopy` можно осуществлять геокодирование. Но важно помнить, что геокодирование предоставляется рядом различных сервисов, которые никак не связаны с `geopy`. Эти сервисы предоставляют API, которые может использовать любой желающий, а `geopy` - это просто библиотека, которая предоставляет эти реализации для множества различных сервисов в одном пакете.Данная библиотека собрала большинство геокодеров. Полный список геокодеров можно посмотреть [тут](https://geopy.readthedocs.io/en/stable/#module-geopy.geocoders)\n",
        "\n",
        "В примерах ниже показано прямое и обратно геокодирование с Nominatim. Nominatim -это геокодер для данных с OpenStreetMap."
      ],
      "metadata": {
        "id": "3UqzKFhdncRw"
      }
    },
    {
      "cell_type": "markdown",
      "source": [
        "Прямое геокодирование. На вход подаем адрес, на выходе получаем координаты"
      ],
      "metadata": {
        "id": "EYgZWj4HqFQz"
      }
    },
    {
      "cell_type": "code",
      "source": [
        "location_n.altitude"
      ],
      "metadata": {
        "id": "vAY9YzR7Ygbg",
        "outputId": "dd237a00-62fc-4051-d0ba-982696c1a9fe",
        "colab": {
          "base_uri": "https://localhost:8080/"
        }
      },
      "execution_count": 21,
      "outputs": [
        {
          "output_type": "execute_result",
          "data": {
            "text/plain": [
              "0.0"
            ]
          },
          "metadata": {},
          "execution_count": 21
        }
      ]
    },
    {
      "cell_type": "code",
      "source": [
        "from tqdm.auto import trange\n",
        "from functools import lru_cache\n",
        "\n",
        "@lru_cache(None)\n",
        "def gecode(x):\n",
        "  return geolocator_n.geocode(x)\n",
        "\n",
        "for _ in trange(100):\n",
        "  location_n = gecode(\"Санкт-Петербург\")"
      ],
      "metadata": {
        "id": "HCKjQ1qLYCCf",
        "outputId": "d74b9689-5dec-42f4-ada4-c4a15bbdbf0f",
        "colab": {
          "base_uri": "https://localhost:8080/",
          "height": 49,
          "referenced_widgets": [
            "dab68d302f104f4982c029c5951829b9",
            "c587e1c7fc194ae895dbe6b5fdf9c1e3",
            "2b420b09967c4739a3782ac46c21de30",
            "5298222a01634e148965a5a0f5ff70a2",
            "ba3c1f08f7454db8a0c26429eda76a5e",
            "e0285f9e5a9a46b4a6c40ed23e13ad1d",
            "355bcd277f2b4a4db2170b8cd0635e57",
            "0666c362e77748b19772673187310122",
            "27d37de1282248fdb1efb5c0b603ce65",
            "ac0b84e0566c4ab297144ec891abe6fb",
            "4789873ead7745ababebc69d798d1bcc"
          ]
        }
      },
      "execution_count": 17,
      "outputs": [
        {
          "output_type": "display_data",
          "data": {
            "text/plain": [
              "  0%|          | 0/100 [00:00<?, ?it/s]"
            ],
            "application/vnd.jupyter.widget-view+json": {
              "version_major": 2,
              "version_minor": 0,
              "model_id": "dab68d302f104f4982c029c5951829b9"
            }
          },
          "metadata": {}
        }
      ]
    },
    {
      "cell_type": "code",
      "source": [
        "# Инициализируем Nominatim API\n",
        "geolocator_n = Nominatim(user_agent=\"geopyExample\")\n",
        "\n",
        "# Геокодинг адреса\n",
        "location_n = geolocator_n.geocode(\"ул. Достоевского 38\")\n",
        "\n",
        "# Выведем широту, долготу\n",
        "print(\"Широта:\", location_n.latitude)\n",
        "print(\"Долгота:\", location_n.longitude)"
      ],
      "metadata": {
        "colab": {
          "base_uri": "https://localhost:8080/"
        },
        "id": "T61FUVxhEDmX",
        "outputId": "e780838d-d548-4dde-822d-96b79c937c4e"
      },
      "execution_count": 22,
      "outputs": [
        {
          "output_type": "stream",
          "name": "stderr",
          "text": [
            "WARNING:urllib3.connectionpool:Retrying (Retry(total=1, connect=None, read=None, redirect=None, status=None)) after connection broken by 'ReadTimeoutError(\"HTTPSConnectionPool(host='nominatim.openstreetmap.org', port=443): Read timed out. (read timeout=1)\")': /search?q=%D1%83%D0%BB.+%D0%94%D0%BE%D1%81%D1%82%D0%BE%D0%B5%D0%B2%D1%81%D0%BA%D0%BE%D0%B3%D0%BE+38&format=json&limit=1\n"
          ]
        },
        {
          "output_type": "stream",
          "name": "stdout",
          "text": [
            "Широта: 59.9226989\n",
            "Долгота: 30.346094880025056\n"
          ]
        }
      ]
    },
    {
      "cell_type": "markdown",
      "source": [
        "---"
      ],
      "metadata": {
        "id": "AmaIZoDNy4W2"
      }
    },
    {
      "cell_type": "markdown",
      "source": [
        "Обратное геокодирование. На вход подаем координаты, на выходе получаем адрес"
      ],
      "metadata": {
        "id": "tp_swxBinSzZ"
      }
    },
    {
      "cell_type": "code",
      "source": [
        "# Геокодинг координат\n",
        "location_n = geolocator_n.reverse(\"55.7339688, 37.5884817\")\n",
        "\n",
        "# Выведем адрес\n",
        "print(location_n.address)\n",
        "\n",
        "# Выведем сырые данные\n",
        "print(location_n.raw)"
      ],
      "metadata": {
        "colab": {
          "base_uri": "https://localhost:8080/"
        },
        "id": "pMoR3vCCqDGC",
        "outputId": "2812daaf-6025-43b5-e5b3-3258bf509b6c"
      },
      "execution_count": 23,
      "outputs": [
        {
          "output_type": "stream",
          "name": "stdout",
          "text": [
            "Яндекс, 16, улица Льва Толстого, район Хамовники, Москва, Центральный федеральный округ, 119034, Россия\n",
            "{'place_id': 181313633, 'licence': 'Data © OpenStreetMap contributors, ODbL 1.0. http://osm.org/copyright', 'osm_type': 'node', 'osm_id': 4066982689, 'lat': '55.7339688', 'lon': '37.5884817', 'class': 'office', 'type': 'company', 'place_rank': 30, 'importance': 0.5760477525309389, 'addresstype': 'office', 'name': 'Яндекс', 'display_name': 'Яндекс, 16, улица Льва Толстого, район Хамовники, Москва, Центральный федеральный округ, 119034, Россия', 'address': {'office': 'Яндекс', 'house_number': '16', 'road': 'улица Льва Толстого', 'suburb': 'район Хамовники', 'city': 'Москва', 'state': 'Москва', 'ISO3166-2-lvl4': 'RU-MOW', 'region': 'Центральный федеральный округ', 'postcode': '119034', 'country': 'Россия', 'country_code': 'ru'}, 'boundingbox': ['55.7339188', '55.7340188', '37.5884317', '37.5885317']}\n"
          ]
        }
      ]
    },
    {
      "cell_type": "markdown",
      "source": [
        "Как видно сырые данные содержат еще много полезной информации"
      ],
      "metadata": {
        "id": "DYa0af8luh6q"
      }
    },
    {
      "cell_type": "markdown",
      "source": [
        "# Бесплатный Yandex"
      ],
      "metadata": {
        "id": "xFsArsHWGE1J"
      }
    },
    {
      "cell_type": "markdown",
      "source": [
        "Перейдем к бесплатному сервису геокодинга от Yandex.\n",
        "\n",
        "Бесплатно доступно до 1000 запросов в сутки. Более подробно с ценовой политикой можно ознакомиться [тут](https://yandex.ru/maps-api/products/geocoder-api#price). Бесплатное использование возможно при соблюдении определенных условий. Полный перечень условий находится [тут](https://yandex.ru/dev/commercial/doc/ru/?from=mapsapi).\n",
        "\n",
        "Документация [тут](https://yandex.com/dev/geocode/doc/ru/)\n",
        "\n",
        "От себя добавлю, что регистрация и получений API-ключа занимает максимум 5 минут и пару кликов.\n",
        "\n",
        "Рассмотрим два варианта использования сервиса:\n",
        "* через geopy\n",
        "* через посылку http запросов"
      ],
      "metadata": {
        "id": "c-YJmbp4uveo"
      }
    },
    {
      "cell_type": "markdown",
      "source": [
        "## Через geopy"
      ],
      "metadata": {
        "id": "YJYLBBbKvwNk"
      }
    },
    {
      "cell_type": "markdown",
      "source": [
        "Прямое геокодирование"
      ],
      "metadata": {
        "id": "ZyYXQRuEyv5i"
      }
    },
    {
      "cell_type": "code",
      "source": [
        "# Инициализируем Yandex API\n",
        "# Вам нужно будет подставить свой API-ключ\n",
        "geolocator_y = Yandex(api_key='YOUR_API_KEY')\n",
        "\n",
        "# Геокодинг адреса\n",
        "location_y = geolocator_y.geocode(\"ул. Льва Толстого, 16, Москва\",\n",
        "                              lang='ru_RU') # язык тоже обязательный параметр\n",
        "\n",
        "# Выведем широту, долготу\n",
        "print(\"Широта:\", location_y.latitude)\n",
        "print(\"Долгота:\", location_y.longitude)"
      ],
      "metadata": {
        "colab": {
          "base_uri": "https://localhost:8080/"
        },
        "id": "eH2AdylcHFd8",
        "outputId": "eb59c6d0-333b-4b5c-a417-0c74a63227f1"
      },
      "execution_count": null,
      "outputs": [
        {
          "output_type": "stream",
          "name": "stdout",
          "text": [
            "Широта: 55.733974\n",
            "Долгота: 37.587093\n"
          ]
        }
      ]
    },
    {
      "cell_type": "markdown",
      "source": [
        "Видно что чуть-чуть отличаются координаты"
      ],
      "metadata": {
        "id": "RL9NWAF3yJQc"
      }
    },
    {
      "cell_type": "markdown",
      "source": [
        "---"
      ],
      "metadata": {
        "id": "yBgMauFJy2TK"
      }
    },
    {
      "cell_type": "markdown",
      "source": [
        "Обратное геокодирование"
      ],
      "metadata": {
        "id": "LjS0HF5Myzz7"
      }
    },
    {
      "cell_type": "code",
      "source": [
        "# Геокодинг координат\n",
        "location_y = geolocator_y.reverse(\"55.733974, 37.587093\")\n",
        "\n",
        "# Выведем адрес\n",
        "print(location_y.address)\n",
        "\n",
        "# Выведем сырые данные\n",
        "print(location_y.raw)"
      ],
      "metadata": {
        "colab": {
          "base_uri": "https://localhost:8080/",
          "height": 201
        },
        "id": "lCSfBa5ny7Oj",
        "outputId": "6569fd92-36b1-48dd-93ae-67264248e056"
      },
      "execution_count": 24,
      "outputs": [
        {
          "output_type": "error",
          "ename": "NameError",
          "evalue": "name 'geolocator_y' is not defined",
          "traceback": [
            "\u001b[0;31m---------------------------------------------------------------------------\u001b[0m",
            "\u001b[0;31mNameError\u001b[0m                                 Traceback (most recent call last)",
            "\u001b[0;32m<ipython-input-24-797230f8ef7f>\u001b[0m in \u001b[0;36m<cell line: 2>\u001b[0;34m()\u001b[0m\n\u001b[1;32m      1\u001b[0m \u001b[0;31m# Геокодинг координат\u001b[0m\u001b[0;34m\u001b[0m\u001b[0;34m\u001b[0m\u001b[0m\n\u001b[0;32m----> 2\u001b[0;31m \u001b[0mlocation_y\u001b[0m \u001b[0;34m=\u001b[0m \u001b[0mgeolocator_y\u001b[0m\u001b[0;34m.\u001b[0m\u001b[0mreverse\u001b[0m\u001b[0;34m(\u001b[0m\u001b[0;34m\"55.733974, 37.587093\"\u001b[0m\u001b[0;34m)\u001b[0m\u001b[0;34m\u001b[0m\u001b[0;34m\u001b[0m\u001b[0m\n\u001b[0m\u001b[1;32m      3\u001b[0m \u001b[0;34m\u001b[0m\u001b[0m\n\u001b[1;32m      4\u001b[0m \u001b[0;31m# Выведем адрес\u001b[0m\u001b[0;34m\u001b[0m\u001b[0;34m\u001b[0m\u001b[0m\n\u001b[1;32m      5\u001b[0m \u001b[0mprint\u001b[0m\u001b[0;34m(\u001b[0m\u001b[0mlocation_y\u001b[0m\u001b[0;34m.\u001b[0m\u001b[0maddress\u001b[0m\u001b[0;34m)\u001b[0m\u001b[0;34m\u001b[0m\u001b[0;34m\u001b[0m\u001b[0m\n",
            "\u001b[0;31mNameError\u001b[0m: name 'geolocator_y' is not defined"
          ]
        }
      ]
    },
    {
      "cell_type": "markdown",
      "source": [
        "## Через http-запросы"
      ],
      "metadata": {
        "id": "AZm_9oS9yPNM"
      }
    },
    {
      "cell_type": "markdown",
      "source": [
        "Чтобы отправить http-запрос воспользуемся библиотекой `reqrequests`"
      ],
      "metadata": {
        "id": "rvzegGMZPzeh"
      }
    },
    {
      "cell_type": "code",
      "source": [
        "url = \"https://geocode-maps.yandex.ru/1.x/\"\n",
        "\n",
        "\n",
        "# отправим тот же адрес\n",
        "params = {'apikey': 'YOUR_API_KEY',\n",
        "          'geocode': 'ул. Льва Толстого, 16, Москва',\n",
        "          'lang': 'ru_RU',\n",
        "          'format':'json'\n",
        "          }\n",
        "\n",
        "headers = {\n",
        "    'User-Agent': 'Mozilla/5.0 (Windows NT 10.0; Win64; x64) \\\n",
        "    AppleWebKit/537.36 (KHTML, like Gecko) Chrome/91.0.4472.124 Safari/537.36'\n",
        "}\n",
        "\n",
        "with requests.Session() as session:\n",
        "    response = session.get(url, params=params, headers=headers)\n",
        "\n",
        "\n",
        "data = json.loads(response.text)\n",
        "formatted_address = data[\"response\"][\"GeoObjectCollection\"][\"featureMember\"]\\\n",
        "                        [0][\"GeoObject\"][\"Point\"]['pos']\n",
        "\n",
        "# Выводим координаты\n",
        "print(formatted_address)"
      ],
      "metadata": {
        "colab": {
          "base_uri": "https://localhost:8080/"
        },
        "id": "lScKkpSqyO1G",
        "outputId": "ea912f36-ff64-4e20-af79-36d337600fb6"
      },
      "execution_count": null,
      "outputs": [
        {
          "output_type": "stream",
          "name": "stdout",
          "text": [
            "37.587093 55.733974\n"
          ]
        }
      ]
    },
    {
      "cell_type": "markdown",
      "source": [
        "Обратное геокодирование выполняется аналогично, единственно нужно будет изменить `formatted_address`, согласно структуре json-ответа."
      ],
      "metadata": {
        "id": "4H2kneGrQLSC"
      }
    },
    {
      "cell_type": "markdown",
      "source": [
        "# Geocoding via GeoPandas"
      ],
      "metadata": {
        "id": "a42BI7ogHInl"
      }
    },
    {
      "cell_type": "markdown",
      "source": [
        "Для геокодинга через ГеоПандас создадим маленький датафрейм и воспользуемся знакомым Nominatium для геокодинга"
      ],
      "metadata": {
        "id": "8kyLcBXGZxnb"
      }
    },
    {
      "cell_type": "code",
      "source": [
        "# Создаем датафрейм\n",
        "df = pd.DataFrame({'addr': 'ул. Льва Толстого, 16, Москва'}, [0])\n",
        "df.head()"
      ],
      "metadata": {
        "colab": {
          "base_uri": "https://localhost:8080/",
          "height": 78
        },
        "id": "lBAXEMF7HInl",
        "outputId": "0b8e28ec-4032-4a03-deec-8f2128946820"
      },
      "execution_count": 25,
      "outputs": [
        {
          "output_type": "execute_result",
          "data": {
            "text/plain": [
              "                            addr\n",
              "0  ул. Льва Толстого, 16, Москва"
            ],
            "text/html": [
              "\n",
              "  <div id=\"df-257ad60c-5421-4817-bef9-91a7a7aeaeb2\" class=\"colab-df-container\">\n",
              "    <div>\n",
              "<style scoped>\n",
              "    .dataframe tbody tr th:only-of-type {\n",
              "        vertical-align: middle;\n",
              "    }\n",
              "\n",
              "    .dataframe tbody tr th {\n",
              "        vertical-align: top;\n",
              "    }\n",
              "\n",
              "    .dataframe thead th {\n",
              "        text-align: right;\n",
              "    }\n",
              "</style>\n",
              "<table border=\"1\" class=\"dataframe\">\n",
              "  <thead>\n",
              "    <tr style=\"text-align: right;\">\n",
              "      <th></th>\n",
              "      <th>addr</th>\n",
              "    </tr>\n",
              "  </thead>\n",
              "  <tbody>\n",
              "    <tr>\n",
              "      <th>0</th>\n",
              "      <td>ул. Льва Толстого, 16, Москва</td>\n",
              "    </tr>\n",
              "  </tbody>\n",
              "</table>\n",
              "</div>\n",
              "    <div class=\"colab-df-buttons\">\n",
              "\n",
              "  <div class=\"colab-df-container\">\n",
              "    <button class=\"colab-df-convert\" onclick=\"convertToInteractive('df-257ad60c-5421-4817-bef9-91a7a7aeaeb2')\"\n",
              "            title=\"Convert this dataframe to an interactive table.\"\n",
              "            style=\"display:none;\">\n",
              "\n",
              "  <svg xmlns=\"http://www.w3.org/2000/svg\" height=\"24px\" viewBox=\"0 -960 960 960\">\n",
              "    <path d=\"M120-120v-720h720v720H120Zm60-500h600v-160H180v160Zm220 220h160v-160H400v160Zm0 220h160v-160H400v160ZM180-400h160v-160H180v160Zm440 0h160v-160H620v160ZM180-180h160v-160H180v160Zm440 0h160v-160H620v160Z\"/>\n",
              "  </svg>\n",
              "    </button>\n",
              "\n",
              "  <style>\n",
              "    .colab-df-container {\n",
              "      display:flex;\n",
              "      gap: 12px;\n",
              "    }\n",
              "\n",
              "    .colab-df-convert {\n",
              "      background-color: #E8F0FE;\n",
              "      border: none;\n",
              "      border-radius: 50%;\n",
              "      cursor: pointer;\n",
              "      display: none;\n",
              "      fill: #1967D2;\n",
              "      height: 32px;\n",
              "      padding: 0 0 0 0;\n",
              "      width: 32px;\n",
              "    }\n",
              "\n",
              "    .colab-df-convert:hover {\n",
              "      background-color: #E2EBFA;\n",
              "      box-shadow: 0px 1px 2px rgba(60, 64, 67, 0.3), 0px 1px 3px 1px rgba(60, 64, 67, 0.15);\n",
              "      fill: #174EA6;\n",
              "    }\n",
              "\n",
              "    .colab-df-buttons div {\n",
              "      margin-bottom: 4px;\n",
              "    }\n",
              "\n",
              "    [theme=dark] .colab-df-convert {\n",
              "      background-color: #3B4455;\n",
              "      fill: #D2E3FC;\n",
              "    }\n",
              "\n",
              "    [theme=dark] .colab-df-convert:hover {\n",
              "      background-color: #434B5C;\n",
              "      box-shadow: 0px 1px 3px 1px rgba(0, 0, 0, 0.15);\n",
              "      filter: drop-shadow(0px 1px 2px rgba(0, 0, 0, 0.3));\n",
              "      fill: #FFFFFF;\n",
              "    }\n",
              "  </style>\n",
              "\n",
              "    <script>\n",
              "      const buttonEl =\n",
              "        document.querySelector('#df-257ad60c-5421-4817-bef9-91a7a7aeaeb2 button.colab-df-convert');\n",
              "      buttonEl.style.display =\n",
              "        google.colab.kernel.accessAllowed ? 'block' : 'none';\n",
              "\n",
              "      async function convertToInteractive(key) {\n",
              "        const element = document.querySelector('#df-257ad60c-5421-4817-bef9-91a7a7aeaeb2');\n",
              "        const dataTable =\n",
              "          await google.colab.kernel.invokeFunction('convertToInteractive',\n",
              "                                                    [key], {});\n",
              "        if (!dataTable) return;\n",
              "\n",
              "        const docLinkHtml = 'Like what you see? Visit the ' +\n",
              "          '<a target=\"_blank\" href=https://colab.research.google.com/notebooks/data_table.ipynb>data table notebook</a>'\n",
              "          + ' to learn more about interactive tables.';\n",
              "        element.innerHTML = '';\n",
              "        dataTable['output_type'] = 'display_data';\n",
              "        await google.colab.output.renderOutput(dataTable, element);\n",
              "        const docLink = document.createElement('div');\n",
              "        docLink.innerHTML = docLinkHtml;\n",
              "        element.appendChild(docLink);\n",
              "      }\n",
              "    </script>\n",
              "  </div>\n",
              "\n",
              "    </div>\n",
              "  </div>\n"
            ],
            "application/vnd.google.colaboratory.intrinsic+json": {
              "type": "dataframe",
              "variable_name": "df",
              "summary": "{\n  \"name\": \"df\",\n  \"rows\": 1,\n  \"fields\": [\n    {\n      \"column\": \"addr\",\n      \"properties\": {\n        \"dtype\": \"string\",\n        \"num_unique_values\": 1,\n        \"samples\": [\n          \"\\u0443\\u043b. \\u041b\\u044c\\u0432\\u0430 \\u0422\\u043e\\u043b\\u0441\\u0442\\u043e\\u0433\\u043e, 16, \\u041c\\u043e\\u0441\\u043a\\u0432\\u0430\"\n        ],\n        \"semantic_type\": \"\",\n        \"description\": \"\"\n      }\n    }\n  ]\n}"
            }
          },
          "metadata": {},
          "execution_count": 25
        }
      ]
    },
    {
      "cell_type": "code",
      "source": [
        "geocoded_df['geometry'][0]"
      ],
      "metadata": {
        "id": "ibhCiUSBaAKL",
        "outputId": "5e8ab454-bb4f-420d-a1e4-e2dfed62cae9",
        "colab": {
          "base_uri": "https://localhost:8080/",
          "height": 120
        }
      },
      "execution_count": 31,
      "outputs": [
        {
          "output_type": "execute_result",
          "data": {
            "text/plain": [
              "<POINT (37.588 55.734)>"
            ],
            "image/svg+xml": "<svg xmlns=\"http://www.w3.org/2000/svg\" xmlns:xlink=\"http://www.w3.org/1999/xlink\" width=\"100.0\" height=\"100.0\" viewBox=\"36.5884817 54.7339688 2.0 2.0\" preserveAspectRatio=\"xMinYMin meet\"><g transform=\"matrix(1,0,0,-1,0,111.4679376)\"><circle cx=\"37.5884817\" cy=\"55.7339688\" r=\"0.06\" stroke=\"#555555\" stroke-width=\"0.02\" fill=\"#66cc99\" opacity=\"0.6\" /></g></svg>"
          },
          "metadata": {},
          "execution_count": 31
        }
      ]
    },
    {
      "cell_type": "code",
      "source": [
        "geocoded_df = gpd.tools.geocode(\n",
        "    # указываем колонку с адресами для геокодинга\n",
        "    df[\"addr\"],\n",
        "    # Инициализируем Nominatium\n",
        "    provider=\"nominatim\",\n",
        "    user_agent=\"geopyExample\",\n",
        "    # Поиск адреса — довольно дорогостоящая операция. Вот почему иногда\n",
        "    # общедоступному и бесплатному серверу Nominatim требуется немного больше\n",
        "    # времени для ответа. Ставим 10 сек ожидания ответа\n",
        "    timeout=10\n",
        ")\n",
        "geocoded_df.head()"
      ],
      "metadata": {
        "colab": {
          "base_uri": "https://localhost:8080/",
          "height": 78
        },
        "id": "pDs65YSxawJX",
        "outputId": "894dcd12-9ac4-465b-f0ce-f968bd312bca"
      },
      "execution_count": 26,
      "outputs": [
        {
          "output_type": "execute_result",
          "data": {
            "text/plain": [
              "                    geometry  \\\n",
              "0  POINT (37.58848 55.73397)   \n",
              "\n",
              "                                             address  \n",
              "0  Яндекс, 16, улица Льва Толстого, район Хамовни...  "
            ],
            "text/html": [
              "\n",
              "  <div id=\"df-ebf4732d-b5f8-4414-b212-d8a0bed603ee\" class=\"colab-df-container\">\n",
              "    <div>\n",
              "<style scoped>\n",
              "    .dataframe tbody tr th:only-of-type {\n",
              "        vertical-align: middle;\n",
              "    }\n",
              "\n",
              "    .dataframe tbody tr th {\n",
              "        vertical-align: top;\n",
              "    }\n",
              "\n",
              "    .dataframe thead th {\n",
              "        text-align: right;\n",
              "    }\n",
              "</style>\n",
              "<table border=\"1\" class=\"dataframe\">\n",
              "  <thead>\n",
              "    <tr style=\"text-align: right;\">\n",
              "      <th></th>\n",
              "      <th>geometry</th>\n",
              "      <th>address</th>\n",
              "    </tr>\n",
              "  </thead>\n",
              "  <tbody>\n",
              "    <tr>\n",
              "      <th>0</th>\n",
              "      <td>POINT (37.58848 55.73397)</td>\n",
              "      <td>Яндекс, 16, улица Льва Толстого, район Хамовни...</td>\n",
              "    </tr>\n",
              "  </tbody>\n",
              "</table>\n",
              "</div>\n",
              "    <div class=\"colab-df-buttons\">\n",
              "\n",
              "  <div class=\"colab-df-container\">\n",
              "    <button class=\"colab-df-convert\" onclick=\"convertToInteractive('df-ebf4732d-b5f8-4414-b212-d8a0bed603ee')\"\n",
              "            title=\"Convert this dataframe to an interactive table.\"\n",
              "            style=\"display:none;\">\n",
              "\n",
              "  <svg xmlns=\"http://www.w3.org/2000/svg\" height=\"24px\" viewBox=\"0 -960 960 960\">\n",
              "    <path d=\"M120-120v-720h720v720H120Zm60-500h600v-160H180v160Zm220 220h160v-160H400v160Zm0 220h160v-160H400v160ZM180-400h160v-160H180v160Zm440 0h160v-160H620v160ZM180-180h160v-160H180v160Zm440 0h160v-160H620v160Z\"/>\n",
              "  </svg>\n",
              "    </button>\n",
              "\n",
              "  <style>\n",
              "    .colab-df-container {\n",
              "      display:flex;\n",
              "      gap: 12px;\n",
              "    }\n",
              "\n",
              "    .colab-df-convert {\n",
              "      background-color: #E8F0FE;\n",
              "      border: none;\n",
              "      border-radius: 50%;\n",
              "      cursor: pointer;\n",
              "      display: none;\n",
              "      fill: #1967D2;\n",
              "      height: 32px;\n",
              "      padding: 0 0 0 0;\n",
              "      width: 32px;\n",
              "    }\n",
              "\n",
              "    .colab-df-convert:hover {\n",
              "      background-color: #E2EBFA;\n",
              "      box-shadow: 0px 1px 2px rgba(60, 64, 67, 0.3), 0px 1px 3px 1px rgba(60, 64, 67, 0.15);\n",
              "      fill: #174EA6;\n",
              "    }\n",
              "\n",
              "    .colab-df-buttons div {\n",
              "      margin-bottom: 4px;\n",
              "    }\n",
              "\n",
              "    [theme=dark] .colab-df-convert {\n",
              "      background-color: #3B4455;\n",
              "      fill: #D2E3FC;\n",
              "    }\n",
              "\n",
              "    [theme=dark] .colab-df-convert:hover {\n",
              "      background-color: #434B5C;\n",
              "      box-shadow: 0px 1px 3px 1px rgba(0, 0, 0, 0.15);\n",
              "      filter: drop-shadow(0px 1px 2px rgba(0, 0, 0, 0.3));\n",
              "      fill: #FFFFFF;\n",
              "    }\n",
              "  </style>\n",
              "\n",
              "    <script>\n",
              "      const buttonEl =\n",
              "        document.querySelector('#df-ebf4732d-b5f8-4414-b212-d8a0bed603ee button.colab-df-convert');\n",
              "      buttonEl.style.display =\n",
              "        google.colab.kernel.accessAllowed ? 'block' : 'none';\n",
              "\n",
              "      async function convertToInteractive(key) {\n",
              "        const element = document.querySelector('#df-ebf4732d-b5f8-4414-b212-d8a0bed603ee');\n",
              "        const dataTable =\n",
              "          await google.colab.kernel.invokeFunction('convertToInteractive',\n",
              "                                                    [key], {});\n",
              "        if (!dataTable) return;\n",
              "\n",
              "        const docLinkHtml = 'Like what you see? Visit the ' +\n",
              "          '<a target=\"_blank\" href=https://colab.research.google.com/notebooks/data_table.ipynb>data table notebook</a>'\n",
              "          + ' to learn more about interactive tables.';\n",
              "        element.innerHTML = '';\n",
              "        dataTable['output_type'] = 'display_data';\n",
              "        await google.colab.output.renderOutput(dataTable, element);\n",
              "        const docLink = document.createElement('div');\n",
              "        docLink.innerHTML = docLinkHtml;\n",
              "        element.appendChild(docLink);\n",
              "      }\n",
              "    </script>\n",
              "  </div>\n",
              "\n",
              "    </div>\n",
              "  </div>\n"
            ],
            "application/vnd.google.colaboratory.intrinsic+json": {
              "type": "dataframe",
              "variable_name": "geocoded_df",
              "summary": "{\n  \"name\": \"geocoded_df\",\n  \"rows\": 1,\n  \"fields\": [\n    {\n      \"column\": \"geometry\",\n      \"properties\": {\n        \"dtype\": \"geometry\",\n        \"num_unique_values\": 1,\n        \"samples\": [\n          \"POINT (37.5884817 55.7339688)\"\n        ],\n        \"semantic_type\": \"\",\n        \"description\": \"\"\n      }\n    },\n    {\n      \"column\": \"address\",\n      \"properties\": {\n        \"dtype\": \"string\",\n        \"num_unique_values\": 1,\n        \"samples\": [\n          \"\\u042f\\u043d\\u0434\\u0435\\u043a\\u0441, 16, \\u0443\\u043b\\u0438\\u0446\\u0430 \\u041b\\u044c\\u0432\\u0430 \\u0422\\u043e\\u043b\\u0441\\u0442\\u043e\\u0433\\u043e, \\u0440\\u0430\\u0439\\u043e\\u043d \\u0425\\u0430\\u043c\\u043e\\u0432\\u043d\\u0438\\u043a\\u0438, \\u041c\\u043e\\u0441\\u043a\\u0432\\u0430, \\u0426\\u0435\\u043d\\u0442\\u0440\\u0430\\u043b\\u044c\\u043d\\u044b\\u0439 \\u0444\\u0435\\u0434\\u0435\\u0440\\u0430\\u043b\\u044c\\u043d\\u044b\\u0439 \\u043e\\u043a\\u0440\\u0443\\u0433, 119034, \\u0420\\u043e\\u0441\\u0441\\u0438\\u044f\"\n        ],\n        \"semantic_type\": \"\",\n        \"description\": \"\"\n      }\n    }\n  ]\n}"
            }
          },
          "metadata": {},
          "execution_count": 26
        }
      ]
    },
    {
      "cell_type": "markdown",
      "source": [
        "На выходе получили готовый геодатафрейм с полным адресом и координатами. Очень удобно, согласитесь ?\n",
        "\n",
        "Обратное геокодирование выполняется аналогично."
      ],
      "metadata": {
        "id": "XmpwDPD8bsgf"
      }
    }
  ]
}