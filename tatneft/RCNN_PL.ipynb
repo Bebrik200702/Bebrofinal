{
 "cells": [
  {
   "cell_type": "code",
   "execution_count": 5,
   "id": "acfea3c4-1283-4cd6-8081-5a605c43726d",
   "metadata": {
    "tags": []
   },
   "outputs": [],
   "source": [
    "%%capture\n",
    "!pip install albumentations pytorch-lightning\n",
    "!pip install wandb -U"
   ]
  },
  {
   "cell_type": "code",
   "execution_count": 4,
   "id": "7b28e928-06af-43c1-81f1-ce364f40b09d",
   "metadata": {
    "tags": []
   },
   "outputs": [
    {
     "ename": "ModuleNotFoundError",
     "evalue": "No module named 'pytorch_lightning'",
     "output_type": "error",
     "traceback": [
      "\u001b[0;31m---------------------------------------------------------------------------\u001b[0m",
      "\u001b[0;31mModuleNotFoundError\u001b[0m                       Traceback (most recent call last)",
      "Cell \u001b[0;32mIn[4], line 7\u001b[0m\n\u001b[1;32m      5\u001b[0m \u001b[38;5;28;01mimport\u001b[39;00m \u001b[38;5;21;01mgc\u001b[39;00m\n\u001b[1;32m      6\u001b[0m \u001b[38;5;28;01mimport\u001b[39;00m \u001b[38;5;21;01mmatplotlib\u001b[39;00m\u001b[38;5;21;01m.\u001b[39;00m\u001b[38;5;21;01mpyplot\u001b[39;00m \u001b[38;5;28;01mas\u001b[39;00m \u001b[38;5;21;01mplt\u001b[39;00m\n\u001b[0;32m----> 7\u001b[0m \u001b[38;5;28;01mimport\u001b[39;00m \u001b[38;5;21;01mpytorch_lightning\u001b[39;00m \u001b[38;5;28;01mas\u001b[39;00m \u001b[38;5;21;01mpl\u001b[39;00m\n\u001b[1;32m      8\u001b[0m \u001b[38;5;28;01mfrom\u001b[39;00m \u001b[38;5;21;01msklearn\u001b[39;00m\u001b[38;5;21;01m.\u001b[39;00m\u001b[38;5;21;01mmodel_selection\u001b[39;00m \u001b[38;5;28;01mimport\u001b[39;00m train_test_split, KFold, StratifiedGroupKFold\n\u001b[1;32m      9\u001b[0m \u001b[38;5;28;01mfrom\u001b[39;00m \u001b[38;5;21;01mtorch\u001b[39;00m\u001b[38;5;21;01m.\u001b[39;00m\u001b[38;5;21;01mnn\u001b[39;00m\u001b[38;5;21;01m.\u001b[39;00m\u001b[38;5;21;01mutils\u001b[39;00m\u001b[38;5;21;01m.\u001b[39;00m\u001b[38;5;21;01mrnn\u001b[39;00m \u001b[38;5;28;01mimport\u001b[39;00m pad_sequence\n",
      "\u001b[0;31mModuleNotFoundError\u001b[0m: No module named 'pytorch_lightning'"
     ]
    }
   ],
   "source": [
    "import os\n",
    "import pandas as pd\n",
    "import numpy as np\n",
    "from PIL import Image\n",
    "import gc\n",
    "import matplotlib.pyplot as plt\n",
    "import pytorch_lightning as pl\n",
    "from sklearn.model_selection import train_test_split, KFold, StratifiedGroupKFold\n",
    "from torch.nn.utils.rnn import pad_sequence\n",
    "import cv2\n",
    "import h5py\n",
    "import io\n",
    "import pandas.api.types\n",
    "import random\n",
    "import sklearn.metrics\n",
    "import torch\n",
    "import torch.nn as nn\n",
    "from torch.utils.data import Dataset, DataLoader\n",
    "from tqdm.auto import tqdm\n",
    "import pandas.api.types\n",
    "import sklearn.metrics\n",
    "from math import sin,cos,pi\n",
    "from sklearn.metrics import roc_auc_score, auc, roc_curve\n",
    "import albumentations as A\n",
    "from albumentations.pytorch.transforms import ToTensorV2\n",
    "from transformers import get_cosine_schedule_with_warmup\n",
    "from catboost import CatBoostClassifier, Pool, cv\n",
    "from copy import deepcopy\n",
    "import wandb\n",
    "import timm "
   ]
  },
  {
   "cell_type": "code",
   "execution_count": 30,
   "id": "cc4533ca-ddc5-42de-b727-51b6860feed8",
   "metadata": {
    "execution": {
     "iopub.execute_input": "2024-10-31T22:53:39.501141Z",
     "iopub.status.busy": "2024-10-31T22:53:39.500656Z",
     "iopub.status.idle": "2024-10-31T22:53:39.613425Z",
     "shell.execute_reply": "2024-10-31T22:53:39.612703Z",
     "shell.execute_reply.started": "2024-10-31T22:53:39.501081Z"
    }
   },
   "outputs": [],
   "source": [
    "!rm /notebooks/korotkoe_video.mp4"
   ]
  },
  {
   "cell_type": "code",
   "execution_count": null,
   "id": "91a4ae28-e61c-45fb-a97b-8310dc409a49",
   "metadata": {},
   "outputs": [],
   "source": [
    "class CFG:\n",
    "    class data:\n",
    "        train_data= './isic-2024-challenge/train-metadata.csv'\n",
    "        train_hdf5='./isic-2024-challenge/train-image.hdf5'\n",
    "        output_prefix = 'effnet_res'\n",
    "        num_workers = 8\n",
    "        img_size = 384\n",
    "        nfolds = 5\n",
    "        positive_sampling = 5\n",
    "        negs_per_positive = 10\n",
    "        batch_size = 32\n",
    "        eval_batch_size = 128\n",
    "        seed = 56\n",
    "    class model:\n",
    "        model = 'efficientnetv2_rw_m.agc_in1k'\n",
    "        pretrained = True\n",
    "        optim = torch.optim.AdamW\n",
    "        global_pool = 'avg' # 'avg', 'max', 'avgmax', 'catavg'\n",
    "        drop_path_rate = 0.3 \n",
    "        cls_drop = 0.2\n",
    "        num_chanels = 3\n",
    "        num_labels = 2\n",
    "        hidden_size = 2152\n",
    "        scheduler = 'cosine'\n",
    "        max_epoches = 1\n",
    "        lr = 2e-4\n",
    "        num_cycles = 0.5\n",
    "        warmup_ratio = 0.0\n",
    "        lr_head = 1e-4\n",
    "        eps = 1e-12\n",
    "        weight_decay = 0.0\n",
    "        weight_decay_head = 0.0\n",
    "        betas = (0.9, 0.999)\n",
    "    seed = 56\n",
    "    gen_fold_number = 0\n",
    "    fold_number = 0\n"
   ]
  }
 ],
 "metadata": {
  "kernelspec": {
   "display_name": "Python 3 (ipykernel)",
   "language": "python",
   "name": "python3"
  },
  "language_info": {
   "codemirror_mode": {
    "name": "ipython",
    "version": 3
   },
   "file_extension": ".py",
   "mimetype": "text/x-python",
   "name": "python",
   "nbconvert_exporter": "python",
   "pygments_lexer": "ipython3",
   "version": "3.11.7"
  }
 },
 "nbformat": 4,
 "nbformat_minor": 5
}
