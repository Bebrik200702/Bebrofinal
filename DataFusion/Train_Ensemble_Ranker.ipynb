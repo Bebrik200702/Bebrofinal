{
 "cells": [
  {
   "cell_type": "code",
   "execution_count": 1,
   "id": "18ae1404-4613-403c-9a63-17eb1bc4068f",
   "metadata": {},
   "outputs": [],
   "source": [
    "import pandas as pd\n",
    "import numpy as np\n",
    "import random\n",
    "from tqdm.auto import tqdm\n",
    "from tqdm.contrib import tzip\n",
    "from sklearn.model_selection import train_test_split\n",
    "from catboost import CatBoostRanker,Pool,cv,CatBoostRegressor, CatBoostClassifier\n",
    "import gc"
   ]
  },
  {
   "cell_type": "code",
   "execution_count": 2,
   "id": "ebfccc1d-2950-40b0-91fb-9b6dd5262285",
   "metadata": {},
   "outputs": [],
   "source": [
    "train_df = pd.read_csv('./train.csv',parse_dates=['timestamp'])\n",
    "user_data = pd.read_csv('user.csv')\n",
    "video_data = pd.read_csv('video.csv')\n",
    "owner_data = pd.read_csv('owner.csv')"
   ]
  },
  {
   "cell_type": "code",
   "execution_count": null,
   "id": "66d0e882-a43f-422a-bc58-c4d3e4672b29",
   "metadata": {},
   "outputs": [],
   "source": [
    "val_predicts_tf = pd.read_parquet(\"TFIDF_100_preds_val.parquet\")\n",
    "val_predicts_als = pd.read_parquet(\"ALS_100_preds_val.parquet\")"
   ]
  },
  {
   "cell_type": "code",
   "execution_count": 3,
   "id": "ae51cf11-e1f5-44b1-8dd0-c8e3f793d8f2",
   "metadata": {},
   "outputs": [],
   "source": [
    "def chrono_split(\n",
    "        df: pd.DataFrame, \n",
    "        split_by_column: str = 'user_id', \n",
    "        ratio: float = 0.7, \n",
    "        col_timestamp: str = 'timestamp'):\n",
    "\n",
    "    df = df.sort_values([split_by_column, col_timestamp])\n",
    "    groups = df.groupby(split_by_column)\n",
    "\n",
    "    df[\"count\"] = groups[split_by_column].transform(\"count\")\n",
    "    df[\"rank_s\"] = groups.cumcount() + 1\n",
    "\n",
    "    ratio = [ratio, 1 - ratio]\n",
    "    splits = []\n",
    "    prev_threshold = None\n",
    "    for threshold in np.cumsum(ratio):\n",
    "        condition = df[\"rank_s\"] <= round(threshold * df[\"count\"])\n",
    "        if prev_threshold is not None:\n",
    "            condition &= df[\"rank_s\"] > round(prev_threshold * df[\"count\"])\n",
    "        splits.append(df[condition].drop([\"rank_s\", \"count\"], axis=1))\n",
    "        prev_threshold = threshold\n",
    "\n",
    "    return splits\n",
    "\n",
    "def train_val_split(\n",
    "        train_df: pd.DataFrame, \n",
    "        val_users_n: int = 200_000):\n",
    "    \n",
    "    user_ids = train_df['user_id'].unique()\n",
    "    user_ids_val = random.sample(list(user_ids), val_users_n)\n",
    "    condition = train_df['user_id'].isin(user_ids_val)\n",
    "\n",
    "    val = train_df[condition]\n",
    "    val_no_targets, val_targets = chrono_split(val, ratio=0.7)\n",
    "\n",
    "    train = pd.concat([train_df[~condition], val_no_targets]).sort_values('timestamp')\n",
    "    return train, val_no_targets, val_targets"
   ]
  },
  {
   "cell_type": "code",
   "execution_count": 4,
   "id": "f52b701a-6417-466d-8093-3a91f4ee6795",
   "metadata": {},
   "outputs": [],
   "source": [
    "random.seed(56)\n",
    "train, val_no_targets, val_targets = train_val_split(train_df,val_users_n=100_000)"
   ]
  },
  {
   "cell_type": "code",
   "execution_count": 6,
   "id": "f046f631-f038-4402-a75c-d96b09502d4b",
   "metadata": {},
   "outputs": [],
   "source": [
    "val_group = val_targets.groupby('user_id')\n",
    "act = val_group['video_id'].agg(lambda x:x.tolist()).tolist()\n",
    "val_users = val_group.agg(lambda x:x.tolist()).index.tolist()\n",
    "val_predicts_tf['user_id'] = val_users\n",
    "val_predicts_tf['rank_i'] = val_predicts_tf['preds'].map(lambda x: list(range(len(x))))\n",
    "val_predicts_als['user_id'] = val_users\n",
    "val_predicts_als['rank_i'] = val_predicts_als['preds'].map(lambda x: list(range(len(x))))"
   ]
  },
  {
   "cell_type": "code",
   "execution_count": 5,
   "id": "5f019c6b-748f-46aa-a758-c3a6fe147bea",
   "metadata": {},
   "outputs": [],
   "source": [
    "def create_data(predicts):\n",
    "    ranks = []\n",
    "    video_id = []\n",
    "    user_id = []\n",
    "    rank_id = []\n",
    "    for idx in tqdm(predicts.index):\n",
    "        id = predicts.loc[idx]['user_id']\n",
    "        for pred,rank,r_id in zip(predicts['preds'][idx],predicts['scores'][idx],predicts['rank_i'][idx]):\n",
    "            ranks.append(rank)\n",
    "            video_id.append(pred)\n",
    "            user_id.append(id)\n",
    "            rank_id.append(r_id)\n",
    "    \n",
    "    df = pd.DataFrame()\n",
    "    df['user_id'] = user_id\n",
    "    df['ranks'] = ranks\n",
    "    df['rank_id'] = rank_id\n",
    "    df['video_id'] = video_id\n",
    "    \n",
    "    return df"
   ]
  },
  {
   "cell_type": "code",
   "execution_count": 8,
   "id": "085f6b8f-0cbc-4f27-8b5d-a2db260b9142",
   "metadata": {},
   "outputs": [
    {
     "data": {
      "application/vnd.jupyter.widget-view+json": {
       "model_id": "3362449a14904aa89590f11355f5ab0d",
       "version_major": 2,
       "version_minor": 0
      },
      "text/plain": [
       "  0%|          | 0/100000 [00:00<?, ?it/s]"
      ]
     },
     "metadata": {},
     "output_type": "display_data"
    }
   ],
   "source": [
    "df_tf = create_data(val_predicts_tf)"
   ]
  },
  {
   "cell_type": "code",
   "execution_count": 9,
   "id": "032f0f11-9e41-4787-928c-6d2ba08b5ff8",
   "metadata": {},
   "outputs": [
    {
     "data": {
      "application/vnd.jupyter.widget-view+json": {
       "model_id": "813fa49852a842e1b4abfe3a4905ec1f",
       "version_major": 2,
       "version_minor": 0
      },
      "text/plain": [
       "  0%|          | 0/100000 [00:00<?, ?it/s]"
      ]
     },
     "metadata": {},
     "output_type": "display_data"
    }
   ],
   "source": [
    "df_als = create_data(val_predicts_als)"
   ]
  },
  {
   "cell_type": "code",
   "execution_count": 10,
   "id": "4a66d6f4-bd3e-4f1b-a100-762a9e9573f8",
   "metadata": {},
   "outputs": [],
   "source": [
    "df_tf = df_tf.rename({'ranks':'ranks_tf','rank_id':'rank_id_tf'},axis=1)\n",
    "df_als = df_als.rename({'ranks':'ranks_als','rank_id':'rank_id_als'},axis=1)"
   ]
  },
  {
   "cell_type": "code",
   "execution_count": 11,
   "id": "b81ba712-6927-4805-bebf-cc54f6b17154",
   "metadata": {},
   "outputs": [
    {
     "data": {
      "application/vnd.jupyter.widget-view+json": {
       "model_id": "e0f88ea9d87f44729fc391b832919e23",
       "version_major": 2,
       "version_minor": 0
      },
      "text/plain": [
       "  0%|          | 0/9995539 [00:00<?, ?it/s]"
      ]
     },
     "metadata": {},
     "output_type": "display_data"
    },
    {
     "data": {
      "application/vnd.jupyter.widget-view+json": {
       "model_id": "31779d24941a45fb8e125cd01a485180",
       "version_major": 2,
       "version_minor": 0
      },
      "text/plain": [
       "  0%|          | 0/10000000 [00:00<?, ?it/s]"
      ]
     },
     "metadata": {},
     "output_type": "display_data"
    }
   ],
   "source": [
    "tqdm.pandas()\n",
    "df_tf['user_id_per_video_id'] = df_tf.progress_apply(lambda x: str(x.video_id) + '_' + str(x.user_id),axis=1)\n",
    "df_als['user_id_per_video_id'] = df_als.progress_apply(lambda x: str(x.video_id) + '_' + str(x.user_id),axis=1)"
   ]
  },
  {
   "cell_type": "code",
   "execution_count": 12,
   "id": "6313a8a8-c4d1-4a63-8a54-abf452843574",
   "metadata": {},
   "outputs": [],
   "source": [
    "df_als = df_als.set_index('user_id_per_video_id')\n",
    "df_tf = df_tf.set_index('user_id_per_video_id')"
   ]
  },
  {
   "cell_type": "code",
   "execution_count": 13,
   "id": "2930a30c-fb32-439b-879d-0aa06b9d32ef",
   "metadata": {},
   "outputs": [
    {
     "data": {
      "text/html": [
       "<div>\n",
       "<style scoped>\n",
       "    .dataframe tbody tr th:only-of-type {\n",
       "        vertical-align: middle;\n",
       "    }\n",
       "\n",
       "    .dataframe tbody tr th {\n",
       "        vertical-align: top;\n",
       "    }\n",
       "\n",
       "    .dataframe thead th {\n",
       "        text-align: right;\n",
       "    }\n",
       "</style>\n",
       "<table border=\"1\" class=\"dataframe\">\n",
       "  <thead>\n",
       "    <tr style=\"text-align: right;\">\n",
       "      <th></th>\n",
       "      <th>user_id</th>\n",
       "      <th>ranks_tf</th>\n",
       "      <th>rank_id_tf</th>\n",
       "      <th>video_id</th>\n",
       "    </tr>\n",
       "    <tr>\n",
       "      <th>user_id_per_video_id</th>\n",
       "      <th></th>\n",
       "      <th></th>\n",
       "      <th></th>\n",
       "      <th></th>\n",
       "    </tr>\n",
       "  </thead>\n",
       "  <tbody>\n",
       "    <tr>\n",
       "      <th>180158.0_0.0</th>\n",
       "      <td>0</td>\n",
       "      <td>2.503461</td>\n",
       "      <td>0</td>\n",
       "      <td>180158</td>\n",
       "    </tr>\n",
       "    <tr>\n",
       "      <th>25005.0_0.0</th>\n",
       "      <td>0</td>\n",
       "      <td>2.279144</td>\n",
       "      <td>1</td>\n",
       "      <td>25005</td>\n",
       "    </tr>\n",
       "    <tr>\n",
       "      <th>234577.0_0.0</th>\n",
       "      <td>0</td>\n",
       "      <td>1.912787</td>\n",
       "      <td>2</td>\n",
       "      <td>234577</td>\n",
       "    </tr>\n",
       "    <tr>\n",
       "      <th>223373.0_0.0</th>\n",
       "      <td>0</td>\n",
       "      <td>1.843318</td>\n",
       "      <td>3</td>\n",
       "      <td>223373</td>\n",
       "    </tr>\n",
       "    <tr>\n",
       "      <th>216068.0_0.0</th>\n",
       "      <td>0</td>\n",
       "      <td>1.643954</td>\n",
       "      <td>4</td>\n",
       "      <td>216068</td>\n",
       "    </tr>\n",
       "    <tr>\n",
       "      <th>...</th>\n",
       "      <td>...</td>\n",
       "      <td>...</td>\n",
       "      <td>...</td>\n",
       "      <td>...</td>\n",
       "    </tr>\n",
       "    <tr>\n",
       "      <th>98504.0_152909.0</th>\n",
       "      <td>152909</td>\n",
       "      <td>1.058487</td>\n",
       "      <td>95</td>\n",
       "      <td>98504</td>\n",
       "    </tr>\n",
       "    <tr>\n",
       "      <th>179093.0_152909.0</th>\n",
       "      <td>152909</td>\n",
       "      <td>1.050762</td>\n",
       "      <td>96</td>\n",
       "      <td>179093</td>\n",
       "    </tr>\n",
       "    <tr>\n",
       "      <th>166381.0_152909.0</th>\n",
       "      <td>152909</td>\n",
       "      <td>1.044082</td>\n",
       "      <td>97</td>\n",
       "      <td>166381</td>\n",
       "    </tr>\n",
       "    <tr>\n",
       "      <th>83663.0_152909.0</th>\n",
       "      <td>152909</td>\n",
       "      <td>1.013861</td>\n",
       "      <td>98</td>\n",
       "      <td>83663</td>\n",
       "    </tr>\n",
       "    <tr>\n",
       "      <th>233199.0_152909.0</th>\n",
       "      <td>152909</td>\n",
       "      <td>1.002519</td>\n",
       "      <td>99</td>\n",
       "      <td>233199</td>\n",
       "    </tr>\n",
       "  </tbody>\n",
       "</table>\n",
       "<p>9995539 rows × 4 columns</p>\n",
       "</div>"
      ],
      "text/plain": [
       "                      user_id  ranks_tf  rank_id_tf  video_id\n",
       "user_id_per_video_id                                         \n",
       "180158.0_0.0                0  2.503461           0    180158\n",
       "25005.0_0.0                 0  2.279144           1     25005\n",
       "234577.0_0.0                0  1.912787           2    234577\n",
       "223373.0_0.0                0  1.843318           3    223373\n",
       "216068.0_0.0                0  1.643954           4    216068\n",
       "...                       ...       ...         ...       ...\n",
       "98504.0_152909.0       152909  1.058487          95     98504\n",
       "179093.0_152909.0      152909  1.050762          96    179093\n",
       "166381.0_152909.0      152909  1.044082          97    166381\n",
       "83663.0_152909.0       152909  1.013861          98     83663\n",
       "233199.0_152909.0      152909  1.002519          99    233199\n",
       "\n",
       "[9995539 rows x 4 columns]"
      ]
     },
     "execution_count": 13,
     "metadata": {},
     "output_type": "execute_result"
    }
   ],
   "source": [
    "df_tf"
   ]
  },
  {
   "cell_type": "code",
   "execution_count": 15,
   "id": "8724a708-e53c-4a4b-aaa7-27e98b719bd0",
   "metadata": {},
   "outputs": [],
   "source": [
    "df_all = pd.concat([df_als,df_tf],axis=1)"
   ]
  },
  {
   "cell_type": "code",
   "execution_count": null,
   "id": "0935b6b8-0877-4bc6-824d-1449dbde6eea",
   "metadata": {},
   "outputs": [],
   "source": []
  },
  {
   "cell_type": "code",
   "execution_count": 26,
   "id": "c12ac401-95d7-49cd-a419-e4dfa10f2e92",
   "metadata": {},
   "outputs": [],
   "source": [
    "df_all['user_id'] = df_all['user_id'].fillna(-1)\n",
    "users_id = np.max(df_all['user_id'].values,axis=-1)"
   ]
  },
  {
   "cell_type": "code",
   "execution_count": 34,
   "id": "d2742ef5-be71-4ee1-8d67-e957980863e2",
   "metadata": {},
   "outputs": [],
   "source": [
    "df_all['video_id'] = df_all['video_id'].fillna(-1)\n",
    "video_id = np.max(df_all['video_id'].values,axis=-1)"
   ]
  },
  {
   "cell_type": "code",
   "execution_count": 36,
   "id": "08c7b469-478f-4a66-923c-33d6fe8160c4",
   "metadata": {},
   "outputs": [
    {
     "data": {
      "text/plain": [
       "(15760373,)"
      ]
     },
     "execution_count": 36,
     "metadata": {},
     "output_type": "execute_result"
    }
   ],
   "source": [
    "video_id.shape"
   ]
  },
  {
   "cell_type": "code",
   "execution_count": 37,
   "id": "92935b8a-1eca-41b2-ab0a-b9034ef6e9c4",
   "metadata": {
    "collapsed": true,
    "jupyter": {
     "outputs_hidden": true
    },
    "tags": []
   },
   "outputs": [
    {
     "ename": "NameError",
     "evalue": "name 'user_id' is not defined",
     "output_type": "error",
     "traceback": [
      "\u001b[0;31m---------------------------------------------------------------------------\u001b[0m",
      "\u001b[0;31mNameError\u001b[0m                                 Traceback (most recent call last)",
      "Cell \u001b[0;32mIn [37], line 3\u001b[0m\n\u001b[1;32m      1\u001b[0m df_all \u001b[38;5;241m=\u001b[39m df_all\u001b[38;5;241m.\u001b[39mdrop([\u001b[38;5;124m'\u001b[39m\u001b[38;5;124muser_id\u001b[39m\u001b[38;5;124m'\u001b[39m,\u001b[38;5;124m'\u001b[39m\u001b[38;5;124mvideo_id\u001b[39m\u001b[38;5;124m'\u001b[39m],axis\u001b[38;5;241m=\u001b[39m\u001b[38;5;241m1\u001b[39m)\n\u001b[1;32m      2\u001b[0m df_all[\u001b[38;5;124m'\u001b[39m\u001b[38;5;124mvideo_id\u001b[39m\u001b[38;5;124m'\u001b[39m] \u001b[38;5;241m=\u001b[39m video_id\n\u001b[0;32m----> 3\u001b[0m df_all[\u001b[38;5;124m'\u001b[39m\u001b[38;5;124muser_id\u001b[39m\u001b[38;5;124m'\u001b[39m] \u001b[38;5;241m=\u001b[39m \u001b[43muser_id\u001b[49m\n",
      "\u001b[0;31mNameError\u001b[0m: name 'user_id' is not defined"
     ]
    }
   ],
   "source": [
    "df_all = df_all.drop(['user_id','video_id'],axis=1)\n",
    "df_all['video_id'] = video_id"
   ]
  },
  {
   "cell_type": "code",
   "execution_count": 38,
   "id": "39112f44-0e69-40c5-947e-39a1e9d81030",
   "metadata": {},
   "outputs": [],
   "source": [
    "df_all['user_id'] = users_id"
   ]
  },
  {
   "cell_type": "code",
   "execution_count": 39,
   "id": "a35490bd-087f-4a2d-8b7c-a925bcf60530",
   "metadata": {},
   "outputs": [],
   "source": [
    "df_all['rank_id_als'] = df_all['rank_id_als'].fillna(500)\n",
    "df_all['rank_id_tf'] = df_all['rank_id_tf'].fillna(500)\n",
    "df_all['ranks_als'] = df_all['ranks_als'].fillna(-1)\n",
    "df_all['ranks_tf'] = df_all['ranks_tf'].fillna(-1)"
   ]
  },
  {
   "cell_type": "code",
   "execution_count": 61,
   "id": "2341272f-eabb-4009-bcf0-e2b3a4d66809",
   "metadata": {},
   "outputs": [],
   "source": [
    "del df_als\n",
    "del df_tf"
   ]
  },
  {
   "cell_type": "code",
   "execution_count": 42,
   "id": "261433f5-61e6-4ace-aa56-27a836da1f52",
   "metadata": {},
   "outputs": [],
   "source": [
    "df = df_all"
   ]
  },
  {
   "cell_type": "code",
   "execution_count": 43,
   "id": "2378c9e4-f274-49a1-a05e-ac05d5106195",
   "metadata": {},
   "outputs": [],
   "source": [
    "val_targets['video_id_liked'] = val_targets.apply(lambda x: x.video_id if x.interaction_type == 'like' else -1,axis=1)"
   ]
  },
  {
   "cell_type": "code",
   "execution_count": 44,
   "id": "65a4220a-5dcd-4341-8954-0149f572d931",
   "metadata": {},
   "outputs": [],
   "source": [
    "val_targets_base = val_targets.groupby('user_id')['video_id'].agg(lambda x:x.tolist())\n",
    "val_targets_like = val_targets.groupby('user_id')['video_id_liked'].agg(lambda x:x.tolist())"
   ]
  },
  {
   "cell_type": "code",
   "execution_count": 45,
   "id": "0455c141-d6b9-4ca5-9460-4dd8a3e56cc5",
   "metadata": {},
   "outputs": [],
   "source": [
    "val_targets_like = val_targets_like.map(set)\n",
    "val_targets_base = val_targets_base.map(set)"
   ]
  },
  {
   "cell_type": "code",
   "execution_count": 46,
   "id": "c6c25b23-92b9-4be4-8efb-1ed215942047",
   "metadata": {},
   "outputs": [],
   "source": [
    "def set_label(df,val_targets_like,val_targets_base):\n",
    "    labels = []\n",
    "    for user,item in tzip(df['user_id'],df['video_id']):\n",
    "        if item in val_targets_like[user]:\n",
    "            labels += [1]\n",
    "        elif item in val_targets_base[user]:\n",
    "            labels += [0.1]\n",
    "        else:\n",
    "            labels += [0]\n",
    "    df['label'] = labels\n",
    "    return df"
   ]
  },
  {
   "cell_type": "code",
   "execution_count": 47,
   "id": "05805408-977a-466b-8e70-323ac8ad7eb6",
   "metadata": {
    "tags": []
   },
   "outputs": [
    {
     "data": {
      "application/vnd.jupyter.widget-view+json": {
       "model_id": "b266a4de1e23446e9bfd0cae47e2bee8",
       "version_major": 2,
       "version_minor": 0
      },
      "text/plain": [
       "  0%|          | 0/15760373 [00:09<?, ?it/s]"
      ]
     },
     "metadata": {},
     "output_type": "display_data"
    }
   ],
   "source": [
    "df = set_label(df,val_targets_like,val_targets_base)"
   ]
  },
  {
   "cell_type": "code",
   "execution_count": 49,
   "id": "05735879-1f41-4790-9f70-20b4e98869bd",
   "metadata": {},
   "outputs": [],
   "source": [
    "df = df.reset_index()"
   ]
  },
  {
   "cell_type": "code",
   "execution_count": 51,
   "id": "afd1d7f2-e38d-4f53-b634-d600845695e2",
   "metadata": {},
   "outputs": [],
   "source": [
    "df.to_parquet('DF.parquet.gzip',compression='gzip')"
   ]
  },
  {
   "cell_type": "code",
   "execution_count": 7,
   "id": "e10844cd-f064-411f-88da-2519d3c151a8",
   "metadata": {},
   "outputs": [],
   "source": [
    "df = pd.read_parquet('DF.parquet.gzip')"
   ]
  },
  {
   "cell_type": "code",
   "execution_count": 5,
   "id": "08d08382-15c5-4812-9f89-2f081f37c9ac",
   "metadata": {},
   "outputs": [],
   "source": [
    "def get_video_like_watching_features(df):\n",
    "    df['is_like'] = df['interaction_type'].map(lambda x:1 if x == 'like' else 0)\n",
    "    features = df.groupby('video_id')['is_like'].agg(['sum','mean','count'])\n",
    "    #features['video_mean_age'] = df.groupby('video_id')['age'].agg(['mean'])\n",
    "    #features['video_std_age'] = df.groupby('video_id')['age'].agg(['std'])\n",
    "    features['_'] = range(features.shape[0])\n",
    "    features['video_id'] = features.index\n",
    "    features = features.set_index('_')\n",
    "    return features\n",
    "\n",
    "video_like_faeatures = get_video_like_watching_features(train)"
   ]
  },
  {
   "cell_type": "code",
   "execution_count": 6,
   "id": "6740afab-495f-4f4c-8aa9-7cc6a9bea698",
   "metadata": {},
   "outputs": [],
   "source": [
    "video_data = video_data.merge(owner_data)"
   ]
  },
  {
   "cell_type": "code",
   "execution_count": 7,
   "id": "355f398a-ef31-4eb5-93f4-dae7bfd03f6f",
   "metadata": {},
   "outputs": [],
   "source": [
    "video_data = video_data.merge(video_like_faeatures)"
   ]
  },
  {
   "cell_type": "code",
   "execution_count": 8,
   "id": "45452f94-5113-4373-abd9-c2532f94eb90",
   "metadata": {},
   "outputs": [],
   "source": [
    "def generate_video_owner_features(video_data):\n",
    "    video_data['owner_count'] = video_data.groupby('owner_id')['video_id'].transform('count')\n",
    "    video_data['owner_mean_duration'] = video_data.groupby('owner_id')['duration'].transform('mean')\n",
    "    video_data['owner_min_duration'] = video_data.groupby('owner_id')['duration'].transform('min')\n",
    "    video_data['owner_max_duration'] = video_data.groupby('owner_id')['duration'].transform('max')\n",
    "    video_data['owner_std_duration'] = video_data.groupby('owner_id')['duration'].transform('std')\n",
    "    video_data['video_hour_after_create'] = (video_data['upload_timestamp'] - video_data['create_date']) / 3600\n",
    "    video_data['video_hour_after_last_active'] = (video_data['upload_timestamp'] - video_data['last_active_date']) / 3600\n",
    "    \n",
    "    video_data['owner_like_sum'] = video_data.groupby('owner_id')['sum'].transform('sum')\n",
    "    video_data['owner_like_mean'] = video_data.groupby('owner_id')['sum'].transform('mean')\n",
    "    video_data['owner_like_max'] = video_data.groupby('owner_id')['sum'].transform('max')\n",
    "    video_data['owner_like_min'] = video_data.groupby('owner_id')['sum'].transform('min')\n",
    "    video_data['owner_like_std'] = video_data.groupby('owner_id')['sum'].transform('std')\n",
    "\n",
    "    video_data['owner_count_sum'] = video_data.groupby('owner_id')['count'].transform('sum')\n",
    "    video_data['owner_count_mean'] = video_data.groupby('owner_id')['count'].transform('mean')\n",
    "    video_data['owner_count_max'] = video_data.groupby('owner_id')['count'].transform('max')\n",
    "    video_data['owner_count_min'] = video_data.groupby('owner_id')['count'].transform('min')\n",
    "    video_data['owner_count_std'] = video_data.groupby('owner_id')['count'].transform('std')\n",
    "    \n",
    "    video_data['ow_duration'] = video_data['duration'] / video_data['owner_mean_duration']\n",
    "    return video_data"
   ]
  },
  {
   "cell_type": "code",
   "execution_count": 9,
   "id": "130b0c37-04a7-49e5-aa39-ec356eaacf51",
   "metadata": {},
   "outputs": [],
   "source": [
    "def generate_user_features(user_data):\n",
    "    user_data['count_city_age'] = user_data.groupby('city_id')['age'].transform('count')\n",
    "    user_data['mean_city_age'] = user_data.groupby('city_id')['age'].transform('mean')\n",
    "    user_data['otn_city_age_user_age'] = user_data['age'] / user_data['mean_city_age']\n",
    "    return user_data\n",
    "user_data = generate_user_features(user_data)"
   ]
  },
  {
   "cell_type": "code",
   "execution_count": 10,
   "id": "d73ca74f-5234-43e4-9ca6-604a9b0267fd",
   "metadata": {},
   "outputs": [],
   "source": [
    "user_data = user_data.fillna(-1)"
   ]
  },
  {
   "cell_type": "code",
   "execution_count": 11,
   "id": "adff815b-19ed-4e23-b65d-11fe6659264c",
   "metadata": {
    "tags": []
   },
   "outputs": [
    {
     "data": {
      "text/html": [
       "<div>\n",
       "<style scoped>\n",
       "    .dataframe tbody tr th:only-of-type {\n",
       "        vertical-align: middle;\n",
       "    }\n",
       "\n",
       "    .dataframe tbody tr th {\n",
       "        vertical-align: top;\n",
       "    }\n",
       "\n",
       "    .dataframe thead th {\n",
       "        text-align: right;\n",
       "    }\n",
       "</style>\n",
       "<table border=\"1\" class=\"dataframe\">\n",
       "  <thead>\n",
       "    <tr style=\"text-align: right;\">\n",
       "      <th></th>\n",
       "      <th>user_id</th>\n",
       "      <th>gender</th>\n",
       "      <th>age</th>\n",
       "      <th>language</th>\n",
       "      <th>city_id</th>\n",
       "      <th>birth_city_id</th>\n",
       "      <th>create_date</th>\n",
       "      <th>count_city_age</th>\n",
       "      <th>mean_city_age</th>\n",
       "      <th>otn_city_age_user_age</th>\n",
       "    </tr>\n",
       "  </thead>\n",
       "  <tbody>\n",
       "    <tr>\n",
       "      <th>0</th>\n",
       "      <td>938</td>\n",
       "      <td>F</td>\n",
       "      <td>57.0</td>\n",
       "      <td>ru</td>\n",
       "      <td>5f7ca800fcb9368f78e3740cb68a4c4ebc62b005cd15cf...</td>\n",
       "      <td>-1</td>\n",
       "      <td>2011-03-11 21:00:00</td>\n",
       "      <td>3680.0</td>\n",
       "      <td>59.280707</td>\n",
       "      <td>0.961527</td>\n",
       "    </tr>\n",
       "    <tr>\n",
       "      <th>1</th>\n",
       "      <td>57571</td>\n",
       "      <td>F</td>\n",
       "      <td>68.0</td>\n",
       "      <td>ru</td>\n",
       "      <td>-1</td>\n",
       "      <td>-1</td>\n",
       "      <td>2011-03-11 21:00:00</td>\n",
       "      <td>-1.0</td>\n",
       "      <td>-1.000000</td>\n",
       "      <td>-1.000000</td>\n",
       "    </tr>\n",
       "    <tr>\n",
       "      <th>2</th>\n",
       "      <td>50873</td>\n",
       "      <td>F</td>\n",
       "      <td>66.0</td>\n",
       "      <td>ru</td>\n",
       "      <td>a26a3a5b73942ee4af156df272ba2e722ddf4eb50ea396...</td>\n",
       "      <td>-1</td>\n",
       "      <td>2011-03-11 21:00:00</td>\n",
       "      <td>291.0</td>\n",
       "      <td>63.896907</td>\n",
       "      <td>1.032914</td>\n",
       "    </tr>\n",
       "    <tr>\n",
       "      <th>3</th>\n",
       "      <td>4335</td>\n",
       "      <td>F</td>\n",
       "      <td>66.0</td>\n",
       "      <td>ru</td>\n",
       "      <td>5f7ca800fcb9368f78e3740cb68a4c4ebc62b005cd15cf...</td>\n",
       "      <td>-1</td>\n",
       "      <td>2011-03-11 21:00:00</td>\n",
       "      <td>3680.0</td>\n",
       "      <td>59.280707</td>\n",
       "      <td>1.113347</td>\n",
       "    </tr>\n",
       "    <tr>\n",
       "      <th>4</th>\n",
       "      <td>42138</td>\n",
       "      <td>F</td>\n",
       "      <td>66.0</td>\n",
       "      <td>ru</td>\n",
       "      <td>e1baf026d2d5c938c8ca66bac84c655345b92333a74937...</td>\n",
       "      <td>6b415eabf81e3cc85adac7d323a989a92198e76fe3f053...</td>\n",
       "      <td>2011-03-11 21:00:00</td>\n",
       "      <td>653.0</td>\n",
       "      <td>62.369066</td>\n",
       "      <td>1.058217</td>\n",
       "    </tr>\n",
       "    <tr>\n",
       "      <th>...</th>\n",
       "      <td>...</td>\n",
       "      <td>...</td>\n",
       "      <td>...</td>\n",
       "      <td>...</td>\n",
       "      <td>...</td>\n",
       "      <td>...</td>\n",
       "      <td>...</td>\n",
       "      <td>...</td>\n",
       "      <td>...</td>\n",
       "      <td>...</td>\n",
       "    </tr>\n",
       "    <tr>\n",
       "      <th>152906</th>\n",
       "      <td>79591</td>\n",
       "      <td>M</td>\n",
       "      <td>17.0</td>\n",
       "      <td>ru</td>\n",
       "      <td>-1</td>\n",
       "      <td>-1</td>\n",
       "      <td>2022-10-10 21:00:00</td>\n",
       "      <td>-1.0</td>\n",
       "      <td>-1.000000</td>\n",
       "      <td>-1.000000</td>\n",
       "    </tr>\n",
       "    <tr>\n",
       "      <th>152907</th>\n",
       "      <td>93648</td>\n",
       "      <td>F</td>\n",
       "      <td>101.0</td>\n",
       "      <td>ru</td>\n",
       "      <td>-1</td>\n",
       "      <td>-1</td>\n",
       "      <td>2022-10-10 21:00:00</td>\n",
       "      <td>-1.0</td>\n",
       "      <td>-1.000000</td>\n",
       "      <td>-1.000000</td>\n",
       "    </tr>\n",
       "    <tr>\n",
       "      <th>152908</th>\n",
       "      <td>42337</td>\n",
       "      <td>M</td>\n",
       "      <td>37.0</td>\n",
       "      <td>ru</td>\n",
       "      <td>-1</td>\n",
       "      <td>-1</td>\n",
       "      <td>2022-10-10 21:00:00</td>\n",
       "      <td>-1.0</td>\n",
       "      <td>-1.000000</td>\n",
       "      <td>-1.000000</td>\n",
       "    </tr>\n",
       "    <tr>\n",
       "      <th>152909</th>\n",
       "      <td>4694</td>\n",
       "      <td>F</td>\n",
       "      <td>78.0</td>\n",
       "      <td>ru</td>\n",
       "      <td>cc15ba5ee579964ee4d5b88d1b7d6e31ca5b3ddda47366...</td>\n",
       "      <td>cc15ba5ee579964ee4d5b88d1b7d6e31ca5b3ddda47366...</td>\n",
       "      <td>2022-10-10 21:00:00</td>\n",
       "      <td>1.0</td>\n",
       "      <td>78.000000</td>\n",
       "      <td>1.000000</td>\n",
       "    </tr>\n",
       "    <tr>\n",
       "      <th>152910</th>\n",
       "      <td>25414</td>\n",
       "      <td>F</td>\n",
       "      <td>61.0</td>\n",
       "      <td>ru</td>\n",
       "      <td>-1</td>\n",
       "      <td>-1</td>\n",
       "      <td>2022-10-10 21:00:00</td>\n",
       "      <td>-1.0</td>\n",
       "      <td>-1.000000</td>\n",
       "      <td>-1.000000</td>\n",
       "    </tr>\n",
       "  </tbody>\n",
       "</table>\n",
       "<p>152911 rows × 10 columns</p>\n",
       "</div>"
      ],
      "text/plain": [
       "        user_id gender    age language  \\\n",
       "0           938      F   57.0       ru   \n",
       "1         57571      F   68.0       ru   \n",
       "2         50873      F   66.0       ru   \n",
       "3          4335      F   66.0       ru   \n",
       "4         42138      F   66.0       ru   \n",
       "...         ...    ...    ...      ...   \n",
       "152906    79591      M   17.0       ru   \n",
       "152907    93648      F  101.0       ru   \n",
       "152908    42337      M   37.0       ru   \n",
       "152909     4694      F   78.0       ru   \n",
       "152910    25414      F   61.0       ru   \n",
       "\n",
       "                                                  city_id  \\\n",
       "0       5f7ca800fcb9368f78e3740cb68a4c4ebc62b005cd15cf...   \n",
       "1                                                      -1   \n",
       "2       a26a3a5b73942ee4af156df272ba2e722ddf4eb50ea396...   \n",
       "3       5f7ca800fcb9368f78e3740cb68a4c4ebc62b005cd15cf...   \n",
       "4       e1baf026d2d5c938c8ca66bac84c655345b92333a74937...   \n",
       "...                                                   ...   \n",
       "152906                                                 -1   \n",
       "152907                                                 -1   \n",
       "152908                                                 -1   \n",
       "152909  cc15ba5ee579964ee4d5b88d1b7d6e31ca5b3ddda47366...   \n",
       "152910                                                 -1   \n",
       "\n",
       "                                            birth_city_id  \\\n",
       "0                                                      -1   \n",
       "1                                                      -1   \n",
       "2                                                      -1   \n",
       "3                                                      -1   \n",
       "4       6b415eabf81e3cc85adac7d323a989a92198e76fe3f053...   \n",
       "...                                                   ...   \n",
       "152906                                                 -1   \n",
       "152907                                                 -1   \n",
       "152908                                                 -1   \n",
       "152909  cc15ba5ee579964ee4d5b88d1b7d6e31ca5b3ddda47366...   \n",
       "152910                                                 -1   \n",
       "\n",
       "                create_date  count_city_age  mean_city_age  \\\n",
       "0       2011-03-11 21:00:00          3680.0      59.280707   \n",
       "1       2011-03-11 21:00:00            -1.0      -1.000000   \n",
       "2       2011-03-11 21:00:00           291.0      63.896907   \n",
       "3       2011-03-11 21:00:00          3680.0      59.280707   \n",
       "4       2011-03-11 21:00:00           653.0      62.369066   \n",
       "...                     ...             ...            ...   \n",
       "152906  2022-10-10 21:00:00            -1.0      -1.000000   \n",
       "152907  2022-10-10 21:00:00            -1.0      -1.000000   \n",
       "152908  2022-10-10 21:00:00            -1.0      -1.000000   \n",
       "152909  2022-10-10 21:00:00             1.0      78.000000   \n",
       "152910  2022-10-10 21:00:00            -1.0      -1.000000   \n",
       "\n",
       "        otn_city_age_user_age  \n",
       "0                    0.961527  \n",
       "1                   -1.000000  \n",
       "2                    1.032914  \n",
       "3                    1.113347  \n",
       "4                    1.058217  \n",
       "...                       ...  \n",
       "152906              -1.000000  \n",
       "152907              -1.000000  \n",
       "152908              -1.000000  \n",
       "152909               1.000000  \n",
       "152910              -1.000000  \n",
       "\n",
       "[152911 rows x 10 columns]"
      ]
     },
     "execution_count": 11,
     "metadata": {},
     "output_type": "execute_result"
    }
   ],
   "source": [
    "user_data"
   ]
  },
  {
   "cell_type": "code",
   "execution_count": 12,
   "id": "896286d0-7256-4d8c-905d-f8fc819a9968",
   "metadata": {},
   "outputs": [],
   "source": [
    "video_data = generate_video_owner_features(video_data)"
   ]
  },
  {
   "cell_type": "code",
   "execution_count": 13,
   "id": "5ef78bc7-430e-46c3-8632-a1feb3ce0d56",
   "metadata": {},
   "outputs": [
    {
     "data": {
      "text/plain": [
       "Index(['video_id', 'owner_id', 'duration', 'upload_timestamp',\n",
       "       'subscribers_count', 'last_active_date', 'city_id', 'create_date',\n",
       "       'sum', 'mean', 'count', 'owner_count', 'owner_mean_duration',\n",
       "       'owner_min_duration', 'owner_max_duration', 'owner_std_duration',\n",
       "       'video_hour_after_create', 'video_hour_after_last_active',\n",
       "       'owner_like_sum', 'owner_like_mean', 'owner_like_max', 'owner_like_min',\n",
       "       'owner_like_std', 'owner_count_sum', 'owner_count_mean',\n",
       "       'owner_count_max', 'owner_count_min', 'owner_count_std', 'ow_duration'],\n",
       "      dtype='object')"
      ]
     },
     "execution_count": 13,
     "metadata": {},
     "output_type": "execute_result"
    }
   ],
   "source": [
    "video_data.columns"
   ]
  },
  {
   "cell_type": "code",
   "execution_count": 17,
   "id": "0e5350d4-820e-48ee-9a3e-b8159ea9296c",
   "metadata": {},
   "outputs": [],
   "source": [
    "df = df.merge(user_data)"
   ]
  },
  {
   "cell_type": "code",
   "execution_count": 18,
   "id": "8a2017ba-cf8f-4546-8289-d42ea1886159",
   "metadata": {},
   "outputs": [],
   "source": [
    "df = df.merge(video_data,on='video_id')"
   ]
  },
  {
   "cell_type": "code",
   "execution_count": 19,
   "id": "d9223bfd-efcd-442b-84a4-1b9d55c14d78",
   "metadata": {},
   "outputs": [
    {
     "data": {
      "text/plain": [
       "Index(['user_id_per_video_id', 'ranks_als', 'rank_id_als', 'ranks_tf',\n",
       "       'rank_id_tf', 'video_id', 'user_id', 'label', 'gender', 'age',\n",
       "       'language', 'city_id_x', 'birth_city_id', 'create_date_x',\n",
       "       'count_city_age', 'mean_city_age', 'otn_city_age_user_age', 'owner_id',\n",
       "       'duration', 'upload_timestamp', 'subscribers_count', 'last_active_date',\n",
       "       'city_id_y', 'create_date_y', 'sum', 'mean', 'count', 'owner_count',\n",
       "       'owner_mean_duration', 'owner_min_duration', 'owner_max_duration',\n",
       "       'owner_std_duration', 'video_hour_after_create',\n",
       "       'video_hour_after_last_active', 'owner_like_sum', 'owner_like_mean',\n",
       "       'owner_like_max', 'owner_like_min', 'owner_like_std', 'owner_count_sum',\n",
       "       'owner_count_mean', 'owner_count_max', 'owner_count_min',\n",
       "       'owner_count_std', 'ow_duration'],\n",
       "      dtype='object')"
      ]
     },
     "execution_count": 19,
     "metadata": {},
     "output_type": "execute_result"
    }
   ],
   "source": [
    "df.columns"
   ]
  },
  {
   "cell_type": "code",
   "execution_count": 20,
   "id": "752d97cf-5b92-4978-b783-44617f780c30",
   "metadata": {},
   "outputs": [],
   "source": [
    "def get_df_features(df): \n",
    "    df['mean_age_video'] = df.groupby('video_id')['age'].transform('mean')\n",
    "    df['std_age_video'] = df.groupby('video_id')['age'].transform('std')\n",
    "    df['birth_city_not_none'] = df['birth_city_id'].apply(lambda x: int(x == -1))\n",
    "    df['city_not_none'] = df['city_id_x'].apply(lambda x: int(x == -1))\n",
    "    df['city_rav1'] = df.progress_apply(lambda x: int(x.city_id_x == x.city_id_y and x.city_id_x != -1),axis=1)\n",
    "    df['city_rav2'] = df.progress_apply(lambda x: int(x.birth_city_id == x.city_id_y and x.city_id_x != -1),axis=1)\n",
    "    df['city_rav3'] = df.progress_apply(lambda x: int(x.city_id_x == x.birth_city_id and x.city_id_x != -1),axis=1)\n",
    "    return df"
   ]
  },
  {
   "cell_type": "code",
   "execution_count": 75,
   "id": "d15e60f5-0282-4965-8284-303bbb97f5c3",
   "metadata": {},
   "outputs": [],
   "source": [
    "#tqdm.pandas()\n",
    "#df = get_df_features(df)"
   ]
  },
  {
   "cell_type": "code",
   "execution_count": 21,
   "id": "66ca3728-f876-4540-bc15-479986254709",
   "metadata": {},
   "outputs": [],
   "source": [
    "from sklearn.model_selection import GroupShuffleSplit \n",
    "\n",
    "splitter = GroupShuffleSplit(test_size=0.20, n_splits=2, random_state=56)\n",
    "split = splitter.split(df, groups=df['user_id'])\n",
    "train_inds, test_inds = next(split)\n",
    "\n",
    "train_df = df.iloc[train_inds]\n",
    "val_df = df.iloc[test_inds]"
   ]
  },
  {
   "cell_type": "code",
   "execution_count": 22,
   "id": "2f805206-0360-4508-a6ae-38636317d2d3",
   "metadata": {},
   "outputs": [],
   "source": [
    "del df\n",
    "del val_no_targets\n",
    "del train\n",
    "del train_inds\n",
    "del test_inds"
   ]
  },
  {
   "cell_type": "code",
   "execution_count": 23,
   "id": "d1b8b227-3e7f-4989-a2d1-e5f8975a39f8",
   "metadata": {},
   "outputs": [],
   "source": [
    "val_df = val_df.sort_values(by='user_id')\n",
    "train_df = train_df.sort_values(by='user_id')"
   ]
  },
  {
   "cell_type": "code",
   "execution_count": 24,
   "id": "7b56fe0e-56a7-46b8-8d6a-e0018011b042",
   "metadata": {},
   "outputs": [],
   "source": [
    "train_df['user_id'] = train_df['user_id'].astype(int)\n",
    "val_df['user_id'] = val_df['user_id'].astype(int)"
   ]
  },
  {
   "cell_type": "code",
   "execution_count": 25,
   "id": "e856be93-480d-464a-ba4f-79cce2964ac2",
   "metadata": {},
   "outputs": [
    {
     "data": {
      "text/plain": [
       "0                0\n",
       "1560413          0\n",
       "510111           0\n",
       "2936030          0\n",
       "2963784          0\n",
       "             ...  \n",
       "10699509    152906\n",
       "1180623     152906\n",
       "10667633    152906\n",
       "2298079     152906\n",
       "11177641    152906\n",
       "Name: user_id, Length: 12607913, dtype: int64"
      ]
     },
     "execution_count": 25,
     "metadata": {},
     "output_type": "execute_result"
    }
   ],
   "source": [
    "train_df['user_id'] "
   ]
  },
  {
   "cell_type": "code",
   "execution_count": 26,
   "id": "1d86c904-c392-43aa-b5b7-413b2a5688b0",
   "metadata": {},
   "outputs": [],
   "source": [
    "cat_features = ['gender','language']\n",
    "\n",
    "train_pool = Pool(data=train_df.drop(['label','user_id_per_video_id','city_id_x','city_id_y','birth_city_id','create_date_x'],axis=1),\n",
    "                  label=train_df['label'],\n",
    "                  group_id=train_df['user_id'],\n",
    "                  cat_features=cat_features)\n",
    "\n",
    "eval_pool = Pool(data=val_df.drop(['label','user_id_per_video_id','city_id_x','city_id_y','birth_city_id','create_date_x'],axis=1),\n",
    "                  label=val_df['label'],\n",
    "                  group_id=val_df['user_id'],\n",
    "                  cat_features=cat_features)"
   ]
  },
  {
   "cell_type": "code",
   "execution_count": 27,
   "id": "a520ad6c-1fdf-4c72-a03b-1824305f2c3b",
   "metadata": {},
   "outputs": [],
   "source": [
    "del train_df\n",
    "del val_df"
   ]
  },
  {
   "cell_type": "code",
   "execution_count": 31,
   "id": "043b81bd-c926-4919-8a93-68d0effde36a",
   "metadata": {},
   "outputs": [],
   "source": [
    "params = {'iterations':1000,\n",
    "          'learning_rate':0.1,\n",
    "          'loss_function':'YetiRank', #'YetiRank'\n",
    "          'eval_metric':'AUC', #'AUC'\n",
    "          'max_depth':5,\n",
    "          'task_type':'GPU',\n",
    "          'random_seed':56}\n",
    "\n",
    "cbm = CatBoostRanker(**params)"
   ]
  },
  {
   "cell_type": "code",
   "execution_count": 32,
   "id": "5f65bb0f-1149-4ac7-8e26-a55464404a52",
   "metadata": {
    "tags": []
   },
   "outputs": [
    {
     "name": "stdout",
     "output_type": "stream",
     "text": [
      "Groupwise loss function. OneHotMaxSize set to 10\n"
     ]
    },
    {
     "name": "stderr",
     "output_type": "stream",
     "text": [
      "Default metric period is 5 because AUC, PFound is/are not implemented for GPU\n",
      "Metric PFound is not implemented on GPU. Will use CPU for metric computation, this could significantly affect learning time\n",
      "AUC is not implemented on GPU. Will use CPU for metric computation, this could significantly affect learning time\n"
     ]
    },
    {
     "name": "stdout",
     "output_type": "stream",
     "text": [
      "0:\ttest: 0.7164899\tbest: 0.7164899 (0)\ttotal: 623ms\tremaining: 10m 22s\n",
      "50:\ttest: 0.7479761\tbest: 0.7479761 (50)\ttotal: 17.2s\tremaining: 5m 20s\n",
      "100:\ttest: 0.7586238\tbest: 0.7586238 (100)\ttotal: 33.7s\tremaining: 5m\n",
      "150:\ttest: 0.7657383\tbest: 0.7657383 (150)\ttotal: 50.2s\tremaining: 4m 42s\n",
      "200:\ttest: 0.7703261\tbest: 0.7703261 (200)\ttotal: 1m 6s\tremaining: 4m 24s\n",
      "250:\ttest: 0.7736883\tbest: 0.7736883 (250)\ttotal: 1m 22s\tremaining: 4m 7s\n",
      "300:\ttest: 0.7763650\tbest: 0.7763650 (300)\ttotal: 1m 39s\tremaining: 3m 50s\n",
      "350:\ttest: 0.7782614\tbest: 0.7782614 (350)\ttotal: 1m 55s\tremaining: 3m 33s\n",
      "400:\ttest: 0.7798646\tbest: 0.7798646 (400)\ttotal: 2m 11s\tremaining: 3m 17s\n",
      "450:\ttest: 0.7810817\tbest: 0.7810817 (450)\ttotal: 2m 28s\tremaining: 3m\n",
      "500:\ttest: 0.7823409\tbest: 0.7823409 (500)\ttotal: 2m 44s\tremaining: 2m 43s\n",
      "550:\ttest: 0.7833691\tbest: 0.7833691 (550)\ttotal: 3m 1s\tremaining: 2m 27s\n",
      "600:\ttest: 0.7844497\tbest: 0.7844497 (600)\ttotal: 3m 17s\tremaining: 2m 10s\n",
      "650:\ttest: 0.7852430\tbest: 0.7852430 (650)\ttotal: 3m 33s\tremaining: 1m 54s\n",
      "700:\ttest: 0.7858332\tbest: 0.7858332 (700)\ttotal: 3m 49s\tremaining: 1m 38s\n",
      "750:\ttest: 0.7865050\tbest: 0.7865050 (750)\ttotal: 4m 6s\tremaining: 1m 21s\n",
      "800:\ttest: 0.7870060\tbest: 0.7870060 (800)\ttotal: 4m 22s\tremaining: 1m 5s\n",
      "850:\ttest: 0.7874268\tbest: 0.7874268 (850)\ttotal: 4m 38s\tremaining: 48.8s\n",
      "900:\ttest: 0.7878763\tbest: 0.7878763 (900)\ttotal: 4m 55s\tremaining: 32.5s\n",
      "950:\ttest: 0.7883697\tbest: 0.7883697 (950)\ttotal: 5m 11s\tremaining: 16.1s\n",
      "999:\ttest: 0.7888025\tbest: 0.7888025 (999)\ttotal: 5m 27s\tremaining: 0us\n",
      "bestTest = 0.7888025438\n",
      "bestIteration = 999\n"
     ]
    },
    {
     "data": {
      "text/plain": [
       "<catboost.core.CatBoostRanker at 0x7f402014af10>"
      ]
     },
     "execution_count": 32,
     "metadata": {},
     "output_type": "execute_result"
    }
   ],
   "source": [
    "cbm.fit(train_pool,eval_set=eval_pool,verbose=50)"
   ]
  },
  {
   "cell_type": "code",
   "execution_count": 33,
   "id": "ce246d92-b19e-448b-8c64-10f8e64ffb16",
   "metadata": {},
   "outputs": [],
   "source": [
    "cbm.save_model('ranker_ensemble.cbm')"
   ]
  },
  {
   "cell_type": "code",
   "execution_count": 34,
   "id": "d93aace1-fb36-4fe7-9ff7-1a5d2db88df0",
   "metadata": {},
   "outputs": [],
   "source": [
    "### ==|SCORE|==|UPDATE|==\n",
    "### ==0.7420603408==BASE\n",
    "###==0.7666423==VideoOwnerFeatures\n",
    "## =="
   ]
  },
  {
   "cell_type": "code",
   "execution_count": 48,
   "id": "fc18b588-ed91-47c7-b53f-18b36094ed5b",
   "metadata": {},
   "outputs": [],
   "source": [
    "scores = cbm.predict(eval_pool)\n",
    "val_df['scores'] = scores"
   ]
  },
  {
   "cell_type": "code",
   "execution_count": 49,
   "id": "fd556b8c-2f1c-4fb6-8074-bf3c4db7318b",
   "metadata": {
    "tags": []
   },
   "outputs": [],
   "source": [
    "group_val = val_no_targets.groupby('user_id')['video_id'].agg(lambda x:x.tolist())\n",
    "group_val = group_val.loc[val_df['user_id'].unique()].sort_index()"
   ]
  },
  {
   "cell_type": "code",
   "execution_count": 50,
   "id": "549c2b0e-842b-4d61-a097-b0317e9dc284",
   "metadata": {},
   "outputs": [
    {
     "data": {
      "text/plain": [
       "user_id\n",
       "8         [11769, 14774, 172302, 242673, 220615, 239932,...\n",
       "20        [148572, 143968, 88959, 151690, 129636, 181198...\n",
       "27        [217308, 51440, 166825, 221646, 200650, 181713...\n",
       "44        [207669, 68417, 89139, 113977, 82160, 201397, ...\n",
       "50        [222069, 246720, 150238, 96686, 50288, 45012, ...\n",
       "                                ...                        \n",
       "152869    [2364, 2364, 174749, 174749, 166282, 166282, 2...\n",
       "152876    [60830, 60830, 53988, 51296, 130049, 219290, 7...\n",
       "152880    [133327, 116973, 220739, 6053, 164736, 245914,...\n",
       "152905    [3701, 188589, 188589, 31412, 977, 65611, 2048...\n",
       "152909    [69651, 201126, 242469, 113564, 44054, 146298,...\n",
       "Name: video_id, Length: 20000, dtype: object"
      ]
     },
     "execution_count": 50,
     "metadata": {},
     "output_type": "execute_result"
    }
   ],
   "source": [
    "group_val"
   ]
  },
  {
   "cell_type": "code",
   "execution_count": 51,
   "id": "a6a8af4d-b107-4f82-b139-b9261facf14c",
   "metadata": {},
   "outputs": [],
   "source": [
    "#group_val = group_val.tolist()\n",
    "steps = val_df.groupby('user_id')['ranks'].agg('count').sort_index()"
   ]
  },
  {
   "cell_type": "code",
   "execution_count": 52,
   "id": "f2e2cb13-9bed-4990-bd2e-537218d88edd",
   "metadata": {},
   "outputs": [
    {
     "data": {
      "text/html": [
       "<div>\n",
       "<style scoped>\n",
       "    .dataframe tbody tr th:only-of-type {\n",
       "        vertical-align: middle;\n",
       "    }\n",
       "\n",
       "    .dataframe tbody tr th {\n",
       "        vertical-align: top;\n",
       "    }\n",
       "\n",
       "    .dataframe thead th {\n",
       "        text-align: right;\n",
       "    }\n",
       "</style>\n",
       "<table border=\"1\" class=\"dataframe\">\n",
       "  <thead>\n",
       "    <tr style=\"text-align: right;\">\n",
       "      <th></th>\n",
       "      <th>user_id</th>\n",
       "      <th>ranks</th>\n",
       "      <th>video_id</th>\n",
       "      <th>label</th>\n",
       "      <th>gender</th>\n",
       "      <th>age</th>\n",
       "      <th>language</th>\n",
       "      <th>duration</th>\n",
       "      <th>_</th>\n",
       "      <th>sum</th>\n",
       "      <th>mean</th>\n",
       "      <th>count</th>\n",
       "      <th>scores</th>\n",
       "    </tr>\n",
       "  </thead>\n",
       "  <tbody>\n",
       "    <tr>\n",
       "      <th>1593955</th>\n",
       "      <td>8</td>\n",
       "      <td>2.986083</td>\n",
       "      <td>191191</td>\n",
       "      <td>0.0</td>\n",
       "      <td>M</td>\n",
       "      <td>68.0</td>\n",
       "      <td>ru</td>\n",
       "      <td>181</td>\n",
       "      <td>152650</td>\n",
       "      <td>1546</td>\n",
       "      <td>0.161176</td>\n",
       "      <td>9592</td>\n",
       "      <td>-0.985647</td>\n",
       "    </tr>\n",
       "    <tr>\n",
       "      <th>6195652</th>\n",
       "      <td>8</td>\n",
       "      <td>4.364005</td>\n",
       "      <td>239707</td>\n",
       "      <td>0.0</td>\n",
       "      <td>M</td>\n",
       "      <td>68.0</td>\n",
       "      <td>ru</td>\n",
       "      <td>348</td>\n",
       "      <td>191436</td>\n",
       "      <td>288</td>\n",
       "      <td>0.138929</td>\n",
       "      <td>2073</td>\n",
       "      <td>-0.461509</td>\n",
       "    </tr>\n",
       "    <tr>\n",
       "      <th>6202351</th>\n",
       "      <td>8</td>\n",
       "      <td>4.274849</td>\n",
       "      <td>105431</td>\n",
       "      <td>0.0</td>\n",
       "      <td>M</td>\n",
       "      <td>68.0</td>\n",
       "      <td>ru</td>\n",
       "      <td>11</td>\n",
       "      <td>84201</td>\n",
       "      <td>0</td>\n",
       "      <td>0.000000</td>\n",
       "      <td>612</td>\n",
       "      <td>-0.831370</td>\n",
       "    </tr>\n",
       "    <tr>\n",
       "      <th>1226942</th>\n",
       "      <td>8</td>\n",
       "      <td>3.644911</td>\n",
       "      <td>63158</td>\n",
       "      <td>0.0</td>\n",
       "      <td>M</td>\n",
       "      <td>68.0</td>\n",
       "      <td>ru</td>\n",
       "      <td>55</td>\n",
       "      <td>50539</td>\n",
       "      <td>199</td>\n",
       "      <td>0.028303</td>\n",
       "      <td>7031</td>\n",
       "      <td>-1.709086</td>\n",
       "    </tr>\n",
       "    <tr>\n",
       "      <th>6205021</th>\n",
       "      <td>8</td>\n",
       "      <td>4.068806</td>\n",
       "      <td>51225</td>\n",
       "      <td>0.0</td>\n",
       "      <td>M</td>\n",
       "      <td>68.0</td>\n",
       "      <td>ru</td>\n",
       "      <td>358</td>\n",
       "      <td>41016</td>\n",
       "      <td>104</td>\n",
       "      <td>0.109705</td>\n",
       "      <td>948</td>\n",
       "      <td>-0.557722</td>\n",
       "    </tr>\n",
       "    <tr>\n",
       "      <th>...</th>\n",
       "      <td>...</td>\n",
       "      <td>...</td>\n",
       "      <td>...</td>\n",
       "      <td>...</td>\n",
       "      <td>...</td>\n",
       "      <td>...</td>\n",
       "      <td>...</td>\n",
       "      <td>...</td>\n",
       "      <td>...</td>\n",
       "      <td>...</td>\n",
       "      <td>...</td>\n",
       "      <td>...</td>\n",
       "      <td>...</td>\n",
       "    </tr>\n",
       "    <tr>\n",
       "      <th>9413518</th>\n",
       "      <td>152909</td>\n",
       "      <td>1.681226</td>\n",
       "      <td>27060</td>\n",
       "      <td>0.0</td>\n",
       "      <td>M</td>\n",
       "      <td>77.0</td>\n",
       "      <td>ru</td>\n",
       "      <td>232</td>\n",
       "      <td>21682</td>\n",
       "      <td>7</td>\n",
       "      <td>0.189189</td>\n",
       "      <td>37</td>\n",
       "      <td>-1.580587</td>\n",
       "    </tr>\n",
       "    <tr>\n",
       "      <th>3367290</th>\n",
       "      <td>152909</td>\n",
       "      <td>1.892947</td>\n",
       "      <td>53929</td>\n",
       "      <td>0.0</td>\n",
       "      <td>M</td>\n",
       "      <td>77.0</td>\n",
       "      <td>ru</td>\n",
       "      <td>32</td>\n",
       "      <td>43163</td>\n",
       "      <td>1189</td>\n",
       "      <td>0.191219</td>\n",
       "      <td>6218</td>\n",
       "      <td>-1.462537</td>\n",
       "    </tr>\n",
       "    <tr>\n",
       "      <th>7211464</th>\n",
       "      <td>152909</td>\n",
       "      <td>2.062833</td>\n",
       "      <td>89801</td>\n",
       "      <td>0.0</td>\n",
       "      <td>M</td>\n",
       "      <td>77.0</td>\n",
       "      <td>ru</td>\n",
       "      <td>177</td>\n",
       "      <td>71779</td>\n",
       "      <td>636</td>\n",
       "      <td>0.231105</td>\n",
       "      <td>2752</td>\n",
       "      <td>-0.899935</td>\n",
       "    </tr>\n",
       "    <tr>\n",
       "      <th>1038959</th>\n",
       "      <td>152909</td>\n",
       "      <td>2.501467</td>\n",
       "      <td>56158</td>\n",
       "      <td>0.0</td>\n",
       "      <td>M</td>\n",
       "      <td>77.0</td>\n",
       "      <td>ru</td>\n",
       "      <td>182</td>\n",
       "      <td>44949</td>\n",
       "      <td>1988</td>\n",
       "      <td>0.248562</td>\n",
       "      <td>7998</td>\n",
       "      <td>-0.662481</td>\n",
       "    </tr>\n",
       "    <tr>\n",
       "      <th>6361314</th>\n",
       "      <td>152909</td>\n",
       "      <td>1.855767</td>\n",
       "      <td>219912</td>\n",
       "      <td>0.0</td>\n",
       "      <td>M</td>\n",
       "      <td>77.0</td>\n",
       "      <td>ru</td>\n",
       "      <td>175</td>\n",
       "      <td>175662</td>\n",
       "      <td>964</td>\n",
       "      <td>0.228599</td>\n",
       "      <td>4217</td>\n",
       "      <td>-1.023245</td>\n",
       "    </tr>\n",
       "  </tbody>\n",
       "</table>\n",
       "<p>1999210 rows × 13 columns</p>\n",
       "</div>"
      ],
      "text/plain": [
       "         user_id     ranks  video_id  label gender   age language  duration  \\\n",
       "1593955        8  2.986083    191191    0.0      M  68.0       ru       181   \n",
       "6195652        8  4.364005    239707    0.0      M  68.0       ru       348   \n",
       "6202351        8  4.274849    105431    0.0      M  68.0       ru        11   \n",
       "1226942        8  3.644911     63158    0.0      M  68.0       ru        55   \n",
       "6205021        8  4.068806     51225    0.0      M  68.0       ru       358   \n",
       "...          ...       ...       ...    ...    ...   ...      ...       ...   \n",
       "9413518   152909  1.681226     27060    0.0      M  77.0       ru       232   \n",
       "3367290   152909  1.892947     53929    0.0      M  77.0       ru        32   \n",
       "7211464   152909  2.062833     89801    0.0      M  77.0       ru       177   \n",
       "1038959   152909  2.501467     56158    0.0      M  77.0       ru       182   \n",
       "6361314   152909  1.855767    219912    0.0      M  77.0       ru       175   \n",
       "\n",
       "              _   sum      mean  count    scores  \n",
       "1593955  152650  1546  0.161176   9592 -0.985647  \n",
       "6195652  191436   288  0.138929   2073 -0.461509  \n",
       "6202351   84201     0  0.000000    612 -0.831370  \n",
       "1226942   50539   199  0.028303   7031 -1.709086  \n",
       "6205021   41016   104  0.109705    948 -0.557722  \n",
       "...         ...   ...       ...    ...       ...  \n",
       "9413518   21682     7  0.189189     37 -1.580587  \n",
       "3367290   43163  1189  0.191219   6218 -1.462537  \n",
       "7211464   71779   636  0.231105   2752 -0.899935  \n",
       "1038959   44949  1988  0.248562   7998 -0.662481  \n",
       "6361314  175662   964  0.228599   4217 -1.023245  \n",
       "\n",
       "[1999210 rows x 13 columns]"
      ]
     },
     "execution_count": 52,
     "metadata": {},
     "output_type": "execute_result"
    }
   ],
   "source": [
    "val_df"
   ]
  },
  {
   "cell_type": "code",
   "execution_count": 53,
   "id": "f21b2176-53d8-410d-8cd8-dd6887d5c8ec",
   "metadata": {
    "tags": []
   },
   "outputs": [
    {
     "data": {
      "text/plain": [
       "[11769,\n",
       " 14774,\n",
       " 172302,\n",
       " 242673,\n",
       " 220615,\n",
       " 239932,\n",
       " 94185,\n",
       " 183606,\n",
       " 6,\n",
       " 222701,\n",
       " 141954,\n",
       " 108333,\n",
       " 72103,\n",
       " 147926,\n",
       " 189012,\n",
       " 102474,\n",
       " 166825,\n",
       " 251684,\n",
       " 103809,\n",
       " 207377,\n",
       " 93407,\n",
       " 240571,\n",
       " 242190]"
      ]
     },
     "execution_count": 53,
     "metadata": {},
     "output_type": "execute_result"
    }
   ],
   "source": [
    "group_val.loc[8]"
   ]
  },
  {
   "cell_type": "code",
   "execution_count": 55,
   "id": "1df2cd30-296a-4b05-809d-aba65b4e1af7",
   "metadata": {},
   "outputs": [
    {
     "data": {
      "application/vnd.jupyter.widget-view+json": {
       "model_id": "fb5d8933d2114b9ba31ef1f0595c5ca9",
       "version_major": 2,
       "version_minor": 0
      },
      "text/plain": [
       "  0%|          | 0/20000 [00:00<?, ?it/s]"
      ]
     },
     "metadata": {},
     "output_type": "display_data"
    },
    {
     "name": "stderr",
     "output_type": "stream",
     "text": [
      "/tmp/ipykernel_1131/4015806560.py:6: FutureWarning: The behavior of `series[i:j]` with an integer-dtype index is deprecated. In a future version, this will be treated as *label-based* indexing, consistent with e.g. `series[i]` lookups. To retain the old behavior, use `series.iloc[i:j]`. To get the future behavior, use `series.loc[i:j]`.\n",
      "  als_ranks += [df_.sort_values(by='ranks')['video_id'][::-1][:10].tolist()]\n",
      "/tmp/ipykernel_1131/4015806560.py:7: FutureWarning: The behavior of `series[i:j]` with an integer-dtype index is deprecated. In a future version, this will be treated as *label-based* indexing, consistent with e.g. `series[i]` lookups. To retain the old behavior, use `series.iloc[i:j]`. To get the future behavior, use `series.loc[i:j]`.\n",
      "  model_ranks += [df_.sort_values(by='scores')['video_id'][::-1][:10].tolist()]\n"
     ]
    }
   ],
   "source": [
    "model_ranks,als_ranks = [],[]\n",
    "start = 0\n",
    "for step in tqdm(steps):\n",
    "    df_ = val_df.iloc[start:start+step]\n",
    "    start += step\n",
    "    als_ranks += [df_.sort_values(by='ranks')['video_id'][::-1][:10].tolist()]\n",
    "    model_ranks += [df_.sort_values(by='scores')['video_id'][::-1][:10].tolist()]"
   ]
  },
  {
   "cell_type": "code",
   "execution_count": 56,
   "id": "e1f7cc78-9a49-458e-a1a4-9f58e61829f9",
   "metadata": {},
   "outputs": [],
   "source": [
    "def apk(actual, predicted, k=10):\n",
    "    if len(predicted)>k:\n",
    "        predicted = predicted[:k]\n",
    "\n",
    "    score = 0.0\n",
    "    num_hits = 0.0\n",
    "\n",
    "    for i,p in enumerate(predicted):\n",
    "        if p in actual and p not in predicted[:i]:\n",
    "            num_hits += 1.0\n",
    "            score += num_hits / (i+1.0)\n",
    "    if not actual:\n",
    "        return 0.0\n",
    "    return score / min(len(actual), k)\n",
    "\n",
    "def mapk(actual, predicted, k=10):\n",
    "    return np.mean([apk(a,p,k) for a,p in zip(actual, predicted)])\n"
   ]
  },
  {
   "cell_type": "code",
   "execution_count": 57,
   "id": "d58308db-8543-44b4-afc2-072508500410",
   "metadata": {},
   "outputs": [
    {
     "data": {
      "text/plain": [
       "0.0002357142857142857"
      ]
     },
     "execution_count": 57,
     "metadata": {},
     "output_type": "execute_result"
    }
   ],
   "source": [
    "mapk(group_val,model_ranks,k=10)"
   ]
  },
  {
   "cell_type": "code",
   "execution_count": 58,
   "id": "f38fd0ea-cd1a-4b37-bb3e-52e96216889b",
   "metadata": {},
   "outputs": [],
   "source": [
    "#### INFERENSE"
   ]
  },
  {
   "cell_type": "code",
   "execution_count": 15,
   "id": "c6d00a01-5703-4aee-b34a-68f7a36a5918",
   "metadata": {},
   "outputs": [],
   "source": [
    "test_predicts_tf = pd.read_parquet(\"TFIDF_100_preds_test.parquet\")\n",
    "test_predicts_als = pd.read_parquet(\"ALS_100_preds_test.parquet\")"
   ]
  },
  {
   "cell_type": "code",
   "execution_count": 16,
   "id": "5788ba32-e5d5-4e04-9a07-3ed8c9341377",
   "metadata": {},
   "outputs": [],
   "source": [
    "sample_sub = pd.read_csv('TFIDFV2.csv')['user_id']\n",
    "test_predicts_tf['user_id'] = sample_sub.values\n",
    "test_predicts_tf['rank_i'] = test_predicts_tf['preds'].map(lambda x: list(range(len(x))))\n",
    "test_predicts_als['user_id'] = sample_sub.values\n",
    "test_predicts_als['rank_i'] = test_predicts_als['preds'].map(lambda x: list(range(len(x))))"
   ]
  },
  {
   "cell_type": "code",
   "execution_count": 17,
   "id": "adb36f60-4593-43e3-82b1-ab398dbe2fa7",
   "metadata": {},
   "outputs": [
    {
     "data": {
      "application/vnd.jupyter.widget-view+json": {
       "model_id": "4a14d575dc3644c4aab0a60021a58050",
       "version_major": 2,
       "version_minor": 0
      },
      "text/plain": [
       "  0%|          | 0/152911 [00:00<?, ?it/s]"
      ]
     },
     "metadata": {},
     "output_type": "display_data"
    }
   ],
   "source": [
    "df_tf = create_data(test_predicts_tf)"
   ]
  },
  {
   "cell_type": "code",
   "execution_count": 18,
   "id": "cba3fcfc-f7c2-4dc3-8573-a8c4bc087b0c",
   "metadata": {},
   "outputs": [
    {
     "data": {
      "application/vnd.jupyter.widget-view+json": {
       "model_id": "8af78b60365948229adea20a80ef54fb",
       "version_major": 2,
       "version_minor": 0
      },
      "text/plain": [
       "  0%|          | 0/152911 [00:00<?, ?it/s]"
      ]
     },
     "metadata": {},
     "output_type": "display_data"
    }
   ],
   "source": [
    "df_als = create_data(test_predicts_als)"
   ]
  },
  {
   "cell_type": "code",
   "execution_count": 19,
   "id": "19434c19-c0eb-4b16-aaa8-8206fbc30734",
   "metadata": {},
   "outputs": [],
   "source": [
    "df_tf = df_tf.rename({'ranks':'ranks_tf','rank_id':'rank_id_tf'},axis=1)\n",
    "df_als = df_als.rename({'ranks':'ranks_als','rank_id':'rank_id_als'},axis=1)"
   ]
  },
  {
   "cell_type": "code",
   "execution_count": 26,
   "id": "2a66f0cd-b67a-4f1a-a8fa-becefa66a1a0",
   "metadata": {},
   "outputs": [
    {
     "data": {
      "application/vnd.jupyter.widget-view+json": {
       "model_id": "d7dad2d889624994a5e1a6c020407f8c",
       "version_major": 2,
       "version_minor": 0
      },
      "text/plain": [
       "  0%|          | 0/15287689 [00:00<?, ?it/s]"
      ]
     },
     "metadata": {},
     "output_type": "display_data"
    },
    {
     "data": {
      "application/vnd.jupyter.widget-view+json": {
       "model_id": "163280ef4bb44d52b239d482ab29f162",
       "version_major": 2,
       "version_minor": 0
      },
      "text/plain": [
       "  0%|          | 0/15291100 [00:00<?, ?it/s]"
      ]
     },
     "metadata": {},
     "output_type": "display_data"
    }
   ],
   "source": [
    "tqdm.pandas()\n",
    "df_tf['user_id_per_video_id'] = df_tf.progress_apply(lambda x: str(x.video_id) + '_' + str(x.user_id),axis=1)\n",
    "df_als['user_id_per_video_id'] = df_als.progress_apply(lambda x: str(x.video_id) + '_' + str(x.user_id),axis=1)"
   ]
  },
  {
   "cell_type": "code",
   "execution_count": 27,
   "id": "0f658b90-96ae-47ff-a2c5-36bd36337706",
   "metadata": {},
   "outputs": [],
   "source": [
    "df_als = df_als.set_index('user_id_per_video_id')\n",
    "df_tf = df_tf.set_index('user_id_per_video_id')"
   ]
  },
  {
   "cell_type": "code",
   "execution_count": 28,
   "id": "055dad27-6e1b-4e60-b2bd-757dabe56f8b",
   "metadata": {},
   "outputs": [],
   "source": [
    "df_all = pd.concat([df_als,df_tf],axis=1)"
   ]
  },
  {
   "cell_type": "code",
   "execution_count": 29,
   "id": "400d2931-dc31-450c-ad41-69b3e00625f6",
   "metadata": {
    "tags": []
   },
   "outputs": [
    {
     "data": {
      "text/html": [
       "<div>\n",
       "<style scoped>\n",
       "    .dataframe tbody tr th:only-of-type {\n",
       "        vertical-align: middle;\n",
       "    }\n",
       "\n",
       "    .dataframe tbody tr th {\n",
       "        vertical-align: top;\n",
       "    }\n",
       "\n",
       "    .dataframe thead th {\n",
       "        text-align: right;\n",
       "    }\n",
       "</style>\n",
       "<table border=\"1\" class=\"dataframe\">\n",
       "  <thead>\n",
       "    <tr style=\"text-align: right;\">\n",
       "      <th></th>\n",
       "      <th>user_id</th>\n",
       "      <th>ranks_als</th>\n",
       "      <th>rank_id_als</th>\n",
       "      <th>video_id</th>\n",
       "      <th>user_id</th>\n",
       "      <th>ranks_tf</th>\n",
       "      <th>rank_id_tf</th>\n",
       "      <th>video_id</th>\n",
       "    </tr>\n",
       "    <tr>\n",
       "      <th>user_id_per_video_id</th>\n",
       "      <th></th>\n",
       "      <th></th>\n",
       "      <th></th>\n",
       "      <th></th>\n",
       "      <th></th>\n",
       "      <th></th>\n",
       "      <th></th>\n",
       "      <th></th>\n",
       "    </tr>\n",
       "  </thead>\n",
       "  <tbody>\n",
       "    <tr>\n",
       "      <th>18999.0_938.0</th>\n",
       "      <td>938.0</td>\n",
       "      <td>0.136298</td>\n",
       "      <td>0.0</td>\n",
       "      <td>18999.0</td>\n",
       "      <td>938.0</td>\n",
       "      <td>6.027133</td>\n",
       "      <td>1.0</td>\n",
       "      <td>18999.0</td>\n",
       "    </tr>\n",
       "    <tr>\n",
       "      <th>6.0_938.0</th>\n",
       "      <td>938.0</td>\n",
       "      <td>0.127246</td>\n",
       "      <td>1.0</td>\n",
       "      <td>6.0</td>\n",
       "      <td>938.0</td>\n",
       "      <td>6.432595</td>\n",
       "      <td>0.0</td>\n",
       "      <td>6.0</td>\n",
       "    </tr>\n",
       "    <tr>\n",
       "      <th>43275.0_938.0</th>\n",
       "      <td>938.0</td>\n",
       "      <td>0.116085</td>\n",
       "      <td>2.0</td>\n",
       "      <td>43275.0</td>\n",
       "      <td>938.0</td>\n",
       "      <td>4.984624</td>\n",
       "      <td>8.0</td>\n",
       "      <td>43275.0</td>\n",
       "    </tr>\n",
       "    <tr>\n",
       "      <th>207669.0_938.0</th>\n",
       "      <td>938.0</td>\n",
       "      <td>0.103372</td>\n",
       "      <td>3.0</td>\n",
       "      <td>207669.0</td>\n",
       "      <td>938.0</td>\n",
       "      <td>5.237797</td>\n",
       "      <td>6.0</td>\n",
       "      <td>207669.0</td>\n",
       "    </tr>\n",
       "    <tr>\n",
       "      <th>127197.0_938.0</th>\n",
       "      <td>938.0</td>\n",
       "      <td>0.101942</td>\n",
       "      <td>4.0</td>\n",
       "      <td>127197.0</td>\n",
       "      <td>938.0</td>\n",
       "      <td>5.299776</td>\n",
       "      <td>4.0</td>\n",
       "      <td>127197.0</td>\n",
       "    </tr>\n",
       "    <tr>\n",
       "      <th>...</th>\n",
       "      <td>...</td>\n",
       "      <td>...</td>\n",
       "      <td>...</td>\n",
       "      <td>...</td>\n",
       "      <td>...</td>\n",
       "      <td>...</td>\n",
       "      <td>...</td>\n",
       "      <td>...</td>\n",
       "    </tr>\n",
       "    <tr>\n",
       "      <th>103565.0_25414.0</th>\n",
       "      <td>NaN</td>\n",
       "      <td>NaN</td>\n",
       "      <td>NaN</td>\n",
       "      <td>NaN</td>\n",
       "      <td>25414.0</td>\n",
       "      <td>2.387932</td>\n",
       "      <td>86.0</td>\n",
       "      <td>103565.0</td>\n",
       "    </tr>\n",
       "    <tr>\n",
       "      <th>52665.0_25414.0</th>\n",
       "      <td>NaN</td>\n",
       "      <td>NaN</td>\n",
       "      <td>NaN</td>\n",
       "      <td>NaN</td>\n",
       "      <td>25414.0</td>\n",
       "      <td>2.267152</td>\n",
       "      <td>89.0</td>\n",
       "      <td>52665.0</td>\n",
       "    </tr>\n",
       "    <tr>\n",
       "      <th>80920.0_25414.0</th>\n",
       "      <td>NaN</td>\n",
       "      <td>NaN</td>\n",
       "      <td>NaN</td>\n",
       "      <td>NaN</td>\n",
       "      <td>25414.0</td>\n",
       "      <td>2.221922</td>\n",
       "      <td>92.0</td>\n",
       "      <td>80920.0</td>\n",
       "    </tr>\n",
       "    <tr>\n",
       "      <th>165997.0_25414.0</th>\n",
       "      <td>NaN</td>\n",
       "      <td>NaN</td>\n",
       "      <td>NaN</td>\n",
       "      <td>NaN</td>\n",
       "      <td>25414.0</td>\n",
       "      <td>2.120616</td>\n",
       "      <td>97.0</td>\n",
       "      <td>165997.0</td>\n",
       "    </tr>\n",
       "    <tr>\n",
       "      <th>182990.0_25414.0</th>\n",
       "      <td>NaN</td>\n",
       "      <td>NaN</td>\n",
       "      <td>NaN</td>\n",
       "      <td>NaN</td>\n",
       "      <td>25414.0</td>\n",
       "      <td>2.108178</td>\n",
       "      <td>99.0</td>\n",
       "      <td>182990.0</td>\n",
       "    </tr>\n",
       "  </tbody>\n",
       "</table>\n",
       "<p>23510096 rows × 8 columns</p>\n",
       "</div>"
      ],
      "text/plain": [
       "                      user_id  ranks_als  rank_id_als  video_id  user_id  \\\n",
       "user_id_per_video_id                                                       \n",
       "18999.0_938.0           938.0   0.136298          0.0   18999.0    938.0   \n",
       "6.0_938.0               938.0   0.127246          1.0       6.0    938.0   \n",
       "43275.0_938.0           938.0   0.116085          2.0   43275.0    938.0   \n",
       "207669.0_938.0          938.0   0.103372          3.0  207669.0    938.0   \n",
       "127197.0_938.0          938.0   0.101942          4.0  127197.0    938.0   \n",
       "...                       ...        ...          ...       ...      ...   \n",
       "103565.0_25414.0          NaN        NaN          NaN       NaN  25414.0   \n",
       "52665.0_25414.0           NaN        NaN          NaN       NaN  25414.0   \n",
       "80920.0_25414.0           NaN        NaN          NaN       NaN  25414.0   \n",
       "165997.0_25414.0          NaN        NaN          NaN       NaN  25414.0   \n",
       "182990.0_25414.0          NaN        NaN          NaN       NaN  25414.0   \n",
       "\n",
       "                      ranks_tf  rank_id_tf  video_id  \n",
       "user_id_per_video_id                                  \n",
       "18999.0_938.0         6.027133         1.0   18999.0  \n",
       "6.0_938.0             6.432595         0.0       6.0  \n",
       "43275.0_938.0         4.984624         8.0   43275.0  \n",
       "207669.0_938.0        5.237797         6.0  207669.0  \n",
       "127197.0_938.0        5.299776         4.0  127197.0  \n",
       "...                        ...         ...       ...  \n",
       "103565.0_25414.0      2.387932        86.0  103565.0  \n",
       "52665.0_25414.0       2.267152        89.0   52665.0  \n",
       "80920.0_25414.0       2.221922        92.0   80920.0  \n",
       "165997.0_25414.0      2.120616        97.0  165997.0  \n",
       "182990.0_25414.0      2.108178        99.0  182990.0  \n",
       "\n",
       "[23510096 rows x 8 columns]"
      ]
     },
     "execution_count": 29,
     "metadata": {},
     "output_type": "execute_result"
    }
   ],
   "source": [
    "df_all"
   ]
  },
  {
   "cell_type": "code",
   "execution_count": 30,
   "id": "458bb0ef-f1f6-48e0-bee1-21af5721ef7f",
   "metadata": {},
   "outputs": [],
   "source": [
    "df_all['video_id'] = df_all['video_id'].fillna(-1)\n",
    "video_id = np.max(df_all['video_id'].values,axis=-1)"
   ]
  },
  {
   "cell_type": "code",
   "execution_count": 31,
   "id": "d7687be1-44ab-42ad-884c-2ca4b692793e",
   "metadata": {},
   "outputs": [],
   "source": [
    "df_all['user_id'] = df_all['user_id'].fillna(-1)\n",
    "users_id = np.max(df_all['user_id'].values,axis=-1)"
   ]
  },
  {
   "cell_type": "code",
   "execution_count": 32,
   "id": "62d983cb-f4c8-4264-b88a-63fcf6780426",
   "metadata": {},
   "outputs": [],
   "source": [
    "df_all = df_all.drop(['user_id','video_id'],axis=1)\n",
    "df_all['video_id'] = video_id\n",
    "df_all['user_id'] = users_id"
   ]
  },
  {
   "cell_type": "code",
   "execution_count": 33,
   "id": "0749b5e7-8603-40d3-9122-a32b3a2cb033",
   "metadata": {},
   "outputs": [],
   "source": [
    "df = df_all"
   ]
  },
  {
   "cell_type": "code",
   "execution_count": 35,
   "id": "e7903725-276a-4004-a636-9c4f53b14e74",
   "metadata": {},
   "outputs": [],
   "source": [
    "df['rank_id_als'] = df['rank_id_als'].fillna(500)\n",
    "df['rank_id_tf'] = df['rank_id_tf'].fillna(500)\n",
    "df['ranks_als'] = df['ranks_als'].fillna(-1)\n",
    "df['ranks_tf'] = df['ranks_tf'].fillna(-1)"
   ]
  },
  {
   "cell_type": "code",
   "execution_count": 36,
   "id": "5e6edc4e-b00b-48e8-99bc-bc2705e9ae44",
   "metadata": {
    "tags": []
   },
   "outputs": [],
   "source": [
    "df.to_parquet('DF_TEST.parquet.gzip',compression='gzip')"
   ]
  },
  {
   "cell_type": "code",
   "execution_count": 14,
   "id": "07e9083d-f507-44a6-9583-49b6bd51292f",
   "metadata": {},
   "outputs": [],
   "source": [
    "df = pd.read_parquet('DF_TEST.parquet.gzip')"
   ]
  },
  {
   "cell_type": "code",
   "execution_count": 15,
   "id": "cf431fd7-d67d-465b-9ce4-02332de5e8c9",
   "metadata": {},
   "outputs": [],
   "source": [
    "df = df.merge(user_data)\n",
    "df = df.merge(video_data,on='video_id')"
   ]
  },
  {
   "cell_type": "code",
   "execution_count": 16,
   "id": "f1772200-f9a7-40a0-a450-a8cd097cecbe",
   "metadata": {},
   "outputs": [],
   "source": [
    "df = df.sort_values(by='user_id')"
   ]
  },
  {
   "cell_type": "code",
   "execution_count": 17,
   "id": "2155109d-a96d-4019-a2c3-7b6f96a519d5",
   "metadata": {},
   "outputs": [],
   "source": [
    "df['user_id'] = df['user_id'].astype(int)"
   ]
  },
  {
   "cell_type": "code",
   "execution_count": 18,
   "id": "5553a9cf-6d8a-4c00-88c8-1b7b21dfa674",
   "metadata": {},
   "outputs": [],
   "source": [
    "cat_features = ['gender','language']\n",
    "\n",
    "predict_pool = Pool(data=df.drop(['city_id_x','city_id_y','birth_city_id','create_date_x'],axis=1),\n",
    "                    group_id=df['user_id'],\n",
    "                    cat_features=cat_features)"
   ]
  },
  {
   "cell_type": "code",
   "execution_count": 19,
   "id": "5ed9b93c-b3e8-4ea7-bee1-c937eba5538c",
   "metadata": {},
   "outputs": [],
   "source": [
    "cbm = CatBoostRanker().load_model('ranker_ensemble.cbm')"
   ]
  },
  {
   "cell_type": "code",
   "execution_count": 20,
   "id": "76ac8e90-61c2-456e-a11b-f59e3e5724d8",
   "metadata": {},
   "outputs": [],
   "source": [
    "df['scores'] = cbm.predict(predict_pool)"
   ]
  },
  {
   "cell_type": "code",
   "execution_count": 21,
   "id": "7adb09cb-7a81-44e9-843f-3347ab142a46",
   "metadata": {},
   "outputs": [],
   "source": [
    "steps = df.groupby('user_id')['ranks_tf'].agg('count').sort_index()"
   ]
  },
  {
   "cell_type": "code",
   "execution_count": 56,
   "id": "f076c4d8-2176-444a-ac78-86c0c3b337f6",
   "metadata": {},
   "outputs": [
    {
     "data": {
      "text/html": [
       "<div>\n",
       "<style scoped>\n",
       "    .dataframe tbody tr th:only-of-type {\n",
       "        vertical-align: middle;\n",
       "    }\n",
       "\n",
       "    .dataframe tbody tr th {\n",
       "        vertical-align: top;\n",
       "    }\n",
       "\n",
       "    .dataframe thead th {\n",
       "        text-align: right;\n",
       "    }\n",
       "</style>\n",
       "<table border=\"1\" class=\"dataframe\">\n",
       "  <thead>\n",
       "    <tr style=\"text-align: right;\">\n",
       "      <th></th>\n",
       "      <th>user_id</th>\n",
       "      <th>ranks</th>\n",
       "      <th>video_id</th>\n",
       "      <th>gender</th>\n",
       "      <th>age</th>\n",
       "      <th>language</th>\n",
       "      <th>owner_id</th>\n",
       "      <th>duration</th>\n",
       "      <th>upload_timestamp</th>\n",
       "      <th>owner_count</th>\n",
       "      <th>...</th>\n",
       "      <th>owner_like_max</th>\n",
       "      <th>owner_like_min</th>\n",
       "      <th>owner_like_std</th>\n",
       "      <th>owner_count_sum</th>\n",
       "      <th>owner_count_mean</th>\n",
       "      <th>owner_count_max</th>\n",
       "      <th>owner_count_min</th>\n",
       "      <th>owner_count_std</th>\n",
       "      <th>ow_duration</th>\n",
       "      <th>scores</th>\n",
       "    </tr>\n",
       "  </thead>\n",
       "  <tbody>\n",
       "    <tr>\n",
       "      <th>14912622</th>\n",
       "      <td>0</td>\n",
       "      <td>2.013695</td>\n",
       "      <td>12631</td>\n",
       "      <td>F</td>\n",
       "      <td>69.0</td>\n",
       "      <td>ru</td>\n",
       "      <td>1419</td>\n",
       "      <td>40</td>\n",
       "      <td>1697070638033</td>\n",
       "      <td>900</td>\n",
       "      <td>...</td>\n",
       "      <td>43</td>\n",
       "      <td>0</td>\n",
       "      <td>3.225457</td>\n",
       "      <td>13607</td>\n",
       "      <td>15.118889</td>\n",
       "      <td>260</td>\n",
       "      <td>1</td>\n",
       "      <td>26.669157</td>\n",
       "      <td>0.539649</td>\n",
       "      <td>-1.872947</td>\n",
       "    </tr>\n",
       "    <tr>\n",
       "      <th>14539730</th>\n",
       "      <td>0</td>\n",
       "      <td>2.006510</td>\n",
       "      <td>100123</td>\n",
       "      <td>F</td>\n",
       "      <td>69.0</td>\n",
       "      <td>ru</td>\n",
       "      <td>958</td>\n",
       "      <td>44</td>\n",
       "      <td>1691955973737</td>\n",
       "      <td>86</td>\n",
       "      <td>...</td>\n",
       "      <td>33</td>\n",
       "      <td>0</td>\n",
       "      <td>5.572210</td>\n",
       "      <td>5540</td>\n",
       "      <td>64.418605</td>\n",
       "      <td>674</td>\n",
       "      <td>1</td>\n",
       "      <td>140.054062</td>\n",
       "      <td>1.073780</td>\n",
       "      <td>-1.808733</td>\n",
       "    </tr>\n",
       "    <tr>\n",
       "      <th>14539404</th>\n",
       "      <td>0</td>\n",
       "      <td>1.819828</td>\n",
       "      <td>76688</td>\n",
       "      <td>F</td>\n",
       "      <td>69.0</td>\n",
       "      <td>ru</td>\n",
       "      <td>958</td>\n",
       "      <td>29</td>\n",
       "      <td>1687094139758</td>\n",
       "      <td>86</td>\n",
       "      <td>...</td>\n",
       "      <td>33</td>\n",
       "      <td>0</td>\n",
       "      <td>5.572210</td>\n",
       "      <td>5540</td>\n",
       "      <td>64.418605</td>\n",
       "      <td>674</td>\n",
       "      <td>1</td>\n",
       "      <td>140.054062</td>\n",
       "      <td>0.707719</td>\n",
       "      <td>-2.082201</td>\n",
       "    </tr>\n",
       "    <tr>\n",
       "      <th>14539318</th>\n",
       "      <td>0</td>\n",
       "      <td>2.314240</td>\n",
       "      <td>216068</td>\n",
       "      <td>F</td>\n",
       "      <td>69.0</td>\n",
       "      <td>ru</td>\n",
       "      <td>958</td>\n",
       "      <td>15</td>\n",
       "      <td>1697307412775</td>\n",
       "      <td>86</td>\n",
       "      <td>...</td>\n",
       "      <td>33</td>\n",
       "      <td>0</td>\n",
       "      <td>5.572210</td>\n",
       "      <td>5540</td>\n",
       "      <td>64.418605</td>\n",
       "      <td>674</td>\n",
       "      <td>1</td>\n",
       "      <td>140.054062</td>\n",
       "      <td>0.366061</td>\n",
       "      <td>-0.586644</td>\n",
       "    </tr>\n",
       "    <tr>\n",
       "      <th>14913163</th>\n",
       "      <td>0</td>\n",
       "      <td>1.926944</td>\n",
       "      <td>246406</td>\n",
       "      <td>F</td>\n",
       "      <td>69.0</td>\n",
       "      <td>ru</td>\n",
       "      <td>1419</td>\n",
       "      <td>29</td>\n",
       "      <td>1698580510370</td>\n",
       "      <td>900</td>\n",
       "      <td>...</td>\n",
       "      <td>43</td>\n",
       "      <td>0</td>\n",
       "      <td>3.225457</td>\n",
       "      <td>13607</td>\n",
       "      <td>15.118889</td>\n",
       "      <td>260</td>\n",
       "      <td>1</td>\n",
       "      <td>26.669157</td>\n",
       "      <td>0.391246</td>\n",
       "      <td>-1.669668</td>\n",
       "    </tr>\n",
       "    <tr>\n",
       "      <th>...</th>\n",
       "      <td>...</td>\n",
       "      <td>...</td>\n",
       "      <td>...</td>\n",
       "      <td>...</td>\n",
       "      <td>...</td>\n",
       "      <td>...</td>\n",
       "      <td>...</td>\n",
       "      <td>...</td>\n",
       "      <td>...</td>\n",
       "      <td>...</td>\n",
       "      <td>...</td>\n",
       "      <td>...</td>\n",
       "      <td>...</td>\n",
       "      <td>...</td>\n",
       "      <td>...</td>\n",
       "      <td>...</td>\n",
       "      <td>...</td>\n",
       "      <td>...</td>\n",
       "      <td>...</td>\n",
       "      <td>...</td>\n",
       "      <td>...</td>\n",
       "    </tr>\n",
       "    <tr>\n",
       "      <th>1445559</th>\n",
       "      <td>152910</td>\n",
       "      <td>8.227917</td>\n",
       "      <td>34204</td>\n",
       "      <td>F</td>\n",
       "      <td>66.0</td>\n",
       "      <td>ru</td>\n",
       "      <td>1918</td>\n",
       "      <td>103</td>\n",
       "      <td>1694439379819</td>\n",
       "      <td>72</td>\n",
       "      <td>...</td>\n",
       "      <td>4146</td>\n",
       "      <td>0</td>\n",
       "      <td>488.645136</td>\n",
       "      <td>16547</td>\n",
       "      <td>229.819444</td>\n",
       "      <td>15272</td>\n",
       "      <td>1</td>\n",
       "      <td>1801.303240</td>\n",
       "      <td>1.665020</td>\n",
       "      <td>0.507385</td>\n",
       "    </tr>\n",
       "    <tr>\n",
       "      <th>10492759</th>\n",
       "      <td>152910</td>\n",
       "      <td>4.813787</td>\n",
       "      <td>201337</td>\n",
       "      <td>F</td>\n",
       "      <td>66.0</td>\n",
       "      <td>ru</td>\n",
       "      <td>7409</td>\n",
       "      <td>55</td>\n",
       "      <td>1695717010802</td>\n",
       "      <td>149</td>\n",
       "      <td>...</td>\n",
       "      <td>227</td>\n",
       "      <td>0</td>\n",
       "      <td>21.549617</td>\n",
       "      <td>10724</td>\n",
       "      <td>71.973154</td>\n",
       "      <td>2993</td>\n",
       "      <td>1</td>\n",
       "      <td>289.629468</td>\n",
       "      <td>0.552112</td>\n",
       "      <td>-1.121911</td>\n",
       "    </tr>\n",
       "    <tr>\n",
       "      <th>6733552</th>\n",
       "      <td>152910</td>\n",
       "      <td>5.735305</td>\n",
       "      <td>226671</td>\n",
       "      <td>F</td>\n",
       "      <td>66.0</td>\n",
       "      <td>ru</td>\n",
       "      <td>2871</td>\n",
       "      <td>15</td>\n",
       "      <td>1696522616923</td>\n",
       "      <td>138</td>\n",
       "      <td>...</td>\n",
       "      <td>736</td>\n",
       "      <td>0</td>\n",
       "      <td>104.690196</td>\n",
       "      <td>45401</td>\n",
       "      <td>328.992754</td>\n",
       "      <td>7895</td>\n",
       "      <td>1</td>\n",
       "      <td>984.763201</td>\n",
       "      <td>0.536408</td>\n",
       "      <td>-0.706107</td>\n",
       "    </tr>\n",
       "    <tr>\n",
       "      <th>1788719</th>\n",
       "      <td>152910</td>\n",
       "      <td>6.400785</td>\n",
       "      <td>166381</td>\n",
       "      <td>F</td>\n",
       "      <td>66.0</td>\n",
       "      <td>ru</td>\n",
       "      <td>4852</td>\n",
       "      <td>51</td>\n",
       "      <td>1695892816939</td>\n",
       "      <td>23</td>\n",
       "      <td>...</td>\n",
       "      <td>199</td>\n",
       "      <td>0</td>\n",
       "      <td>48.888556</td>\n",
       "      <td>32367</td>\n",
       "      <td>1407.260870</td>\n",
       "      <td>7893</td>\n",
       "      <td>1</td>\n",
       "      <td>2427.233895</td>\n",
       "      <td>0.278490</td>\n",
       "      <td>-1.670684</td>\n",
       "    </tr>\n",
       "    <tr>\n",
       "      <th>9868818</th>\n",
       "      <td>152910</td>\n",
       "      <td>4.611451</td>\n",
       "      <td>60094</td>\n",
       "      <td>F</td>\n",
       "      <td>66.0</td>\n",
       "      <td>ru</td>\n",
       "      <td>8072</td>\n",
       "      <td>175</td>\n",
       "      <td>1697527915642</td>\n",
       "      <td>888</td>\n",
       "      <td>...</td>\n",
       "      <td>726</td>\n",
       "      <td>0</td>\n",
       "      <td>75.062400</td>\n",
       "      <td>147913</td>\n",
       "      <td>166.568694</td>\n",
       "      <td>2752</td>\n",
       "      <td>1</td>\n",
       "      <td>315.228833</td>\n",
       "      <td>1.111723</td>\n",
       "      <td>0.843267</td>\n",
       "    </tr>\n",
       "  </tbody>\n",
       "</table>\n",
       "<p>15195672 rows × 35 columns</p>\n",
       "</div>"
      ],
      "text/plain": [
       "          user_id     ranks  video_id gender   age language  owner_id  \\\n",
       "14912622        0  2.013695     12631      F  69.0       ru      1419   \n",
       "14539730        0  2.006510    100123      F  69.0       ru       958   \n",
       "14539404        0  1.819828     76688      F  69.0       ru       958   \n",
       "14539318        0  2.314240    216068      F  69.0       ru       958   \n",
       "14913163        0  1.926944    246406      F  69.0       ru      1419   \n",
       "...           ...       ...       ...    ...   ...      ...       ...   \n",
       "1445559    152910  8.227917     34204      F  66.0       ru      1918   \n",
       "10492759   152910  4.813787    201337      F  66.0       ru      7409   \n",
       "6733552    152910  5.735305    226671      F  66.0       ru      2871   \n",
       "1788719    152910  6.400785    166381      F  66.0       ru      4852   \n",
       "9868818    152910  4.611451     60094      F  66.0       ru      8072   \n",
       "\n",
       "          duration  upload_timestamp  owner_count  ...  owner_like_max  \\\n",
       "14912622        40     1697070638033          900  ...              43   \n",
       "14539730        44     1691955973737           86  ...              33   \n",
       "14539404        29     1687094139758           86  ...              33   \n",
       "14539318        15     1697307412775           86  ...              33   \n",
       "14913163        29     1698580510370          900  ...              43   \n",
       "...            ...               ...          ...  ...             ...   \n",
       "1445559        103     1694439379819           72  ...            4146   \n",
       "10492759        55     1695717010802          149  ...             227   \n",
       "6733552         15     1696522616923          138  ...             736   \n",
       "1788719         51     1695892816939           23  ...             199   \n",
       "9868818        175     1697527915642          888  ...             726   \n",
       "\n",
       "          owner_like_min  owner_like_std  owner_count_sum  owner_count_mean  \\\n",
       "14912622               0        3.225457            13607         15.118889   \n",
       "14539730               0        5.572210             5540         64.418605   \n",
       "14539404               0        5.572210             5540         64.418605   \n",
       "14539318               0        5.572210             5540         64.418605   \n",
       "14913163               0        3.225457            13607         15.118889   \n",
       "...                  ...             ...              ...               ...   \n",
       "1445559                0      488.645136            16547        229.819444   \n",
       "10492759               0       21.549617            10724         71.973154   \n",
       "6733552                0      104.690196            45401        328.992754   \n",
       "1788719                0       48.888556            32367       1407.260870   \n",
       "9868818                0       75.062400           147913        166.568694   \n",
       "\n",
       "          owner_count_max  owner_count_min  owner_count_std  ow_duration  \\\n",
       "14912622              260                1        26.669157     0.539649   \n",
       "14539730              674                1       140.054062     1.073780   \n",
       "14539404              674                1       140.054062     0.707719   \n",
       "14539318              674                1       140.054062     0.366061   \n",
       "14913163              260                1        26.669157     0.391246   \n",
       "...                   ...              ...              ...          ...   \n",
       "1445559             15272                1      1801.303240     1.665020   \n",
       "10492759             2993                1       289.629468     0.552112   \n",
       "6733552              7895                1       984.763201     0.536408   \n",
       "1788719              7893                1      2427.233895     0.278490   \n",
       "9868818              2752                1       315.228833     1.111723   \n",
       "\n",
       "            scores  \n",
       "14912622 -1.872947  \n",
       "14539730 -1.808733  \n",
       "14539404 -2.082201  \n",
       "14539318 -0.586644  \n",
       "14913163 -1.669668  \n",
       "...            ...  \n",
       "1445559   0.507385  \n",
       "10492759 -1.121911  \n",
       "6733552  -0.706107  \n",
       "1788719  -1.670684  \n",
       "9868818   0.843267  \n",
       "\n",
       "[15195672 rows x 35 columns]"
      ]
     },
     "execution_count": 56,
     "metadata": {},
     "output_type": "execute_result"
    }
   ],
   "source": [
    "df "
   ]
  },
  {
   "cell_type": "code",
   "execution_count": 22,
   "id": "af4afef4-8572-468d-88df-4be63621b55a",
   "metadata": {},
   "outputs": [],
   "source": [
    "steps = steps.tolist()"
   ]
  },
  {
   "cell_type": "code",
   "execution_count": 23,
   "id": "ad9a3b6a-d0cd-44c8-9135-29ad5857edcc",
   "metadata": {},
   "outputs": [
    {
     "data": {
      "application/vnd.jupyter.widget-view+json": {
       "model_id": "1e086cbd2810474f93642ae5907e52ae",
       "version_major": 2,
       "version_minor": 0
      },
      "text/plain": [
       "  0%|          | 0/152911 [00:00<?, ?it/s]"
      ]
     },
     "metadata": {},
     "output_type": "display_data"
    },
    {
     "name": "stderr",
     "output_type": "stream",
     "text": [
      "/tmp/ipykernel_714/3373875492.py:6: FutureWarning: The behavior of `series[i:j]` with an integer-dtype index is deprecated. In a future version, this will be treated as *label-based* indexing, consistent with e.g. `series[i]` lookups. To retain the old behavior, use `series.iloc[i:j]`. To get the future behavior, use `series.loc[i:j]`.\n",
      "  als_ranks += [df_.sort_values(by='scores')['video_id'][::-1][:10].tolist()]\n",
      "/tmp/ipykernel_714/3373875492.py:7: FutureWarning: The behavior of `series[i:j]` with an integer-dtype index is deprecated. In a future version, this will be treated as *label-based* indexing, consistent with e.g. `series[i]` lookups. To retain the old behavior, use `series.iloc[i:j]`. To get the future behavior, use `series.loc[i:j]`.\n",
      "  model_ranks += [df_.sort_values(by='scores')['video_id'][::-1][:10].tolist()]\n"
     ]
    }
   ],
   "source": [
    "model_ranks,als_ranks = [],[]\n",
    "start = 0\n",
    "for step in tqdm(steps):\n",
    "    df_ = df.iloc[start:start+step]\n",
    "    start += step\n",
    "    als_ranks += [df_.sort_values(by='scores')['video_id'][::-1][:10].tolist()]\n",
    "    model_ranks += [df_.sort_values(by='scores')['video_id'][::-1][:10].tolist()]"
   ]
  },
  {
   "cell_type": "code",
   "execution_count": 24,
   "id": "5f0b3bd0-541a-4c42-a91f-c5368c219e45",
   "metadata": {},
   "outputs": [],
   "source": [
    "sample_sub = pd.read_csv('TFIDFV2.csv')"
   ]
  },
  {
   "cell_type": "code",
   "execution_count": 25,
   "id": "f8b638c1-56c7-43ad-ba91-e73b156bdac3",
   "metadata": {},
   "outputs": [],
   "source": [
    "sample_sub = sample_sub.sort_values(by='user_id') "
   ]
  },
  {
   "cell_type": "code",
   "execution_count": 35,
   "id": "dec67c2f-6d0e-49b2-86f5-77322782bb96",
   "metadata": {},
   "outputs": [],
   "source": [
    "predicted_cols=[' '.join(map(str, [int(x) for x in i])) for i in model_ranks]"
   ]
  },
  {
   "cell_type": "code",
   "execution_count": 36,
   "id": "43fb4166-f1de-4228-b361-90d7192974a1",
   "metadata": {},
   "outputs": [],
   "source": [
    "sample_sub['recommendation'] = predicted_cols"
   ]
  },
  {
   "cell_type": "code",
   "execution_count": 39,
   "id": "e4849241-096e-4a88-a71d-7fcfb9d7882a",
   "metadata": {},
   "outputs": [],
   "source": [
    "sample_sub['count_tr'] = sample_sub['recommendation'].map(lambda x: len(x.split()))"
   ]
  },
  {
   "cell_type": "code",
   "execution_count": 40,
   "id": "5513c586-8216-45b4-bda4-040e8ddcc288",
   "metadata": {},
   "outputs": [
    {
     "data": {
      "text/html": [
       "<div>\n",
       "<style scoped>\n",
       "    .dataframe tbody tr th:only-of-type {\n",
       "        vertical-align: middle;\n",
       "    }\n",
       "\n",
       "    .dataframe tbody tr th {\n",
       "        vertical-align: top;\n",
       "    }\n",
       "\n",
       "    .dataframe thead th {\n",
       "        text-align: right;\n",
       "    }\n",
       "</style>\n",
       "<table border=\"1\" class=\"dataframe\">\n",
       "  <thead>\n",
       "    <tr style=\"text-align: right;\">\n",
       "      <th></th>\n",
       "      <th>user_id</th>\n",
       "      <th>recommendation</th>\n",
       "      <th>count_tr</th>\n",
       "    </tr>\n",
       "  </thead>\n",
       "  <tbody>\n",
       "    <tr>\n",
       "      <th>55869</th>\n",
       "      <td>0</td>\n",
       "      <td>136879 216068 57681 112870 131005 45512 169519...</td>\n",
       "      <td>10</td>\n",
       "    </tr>\n",
       "    <tr>\n",
       "      <th>40655</th>\n",
       "      <td>1</td>\n",
       "      <td>131005 63190 34204 169519 182599 24671 166282 ...</td>\n",
       "      <td>10</td>\n",
       "    </tr>\n",
       "    <tr>\n",
       "      <th>51407</th>\n",
       "      <td>2</td>\n",
       "      <td>179468 101082 111331 148896 131005 81866 49114...</td>\n",
       "      <td>10</td>\n",
       "    </tr>\n",
       "    <tr>\n",
       "      <th>149226</th>\n",
       "      <td>3</td>\n",
       "      <td>57234 98911 252647 131005 169519 233353 240476...</td>\n",
       "      <td>10</td>\n",
       "    </tr>\n",
       "    <tr>\n",
       "      <th>19366</th>\n",
       "      <td>4</td>\n",
       "      <td>238658 249740 76442 4266 202971 19081 51821 42...</td>\n",
       "      <td>10</td>\n",
       "    </tr>\n",
       "    <tr>\n",
       "      <th>...</th>\n",
       "      <td>...</td>\n",
       "      <td>...</td>\n",
       "      <td>...</td>\n",
       "    </tr>\n",
       "    <tr>\n",
       "      <th>13880</th>\n",
       "      <td>152906</td>\n",
       "      <td>63190 26721 131005 24671 166282 89776 182599 4...</td>\n",
       "      <td>10</td>\n",
       "    </tr>\n",
       "    <tr>\n",
       "      <th>83396</th>\n",
       "      <td>152907</td>\n",
       "      <td>210711 234752 57234 50148 131005 60094 169519 ...</td>\n",
       "      <td>10</td>\n",
       "    </tr>\n",
       "    <tr>\n",
       "      <th>34792</th>\n",
       "      <td>152908</td>\n",
       "      <td>160838 13740 115913 91466 149902 145482 249196...</td>\n",
       "      <td>10</td>\n",
       "    </tr>\n",
       "    <tr>\n",
       "      <th>108083</th>\n",
       "      <td>152909</td>\n",
       "      <td>99967 127736 240476 98911 201813 235932 210711...</td>\n",
       "      <td>10</td>\n",
       "    </tr>\n",
       "    <tr>\n",
       "      <th>148308</th>\n",
       "      <td>152910</td>\n",
       "      <td>210711 63190 188589 202763 212556 166282 50148...</td>\n",
       "      <td>10</td>\n",
       "    </tr>\n",
       "  </tbody>\n",
       "</table>\n",
       "<p>152911 rows × 3 columns</p>\n",
       "</div>"
      ],
      "text/plain": [
       "        user_id                                     recommendation  count_tr\n",
       "55869         0  136879 216068 57681 112870 131005 45512 169519...        10\n",
       "40655         1  131005 63190 34204 169519 182599 24671 166282 ...        10\n",
       "51407         2  179468 101082 111331 148896 131005 81866 49114...        10\n",
       "149226        3  57234 98911 252647 131005 169519 233353 240476...        10\n",
       "19366         4  238658 249740 76442 4266 202971 19081 51821 42...        10\n",
       "...         ...                                                ...       ...\n",
       "13880    152906  63190 26721 131005 24671 166282 89776 182599 4...        10\n",
       "83396    152907  210711 234752 57234 50148 131005 60094 169519 ...        10\n",
       "34792    152908  160838 13740 115913 91466 149902 145482 249196...        10\n",
       "108083   152909  99967 127736 240476 98911 201813 235932 210711...        10\n",
       "148308   152910  210711 63190 188589 202763 212556 166282 50148...        10\n",
       "\n",
       "[152911 rows x 3 columns]"
      ]
     },
     "execution_count": 40,
     "metadata": {},
     "output_type": "execute_result"
    }
   ],
   "source": [
    "sample_sub"
   ]
  },
  {
   "cell_type": "code",
   "execution_count": 65,
   "id": "bf01ce80-2b81-4951-b041-d38d8eb31295",
   "metadata": {},
   "outputs": [
    {
     "name": "stderr",
     "output_type": "stream",
     "text": [
      "/tmp/ipykernel_1401/1353744486.py:2: SettingWithCopyWarning: \n",
      "A value is trying to be set on a copy of a slice from a DataFrame\n",
      "\n",
      "See the caveats in the documentation: https://pandas.pydata.org/pandas-docs/stable/user_guide/indexing.html#returning-a-view-versus-a-copy\n",
      "  recs[98527] = '24671 65611 45311 132648 217384 34204 166282 51799 131005 188589'\n",
      "/tmp/ipykernel_1401/1353744486.py:3: SettingWithCopyWarning: \n",
      "A value is trying to be set on a copy of a slice from a DataFrame\n",
      "\n",
      "See the caveats in the documentation: https://pandas.pydata.org/pandas-docs/stable/user_guide/indexing.html#returning-a-view-versus-a-copy\n",
      "  recs[98927] = '24671 65611 45311 132648 217384 34204 166282 51799 131005 188589'\n",
      "/tmp/ipykernel_1401/1353744486.py:4: SettingWithCopyWarning: \n",
      "A value is trying to be set on a copy of a slice from a DataFrame\n",
      "\n",
      "See the caveats in the documentation: https://pandas.pydata.org/pandas-docs/stable/user_guide/indexing.html#returning-a-view-versus-a-copy\n",
      "  recs[144672] = '24671 65611 45311 132648 217384 34204 166282 51799 131005 188589'\n",
      "/tmp/ipykernel_1401/1353744486.py:5: SettingWithCopyWarning: \n",
      "A value is trying to be set on a copy of a slice from a DataFrame\n",
      "\n",
      "See the caveats in the documentation: https://pandas.pydata.org/pandas-docs/stable/user_guide/indexing.html#returning-a-view-versus-a-copy\n",
      "  recs[48959] = '24671 65611 45311 132648 217384 34204 166282 51799 131005 188589'\n"
     ]
    }
   ],
   "source": [
    "recs = sample_sub['recommendation']\n",
    "recs[98527] = '24671 65611 45311 132648 217384 34204 166282 51799 131005 188589'\n",
    "recs[98927] = '24671 65611 45311 132648 217384 34204 166282 51799 131005 188589'\n",
    "recs[144672] = '24671 65611 45311 132648 217384 34204 166282 51799 131005 188589'\n",
    "recs[48959] = '24671 65611 45311 132648 217384 34204 166282 51799 131005 188589'"
   ]
  },
  {
   "cell_type": "code",
   "execution_count": 66,
   "id": "51deabfa-bb55-4c22-8e43-834dfc1e59dc",
   "metadata": {},
   "outputs": [],
   "source": [
    "sample_sub['recommendation'] = recs"
   ]
  },
  {
   "cell_type": "code",
   "execution_count": 41,
   "id": "99af05fd-fa70-45a5-8bdc-add8dfe2664f",
   "metadata": {},
   "outputs": [
    {
     "data": {
      "text/plain": [
       "10.0"
      ]
     },
     "execution_count": 41,
     "metadata": {},
     "output_type": "execute_result"
    }
   ],
   "source": [
    "sample_sub['count_tr'].mean()"
   ]
  },
  {
   "cell_type": "code",
   "execution_count": 61,
   "id": "4beab32f-64aa-4ed1-b30b-33430070f095",
   "metadata": {},
   "outputs": [
    {
     "data": {
      "text/html": [
       "<div>\n",
       "<style scoped>\n",
       "    .dataframe tbody tr th:only-of-type {\n",
       "        vertical-align: middle;\n",
       "    }\n",
       "\n",
       "    .dataframe tbody tr th {\n",
       "        vertical-align: top;\n",
       "    }\n",
       "\n",
       "    .dataframe thead th {\n",
       "        text-align: right;\n",
       "    }\n",
       "</style>\n",
       "<table border=\"1\" class=\"dataframe\">\n",
       "  <thead>\n",
       "    <tr style=\"text-align: right;\">\n",
       "      <th></th>\n",
       "      <th>user_id</th>\n",
       "      <th>recommendation</th>\n",
       "    </tr>\n",
       "  </thead>\n",
       "  <tbody>\n",
       "    <tr>\n",
       "      <th>0</th>\n",
       "      <td>0</td>\n",
       "      <td>180158 223373 187951 25005 185565 46747 78973 ...</td>\n",
       "    </tr>\n",
       "    <tr>\n",
       "      <th>1</th>\n",
       "      <td>1</td>\n",
       "      <td>131005 34204 169519 166282 54812 137447 51799 ...</td>\n",
       "    </tr>\n",
       "    <tr>\n",
       "      <th>2</th>\n",
       "      <td>2</td>\n",
       "      <td>121660 51358 189727 111331 131005 132060 24524...</td>\n",
       "    </tr>\n",
       "    <tr>\n",
       "      <th>3</th>\n",
       "      <td>3</td>\n",
       "      <td>123953 137447 207669 38943 169519 166825 24547...</td>\n",
       "    </tr>\n",
       "    <tr>\n",
       "      <th>4</th>\n",
       "      <td>4</td>\n",
       "      <td>34204 169519 6986 13009 89274 238556 133062 18...</td>\n",
       "    </tr>\n",
       "    <tr>\n",
       "      <th>...</th>\n",
       "      <td>...</td>\n",
       "      <td>...</td>\n",
       "    </tr>\n",
       "    <tr>\n",
       "      <th>152906</th>\n",
       "      <td>152906</td>\n",
       "      <td>131005 34204 166282 217384 241470 169519 54812...</td>\n",
       "    </tr>\n",
       "    <tr>\n",
       "      <th>152907</th>\n",
       "      <td>152907</td>\n",
       "      <td>131005 169519 137447 34204 188589 166825 77671...</td>\n",
       "    </tr>\n",
       "    <tr>\n",
       "      <th>152908</th>\n",
       "      <td>152908</td>\n",
       "      <td>134995 124778 69105 5380 28917 16658 145482 69...</td>\n",
       "    </tr>\n",
       "    <tr>\n",
       "      <th>152909</th>\n",
       "      <td>152909</td>\n",
       "      <td>235932 166825 188589 144081 38943 34204 131005...</td>\n",
       "    </tr>\n",
       "    <tr>\n",
       "      <th>152910</th>\n",
       "      <td>152910</td>\n",
       "      <td>188589 166282 166825 34204 217384 131005 56158...</td>\n",
       "    </tr>\n",
       "  </tbody>\n",
       "</table>\n",
       "<p>152911 rows × 2 columns</p>\n",
       "</div>"
      ],
      "text/plain": [
       "        user_id                                     recommendation\n",
       "0             0  180158 223373 187951 25005 185565 46747 78973 ...\n",
       "1             1  131005 34204 169519 166282 54812 137447 51799 ...\n",
       "2             2  121660 51358 189727 111331 131005 132060 24524...\n",
       "3             3  123953 137447 207669 38943 169519 166825 24547...\n",
       "4             4  34204 169519 6986 13009 89274 238556 133062 18...\n",
       "...         ...                                                ...\n",
       "152906   152906  131005 34204 166282 217384 241470 169519 54812...\n",
       "152907   152907  131005 169519 137447 34204 188589 166825 77671...\n",
       "152908   152908  134995 124778 69105 5380 28917 16658 145482 69...\n",
       "152909   152909  235932 166825 188589 144081 38943 34204 131005...\n",
       "152910   152910  188589 166282 166825 34204 217384 131005 56158...\n",
       "\n",
       "[152911 rows x 2 columns]"
      ]
     },
     "execution_count": 61,
     "metadata": {},
     "output_type": "execute_result"
    }
   ],
   "source": [
    "sample_socres = pd.read_csv('Simple_catboost.csv')\n",
    "sample_socres"
   ]
  },
  {
   "cell_type": "code",
   "execution_count": 42,
   "id": "6dd95c64-facd-4df7-add6-6d26cccf288f",
   "metadata": {},
   "outputs": [],
   "source": [
    "sample_sub[['user_id','recommendation']].to_csv('Simple_catboost_ensV2.csv',index=False)"
   ]
  },
  {
   "cell_type": "code",
   "execution_count": 32,
   "id": "1c9f8f12-c4f3-45a3-b1c9-26b2391d30a6",
   "metadata": {},
   "outputs": [
    {
     "data": {
      "text/html": [
       "<div>\n",
       "<style scoped>\n",
       "    .dataframe tbody tr th:only-of-type {\n",
       "        vertical-align: middle;\n",
       "    }\n",
       "\n",
       "    .dataframe tbody tr th {\n",
       "        vertical-align: top;\n",
       "    }\n",
       "\n",
       "    .dataframe thead th {\n",
       "        text-align: right;\n",
       "    }\n",
       "</style>\n",
       "<table border=\"1\" class=\"dataframe\">\n",
       "  <thead>\n",
       "    <tr style=\"text-align: right;\">\n",
       "      <th></th>\n",
       "      <th>user_id</th>\n",
       "      <th>recommendation</th>\n",
       "      <th>count_tr</th>\n",
       "    </tr>\n",
       "  </thead>\n",
       "  <tbody>\n",
       "    <tr>\n",
       "      <th>55869</th>\n",
       "      <td>0</td>\n",
       "      <td>136879.0 216068.0 57681.0 112870.0 131005.0 45...</td>\n",
       "      <td>10</td>\n",
       "    </tr>\n",
       "    <tr>\n",
       "      <th>40655</th>\n",
       "      <td>1</td>\n",
       "      <td>131005.0 63190.0 34204.0 169519.0 182599.0 246...</td>\n",
       "      <td>10</td>\n",
       "    </tr>\n",
       "    <tr>\n",
       "      <th>51407</th>\n",
       "      <td>2</td>\n",
       "      <td>179468.0 101082.0 111331.0 148896.0 131005.0 8...</td>\n",
       "      <td>10</td>\n",
       "    </tr>\n",
       "    <tr>\n",
       "      <th>149226</th>\n",
       "      <td>3</td>\n",
       "      <td>57234.0 98911.0 252647.0 131005.0 169519.0 233...</td>\n",
       "      <td>10</td>\n",
       "    </tr>\n",
       "    <tr>\n",
       "      <th>19366</th>\n",
       "      <td>4</td>\n",
       "      <td>238658.0 249740.0 76442.0 4266.0 202971.0 1908...</td>\n",
       "      <td>10</td>\n",
       "    </tr>\n",
       "    <tr>\n",
       "      <th>...</th>\n",
       "      <td>...</td>\n",
       "      <td>...</td>\n",
       "      <td>...</td>\n",
       "    </tr>\n",
       "    <tr>\n",
       "      <th>13880</th>\n",
       "      <td>152906</td>\n",
       "      <td>63190.0 26721.0 131005.0 24671.0 166282.0 8977...</td>\n",
       "      <td>10</td>\n",
       "    </tr>\n",
       "    <tr>\n",
       "      <th>83396</th>\n",
       "      <td>152907</td>\n",
       "      <td>210711.0 234752.0 57234.0 50148.0 131005.0 600...</td>\n",
       "      <td>10</td>\n",
       "    </tr>\n",
       "    <tr>\n",
       "      <th>34792</th>\n",
       "      <td>152908</td>\n",
       "      <td>160838.0 13740.0 115913.0 91466.0 149902.0 145...</td>\n",
       "      <td>10</td>\n",
       "    </tr>\n",
       "    <tr>\n",
       "      <th>108083</th>\n",
       "      <td>152909</td>\n",
       "      <td>99967.0 127736.0 240476.0 98911.0 201813.0 235...</td>\n",
       "      <td>10</td>\n",
       "    </tr>\n",
       "    <tr>\n",
       "      <th>148308</th>\n",
       "      <td>152910</td>\n",
       "      <td>210711.0 63190.0 188589.0 202763.0 212556.0 16...</td>\n",
       "      <td>10</td>\n",
       "    </tr>\n",
       "  </tbody>\n",
       "</table>\n",
       "<p>152911 rows × 3 columns</p>\n",
       "</div>"
      ],
      "text/plain": [
       "        user_id                                     recommendation  count_tr\n",
       "55869         0  136879.0 216068.0 57681.0 112870.0 131005.0 45...        10\n",
       "40655         1  131005.0 63190.0 34204.0 169519.0 182599.0 246...        10\n",
       "51407         2  179468.0 101082.0 111331.0 148896.0 131005.0 8...        10\n",
       "149226        3  57234.0 98911.0 252647.0 131005.0 169519.0 233...        10\n",
       "19366         4  238658.0 249740.0 76442.0 4266.0 202971.0 1908...        10\n",
       "...         ...                                                ...       ...\n",
       "13880    152906  63190.0 26721.0 131005.0 24671.0 166282.0 8977...        10\n",
       "83396    152907  210711.0 234752.0 57234.0 50148.0 131005.0 600...        10\n",
       "34792    152908  160838.0 13740.0 115913.0 91466.0 149902.0 145...        10\n",
       "108083   152909  99967.0 127736.0 240476.0 98911.0 201813.0 235...        10\n",
       "148308   152910  210711.0 63190.0 188589.0 202763.0 212556.0 16...        10\n",
       "\n",
       "[152911 rows x 3 columns]"
      ]
     },
     "execution_count": 32,
     "metadata": {},
     "output_type": "execute_result"
    }
   ],
   "source": [
    "sample_sub"
   ]
  },
  {
   "cell_type": "code",
   "execution_count": null,
   "id": "ad01220b-97a5-4aa0-9747-37e55ffac150",
   "metadata": {},
   "outputs": [],
   "source": []
  }
 ],
 "metadata": {
  "kernelspec": {
   "display_name": "Python 3 (ipykernel)",
   "language": "python",
   "name": "python3"
  },
  "language_info": {
   "codemirror_mode": {
    "name": "ipython",
    "version": 3
   },
   "file_extension": ".py",
   "mimetype": "text/x-python",
   "name": "python",
   "nbconvert_exporter": "python",
   "pygments_lexer": "ipython3",
   "version": "3.9.16"
  }
 },
 "nbformat": 4,
 "nbformat_minor": 5
}
