{
 "cells": [
  {
   "cell_type": "code",
   "execution_count": 1,
   "metadata": {
    "id": "8Wi2yctz73aJ",
    "tags": []
   },
   "outputs": [],
   "source": [
    "import pandas as pd\n",
    "import numpy as np\n",
    "import multiprocessing\n",
    "from sklearn.model_selection import train_test_split\n",
    "from tqdm.auto import tqdm\n",
    "#from gensim.models import word2vec\n",
    "from inspect import getmembers, isfunction\n",
    "from math import floor\n",
    "from catboost import CatBoostRegressor\n",
    "from rdkit import DataStructs\n",
    "from rdkit import RDLogger\n",
    "from sklearn.metrics import mean_squared_error"
   ]
  },
  {
   "cell_type": "code",
   "execution_count": 2,
   "metadata": {
    "colab": {
     "base_uri": "https://localhost:8080/"
    },
    "id": "zuUyDcq8liyi",
    "outputId": "b5b1ef34-f4f0-46cf-8ca4-ee8cd15b51db",
    "tags": []
   },
   "outputs": [
    {
     "data": {
      "text/plain": [
       "8"
      ]
     },
     "execution_count": 2,
     "metadata": {},
     "output_type": "execute_result"
    }
   ],
   "source": [
    "multiprocessing.cpu_count()"
   ]
  },
  {
   "cell_type": "code",
   "execution_count": 3,
   "metadata": {
    "id": "hcMYErnp77uM",
    "tags": []
   },
   "outputs": [],
   "source": [
    "RDLogger.DisableLog('rdApp.*')"
   ]
  },
  {
   "cell_type": "code",
   "execution_count": 4,
   "metadata": {
    "id": "tBPEbKaE79Up",
    "tags": []
   },
   "outputs": [],
   "source": [
    "from rdkit import Chem\n",
    "from rdkit.Chem import AllChem\n",
    "from rdkit.Chem import DataStructs\n",
    "from rdkit.Chem import Descriptors\n",
    "#from mol2vec.features import mol2alt_sentence, mol2sentence, MolSentence, DfVec, sentences2vec\n",
    "\n",
    "from sklearn.linear_model import RidgeCV\n",
    "\n",
    "def ecfc_molstring(molecule, radius=1, size=1280):\n",
    "    arr = np.zeros((1,), dtype=int)\n",
    "    DataStructs.ConvertToNumpyArray(\n",
    "        AllChem.GetHashedMorganFingerprint(molecule, radius, size, useFeatures=False, useBondTypes=False,includeRedundantEnvironments=True),\n",
    "        arr,\n",
    "    )\n",
    "    return arr\n",
    "\n",
    "def ecfc_molstring(molecule, radius=3, size=1024):\n",
    "    arr = np.zeros((1,), dtype=int)\n",
    "    DataStructs.ConvertToNumpyArray(\n",
    "        AllChem.GetHashedMorganFingerprint(molecule, radius, size, useFeatures=False),\n",
    "        arr,\n",
    "    )\n",
    "    return arr"
   ]
  },
  {
   "cell_type": "code",
   "execution_count": 5,
   "metadata": {
    "id": "3qDPWNJ0Ebym",
    "tags": []
   },
   "outputs": [],
   "source": [
    "labels = pd.read_csv('./data.csv')\n",
    "labels.drop(columns=['id'], inplace=True)"
   ]
  },
  {
   "cell_type": "code",
   "execution_count": 6,
   "metadata": {
    "id": "KLLlaAI58e9-",
    "tags": []
   },
   "outputs": [],
   "source": [
    "df = labels.copy()"
   ]
  },
  {
   "cell_type": "code",
   "execution_count": 7,
   "metadata": {
    "id": "jn7-QIBv8Cmh",
    "tags": []
   },
   "outputs": [],
   "source": [
    "def calculate_property(mol):\n",
    "    output = []\n",
    "    for i, descriptor in enumerate(descriptor_dict):\n",
    "        output.append(descriptor_dict[descriptor](mol))\n",
    "    return output"
   ]
  },
  {
   "cell_type": "code",
   "execution_count": 8,
   "metadata": {
    "id": "2tkzDLS98FqC",
    "tags": []
   },
   "outputs": [],
   "source": [
    "def number_of_atoms(atom_list, df):\n",
    "    for i in atom_list:\n",
    "        df['num_of_{}_atoms'.format(i)] = df['mol'].apply(lambda x: len(x.GetSubstructMatches(Chem.MolFromSmiles(i))))\n",
    "\n",
    "def prepare_df(df):\n",
    "    df['mol'] = df['smiles'].apply(lambda x: Chem.MolFromSmiles(x))\n",
    "    df['mol'] = df['mol'].apply(lambda x: Chem.AddHs(x))\n",
    "    df['num_of_atoms'] = df['mol'].apply(lambda x: x.GetNumAtoms())\n",
    "    df['num_of_heavy_atoms'] = df['mol'].apply(lambda x: x.GetNumHeavyAtoms())\n",
    "    number_of_atoms(['C','O', 'N', 'P','S'], df)\n",
    "\n",
    "    # df['tpsa'] = df['mol'].apply(lambda x: Descriptors.TPSA(x))\n",
    "    # df['mol_w'] = df['mol'].apply(lambda x: Descriptors.ExactMolWt(x))\n",
    "    # df['num_valence_electrons'] = df['mol'].apply(lambda x: Descriptors.NumValenceElectrons(x))\n",
    "    # df['num_heteroatoms'] = df['mol'].apply(lambda x: Descriptors.NumHeteroatoms(x))\n",
    "    # df['calc_logp'] = df['mol'].apply(lambda x: Descriptors.MolLogP(x))\n",
    "    properties = pd.DataFrame([list(Descriptors.CalcMolDescriptors(mol).values()) for mol in (df['mol'])])\n",
    "    #properties = pd.DataFrame([calculate_property(mol) for mol in tqdm(df['mol'])])\n",
    "    properties.columns = [f'property_{i}' for i in range(properties.shape[1])]\n",
    "    #df = pd.concat([df, properties], axis=1)\n",
    "\n",
    "    # mol_model = word2vec.Word2Vec.load('model_300dim.pkl')\n",
    "    # mdf = df.copy()\n",
    "    # mdf['sentence'] = mdf.apply(lambda x: MolSentence(mol2alt_sentence(x['mol'], 1)), axis=1)\n",
    "\n",
    "    # mdf['mol2vec'] = [DfVec(x) for x in sentences2vec(mdf['sentence'], mol_model, unseen='UNK')]\n",
    "    # vectors = np.array([x.vec for x in mdf['mol2vec']])\n",
    "    # vector_df = pd.DataFrame(vectors, columns=[f'mol2vec_feature_{i}' for i in range(vectors.shape[1])])\n",
    "    # df = pd.concat([df, vector_df], axis=1)\n",
    "    mols_rdkit = [Chem.MolFromSmiles(smi) for smi in df['smiles']]\n",
    "    features = np.array([ecfc_molstring(mol) for mol in mols_rdkit])\n",
    "    df = df.join(pd.DataFrame(features, columns=[f'feature_{i}' for i in range(features.shape[1])]))\n",
    "    df['space_smiles'] = df['smiles'].apply(lambda x: ' '.join(list(x)))\n",
    "    #df['ecfc_features'] = list(features)\n",
    "    return df"
   ]
  },
  {
   "cell_type": "code",
   "execution_count": 9,
   "metadata": {
    "id": "7lU1WcWb8Ziq",
    "tags": []
   },
   "outputs": [],
   "source": [
    "df = prepare_df(df)"
   ]
  },
  {
   "cell_type": "code",
   "execution_count": 10,
   "metadata": {
    "id": "pNg4WDMD-iN2",
    "tags": []
   },
   "outputs": [],
   "source": [
    "df.fillna(0, inplace=True)\n",
    "X = df.drop(columns=['mol', 'lgK', 'smiles'])#[top_features.iloc[:500].feature_names]\n",
    "y = df['lgK']"
   ]
  },
  {
   "cell_type": "code",
   "execution_count": 11,
   "metadata": {
    "colab": {
     "base_uri": "https://localhost:8080/"
    },
    "id": "KbXzf3pN-kV-",
    "outputId": "bf1e7b9c-9715-424f-c8ef-a65d08bb47c3",
    "tags": []
   },
   "outputs": [
    {
     "name": "stdout",
     "output_type": "stream",
     "text": [
      "Learning rate set to 0.039457\n",
      "0:\tlearn: 5.9912122\ttest: 5.9491106\tbest: 5.9491106 (0)\ttotal: 51.7ms\tremaining: 51.6s\n",
      "500:\tlearn: 0.6284027\ttest: 2.1624640\tbest: 2.1616017 (498)\ttotal: 1.91s\tremaining: 1.9s\n",
      "999:\tlearn: 0.2452401\ttest: 2.1036879\tbest: 2.1030930 (992)\ttotal: 3.79s\tremaining: 0us\n",
      "\n",
      "bestTest = 2.103092961\n",
      "bestIteration = 992\n",
      "\n",
      "Shrink model to first 993 iterations.\n",
      "Learning rate set to 0.039457\n",
      "0:\tlearn: 5.9433366\ttest: 6.3169694\tbest: 6.3169694 (0)\ttotal: 4.46ms\tremaining: 4.45s\n",
      "500:\tlearn: 0.5861394\ttest: 3.1486853\tbest: 3.1483053 (467)\ttotal: 1.83s\tremaining: 1.83s\n",
      "999:\tlearn: 0.2295921\ttest: 3.1065955\tbest: 3.1055715 (957)\ttotal: 3.75s\tremaining: 0us\n",
      "\n",
      "bestTest = 3.10557149\n",
      "bestIteration = 957\n",
      "\n",
      "Shrink model to first 958 iterations.\n",
      "Learning rate set to 0.039489\n",
      "0:\tlearn: 6.0625430\ttest: 5.6526894\tbest: 5.6526894 (0)\ttotal: 4.26ms\tremaining: 4.26s\n",
      "500:\tlearn: 0.5518125\ttest: 2.7161355\tbest: 2.7161355 (500)\ttotal: 1.87s\tremaining: 1.86s\n",
      "999:\tlearn: 0.2179230\ttest: 2.6383141\tbest: 2.6382853 (998)\ttotal: 3.84s\tremaining: 0us\n",
      "\n",
      "bestTest = 2.638285297\n",
      "bestIteration = 998\n",
      "\n",
      "Shrink model to first 999 iterations.\n",
      "Learning rate set to 0.039489\n",
      "0:\tlearn: 5.7580610\ttest: 6.9553768\tbest: 6.9553768 (0)\ttotal: 4.13ms\tremaining: 4.12s\n",
      "500:\tlearn: 0.6095946\ttest: 3.6496468\tbest: 3.6486486 (494)\ttotal: 1.95s\tremaining: 1.95s\n",
      "999:\tlearn: 0.2468730\ttest: 3.5767511\tbest: 3.5749413 (982)\ttotal: 3.78s\tremaining: 0us\n",
      "\n",
      "bestTest = 3.574941271\n",
      "bestIteration = 982\n",
      "\n",
      "Shrink model to first 983 iterations.\n",
      "Learning rate set to 0.039489\n",
      "0:\tlearn: 6.2044012\ttest: 5.1959636\tbest: 5.1959636 (0)\ttotal: 5.05ms\tremaining: 5.04s\n",
      "500:\tlearn: 0.6533517\ttest: 2.8184189\tbest: 2.8173371 (286)\ttotal: 1.89s\tremaining: 1.88s\n",
      "999:\tlearn: 0.2697238\ttest: 2.7573056\tbest: 2.7569972 (997)\ttotal: 3.86s\tremaining: 0us\n",
      "\n",
      "bestTest = 2.756997161\n",
      "bestIteration = 997\n",
      "\n",
      "Shrink model to first 998 iterations.\n",
      "2.8760679346152394\n"
     ]
    }
   ],
   "source": [
    "from sklearn.linear_model import Ridge, LinearRegression\n",
    "from sklearn.svm import SVR\n",
    "from sklearn.model_selection import KFold\n",
    "N = 5\n",
    "kf = KFold(n_splits=N, random_state=56, shuffle=True)\n",
    "models = []\n",
    "y_pred = pd.Series(np.zeros(y.shape))\n",
    "for i, (train_index, test_index) in enumerate(kf.split(X)):\n",
    "    X_train, y_train = X.loc[train_index], y.loc[train_index]\n",
    "    X_val, y_val = X.loc[test_index], y.loc[test_index]\n",
    "    model = CatBoostRegressor(\n",
    "        iterations=1000,\n",
    "        loss_function='RMSE',\n",
    "        task_type='CPU',\n",
    "        verbose=500,\n",
    "        #grow_policy='Lossguide',\n",
    "        #learning_rate=0.1,\n",
    "        random_seed=56,\n",
    "        max_depth=6,\n",
    "    )\n",
    "    model.fit(X_train, y_train, eval_set=(X_val, y_val),text_features=['space_smiles'],)\n",
    "    y_pred.loc[test_index] = model.predict(X_val)\n",
    "    models.append(model)\n",
    "print(mean_squared_error(y, y_pred, squared=False))"
   ]
  },
  {
   "cell_type": "code",
   "execution_count": 12,
   "metadata": {
    "id": "3z18sMG-_RXX",
    "tags": []
   },
   "outputs": [],
   "source": [
    "history_of_mol = {}\n",
    "\n",
    "def logK_predict(smiles):\n",
    "  try:\n",
    "    if smiles not in history_of_mol:\n",
    "        data = {'smiles': [smiles]}\n",
    "        df_test = pd.DataFrame(data)\n",
    "        df = prepare_df(df_test)\n",
    "        df.fillna(0, inplace=True)\n",
    "        X = df.drop(columns=['mol', 'smiles'])\n",
    "\n",
    "        pred = np.mean([cbm.predict(X) for cbm in models])\n",
    "        history_of_mol[smiles] = pred\n",
    "\n",
    "        return pred\n",
    "    return history_of_mol[smiles]\n",
    "  except:\n",
    "    return -1"
   ]
  },
  {
   "cell_type": "code",
   "execution_count": 13,
   "metadata": {
    "id": "Z6gGCUcX-u9E",
    "tags": []
   },
   "outputs": [],
   "source": [
    "import selfies as sf"
   ]
  },
  {
   "cell_type": "code",
   "execution_count": 27,
   "metadata": {
    "tags": []
   },
   "outputs": [],
   "source": [
    "import rdkit\n",
    "from rdkit import Chem\n",
    "from rdkit.Chem import Descriptors\n",
    "from rdkit.Contrib.SA_Score import sascorer\n",
    "\n",
    "def check_letters(mol):\n",
    "    mol = Chem.AddHs(mol)\n",
    "    symbols = [atom.GetSymbol() for atom in mol.GetAtoms()]\n",
    "    if set(symbols) - set('COHNPS'):\n",
    "        return False\n",
    "    if len(set(symbols)) < 3:\n",
    "        return False\n",
    "    return symbols.count('O') + symbols.count('N') + symbols.count('P') + symbols.count('S') <= 12\n",
    "\n",
    "def check_weight(mol):\n",
    "    return Descriptors.MolWt(mol) <= 500\n",
    "\n",
    "def check_index(mol):\n",
    "    return sascorer.calculateScore(mol) < 5\n",
    "\n",
    "def full_filter(smiles):\n",
    "    mol = Chem.MolFromSmiles(smiles)\n",
    "    \n",
    "    if mol is None:\n",
    "        return False\n",
    "    \n",
    "    return check_letters(mol) and check_weight(mol) and check_index(mol)"
   ]
  },
  {
   "cell_type": "code",
   "execution_count": 15,
   "metadata": {
    "id": "LZViQCsMAHab",
    "tags": []
   },
   "outputs": [],
   "source": [
    "simple_sol = pd.read_csv(\"top1000_from130m.csv\")"
   ]
  },
  {
   "cell_type": "code",
   "execution_count": 16,
   "metadata": {},
   "outputs": [
    {
     "data": {
      "text/plain": [
       "0         CC(C)(C)C(CN(CC(=O)O)CC(=O)O)N(CC(=O)O)CC(=O)O\n",
       "1         CC(=O)CN1CCN(COC=O)CCN(CC(=O)O)CCN(CC(=O)O)CC1\n",
       "2               C=O.O=C(O)CN(CCN(CC(=O)O)CC(=O)O)CC(=O)O\n",
       "3        C#CCCCN(CCN(CC(=O)O)CC(=O)O)CCN(CC(=O)O)CC(=O)O\n",
       "4      CC.CC.CC(=O)CN1CCN(CC(=O)O)CCN(CC(=O)O)CCN(C(C...\n",
       "                             ...                        \n",
       "995        CC(=O)CN1CCN(C(=O)O)CCN(C(=O)O)CCN(C(=O)O)CC1\n",
       "996    CC(=O)NCCN1CCN(CC(=O)O)CCN(CC(=O)O)CCN(CC(=O)O...\n",
       "997        O=C(O)N1CCCN(C(=O)O)CCN(C(=O)O)CCN(C(=O)O)CC1\n",
       "998    CCCCNC(=O)CN1CCN(C(=O)O)CCN(C(=O)O)CCN(C(=O)O)CC1\n",
       "999         O=C(O)N1CCN(C(=O)O)CCN(C(=O)O)CCN(C(=O)O)CC1\n",
       "Name: smiles, Length: 1000, dtype: object"
      ]
     },
     "execution_count": 16,
     "metadata": {},
     "output_type": "execute_result"
    }
   ],
   "source": [
    "simple_sol['smiles']"
   ]
  },
  {
   "cell_type": "code",
   "execution_count": 17,
   "metadata": {
    "colab": {
     "base_uri": "https://localhost:8080/",
     "height": 66,
     "referenced_widgets": [
      "5cdbcb6fb6634a6793eb31c6636b6670",
      "8fa78a799ddd412c948d954f1cd6d2a5",
      "f1391e3bdc084dbe8ee98f5c32cf21d6",
      "3deed6d6c14c4cfa9fa073160c359a96",
      "1a67ac9b49794a05b34f55c3e962bbb5",
      "d16d473f06e64d00aaa36a0fd75c889c",
      "ea2f2befc4a6478dba71aa77e28112d0",
      "e87a10240b2244cbbd2141e6efc20f48",
      "54509b3e0d4c495e9fa5785f14e65939",
      "41faae4ffea2454f9508a7eb740e6fed",
      "ac6399dbddc64b02acbde120c2a4c549"
     ]
    },
    "id": "q2nH0i29AMWZ",
    "outputId": "65bbea55-b09e-400e-e0cb-ce46118cd044",
    "tags": []
   },
   "outputs": [
    {
     "data": {
      "application/vnd.jupyter.widget-view+json": {
       "model_id": "c7ff3e39396246b590ad302dcaccc0a7",
       "version_major": 2,
       "version_minor": 0
      },
      "text/plain": [
       "  0%|          | 0/1000 [00:00<?, ?it/s]"
      ]
     },
     "metadata": {},
     "output_type": "display_data"
    },
    {
     "data": {
      "text/plain": [
       "18.9697973298028"
      ]
     },
     "execution_count": 17,
     "metadata": {},
     "output_type": "execute_result"
    }
   ],
   "source": [
    "np.mean([logK_predict(x) for x in tqdm(simple_sol['smiles'])])"
   ]
  },
  {
   "cell_type": "code",
   "execution_count": 28,
   "metadata": {
    "id": "qYdKx23cmD2Z",
    "tags": []
   },
   "outputs": [],
   "source": [
    "dump_sub = pd.read_csv('./1.csv',names=['smiles'])"
   ]
  },
  {
   "cell_type": "code",
   "execution_count": 29,
   "metadata": {
    "id": "3Rr_mXeWAcd1",
    "tags": []
   },
   "outputs": [],
   "source": [
    "tokens = [list(sf.split_selfies(sf.encoder(x))) for x in simple_sol['smiles']] + [list(sf.split_selfies(sf.encoder(x))) for x in dump_sub['smiles']]"
   ]
  },
  {
   "cell_type": "code",
   "execution_count": 30,
   "metadata": {
    "id": "Y1M8ezd9Bjcf",
    "tags": []
   },
   "outputs": [],
   "source": [
    "tokens = np.concatenate(tokens)"
   ]
  },
  {
   "cell_type": "code",
   "execution_count": 31,
   "metadata": {
    "colab": {
     "base_uri": "https://localhost:8080/"
    },
    "id": "2s3HB7NYBbkq",
    "outputId": "05fb4067-cdb9-458b-e1af-4b9bb753b198",
    "tags": []
   },
   "outputs": [
    {
     "data": {
      "text/plain": [
       "32"
      ]
     },
     "execution_count": 31,
     "metadata": {},
     "output_type": "execute_result"
    }
   ],
   "source": [
    "ALPHABET = list(set(tokens))\n",
    "len(ALPHABET)"
   ]
  },
  {
   "cell_type": "code",
   "execution_count": 32,
   "metadata": {
    "id": "Jf7IUvniD2SQ",
    "tags": []
   },
   "outputs": [],
   "source": [
    "def to_canonical(smiles):\n",
    "  return [Chem.MolToSmiles(Chem.MolFromSmiles(m), isomericSmiles=True, canonical=True) for m in smiles]"
   ]
  },
  {
   "cell_type": "code",
   "execution_count": 33,
   "metadata": {
    "id": "Mzv9kGfpBceO",
    "tags": []
   },
   "outputs": [],
   "source": [
    "import random\n",
    "\n",
    "def delete_aug(mol,num_iters=1, del_step=1):\n",
    "  mat = list(sf.split_selfies(sf.encoder(mol)))\n",
    "  for _ in range(num_iters):\n",
    "    drop_idx = random.randint(0,len(mat)-1)\n",
    "    mat = mat[:drop_idx] + mat[drop_idx+del_step:]\n",
    "  return sf.decoder(''.join(mat))\n",
    "\n",
    "def full_shuffle_aug(mol):\n",
    "  mat = list(sf.split_selfies(sf.encoder(mol)))\n",
    "  random.shuffle(mat)\n",
    "  return sf.decoder(''.join(mat))\n",
    "\n",
    "def shuffle_aug(mol,num_iters=1):\n",
    "  mat = list(sf.split_selfies(sf.encoder(mol)))\n",
    "  N = len(mat)\n",
    "  for iter in range(num_iters):\n",
    "    i,j = 0,0\n",
    "    while i == j:\n",
    "      i,j = random.randint(0,N-1), random.randint(0,N-1)\n",
    "\n",
    "    tmp = mat[i]\n",
    "    mat[i] = mat[j]\n",
    "    mat[j] = tmp\n",
    "  return sf.decoder(''.join(mat))\n",
    "\n",
    "def add_branch_aug(mol,num_iters=1):\n",
    "  mat = list(sf.split_selfies(sf.encoder(mol)))\n",
    "  for iter in range(num_iters):\n",
    "    branch = random.choice(ALPHABET)\n",
    "    i = random.randint(0,len(mat)-1)\n",
    "    mat = mat[:i] + [branch] + mat[i:]\n",
    "  return sf.decoder(''.join(mat))\n",
    "\n",
    "def replace_branch_aug(mol,num_iters=1):\n",
    "  mat = list(sf.split_selfies(sf.encoder(mol)))\n",
    "  for iter in range(num_iters):\n",
    "    branch = random.choice(ALPHABET)\n",
    "    i = random.randint(0,len(mat)-1)\n",
    "    mat = mat[:i] + [branch] + mat[i+1:]\n",
    "  return sf.decoder(''.join(mat))\n",
    "\n",
    "def dublicate_aug(mol,num_iters=2):\n",
    "  mat = list(sf.split_selfies(sf.encoder(mol)))\n",
    "  mat += mat * num_iters\n",
    "  return sf.decoder(''.join(mat))\n",
    "\n",
    "def def_cutout_up_aug(mol,scale=0.5):\n",
    "  mat = list(sf.split_selfies(sf.encoder(mol)))\n",
    "  num_del = floor(scale * len(mat))\n",
    "  mat = mat[:num_del]\n",
    "  return sf.decoder(''.join(mat))\n",
    "\n",
    "def def_cutout_pre_aug(mol,scale=0.5):\n",
    "  mat = list(sf.split_selfies(sf.encoder(mol)))\n",
    "  num_del = floor(scale * len(mat))\n",
    "  mat = mat[num_del:]\n",
    "  return sf.decoder(''.join(mat))\n",
    "\n",
    "AUGS = [delete_aug,\n",
    "        full_shuffle_aug,\n",
    "        shuffle_aug,\n",
    "        add_branch_aug,\n",
    "        replace_branch_aug,\n",
    "        dublicate_aug,\n",
    "        def_cutout_up_aug,\n",
    "        def_cutout_pre_aug\n",
    "        ]"
   ]
  },
  {
   "cell_type": "code",
   "execution_count": 34,
   "metadata": {},
   "outputs": [
    {
     "data": {
      "text/plain": [
       "191    O=P(O)(O)CN(Cc1cccc(CN(CP(=O)(O)O)CP(=O)(O)O)n...\n",
       "149     O=C(O)N1CCN(CP(=O)(O)O)CCN(C(=O)O)CCN(C(=O)O)CC1\n",
       "150    O=C(O)CCP(=O)(O)CN1CCN(C(=O)O)CCN(C(=O)O)CCN(C...\n",
       "136    O=P(O)(O)CN1CCN(CP(=O)(O)O)CCN(CP(=O)(O)O)CCN(...\n",
       "71     O=C(O)CN1CCN(CC(=O)O)CCN(CC(=O)O)CCN(CC(=O)O)C...\n",
       "                             ...                        \n",
       "242                         O=C(O)c1cccc([N+](=O)[O-])c1\n",
       "42                               O=[N+]([O-])c1ccc(O)cc1\n",
       "239                                             O=C(O)CI\n",
       "238                                            O=C(O)CCl\n",
       "234                                                 O=CO\n",
       "Name: smiles, Length: 247, dtype: object"
      ]
     },
     "execution_count": 34,
     "metadata": {},
     "output_type": "execute_result"
    }
   ],
   "source": [
    "labels.sort_values(by='lgK')[::-1]['smiles']"
   ]
  },
  {
   "cell_type": "code",
   "execution_count": 35,
   "metadata": {},
   "outputs": [
    {
     "name": "stderr",
     "output_type": "stream",
     "text": [
      "/tmp/ipykernel_192/686520187.py:1: FutureWarning: The behavior of `series[i:j]` with an integer-dtype index is deprecated. In a future version, this will be treated as *label-based* indexing, consistent with e.g. `series[i]` lookups. To retain the old behavior, use `series.iloc[i:j]`. To get the future behavior, use `series.loc[i:j]`.\n",
      "  simple_sol[::-1]['smiles'][:100]\n"
     ]
    },
    {
     "data": {
      "text/plain": [
       "999         O=C(O)N1CCN(C(=O)O)CCN(C(=O)O)CCN(C(=O)O)CC1\n",
       "998    CCCCNC(=O)CN1CCN(C(=O)O)CCN(C(=O)O)CCN(C(=O)O)CC1\n",
       "997        O=C(O)N1CCCN(C(=O)O)CCN(C(=O)O)CCN(C(=O)O)CC1\n",
       "996    CC(=O)NCCN1CCN(CC(=O)O)CCN(CC(=O)O)CCN(CC(=O)O...\n",
       "995        CC(=O)CN1CCN(C(=O)O)CCN(C(=O)O)CCN(C(=O)O)CC1\n",
       "                             ...                        \n",
       "904    C.O=C(O)CN1CCN(CC(=O)O)CCN(CC(=O)Nc2ccccc2)CCN...\n",
       "903    CCCCOC(=O)CN1CCN(CC(=O)O)CCN(CC(=O)O)CCN(CC(=O...\n",
       "902    O=C(O)CN1CCN(CC(=O)O)CCN(Cc2ccccc2O)CCN(CC(=O)...\n",
       "901      NCCNCCN1CCN(CC(=O)O)CCN(CC(=O)O)CCN(CC(=O)O)CC1\n",
       "900    O=C(O)CN1CCN(CC(=O)O)CCN(c2ccccc2O)CCN(CC(=O)O...\n",
       "Name: smiles, Length: 100, dtype: object"
      ]
     },
     "execution_count": 35,
     "metadata": {},
     "output_type": "execute_result"
    }
   ],
   "source": [
    "simple_sol[::-1]['smiles'][:100]"
   ]
  },
  {
   "cell_type": "code",
   "execution_count": 36,
   "metadata": {
    "colab": {
     "base_uri": "https://localhost:8080/"
    },
    "id": "NxK0ogT-LLmj",
    "outputId": "7c05488f-8473-4849-8cc0-32b343e044c1",
    "tags": []
   },
   "outputs": [
    {
     "name": "stderr",
     "output_type": "stream",
     "text": [
      "/tmp/ipykernel_192/1939323405.py:1: FutureWarning: The behavior of `series[i:j]` with an integer-dtype index is deprecated. In a future version, this will be treated as *label-based* indexing, consistent with e.g. `series[i]` lookups. To retain the old behavior, use `series.iloc[i:j]`. To get the future behavior, use `series.loc[i:j]`.\n",
      "  temps = labels.sort_values(by='lgK')[::-1]['smiles'][:150].tolist() + simple_sol[::-1]['smiles'][:150].tolist()\n"
     ]
    }
   ],
   "source": [
    "temps = labels.sort_values(by='lgK')[::-1]['smiles'][:150].tolist() + simple_sol[::-1]['smiles'][:150].tolist()"
   ]
  },
  {
   "cell_type": "code",
   "execution_count": 66,
   "metadata": {},
   "outputs": [],
   "source": [
    "import re\n",
    "\n",
    "def get_replace_aug(smiles):\n",
    "    num_permutations = random.choice([1,1,1,1,1,2,2,3])\n",
    "    for permute in range(num_permutations):\n",
    "        gen_set = []\n",
    "        if '=P' in smiles:\n",
    "            gen_set += ['P']\n",
    "        if 'C' in smiles:\n",
    "            gen_set += ['C']\n",
    "        if '(=O)' in smiles:\n",
    "            gen_set += ['O']\n",
    "        if gen_set == []:\n",
    "            return smiles\n",
    "        rep_type = random.choice(gen_set)\n",
    "        if rep_type == 'O':\n",
    "            O_idxes = [m.start() for m in re.finditer('(=O)',smiles)]\n",
    "            per_idx = random.choice(O_idxes)\n",
    "            per_type = random.choice(['C','P'])\n",
    "            if per_type == 'C':\n",
    "                smiles = smiles[:per_idx-1] + 'C' + smiles[per_idx+3:]\n",
    "            else:\n",
    "                smiles = smiles[:per_idx-1] + '=P' + smiles[per_idx+3:]\n",
    "        if rep_type == 'P':\n",
    "            P_idxes = [m.start() for m in re.finditer('=P',smiles)]\n",
    "            per_idx = random.choice(P_idxes)\n",
    "            per_type = random.choice(['C','O'])\n",
    "            if per_type == 'C':\n",
    "                smiles = smiles[:per_idx] + 'C' + smiles[per_idx+2:]\n",
    "            else:\n",
    "                smiles = smiles[:per_idx] + '(=O)' + smiles[per_idx+2:]\n",
    "        if rep_type == 'C':\n",
    "            C_idxes = [m.start() for m in re.finditer('C',smiles)]\n",
    "            per_idx = random.choice(C_idxes)\n",
    "            per_type = random.choice(['O','P'])\n",
    "            if per_type == 'P':\n",
    "                smiles = smiles[:per_idx] + '=P' + smiles[per_idx+1:]\n",
    "            else:\n",
    "                smiles = smiles[:per_idx] + '(=O)' + smiles[per_idx+1:]\n",
    "    return smiles"
   ]
  },
  {
   "cell_type": "code",
   "execution_count": 75,
   "metadata": {
    "id": "_snQ-qQ3nrHW",
    "tags": []
   },
   "outputs": [],
   "source": [
    "def get_augs(temp_mol):\n",
    "    new_mols = []\n",
    "    for _ in range(sample_per_temp_mol):\n",
    "      aug_f = random.choice(AUGS)\n",
    "      try:\n",
    "        new_smile = aug_f(temp_mol)\n",
    "        if full_filter(new_smile):\n",
    "          new_mols.append(new_smile)\n",
    "      except:\n",
    "        pass\n",
    "    return new_mols\n",
    "\n",
    "def get_t_augs(temp_mol):\n",
    "    new_mols = []\n",
    "    for _ in range(t_sample_per_temp_mol):\n",
    "        new_smile = get_replace_aug(temp_mol)\n",
    "        if full_filter(new_smile):\n",
    "            new_mols.append(new_smile)\n",
    "    return new_mols"
   ]
  },
  {
   "cell_type": "code",
   "execution_count": 76,
   "metadata": {
    "tags": []
   },
   "outputs": [],
   "source": [
    "def get_augsV2(temp_mol):\n",
    "    new_mols = []\n",
    "    for _ in range(sample_per_temp_mol):\n",
    "        scale = 2\n",
    "        aug_f = [random.choice(AUGS) for _ in range(scale)]\n",
    "        try:\n",
    "            new_smile = temp_mol\n",
    "            for f in aug_f:\n",
    "                new_smile = f(new_smile)\n",
    "            if full_filter(new_smile):\n",
    "              new_mols.append(new_smile)\n",
    "        except:\n",
    "            pass\n",
    "    return new_mols"
   ]
  },
  {
   "cell_type": "code",
   "execution_count": 77,
   "metadata": {},
   "outputs": [],
   "source": [
    "from rdkit import DataStructs\n",
    "\n",
    "def CalcTanimoto(smiles):\n",
    "    scores = []\n",
    "    fpgen = AllChem.GetRDKitFPGenerator()\n",
    "    fps = [fpgen.GetFingerprint(Chem.MolFromSmiles(x)) for x in smiles]\n",
    "    for i in range(len(fps)):\n",
    "        for j in range(i,len(fps)):\n",
    "            scores += [DataStructs.TanimotoSimilarity(fps[i],fps[j])]\n",
    "    return np.mean(scores)"
   ]
  },
  {
   "cell_type": "code",
   "execution_count": null,
   "metadata": {
    "colab": {
     "base_uri": "https://localhost:8080/",
     "height": 81,
     "referenced_widgets": [
      "c756b7d18cea4950ab478145efa76066",
      "923e8a0663754802a4422d09ff3c13ef",
      "ed2810effbbf4545910bc0c17bb1e246",
      "1ccc54536a1a4ceaa2842e1dcb20ece2",
      "b29197e315484a958203623ace861d01",
      "30744c4780b84effaa55d2102f6bc82d",
      "e53507cacd5a47659d9329422d81ce78",
      "aebf6ec389e7407fa67c9ff09a4c8245",
      "83858d6b30614220905fdfd08b888171",
      "54e16565e4da4b09bdf2228531480a15",
      "2873c229b3d449d6b66e4c8571084432",
      "28001509da8a43c797d5de557ef6d7bb",
      "c5e987bc30e747ddbaddfc364007f5b4",
      "b37e458dc624433dbd7d5765c8c99414",
      "2229dc0c26c04cd8a1e84edec3fdac0c",
      "ad97637cd5a745f99405da0815a35c31",
      "a1e757d689e140e2acc2cbde31514802",
      "31a570f5486649ef8c02341774ef95fa",
      "de1fd46bfcd045f7b53aac7d4b294a7c",
      "1da81cb32df548079e3b3ff6ad74c506",
      "06dce3b69d444f9eba56fb670e2d4eb1",
      "e47ccff8e897459e9d754dfa8c8579b3"
     ]
    },
    "id": "hbxThHUnBsQV",
    "outputId": "0ef4f4e3-2841-4443-fe46-cd1801e64a68",
    "tags": []
   },
   "outputs": [
    {
     "data": {
      "application/vnd.jupyter.widget-view+json": {
       "model_id": "685cdce253084a5b99b20d3c2960b850",
       "version_major": 2,
       "version_minor": 0
      },
      "text/plain": [
       "  0%|          | 0/1 [00:00<?, ?it/s]"
      ]
     },
     "metadata": {},
     "output_type": "display_data"
    },
    {
     "data": {
      "application/vnd.jupyter.widget-view+json": {
       "model_id": "33ded60ca8854d7ba317b3bbaa189699",
       "version_major": 2,
       "version_minor": 0
      },
      "text/plain": [
       "  0%|          | 0/7419 [00:00<?, ?it/s]"
      ]
     },
     "metadata": {},
     "output_type": "display_data"
    }
   ],
   "source": [
    "sample_per_temp_mol = 60\n",
    "t_sample_per_temp_mol = 40\n",
    "num_iters = 1\n",
    "avg_meter = {}\n",
    "pool = multiprocessing.Pool(multiprocessing.cpu_count())\n",
    "\n",
    "for iter in tqdm(range(num_iters)):\n",
    "  new_mols = pool.map(get_augs,temps)\n",
    "  new_mols += pool.map(get_t_augs,temps)\n",
    "  new_mols = np.concatenate(new_mols).tolist()\n",
    "  new_mols += temps\n",
    "  new_mols = to_canonical(new_mols)\n",
    "  new_mols = np.unique(new_mols)\n",
    "  #scores = [compute_logP(mol) for mol in new_mols]\n",
    "  scores = pool.map(logK_predict, tqdm(new_mols))\n",
    "  #for mol in tqdm(new_mols):\n",
    "  #  try:\n",
    "  #    scores.append(logK_predict(mol))\n",
    "  #  except:\n",
    "  #    scores.append(-1)\n",
    "\n",
    "  best_idx = np.argsort(scores)[::-1][:200]\n",
    "  new_scores = np.sort(scores)[::-1][:200]\n",
    "  temps = [new_mols[i] for i in best_idx]\n",
    "  print(np.mean(new_scores[:100]))"
   ]
  },
  {
   "cell_type": "code",
   "execution_count": null,
   "metadata": {},
   "outputs": [],
   "source": [
    "temps"
   ]
  },
  {
   "cell_type": "code",
   "execution_count": 82,
   "metadata": {},
   "outputs": [
    {
     "data": {
      "text/plain": [
       "0.48597775997971054"
      ]
     },
     "execution_count": 82,
     "metadata": {},
     "output_type": "execute_result"
    }
   ],
   "source": [
    "CalcTanimoto(temps)"
   ]
  },
  {
   "cell_type": "code",
   "execution_count": null,
   "metadata": {
    "id": "B2H7ziF5D-K8"
   },
   "outputs": [],
   "source": [
    "pre_temps = simple_sol['smile'].tolist() + dump_sub['smiles'].tolist()"
   ]
  },
  {
   "cell_type": "code",
   "execution_count": 83,
   "metadata": {
    "execution": {
     "iopub.execute_input": "2024-03-26T13:49:01.926196Z",
     "iopub.status.busy": "2024-03-26T13:49:01.923491Z",
     "iopub.status.idle": "2024-03-26T13:49:01.941298Z",
     "shell.execute_reply": "2024-03-26T13:49:01.940032Z",
     "shell.execute_reply.started": "2024-03-26T13:49:01.926118Z"
    },
    "id": "gmUjEXVIICaj"
   },
   "outputs": [],
   "source": [
    "pd.DataFrame(temps[:100]).to_csv('tempsV6.csv',index=False,header=None)"
   ]
  },
  {
   "cell_type": "code",
   "execution_count": 2,
   "metadata": {
    "colab": {
     "base_uri": "https://localhost:8080/",
     "height": 141
    },
    "id": "8rOLku1UMZKC",
    "outputId": "ff3c5341-c0c6-412b-f6eb-1c641f58b38b"
   },
   "outputs": [
    {
     "ename": "NameError",
     "evalue": "name 'temps' is not defined",
     "output_type": "error",
     "traceback": [
      "\u001b[0;31m---------------------------------------------------------------------------\u001b[0m",
      "\u001b[0;31mNameError\u001b[0m                                 Traceback (most recent call last)",
      "\u001b[0;32m<ipython-input-2-c461d79ba53d>\u001b[0m in \u001b[0;36m<cell line: 1>\u001b[0;34m()\u001b[0m\n\u001b[0;32m----> 1\u001b[0;31m \u001b[0mlen\u001b[0m\u001b[0;34m(\u001b[0m\u001b[0mtemps\u001b[0m\u001b[0;34m)\u001b[0m\u001b[0;34m\u001b[0m\u001b[0;34m\u001b[0m\u001b[0m\n\u001b[0m",
      "\u001b[0;31mNameError\u001b[0m: name 'temps' is not defined"
     ]
    }
   ],
   "source": [
    "len(temps)"
   ]
  },
  {
   "cell_type": "code",
   "execution_count": null,
   "metadata": {
    "id": "jmheBJnbMogS"
   },
   "outputs": [],
   "source": [
    "temps"
   ]
  }
 ],
 "metadata": {
  "colab": {
   "provenance": []
  },
  "kaggle": {
   "accelerator": "none",
   "dataSources": [
    {
     "datasetId": 4673004,
     "sourceId": 7947006,
     "sourceType": "datasetVersion"
    },
    {
     "datasetId": 4673026,
     "sourceId": 7947045,
     "sourceType": "datasetVersion"
    }
   ],
   "dockerImageVersionId": 30673,
   "isGpuEnabled": false,
   "isInternetEnabled": true,
   "language": "python",
   "sourceType": "notebook"
  },
  "kernelspec": {
   "display_name": "Python 3 (ipykernel)",
   "language": "python",
   "name": "python3"
  },
  "language_info": {
   "codemirror_mode": {
    "name": "ipython",
    "version": 3
   },
   "file_extension": ".py",
   "mimetype": "text/x-python",
   "name": "python",
   "nbconvert_exporter": "python",
   "pygments_lexer": "ipython3",
   "version": "3.9.16"
  },
  "widgets": {
   "application/vnd.jupyter.widget-state+json": {
    "06dce3b69d444f9eba56fb670e2d4eb1": {
     "model_module": "@jupyter-widgets/base",
     "model_module_version": "1.2.0",
     "model_name": "LayoutModel",
     "state": {
      "_model_module": "@jupyter-widgets/base",
      "_model_module_version": "1.2.0",
      "_model_name": "LayoutModel",
      "_view_count": null,
      "_view_module": "@jupyter-widgets/base",
      "_view_module_version": "1.2.0",
      "_view_name": "LayoutView",
      "align_content": null,
      "align_items": null,
      "align_self": null,
      "border": null,
      "bottom": null,
      "display": null,
      "flex": null,
      "flex_flow": null,
      "grid_area": null,
      "grid_auto_columns": null,
      "grid_auto_flow": null,
      "grid_auto_rows": null,
      "grid_column": null,
      "grid_gap": null,
      "grid_row": null,
      "grid_template_areas": null,
      "grid_template_columns": null,
      "grid_template_rows": null,
      "height": null,
      "justify_content": null,
      "justify_items": null,
      "left": null,
      "margin": null,
      "max_height": null,
      "max_width": null,
      "min_height": null,
      "min_width": null,
      "object_fit": null,
      "object_position": null,
      "order": null,
      "overflow": null,
      "overflow_x": null,
      "overflow_y": null,
      "padding": null,
      "right": null,
      "top": null,
      "visibility": null,
      "width": null
     }
    },
    "1a67ac9b49794a05b34f55c3e962bbb5": {
     "model_module": "@jupyter-widgets/base",
     "model_module_version": "1.2.0",
     "model_name": "LayoutModel",
     "state": {
      "_model_module": "@jupyter-widgets/base",
      "_model_module_version": "1.2.0",
      "_model_name": "LayoutModel",
      "_view_count": null,
      "_view_module": "@jupyter-widgets/base",
      "_view_module_version": "1.2.0",
      "_view_name": "LayoutView",
      "align_content": null,
      "align_items": null,
      "align_self": null,
      "border": null,
      "bottom": null,
      "display": null,
      "flex": null,
      "flex_flow": null,
      "grid_area": null,
      "grid_auto_columns": null,
      "grid_auto_flow": null,
      "grid_auto_rows": null,
      "grid_column": null,
      "grid_gap": null,
      "grid_row": null,
      "grid_template_areas": null,
      "grid_template_columns": null,
      "grid_template_rows": null,
      "height": null,
      "justify_content": null,
      "justify_items": null,
      "left": null,
      "margin": null,
      "max_height": null,
      "max_width": null,
      "min_height": null,
      "min_width": null,
      "object_fit": null,
      "object_position": null,
      "order": null,
      "overflow": null,
      "overflow_x": null,
      "overflow_y": null,
      "padding": null,
      "right": null,
      "top": null,
      "visibility": null,
      "width": null
     }
    },
    "1ccc54536a1a4ceaa2842e1dcb20ece2": {
     "model_module": "@jupyter-widgets/controls",
     "model_module_version": "1.5.0",
     "model_name": "HTMLModel",
     "state": {
      "_dom_classes": [],
      "_model_module": "@jupyter-widgets/controls",
      "_model_module_version": "1.5.0",
      "_model_name": "HTMLModel",
      "_view_count": null,
      "_view_module": "@jupyter-widgets/controls",
      "_view_module_version": "1.5.0",
      "_view_name": "HTMLView",
      "description": "",
      "description_tooltip": null,
      "layout": "IPY_MODEL_54e16565e4da4b09bdf2228531480a15",
      "placeholder": "​",
      "style": "IPY_MODEL_2873c229b3d449d6b66e4c8571084432",
      "value": " 0/1 [00:00&lt;?, ?it/s]"
     }
    },
    "1da81cb32df548079e3b3ff6ad74c506": {
     "model_module": "@jupyter-widgets/controls",
     "model_module_version": "1.5.0",
     "model_name": "ProgressStyleModel",
     "state": {
      "_model_module": "@jupyter-widgets/controls",
      "_model_module_version": "1.5.0",
      "_model_name": "ProgressStyleModel",
      "_view_count": null,
      "_view_module": "@jupyter-widgets/base",
      "_view_module_version": "1.2.0",
      "_view_name": "StyleView",
      "bar_color": null,
      "description_width": ""
     }
    },
    "2229dc0c26c04cd8a1e84edec3fdac0c": {
     "model_module": "@jupyter-widgets/controls",
     "model_module_version": "1.5.0",
     "model_name": "HTMLModel",
     "state": {
      "_dom_classes": [],
      "_model_module": "@jupyter-widgets/controls",
      "_model_module_version": "1.5.0",
      "_model_name": "HTMLModel",
      "_view_count": null,
      "_view_module": "@jupyter-widgets/controls",
      "_view_module_version": "1.5.0",
      "_view_name": "HTMLView",
      "description": "",
      "description_tooltip": null,
      "layout": "IPY_MODEL_06dce3b69d444f9eba56fb670e2d4eb1",
      "placeholder": "​",
      "style": "IPY_MODEL_e47ccff8e897459e9d754dfa8c8579b3",
      "value": " 921/7365 [00:10&lt;00:00, 8586.44it/s]"
     }
    },
    "28001509da8a43c797d5de557ef6d7bb": {
     "model_module": "@jupyter-widgets/controls",
     "model_module_version": "1.5.0",
     "model_name": "HBoxModel",
     "state": {
      "_dom_classes": [],
      "_model_module": "@jupyter-widgets/controls",
      "_model_module_version": "1.5.0",
      "_model_name": "HBoxModel",
      "_view_count": null,
      "_view_module": "@jupyter-widgets/controls",
      "_view_module_version": "1.5.0",
      "_view_name": "HBoxView",
      "box_style": "",
      "children": [
       "IPY_MODEL_c5e987bc30e747ddbaddfc364007f5b4",
       "IPY_MODEL_b37e458dc624433dbd7d5765c8c99414",
       "IPY_MODEL_2229dc0c26c04cd8a1e84edec3fdac0c"
      ],
      "layout": "IPY_MODEL_ad97637cd5a745f99405da0815a35c31"
     }
    },
    "2873c229b3d449d6b66e4c8571084432": {
     "model_module": "@jupyter-widgets/controls",
     "model_module_version": "1.5.0",
     "model_name": "DescriptionStyleModel",
     "state": {
      "_model_module": "@jupyter-widgets/controls",
      "_model_module_version": "1.5.0",
      "_model_name": "DescriptionStyleModel",
      "_view_count": null,
      "_view_module": "@jupyter-widgets/base",
      "_view_module_version": "1.2.0",
      "_view_name": "StyleView",
      "description_width": ""
     }
    },
    "30744c4780b84effaa55d2102f6bc82d": {
     "model_module": "@jupyter-widgets/base",
     "model_module_version": "1.2.0",
     "model_name": "LayoutModel",
     "state": {
      "_model_module": "@jupyter-widgets/base",
      "_model_module_version": "1.2.0",
      "_model_name": "LayoutModel",
      "_view_count": null,
      "_view_module": "@jupyter-widgets/base",
      "_view_module_version": "1.2.0",
      "_view_name": "LayoutView",
      "align_content": null,
      "align_items": null,
      "align_self": null,
      "border": null,
      "bottom": null,
      "display": null,
      "flex": null,
      "flex_flow": null,
      "grid_area": null,
      "grid_auto_columns": null,
      "grid_auto_flow": null,
      "grid_auto_rows": null,
      "grid_column": null,
      "grid_gap": null,
      "grid_row": null,
      "grid_template_areas": null,
      "grid_template_columns": null,
      "grid_template_rows": null,
      "height": null,
      "justify_content": null,
      "justify_items": null,
      "left": null,
      "margin": null,
      "max_height": null,
      "max_width": null,
      "min_height": null,
      "min_width": null,
      "object_fit": null,
      "object_position": null,
      "order": null,
      "overflow": null,
      "overflow_x": null,
      "overflow_y": null,
      "padding": null,
      "right": null,
      "top": null,
      "visibility": null,
      "width": null
     }
    },
    "31a570f5486649ef8c02341774ef95fa": {
     "model_module": "@jupyter-widgets/controls",
     "model_module_version": "1.5.0",
     "model_name": "DescriptionStyleModel",
     "state": {
      "_model_module": "@jupyter-widgets/controls",
      "_model_module_version": "1.5.0",
      "_model_name": "DescriptionStyleModel",
      "_view_count": null,
      "_view_module": "@jupyter-widgets/base",
      "_view_module_version": "1.2.0",
      "_view_name": "StyleView",
      "description_width": ""
     }
    },
    "3deed6d6c14c4cfa9fa073160c359a96": {
     "model_module": "@jupyter-widgets/controls",
     "model_module_version": "1.5.0",
     "model_name": "HTMLModel",
     "state": {
      "_dom_classes": [],
      "_model_module": "@jupyter-widgets/controls",
      "_model_module_version": "1.5.0",
      "_model_name": "HTMLModel",
      "_view_count": null,
      "_view_module": "@jupyter-widgets/controls",
      "_view_module_version": "1.5.0",
      "_view_name": "HTMLView",
      "description": "",
      "description_tooltip": null,
      "layout": "IPY_MODEL_41faae4ffea2454f9508a7eb740e6fed",
      "placeholder": "​",
      "style": "IPY_MODEL_ac6399dbddc64b02acbde120c2a4c549",
      "value": " 100/100 [00:23&lt;00:00,  5.07it/s]"
     }
    },
    "41faae4ffea2454f9508a7eb740e6fed": {
     "model_module": "@jupyter-widgets/base",
     "model_module_version": "1.2.0",
     "model_name": "LayoutModel",
     "state": {
      "_model_module": "@jupyter-widgets/base",
      "_model_module_version": "1.2.0",
      "_model_name": "LayoutModel",
      "_view_count": null,
      "_view_module": "@jupyter-widgets/base",
      "_view_module_version": "1.2.0",
      "_view_name": "LayoutView",
      "align_content": null,
      "align_items": null,
      "align_self": null,
      "border": null,
      "bottom": null,
      "display": null,
      "flex": null,
      "flex_flow": null,
      "grid_area": null,
      "grid_auto_columns": null,
      "grid_auto_flow": null,
      "grid_auto_rows": null,
      "grid_column": null,
      "grid_gap": null,
      "grid_row": null,
      "grid_template_areas": null,
      "grid_template_columns": null,
      "grid_template_rows": null,
      "height": null,
      "justify_content": null,
      "justify_items": null,
      "left": null,
      "margin": null,
      "max_height": null,
      "max_width": null,
      "min_height": null,
      "min_width": null,
      "object_fit": null,
      "object_position": null,
      "order": null,
      "overflow": null,
      "overflow_x": null,
      "overflow_y": null,
      "padding": null,
      "right": null,
      "top": null,
      "visibility": null,
      "width": null
     }
    },
    "54509b3e0d4c495e9fa5785f14e65939": {
     "model_module": "@jupyter-widgets/controls",
     "model_module_version": "1.5.0",
     "model_name": "ProgressStyleModel",
     "state": {
      "_model_module": "@jupyter-widgets/controls",
      "_model_module_version": "1.5.0",
      "_model_name": "ProgressStyleModel",
      "_view_count": null,
      "_view_module": "@jupyter-widgets/base",
      "_view_module_version": "1.2.0",
      "_view_name": "StyleView",
      "bar_color": null,
      "description_width": ""
     }
    },
    "54e16565e4da4b09bdf2228531480a15": {
     "model_module": "@jupyter-widgets/base",
     "model_module_version": "1.2.0",
     "model_name": "LayoutModel",
     "state": {
      "_model_module": "@jupyter-widgets/base",
      "_model_module_version": "1.2.0",
      "_model_name": "LayoutModel",
      "_view_count": null,
      "_view_module": "@jupyter-widgets/base",
      "_view_module_version": "1.2.0",
      "_view_name": "LayoutView",
      "align_content": null,
      "align_items": null,
      "align_self": null,
      "border": null,
      "bottom": null,
      "display": null,
      "flex": null,
      "flex_flow": null,
      "grid_area": null,
      "grid_auto_columns": null,
      "grid_auto_flow": null,
      "grid_auto_rows": null,
      "grid_column": null,
      "grid_gap": null,
      "grid_row": null,
      "grid_template_areas": null,
      "grid_template_columns": null,
      "grid_template_rows": null,
      "height": null,
      "justify_content": null,
      "justify_items": null,
      "left": null,
      "margin": null,
      "max_height": null,
      "max_width": null,
      "min_height": null,
      "min_width": null,
      "object_fit": null,
      "object_position": null,
      "order": null,
      "overflow": null,
      "overflow_x": null,
      "overflow_y": null,
      "padding": null,
      "right": null,
      "top": null,
      "visibility": null,
      "width": null
     }
    },
    "5cdbcb6fb6634a6793eb31c6636b6670": {
     "model_module": "@jupyter-widgets/controls",
     "model_module_version": "1.5.0",
     "model_name": "HBoxModel",
     "state": {
      "_dom_classes": [],
      "_model_module": "@jupyter-widgets/controls",
      "_model_module_version": "1.5.0",
      "_model_name": "HBoxModel",
      "_view_count": null,
      "_view_module": "@jupyter-widgets/controls",
      "_view_module_version": "1.5.0",
      "_view_name": "HBoxView",
      "box_style": "",
      "children": [
       "IPY_MODEL_8fa78a799ddd412c948d954f1cd6d2a5",
       "IPY_MODEL_f1391e3bdc084dbe8ee98f5c32cf21d6",
       "IPY_MODEL_3deed6d6c14c4cfa9fa073160c359a96"
      ],
      "layout": "IPY_MODEL_1a67ac9b49794a05b34f55c3e962bbb5"
     }
    },
    "83858d6b30614220905fdfd08b888171": {
     "model_module": "@jupyter-widgets/controls",
     "model_module_version": "1.5.0",
     "model_name": "ProgressStyleModel",
     "state": {
      "_model_module": "@jupyter-widgets/controls",
      "_model_module_version": "1.5.0",
      "_model_name": "ProgressStyleModel",
      "_view_count": null,
      "_view_module": "@jupyter-widgets/base",
      "_view_module_version": "1.2.0",
      "_view_name": "StyleView",
      "bar_color": null,
      "description_width": ""
     }
    },
    "8fa78a799ddd412c948d954f1cd6d2a5": {
     "model_module": "@jupyter-widgets/controls",
     "model_module_version": "1.5.0",
     "model_name": "HTMLModel",
     "state": {
      "_dom_classes": [],
      "_model_module": "@jupyter-widgets/controls",
      "_model_module_version": "1.5.0",
      "_model_name": "HTMLModel",
      "_view_count": null,
      "_view_module": "@jupyter-widgets/controls",
      "_view_module_version": "1.5.0",
      "_view_name": "HTMLView",
      "description": "",
      "description_tooltip": null,
      "layout": "IPY_MODEL_d16d473f06e64d00aaa36a0fd75c889c",
      "placeholder": "​",
      "style": "IPY_MODEL_ea2f2befc4a6478dba71aa77e28112d0",
      "value": "100%"
     }
    },
    "923e8a0663754802a4422d09ff3c13ef": {
     "model_module": "@jupyter-widgets/controls",
     "model_module_version": "1.5.0",
     "model_name": "HTMLModel",
     "state": {
      "_dom_classes": [],
      "_model_module": "@jupyter-widgets/controls",
      "_model_module_version": "1.5.0",
      "_model_name": "HTMLModel",
      "_view_count": null,
      "_view_module": "@jupyter-widgets/controls",
      "_view_module_version": "1.5.0",
      "_view_name": "HTMLView",
      "description": "",
      "description_tooltip": null,
      "layout": "IPY_MODEL_30744c4780b84effaa55d2102f6bc82d",
      "placeholder": "​",
      "style": "IPY_MODEL_e53507cacd5a47659d9329422d81ce78",
      "value": "  0%"
     }
    },
    "a1e757d689e140e2acc2cbde31514802": {
     "model_module": "@jupyter-widgets/base",
     "model_module_version": "1.2.0",
     "model_name": "LayoutModel",
     "state": {
      "_model_module": "@jupyter-widgets/base",
      "_model_module_version": "1.2.0",
      "_model_name": "LayoutModel",
      "_view_count": null,
      "_view_module": "@jupyter-widgets/base",
      "_view_module_version": "1.2.0",
      "_view_name": "LayoutView",
      "align_content": null,
      "align_items": null,
      "align_self": null,
      "border": null,
      "bottom": null,
      "display": null,
      "flex": null,
      "flex_flow": null,
      "grid_area": null,
      "grid_auto_columns": null,
      "grid_auto_flow": null,
      "grid_auto_rows": null,
      "grid_column": null,
      "grid_gap": null,
      "grid_row": null,
      "grid_template_areas": null,
      "grid_template_columns": null,
      "grid_template_rows": null,
      "height": null,
      "justify_content": null,
      "justify_items": null,
      "left": null,
      "margin": null,
      "max_height": null,
      "max_width": null,
      "min_height": null,
      "min_width": null,
      "object_fit": null,
      "object_position": null,
      "order": null,
      "overflow": null,
      "overflow_x": null,
      "overflow_y": null,
      "padding": null,
      "right": null,
      "top": null,
      "visibility": null,
      "width": null
     }
    },
    "ac6399dbddc64b02acbde120c2a4c549": {
     "model_module": "@jupyter-widgets/controls",
     "model_module_version": "1.5.0",
     "model_name": "DescriptionStyleModel",
     "state": {
      "_model_module": "@jupyter-widgets/controls",
      "_model_module_version": "1.5.0",
      "_model_name": "DescriptionStyleModel",
      "_view_count": null,
      "_view_module": "@jupyter-widgets/base",
      "_view_module_version": "1.2.0",
      "_view_name": "StyleView",
      "description_width": ""
     }
    },
    "ad97637cd5a745f99405da0815a35c31": {
     "model_module": "@jupyter-widgets/base",
     "model_module_version": "1.2.0",
     "model_name": "LayoutModel",
     "state": {
      "_model_module": "@jupyter-widgets/base",
      "_model_module_version": "1.2.0",
      "_model_name": "LayoutModel",
      "_view_count": null,
      "_view_module": "@jupyter-widgets/base",
      "_view_module_version": "1.2.0",
      "_view_name": "LayoutView",
      "align_content": null,
      "align_items": null,
      "align_self": null,
      "border": null,
      "bottom": null,
      "display": null,
      "flex": null,
      "flex_flow": null,
      "grid_area": null,
      "grid_auto_columns": null,
      "grid_auto_flow": null,
      "grid_auto_rows": null,
      "grid_column": null,
      "grid_gap": null,
      "grid_row": null,
      "grid_template_areas": null,
      "grid_template_columns": null,
      "grid_template_rows": null,
      "height": null,
      "justify_content": null,
      "justify_items": null,
      "left": null,
      "margin": null,
      "max_height": null,
      "max_width": null,
      "min_height": null,
      "min_width": null,
      "object_fit": null,
      "object_position": null,
      "order": null,
      "overflow": null,
      "overflow_x": null,
      "overflow_y": null,
      "padding": null,
      "right": null,
      "top": null,
      "visibility": null,
      "width": null
     }
    },
    "aebf6ec389e7407fa67c9ff09a4c8245": {
     "model_module": "@jupyter-widgets/base",
     "model_module_version": "1.2.0",
     "model_name": "LayoutModel",
     "state": {
      "_model_module": "@jupyter-widgets/base",
      "_model_module_version": "1.2.0",
      "_model_name": "LayoutModel",
      "_view_count": null,
      "_view_module": "@jupyter-widgets/base",
      "_view_module_version": "1.2.0",
      "_view_name": "LayoutView",
      "align_content": null,
      "align_items": null,
      "align_self": null,
      "border": null,
      "bottom": null,
      "display": null,
      "flex": null,
      "flex_flow": null,
      "grid_area": null,
      "grid_auto_columns": null,
      "grid_auto_flow": null,
      "grid_auto_rows": null,
      "grid_column": null,
      "grid_gap": null,
      "grid_row": null,
      "grid_template_areas": null,
      "grid_template_columns": null,
      "grid_template_rows": null,
      "height": null,
      "justify_content": null,
      "justify_items": null,
      "left": null,
      "margin": null,
      "max_height": null,
      "max_width": null,
      "min_height": null,
      "min_width": null,
      "object_fit": null,
      "object_position": null,
      "order": null,
      "overflow": null,
      "overflow_x": null,
      "overflow_y": null,
      "padding": null,
      "right": null,
      "top": null,
      "visibility": null,
      "width": null
     }
    },
    "b29197e315484a958203623ace861d01": {
     "model_module": "@jupyter-widgets/base",
     "model_module_version": "1.2.0",
     "model_name": "LayoutModel",
     "state": {
      "_model_module": "@jupyter-widgets/base",
      "_model_module_version": "1.2.0",
      "_model_name": "LayoutModel",
      "_view_count": null,
      "_view_module": "@jupyter-widgets/base",
      "_view_module_version": "1.2.0",
      "_view_name": "LayoutView",
      "align_content": null,
      "align_items": null,
      "align_self": null,
      "border": null,
      "bottom": null,
      "display": null,
      "flex": null,
      "flex_flow": null,
      "grid_area": null,
      "grid_auto_columns": null,
      "grid_auto_flow": null,
      "grid_auto_rows": null,
      "grid_column": null,
      "grid_gap": null,
      "grid_row": null,
      "grid_template_areas": null,
      "grid_template_columns": null,
      "grid_template_rows": null,
      "height": null,
      "justify_content": null,
      "justify_items": null,
      "left": null,
      "margin": null,
      "max_height": null,
      "max_width": null,
      "min_height": null,
      "min_width": null,
      "object_fit": null,
      "object_position": null,
      "order": null,
      "overflow": null,
      "overflow_x": null,
      "overflow_y": null,
      "padding": null,
      "right": null,
      "top": null,
      "visibility": null,
      "width": null
     }
    },
    "b37e458dc624433dbd7d5765c8c99414": {
     "model_module": "@jupyter-widgets/controls",
     "model_module_version": "1.5.0",
     "model_name": "FloatProgressModel",
     "state": {
      "_dom_classes": [],
      "_model_module": "@jupyter-widgets/controls",
      "_model_module_version": "1.5.0",
      "_model_name": "FloatProgressModel",
      "_view_count": null,
      "_view_module": "@jupyter-widgets/controls",
      "_view_module_version": "1.5.0",
      "_view_name": "ProgressView",
      "bar_style": "",
      "description": "",
      "description_tooltip": null,
      "layout": "IPY_MODEL_de1fd46bfcd045f7b53aac7d4b294a7c",
      "max": 7365,
      "min": 0,
      "orientation": "horizontal",
      "style": "IPY_MODEL_1da81cb32df548079e3b3ff6ad74c506",
      "value": 921
     }
    },
    "c5e987bc30e747ddbaddfc364007f5b4": {
     "model_module": "@jupyter-widgets/controls",
     "model_module_version": "1.5.0",
     "model_name": "HTMLModel",
     "state": {
      "_dom_classes": [],
      "_model_module": "@jupyter-widgets/controls",
      "_model_module_version": "1.5.0",
      "_model_name": "HTMLModel",
      "_view_count": null,
      "_view_module": "@jupyter-widgets/controls",
      "_view_module_version": "1.5.0",
      "_view_name": "HTMLView",
      "description": "",
      "description_tooltip": null,
      "layout": "IPY_MODEL_a1e757d689e140e2acc2cbde31514802",
      "placeholder": "​",
      "style": "IPY_MODEL_31a570f5486649ef8c02341774ef95fa",
      "value": " 13%"
     }
    },
    "c756b7d18cea4950ab478145efa76066": {
     "model_module": "@jupyter-widgets/controls",
     "model_module_version": "1.5.0",
     "model_name": "HBoxModel",
     "state": {
      "_dom_classes": [],
      "_model_module": "@jupyter-widgets/controls",
      "_model_module_version": "1.5.0",
      "_model_name": "HBoxModel",
      "_view_count": null,
      "_view_module": "@jupyter-widgets/controls",
      "_view_module_version": "1.5.0",
      "_view_name": "HBoxView",
      "box_style": "",
      "children": [
       "IPY_MODEL_923e8a0663754802a4422d09ff3c13ef",
       "IPY_MODEL_ed2810effbbf4545910bc0c17bb1e246",
       "IPY_MODEL_1ccc54536a1a4ceaa2842e1dcb20ece2"
      ],
      "layout": "IPY_MODEL_b29197e315484a958203623ace861d01"
     }
    },
    "d16d473f06e64d00aaa36a0fd75c889c": {
     "model_module": "@jupyter-widgets/base",
     "model_module_version": "1.2.0",
     "model_name": "LayoutModel",
     "state": {
      "_model_module": "@jupyter-widgets/base",
      "_model_module_version": "1.2.0",
      "_model_name": "LayoutModel",
      "_view_count": null,
      "_view_module": "@jupyter-widgets/base",
      "_view_module_version": "1.2.0",
      "_view_name": "LayoutView",
      "align_content": null,
      "align_items": null,
      "align_self": null,
      "border": null,
      "bottom": null,
      "display": null,
      "flex": null,
      "flex_flow": null,
      "grid_area": null,
      "grid_auto_columns": null,
      "grid_auto_flow": null,
      "grid_auto_rows": null,
      "grid_column": null,
      "grid_gap": null,
      "grid_row": null,
      "grid_template_areas": null,
      "grid_template_columns": null,
      "grid_template_rows": null,
      "height": null,
      "justify_content": null,
      "justify_items": null,
      "left": null,
      "margin": null,
      "max_height": null,
      "max_width": null,
      "min_height": null,
      "min_width": null,
      "object_fit": null,
      "object_position": null,
      "order": null,
      "overflow": null,
      "overflow_x": null,
      "overflow_y": null,
      "padding": null,
      "right": null,
      "top": null,
      "visibility": null,
      "width": null
     }
    },
    "de1fd46bfcd045f7b53aac7d4b294a7c": {
     "model_module": "@jupyter-widgets/base",
     "model_module_version": "1.2.0",
     "model_name": "LayoutModel",
     "state": {
      "_model_module": "@jupyter-widgets/base",
      "_model_module_version": "1.2.0",
      "_model_name": "LayoutModel",
      "_view_count": null,
      "_view_module": "@jupyter-widgets/base",
      "_view_module_version": "1.2.0",
      "_view_name": "LayoutView",
      "align_content": null,
      "align_items": null,
      "align_self": null,
      "border": null,
      "bottom": null,
      "display": null,
      "flex": null,
      "flex_flow": null,
      "grid_area": null,
      "grid_auto_columns": null,
      "grid_auto_flow": null,
      "grid_auto_rows": null,
      "grid_column": null,
      "grid_gap": null,
      "grid_row": null,
      "grid_template_areas": null,
      "grid_template_columns": null,
      "grid_template_rows": null,
      "height": null,
      "justify_content": null,
      "justify_items": null,
      "left": null,
      "margin": null,
      "max_height": null,
      "max_width": null,
      "min_height": null,
      "min_width": null,
      "object_fit": null,
      "object_position": null,
      "order": null,
      "overflow": null,
      "overflow_x": null,
      "overflow_y": null,
      "padding": null,
      "right": null,
      "top": null,
      "visibility": null,
      "width": null
     }
    },
    "e47ccff8e897459e9d754dfa8c8579b3": {
     "model_module": "@jupyter-widgets/controls",
     "model_module_version": "1.5.0",
     "model_name": "DescriptionStyleModel",
     "state": {
      "_model_module": "@jupyter-widgets/controls",
      "_model_module_version": "1.5.0",
      "_model_name": "DescriptionStyleModel",
      "_view_count": null,
      "_view_module": "@jupyter-widgets/base",
      "_view_module_version": "1.2.0",
      "_view_name": "StyleView",
      "description_width": ""
     }
    },
    "e53507cacd5a47659d9329422d81ce78": {
     "model_module": "@jupyter-widgets/controls",
     "model_module_version": "1.5.0",
     "model_name": "DescriptionStyleModel",
     "state": {
      "_model_module": "@jupyter-widgets/controls",
      "_model_module_version": "1.5.0",
      "_model_name": "DescriptionStyleModel",
      "_view_count": null,
      "_view_module": "@jupyter-widgets/base",
      "_view_module_version": "1.2.0",
      "_view_name": "StyleView",
      "description_width": ""
     }
    },
    "e87a10240b2244cbbd2141e6efc20f48": {
     "model_module": "@jupyter-widgets/base",
     "model_module_version": "1.2.0",
     "model_name": "LayoutModel",
     "state": {
      "_model_module": "@jupyter-widgets/base",
      "_model_module_version": "1.2.0",
      "_model_name": "LayoutModel",
      "_view_count": null,
      "_view_module": "@jupyter-widgets/base",
      "_view_module_version": "1.2.0",
      "_view_name": "LayoutView",
      "align_content": null,
      "align_items": null,
      "align_self": null,
      "border": null,
      "bottom": null,
      "display": null,
      "flex": null,
      "flex_flow": null,
      "grid_area": null,
      "grid_auto_columns": null,
      "grid_auto_flow": null,
      "grid_auto_rows": null,
      "grid_column": null,
      "grid_gap": null,
      "grid_row": null,
      "grid_template_areas": null,
      "grid_template_columns": null,
      "grid_template_rows": null,
      "height": null,
      "justify_content": null,
      "justify_items": null,
      "left": null,
      "margin": null,
      "max_height": null,
      "max_width": null,
      "min_height": null,
      "min_width": null,
      "object_fit": null,
      "object_position": null,
      "order": null,
      "overflow": null,
      "overflow_x": null,
      "overflow_y": null,
      "padding": null,
      "right": null,
      "top": null,
      "visibility": null,
      "width": null
     }
    },
    "ea2f2befc4a6478dba71aa77e28112d0": {
     "model_module": "@jupyter-widgets/controls",
     "model_module_version": "1.5.0",
     "model_name": "DescriptionStyleModel",
     "state": {
      "_model_module": "@jupyter-widgets/controls",
      "_model_module_version": "1.5.0",
      "_model_name": "DescriptionStyleModel",
      "_view_count": null,
      "_view_module": "@jupyter-widgets/base",
      "_view_module_version": "1.2.0",
      "_view_name": "StyleView",
      "description_width": ""
     }
    },
    "ed2810effbbf4545910bc0c17bb1e246": {
     "model_module": "@jupyter-widgets/controls",
     "model_module_version": "1.5.0",
     "model_name": "FloatProgressModel",
     "state": {
      "_dom_classes": [],
      "_model_module": "@jupyter-widgets/controls",
      "_model_module_version": "1.5.0",
      "_model_name": "FloatProgressModel",
      "_view_count": null,
      "_view_module": "@jupyter-widgets/controls",
      "_view_module_version": "1.5.0",
      "_view_name": "ProgressView",
      "bar_style": "",
      "description": "",
      "description_tooltip": null,
      "layout": "IPY_MODEL_aebf6ec389e7407fa67c9ff09a4c8245",
      "max": 1,
      "min": 0,
      "orientation": "horizontal",
      "style": "IPY_MODEL_83858d6b30614220905fdfd08b888171",
      "value": 0
     }
    },
    "f1391e3bdc084dbe8ee98f5c32cf21d6": {
     "model_module": "@jupyter-widgets/controls",
     "model_module_version": "1.5.0",
     "model_name": "FloatProgressModel",
     "state": {
      "_dom_classes": [],
      "_model_module": "@jupyter-widgets/controls",
      "_model_module_version": "1.5.0",
      "_model_name": "FloatProgressModel",
      "_view_count": null,
      "_view_module": "@jupyter-widgets/controls",
      "_view_module_version": "1.5.0",
      "_view_name": "ProgressView",
      "bar_style": "success",
      "description": "",
      "description_tooltip": null,
      "layout": "IPY_MODEL_e87a10240b2244cbbd2141e6efc20f48",
      "max": 100,
      "min": 0,
      "orientation": "horizontal",
      "style": "IPY_MODEL_54509b3e0d4c495e9fa5785f14e65939",
      "value": 100
     }
    }
   }
  }
 },
 "nbformat": 4,
 "nbformat_minor": 4
}
