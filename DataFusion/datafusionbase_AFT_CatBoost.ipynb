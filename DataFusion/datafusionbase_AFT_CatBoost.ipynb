{
 "cells": [
  {
   "cell_type": "code",
   "execution_count": 1,
   "metadata": {
    "id": "Oj3QFKet_YGY",
    "tags": []
   },
   "outputs": [],
   "source": [
    "import cudf\n",
    "import pandas as pd\n",
    "import numpy as np\n",
    "from tqdm.auto import tqdm\n",
    "from lifelines.utils import concordance_index\n",
    "from sklearn.model_selection import train_test_split,KFold,StratifiedKFold\n",
    "from scipy.stats import dweibull, skew, kstat, expectile\n",
    "from seglearn.feature_functions import (willison_amplitude, emg_var, waveform_length, \\\n",
    "                      slope_sign_changes, zero_crossing, hist, mean_crossings, \\\n",
    "                      mse, means_abs_diff, variation)\n",
    "import scipy.stats as sts\n",
    "from sklearn.base import BaseEstimator\n",
    "import matplotlib.pyplot as plt\n",
    "from tsfresh.feature_extraction import feature_calculators as ts_calcs\n",
    "from lifetimes import BetaGeoFitter, GammaGammaFitter\n",
    "from lifetimes.plotting import plot_probability_alive_matrix\n",
    "import itertools\n",
    "from catboost import CatBoostClassifier,CatBoostRegressor,Pool,cv\n",
    "import warnings\n",
    "warnings.simplefilter('ignore', np.RankWarning)"
   ]
  },
  {
   "cell_type": "code",
   "execution_count": 2,
   "metadata": {},
   "outputs": [
    {
     "name": "stdout",
     "output_type": "stream",
     "text": [
      "Sun Mar 10 18:15:40 2024       \n",
      "+-----------------------------------------------------------------------------+\n",
      "| NVIDIA-SMI 525.116.04   Driver Version: 525.116.04   CUDA Version: 12.0     |\n",
      "|-------------------------------+----------------------+----------------------+\n",
      "| GPU  Name        Persistence-M| Bus-Id        Disp.A | Volatile Uncorr. ECC |\n",
      "| Fan  Temp  Perf  Pwr:Usage/Cap|         Memory-Usage | GPU-Util  Compute M. |\n",
      "|                               |                      |               MIG M. |\n",
      "|===============================+======================+======================|\n",
      "|   0  NVIDIA A100-SXM...  Off  | 00000000:00:05.0 Off |                    0 |\n",
      "| N/A   25C    P0    57W / 400W |    419MiB / 81920MiB |      0%      Default |\n",
      "|                               |                      |             Disabled |\n",
      "+-------------------------------+----------------------+----------------------+\n",
      "                                                                               \n",
      "+-----------------------------------------------------------------------------+\n",
      "| Processes:                                                                  |\n",
      "|  GPU   GI   CI        PID   Type   Process name                  GPU Memory |\n",
      "|        ID   ID                                                   Usage      |\n",
      "|=============================================================================|\n",
      "+-----------------------------------------------------------------------------+\n"
     ]
    }
   ],
   "source": [
    "!nvidia-smi"
   ]
  },
  {
   "cell_type": "code",
   "execution_count": 3,
   "metadata": {
    "id": "0U1y5RZM_YGY",
    "tags": []
   },
   "outputs": [],
   "source": [
    "transaction_data = cudf.read_csv('./transactions.csv',parse_dates=['transaction_dttm'])\n",
    "clients_data = cudf.read_csv('./clients.csv')\n",
    "train_data = cudf.read_csv('./train.csv')\n",
    "report_data = cudf.read_csv('./report_dates.csv')\n",
    "simple_sol = cudf.read_csv('./sample_submit_naive.csv')\n",
    "reports_data = cudf.read_csv('report_dates.csv',parse_dates=['report_dt'])"
   ]
  },
  {
   "cell_type": "code",
   "execution_count": 4,
   "metadata": {},
   "outputs": [],
   "source": [
    "clients_data_merge = clients_data.merge(reports_data)[['report_dt','user_id']]\n",
    "transaction_data = transaction_data.merge(clients_data_merge)"
   ]
  },
  {
   "cell_type": "code",
   "execution_count": 5,
   "metadata": {},
   "outputs": [
    {
     "data": {
      "text/plain": [
       "136.19815625"
      ]
     },
     "execution_count": 5,
     "metadata": {},
     "output_type": "execute_result"
    }
   ],
   "source": [
    "transaction_data.groupby('user_id').agg('count')['transaction_dttm'].mean()"
   ]
  },
  {
   "cell_type": "code",
   "execution_count": 6,
   "metadata": {},
   "outputs": [
    {
     "data": {
      "text/html": [
       "<div>\n",
       "<style scoped>\n",
       "    .dataframe tbody tr th:only-of-type {\n",
       "        vertical-align: middle;\n",
       "    }\n",
       "\n",
       "    .dataframe tbody tr th {\n",
       "        vertical-align: top;\n",
       "    }\n",
       "\n",
       "    .dataframe thead th {\n",
       "        text-align: right;\n",
       "    }\n",
       "</style>\n",
       "<table border=\"1\" class=\"dataframe\">\n",
       "  <thead>\n",
       "    <tr style=\"text-align: right;\">\n",
       "      <th></th>\n",
       "      <th>user_id</th>\n",
       "      <th>mcc_code</th>\n",
       "      <th>currency_rk</th>\n",
       "      <th>transaction_amt</th>\n",
       "      <th>transaction_dttm</th>\n",
       "      <th>report_dt</th>\n",
       "    </tr>\n",
       "  </thead>\n",
       "  <tbody>\n",
       "    <tr>\n",
       "      <th>0</th>\n",
       "      <td>1444</td>\n",
       "      <td>2</td>\n",
       "      <td>1</td>\n",
       "      <td>-199.111954</td>\n",
       "      <td>2022-01-07 10:05:52</td>\n",
       "      <td>2022-07-31 03:00:00</td>\n",
       "    </tr>\n",
       "    <tr>\n",
       "      <th>1</th>\n",
       "      <td>1444</td>\n",
       "      <td>1</td>\n",
       "      <td>1</td>\n",
       "      <td>-276.412872</td>\n",
       "      <td>2022-01-07 10:46:37</td>\n",
       "      <td>2022-07-31 03:00:00</td>\n",
       "    </tr>\n",
       "    <tr>\n",
       "      <th>2</th>\n",
       "      <td>1444</td>\n",
       "      <td>2</td>\n",
       "      <td>1</td>\n",
       "      <td>-164.808640</td>\n",
       "      <td>2022-01-08 05:19:22</td>\n",
       "      <td>2022-07-31 03:00:00</td>\n",
       "    </tr>\n",
       "    <tr>\n",
       "      <th>3</th>\n",
       "      <td>1444</td>\n",
       "      <td>2</td>\n",
       "      <td>1</td>\n",
       "      <td>-262.828308</td>\n",
       "      <td>2022-01-12 09:13:40</td>\n",
       "      <td>2022-07-31 03:00:00</td>\n",
       "    </tr>\n",
       "    <tr>\n",
       "      <th>4</th>\n",
       "      <td>1444</td>\n",
       "      <td>1</td>\n",
       "      <td>1</td>\n",
       "      <td>-184.334808</td>\n",
       "      <td>2022-01-13 07:00:02</td>\n",
       "      <td>2022-07-31 03:00:00</td>\n",
       "    </tr>\n",
       "    <tr>\n",
       "      <th>...</th>\n",
       "      <td>...</td>\n",
       "      <td>...</td>\n",
       "      <td>...</td>\n",
       "      <td>...</td>\n",
       "      <td>...</td>\n",
       "      <td>...</td>\n",
       "    </tr>\n",
       "    <tr>\n",
       "      <th>13075018</th>\n",
       "      <td>559253</td>\n",
       "      <td>3</td>\n",
       "      <td>1</td>\n",
       "      <td>-90.221107</td>\n",
       "      <td>2023-03-01 18:14:39</td>\n",
       "      <td>2023-06-30 03:00:00</td>\n",
       "    </tr>\n",
       "    <tr>\n",
       "      <th>13075019</th>\n",
       "      <td>559253</td>\n",
       "      <td>3</td>\n",
       "      <td>1</td>\n",
       "      <td>-186.262100</td>\n",
       "      <td>2023-03-02 13:07:48</td>\n",
       "      <td>2023-06-30 03:00:00</td>\n",
       "    </tr>\n",
       "    <tr>\n",
       "      <th>13075020</th>\n",
       "      <td>559253</td>\n",
       "      <td>3</td>\n",
       "      <td>1</td>\n",
       "      <td>-92.112129</td>\n",
       "      <td>2023-03-10 18:07:37</td>\n",
       "      <td>2023-06-30 03:00:00</td>\n",
       "    </tr>\n",
       "    <tr>\n",
       "      <th>13075021</th>\n",
       "      <td>559253</td>\n",
       "      <td>3</td>\n",
       "      <td>1</td>\n",
       "      <td>-92.357025</td>\n",
       "      <td>2023-03-15 12:05:27</td>\n",
       "      <td>2023-06-30 03:00:00</td>\n",
       "    </tr>\n",
       "    <tr>\n",
       "      <th>13075022</th>\n",
       "      <td>559253</td>\n",
       "      <td>3</td>\n",
       "      <td>1</td>\n",
       "      <td>-91.725945</td>\n",
       "      <td>2023-03-20 13:25:00</td>\n",
       "      <td>2023-06-30 03:00:00</td>\n",
       "    </tr>\n",
       "  </tbody>\n",
       "</table>\n",
       "<p>13075023 rows × 6 columns</p>\n",
       "</div>"
      ],
      "text/plain": [
       "          user_id  mcc_code  currency_rk  transaction_amt    transaction_dttm  \\\n",
       "0            1444         2            1      -199.111954 2022-01-07 10:05:52   \n",
       "1            1444         1            1      -276.412872 2022-01-07 10:46:37   \n",
       "2            1444         2            1      -164.808640 2022-01-08 05:19:22   \n",
       "3            1444         2            1      -262.828308 2022-01-12 09:13:40   \n",
       "4            1444         1            1      -184.334808 2022-01-13 07:00:02   \n",
       "...           ...       ...          ...              ...                 ...   \n",
       "13075018   559253         3            1       -90.221107 2023-03-01 18:14:39   \n",
       "13075019   559253         3            1      -186.262100 2023-03-02 13:07:48   \n",
       "13075020   559253         3            1       -92.112129 2023-03-10 18:07:37   \n",
       "13075021   559253         3            1       -92.357025 2023-03-15 12:05:27   \n",
       "13075022   559253         3            1       -91.725945 2023-03-20 13:25:00   \n",
       "\n",
       "                   report_dt  \n",
       "0        2022-07-31 03:00:00  \n",
       "1        2022-07-31 03:00:00  \n",
       "2        2022-07-31 03:00:00  \n",
       "3        2022-07-31 03:00:00  \n",
       "4        2022-07-31 03:00:00  \n",
       "...                      ...  \n",
       "13075018 2023-06-30 03:00:00  \n",
       "13075019 2023-06-30 03:00:00  \n",
       "13075020 2023-06-30 03:00:00  \n",
       "13075021 2023-06-30 03:00:00  \n",
       "13075022 2023-06-30 03:00:00  \n",
       "\n",
       "[13075023 rows x 6 columns]"
      ]
     },
     "execution_count": 6,
     "metadata": {},
     "output_type": "execute_result"
    }
   ],
   "source": [
    "transaction_data"
   ]
  },
  {
   "cell_type": "code",
   "execution_count": 7,
   "metadata": {},
   "outputs": [
    {
     "ename": "NameError",
     "evalue": "name 'bgf' is not defined",
     "output_type": "error",
     "traceback": [
      "\u001b[0;31m---------------------------------------------------------------------------\u001b[0m",
      "\u001b[0;31mNameError\u001b[0m                                 Traceback (most recent call last)",
      "\u001b[0;32m/tmp/ipykernel_227/1249247489.py\u001b[0m in \u001b[0;36m<module>\u001b[0;34m\u001b[0m\n\u001b[1;32m      2\u001b[0m \u001b[0;31m# set figure size\u001b[0m\u001b[0;34m\u001b[0m\u001b[0;34m\u001b[0m\u001b[0m\n\u001b[1;32m      3\u001b[0m \u001b[0mplt\u001b[0m\u001b[0;34m.\u001b[0m\u001b[0msubplots\u001b[0m\u001b[0;34m(\u001b[0m\u001b[0mfigsize\u001b[0m\u001b[0;34m=\u001b[0m\u001b[0;34m(\u001b[0m\u001b[0;36m10\u001b[0m\u001b[0;34m,\u001b[0m \u001b[0;36m5\u001b[0m\u001b[0;34m)\u001b[0m\u001b[0;34m)\u001b[0m\u001b[0;34m\u001b[0m\u001b[0;34m\u001b[0m\u001b[0m\n\u001b[0;32m----> 4\u001b[0;31m \u001b[0mplot_probability_alive_matrix\u001b[0m\u001b[0;34m(\u001b[0m\u001b[0mbgf\u001b[0m\u001b[0;34m)\u001b[0m\u001b[0;34m\u001b[0m\u001b[0;34m\u001b[0m\u001b[0m\n\u001b[0m\u001b[1;32m      5\u001b[0m \u001b[0mplt\u001b[0m\u001b[0;34m.\u001b[0m\u001b[0mshow\u001b[0m\u001b[0;34m(\u001b[0m\u001b[0;34m)\u001b[0m\u001b[0;34m\u001b[0m\u001b[0;34m\u001b[0m\u001b[0m\n",
      "\u001b[0;31mNameError\u001b[0m: name 'bgf' is not defined"
     ]
    },
    {
     "data": {
      "image/png": "[encoded data removed]",
      "text/plain": [
       "<Figure size 1000x500 with 1 Axes>"
      ]
     },
     "metadata": {},
     "output_type": "display_data"
    }
   ],
   "source": [
    "%matplotlib inline\n",
    "# set figure size\n",
    "plt.subplots(figsize=(10, 5))\n",
    "plot_probability_alive_matrix(bgf)\n",
    "plt.show()"
   ]
  },
  {
   "cell_type": "code",
   "execution_count": 8,
   "metadata": {
    "id": "MYb8oiXI_YGY",
    "tags": []
   },
   "outputs": [],
   "source": [
    "def mounth_count_day(x):\n",
    "    mounths = [31,28,31,30,31,30,31,31,30,31,30,31]\n",
    "    return sum(mounths[:x])\n",
    "\n",
    "def create_time_features(df):\n",
    "    df['month'] = df['transaction_dttm'].dt.month\n",
    "    df['day'] = df['transaction_dttm'].dt.day\n",
    "    df['week'] = df['transaction_dttm'].dt.day.map(lambda x: x // 7)\n",
    "    df['minute'] = df['transaction_dttm'].dt.minute\n",
    "    df['second'] = df['transaction_dttm'].dt.second\n",
    "    df['month_count'] = df['transaction_dttm'].dt.month.map(lambda x: 30 * x)\n",
    "    df['hour'] = df['transaction_dttm'].dt.hour\n",
    "    df['year'] = df['transaction_dttm'].dt.year\n",
    "    \n",
    "    df['weekofyear'] = df['transaction_dttm'].dt.dayofyear.map(lambda x: x // 7)\n",
    "    df['dayofweek'] = df['transaction_dttm'].dt.dayofweek\n",
    "    df['all_day_time'] = df.apply(lambda x:x.hour * 3600 + x.minute * 60 + x.second)\n",
    "    df['all_week_time'] = df.apply(lambda x:x.dayofweek * 24 + x.hour)\n",
    "    df['all_year_time'] = df.apply(lambda x: x.month_count + x.day + x.hour / 24)\n",
    "    df['all_time'] = df.apply(lambda x:(x.year - 2021)*365 + x.month_count + x.day + x.hour / 24)\n",
    "    df['all_month_time'] = df.apply(lambda x:x.day * 24 + x.hour + x.minute / 60)\n",
    "    df['all_sec_time'] = df.apply(lambda x: (x.year - 2021)*365 * 24 * 3600 + x.month * 30 * 24 * 3600 + x.day * 24 * 3600 + x.hour * 3600 + x.minute * 60 + x.second)\n",
    "    df['all_sec_time_report'] = (df['report_dt'].dt.year - 2021)*365 * 24 * 3600 + df['report_dt'].dt.month * 30 * 24 * 3600 + df['report_dt'].dt.day * 24 * 3600 + df['report_dt'].dt.hour * 3600 + df['report_dt'].dt.minute * 60 + df['report_dt'].dt.second\n",
    "    df['delta_all_sec_time'] = df['all_sec_time_report'] - df['all_sec_time']\n",
    "    df['hour_time'] = df.apply(lambda x:x.minute * 60 + x.second)\n",
    "    df['days_to_reprort'] = (df['report_dt'] - df['transaction_dttm']).dt.days\n",
    "    df['mounth_until_report'] = (df['report_dt'].dt.year-df['transaction_dttm'].dt.year)*12+(df['report_dt'].dt.month-df['transaction_dttm'].dt.month)\n",
    "\n",
    "    df['cl_early_morning'] = ((df['hour'] > 4) & (df['hour'] <= 8)).astype('int16')\n",
    "    df['cl_is_weekend'] = (df['dayofweek'] > 4).astype('int16')\n",
    "    return df"
   ]
  },
  {
   "cell_type": "code",
   "execution_count": 9,
   "metadata": {
    "id": "biuWA3Ou_YGZ",
    "tags": []
   },
   "outputs": [],
   "source": [
    "transaction_data = create_time_features(transaction_data)"
   ]
  },
  {
   "cell_type": "code",
   "execution_count": 10,
   "metadata": {},
   "outputs": [
    {
     "data": {
      "text/plain": [
       "8    2192218\n",
       "7    2179348\n",
       "6    2165299\n",
       "5    2162299\n",
       "4    2161568\n",
       "3    1390998\n",
       "9     823293\n",
       "Name: mounth_until_report, dtype: int32"
      ]
     },
     "execution_count": 10,
     "metadata": {},
     "output_type": "execute_result"
    }
   ],
   "source": [
    "transaction_data['mounth_until_report'].value_counts()"
   ]
  },
  {
   "cell_type": "code",
   "execution_count": 11,
   "metadata": {
    "id": "46pAG9cg_YGZ",
    "tags": []
   },
   "outputs": [],
   "source": [
    "def generate_time_features(df): ## ADD cnt / (max - min)\n",
    "    time_day_features = df.groupby('user_id')['all_day_time'].agg(['mean', 'std', 'min', 'max', 'median','count'])\n",
    "    time_day_features.columns = [f'time_day_features_{c}' for c in time_day_features.columns]\n",
    "    time_day_features['time_day_features_diff'] = time_day_features['time_day_features_max'] - time_day_features['time_day_features_min']\n",
    "    \n",
    "    all_sec_features = df.groupby('user_id')['all_sec_time'].agg(['mean', 'std', 'min', 'max', 'median','count','var',lambda x: x.quantile(0.25),lambda x: x.quantile(0.75)])\n",
    "    all_sec_features.columns = [f'all_sec_time_features_{c}' for c in all_sec_features.columns]\n",
    "    all_sec_features['all_sec_time_features_diff'] = all_sec_features['all_sec_time_features_max'] - all_sec_features['all_sec_time_features_min']\n",
    "    all_sec_features['all_sec_time_scale'] = all_sec_features['all_sec_time_features_mean'] - all_sec_features['all_sec_time_features_median']\n",
    "    \n",
    "    delta_all_sec_features = df.groupby('user_id')['delta_all_sec_time'].agg(['mean', 'std', 'min', 'max', 'median','count','var',lambda x: x.quantile(0.25),lambda x: x.quantile(0.75)])\n",
    "    delta_all_sec_features.columns = [f'delta_all_sec_time_features_{c}' for c in delta_all_sec_features.columns]\n",
    "    delta_all_sec_features['delta_all_sec_features_diff'] = delta_all_sec_features['delta_all_sec_time_features_max'] - delta_all_sec_features['delta_all_sec_time_features_min']\n",
    "    delta_all_sec_features['delta_all_sec_features_scale'] = delta_all_sec_features['delta_all_sec_time_features_mean'] - delta_all_sec_features['delta_all_sec_time_features_median']\n",
    "\n",
    "\n",
    "    time_year_featues = df.groupby('user_id')['all_year_time'].agg(['mean', 'std', 'min', 'max', 'median',lambda x: x.quantile(0.25),lambda x: x.quantile(0.75),'count'])\n",
    "    time_year_featues.columns = [f'time_year_featues_{c}' for c in time_year_featues.columns]\n",
    "    time_year_featues['time_year_featues_diff'] = time_year_featues['time_year_featues_max'] - time_year_featues['time_year_featues_min']\n",
    "    time_year_featues['time_year_featues_interval'] = time_year_featues['time_year_featues_count'] / time_year_featues['time_year_featues_diff']  \n",
    "    \n",
    "\n",
    "    all_time_featues = df.groupby('user_id')['all_time'].agg(['mean', 'std', 'min', 'max','count','median'])\n",
    "    all_time_featues.columns = [f'all_time_featues_{c}' for c in all_time_featues.columns]\n",
    "    all_time_featues['all_time_featues_diff'] = all_time_featues['all_time_featues_count'] / (all_time_featues['all_time_featues_max'] - all_time_featues['all_time_featues_min'])\n",
    "\n",
    "    time_month_features = df.groupby('user_id')['all_month_time'].agg(['mean', 'std', 'min', 'max', 'median'])\n",
    "    time_month_features.columns = [f'time_month_features_{c}' for c in time_month_features.columns]\n",
    "    time_month_features['time_month_features_diff'] = time_month_features['time_month_features_max'] - time_month_features['time_month_features_min']\n",
    "\n",
    "\n",
    "    dayofweek_embeds = cudf.pivot_table(\n",
    "                             df,\n",
    "                             index =['user_id'],\n",
    "                             values=['transaction_amt'],\n",
    "                             columns=['dayofweek'],\n",
    "                             aggfunc=['count','mean','max','std','min']).fillna(0).sort_index() # 'median','sum'\n",
    "    \n",
    "    hour_embeds = cudf.pivot_table(\n",
    "                             df,\n",
    "                             index =['user_id'],\n",
    "                             values=['transaction_amt'],\n",
    "                             columns=['hour'],\n",
    "                             aggfunc=['count','mean','max','std','min',]).fillna(0).sort_index()\n",
    "    \n",
    "\n",
    "    month_embeds = cudf.pivot_table(\n",
    "                             df,\n",
    "                             index =['user_id'],\n",
    "                             values=['transaction_amt'],\n",
    "                             columns=['month'],\n",
    "                             aggfunc=['count','mean','max','std','min']).fillna(0).sort_index()\n",
    "    \n",
    "    dayofweek_embeds = cudf.DataFrame(dayofweek_embeds.values)\n",
    "    hour_embeds = cudf.DataFrame(hour_embeds.values)\n",
    "    month_embeds = cudf.DataFrame(month_embeds.values)\n",
    "    \n",
    "    dayofweek_embeds.columns = [f'dayofweek_embeds_{i}' for i in dayofweek_embeds.columns]\n",
    "    hour_embeds.columns = [f'hour_embeds_{i}' for i in hour_embeds.columns]\n",
    "    month_embeds.columns = [f'month_embeds_{i}' for i in month_embeds.columns]\n",
    "    \n",
    "    dayofweek_embeds.index = time_day_features.index\n",
    "    hour_embeds.index = time_day_features.index\n",
    "    month_embeds.index = time_day_features.index\n",
    "\n",
    "    \n",
    "    time_feartures = cudf.concat([time_day_features.sort_index(),\n",
    "                                time_year_featues.sort_index(),\n",
    "                                delta_all_sec_features.sort_index(),\n",
    "                                time_month_features.sort_index(),\n",
    "                                all_time_featues.sort_index(),\n",
    "                                all_sec_features.sort_index(),\n",
    "                                dayofweek_embeds,\n",
    "                                hour_embeds,\n",
    "                                month_embeds],axis=1)\n",
    "\n",
    "    return time_feartures"
   ]
  },
  {
   "cell_type": "code",
   "execution_count": 12,
   "metadata": {},
   "outputs": [],
   "source": [
    "def generate_time_features_factors(df,idx):\n",
    "    df['operations_type'] = df['transaction_amt'].map(lambda x: 1 if x >= 0 else 0)\n",
    "    \n",
    "    all_sec_oper_embeds = cudf.pivot_table(\n",
    "                             df,\n",
    "                             index =['user_id'],\n",
    "                             values=['all_sec_time'],\n",
    "                             columns=['operations_type'],\n",
    "                             aggfunc=['mean', 'std', 'min', 'max', 'median','count','var','last',\n",
    "                                      lambda x: x.quantile(0.25),lambda x: x.quantile(0.75)]).fillna(0).sort_index()\n",
    "    \n",
    "    all_month_oper_embeds = cudf.pivot_table(\n",
    "                             df,\n",
    "                             index =['user_id'],\n",
    "                             values=['all_month_time'],\n",
    "                             columns=['operations_type'],\n",
    "                             aggfunc=['mean', 'std', 'min', 'max', 'median','count','var','last',\n",
    "                                      lambda x: x.quantile(0.25),lambda x: x.quantile(0.75)]).fillna(0).sort_index()\n",
    "        \n",
    "    all_day_oper_embeds = cudf.pivot_table(\n",
    "                             df,\n",
    "                             index =['user_id'],\n",
    "                             values=['all_day_time'],\n",
    "                             columns=['operations_type'],\n",
    "                             aggfunc=['mean', 'std', 'min', 'max', 'median','count','var','last',\n",
    "                                      lambda x: x.quantile(0.25),lambda x: x.quantile(0.75)]).fillna(0).sort_index()\n",
    "    \n",
    "    \n",
    "    all_sec_oper_embeds = cudf.DataFrame(all_sec_oper_embeds.values)\n",
    "    all_month_oper_embeds = cudf.DataFrame(all_month_oper_embeds.values)\n",
    "    all_day_oper_embeds = cudf.DataFrame(all_day_oper_embeds.values)\n",
    "    \n",
    "    all_sec_oper_embeds.columns = [f'all_sec_oper_embeds_{i}' for i in all_sec_oper_embeds.columns]\n",
    "    all_month_oper_embeds.columns = [f'all_month_oper_embeds_{i}' for i in all_month_oper_embeds.columns]\n",
    "    all_day_oper_embeds.columns = [f'all_day_oper_embeds_{i}' for i in all_day_oper_embeds.columns]\n",
    "    \n",
    "    all_sec_oper_embeds.index = idx\n",
    "    all_month_oper_embeds.index = idx\n",
    "    all_day_oper_embeds.index = idx                         \n",
    "\n",
    "    time_feartures = cudf.concat([all_sec_oper_embeds,\n",
    "                                 all_month_oper_embeds,\n",
    "                                 all_day_oper_embeds],axis=1)\n",
    "\n",
    "    return time_feartures"
   ]
  },
  {
   "cell_type": "code",
   "execution_count": 13,
   "metadata": {},
   "outputs": [],
   "source": [
    "def get_corr_cov_features(df):\n",
    "    feat_year_time_corr_ps = df[['transaction_amt','all_sec_time','user_id']].to_pandas().groupby('user_id').corr('pearson')\n",
    "    feat_year_time_corr_ps = feat_year_time_corr_ps.values[:,1][::2]\n",
    "    feat_year_time_corr_sp = df[['transaction_amt','all_time','user_id']].to_pandas().groupby('user_id').corr('spearman')\n",
    "    feat_year_time_corr_sp = feat_year_time_corr_sp.values[:,1][::2]\n",
    "    \n",
    "    feat_hour_corr_ps = df[['transaction_amt','hour','user_id']].to_pandas().groupby('user_id').corr('pearson')\n",
    "    feat_hour_corr_ps = feat_hour_corr_ps.values[:,1][::2]\n",
    "    feat_hour_corr_sp = df[['transaction_amt','hour','user_id']].to_pandas().groupby('user_id').corr('spearman')\n",
    "    feat_hour_corr_sp = feat_hour_corr_sp.values[:,1][::2]\n",
    "    \n",
    "    feat_dayofweek_corr_ps = df[['transaction_amt','dayofweek','user_id']].to_pandas().groupby('user_id').corr('pearson')\n",
    "    feat_dayofweek_corr_ps = feat_dayofweek_corr_ps.values[:,1][::2]\n",
    "    feat_dayofweek_corr_sp = df[['transaction_amt','dayofweek','user_id']].to_pandas().groupby('user_id').corr('spearman')\n",
    "    feat_dayofweek_corr_sp = feat_dayofweek_corr_sp.values[:,1][::2]\n",
    "    \n",
    "    feat_year_time_cov = df[['transaction_amt','all_sec_time','user_id']].to_pandas().groupby('user_id').cov()\n",
    "    feat_year_time_cov_0 = feat_year_time_cov.values[:,1][::2]\n",
    "    feat_year_time_cov_1 = feat_year_time_cov.values[:,0][::2]\n",
    "    \n",
    "    feat_hour_cov = df[['transaction_amt','hour','user_id']].to_pandas().groupby('user_id').cov()\n",
    "    feat_hour_cov_0 = feat_year_time_cov.values[:,1][::2]\n",
    "    feat_hour_cov_1 = feat_year_time_cov.values[:,0][::2]    \n",
    "\n",
    "    feat_dayofweek_cov = df[['transaction_amt','dayofweek','user_id']].to_pandas().groupby('user_id').cov()\n",
    "    feat_dayofweek_cov_0 = feat_year_time_cov.values[:,1][::2]\n",
    "    feat_dayofweek_cov_1 = feat_year_time_cov.values[:,0][::2]    \n",
    "    \n",
    "    feature_df = cudf.DataFrame({'feat_year_time_corr_ps':feat_year_time_corr_ps,\n",
    "                               'feat_year_time_corr_sp':feat_year_time_corr_sp,\n",
    "                               'feat_hour_corr_ps':feat_hour_corr_ps,\n",
    "                               'feat_hour_corr_sp':feat_hour_corr_sp,\n",
    "                               'feat_dayofweek_corr_ps':feat_dayofweek_corr_ps,\n",
    "                               'feat_dayofweek_corr_sp':feat_dayofweek_corr_sp,\n",
    "                               'feat_year_time_cov_0':feat_year_time_cov_0,\n",
    "                               'feat_year_time_cov_1':feat_year_time_cov_1,\n",
    "                               'feat_hour_cov_0':feat_hour_cov_0,\n",
    "                               'feat_hour_cov_1':feat_hour_cov_1,\n",
    "                               'feat_dayofweek_cov_0':feat_dayofweek_cov_0,\n",
    "                               'feat_dayofweek_cov_1':feat_dayofweek_cov_1})\n",
    "    return feature_df"
   ]
  },
  {
   "cell_type": "code",
   "execution_count": 14,
   "metadata": {},
   "outputs": [],
   "source": [
    "def scipy_features(df):\n",
    "    df['delta_all_sec_time_abs'] = df['delta_all_sec_time'].abs()\n",
    "    group = df[['delta_all_sec_time_abs','user_id']].to_pandas().groupby('user_id')['delta_all_sec_time_abs']\n",
    "    \n",
    "    features = cudf.DataFrame()\n",
    "    features['delta_time_differential_entropy'] = group.progress_aggregate(lambda x: sts.differential_entropy(x.values))\n",
    "    features['delta_time_entropy'] = group.progress_aggregate(lambda x: sts.entropy(x.values))    \n",
    "\n",
    "    \n",
    "    return features"
   ]
  },
  {
   "cell_type": "code",
   "execution_count": 15,
   "metadata": {},
   "outputs": [],
   "source": [
    "def tsfresh_features(df):\n",
    "    df['delta_all_sec_time_abs'] = df['delta_all_sec_time'].abs()\n",
    "    group = df[['delta_all_sec_time_abs','user_id']].to_pandas().groupby('user_id')['delta_all_sec_time_abs']\n",
    "    \n",
    "    feature_df = cudf.DataFrame()\n",
    "    feature_df['delta_time_app_entropy'] = group.progress_aggregate(lambda x: ts_calcs.approximate_entropy(x.values,1,0))\n",
    "    feature_df['delta_time_app_entropyV2'] = group.progress_aggregate(lambda x: ts_calcs.approximate_entropy(x.values,2,1))\n",
    "    \n",
    "    # DEL\n",
    "    #feature_df['delta_time_auto_corr_median_lg'] = group.progress_aggregate(lambda x: ts_calcs.agg_linear_trend(x.values,param=[{'f_agg':'median','maxlag':5}])[0][1])\n",
    "    #feature_df['delta_time_auto_corr_median_sm'] = group.progress_aggregate(lambda x: ts_calcs.agg_linear_trend(x.values,param=[{'f_agg':'median','maxlag':1,'chunk_len':16}])[0][1])\n",
    "    #feature_df['delta_time_auto_corr_std_sm'] = group.progress_aggregate(lambda x: ts_calcs.agg_linear_trend(x.values,param=[{'f_agg':'std','maxlag':5,'chunk_len':16}])[0][1])\n",
    "    #feature_df['delta_time_auto_corr_std_lg'] = group.progress_aggregate(lambda x: ts_calcs.agg_linear_trend(x.values,param=[{'f_agg':'std','maxlag':1,'chunk_len':16}])[0][1])\n",
    "    #feature_df['delta_time_auto_corr_sum_sm'] = group.progress_aggregate(lambda x: ts_calcs.agg_linear_trend(x.values,param=[{'f_agg':'sum','maxlag':5,'chunk_len':16}])[0][1])\n",
    "    #feature_df['delta_time_auto_corr_sum_lg'] = group.progress_aggregate(lambda x: ts_calcs.agg_linear_trend(x.values,param=[{'f_agg':'sum','maxlag':5,'chunk_len':16}])[0][1])\n",
    "    \n",
    "    feature_df['delta_time_aug_dcf_teststat_AIC'] = group.progress_aggregate(lambda x: ts_calcs.augmented_dickey_fuller(x.values,param=[{'attr':'teststat','autolag':'AIC'}])[0][1])\n",
    "    feature_df['delta_time_aug_dcf_teststat_AIC'] = group.progress_aggregate(lambda x: ts_calcs.augmented_dickey_fuller(x.values,param=[{'attr':'p_value','autolag':'AIC'}])[0][1])\n",
    "    \n",
    "    feature_df['delta_time_autocorrelation_5'] = group.progress_aggregate(lambda x: ts_calcs.autocorrelation(x.values,5))\n",
    "    feature_df['delta_time_autocorrelation_1'] = group.progress_aggregate(lambda x: ts_calcs.autocorrelation(x.values,1))\n",
    "    \n",
    "    feature_df['delta_time_benford'] = group.progress_aggregate(lambda x: ts_calcs.benford_correlation(x.values))\n",
    "    feature_df['delta_time_bin_entr_5'] = group.progress_aggregate(lambda x: ts_calcs.binned_entropy(x.values,5))\n",
    "    feature_df['delta_time_bin_entr_32'] = group.progress_aggregate(lambda x: ts_calcs.binned_entropy(x.values,32))\n",
    "    feature_df['delta_time_c3_4'] = group.progress_aggregate(lambda x: ts_calcs.c3(x.values,4))\n",
    "    feature_df['delta_time_c3_6'] = group.progress_aggregate(lambda x: ts_calcs.c3(x.values,6))\n",
    "    feature_df['delta_time_c3_12'] = group.progress_aggregate(lambda x: ts_calcs.c3(x.values,12))\n",
    "    \n",
    "    feature_df['delta_time_q_f1'] = group.progress_aggregate(lambda x: ts_calcs.change_quantiles(x.values,0.25,0.75,False,'std'))\n",
    "    feature_df['delta_time_q_f2'] = group.progress_aggregate(lambda x: ts_calcs.change_quantiles(x.values,0.1,0.9,True,'std'))\n",
    "    feature_df['delta_time_q_f3'] = group.progress_aggregate(lambda x: ts_calcs.change_quantiles(x.values,0.25,0.75,False,'mean'))\n",
    "    feature_df['delta_time_q_f4'] = group.progress_aggregate(lambda x: ts_calcs.change_quantiles(x.values,0.35,0.65,False,'median'))\n",
    "    \n",
    "    feature_df['delta_time_cid_ce'] = group.progress_aggregate(lambda x: ts_calcs.cid_ce(x.values,False))\n",
    "    feature_df['delta_time_cid_ce_norm'] = group.progress_aggregate(lambda x: ts_calcs.cid_ce(x.values,True))\n",
    "    \n",
    "    feature_df['delta_time_enrg_ratio_bch_1'] = group.progress_aggregate(lambda x: ts_calcs.energy_ratio_by_chunks(x.values,param=[{\"num_segments\": 10, \"segment_focus\": 2}])[0][1])\n",
    "    feature_df['delta_time_enrg_ratio_bch_2'] = group.progress_aggregate(lambda x: ts_calcs.energy_ratio_by_chunks(x.values,param=[{\"num_segments\": 20, \"segment_focus\": 4}])[0][1])\n",
    "    feature_df['delta_time_enrg_ratio_bch_3'] = group.progress_aggregate(lambda x: ts_calcs.energy_ratio_by_chunks(x.values,param=[{\"num_segments\": 30, \"segment_focus\": 6}])[0][1])\n",
    "    \n",
    "    feature_df['delta_time_first_loc_max'] = group.progress_aggregate(lambda x: ts_calcs.first_location_of_maximum(x.values))\n",
    "    feature_df['delta_time_first_loc_min'] = group.progress_aggregate(lambda x: ts_calcs.first_location_of_minimum(x.values))\n",
    "    feature_df['delta_time_last_loc_max'] = group.progress_aggregate(lambda x: ts_calcs.last_location_of_maximum(x.values))\n",
    "    feature_df['delta_time_last_loc_min'] = group.progress_aggregate(lambda x: ts_calcs.last_location_of_minimum(x.values))\n",
    "\n",
    "    \n",
    "    feature_df['delta_time_frorier_entropy'] = group.progress_aggregate(lambda x: ts_calcs.fourier_entropy(x.values,8))\n",
    "    feature_df['delta_time_frorier_entropy_16'] = group.progress_aggregate(lambda x: ts_calcs.fourier_entropy(x.values,16))\n",
    "    feature_df['delta_time_first_q_mass_25'] = group.progress_aggregate(lambda x: ts_calcs.index_mass_quantile(x.values,param=[{'q':0.25}])[0][1])\n",
    "    feature_df['delta_time_first_q_mass_75'] = group.progress_aggregate(lambda x: ts_calcs.index_mass_quantile(x.values,param=[{'q':0.75}])[0][1])\n",
    "    feature_df['delta_time_LDR'] = group.progress_aggregate(lambda x: ts_calcs.large_standard_deviation(x.values,0.1))\n",
    "    feature_df['delta_time_ZIV'] = group.progress_aggregate(lambda x: ts_calcs.lempel_ziv_complexity(x.values,2))\n",
    "    \n",
    "    feature_df['delta_time_longest_strike_above_mean'] = group.progress_aggregate(lambda x: ts_calcs.longest_strike_above_mean(x.values))\n",
    "    feature_df['delta_time_longest_strike_below_mean'] = group.progress_aggregate(lambda x: ts_calcs.longest_strike_below_mean(x.values))\n",
    "    feature_df['delta_time_max_langevin_fixed_point'] = group.progress_aggregate(lambda x: ts_calcs.max_langevin_fixed_point(x.values,5,5))\n",
    "    feature_df['delta_time_mean_second_derivative_central'] = group.progress_aggregate(lambda x: ts_calcs.mean_second_derivative_central(x.values))\n",
    "    feature_df['delta_time_number_cwt_peaks'] = group.progress_aggregate(lambda x: ts_calcs.number_cwt_peaks(x.values,12))\n",
    "    \n",
    "    feature_df['delta_time_number_peaks_2'] = group.progress_aggregate(lambda x: ts_calcs.number_peaks(x.values,2))\n",
    "    feature_df['delta_time_number_peaks_6'] = group.progress_aggregate(lambda x: ts_calcs.number_peaks(x.values,6))\n",
    "    feature_df['delta_time_number_peaks_15'] = group.progress_aggregate(lambda x: ts_calcs.number_peaks(x.values,15))    \n",
    "    \n",
    "    feature_df['delta_time_HUETA_v1'] = group.progress_aggregate(lambda x: ts_calcs.percentage_of_reoccurring_datapoints_to_all_datapoints(x.values))\n",
    "    feature_df['delta_time_HUETA_v2'] = group.progress_aggregate(lambda x: ts_calcs.percentage_of_reoccurring_values_to_all_values(x.values))\n",
    "    feature_df['delta_time_HUETA_v3'] = group.progress_aggregate(lambda x: ts_calcs.permutation_entropy(x.values,1,3))\n",
    "    feature_df['delta_time_HUETA_v4'] = group.progress_aggregate(lambda x: ts_calcs.ratio_beyond_r_sigma(x.values,0.5))\n",
    "    feature_df['delta_time_HUETA_v5'] = group.progress_aggregate(lambda x: ts_calcs.sample_entropy(x.values))\n",
    "    \n",
    "    feature_df['delta_time_skewness'] = group.progress_aggregate(lambda x: ts_calcs.skewness(x.values)) \n",
    "    #feature_df['delta_time_spkt_welch_density'] = group.progress_aggregate(lambda x: ts_calcs.spkt_welch_density(x.values,param=[{'coeff':0.25}])[0][1]) DL\n",
    "    #feature_df['delta_time_spkt_welch_density-05'] = group.progress_aggregate(lambda x: ts_calcs.spkt_welch_density(x.values,param=[{'coeff':0.5}])[0][1]) DL\n",
    "    feature_df['delta_time_sum_of_reoccurring_data_points'] = group.progress_aggregate(lambda x: ts_calcs.sum_of_reoccurring_data_points(x.values))\n",
    "    feature_df['delta_time_sum_of_reoccurring_values'] = group.progress_aggregate(lambda x: ts_calcs.sum_of_reoccurring_values(x.values))\n",
    "    feature_df['delta_time_time_reversal_asymmetry_statistic'] = group.progress_aggregate(lambda x: ts_calcs.time_reversal_asymmetry_statistic(x.values,1))\n",
    "    feature_df['delta_time_time_reversal_asymmetry_statistic_4'] = group.progress_aggregate(lambda x: ts_calcs.time_reversal_asymmetry_statistic(x.values,4))\n",
    "    \n",
    "    return feature_df "
   ]
  },
  {
   "cell_type": "code",
   "execution_count": 16,
   "metadata": {},
   "outputs": [],
   "source": [
    "def prepare_mcc(df):\n",
    "    value_counts = transaction_data['mcc_code'].value_counts()\n",
    "    important_mcc = value_counts[value_counts > 40_000].index.values.tolist()\n",
    "    df['important_mcc'] = [x if x in important_mcc else -1 for x in df['mcc_code'].to_pandas()]\n",
    "    return df\n",
    "\n",
    "transaction_data = prepare_mcc(transaction_data)"
   ]
  },
  {
   "cell_type": "code",
   "execution_count": 17,
   "metadata": {},
   "outputs": [],
   "source": [
    "def make_money_features(df):\n",
    "    simple_features = df.groupby('user_id')['transaction_amt'].agg(['mean', 'std', 'min', 'max', 'median','sum',lambda x:x.quantile(0.25),lambda x: x.quantile(0.75)])\n",
    "    simple_features.columns = [f'simple_features_{c}' for c in simple_features.columns]\n",
    "    simple_features['simple_features_diff'] = simple_features['simple_features_max'] - simple_features['simple_features_min']\n",
    "    simple_features['simple_features_step'] =  simple_features['simple_features_mean'] / simple_features['simple_features_diff']\n",
    "    \n",
    "    month_embeds = cudf.pivot_table(\n",
    "                             df,\n",
    "                             index =['user_id'],\n",
    "                             values=['transaction_amt'],\n",
    "                             columns=['important_mcc'],\n",
    "                             aggfunc=['count','mean','max','std','min','median']).fillna(0).sort_index()\n",
    "    \n",
    "    #df['currency_rk'] = df['currency_rk'].apply(lambda x: 0 if x > 1 else x)\n",
    "    curr_embeds = cudf.pivot_table(\n",
    "                             df,\n",
    "                             index =['user_id'],\n",
    "                             values=['transaction_amt'],\n",
    "                             columns=['currency_rk'],\n",
    "                             aggfunc=['count','mean','max','std','min','median']).fillna(0).sort_index()\n",
    "\n",
    "    \n",
    "    month_embeds = cudf.DataFrame(month_embeds.values)\n",
    "    month_embeds.columns = [f'mony_embeds_{i}' for i in month_embeds.columns]\n",
    "    month_embeds.index = simple_features.index\n",
    "    \n",
    "    curr_embeds = cudf.DataFrame(curr_embeds.values)\n",
    "    curr_embeds.columns = [f'curr_embeds_{i}' for i in curr_embeds.columns]\n",
    "    curr_embeds.index = simple_features.index\n",
    "\n",
    "    \n",
    "    money_features = cudf.concat([simple_features.sort_index(),\n",
    "                                curr_embeds,month_embeds],axis=1)\n",
    "\n",
    "    return money_features\n",
    "\n",
    "def make_money_features_factors(df):\n",
    "    df['operations_type'] = df['transaction_amt'].map(lambda x: 1 if x >= 0 else 0)\n",
    "    df['transaction_amt_abs'] = df['transaction_amt'].abs()\n",
    "    simple_features = df.groupby('user_id')['operations_type'].agg(['mean', 'std', 'min', 'max', 'median'])\n",
    "    simple_features.columns = [f'simple_opr_features_{c}' for c in simple_features.columns]\n",
    "    \n",
    "    simple_oper_embeds = cudf.pivot_table(\n",
    "                             df,\n",
    "                             index =['user_id'],\n",
    "                             values=['transaction_amt_abs'],\n",
    "                             columns=['operations_type'],\n",
    "                             aggfunc=['count','mean','max','std','min','median','sum',lambda x:x.quantile(0.25),lambda x: x.quantile(0.75)]).fillna(0).sort_index()\n",
    "\n",
    "    #mcc_oper_embeds = cudf.pivot_table(\n",
    "    #                         transaction_data,\n",
    "    #                         index =['user_id'],\n",
    "    #                         values=['transaction_amt_abs'],\n",
    "    #                         columns=['important_mcc','operations_type'],\n",
    "    #                         aggfunc=['count','mean','max','std','min','median']).fillna(0).sort_index()\n",
    "    \n",
    "    #mcc_oper_embeds = cudf.DataFrame(mcc_oper_embeds.values)\n",
    "    #mcc_oper_embeds.columns = [f'mony_oper_embeds_{i}' for i in mcc_oper_embeds.columns]\n",
    "    #mcc_oper_embeds.index = simple_features.index\n",
    "    \n",
    "    simple_oper_embeds = cudf.DataFrame(simple_oper_embeds.values)\n",
    "    simple_oper_embeds.columns = [f'simple_oper_embeds_{i}' for i in simple_oper_embeds.columns]\n",
    "    simple_oper_embeds.index = simple_features.index\n",
    "\n",
    "    \n",
    "    money_features = cudf.concat([simple_features.sort_index(),simple_oper_embeds],axis=1)\n",
    "\n",
    "    return money_features"
   ]
  },
  {
   "cell_type": "code",
   "execution_count": 18,
   "metadata": {},
   "outputs": [],
   "source": [
    "def time_mcc_feature(df,idxes):\n",
    "    \n",
    "    time_mcc_embeds = cudf.pivot_table(\n",
    "                             transaction_data,\n",
    "                             index =['user_id'],\n",
    "                             values=['all_year_time'],\n",
    "                             columns=['important_mcc','operations_type'],\n",
    "                             aggfunc=['mean','max','std','min','median','last']).fillna(-1).sort_index()\n",
    "    \n",
    "    time_mcc_embeds = cudf.DataFrame(time_mcc_embeds.values)\n",
    "    time_mcc_embeds.columns = [f'time_mcc_embeds_{i}' for i in time_mcc_embeds.columns]\n",
    "    time_mcc_embeds.index = idxes\n",
    "    \n",
    "    return time_mcc_embeds\n",
    "\n",
    "def time_oper_feature(df,idxes):\n",
    "    \n",
    "    time_oper_feature = cudf.pivot_table(\n",
    "                             transaction_data,\n",
    "                             index =['user_id'],\n",
    "                             values=['delta_all_sec_time'],\n",
    "                             columns=['operations_type'],\n",
    "                             aggfunc=['mean','max','std','min','median','var','last']).fillna(-1).sort_index()\n",
    "    \n",
    "    time_oper_feature = cudf.DataFrame(time_oper_feature.values)\n",
    "    time_oper_feature.columns = [f'time_oper_embeds_{i}' for i in time_oper_feature.columns]\n",
    "    time_oper_feature.index = idxes\n",
    "    \n",
    "    return time_oper_feature\n",
    "\n",
    "def distance_calc_step_5(x,step=5):\n",
    "    dist = []\n",
    "    num_steps = len(x) // 5 -1\n",
    "    for i in range(num_steps):\n",
    "        dist += [sum(x[i*5:(i+1)*5]) - sum(x[(i+1)*5:(i+2)*5])]\n",
    "    \n",
    "    if dist == []:\n",
    "        return [-1,-1]\n",
    "    return dist\n",
    "\n",
    "def distance_calc(x):\n",
    "    dist = []\n",
    "    for i in range(len(x)-1):\n",
    "        dist += [x[i+1] - x[i]]\n",
    "    return dist\n",
    "\n",
    "def calc_corr_synth(x):\n",
    "    return cudf.DataFrame({'feature':x,'idx':range(len(x))}).corr()['feature']['idx']\n",
    "    \n",
    "def polifit_second(x):\n",
    "    if len(x) % 2 == 0:\n",
    "        return np.polyfit(range(len(x) // 2), x[len(x) // 2:], 1)[1]\n",
    "    else:\n",
    "        return np.polyfit(range(len(x) // 2 + 1), x[len(x) // 2:], 1)[1]\n",
    "\n",
    "\n",
    "def shift_features(df,shifter_f=distance_calc):\n",
    "    df_pandas = df[['user_id','all_sec_time']].to_pandas()\n",
    "    \n",
    "    times_featues = df_pandas.groupby('user_id').agg(lambda x:sorted(x.tolist()))\n",
    "    times_featues['distances'] = times_featues['all_sec_time'].map(shifter_f)\n",
    "    \n",
    "    feature_df = cudf.DataFrame()\n",
    "    feature_df['time_step_max'] = times_featues['distances'].progress_map(np.max)\n",
    "    feature_df['time_step_min'] = times_featues['distances'].progress_map(np.min)\n",
    "    feature_df['time_step_mean'] = times_featues['distances'].progress_map(np.mean)\n",
    "    feature_df['time_step_std'] = times_featues['distances'].progress_map(np.std)\n",
    "    feature_df['time_step_median'] = times_featues['distances'].progress_map(np.median)\n",
    "    feature_df['time_step_q_75'] = times_featues['distances'].progress_map(lambda x:np.quantile(x,0.75))\n",
    "    feature_df['time_step_q_25'] = times_featues['distances'].progress_map(lambda x:np.quantile(x,0.25))\n",
    "    feature_df['time_step_q_90'] = times_featues['distances'].progress_map(lambda x:np.quantile(x,0.90))\n",
    "    feature_df['time_step_dist_entropy'] = times_featues['distances'].progress_map(lambda x: sts.differential_entropy(x))\n",
    "    #feature_df['time_step_q_55'] = times_featues['distances'].progress_map(lambda x:np.quantile(x,0.55))\n",
    "    #feature_df['time_step_q_45'] = times_featues['distances'].progress_map(lambda x:np.quantile(x,0.45))\n",
    "    #feature_df['synth_corr'] = times_featues['distances'].progress_map(calc_corr_synth)\n",
    "    feature_df['time_step_polyfit'] = times_featues['distances'].progress_map(lambda x:np.polyfit(range(len(x)), x, 1)[1])\n",
    "    feature_df['time_step_polyfit_st'] = times_featues['distances'].progress_map(lambda x:np.polyfit(range(len(x)), x, 1)[0])\n",
    "    feature_df['time_step_polyfit_first_per'] = times_featues['distances'].progress_map(lambda x:np.polyfit(range(len(x) // 2), x[:len(x) // 2], 1)[1])\n",
    "    feature_df['time_step_polyfit_second_per'] = times_featues['distances'].progress_map(polifit_second)\n",
    "    feature_df['time_step_polyfit_otn'] = feature_df['time_step_polyfit_first_per'] - feature_df['time_step_polyfit_second_per']\n",
    "    \n",
    "    feature_df['time_step_skew'] = times_featues['distances'].progress_map(lambda x: skew(x))\n",
    "    feature_df['time_step_last'] = times_featues['distances'].progress_map(lambda x: x[-1])\n",
    "    #feature_df['time_step_kstat'] = times_featues['distances'].progress_map(lambda x: kstat(x))\n",
    "    #feature_df['time_step_expectile'] = times_featues['distances'].progress_map(lambda x: sts.expectile(x))\n",
    "    #feature_df['time_step_moment'] = times_featues['distances'].progress_map(lambda x: sts.moment(x))\n",
    "    #feature_df['time_step_kurtosis'] = times_featues['distances'].progress_map(lambda x: sts.kurtosis(x))\n",
    "    #feature_df['time_step_hmean'] = times_featues['distances'].progress_map(lambda x: sts.hmean(x))\n",
    "    #feature_df['time_step_kstatvar'] = times_featues['distances'].progress_map(lambda x: sts.kstatvar(x))\n",
    "    #feature_df['time_step_iqr'] = times_featues['distances'].progress_map(lambda x: sts.iqr(x))\n",
    "    #feature_df['time_step_entropy'] = times_featues['distances'].progress_map(lambda x: sts.entropy(x))\n",
    "\n",
    "    #feature_df['time_step_polyfit_st_2'] = times_featues['distances'].progress_map(lambda x:np.polyfit(range(len(x)), x, 2)[2])\n",
    "    feature_df.index = times_featues.index.tolist()\n",
    "    \n",
    "    return feature_df"
   ]
  },
  {
   "cell_type": "code",
   "execution_count": 19,
   "metadata": {},
   "outputs": [],
   "source": [
    "def calc_counts_oper_per(x,step=604800):\n",
    "    x = np.array(x)\n",
    "    step = 604800 // 5\n",
    "    prep_features = []\n",
    "    end_val = x[-1]\n",
    "    step_end = x[0]\n",
    "    step_sart = -1\n",
    "    \n",
    "    while step_end <= end_val:\n",
    "        step_sart = step_end\n",
    "        step_end += step\n",
    "        prep_features += [len(x[(x >= step_sart) & (x <= step_end)])]\n",
    "    \n",
    "    return prep_features\n",
    "\n",
    "def time_brutforce(df):\n",
    "    df_pandas = df[['user_id','all_sec_time']].to_pandas()\n",
    "    \n",
    "    times_featues = df_pandas.groupby('user_id').agg(lambda x:sorted(x.tolist()))\n",
    "    times_featues['counts'] = times_featues['all_sec_time'].progress_map(calc_counts_oper_per)\n",
    "    \n",
    "    feature_df = cudf.DataFrame()\n",
    "    feature_df['hard_time_step_count'] = times_featues['counts'].progress_map(len)\n",
    "    feature_df['hard_time_step_count_0'] = times_featues['counts'].progress_map(lambda x:x.count(0))\n",
    "    feature_df['hard_time_step_max'] = times_featues['counts'].progress_map(np.max)\n",
    "    feature_df['hard_time_step_min'] = times_featues['counts'].progress_map(np.min)\n",
    "    feature_df['hard_time_step_mean'] = times_featues['counts'].progress_map(np.mean)\n",
    "    feature_df['hard_time_step_std'] = times_featues['counts'].progress_map(np.std)\n",
    "    feature_df['hard_time_step_median'] = times_featues['counts'].progress_map(np.median)\n",
    "    feature_df['hard_time_step_q_25'] = times_featues['counts'].progress_map(lambda x:np.quantile(x,0.75))\n",
    "    feature_df['hard_time_step_q_75'] = times_featues['counts'].progress_map(lambda x:np.quantile(x,0.25))\n",
    "    #feature_df['hard_time_step_polyfit'] = times_featues['counts'].progress_map(lambda x:np.polyfit(range(len(x)), x, 1)[1])\n",
    "    #feature_df['hard_time_step_polyfit_st'] = times_featues['counts'].progress_map(lambda x:np.polyfit(range(len(x)), x, 1)[0])\n",
    "    feature_df.index = times_featues.index.tolist()\n",
    "    \n",
    "    return feature_df\n",
    "\n",
    "def nununique_features(df):\n",
    "    df_pandas = df[['user_id','days_to_reprort']].to_pandas()\n",
    "    \n",
    "    times_featues = df_pandas.groupby('user_id').agg(lambda x:sorted(x.tolist()))\n",
    "    times_featues['steps'] = times_featues['days_to_reprort'].map(np.diff)\n",
    "\n",
    "    feature_df = cudf.DataFrame()\n",
    "    feature_df['mcc_nuniue'] = df.groupby('user_id')['mcc_code'].nunique()\n",
    "    feature_df['hour_nuniue'] = df.groupby('user_id')['hour'].nunique()\n",
    "    feature_df['days_nuniue'] = df.groupby('user_id')['days_to_reprort'].nunique()\n",
    "    feature_df['currency_nuniue'] = df.groupby('user_id')['currency_rk'].nunique()\n",
    "    feature_df['step_nuniue'] = times_featues['steps'].map(lambda x:len(np.unique(x)))\n",
    "    return feature_df\n",
    "\n",
    "def get_top_k_v2(df,sample_rate=0.1,min_sample=60):\n",
    "    counts = df.groupby('user_id')['mcc_code'].agg('count')\n",
    "    counts = counts.sort_index().values.tolist()\n",
    "    idxes = []\n",
    "    for x in counts:\n",
    "        idxes += list(range(x))\n",
    "        \n",
    "    df['idx_of_transaction'] = idxes\n",
    "    df['transaction_amt_abs'] = df['transaction_amt'].abs()\n",
    "    df['all_transaction_count'] = df.groupby('user_id')['mcc_code'].transform('count')\n",
    "    df['is_last_sample'] = df.apply(lambda x: x.idx_of_transaction >= x.all_transaction_count * (1 - sample_rate))\n",
    "    df_top_k = df[(df['all_transaction_count'] >= min_sample) & (df['is_last_sample'])]\n",
    "    \n",
    "    print(df_top_k.groupby('user_id')['mcc_code'].count().min())\n",
    "    time_features = generate_time_features(df_top_k)\n",
    "    time_features_oper = generate_time_features_factors(df_top_k,time_features.index)\n",
    "\n",
    "    sts_features = scipy_features(df_top_k)\n",
    "    corr_features = get_corr_cov_features(df_top_k)\n",
    "    corr_features.index = time_features.index\n",
    "    shift_feature = shift_features(df_top_k)\n",
    "    #bytd_features = calc_simple_byrd_features(df_top_k)\n",
    "    #brut_force_v2 = time_brutforce(transaction_data)\n",
    "\n",
    "    mony_features = make_money_features_factors(df_top_k)\n",
    "    nununique_feature = nununique_features(df_top_k)\n",
    "    return cudf.concat([mony_features,nununique_feature,shift_feature,sts_features,time_features,time_features_oper,corr_features],axis=1)\n",
    "\n",
    "def get_top_k(df,period=122.5,min_sample=10):\n",
    "    df_top_k = df[df['days_to_reprort'] <= period].copy()\n",
    "    df_top_k['count_tr'] = df_top_k.groupby('user_id')['mcc_code'].transform('count')\n",
    "    df_top_k = df_top_k[df_top_k['count_tr'] > min_sample]\n",
    "    \n",
    "    print(df_top_k.groupby('user_id').agg('count')['transaction_dttm'].mean())\n",
    "    \n",
    "    time_features = generate_time_features(df_top_k)\n",
    "    time_features_oper = generate_time_features_factors(df_top_k,time_features.index)\n",
    "\n",
    "    sts_features = scipy_features(df_top_k)\n",
    "    corr_features = get_corr_cov_features(df_top_k)\n",
    "    corr_features.index = time_features.index\n",
    "    shift_feature = shift_features(df_top_k)\n",
    "    #bytd_features = calc_simple_byrd_features(df_top_k)\n",
    "    #brut_force_v2 = time_brutforce(transaction_data)\n",
    "\n",
    "    mony_features = make_money_features_factors(df_top_k)\n",
    "    nununique_feature = nununique_features(df_top_k)\n",
    "    return cudf.concat([mony_features,nununique_feature,shift_feature,sts_features,time_features,time_features_oper,corr_features],axis=1)\n",
    "\n",
    "\n",
    "def last_count(df,bins=[5,10,15,20,25,30,35,45,50,60]):\n",
    "    df['transaction_amt_abs'] = df['transaction_amt'].abs()\n",
    "    feature_df = cudf.DataFrame(index=df.groupby('user_id')['mcc_code'].agg('count').index)\n",
    "    for x in bins:\n",
    "        feature_df[f'count_{x}_prev'] = df[df['days_to_reprort'] > x + 100].groupby('user_id')['mcc_code'].agg('count')\n",
    "        feature_df[f'count_{x}_last'] = df[df['days_to_reprort'] <= x + 100].groupby('user_id')['mcc_code'].agg('count')\n",
    "        feature_df[f'percent_{x}'] =  feature_df[f'count_{x}_last'] / (feature_df[f'count_{x}_last'] + feature_df[f'count_{x}_prev'])\n",
    "        \n",
    "        sum_prev = df[df['days_to_reprort'] > x + 100].groupby('user_id')['transaction_amt_abs'].agg('sum')\n",
    "        sum_last = df[df['days_to_reprort'] <= x + 100].groupby('user_id')['transaction_amt_abs'].agg('sum')\n",
    "        feature_df[f'sum_percent_{x}'] = sum_last / (sum_last + sum_prev)\n",
    "        \n",
    "        mean_prev = df[df['days_to_reprort'] > x + 100].groupby('user_id')['transaction_amt_abs'].agg('mean')\n",
    "        mean_last = df[df['days_to_reprort'] <= x + 100].groupby('user_id')['transaction_amt_abs'].agg('mean')\n",
    "        feature_df[f'mean_percent_{x}'] = mean_last / (mean_prev + mean_last)\n",
    "    \n",
    "        std_prev = df[df['days_to_reprort'] > x + 100].groupby('user_id')['transaction_amt_abs'].agg('std')\n",
    "        std_last = df[df['days_to_reprort'] <= x + 100].groupby('user_id')['transaction_amt_abs'].agg('std')\n",
    "        feature_df[f'std_percent_{x}'] = std_last / (std_last + std_prev)\n",
    "        \n",
    "        max_prev = df[df['days_to_reprort'] > x + 100].groupby('user_id')['transaction_amt_abs'].agg('max')\n",
    "        max_last = df[df['days_to_reprort'] <= x + 100].groupby('user_id')['transaction_amt_abs'].agg('max')\n",
    "        feature_df[f'max_percent_{x}'] = max_last / max_prev\n",
    "\n",
    "    return feature_df.fillna(-1)\n",
    "\n",
    "def start_end_distribution(df,bins=[0.05,0.1,0.15,0.2,0.25,0.3,0.4,0.5]):\n",
    "    counts = df.groupby('user_id')['mcc_code'].agg('count')\n",
    "    counts = counts.sort_index().values.tolist()\n",
    "\n",
    "    idxes = []\n",
    "    for x in counts:\n",
    "        idxes += list(range(x))\n",
    "        \n",
    "    df['idx_of_transaction'] = idxes\n",
    "    df['transaction_amt_abs'] = df['transaction_amt'].abs()\n",
    "    df['all_transaction_count'] = df.groupby('user_id')['mcc_code'].transform('count')\n",
    "    feature_df = cudf.DataFrame(index=df.groupby('user_id')['mcc_code'].agg('count').index)\n",
    "\n",
    "    for bin in tqdm(bins):\n",
    "        df['is_first_period'] = df.apply(lambda x: x.idx_of_transaction <= x.all_transaction_count * bin)\n",
    "        df['is_last_period'] = df.apply(lambda x: x.idx_of_transaction >= x.all_transaction_count * (1 - bin))\n",
    "        df_first_period = df[(df['all_transaction_count'] >= 25) & (df['is_first_period'])]\n",
    "        df_last_period = df[(df['all_transaction_count'] >= 25) & (df['is_last_period'])]\n",
    "            \n",
    "        sum_prev = df_first_period.groupby('user_id')['transaction_amt_abs'].agg('sum')\n",
    "        sum_last = df_last_period.groupby('user_id')['transaction_amt_abs'].agg('sum')\n",
    "        feature_df[f'distr_sum_percent_{bin}'] = sum_last / sum_prev\n",
    "        \n",
    "        mean_prev = df_first_period.groupby('user_id')['transaction_amt_abs'].agg('mean')\n",
    "        mean_last = df_last_period.groupby('user_id')['transaction_amt_abs'].agg('mean')\n",
    "        feature_df[f'distr_mean_percent_{bin}'] = mean_last / mean_prev\n",
    "        \n",
    "        median_prev = df_first_period.groupby('user_id')['transaction_amt_abs'].agg('median')\n",
    "        median_last = df_last_period.groupby('user_id')['transaction_amt_abs'].agg('median')\n",
    "        feature_df[f'distr_median_percent_{bin}'] = median_prev / median_last\n",
    "\n",
    "    \n",
    "        std_prev = df_first_period.groupby('user_id')['transaction_amt_abs'].agg('std')\n",
    "        std_last = df_last_period.groupby('user_id')['transaction_amt_abs'].agg('std')\n",
    "        feature_df[f'distr_std_percent_{bin}'] = std_last / std_prev\n",
    "        \n",
    "        max_prev = df_first_period.groupby('user_id')['transaction_amt_abs'].agg('max')\n",
    "        max_last = df_last_period.groupby('user_id')['transaction_amt_abs'].agg('max')\n",
    "        feature_df[f'distr_max_percent_{bin}'] = max_last / max_prev\n",
    "\n",
    "    return feature_df.fillna(-1)\n"
   ]
  },
  {
   "cell_type": "code",
   "execution_count": 20,
   "metadata": {},
   "outputs": [],
   "source": [
    "def get_weekend_features(df,idx):\n",
    "    df['operations_type'] = df['transaction_amt'].map(lambda x: 1 if x >= 0 else 0)\n",
    "    df['transaction_amt_abs'] = df['transaction_amt'].abs()\n",
    "    \n",
    "    time_feature = cudf.pivot_table(\n",
    "                             df,\n",
    "                             index =['user_id'],\n",
    "                             values=['delta_all_sec_time'],\n",
    "                             columns=['operations_type','cl_is_weekend'],\n",
    "                             aggfunc=['mean','max','std','min','median','var','last']).fillna(-1).sort_index()\n",
    "    \n",
    "    mony_feature = cudf.pivot_table(\n",
    "                             df,\n",
    "                             index =['user_id'],\n",
    "                             values=['transaction_amt_abs'],\n",
    "                             columns=['operations_type','cl_is_weekend'],\n",
    "                             aggfunc=['mean','max','std','min','median','var','last']).fillna(-1).sort_index()\n",
    "    \n",
    "    time_feature = cudf.DataFrame(time_feature.values)\n",
    "    time_feature.columns = [f'weekend_time_embeds_{i}' for i in time_feature.columns]\n",
    "    time_feature.index = idx\n",
    "    \n",
    "    mony_feature = cudf.DataFrame(mony_feature.values)\n",
    "    mony_feature.columns = [f'weekend_abs_embeds_{i}' for i in mony_feature.columns]\n",
    "    mony_feature.index = idx\n",
    "\n",
    "    \n",
    "    features = cudf.concat([mony_feature,time_feature],axis=1)\n",
    "\n",
    "    return features\n",
    "\n",
    "def get_month_features(df,idx):\n",
    "    df['operations_type'] = df['transaction_amt'].map(lambda x: 1 if x >= 0 else 0)\n",
    "    df['transaction_amt_abs'] = df['transaction_amt'].abs()\n",
    "    \n",
    "    #time_feature = cudf.pivot_table(\n",
    "    #                         df,\n",
    "    #                         index =['user_id'],\n",
    "    #                         values=['delta_all_sec_time'],\n",
    "    #                         columns=['operations_type','cl_is_weekend'],\n",
    "    #                         aggfunc=['mean','max','std','min','median','var','last']).fillna(-1).sort_index()\n",
    "    \n",
    "    mony_feature = cudf.pivot_table(\n",
    "                             df,\n",
    "                             index =['user_id'],\n",
    "                             values=['transaction_amt_abs'],\n",
    "                             columns=['operations_type','mounth_until_report'],\n",
    "                             aggfunc=['mean','max','std','min','median']).fillna(-1).sort_index()\n",
    "    \n",
    "    mony_feature = cudf.DataFrame(mony_feature.values)\n",
    "    mony_feature.columns = [f'month_mony_abs_embeds_{i}' for i in mony_feature.columns]\n",
    "    mony_feature.index = idx\n",
    "\n",
    "    return mony_feature"
   ]
  },
  {
   "cell_type": "code",
   "execution_count": 21,
   "metadata": {
    "tags": []
   },
   "outputs": [
    {
     "data": {
      "application/vnd.jupyter.widget-view+json": {
       "model_id": "f2ed136c11ce4c6fab2e6c5d5f8d712a",
       "version_major": 2,
       "version_minor": 0
      },
      "text/plain": [
       "  0%|          | 0/96000 [00:00<?, ?it/s]"
      ]
     },
     "metadata": {},
     "output_type": "display_data"
    },
    {
     "data": {
      "application/vnd.jupyter.widget-view+json": {
       "model_id": "43b561792d4e4970b5d0c563b8df8091",
       "version_major": 2,
       "version_minor": 0
      },
      "text/plain": [
       "  0%|          | 0/96000 [00:00<?, ?it/s]"
      ]
     },
     "metadata": {},
     "output_type": "display_data"
    },
    {
     "data": {
      "application/vnd.jupyter.widget-view+json": {
       "model_id": "115fa921a69d4001b1130232f3e18c01",
       "version_major": 2,
       "version_minor": 0
      },
      "text/plain": [
       "  0%|          | 0/96000 [00:00<?, ?it/s]"
      ]
     },
     "metadata": {},
     "output_type": "display_data"
    },
    {
     "data": {
      "application/vnd.jupyter.widget-view+json": {
       "model_id": "621ef93174b349bf91691f103923b288",
       "version_major": 2,
       "version_minor": 0
      },
      "text/plain": [
       "  0%|          | 0/96000 [00:00<?, ?it/s]"
      ]
     },
     "metadata": {},
     "output_type": "display_data"
    },
    {
     "data": {
      "application/vnd.jupyter.widget-view+json": {
       "model_id": "1950588e0b634a388806cb00bacf7f33",
       "version_major": 2,
       "version_minor": 0
      },
      "text/plain": [
       "  0%|          | 0/96000 [00:00<?, ?it/s]"
      ]
     },
     "metadata": {},
     "output_type": "display_data"
    },
    {
     "data": {
      "application/vnd.jupyter.widget-view+json": {
       "model_id": "a014584dc3dd4775b50d8048b061a1ed",
       "version_major": 2,
       "version_minor": 0
      },
      "text/plain": [
       "  0%|          | 0/96000 [00:00<?, ?it/s]"
      ]
     },
     "metadata": {},
     "output_type": "display_data"
    },
    {
     "data": {
      "application/vnd.jupyter.widget-view+json": {
       "model_id": "b12de00df49f4fc7863da50e2a081775",
       "version_major": 2,
       "version_minor": 0
      },
      "text/plain": [
       "  0%|          | 0/96000 [00:00<?, ?it/s]"
      ]
     },
     "metadata": {},
     "output_type": "display_data"
    },
    {
     "data": {
      "application/vnd.jupyter.widget-view+json": {
       "model_id": "8ca075546b7a4ae5a9a6985213e55887",
       "version_major": 2,
       "version_minor": 0
      },
      "text/plain": [
       "  0%|          | 0/96000 [00:00<?, ?it/s]"
      ]
     },
     "metadata": {},
     "output_type": "display_data"
    },
    {
     "data": {
      "application/vnd.jupyter.widget-view+json": {
       "model_id": "35583e112d9f4754abd365c947b3b59b",
       "version_major": 2,
       "version_minor": 0
      },
      "text/plain": [
       "  0%|          | 0/96000 [00:00<?, ?it/s]"
      ]
     },
     "metadata": {},
     "output_type": "display_data"
    },
    {
     "data": {
      "application/vnd.jupyter.widget-view+json": {
       "model_id": "89f6622bd4e74c3ea25a20c37486ab8c",
       "version_major": 2,
       "version_minor": 0
      },
      "text/plain": [
       "  0%|          | 0/96000 [00:00<?, ?it/s]"
      ]
     },
     "metadata": {},
     "output_type": "display_data"
    },
    {
     "data": {
      "application/vnd.jupyter.widget-view+json": {
       "model_id": "22ec0088c42b4a2b8e5373b68ef085eb",
       "version_major": 2,
       "version_minor": 0
      },
      "text/plain": [
       "  0%|          | 0/96000 [00:00<?, ?it/s]"
      ]
     },
     "metadata": {},
     "output_type": "display_data"
    },
    {
     "name": "stderr",
     "output_type": "stream",
     "text": [
      "/opt/conda/envs/rapids/lib/python3.9/site-packages/scipy/stats/_entropy.py:404: RuntimeWarning: divide by zero encountered in log\n",
      "  logs = np.log(n * differences / (ci * m))\n"
     ]
    },
    {
     "data": {
      "application/vnd.jupyter.widget-view+json": {
       "model_id": "0a777a2709454a338f185fd977555e77",
       "version_major": 2,
       "version_minor": 0
      },
      "text/plain": [
       "  0%|          | 0/96000 [00:00<?, ?it/s]"
      ]
     },
     "metadata": {},
     "output_type": "display_data"
    },
    {
     "data": {
      "application/vnd.jupyter.widget-view+json": {
       "model_id": "ed23028bc9c643268a92ab8a828d74c9",
       "version_major": 2,
       "version_minor": 0
      },
      "text/plain": [
       "  0%|          | 0/96000 [00:00<?, ?it/s]"
      ]
     },
     "metadata": {},
     "output_type": "display_data"
    },
    {
     "data": {
      "application/vnd.jupyter.widget-view+json": {
       "model_id": "ee45928ac36f4ed0bac639e0118a48cb",
       "version_major": 2,
       "version_minor": 0
      },
      "text/plain": [
       "  0%|          | 0/96000 [00:00<?, ?it/s]"
      ]
     },
     "metadata": {},
     "output_type": "display_data"
    },
    {
     "data": {
      "application/vnd.jupyter.widget-view+json": {
       "model_id": "73dd509ee37e4887988fa4b880328c11",
       "version_major": 2,
       "version_minor": 0
      },
      "text/plain": [
       "  0%|          | 0/96000 [00:00<?, ?it/s]"
      ]
     },
     "metadata": {},
     "output_type": "display_data"
    },
    {
     "data": {
      "application/vnd.jupyter.widget-view+json": {
       "model_id": "c11e05a1d1a04c68a423c8137150d396",
       "version_major": 2,
       "version_minor": 0
      },
      "text/plain": [
       "  0%|          | 0/96000 [00:00<?, ?it/s]"
      ]
     },
     "metadata": {},
     "output_type": "display_data"
    },
    {
     "data": {
      "application/vnd.jupyter.widget-view+json": {
       "model_id": "8bb7d92696a04a1783e845f0fb4f9443",
       "version_major": 2,
       "version_minor": 0
      },
      "text/plain": [
       "  0%|          | 0/96000 [00:00<?, ?it/s]"
      ]
     },
     "metadata": {},
     "output_type": "display_data"
    },
    {
     "data": {
      "application/vnd.jupyter.widget-view+json": {
       "model_id": "cc2525bcb10b4586b06d29e5774bd741",
       "version_major": 2,
       "version_minor": 0
      },
      "text/plain": [
       "  0%|          | 0/96000 [00:00<?, ?it/s]"
      ]
     },
     "metadata": {},
     "output_type": "display_data"
    },
    {
     "data": {
      "application/vnd.jupyter.widget-view+json": {
       "model_id": "2cb3f2fa43034d22b15875d2093c4811",
       "version_major": 2,
       "version_minor": 0
      },
      "text/plain": [
       "  0%|          | 0/96000 [00:00<?, ?it/s]"
      ]
     },
     "metadata": {},
     "output_type": "display_data"
    },
    {
     "data": {
      "application/vnd.jupyter.widget-view+json": {
       "model_id": "c92a8f80b2334eeca70434414bd5fff4",
       "version_major": 2,
       "version_minor": 0
      },
      "text/plain": [
       "  0%|          | 0/96000 [00:00<?, ?it/s]"
      ]
     },
     "metadata": {},
     "output_type": "display_data"
    },
    {
     "data": {
      "application/vnd.jupyter.widget-view+json": {
       "model_id": "c1d072c30e3447479ac1a694cf7e7e85",
       "version_major": 2,
       "version_minor": 0
      },
      "text/plain": [
       "  0%|          | 0/96000 [00:00<?, ?it/s]"
      ]
     },
     "metadata": {},
     "output_type": "display_data"
    },
    {
     "data": {
      "application/vnd.jupyter.widget-view+json": {
       "model_id": "dfaee14ab3604421a8bedc00b9cc7178",
       "version_major": 2,
       "version_minor": 0
      },
      "text/plain": [
       "  0%|          | 0/96000 [00:00<?, ?it/s]"
      ]
     },
     "metadata": {},
     "output_type": "display_data"
    },
    {
     "data": {
      "application/vnd.jupyter.widget-view+json": {
       "model_id": "19f5d83367aa4d5495408e581248f15f",
       "version_major": 2,
       "version_minor": 0
      },
      "text/plain": [
       "  0%|          | 0/96000 [00:00<?, ?it/s]"
      ]
     },
     "metadata": {},
     "output_type": "display_data"
    },
    {
     "data": {
      "application/vnd.jupyter.widget-view+json": {
       "model_id": "243444335e4e4bff96b66a43366cb74a",
       "version_major": 2,
       "version_minor": 0
      },
      "text/plain": [
       "  0%|          | 0/96000 [00:00<?, ?it/s]"
      ]
     },
     "metadata": {},
     "output_type": "display_data"
    },
    {
     "data": {
      "application/vnd.jupyter.widget-view+json": {
       "model_id": "949c0d91d46542fe96e4ffcb5eeb829f",
       "version_major": 2,
       "version_minor": 0
      },
      "text/plain": [
       "  0%|          | 0/96000 [00:00<?, ?it/s]"
      ]
     },
     "metadata": {},
     "output_type": "display_data"
    },
    {
     "data": {
      "application/vnd.jupyter.widget-view+json": {
       "model_id": "fdf877c7cc674864b19728fd4d569e87",
       "version_major": 2,
       "version_minor": 0
      },
      "text/plain": [
       "  0%|          | 0/96000 [00:00<?, ?it/s]"
      ]
     },
     "metadata": {},
     "output_type": "display_data"
    },
    {
     "data": {
      "application/vnd.jupyter.widget-view+json": {
       "model_id": "6e40ef0525ec45028dd687ff9cb1db2c",
       "version_major": 2,
       "version_minor": 0
      },
      "text/plain": [
       "  0%|          | 0/96000 [00:00<?, ?it/s]"
      ]
     },
     "metadata": {},
     "output_type": "display_data"
    }
   ],
   "source": [
    "tqdm.pandas()\n",
    "\n",
    "bytd_features = cudf.read_parquet('bytd.parquet')#calc_simple_byrd_features(transaction_data)\n",
    "#weekend_features = get_weekend_features(transaction_data,bytd_features.index)\n",
    "#month_features = get_month_features(transaction_data,bytd_features.index)\n",
    "#distr_features = start_end_distribution(transaction_data)\n",
    "last_count_features = last_count(transaction_data)\n",
    "sts_features = scipy_features(transaction_data)\n",
    "corr_features = get_corr_cov_features(transaction_data)\n",
    "shift_feature = shift_features(transaction_data)\n",
    "brut_force_v2 = time_brutforce(transaction_data)\n",
    "\n",
    "time_features = generate_time_features(transaction_data)\n",
    "time_features_oper = generate_time_features_factors(transaction_data,time_features.index)\n",
    "time_mcc_features = time_mcc_feature\n",
    "corr_features.index = time_features.index\n",
    "#time_mcc_features = time_mcc_feature(transaction_data)\n",
    "\n",
    "mony_features = make_money_features(transaction_data)\n",
    "mony_features_v2 = make_money_features_factors(transaction_data)\n",
    "nununique_feature = nununique_features(transaction_data)"
   ]
  },
  {
   "cell_type": "code",
   "execution_count": 22,
   "metadata": {
    "tags": []
   },
   "outputs": [
    {
     "data": {
      "text/html": [
       "<div>\n",
       "<style scoped>\n",
       "    .dataframe tbody tr th:only-of-type {\n",
       "        vertical-align: middle;\n",
       "    }\n",
       "\n",
       "    .dataframe tbody tr th {\n",
       "        vertical-align: top;\n",
       "    }\n",
       "\n",
       "    .dataframe thead th {\n",
       "        text-align: right;\n",
       "    }\n",
       "</style>\n",
       "<table border=\"1\" class=\"dataframe\">\n",
       "  <thead>\n",
       "    <tr style=\"text-align: right;\">\n",
       "      <th></th>\n",
       "      <th>simple_features_mean</th>\n",
       "      <th>simple_features_std</th>\n",
       "      <th>simple_features_min</th>\n",
       "      <th>simple_features_max</th>\n",
       "      <th>simple_features_median</th>\n",
       "      <th>simple_features_sum</th>\n",
       "      <th>simple_features_&lt;lambda&gt;</th>\n",
       "      <th>simple_features_diff</th>\n",
       "      <th>simple_features_step</th>\n",
       "      <th>curr_embeds_0</th>\n",
       "      <th>...</th>\n",
       "      <th>feat_hour_corr_ps</th>\n",
       "      <th>feat_hour_corr_sp</th>\n",
       "      <th>feat_dayofweek_corr_ps</th>\n",
       "      <th>feat_dayofweek_corr_sp</th>\n",
       "      <th>feat_year_time_cov_0</th>\n",
       "      <th>feat_year_time_cov_1</th>\n",
       "      <th>feat_hour_cov_0</th>\n",
       "      <th>feat_hour_cov_1</th>\n",
       "      <th>feat_dayofweek_cov_0</th>\n",
       "      <th>feat_dayofweek_cov_1</th>\n",
       "    </tr>\n",
       "    <tr>\n",
       "      <th>user_id</th>\n",
       "      <th></th>\n",
       "      <th></th>\n",
       "      <th></th>\n",
       "      <th></th>\n",
       "      <th></th>\n",
       "      <th></th>\n",
       "      <th></th>\n",
       "      <th></th>\n",
       "      <th></th>\n",
       "      <th></th>\n",
       "      <th></th>\n",
       "      <th></th>\n",
       "      <th></th>\n",
       "      <th></th>\n",
       "      <th></th>\n",
       "      <th></th>\n",
       "      <th></th>\n",
       "      <th></th>\n",
       "      <th></th>\n",
       "      <th></th>\n",
       "      <th></th>\n",
       "    </tr>\n",
       "  </thead>\n",
       "  <tbody>\n",
       "    <tr>\n",
       "      <th>3</th>\n",
       "      <td>1246.037876</td>\n",
       "      <td>60860.880477</td>\n",
       "      <td>-153866.890625</td>\n",
       "      <td>104011.960937</td>\n",
       "      <td>4549.455078</td>\n",
       "      <td>13706.416641</td>\n",
       "      <td>16861.306152</td>\n",
       "      <td>257878.851562</td>\n",
       "      <td>0.004832</td>\n",
       "      <td>0.0</td>\n",
       "      <td>...</td>\n",
       "      <td>0.458957</td>\n",
       "      <td>0.546212</td>\n",
       "      <td>0.366283</td>\n",
       "      <td>0.511766</td>\n",
       "      <td>1.230689e+11</td>\n",
       "      <td>3.704047e+09</td>\n",
       "      <td>1.230689e+11</td>\n",
       "      <td>3.704047e+09</td>\n",
       "      <td>1.230689e+11</td>\n",
       "      <td>3.704047e+09</td>\n",
       "    </tr>\n",
       "    <tr>\n",
       "      <th>9</th>\n",
       "      <td>-3593.718520</td>\n",
       "      <td>11797.055119</td>\n",
       "      <td>-90147.617188</td>\n",
       "      <td>-45.579891</td>\n",
       "      <td>-840.509674</td>\n",
       "      <td>-323434.666813</td>\n",
       "      <td>-434.467491</td>\n",
       "      <td>90102.037296</td>\n",
       "      <td>-0.039885</td>\n",
       "      <td>0.0</td>\n",
       "      <td>...</td>\n",
       "      <td>-0.097424</td>\n",
       "      <td>0.015884</td>\n",
       "      <td>-0.020805</td>\n",
       "      <td>0.064457</td>\n",
       "      <td>-9.672813e+09</td>\n",
       "      <td>1.391705e+08</td>\n",
       "      <td>-9.672813e+09</td>\n",
       "      <td>1.391705e+08</td>\n",
       "      <td>-9.672813e+09</td>\n",
       "      <td>1.391705e+08</td>\n",
       "    </tr>\n",
       "    <tr>\n",
       "      <th>13</th>\n",
       "      <td>-5668.971780</td>\n",
       "      <td>23507.953991</td>\n",
       "      <td>-58740.300781</td>\n",
       "      <td>70322.828125</td>\n",
       "      <td>-10529.004883</td>\n",
       "      <td>-124717.379150</td>\n",
       "      <td>5211.026978</td>\n",
       "      <td>129063.128906</td>\n",
       "      <td>-0.043924</td>\n",
       "      <td>1.0</td>\n",
       "      <td>...</td>\n",
       "      <td>0.268719</td>\n",
       "      <td>0.348970</td>\n",
       "      <td>-0.086992</td>\n",
       "      <td>-0.172000</td>\n",
       "      <td>4.504369e+09</td>\n",
       "      <td>5.526239e+08</td>\n",
       "      <td>4.504369e+09</td>\n",
       "      <td>5.526239e+08</td>\n",
       "      <td>4.504369e+09</td>\n",
       "      <td>5.526239e+08</td>\n",
       "    </tr>\n",
       "    <tr>\n",
       "      <th>37</th>\n",
       "      <td>-1053.522538</td>\n",
       "      <td>3913.114835</td>\n",
       "      <td>-35782.984375</td>\n",
       "      <td>5487.140625</td>\n",
       "      <td>-236.420776</td>\n",
       "      <td>-331859.599463</td>\n",
       "      <td>-141.720711</td>\n",
       "      <td>41270.125000</td>\n",
       "      <td>-0.025527</td>\n",
       "      <td>0.0</td>\n",
       "      <td>...</td>\n",
       "      <td>-0.034972</td>\n",
       "      <td>-0.007382</td>\n",
       "      <td>0.048981</td>\n",
       "      <td>0.072735</td>\n",
       "      <td>1.031022e+09</td>\n",
       "      <td>1.531247e+07</td>\n",
       "      <td>1.031022e+09</td>\n",
       "      <td>1.531247e+07</td>\n",
       "      <td>1.031022e+09</td>\n",
       "      <td>1.531247e+07</td>\n",
       "    </tr>\n",
       "    <tr>\n",
       "      <th>41</th>\n",
       "      <td>-6786.663385</td>\n",
       "      <td>5251.737982</td>\n",
       "      <td>-16841.208984</td>\n",
       "      <td>-290.766998</td>\n",
       "      <td>-6328.293701</td>\n",
       "      <td>-108586.614166</td>\n",
       "      <td>-1537.244461</td>\n",
       "      <td>16550.441986</td>\n",
       "      <td>-0.410059</td>\n",
       "      <td>0.0</td>\n",
       "      <td>...</td>\n",
       "      <td>0.394066</td>\n",
       "      <td>0.446753</td>\n",
       "      <td>-0.255335</td>\n",
       "      <td>-0.305163</td>\n",
       "      <td>9.251499e+09</td>\n",
       "      <td>2.758075e+07</td>\n",
       "      <td>9.251499e+09</td>\n",
       "      <td>2.758075e+07</td>\n",
       "      <td>9.251499e+09</td>\n",
       "      <td>2.758075e+07</td>\n",
       "    </tr>\n",
       "    <tr>\n",
       "      <th>...</th>\n",
       "      <td>...</td>\n",
       "      <td>...</td>\n",
       "      <td>...</td>\n",
       "      <td>...</td>\n",
       "      <td>...</td>\n",
       "      <td>...</td>\n",
       "      <td>...</td>\n",
       "      <td>...</td>\n",
       "      <td>...</td>\n",
       "      <td>...</td>\n",
       "      <td>...</td>\n",
       "      <td>...</td>\n",
       "      <td>...</td>\n",
       "      <td>...</td>\n",
       "      <td>...</td>\n",
       "      <td>...</td>\n",
       "      <td>...</td>\n",
       "      <td>...</td>\n",
       "      <td>...</td>\n",
       "      <td>...</td>\n",
       "      <td>...</td>\n",
       "    </tr>\n",
       "    <tr>\n",
       "      <th>562043</th>\n",
       "      <td>-799.493409</td>\n",
       "      <td>2136.038913</td>\n",
       "      <td>-13020.519531</td>\n",
       "      <td>-40.769005</td>\n",
       "      <td>-239.170517</td>\n",
       "      <td>-29581.256115</td>\n",
       "      <td>-102.463661</td>\n",
       "      <td>12979.750526</td>\n",
       "      <td>-0.061595</td>\n",
       "      <td>0.0</td>\n",
       "      <td>...</td>\n",
       "      <td>0.134854</td>\n",
       "      <td>0.271505</td>\n",
       "      <td>-0.141449</td>\n",
       "      <td>-0.131703</td>\n",
       "      <td>1.363412e+09</td>\n",
       "      <td>4.562662e+06</td>\n",
       "      <td>1.363412e+09</td>\n",
       "      <td>4.562662e+06</td>\n",
       "      <td>1.363412e+09</td>\n",
       "      <td>4.562662e+06</td>\n",
       "    </tr>\n",
       "    <tr>\n",
       "      <th>562205</th>\n",
       "      <td>-268.158335</td>\n",
       "      <td>590.682233</td>\n",
       "      <td>-6220.171387</td>\n",
       "      <td>1595.461060</td>\n",
       "      <td>-147.305283</td>\n",
       "      <td>-40491.908630</td>\n",
       "      <td>-27.259905</td>\n",
       "      <td>7815.632446</td>\n",
       "      <td>-0.034311</td>\n",
       "      <td>0.0</td>\n",
       "      <td>...</td>\n",
       "      <td>-0.043995</td>\n",
       "      <td>0.048492</td>\n",
       "      <td>-0.094764</td>\n",
       "      <td>-0.175386</td>\n",
       "      <td>-5.107548e+08</td>\n",
       "      <td>3.489055e+05</td>\n",
       "      <td>-5.107548e+08</td>\n",
       "      <td>3.489055e+05</td>\n",
       "      <td>-5.107548e+08</td>\n",
       "      <td>3.489055e+05</td>\n",
       "    </tr>\n",
       "    <tr>\n",
       "      <th>562312</th>\n",
       "      <td>-331.032523</td>\n",
       "      <td>309.587795</td>\n",
       "      <td>-1372.377075</td>\n",
       "      <td>-28.292030</td>\n",
       "      <td>-271.973526</td>\n",
       "      <td>-18537.821270</td>\n",
       "      <td>-138.175877</td>\n",
       "      <td>1344.085045</td>\n",
       "      <td>-0.246288</td>\n",
       "      <td>0.0</td>\n",
       "      <td>...</td>\n",
       "      <td>-0.141864</td>\n",
       "      <td>0.059429</td>\n",
       "      <td>0.110958</td>\n",
       "      <td>0.065657</td>\n",
       "      <td>1.110595e+08</td>\n",
       "      <td>9.584460e+04</td>\n",
       "      <td>1.110595e+08</td>\n",
       "      <td>9.584460e+04</td>\n",
       "      <td>1.110595e+08</td>\n",
       "      <td>9.584460e+04</td>\n",
       "    </tr>\n",
       "    <tr>\n",
       "      <th>562721</th>\n",
       "      <td>-1929.467785</td>\n",
       "      <td>4172.623511</td>\n",
       "      <td>-18981.269531</td>\n",
       "      <td>5412.773926</td>\n",
       "      <td>-399.343048</td>\n",
       "      <td>-164004.761685</td>\n",
       "      <td>-22.946484</td>\n",
       "      <td>24394.043457</td>\n",
       "      <td>-0.079096</td>\n",
       "      <td>0.0</td>\n",
       "      <td>...</td>\n",
       "      <td>-0.238338</td>\n",
       "      <td>-0.230512</td>\n",
       "      <td>-0.043696</td>\n",
       "      <td>-0.087123</td>\n",
       "      <td>-3.134743e+09</td>\n",
       "      <td>1.741079e+07</td>\n",
       "      <td>-3.134743e+09</td>\n",
       "      <td>1.741079e+07</td>\n",
       "      <td>-3.134743e+09</td>\n",
       "      <td>1.741079e+07</td>\n",
       "    </tr>\n",
       "    <tr>\n",
       "      <th>562740</th>\n",
       "      <td>-279.262043</td>\n",
       "      <td>1123.828245</td>\n",
       "      <td>-13184.121094</td>\n",
       "      <td>10783.905273</td>\n",
       "      <td>-108.485794</td>\n",
       "      <td>-138793.235352</td>\n",
       "      <td>-31.618490</td>\n",
       "      <td>23968.026367</td>\n",
       "      <td>-0.011651</td>\n",
       "      <td>0.0</td>\n",
       "      <td>...</td>\n",
       "      <td>-0.121994</td>\n",
       "      <td>-0.051731</td>\n",
       "      <td>0.074477</td>\n",
       "      <td>-0.010077</td>\n",
       "      <td>-3.034875e+08</td>\n",
       "      <td>1.262990e+06</td>\n",
       "      <td>-3.034875e+08</td>\n",
       "      <td>1.262990e+06</td>\n",
       "      <td>-3.034875e+08</td>\n",
       "      <td>1.262990e+06</td>\n",
       "    </tr>\n",
       "  </tbody>\n",
       "</table>\n",
       "<p>96000 rows × 714 columns</p>\n",
       "</div>"
      ],
      "text/plain": [
       "         simple_features_mean  simple_features_std  simple_features_min  \\\n",
       "user_id                                                                   \n",
       "3                 1246.037876         60860.880477       -153866.890625   \n",
       "9                -3593.718520         11797.055119        -90147.617188   \n",
       "13               -5668.971780         23507.953991        -58740.300781   \n",
       "37               -1053.522538          3913.114835        -35782.984375   \n",
       "41               -6786.663385          5251.737982        -16841.208984   \n",
       "...                       ...                  ...                  ...   \n",
       "562043            -799.493409          2136.038913        -13020.519531   \n",
       "562205            -268.158335           590.682233         -6220.171387   \n",
       "562312            -331.032523           309.587795         -1372.377075   \n",
       "562721           -1929.467785          4172.623511        -18981.269531   \n",
       "562740            -279.262043          1123.828245        -13184.121094   \n",
       "\n",
       "         simple_features_max  simple_features_median  simple_features_sum  \\\n",
       "user_id                                                                     \n",
       "3              104011.960937             4549.455078         13706.416641   \n",
       "9                 -45.579891             -840.509674       -323434.666813   \n",
       "13              70322.828125           -10529.004883       -124717.379150   \n",
       "37               5487.140625             -236.420776       -331859.599463   \n",
       "41               -290.766998            -6328.293701       -108586.614166   \n",
       "...                      ...                     ...                  ...   \n",
       "562043            -40.769005             -239.170517        -29581.256115   \n",
       "562205           1595.461060             -147.305283        -40491.908630   \n",
       "562312            -28.292030             -271.973526        -18537.821270   \n",
       "562721           5412.773926             -399.343048       -164004.761685   \n",
       "562740          10783.905273             -108.485794       -138793.235352   \n",
       "\n",
       "         simple_features_<lambda>  simple_features_diff  simple_features_step  \\\n",
       "user_id                                                                         \n",
       "3                    16861.306152         257878.851562              0.004832   \n",
       "9                     -434.467491          90102.037296             -0.039885   \n",
       "13                    5211.026978         129063.128906             -0.043924   \n",
       "37                    -141.720711          41270.125000             -0.025527   \n",
       "41                   -1537.244461          16550.441986             -0.410059   \n",
       "...                           ...                   ...                   ...   \n",
       "562043                -102.463661          12979.750526             -0.061595   \n",
       "562205                 -27.259905           7815.632446             -0.034311   \n",
       "562312                -138.175877           1344.085045             -0.246288   \n",
       "562721                 -22.946484          24394.043457             -0.079096   \n",
       "562740                 -31.618490          23968.026367             -0.011651   \n",
       "\n",
       "         curr_embeds_0  ...  feat_hour_corr_ps  feat_hour_corr_sp  \\\n",
       "user_id                 ...                                         \n",
       "3                  0.0  ...           0.458957           0.546212   \n",
       "9                  0.0  ...          -0.097424           0.015884   \n",
       "13                 1.0  ...           0.268719           0.348970   \n",
       "37                 0.0  ...          -0.034972          -0.007382   \n",
       "41                 0.0  ...           0.394066           0.446753   \n",
       "...                ...  ...                ...                ...   \n",
       "562043             0.0  ...           0.134854           0.271505   \n",
       "562205             0.0  ...          -0.043995           0.048492   \n",
       "562312             0.0  ...          -0.141864           0.059429   \n",
       "562721             0.0  ...          -0.238338          -0.230512   \n",
       "562740             0.0  ...          -0.121994          -0.051731   \n",
       "\n",
       "         feat_dayofweek_corr_ps  feat_dayofweek_corr_sp  feat_year_time_cov_0  \\\n",
       "user_id                                                                         \n",
       "3                      0.366283                0.511766          1.230689e+11   \n",
       "9                     -0.020805                0.064457         -9.672813e+09   \n",
       "13                    -0.086992               -0.172000          4.504369e+09   \n",
       "37                     0.048981                0.072735          1.031022e+09   \n",
       "41                    -0.255335               -0.305163          9.251499e+09   \n",
       "...                         ...                     ...                   ...   \n",
       "562043                -0.141449               -0.131703          1.363412e+09   \n",
       "562205                -0.094764               -0.175386         -5.107548e+08   \n",
       "562312                 0.110958                0.065657          1.110595e+08   \n",
       "562721                -0.043696               -0.087123         -3.134743e+09   \n",
       "562740                 0.074477               -0.010077         -3.034875e+08   \n",
       "\n",
       "         feat_year_time_cov_1  feat_hour_cov_0  feat_hour_cov_1  \\\n",
       "user_id                                                           \n",
       "3                3.704047e+09     1.230689e+11     3.704047e+09   \n",
       "9                1.391705e+08    -9.672813e+09     1.391705e+08   \n",
       "13               5.526239e+08     4.504369e+09     5.526239e+08   \n",
       "37               1.531247e+07     1.031022e+09     1.531247e+07   \n",
       "41               2.758075e+07     9.251499e+09     2.758075e+07   \n",
       "...                       ...              ...              ...   \n",
       "562043           4.562662e+06     1.363412e+09     4.562662e+06   \n",
       "562205           3.489055e+05    -5.107548e+08     3.489055e+05   \n",
       "562312           9.584460e+04     1.110595e+08     9.584460e+04   \n",
       "562721           1.741079e+07    -3.134743e+09     1.741079e+07   \n",
       "562740           1.262990e+06    -3.034875e+08     1.262990e+06   \n",
       "\n",
       "         feat_dayofweek_cov_0  feat_dayofweek_cov_1  \n",
       "user_id                                              \n",
       "3                1.230689e+11          3.704047e+09  \n",
       "9               -9.672813e+09          1.391705e+08  \n",
       "13               4.504369e+09          5.526239e+08  \n",
       "37               1.031022e+09          1.531247e+07  \n",
       "41               9.251499e+09          2.758075e+07  \n",
       "...                       ...                   ...  \n",
       "562043           1.363412e+09          4.562662e+06  \n",
       "562205          -5.107548e+08          3.489055e+05  \n",
       "562312           1.110595e+08          9.584460e+04  \n",
       "562721          -3.134743e+09          1.741079e+07  \n",
       "562740          -3.034875e+08          1.262990e+06  \n",
       "\n",
       "[96000 rows x 714 columns]"
      ]
     },
     "execution_count": 22,
     "metadata": {},
     "output_type": "execute_result"
    }
   ],
   "source": [
    "clients_data = clients_data.set_index('user_id')\n",
    "all_data = cudf.concat([mony_features,\n",
    "                        mony_features_v2,\n",
    "                        #time_mcc_features,\n",
    "                        #month_features,\n",
    "                        #distr_features,\n",
    "                        #tsfresh_features,\n",
    "                        bytd_features,\n",
    "                        last_count_features,\n",
    "                        nununique_feature,\n",
    "                        shift_feature,\n",
    "                        sts_features,\n",
    "                        brut_force_v2,\n",
    "                        time_features,\n",
    "                        time_features_oper,\n",
    "                        clients_data,\n",
    "                        corr_features,\n",
    "                       ],axis=1)\n",
    "all_data"
   ]
  },
  {
   "cell_type": "code",
   "execution_count": 23,
   "metadata": {},
   "outputs": [
    {
     "name": "stdout",
     "output_type": "stream",
     "text": [
      "32.14697628735794\n"
     ]
    },
    {
     "data": {
      "application/vnd.jupyter.widget-view+json": {
       "model_id": "808db1000cc0464db5b5ac2f6aea11b4",
       "version_major": 2,
       "version_minor": 0
      },
      "text/plain": [
       "  0%|          | 0/42762 [00:00<?, ?it/s]"
      ]
     },
     "metadata": {},
     "output_type": "display_data"
    },
    {
     "data": {
      "application/vnd.jupyter.widget-view+json": {
       "model_id": "bd775b605e534965b4e43520c15fcc4d",
       "version_major": 2,
       "version_minor": 0
      },
      "text/plain": [
       "  0%|          | 0/42762 [00:00<?, ?it/s]"
      ]
     },
     "metadata": {},
     "output_type": "display_data"
    },
    {
     "data": {
      "application/vnd.jupyter.widget-view+json": {
       "model_id": "dd4a6a21788b4b6881bb2ab8c57887b0",
       "version_major": 2,
       "version_minor": 0
      },
      "text/plain": [
       "  0%|          | 0/42762 [00:00<?, ?it/s]"
      ]
     },
     "metadata": {},
     "output_type": "display_data"
    },
    {
     "data": {
      "application/vnd.jupyter.widget-view+json": {
       "model_id": "46e31421e0f74c889f9001a525ee8146",
       "version_major": 2,
       "version_minor": 0
      },
      "text/plain": [
       "  0%|          | 0/42762 [00:00<?, ?it/s]"
      ]
     },
     "metadata": {},
     "output_type": "display_data"
    },
    {
     "data": {
      "application/vnd.jupyter.widget-view+json": {
       "model_id": "0a199e8c2b314f96bb01fc88c2f048b5",
       "version_major": 2,
       "version_minor": 0
      },
      "text/plain": [
       "  0%|          | 0/42762 [00:00<?, ?it/s]"
      ]
     },
     "metadata": {},
     "output_type": "display_data"
    },
    {
     "data": {
      "application/vnd.jupyter.widget-view+json": {
       "model_id": "78b0cc33c43f431d83b2cdd1e4173d9f",
       "version_major": 2,
       "version_minor": 0
      },
      "text/plain": [
       "  0%|          | 0/42762 [00:00<?, ?it/s]"
      ]
     },
     "metadata": {},
     "output_type": "display_data"
    },
    {
     "data": {
      "application/vnd.jupyter.widget-view+json": {
       "model_id": "f16c7ff49b42463bb9591e161c61fb28",
       "version_major": 2,
       "version_minor": 0
      },
      "text/plain": [
       "  0%|          | 0/42762 [00:00<?, ?it/s]"
      ]
     },
     "metadata": {},
     "output_type": "display_data"
    },
    {
     "data": {
      "application/vnd.jupyter.widget-view+json": {
       "model_id": "9e39e135974c498782bb0b51d33c233a",
       "version_major": 2,
       "version_minor": 0
      },
      "text/plain": [
       "  0%|          | 0/42762 [00:00<?, ?it/s]"
      ]
     },
     "metadata": {},
     "output_type": "display_data"
    },
    {
     "data": {
      "application/vnd.jupyter.widget-view+json": {
       "model_id": "702b6b0247a045a6a1c97250ad602467",
       "version_major": 2,
       "version_minor": 0
      },
      "text/plain": [
       "  0%|          | 0/42762 [00:00<?, ?it/s]"
      ]
     },
     "metadata": {},
     "output_type": "display_data"
    },
    {
     "data": {
      "application/vnd.jupyter.widget-view+json": {
       "model_id": "4c295f51d923437aa274919fe44aed32",
       "version_major": 2,
       "version_minor": 0
      },
      "text/plain": [
       "  0%|          | 0/42762 [00:00<?, ?it/s]"
      ]
     },
     "metadata": {},
     "output_type": "display_data"
    },
    {
     "data": {
      "application/vnd.jupyter.widget-view+json": {
       "model_id": "24b2316c5cbb4b73ac9ff5fdf3635730",
       "version_major": 2,
       "version_minor": 0
      },
      "text/plain": [
       "  0%|          | 0/42762 [00:00<?, ?it/s]"
      ]
     },
     "metadata": {},
     "output_type": "display_data"
    },
    {
     "data": {
      "application/vnd.jupyter.widget-view+json": {
       "model_id": "8e46866f5ddc4bc79dfa3c9521599b0f",
       "version_major": 2,
       "version_minor": 0
      },
      "text/plain": [
       "  0%|          | 0/42762 [00:00<?, ?it/s]"
      ]
     },
     "metadata": {},
     "output_type": "display_data"
    },
    {
     "data": {
      "application/vnd.jupyter.widget-view+json": {
       "model_id": "e42667555a1e4005b528926be1f3e1de",
       "version_major": 2,
       "version_minor": 0
      },
      "text/plain": [
       "  0%|          | 0/42762 [00:00<?, ?it/s]"
      ]
     },
     "metadata": {},
     "output_type": "display_data"
    },
    {
     "data": {
      "application/vnd.jupyter.widget-view+json": {
       "model_id": "e068294617db4b68843598f22b6b32dc",
       "version_major": 2,
       "version_minor": 0
      },
      "text/plain": [
       "  0%|          | 0/42762 [00:00<?, ?it/s]"
      ]
     },
     "metadata": {},
     "output_type": "display_data"
    },
    {
     "data": {
      "application/vnd.jupyter.widget-view+json": {
       "model_id": "ab06d0295ab940f6b58fd6b34c0cd386",
       "version_major": 2,
       "version_minor": 0
      },
      "text/plain": [
       "  0%|          | 0/42762 [00:00<?, ?it/s]"
      ]
     },
     "metadata": {},
     "output_type": "display_data"
    },
    {
     "data": {
      "application/vnd.jupyter.widget-view+json": {
       "model_id": "0e0fd21e8984490ebee1c065d988c7d3",
       "version_major": 2,
       "version_minor": 0
      },
      "text/plain": [
       "  0%|          | 0/42762 [00:00<?, ?it/s]"
      ]
     },
     "metadata": {},
     "output_type": "display_data"
    },
    {
     "data": {
      "application/vnd.jupyter.widget-view+json": {
       "model_id": "75478b8bd407416d97057cece35422c5",
       "version_major": 2,
       "version_minor": 0
      },
      "text/plain": [
       "  0%|          | 0/42762 [00:00<?, ?it/s]"
      ]
     },
     "metadata": {},
     "output_type": "display_data"
    }
   ],
   "source": [
    "all_train_top_30 = get_top_k(transaction_data)"
   ]
  },
  {
   "cell_type": "code",
   "execution_count": 24,
   "metadata": {},
   "outputs": [],
   "source": [
    "all_train_top_30.columns = [f'last_30_{x}' for x in all_train_top_30.columns]"
   ]
  },
  {
   "cell_type": "code",
   "execution_count": 25,
   "metadata": {},
   "outputs": [],
   "source": [
    "#all_train_top_30_otn = cudf.DataFrame()\n",
    "#for col in all_train_top_30:\n",
    "#    all_train_top_30_otn[col] = all_train_top_30[col] / (all_data[col.replace('last_30_','')]+ 1e-6)"
   ]
  },
  {
   "cell_type": "code",
   "execution_count": 26,
   "metadata": {},
   "outputs": [],
   "source": [
    "#all_train_top_30_otn = all_train_top_30_otn.fillna(-1)"
   ]
  },
  {
   "cell_type": "code",
   "execution_count": 27,
   "metadata": {},
   "outputs": [],
   "source": [
    "all_data = cudf.concat([all_train_top_30,all_data],axis=1)"
   ]
  },
  {
   "cell_type": "code",
   "execution_count": 28,
   "metadata": {},
   "outputs": [],
   "source": [
    "#all_data = cudf.concat([all_train_top_30_otn,all_data],axis=1)"
   ]
  },
  {
   "cell_type": "code",
   "execution_count": 29,
   "metadata": {},
   "outputs": [
    {
     "data": {
      "text/plain": [
       "(96000, 1088)"
      ]
     },
     "execution_count": 29,
     "metadata": {},
     "output_type": "execute_result"
    }
   ],
   "source": [
    "all_data = all_data.fillna(-1)\n",
    "all_data.shape"
   ]
  },
  {
   "cell_type": "code",
   "execution_count": 30,
   "metadata": {},
   "outputs": [],
   "source": [
    "all_train_df = all_data.loc[train_data['user_id']].to_pandas()\n",
    "all_train_df['label'] = train_data['target'].to_pandas().values\n",
    "all_train_df['time'] = train_data['time'].to_pandas().values"
   ]
  },
  {
   "cell_type": "code",
   "execution_count": 33,
   "metadata": {},
   "outputs": [],
   "source": [
    "all_train_df['y_lower'] = all_train_df['time']\n",
    "all_train_df['y_upper'] = np.where(all_train_df['label'], all_train_df['time'], -1)"
   ]
  },
  {
   "cell_type": "code",
   "execution_count": 34,
   "metadata": {},
   "outputs": [],
   "source": [
    "all_train_df['employee_count_nm'] = all_train_df['employee_count_nm'].fillna('NaN')\n",
    "all_train_df['customer_age'] = all_train_df['customer_age'].fillna('NaN')"
   ]
  },
  {
   "cell_type": "code",
   "execution_count": 48,
   "metadata": {},
   "outputs": [],
   "source": [
    "class CatBoostKfoldWraper(BaseEstimator):\n",
    "    def __init__(self,num_folds,params,random_state=56):\n",
    "        self.models = []\n",
    "        self.params = params\n",
    "        self.kfold = StratifiedKFold(n_splits=num_folds,random_state=random_state,shuffle=True)\n",
    "        \n",
    "    def fit(self,train_data,cat_features=None,drop_cols=['time','label','y_lower','y_upper'],stratif='label',label_col=['y_lower','y_upper'],verbose=False):\n",
    "        scores = []\n",
    "        for train_index, test_index in tqdm(self.kfold.split(train_data,train_data[stratif])):\n",
    "            train_df = train_data.iloc[train_index]\n",
    "            test_df = train_data.iloc[test_index]\n",
    "            \n",
    "            train_pool = Pool(train_df.drop(drop_cols,axis=1),\n",
    "                              label = train_df.loc[:,label_col],\n",
    "                              cat_features = cat_features)\n",
    "\n",
    "            eval_pool = Pool(test_df.drop(drop_cols,axis=1),\n",
    "                             label = test_df.loc[:,label_col],\n",
    "                             cat_features = cat_features)\n",
    "            \n",
    "            cbm = CatBoostRegressor(**self.params)\n",
    "            cbm.fit(train_pool,eval_set=eval_pool,verbose=verbose)\n",
    "            \n",
    "            val_preds = cbm.predict(eval_pool)\n",
    "            score = concordance_index(test_df['time'], -val_preds, test_df['label'])\n",
    "            print(score)\n",
    "            scores += [score]\n",
    "            self.models += [cbm]\n",
    "        print(f\"Total Score {np.mean(scores)}\")\n",
    "            \n",
    "    def predict(self,test_data,cat_features=None):\n",
    "        test_pool = Pool(test_data,cat_features=cat_features)\n",
    "        preds = np.mean([model.predict(test_pool) for model in self.models],axis=0)\n",
    "        return preds"
   ]
  },
  {
   "cell_type": "code",
   "execution_count": 36,
   "metadata": {},
   "outputs": [],
   "source": [
    "cat_features = ['employee_count_nm','customer_age']"
   ]
  },
  {
   "cell_type": "code",
   "execution_count": 37,
   "metadata": {},
   "outputs": [
    {
     "data": {
      "text/plain": [
       "last_30_simple_opr_features_mean      0\n",
       "last_30_simple_opr_features_std       0\n",
       "last_30_simple_opr_features_min       0\n",
       "last_30_simple_opr_features_max       0\n",
       "last_30_simple_opr_features_median    0\n",
       "                                     ..\n",
       "feat_dayofweek_cov_1                  0\n",
       "label                                 0\n",
       "time                                  0\n",
       "y_lower                               0\n",
       "y_upper                               0\n",
       "Length: 1092, dtype: int64"
      ]
     },
     "execution_count": 37,
     "metadata": {},
     "output_type": "execute_result"
    }
   ],
   "source": [
    "all_train_df.isnull().sum() "
   ]
  },
  {
   "cell_type": "code",
   "execution_count": 66,
   "metadata": {},
   "outputs": [],
   "source": [
    "params = {'iterations':1000,\n",
    "          'loss_function':'SurvivalAft:dist=Logistic;scale=1.2',\n",
    "          'use_best_model':True,\n",
    "          'learning_rate':0.01,\n",
    "          'task_type':'CPU',\n",
    "          #'min_child_samples':20,\n",
    "          'max_depth':6,\n",
    "          #'eval_metric':'SurvivalAft',\n",
    "          'random_seed':56}"
   ]
  },
  {
   "cell_type": "code",
   "execution_count": 67,
   "metadata": {
    "tags": []
   },
   "outputs": [
    {
     "data": {
      "application/vnd.jupyter.widget-view+json": {
       "model_id": "1e70e9f04d6449d7b72f8e745dd20a51",
       "version_major": 2,
       "version_minor": 0
      },
      "text/plain": [
       "0it [00:00, ?it/s]"
      ]
     },
     "metadata": {},
     "output_type": "display_data"
    },
    {
     "name": "stdout",
     "output_type": "stream",
     "text": [
      "0:\tlearn: 78.5242565\ttest: 78.2421424\tbest: 78.2421424 (0)\ttotal: 58.8ms\tremaining: 58.7s\n",
      "500:\tlearn: 88.4979633\ttest: 90.0289806\tbest: 4.2133644 (89)\ttotal: 30.9s\tremaining: 30.8s\n",
      "999:\tlearn: 102.4734758\ttest: 112.5529305\tbest: 4.2133644 (89)\ttotal: 1m\tremaining: 0us\n",
      "\n",
      "bestTest = 4.213364435\n",
      "bestIteration = 89\n",
      "\n",
      "Shrink model to first 90 iterations.\n",
      "0.3315258976442855\n",
      "0:\tlearn: 78.4586899\ttest: 78.6219280\tbest: 78.6219280 (0)\ttotal: 59.9ms\tremaining: 59.8s\n"
     ]
    },
    {
     "ename": "KeyboardInterrupt",
     "evalue": "",
     "output_type": "error",
     "traceback": [
      "\u001b[0;31m---------------------------------------------------------------------------\u001b[0m",
      "\u001b[0;31mKeyboardInterrupt\u001b[0m                         Traceback (most recent call last)",
      "\u001b[0;32m/tmp/ipykernel_227/766645757.py\u001b[0m in \u001b[0;36m<module>\u001b[0;34m\u001b[0m\n\u001b[1;32m      1\u001b[0m \u001b[0mmodel\u001b[0m \u001b[0;34m=\u001b[0m \u001b[0mCatBoostKfoldWraper\u001b[0m\u001b[0;34m(\u001b[0m\u001b[0mnum_folds\u001b[0m\u001b[0;34m=\u001b[0m\u001b[0;36m5\u001b[0m\u001b[0;34m,\u001b[0m\u001b[0mparams\u001b[0m\u001b[0;34m=\u001b[0m\u001b[0mparams\u001b[0m\u001b[0;34m,\u001b[0m\u001b[0mrandom_state\u001b[0m\u001b[0;34m=\u001b[0m\u001b[0;36m56\u001b[0m\u001b[0;34m)\u001b[0m\u001b[0;34m\u001b[0m\u001b[0;34m\u001b[0m\u001b[0m\n\u001b[0;32m----> 2\u001b[0;31m \u001b[0mmodel\u001b[0m\u001b[0;34m.\u001b[0m\u001b[0mfit\u001b[0m\u001b[0;34m(\u001b[0m\u001b[0mall_train_df\u001b[0m\u001b[0;34m,\u001b[0m\u001b[0mcat_features\u001b[0m\u001b[0;34m,\u001b[0m\u001b[0mverbose\u001b[0m\u001b[0;34m=\u001b[0m\u001b[0;36m500\u001b[0m\u001b[0;34m)\u001b[0m \u001b[0;31m# [best_features.tolist()+['label','time']]\u001b[0m\u001b[0;34m\u001b[0m\u001b[0;34m\u001b[0m\u001b[0m\n\u001b[0m",
      "\u001b[0;32m/tmp/ipykernel_227/2850731958.py\u001b[0m in \u001b[0;36mfit\u001b[0;34m(self, train_data, cat_features, drop_cols, stratif, label_col, verbose)\u001b[0m\n\u001b[1;32m     20\u001b[0m \u001b[0;34m\u001b[0m\u001b[0m\n\u001b[1;32m     21\u001b[0m             \u001b[0mcbm\u001b[0m \u001b[0;34m=\u001b[0m \u001b[0mCatBoostRegressor\u001b[0m\u001b[0;34m(\u001b[0m\u001b[0;34m**\u001b[0m\u001b[0mself\u001b[0m\u001b[0;34m.\u001b[0m\u001b[0mparams\u001b[0m\u001b[0;34m)\u001b[0m\u001b[0;34m\u001b[0m\u001b[0;34m\u001b[0m\u001b[0m\n\u001b[0;32m---> 22\u001b[0;31m             \u001b[0mcbm\u001b[0m\u001b[0;34m.\u001b[0m\u001b[0mfit\u001b[0m\u001b[0;34m(\u001b[0m\u001b[0mtrain_pool\u001b[0m\u001b[0;34m,\u001b[0m\u001b[0meval_set\u001b[0m\u001b[0;34m=\u001b[0m\u001b[0meval_pool\u001b[0m\u001b[0;34m,\u001b[0m\u001b[0mverbose\u001b[0m\u001b[0;34m=\u001b[0m\u001b[0mverbose\u001b[0m\u001b[0;34m)\u001b[0m\u001b[0;34m\u001b[0m\u001b[0;34m\u001b[0m\u001b[0m\n\u001b[0m\u001b[1;32m     23\u001b[0m \u001b[0;34m\u001b[0m\u001b[0m\n\u001b[1;32m     24\u001b[0m             \u001b[0mval_preds\u001b[0m \u001b[0;34m=\u001b[0m \u001b[0mcbm\u001b[0m\u001b[0;34m.\u001b[0m\u001b[0mpredict\u001b[0m\u001b[0;34m(\u001b[0m\u001b[0meval_pool\u001b[0m\u001b[0;34m)\u001b[0m\u001b[0;34m\u001b[0m\u001b[0;34m\u001b[0m\u001b[0m\n",
      "\u001b[0;32m/opt/conda/envs/rapids/lib/python3.9/site-packages/catboost/core.py\u001b[0m in \u001b[0;36mfit\u001b[0;34m(self, X, y, cat_features, text_features, embedding_features, sample_weight, baseline, use_best_model, eval_set, verbose, logging_level, plot, plot_file, column_description, verbose_eval, metric_period, silent, early_stopping_rounds, save_snapshot, snapshot_file, snapshot_interval, init_model, callbacks, log_cout, log_cerr)\u001b[0m\n\u001b[1;32m   5805\u001b[0m             \u001b[0mCatBoostRegressor\u001b[0m\u001b[0;34m.\u001b[0m\u001b[0m_check_is_compatible_loss\u001b[0m\u001b[0;34m(\u001b[0m\u001b[0mparams\u001b[0m\u001b[0;34m[\u001b[0m\u001b[0;34m'loss_function'\u001b[0m\u001b[0;34m]\u001b[0m\u001b[0;34m)\u001b[0m\u001b[0;34m\u001b[0m\u001b[0;34m\u001b[0m\u001b[0m\n\u001b[1;32m   5806\u001b[0m \u001b[0;34m\u001b[0m\u001b[0m\n\u001b[0;32m-> 5807\u001b[0;31m         return self._fit(X, y, cat_features, text_features, embedding_features, None, sample_weight, None, None, None, None, baseline,\n\u001b[0m\u001b[1;32m   5808\u001b[0m                          \u001b[0muse_best_model\u001b[0m\u001b[0;34m,\u001b[0m \u001b[0meval_set\u001b[0m\u001b[0;34m,\u001b[0m \u001b[0mverbose\u001b[0m\u001b[0;34m,\u001b[0m \u001b[0mlogging_level\u001b[0m\u001b[0;34m,\u001b[0m \u001b[0mplot\u001b[0m\u001b[0;34m,\u001b[0m \u001b[0mplot_file\u001b[0m\u001b[0;34m,\u001b[0m \u001b[0mcolumn_description\u001b[0m\u001b[0;34m,\u001b[0m\u001b[0;34m\u001b[0m\u001b[0;34m\u001b[0m\u001b[0m\n\u001b[1;32m   5809\u001b[0m                          \u001b[0mverbose_eval\u001b[0m\u001b[0;34m,\u001b[0m \u001b[0mmetric_period\u001b[0m\u001b[0;34m,\u001b[0m \u001b[0msilent\u001b[0m\u001b[0;34m,\u001b[0m \u001b[0mearly_stopping_rounds\u001b[0m\u001b[0;34m,\u001b[0m\u001b[0;34m\u001b[0m\u001b[0;34m\u001b[0m\u001b[0m\n",
      "\u001b[0;32m/opt/conda/envs/rapids/lib/python3.9/site-packages/catboost/core.py\u001b[0m in \u001b[0;36m_fit\u001b[0;34m(self, X, y, cat_features, text_features, embedding_features, pairs, sample_weight, group_id, group_weight, subgroup_id, pairs_weight, baseline, use_best_model, eval_set, verbose, logging_level, plot, plot_file, column_description, verbose_eval, metric_period, silent, early_stopping_rounds, save_snapshot, snapshot_file, snapshot_interval, init_model, callbacks, log_cout, log_cerr)\u001b[0m\n\u001b[1;32m   2394\u001b[0m \u001b[0;34m\u001b[0m\u001b[0m\n\u001b[1;32m   2395\u001b[0m             \u001b[0;32mwith\u001b[0m \u001b[0mplot_wrapper\u001b[0m\u001b[0;34m(\u001b[0m\u001b[0mplot\u001b[0m\u001b[0;34m,\u001b[0m \u001b[0mplot_file\u001b[0m\u001b[0;34m,\u001b[0m \u001b[0;34m'Training plots'\u001b[0m\u001b[0;34m,\u001b[0m \u001b[0;34m[\u001b[0m\u001b[0m_get_train_dir\u001b[0m\u001b[0;34m(\u001b[0m\u001b[0mself\u001b[0m\u001b[0;34m.\u001b[0m\u001b[0mget_params\u001b[0m\u001b[0;34m(\u001b[0m\u001b[0;34m)\u001b[0m\u001b[0;34m)\u001b[0m\u001b[0;34m]\u001b[0m\u001b[0;34m)\u001b[0m\u001b[0;34m:\u001b[0m\u001b[0;34m\u001b[0m\u001b[0;34m\u001b[0m\u001b[0m\n\u001b[0;32m-> 2396\u001b[0;31m                 self._train(\n\u001b[0m\u001b[1;32m   2397\u001b[0m                     \u001b[0mtrain_pool\u001b[0m\u001b[0;34m,\u001b[0m\u001b[0;34m\u001b[0m\u001b[0;34m\u001b[0m\u001b[0m\n\u001b[1;32m   2398\u001b[0m                     \u001b[0mtrain_params\u001b[0m\u001b[0;34m[\u001b[0m\u001b[0;34m\"eval_sets\"\u001b[0m\u001b[0;34m]\u001b[0m\u001b[0;34m,\u001b[0m\u001b[0;34m\u001b[0m\u001b[0;34m\u001b[0m\u001b[0m\n",
      "\u001b[0;32m/opt/conda/envs/rapids/lib/python3.9/site-packages/catboost/core.py\u001b[0m in \u001b[0;36m_train\u001b[0;34m(self, train_pool, test_pool, params, allow_clear_pool, init_model)\u001b[0m\n\u001b[1;32m   1774\u001b[0m \u001b[0;34m\u001b[0m\u001b[0m\n\u001b[1;32m   1775\u001b[0m     \u001b[0;32mdef\u001b[0m \u001b[0m_train\u001b[0m\u001b[0;34m(\u001b[0m\u001b[0mself\u001b[0m\u001b[0;34m,\u001b[0m \u001b[0mtrain_pool\u001b[0m\u001b[0;34m,\u001b[0m \u001b[0mtest_pool\u001b[0m\u001b[0;34m,\u001b[0m \u001b[0mparams\u001b[0m\u001b[0;34m,\u001b[0m \u001b[0mallow_clear_pool\u001b[0m\u001b[0;34m,\u001b[0m \u001b[0minit_model\u001b[0m\u001b[0;34m)\u001b[0m\u001b[0;34m:\u001b[0m\u001b[0;34m\u001b[0m\u001b[0;34m\u001b[0m\u001b[0m\n\u001b[0;32m-> 1776\u001b[0;31m         \u001b[0mself\u001b[0m\u001b[0;34m.\u001b[0m\u001b[0m_object\u001b[0m\u001b[0;34m.\u001b[0m\u001b[0m_train\u001b[0m\u001b[0;34m(\u001b[0m\u001b[0mtrain_pool\u001b[0m\u001b[0;34m,\u001b[0m \u001b[0mtest_pool\u001b[0m\u001b[0;34m,\u001b[0m \u001b[0mparams\u001b[0m\u001b[0;34m,\u001b[0m \u001b[0mallow_clear_pool\u001b[0m\u001b[0;34m,\u001b[0m \u001b[0minit_model\u001b[0m\u001b[0;34m.\u001b[0m\u001b[0m_object\u001b[0m \u001b[0;32mif\u001b[0m \u001b[0minit_model\u001b[0m \u001b[0;32melse\u001b[0m \u001b[0;32mNone\u001b[0m\u001b[0;34m)\u001b[0m\u001b[0;34m\u001b[0m\u001b[0;34m\u001b[0m\u001b[0m\n\u001b[0m\u001b[1;32m   1777\u001b[0m         \u001b[0mself\u001b[0m\u001b[0;34m.\u001b[0m\u001b[0m_set_trained_model_attributes\u001b[0m\u001b[0;34m(\u001b[0m\u001b[0;34m)\u001b[0m\u001b[0;34m\u001b[0m\u001b[0;34m\u001b[0m\u001b[0m\n\u001b[1;32m   1778\u001b[0m \u001b[0;34m\u001b[0m\u001b[0m\n",
      "\u001b[0;32m_catboost.pyx\u001b[0m in \u001b[0;36m_catboost._CatBoost._train\u001b[0;34m()\u001b[0m\n",
      "\u001b[0;32m_catboost.pyx\u001b[0m in \u001b[0;36m_catboost._CatBoost._train\u001b[0;34m()\u001b[0m\n",
      "\u001b[0;31mKeyboardInterrupt\u001b[0m: "
     ]
    }
   ],
   "source": [
    "model = CatBoostKfoldWraper(num_folds=5,params=params,random_state=56)\n",
    "model.fit(all_train_df,cat_features,verbose=500) # [best_features.tolist()+['label','time']]"
   ]
  },
  {
   "cell_type": "code",
   "execution_count": null,
   "metadata": {},
   "outputs": [],
   "source": [
    "XXXXXXX"
   ]
  },
  {
   "cell_type": "code",
   "execution_count": 58,
   "metadata": {},
   "outputs": [],
   "source": [
    "sample_sub = pd.read_csv('sample_submit_naive.csv')"
   ]
  },
  {
   "cell_type": "code",
   "execution_count": 59,
   "metadata": {},
   "outputs": [
    {
     "ename": "AttributeError",
     "evalue": "'DataFrame' object has no attribute 'to_pandas'",
     "output_type": "error",
     "traceback": [
      "\u001b[0;31m---------------------------------------------------------------------------\u001b[0m",
      "\u001b[0;31mAttributeError\u001b[0m                            Traceback (most recent call last)",
      "\u001b[0;32m/tmp/ipykernel_1732/370533273.py\u001b[0m in \u001b[0;36m<module>\u001b[0;34m\u001b[0m\n\u001b[0;32m----> 1\u001b[0;31m \u001b[0mall_data\u001b[0m \u001b[0;34m=\u001b[0m \u001b[0mall_data\u001b[0m\u001b[0;34m.\u001b[0m\u001b[0mto_pandas\u001b[0m\u001b[0;34m(\u001b[0m\u001b[0;34m)\u001b[0m\u001b[0;34m\u001b[0m\u001b[0;34m\u001b[0m\u001b[0m\n\u001b[0m",
      "\u001b[0;32m/opt/conda/envs/rapids/lib/python3.9/site-packages/pandas/core/generic.py\u001b[0m in \u001b[0;36m__getattr__\u001b[0;34m(self, name)\u001b[0m\n\u001b[1;32m   5900\u001b[0m         ):\n\u001b[1;32m   5901\u001b[0m             \u001b[0;32mreturn\u001b[0m \u001b[0mself\u001b[0m\u001b[0;34m[\u001b[0m\u001b[0mname\u001b[0m\u001b[0;34m]\u001b[0m\u001b[0;34m\u001b[0m\u001b[0;34m\u001b[0m\u001b[0m\n\u001b[0;32m-> 5902\u001b[0;31m         \u001b[0;32mreturn\u001b[0m \u001b[0mobject\u001b[0m\u001b[0;34m.\u001b[0m\u001b[0m__getattribute__\u001b[0m\u001b[0;34m(\u001b[0m\u001b[0mself\u001b[0m\u001b[0;34m,\u001b[0m \u001b[0mname\u001b[0m\u001b[0;34m)\u001b[0m\u001b[0;34m\u001b[0m\u001b[0;34m\u001b[0m\u001b[0m\n\u001b[0m\u001b[1;32m   5903\u001b[0m \u001b[0;34m\u001b[0m\u001b[0m\n\u001b[1;32m   5904\u001b[0m     \u001b[0;32mdef\u001b[0m \u001b[0m__setattr__\u001b[0m\u001b[0;34m(\u001b[0m\u001b[0mself\u001b[0m\u001b[0;34m,\u001b[0m \u001b[0mname\u001b[0m\u001b[0;34m:\u001b[0m \u001b[0mstr\u001b[0m\u001b[0;34m,\u001b[0m \u001b[0mvalue\u001b[0m\u001b[0;34m)\u001b[0m \u001b[0;34m->\u001b[0m \u001b[0;32mNone\u001b[0m\u001b[0;34m:\u001b[0m\u001b[0;34m\u001b[0m\u001b[0;34m\u001b[0m\u001b[0m\n",
      "\u001b[0;31mAttributeError\u001b[0m: 'DataFrame' object has no attribute 'to_pandas'"
     ]
    }
   ],
   "source": [
    "all_data = all_data.to_pandas()"
   ]
  },
  {
   "cell_type": "code",
   "execution_count": 60,
   "metadata": {},
   "outputs": [],
   "source": [
    "test_data = all_data.loc[sample_sub['user_id']]"
   ]
  },
  {
   "cell_type": "code",
   "execution_count": 61,
   "metadata": {},
   "outputs": [],
   "source": [
    "test_data['employee_count_nm'] = test_data['employee_count_nm'].fillna('NaN')"
   ]
  },
  {
   "cell_type": "code",
   "execution_count": 62,
   "metadata": {},
   "outputs": [],
   "source": [
    "test_pool = Pool(test_data,cat_features = cat_features)"
   ]
  },
  {
   "cell_type": "code",
   "execution_count": 63,
   "metadata": {},
   "outputs": [],
   "source": [
    "preds = model.predict(test_data,cat_features=cat_features)"
   ]
  },
  {
   "cell_type": "code",
   "execution_count": 64,
   "metadata": {},
   "outputs": [],
   "source": [
    "sample_sub['predict'] = preds"
   ]
  },
  {
   "cell_type": "code",
   "execution_count": 69,
   "metadata": {},
   "outputs": [
    {
     "data": {
      "text/html": [
       "<div>\n",
       "<style scoped>\n",
       "    .dataframe tbody tr th:only-of-type {\n",
       "        vertical-align: middle;\n",
       "    }\n",
       "\n",
       "    .dataframe tbody tr th {\n",
       "        vertical-align: top;\n",
       "    }\n",
       "\n",
       "    .dataframe thead th {\n",
       "        text-align: right;\n",
       "    }\n",
       "</style>\n",
       "<table border=\"1\" class=\"dataframe\">\n",
       "  <thead>\n",
       "    <tr style=\"text-align: right;\">\n",
       "      <th></th>\n",
       "      <th>user_id</th>\n",
       "      <th>predict</th>\n",
       "    </tr>\n",
       "  </thead>\n",
       "  <tbody>\n",
       "    <tr>\n",
       "      <th>0</th>\n",
       "      <td>9</td>\n",
       "      <td>0.025318</td>\n",
       "    </tr>\n",
       "    <tr>\n",
       "      <th>1</th>\n",
       "      <td>61</td>\n",
       "      <td>0.014978</td>\n",
       "    </tr>\n",
       "    <tr>\n",
       "      <th>2</th>\n",
       "      <td>62</td>\n",
       "      <td>0.029978</td>\n",
       "    </tr>\n",
       "    <tr>\n",
       "      <th>3</th>\n",
       "      <td>80</td>\n",
       "      <td>0.013265</td>\n",
       "    </tr>\n",
       "    <tr>\n",
       "      <th>4</th>\n",
       "      <td>88</td>\n",
       "      <td>0.173079</td>\n",
       "    </tr>\n",
       "    <tr>\n",
       "      <th>...</th>\n",
       "      <td>...</td>\n",
       "      <td>...</td>\n",
       "    </tr>\n",
       "    <tr>\n",
       "      <th>31995</th>\n",
       "      <td>561362</td>\n",
       "      <td>0.071659</td>\n",
       "    </tr>\n",
       "    <tr>\n",
       "      <th>31996</th>\n",
       "      <td>561419</td>\n",
       "      <td>0.050785</td>\n",
       "    </tr>\n",
       "    <tr>\n",
       "      <th>31997</th>\n",
       "      <td>561895</td>\n",
       "      <td>0.040891</td>\n",
       "    </tr>\n",
       "    <tr>\n",
       "      <th>31998</th>\n",
       "      <td>561908</td>\n",
       "      <td>0.040734</td>\n",
       "    </tr>\n",
       "    <tr>\n",
       "      <th>31999</th>\n",
       "      <td>562205</td>\n",
       "      <td>0.078290</td>\n",
       "    </tr>\n",
       "  </tbody>\n",
       "</table>\n",
       "<p>32000 rows × 2 columns</p>\n",
       "</div>"
      ],
      "text/plain": [
       "       user_id   predict\n",
       "0            9  0.025318\n",
       "1           61  0.014978\n",
       "2           62  0.029978\n",
       "3           80  0.013265\n",
       "4           88  0.173079\n",
       "...        ...       ...\n",
       "31995   561362  0.071659\n",
       "31996   561419  0.050785\n",
       "31997   561895  0.040891\n",
       "31998   561908  0.040734\n",
       "31999   562205  0.078290\n",
       "\n",
       "[32000 rows x 2 columns]"
      ]
     },
     "execution_count": 69,
     "metadata": {},
     "output_type": "execute_result"
    }
   ],
   "source": [
    "sample_sub"
   ]
  },
  {
   "cell_type": "code",
   "execution_count": 70,
   "metadata": {},
   "outputs": [],
   "source": [
    "sample_sub.to_csv('use_last_featuresv15.csv',index=False)"
   ]
  },
  {
   "cell_type": "code",
   "execution_count": 40,
   "metadata": {},
   "outputs": [],
   "source": [
    "imp = model.models[0].get_feature_importance(prettified=True).set_index('Feature Id')\n",
    "imp += model.models[1].get_feature_importance(prettified=True).set_index('Feature Id')\n",
    "imp += model.models[2].get_feature_importance(prettified=True).set_index('Feature Id')\n",
    "imp += model.models[3].get_feature_importance(prettified=True).set_index('Feature Id')\n",
    "imp += model.models[4].get_feature_importance(prettified=True).set_index('Feature Id')"
   ]
  },
  {
   "cell_type": "code",
   "execution_count": 67,
   "metadata": {},
   "outputs": [],
   "source": [
    "best_features = []\n",
    "n = 0\n",
    "for i in imp.index:\n",
    "    if 'feature_' in i:\n",
    "        best_features += [i]\n",
    "        n += 1\n",
    "    if n > 32:\n",
    "        break"
   ]
  },
  {
   "cell_type": "code",
   "execution_count": 41,
   "metadata": {
    "tags": []
   },
   "outputs": [
    {
     "data": {
      "text/html": [
       "<div>\n",
       "<style scoped>\n",
       "    .dataframe tbody tr th:only-of-type {\n",
       "        vertical-align: middle;\n",
       "    }\n",
       "\n",
       "    .dataframe tbody tr th {\n",
       "        vertical-align: top;\n",
       "    }\n",
       "\n",
       "    .dataframe thead th {\n",
       "        text-align: right;\n",
       "    }\n",
       "</style>\n",
       "<table border=\"1\" class=\"dataframe\">\n",
       "  <thead>\n",
       "    <tr style=\"text-align: right;\">\n",
       "      <th></th>\n",
       "      <th>Importances</th>\n",
       "    </tr>\n",
       "    <tr>\n",
       "      <th>Feature Id</th>\n",
       "      <th></th>\n",
       "    </tr>\n",
       "  </thead>\n",
       "  <tbody>\n",
       "    <tr>\n",
       "      <th>employee_count_nm</th>\n",
       "      <td>21.862866</td>\n",
       "    </tr>\n",
       "    <tr>\n",
       "      <th>customer_age</th>\n",
       "      <td>11.150221</td>\n",
       "    </tr>\n",
       "    <tr>\n",
       "      <th>mony_embeds_140</th>\n",
       "      <td>5.744290</td>\n",
       "    </tr>\n",
       "    <tr>\n",
       "      <th>mony_embeds_35</th>\n",
       "      <td>5.464682</td>\n",
       "    </tr>\n",
       "    <tr>\n",
       "      <th>time_step_skew</th>\n",
       "      <td>5.272469</td>\n",
       "    </tr>\n",
       "    <tr>\n",
       "      <th>report</th>\n",
       "      <td>4.909662</td>\n",
       "    </tr>\n",
       "    <tr>\n",
       "      <th>delta_time_differential_entropy</th>\n",
       "      <td>4.549348</td>\n",
       "    </tr>\n",
       "    <tr>\n",
       "      <th>mony_embeds_175</th>\n",
       "      <td>3.795349</td>\n",
       "    </tr>\n",
       "    <tr>\n",
       "      <th>time_step_median</th>\n",
       "      <td>3.606491</td>\n",
       "    </tr>\n",
       "    <tr>\n",
       "      <th>feat_year_time_cov_1</th>\n",
       "      <td>3.560614</td>\n",
       "    </tr>\n",
       "    <tr>\n",
       "      <th>time_step_max</th>\n",
       "      <td>3.306042</td>\n",
       "    </tr>\n",
       "    <tr>\n",
       "      <th>mony_embeds_82</th>\n",
       "      <td>3.237493</td>\n",
       "    </tr>\n",
       "    <tr>\n",
       "      <th>hour_embeds_27</th>\n",
       "      <td>3.010020</td>\n",
       "    </tr>\n",
       "    <tr>\n",
       "      <th>hour_embeds_50</th>\n",
       "      <td>2.679342</td>\n",
       "    </tr>\n",
       "    <tr>\n",
       "      <th>simple_features_diff</th>\n",
       "      <td>2.619315</td>\n",
       "    </tr>\n",
       "    <tr>\n",
       "      <th>mony_embeds_105</th>\n",
       "      <td>2.529730</td>\n",
       "    </tr>\n",
       "    <tr>\n",
       "      <th>curr_embeds_13</th>\n",
       "      <td>2.467526</td>\n",
       "    </tr>\n",
       "    <tr>\n",
       "      <th>feat_hour_cov_1</th>\n",
       "      <td>2.350471</td>\n",
       "    </tr>\n",
       "    <tr>\n",
       "      <th>percent_10</th>\n",
       "      <td>2.150028</td>\n",
       "    </tr>\n",
       "    <tr>\n",
       "      <th>mony_embeds_176</th>\n",
       "      <td>2.110122</td>\n",
       "    </tr>\n",
       "    <tr>\n",
       "      <th>simple_features_std</th>\n",
       "      <td>2.105932</td>\n",
       "    </tr>\n",
       "    <tr>\n",
       "      <th>mony_embeds_141</th>\n",
       "      <td>2.102511</td>\n",
       "    </tr>\n",
       "    <tr>\n",
       "      <th>Recency</th>\n",
       "      <td>2.058404</td>\n",
       "    </tr>\n",
       "    <tr>\n",
       "      <th>simple_oper_embeds_14</th>\n",
       "      <td>2.035499</td>\n",
       "    </tr>\n",
       "    <tr>\n",
       "      <th>percent_60</th>\n",
       "      <td>2.022424</td>\n",
       "    </tr>\n",
       "    <tr>\n",
       "      <th>mony_embeds_34</th>\n",
       "      <td>2.019915</td>\n",
       "    </tr>\n",
       "    <tr>\n",
       "      <th>mony_embeds_1</th>\n",
       "      <td>2.011104</td>\n",
       "    </tr>\n",
       "    <tr>\n",
       "      <th>mony_embeds_4</th>\n",
       "      <td>2.002961</td>\n",
       "    </tr>\n",
       "    <tr>\n",
       "      <th>mcc_nuniue</th>\n",
       "      <td>1.976145</td>\n",
       "    </tr>\n",
       "    <tr>\n",
       "      <th>last_30_simple_opr_features_min</th>\n",
       "      <td>1.953306</td>\n",
       "    </tr>\n",
       "    <tr>\n",
       "      <th>simple_opr_features_std</th>\n",
       "      <td>1.912074</td>\n",
       "    </tr>\n",
       "    <tr>\n",
       "      <th>feat_year_time_corr_sp</th>\n",
       "      <td>1.858039</td>\n",
       "    </tr>\n",
       "    <tr>\n",
       "      <th>last_30_simple_opr_features_median</th>\n",
       "      <td>1.845562</td>\n",
       "    </tr>\n",
       "    <tr>\n",
       "      <th>sum_percent_60</th>\n",
       "      <td>1.795646</td>\n",
       "    </tr>\n",
       "    <tr>\n",
       "      <th>percent_5</th>\n",
       "      <td>1.717074</td>\n",
       "    </tr>\n",
       "    <tr>\n",
       "      <th>currency_nuniue</th>\n",
       "      <td>1.677747</td>\n",
       "    </tr>\n",
       "    <tr>\n",
       "      <th>simple_features_sum</th>\n",
       "      <td>1.650252</td>\n",
       "    </tr>\n",
       "    <tr>\n",
       "      <th>simple_oper_embeds_3</th>\n",
       "      <td>1.635079</td>\n",
       "    </tr>\n",
       "    <tr>\n",
       "      <th>mony_embeds_36</th>\n",
       "      <td>1.629155</td>\n",
       "    </tr>\n",
       "    <tr>\n",
       "      <th>feat_year_time_corr_ps</th>\n",
       "      <td>1.603573</td>\n",
       "    </tr>\n",
       "    <tr>\n",
       "      <th>hard_time_step_count_0</th>\n",
       "      <td>1.594340</td>\n",
       "    </tr>\n",
       "    <tr>\n",
       "      <th>all_month_oper_embeds_8</th>\n",
       "      <td>1.572211</td>\n",
       "    </tr>\n",
       "    <tr>\n",
       "      <th>feat_hour_corr_ps</th>\n",
       "      <td>1.569796</td>\n",
       "    </tr>\n",
       "    <tr>\n",
       "      <th>sum_percent_10</th>\n",
       "      <td>1.564904</td>\n",
       "    </tr>\n",
       "    <tr>\n",
       "      <th>hour_embeds_99</th>\n",
       "      <td>1.561150</td>\n",
       "    </tr>\n",
       "    <tr>\n",
       "      <th>last_30_step_nuniue</th>\n",
       "      <td>1.513206</td>\n",
       "    </tr>\n",
       "    <tr>\n",
       "      <th>hard_time_step_count</th>\n",
       "      <td>1.508631</td>\n",
       "    </tr>\n",
       "    <tr>\n",
       "      <th>curr_embeds_21</th>\n",
       "      <td>1.506157</td>\n",
       "    </tr>\n",
       "    <tr>\n",
       "      <th>mony_embeds_9</th>\n",
       "      <td>1.477967</td>\n",
       "    </tr>\n",
       "    <tr>\n",
       "      <th>feat_dayofweek_cov_1</th>\n",
       "      <td>1.470374</td>\n",
       "    </tr>\n",
       "    <tr>\n",
       "      <th>mony_embeds_177</th>\n",
       "      <td>1.427215</td>\n",
       "    </tr>\n",
       "    <tr>\n",
       "      <th>sum_percent_45</th>\n",
       "      <td>1.426574</td>\n",
       "    </tr>\n",
       "    <tr>\n",
       "      <th>simple_features_mean</th>\n",
       "      <td>1.425555</td>\n",
       "    </tr>\n",
       "    <tr>\n",
       "      <th>simple_oper_embeds_2</th>\n",
       "      <td>1.420398</td>\n",
       "    </tr>\n",
       "    <tr>\n",
       "      <th>simple_oper_embeds_10</th>\n",
       "      <td>1.415105</td>\n",
       "    </tr>\n",
       "    <tr>\n",
       "      <th>simple_oper_embeds_15</th>\n",
       "      <td>1.414226</td>\n",
       "    </tr>\n",
       "    <tr>\n",
       "      <th>percent_25</th>\n",
       "      <td>1.398314</td>\n",
       "    </tr>\n",
       "    <tr>\n",
       "      <th>delta_all_sec_features_diff</th>\n",
       "      <td>1.387160</td>\n",
       "    </tr>\n",
       "    <tr>\n",
       "      <th>expct_avg_spend</th>\n",
       "      <td>1.370514</td>\n",
       "    </tr>\n",
       "    <tr>\n",
       "      <th>feat_dayofweek_corr_ps</th>\n",
       "      <td>1.368777</td>\n",
       "    </tr>\n",
       "  </tbody>\n",
       "</table>\n",
       "</div>"
      ],
      "text/plain": [
       "                                    Importances\n",
       "Feature Id                                     \n",
       "employee_count_nm                     21.862866\n",
       "customer_age                          11.150221\n",
       "mony_embeds_140                        5.744290\n",
       "mony_embeds_35                         5.464682\n",
       "time_step_skew                         5.272469\n",
       "report                                 4.909662\n",
       "delta_time_differential_entropy        4.549348\n",
       "mony_embeds_175                        3.795349\n",
       "time_step_median                       3.606491\n",
       "feat_year_time_cov_1                   3.560614\n",
       "time_step_max                          3.306042\n",
       "mony_embeds_82                         3.237493\n",
       "hour_embeds_27                         3.010020\n",
       "hour_embeds_50                         2.679342\n",
       "simple_features_diff                   2.619315\n",
       "mony_embeds_105                        2.529730\n",
       "curr_embeds_13                         2.467526\n",
       "feat_hour_cov_1                        2.350471\n",
       "percent_10                             2.150028\n",
       "mony_embeds_176                        2.110122\n",
       "simple_features_std                    2.105932\n",
       "mony_embeds_141                        2.102511\n",
       "Recency                                2.058404\n",
       "simple_oper_embeds_14                  2.035499\n",
       "percent_60                             2.022424\n",
       "mony_embeds_34                         2.019915\n",
       "mony_embeds_1                          2.011104\n",
       "mony_embeds_4                          2.002961\n",
       "mcc_nuniue                             1.976145\n",
       "last_30_simple_opr_features_min        1.953306\n",
       "simple_opr_features_std                1.912074\n",
       "feat_year_time_corr_sp                 1.858039\n",
       "last_30_simple_opr_features_median     1.845562\n",
       "sum_percent_60                         1.795646\n",
       "percent_5                              1.717074\n",
       "currency_nuniue                        1.677747\n",
       "simple_features_sum                    1.650252\n",
       "simple_oper_embeds_3                   1.635079\n",
       "mony_embeds_36                         1.629155\n",
       "feat_year_time_corr_ps                 1.603573\n",
       "hard_time_step_count_0                 1.594340\n",
       "all_month_oper_embeds_8                1.572211\n",
       "feat_hour_corr_ps                      1.569796\n",
       "sum_percent_10                         1.564904\n",
       "hour_embeds_99                         1.561150\n",
       "last_30_step_nuniue                    1.513206\n",
       "hard_time_step_count                   1.508631\n",
       "curr_embeds_21                         1.506157\n",
       "mony_embeds_9                          1.477967\n",
       "feat_dayofweek_cov_1                   1.470374\n",
       "mony_embeds_177                        1.427215\n",
       "sum_percent_45                         1.426574\n",
       "simple_features_mean                   1.425555\n",
       "simple_oper_embeds_2                   1.420398\n",
       "simple_oper_embeds_10                  1.415105\n",
       "simple_oper_embeds_15                  1.414226\n",
       "percent_25                             1.398314\n",
       "delta_all_sec_features_diff            1.387160\n",
       "expct_avg_spend                        1.370514\n",
       "feat_dayofweek_corr_ps                 1.368777"
      ]
     },
     "execution_count": 41,
     "metadata": {},
     "output_type": "execute_result"
    }
   ],
   "source": [
    "imp.sort_values(by='Importances')[::-1][:60]"
   ]
  },
  {
   "cell_type": "code",
   "execution_count": 44,
   "metadata": {},
   "outputs": [
    {
     "data": {
      "text/plain": [
       "Index(['employee_count_nm', 'customer_age', 'mony_embeds_140',\n",
       "       'mony_embeds_35', 'time_step_skew', 'report',\n",
       "       'delta_time_differential_entropy', 'mony_embeds_175',\n",
       "       'time_step_median', 'feat_year_time_cov_1',\n",
       "       ...\n",
       "       'last_30_hour_embeds_110', 'hour_embeds_11', 'last_30_time_step_q_90',\n",
       "       'hour_embeds_13', 'month_embeds_6', 'month_embeds_17', 'hour_embeds_19',\n",
       "       'last_30_time_month_features_median', 'mony_embeds_186',\n",
       "       'month_embeds_53'],\n",
       "      dtype='object', name='Feature Id', length=512)"
      ]
     },
     "execution_count": 44,
     "metadata": {},
     "output_type": "execute_result"
    }
   ],
   "source": [
    "best_features"
   ]
  },
  {
   "cell_type": "code",
   "execution_count": 43,
   "metadata": {},
   "outputs": [],
   "source": [
    "best_features = imp.sort_values(by='Importances')[::-1].index[:512]"
   ]
  },
  {
   "cell_type": "code",
   "execution_count": 46,
   "metadata": {},
   "outputs": [],
   "source": [
    "pd.DataFrame({'best_features':best_features.tolist()}).to_csv('best_features.csv',index=False)"
   ]
  },
  {
   "cell_type": "code",
   "execution_count": 218,
   "metadata": {},
   "outputs": [
    {
     "data": {
      "text/html": [
       "<div>\n",
       "<style scoped>\n",
       "    .dataframe tbody tr th:only-of-type {\n",
       "        vertical-align: middle;\n",
       "    }\n",
       "\n",
       "    .dataframe tbody tr th {\n",
       "        vertical-align: top;\n",
       "    }\n",
       "\n",
       "    .dataframe thead th {\n",
       "        text-align: right;\n",
       "    }\n",
       "</style>\n",
       "<table border=\"1\" class=\"dataframe\">\n",
       "  <thead>\n",
       "    <tr style=\"text-align: right;\">\n",
       "      <th></th>\n",
       "      <th>Feature Id</th>\n",
       "      <th>Importances</th>\n",
       "    </tr>\n",
       "  </thead>\n",
       "  <tbody>\n",
       "    <tr>\n",
       "      <th>0</th>\n",
       "      <td>employee_count_nm</td>\n",
       "      <td>5.466786</td>\n",
       "    </tr>\n",
       "    <tr>\n",
       "      <th>1</th>\n",
       "      <td>customer_age</td>\n",
       "      <td>2.469253</td>\n",
       "    </tr>\n",
       "    <tr>\n",
       "      <th>2</th>\n",
       "      <td>mony_embeds_140</td>\n",
       "      <td>1.487582</td>\n",
       "    </tr>\n",
       "    <tr>\n",
       "      <th>3</th>\n",
       "      <td>mony_embeds_35</td>\n",
       "      <td>1.316854</td>\n",
       "    </tr>\n",
       "    <tr>\n",
       "      <th>4</th>\n",
       "      <td>delta_time_differential_entropy</td>\n",
       "      <td>1.242248</td>\n",
       "    </tr>\n",
       "    <tr>\n",
       "      <th>5</th>\n",
       "      <td>report</td>\n",
       "      <td>1.174008</td>\n",
       "    </tr>\n",
       "    <tr>\n",
       "      <th>6</th>\n",
       "      <td>time_step_skew</td>\n",
       "      <td>0.916735</td>\n",
       "    </tr>\n",
       "    <tr>\n",
       "      <th>7</th>\n",
       "      <td>time_step_max</td>\n",
       "      <td>0.797993</td>\n",
       "    </tr>\n",
       "    <tr>\n",
       "      <th>8</th>\n",
       "      <td>mony_embeds_105</td>\n",
       "      <td>0.735741</td>\n",
       "    </tr>\n",
       "    <tr>\n",
       "      <th>9</th>\n",
       "      <td>mony_embeds_82</td>\n",
       "      <td>0.722922</td>\n",
       "    </tr>\n",
       "    <tr>\n",
       "      <th>10</th>\n",
       "      <td>hour_embeds_27</td>\n",
       "      <td>0.695768</td>\n",
       "    </tr>\n",
       "    <tr>\n",
       "      <th>11</th>\n",
       "      <td>time_step_median</td>\n",
       "      <td>0.676046</td>\n",
       "    </tr>\n",
       "    <tr>\n",
       "      <th>12</th>\n",
       "      <td>mony_embeds_175</td>\n",
       "      <td>0.649406</td>\n",
       "    </tr>\n",
       "    <tr>\n",
       "      <th>13</th>\n",
       "      <td>last_30_delta_all_sec_time_features_mean</td>\n",
       "      <td>0.637660</td>\n",
       "    </tr>\n",
       "    <tr>\n",
       "      <th>14</th>\n",
       "      <td>hour_embeds_50</td>\n",
       "      <td>0.633846</td>\n",
       "    </tr>\n",
       "    <tr>\n",
       "      <th>15</th>\n",
       "      <td>simple_features_diff</td>\n",
       "      <td>0.628819</td>\n",
       "    </tr>\n",
       "    <tr>\n",
       "      <th>16</th>\n",
       "      <td>simple_features_sum</td>\n",
       "      <td>0.624965</td>\n",
       "    </tr>\n",
       "    <tr>\n",
       "      <th>17</th>\n",
       "      <td>mony_embeds_34</td>\n",
       "      <td>0.616431</td>\n",
       "    </tr>\n",
       "    <tr>\n",
       "      <th>18</th>\n",
       "      <td>currency_nuniue</td>\n",
       "      <td>0.610703</td>\n",
       "    </tr>\n",
       "    <tr>\n",
       "      <th>19</th>\n",
       "      <td>feat_year_time_cov_1</td>\n",
       "      <td>0.561187</td>\n",
       "    </tr>\n",
       "    <tr>\n",
       "      <th>20</th>\n",
       "      <td>feat_dayofweek_cov_1</td>\n",
       "      <td>0.557043</td>\n",
       "    </tr>\n",
       "    <tr>\n",
       "      <th>21</th>\n",
       "      <td>last_30_delta_all_sec_time_features_min</td>\n",
       "      <td>0.524173</td>\n",
       "    </tr>\n",
       "    <tr>\n",
       "      <th>22</th>\n",
       "      <td>mony_embeds_1</td>\n",
       "      <td>0.519394</td>\n",
       "    </tr>\n",
       "    <tr>\n",
       "      <th>23</th>\n",
       "      <td>mony_embeds_141</td>\n",
       "      <td>0.482984</td>\n",
       "    </tr>\n",
       "    <tr>\n",
       "      <th>24</th>\n",
       "      <td>percent_10</td>\n",
       "      <td>0.419647</td>\n",
       "    </tr>\n",
       "    <tr>\n",
       "      <th>25</th>\n",
       "      <td>sum_percent_60</td>\n",
       "      <td>0.416963</td>\n",
       "    </tr>\n",
       "    <tr>\n",
       "      <th>26</th>\n",
       "      <td>mcc_nuniue</td>\n",
       "      <td>0.414511</td>\n",
       "    </tr>\n",
       "    <tr>\n",
       "      <th>27</th>\n",
       "      <td>mony_embeds_37</td>\n",
       "      <td>0.412919</td>\n",
       "    </tr>\n",
       "    <tr>\n",
       "      <th>28</th>\n",
       "      <td>simple_oper_embeds_3</td>\n",
       "      <td>0.411059</td>\n",
       "    </tr>\n",
       "    <tr>\n",
       "      <th>29</th>\n",
       "      <td>expct_avg_spend</td>\n",
       "      <td>0.409111</td>\n",
       "    </tr>\n",
       "    <tr>\n",
       "      <th>30</th>\n",
       "      <td>simple_oper_embeds_15</td>\n",
       "      <td>0.406351</td>\n",
       "    </tr>\n",
       "    <tr>\n",
       "      <th>31</th>\n",
       "      <td>mony_embeds_36</td>\n",
       "      <td>0.402859</td>\n",
       "    </tr>\n",
       "    <tr>\n",
       "      <th>32</th>\n",
       "      <td>simple_features_mean</td>\n",
       "      <td>0.395959</td>\n",
       "    </tr>\n",
       "    <tr>\n",
       "      <th>33</th>\n",
       "      <td>simple_opr_features_std</td>\n",
       "      <td>0.388073</td>\n",
       "    </tr>\n",
       "    <tr>\n",
       "      <th>34</th>\n",
       "      <td>curr_embeds_3</td>\n",
       "      <td>0.379956</td>\n",
       "    </tr>\n",
       "    <tr>\n",
       "      <th>35</th>\n",
       "      <td>feat_year_time_corr_ps</td>\n",
       "      <td>0.379509</td>\n",
       "    </tr>\n",
       "    <tr>\n",
       "      <th>36</th>\n",
       "      <td>Recency</td>\n",
       "      <td>0.376451</td>\n",
       "    </tr>\n",
       "    <tr>\n",
       "      <th>37</th>\n",
       "      <td>curr_embeds_7</td>\n",
       "      <td>0.356125</td>\n",
       "    </tr>\n",
       "    <tr>\n",
       "      <th>38</th>\n",
       "      <td>feat_hour_cov_1</td>\n",
       "      <td>0.355414</td>\n",
       "    </tr>\n",
       "    <tr>\n",
       "      <th>39</th>\n",
       "      <td>mony_embeds_139</td>\n",
       "      <td>0.353981</td>\n",
       "    </tr>\n",
       "    <tr>\n",
       "      <th>40</th>\n",
       "      <td>percent_25</td>\n",
       "      <td>0.349178</td>\n",
       "    </tr>\n",
       "    <tr>\n",
       "      <th>41</th>\n",
       "      <td>sum_percent_15</td>\n",
       "      <td>0.347128</td>\n",
       "    </tr>\n",
       "    <tr>\n",
       "      <th>42</th>\n",
       "      <td>simple_oper_embeds_2</td>\n",
       "      <td>0.345913</td>\n",
       "    </tr>\n",
       "    <tr>\n",
       "      <th>43</th>\n",
       "      <td>sum_percent_20</td>\n",
       "      <td>0.343959</td>\n",
       "    </tr>\n",
       "    <tr>\n",
       "      <th>44</th>\n",
       "      <td>Monetary</td>\n",
       "      <td>0.337331</td>\n",
       "    </tr>\n",
       "    <tr>\n",
       "      <th>45</th>\n",
       "      <td>last_30_delta_all_sec_time_features_max</td>\n",
       "      <td>0.337206</td>\n",
       "    </tr>\n",
       "    <tr>\n",
       "      <th>46</th>\n",
       "      <td>mony_embeds_176</td>\n",
       "      <td>0.332446</td>\n",
       "    </tr>\n",
       "    <tr>\n",
       "      <th>47</th>\n",
       "      <td>curr_embeds_11</td>\n",
       "      <td>0.328745</td>\n",
       "    </tr>\n",
       "    <tr>\n",
       "      <th>48</th>\n",
       "      <td>mony_embeds_177</td>\n",
       "      <td>0.326550</td>\n",
       "    </tr>\n",
       "    <tr>\n",
       "      <th>49</th>\n",
       "      <td>simple_oper_embeds_10</td>\n",
       "      <td>0.324322</td>\n",
       "    </tr>\n",
       "    <tr>\n",
       "      <th>50</th>\n",
       "      <td>hard_time_step_count</td>\n",
       "      <td>0.324124</td>\n",
       "    </tr>\n",
       "    <tr>\n",
       "      <th>51</th>\n",
       "      <td>simple_features_&lt;lambda&gt;</td>\n",
       "      <td>0.316190</td>\n",
       "    </tr>\n",
       "    <tr>\n",
       "      <th>52</th>\n",
       "      <td>hour_embeds_51</td>\n",
       "      <td>0.312813</td>\n",
       "    </tr>\n",
       "    <tr>\n",
       "      <th>53</th>\n",
       "      <td>month_embeds_18</td>\n",
       "      <td>0.309741</td>\n",
       "    </tr>\n",
       "    <tr>\n",
       "      <th>54</th>\n",
       "      <td>mony_embeds_4</td>\n",
       "      <td>0.306954</td>\n",
       "    </tr>\n",
       "    <tr>\n",
       "      <th>55</th>\n",
       "      <td>hard_time_step_std</td>\n",
       "      <td>0.306455</td>\n",
       "    </tr>\n",
       "    <tr>\n",
       "      <th>56</th>\n",
       "      <td>hour_embeds_99</td>\n",
       "      <td>0.303907</td>\n",
       "    </tr>\n",
       "    <tr>\n",
       "      <th>57</th>\n",
       "      <td>delta_all_sec_features_diff</td>\n",
       "      <td>0.298588</td>\n",
       "    </tr>\n",
       "    <tr>\n",
       "      <th>58</th>\n",
       "      <td>hour_embeds_26</td>\n",
       "      <td>0.296731</td>\n",
       "    </tr>\n",
       "    <tr>\n",
       "      <th>59</th>\n",
       "      <td>percent_30</td>\n",
       "      <td>0.294016</td>\n",
       "    </tr>\n",
       "  </tbody>\n",
       "</table>\n",
       "</div>"
      ],
      "text/plain": [
       "                                  Feature Id  Importances\n",
       "0                          employee_count_nm     5.466786\n",
       "1                               customer_age     2.469253\n",
       "2                            mony_embeds_140     1.487582\n",
       "3                             mony_embeds_35     1.316854\n",
       "4            delta_time_differential_entropy     1.242248\n",
       "5                                     report     1.174008\n",
       "6                             time_step_skew     0.916735\n",
       "7                              time_step_max     0.797993\n",
       "8                            mony_embeds_105     0.735741\n",
       "9                             mony_embeds_82     0.722922\n",
       "10                            hour_embeds_27     0.695768\n",
       "11                          time_step_median     0.676046\n",
       "12                           mony_embeds_175     0.649406\n",
       "13  last_30_delta_all_sec_time_features_mean     0.637660\n",
       "14                            hour_embeds_50     0.633846\n",
       "15                      simple_features_diff     0.628819\n",
       "16                       simple_features_sum     0.624965\n",
       "17                            mony_embeds_34     0.616431\n",
       "18                           currency_nuniue     0.610703\n",
       "19                      feat_year_time_cov_1     0.561187\n",
       "20                      feat_dayofweek_cov_1     0.557043\n",
       "21   last_30_delta_all_sec_time_features_min     0.524173\n",
       "22                             mony_embeds_1     0.519394\n",
       "23                           mony_embeds_141     0.482984\n",
       "24                                percent_10     0.419647\n",
       "25                            sum_percent_60     0.416963\n",
       "26                                mcc_nuniue     0.414511\n",
       "27                            mony_embeds_37     0.412919\n",
       "28                      simple_oper_embeds_3     0.411059\n",
       "29                           expct_avg_spend     0.409111\n",
       "30                     simple_oper_embeds_15     0.406351\n",
       "31                            mony_embeds_36     0.402859\n",
       "32                      simple_features_mean     0.395959\n",
       "33                   simple_opr_features_std     0.388073\n",
       "34                             curr_embeds_3     0.379956\n",
       "35                    feat_year_time_corr_ps     0.379509\n",
       "36                                   Recency     0.376451\n",
       "37                             curr_embeds_7     0.356125\n",
       "38                           feat_hour_cov_1     0.355414\n",
       "39                           mony_embeds_139     0.353981\n",
       "40                                percent_25     0.349178\n",
       "41                            sum_percent_15     0.347128\n",
       "42                      simple_oper_embeds_2     0.345913\n",
       "43                            sum_percent_20     0.343959\n",
       "44                                  Monetary     0.337331\n",
       "45   last_30_delta_all_sec_time_features_max     0.337206\n",
       "46                           mony_embeds_176     0.332446\n",
       "47                            curr_embeds_11     0.328745\n",
       "48                           mony_embeds_177     0.326550\n",
       "49                     simple_oper_embeds_10     0.324322\n",
       "50                      hard_time_step_count     0.324124\n",
       "51                  simple_features_<lambda>     0.316190\n",
       "52                            hour_embeds_51     0.312813\n",
       "53                           month_embeds_18     0.309741\n",
       "54                             mony_embeds_4     0.306954\n",
       "55                        hard_time_step_std     0.306455\n",
       "56                            hour_embeds_99     0.303907\n",
       "57               delta_all_sec_features_diff     0.298588\n",
       "58                            hour_embeds_26     0.296731\n",
       "59                                percent_30     0.294016"
      ]
     },
     "execution_count": 218,
     "metadata": {},
     "output_type": "execute_result"
    }
   ],
   "source": [
    "model.models[0].get_feature_importance(prettified=True)[:60]"
   ]
  },
  {
   "cell_type": "code",
   "execution_count": null,
   "metadata": {
    "tags": []
   },
   "outputs": [],
   "source": [
    "best_features"
   ]
  },
  {
   "cell_type": "code",
   "execution_count": 230,
   "metadata": {},
   "outputs": [],
   "source": [
    "sub_1 = pd.read_csv('use_last_featuresv6.csv')\n",
    "sub_2 = pd.read_csv('use_last_featuresv10.csv')"
   ]
  },
  {
   "cell_type": "code",
   "execution_count": 232,
   "metadata": {},
   "outputs": [],
   "source": [
    "sub_1['predict'] += sub_2['predict']"
   ]
  },
  {
   "cell_type": "code",
   "execution_count": 234,
   "metadata": {},
   "outputs": [],
   "source": [
    "sub_1.to_csv('ense_v12.csv',index=False)"
   ]
  },
  {
   "cell_type": "code",
   "execution_count": null,
   "metadata": {},
   "outputs": [],
   "source": []
  }
 ],
 "metadata": {
  "accelerator": "GPU",
  "colab": {
   "gpuType": "T4",
   "provenance": []
  },
  "kaggle": {
   "accelerator": "gpu",
   "dataSources": [],
   "dockerImageVersionId": 30648,
   "isGpuEnabled": true,
   "isInternetEnabled": true,
   "language": "python",
   "sourceType": "notebook"
  },
  "kernelspec": {
   "display_name": "Python 3 (ipykernel)",
   "language": "python",
   "name": "python3"
  },
  "language_info": {
   "codemirror_mode": {
    "name": "ipython",
    "version": 3
   },
   "file_extension": ".py",
   "mimetype": "text/x-python",
   "name": "python",
   "nbconvert_exporter": "python",
   "pygments_lexer": "ipython3",
   "version": "3.9.13"
  }
 },
 "nbformat": 4,
 "nbformat_minor": 4
}
