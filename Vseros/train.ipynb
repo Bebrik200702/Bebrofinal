{
 "cells": [
  {
   "cell_type": "code",
   "execution_count": 27,
   "id": "9bec8074-83a6-42cf-b928-209d11aa34a1",
   "metadata": {
    "tags": []
   },
   "outputs": [],
   "source": [
    "import numpy as np\n",
    "import pandas as pd\n",
    "import polars as pl\n",
    "from catboost import CatBoostClassifier, Pool, cv\n",
    "import lightgbm as lgb\n",
    "import xgboost as xgb\n",
    "from sklearn.metrics import roc_auc_score, roc_curve, auc, accuracy_score, recall_score\n",
    "from functools import partial \n",
    "from sklearn.base import BaseEstimator\n",
    "from tqdm.auto import trange\n",
    "from sklearn.model_selection import train_test_split, StratifiedKFold, StratifiedGroupKFold"
   ]
  },
  {
   "cell_type": "code",
   "execution_count": 4,
   "id": "aed8b462-72aa-4a01-b612-b0ea7dd3d0cb",
   "metadata": {
    "tags": []
   },
   "outputs": [
    {
     "data": {
      "text/html": [
       "<div>\n",
       "<style scoped>\n",
       "    .dataframe tbody tr th:only-of-type {\n",
       "        vertical-align: middle;\n",
       "    }\n",
       "\n",
       "    .dataframe tbody tr th {\n",
       "        vertical-align: top;\n",
       "    }\n",
       "\n",
       "    .dataframe thead th {\n",
       "        text-align: right;\n",
       "    }\n",
       "</style>\n",
       "<table border=\"1\" class=\"dataframe\">\n",
       "  <thead>\n",
       "    <tr style=\"text-align: right;\">\n",
       "      <th></th>\n",
       "      <th>graph_1</th>\n",
       "      <th>graph_2</th>\n",
       "      <th>graph_3</th>\n",
       "      <th>feature_1</th>\n",
       "      <th>bki_1</th>\n",
       "      <th>graph_4</th>\n",
       "      <th>feature_2</th>\n",
       "      <th>graph_5</th>\n",
       "      <th>feature_3</th>\n",
       "      <th>graph_6</th>\n",
       "      <th>...</th>\n",
       "      <th>graph_22</th>\n",
       "      <th>application_2</th>\n",
       "      <th>bki_14</th>\n",
       "      <th>bki_15</th>\n",
       "      <th>feature_37</th>\n",
       "      <th>bki_16</th>\n",
       "      <th>bki_17</th>\n",
       "      <th>mb_15</th>\n",
       "      <th>feature_38</th>\n",
       "      <th>target</th>\n",
       "    </tr>\n",
       "  </thead>\n",
       "  <tbody>\n",
       "    <tr>\n",
       "      <th>0</th>\n",
       "      <td>73.0</td>\n",
       "      <td>25.0</td>\n",
       "      <td>63.0</td>\n",
       "      <td>0.0</td>\n",
       "      <td>-3.307791</td>\n",
       "      <td>59.0</td>\n",
       "      <td>36.0</td>\n",
       "      <td>19544.0</td>\n",
       "      <td>0.0</td>\n",
       "      <td>91.0</td>\n",
       "      <td>...</td>\n",
       "      <td>0.0</td>\n",
       "      <td>0</td>\n",
       "      <td>44211.0</td>\n",
       "      <td>31.0</td>\n",
       "      <td>390.414429</td>\n",
       "      <td>0.571132</td>\n",
       "      <td>0.000</td>\n",
       "      <td>12527.0</td>\n",
       "      <td>0.0</td>\n",
       "      <td>0</td>\n",
       "    </tr>\n",
       "    <tr>\n",
       "      <th>1</th>\n",
       "      <td>64.0</td>\n",
       "      <td>37.0</td>\n",
       "      <td>68.0</td>\n",
       "      <td>0.0</td>\n",
       "      <td>-2.527839</td>\n",
       "      <td>106.0</td>\n",
       "      <td>36.0</td>\n",
       "      <td>1457.0</td>\n",
       "      <td>0.0</td>\n",
       "      <td>180.0</td>\n",
       "      <td>...</td>\n",
       "      <td>6.0</td>\n",
       "      <td>0</td>\n",
       "      <td>5600.0</td>\n",
       "      <td>3.0</td>\n",
       "      <td>663.702500</td>\n",
       "      <td>1.447663</td>\n",
       "      <td>0.100</td>\n",
       "      <td>10276.0</td>\n",
       "      <td>0.0</td>\n",
       "      <td>0</td>\n",
       "    </tr>\n",
       "    <tr>\n",
       "      <th>2</th>\n",
       "      <td>73.0</td>\n",
       "      <td>34.0</td>\n",
       "      <td>80.0</td>\n",
       "      <td>0.0</td>\n",
       "      <td>-2.985949</td>\n",
       "      <td>72.0</td>\n",
       "      <td>44.0</td>\n",
       "      <td>13071.0</td>\n",
       "      <td>0.0</td>\n",
       "      <td>151.0</td>\n",
       "      <td>...</td>\n",
       "      <td>1.0</td>\n",
       "      <td>0</td>\n",
       "      <td>250889.0</td>\n",
       "      <td>8.0</td>\n",
       "      <td>NaN</td>\n",
       "      <td>0.234987</td>\n",
       "      <td>11.240</td>\n",
       "      <td>4588.0</td>\n",
       "      <td>0.0</td>\n",
       "      <td>0</td>\n",
       "    </tr>\n",
       "    <tr>\n",
       "      <th>3</th>\n",
       "      <td>170.0</td>\n",
       "      <td>99.0</td>\n",
       "      <td>203.0</td>\n",
       "      <td>0.0</td>\n",
       "      <td>-3.392264</td>\n",
       "      <td>228.0</td>\n",
       "      <td>NaN</td>\n",
       "      <td>7000.0</td>\n",
       "      <td>NaN</td>\n",
       "      <td>388.0</td>\n",
       "      <td>...</td>\n",
       "      <td>2.0</td>\n",
       "      <td>0</td>\n",
       "      <td>NaN</td>\n",
       "      <td>NaN</td>\n",
       "      <td>471.623097</td>\n",
       "      <td>NaN</td>\n",
       "      <td>NaN</td>\n",
       "      <td>22968.0</td>\n",
       "      <td>0.0</td>\n",
       "      <td>0</td>\n",
       "    </tr>\n",
       "    <tr>\n",
       "      <th>4</th>\n",
       "      <td>65.0</td>\n",
       "      <td>20.0</td>\n",
       "      <td>77.0</td>\n",
       "      <td>0.0</td>\n",
       "      <td>-2.657559</td>\n",
       "      <td>115.0</td>\n",
       "      <td>18.0</td>\n",
       "      <td>21725.0</td>\n",
       "      <td>0.0</td>\n",
       "      <td>190.0</td>\n",
       "      <td>...</td>\n",
       "      <td>13.0</td>\n",
       "      <td>1</td>\n",
       "      <td>0.0</td>\n",
       "      <td>0.0</td>\n",
       "      <td>411.162400</td>\n",
       "      <td>0.000000</td>\n",
       "      <td>29.402</td>\n",
       "      <td>15687.0</td>\n",
       "      <td>0.0</td>\n",
       "      <td>0</td>\n",
       "    </tr>\n",
       "  </tbody>\n",
       "</table>\n",
       "<p>5 rows × 101 columns</p>\n",
       "</div>"
      ],
      "text/plain": [
       "   graph_1  graph_2  graph_3  feature_1     bki_1  graph_4  feature_2  \\\n",
       "0     73.0     25.0     63.0        0.0 -3.307791     59.0       36.0   \n",
       "1     64.0     37.0     68.0        0.0 -2.527839    106.0       36.0   \n",
       "2     73.0     34.0     80.0        0.0 -2.985949     72.0       44.0   \n",
       "3    170.0     99.0    203.0        0.0 -3.392264    228.0        NaN   \n",
       "4     65.0     20.0     77.0        0.0 -2.657559    115.0       18.0   \n",
       "\n",
       "   graph_5  feature_3  graph_6  ...  graph_22  application_2    bki_14  \\\n",
       "0  19544.0        0.0     91.0  ...       0.0              0   44211.0   \n",
       "1   1457.0        0.0    180.0  ...       6.0              0    5600.0   \n",
       "2  13071.0        0.0    151.0  ...       1.0              0  250889.0   \n",
       "3   7000.0        NaN    388.0  ...       2.0              0       NaN   \n",
       "4  21725.0        0.0    190.0  ...      13.0              1       0.0   \n",
       "\n",
       "   bki_15  feature_37    bki_16  bki_17    mb_15  feature_38  target  \n",
       "0    31.0  390.414429  0.571132   0.000  12527.0         0.0       0  \n",
       "1     3.0  663.702500  1.447663   0.100  10276.0         0.0       0  \n",
       "2     8.0         NaN  0.234987  11.240   4588.0         0.0       0  \n",
       "3     NaN  471.623097       NaN     NaN  22968.0         0.0       0  \n",
       "4     0.0  411.162400  0.000000  29.402  15687.0         0.0       0  \n",
       "\n",
       "[5 rows x 101 columns]"
      ]
     },
     "execution_count": 4,
     "metadata": {},
     "output_type": "execute_result"
    }
   ],
   "source": [
    "train_data = pd.read_csv('vserosotb/train (1)/train_share.tsv',sep='\\t')\n",
    "test_data = pd.read_csv('vserosotb/test-10/test_share.tsv',sep='\\t')\n",
    "train_data.head(5)"
   ]
  },
  {
   "cell_type": "code",
   "execution_count": 127,
   "id": "f8a7fb7f-42b2-4326-acfa-31f6beb135ec",
   "metadata": {
    "tags": []
   },
   "outputs": [
    {
     "data": {
      "text/plain": [
       "array([1, 1, 1])"
      ]
     },
     "execution_count": 127,
     "metadata": {},
     "output_type": "execute_result"
    }
   ],
   "source": [
    "d = np.array([1,2,3])\n",
    "d[[1,2]] = 1\n",
    "d"
   ]
  },
  {
   "cell_type": "code",
   "execution_count": 133,
   "id": "6e2b2e97-9515-4cd2-9f37-6b120bd4676a",
   "metadata": {
    "tags": []
   },
   "outputs": [],
   "source": [
    "def recall_topk(y_t,y_p):\n",
    "    idx = np.argsort(y_p)[::-1][:int(len(y_p)*0.15)]\n",
    "    y_p *= 0\n",
    "    y_p[idx] = 1\n",
    "    return recall_score(y_t,y_p)\n",
    "\n",
    "class RecallTop15Metric:\n",
    "    def is_max_optimal(self):\n",
    "        return True # greater is better\n",
    "\n",
    "    def evaluate(self, approxes, target, weight):\n",
    "        assert len(approxes) == 1\n",
    "        assert len(target) == len(approxes[0])\n",
    "\n",
    "        approx = approxes[0]\n",
    "\n",
    "        y_pred = approx #np.rint(approx)\n",
    "        y_true = np.array(target).astype(int)\n",
    "\n",
    "        output_weight = 1 # weight is not used\n",
    "\n",
    "        score = recall_topk(y_true, y_pred)\n",
    " \n",
    "        return score, output_weight\n",
    "\n",
    "    def get_final_error(self, error, weight):\n",
    "        return error\n",
    "\n",
    "\n",
    "cb_params = {\n",
    "    'iterations': 1500,\n",
    "    'learning_rate': 0.05,\n",
    "    'loss_function': 'CrossEntropy',\n",
    "    'max_depth': 6,\n",
    "    'eval_metric': RecallTop15Metric(),\n",
    "    'use_best_model':True,\n",
    "    'task_type': 'GPU' ,\n",
    "    'random_seed': 56\n",
    "}\n",
    "\n",
    "lgb_params = {\n",
    "    'enable_categorical': True,\n",
    "    'objective': 'binary',\n",
    "    'verbosity': -1,\n",
    "    'n_iter': 500,\n",
    "    'boosting_type': 'gbdt',\n",
    "    'random_state': 56,\n",
    "    #'lambda_l1': 0.08758718919397321, \n",
    "    #'lambda_l2': 0.0039689175176025465, \n",
    "    'learning_rate': 0.03, \n",
    "    'max_depth': 6, \n",
    "    #'num_leaves': 103, \n",
    "    #'colsample_bytree': 0.8329551585827726, \n",
    "    #'colsample_bynode': 0.4025961355653304, \n",
    "    #'bagging_fraction': 0.7738954452473223, \n",
    "    #'bagging_freq': 4, \n",
    "    #'min_data_in_leaf': 85, \n",
    "    #'scale_pos_weight': 2.7984184778875543,\n",
    "}\n",
    "\n",
    "params = {\n",
    "    'cb_params':cb_params,\n",
    "    'lgb_params': lgb_params,\n",
    "    'xgb_params': None,\n",
    "}\n",
    "\n",
    "cat_cols = []\n",
    "label_col = 'target'\n",
    "drop_cols = []"
   ]
  },
  {
   "cell_type": "code",
   "execution_count": 134,
   "id": "2a5bb66b-b2bd-4fb0-8ea2-6b0daebff160",
   "metadata": {
    "tags": []
   },
   "outputs": [],
   "source": [
    "class EnsembleClassifier(BaseEstimator):\n",
    "    def __init__(self,cb_params,lgb_params,xgb_params):\n",
    "        self.cbm = CatBoostClassifier(**cb_params)\n",
    "        #self.lgbm = lgb.LGBMClassifier(**lgb_params)\n",
    "        #self.xgbm = xgb.XGBClassifier(**xgb_params)\n",
    "    \n",
    "    def fit(self,X,y,X_val,y_val,cat_features=None,verbose=False):\n",
    "        train_pool = Pool(X,label=y,cat_features=cat_features)\n",
    "        eval_pool = Pool(X_val,label=y_val,cat_features=cat_features)\n",
    "        self.cbm.fit(train_pool,eval_set=eval_pool,verbose=verbose)\n",
    "        #self.lgbm.fit(X, y,eval_set=[(X_val,y_val)],categorical_feature=cat_features)\n",
    "        #self.xgbm.fit(X,y,eval_set=[(X_val,y_val)],verbose=False)\n",
    "    \n",
    "    def predict_proba(self,X_test,cat_features):\n",
    "        test_pool = Pool(X_test,cat_features=cat_features)\n",
    "        cb_preds = self.cbm.predict_proba(test_pool)[:,1]\n",
    "        #lgb_preds = self.lgbm.predict_proba(X_test)[:,1]\n",
    "        #xgb_preds = self.xgbm.predict_proba(X_test)[:,1]\n",
    "        return cb_preds #, lgb_preds #, xgb_preds"
   ]
  },
  {
   "cell_type": "code",
   "execution_count": 135,
   "id": "a7ab8586-2846-4f84-bc8f-8c599e9bea58",
   "metadata": {
    "tags": []
   },
   "outputs": [],
   "source": [
    "class CustomBoostKfoldWraper(BaseEstimator):\n",
    "    def __init__(self,num_folds,num_repits,params,random_state=56,score_func=None):\n",
    "        self.models = []\n",
    "        self.params = params\n",
    "        self.random_state = random_state\n",
    "        self.num_folds = num_folds\n",
    "        self.num_repits = num_repits\n",
    "        self.score_func = score_func\n",
    "        \n",
    "    def fit(self,train_data,cat_features=None,drop_cols=None,label_col=None,verbose=False):\n",
    "        self.scores = []\n",
    "        \n",
    "        for i in trange(self.num_repits):\n",
    "            kfold = StratifiedKFold(self.num_folds,random_state=self.random_state+i,shuffle=True)\n",
    "            for train_index, test_index in (kfold.split(train_data,train_data[label_col])):\n",
    "                train_df = train_data.iloc[train_index]\n",
    "                test_df = train_data.iloc[test_index]\n",
    "                \n",
    "                model = EnsembleClassifier(**self.params)\n",
    "                model.fit(\n",
    "                    X = train_df.drop([label_col]+drop_cols,axis=1),\n",
    "                    y = train_df[label_col],\n",
    "                    X_val = test_df.drop([label_col]+drop_cols,axis=1),\n",
    "                    y_val = test_df[label_col],\n",
    "                    cat_features = cat_features,\n",
    "                    verbose = verbose\n",
    "                )\n",
    "                cb_preds = model.predict_proba(test_df.drop([label_col]+drop_cols,axis=1),cat_features)\n",
    "                avg_preds =  cb_preds#(cb_preds + lgb_preds) / 2\n",
    "                self.scores += [[\n",
    "                    self.score_func(\n",
    "                        test_df[label_col],\n",
    "                        avg_preds\n",
    "                    )\n",
    "                ]]\n",
    "                print(self.scores[-1])\n",
    "                self.models += [model]\n",
    "                \n",
    "        print(f\"Total Score {np.mean([x[0] for x in self.scores])}\")\n",
    "            \n",
    "    def predict(self,test_data,drop_cols=None,cat_features=None):\n",
    "        preds = np.mean([\n",
    "            model.predict_proba(test_data.drop(drop_cols,axis=1),cat_features=cat_features)\n",
    "            for model in self.models\n",
    "        ],axis=0)\n",
    "        return preds\n",
    "    \n",
    "    def get_feature_importance(self,type='FeatureImportance'):\n",
    "        imp_0 = self.models[0].cbm.get_feature_importance(prettified=True,type=type).set_index('Feature Id')\n",
    "        for i in range(1,len(self.models)):\n",
    "            imp_0 += self.models[i].cbm.get_feature_importance(prettified=True,type=type).set_index('Feature Id')\n",
    "        return (imp_0 / len(self.models)).sort_values(by='Importances')[::-1]"
   ]
  },
  {
   "cell_type": "code",
   "execution_count": 136,
   "id": "2cc76c0f-d625-4336-9b3c-d5b4d86cfd4e",
   "metadata": {
    "tags": []
   },
   "outputs": [],
   "source": [
    "model = CustomBoostKfoldWraper(\n",
    "    num_folds=5,\n",
    "    num_repits=1,\n",
    "    params=params,\n",
    "    random_state=5656,\n",
    "    score_func=recall_topk\n",
    ")"
   ]
  },
  {
   "cell_type": "code",
   "execution_count": null,
   "id": "f14683e3-25ca-485c-b108-b3f7425d7750",
   "metadata": {
    "tags": []
   },
   "outputs": [
    {
     "data": {
      "application/vnd.jupyter.widget-view+json": {
       "model_id": "8c03b1c4c9a44a90a4cc16e2bab10eb5",
       "version_major": 2,
       "version_minor": 0
      },
      "text/plain": [
       "  0%|          | 0/1 [00:00<?, ?it/s]"
      ]
     },
     "metadata": {},
     "output_type": "display_data"
    },
    {
     "name": "stderr",
     "output_type": "stream",
     "text": [
      "/usr/local/lib/python3.11/dist-packages/catboost/core.py:2321: UserWarning: Failed to import numba for optimizing custom metrics and objectives\n",
      "  _check_train_params(params)\n",
      "Default metric period is 5 because PythonUserDefinedPerObject is/are not implemented for GPU\n"
     ]
    },
    {
     "name": "stdout",
     "output_type": "stream",
     "text": [
      "0:\tlearn: 0.3206419\ttest: 0.3239893\tbest: 0.3239893 (0)\ttotal: 570ms\tremaining: 14m 14s\n",
      "350:\tlearn: 0.4491250\ttest: 0.4484621\tbest: 0.4484621 (350)\ttotal: 46.7s\tremaining: 2m 32s\n",
      "700:\tlearn: 0.4629994\ttest: 0.4546857\tbest: 0.4548915 (625)\ttotal: 1m 32s\tremaining: 1m 45s\n",
      "1050:\tlearn: 0.4729005\ttest: 0.4575147\tbest: 0.4576175 (1045)\ttotal: 2m 18s\tremaining: 59.3s\n",
      "1400:\tlearn: 0.4813486\ttest: 0.4566917\tbest: 0.4580804 (1110)\ttotal: 3m 4s\tremaining: 13s\n",
      "1499:\tlearn: 0.4832388\ttest: 0.4578233\tbest: 0.4580804 (1110)\ttotal: 3m 17s\tremaining: 0us\n",
      "bestTest = 0.4580804444\n",
      "bestIteration = 1110\n",
      "Shrink model to first 1111 iterations.\n",
      "[0.4580804443987244]\n"
     ]
    },
    {
     "name": "stderr",
     "output_type": "stream",
     "text": [
      "/usr/local/lib/python3.11/dist-packages/catboost/core.py:2321: UserWarning: Failed to import numba for optimizing custom metrics and objectives\n",
      "  _check_train_params(params)\n",
      "Default metric period is 5 because PythonUserDefinedPerObject is/are not implemented for GPU\n"
     ]
    },
    {
     "name": "stdout",
     "output_type": "stream",
     "text": [
      "0:\tlearn: 0.3099178\ttest: 0.3048040\tbest: 0.3048040 (0)\ttotal: 498ms\tremaining: 12m 26s\n"
     ]
    }
   ],
   "source": [
    "model.fit(\n",
    "    train_data=train_data,\n",
    "    cat_features=cat_cols,\n",
    "    drop_cols=drop_cols,\n",
    "    label_col=label_col,\n",
    "    verbose=350,\n",
    ")"
   ]
  },
  {
   "cell_type": "code",
   "execution_count": 112,
   "id": "c1a87f66-5c89-45a1-b14a-9887810df9d8",
   "metadata": {
    "tags": []
   },
   "outputs": [
    {
     "data": {
      "text/plain": [
       "(301489,)"
      ]
     },
     "execution_count": 112,
     "metadata": {},
     "output_type": "execute_result"
    }
   ],
   "source": [
    "preds.shape"
   ]
  },
  {
   "cell_type": "code",
   "execution_count": 113,
   "id": "dd6440eb-5ce6-47e1-a68e-2a1c6c821f91",
   "metadata": {
    "tags": []
   },
   "outputs": [],
   "source": [
    "preds = model.predict(test_data,drop_cols=drop_cols,cat_features=cat_cols)"
   ]
  },
  {
   "cell_type": "code",
   "execution_count": 114,
   "id": "b9d3ca20-4f14-4bee-80d8-7e3cde92df2a",
   "metadata": {
    "tags": []
   },
   "outputs": [],
   "source": [
    "sub = pd.read_csv('simple_sub-4.csv')"
   ]
  },
  {
   "cell_type": "code",
   "execution_count": 115,
   "id": "b594676d-9f82-479b-acce-ea8231525c51",
   "metadata": {
    "tags": []
   },
   "outputs": [],
   "source": [
    "sub['target'] = preds"
   ]
  },
  {
   "cell_type": "code",
   "execution_count": 118,
   "id": "7d26f58d-9b3a-4e26-bde5-e0b0e00e7c5a",
   "metadata": {
    "tags": []
   },
   "outputs": [],
   "source": [
    "sub.to_csv('dump_subv2.csv')"
   ]
  },
  {
   "cell_type": "code",
   "execution_count": null,
   "id": "febebde2-7872-4b08-b860-e97dec9b578e",
   "metadata": {},
   "outputs": [],
   "source": []
  }
 ],
 "metadata": {
  "kernelspec": {
   "display_name": "Python 3 (ipykernel)",
   "language": "python",
   "name": "python3"
  },
  "language_info": {
   "codemirror_mode": {
    "name": "ipython",
    "version": 3
   },
   "file_extension": ".py",
   "mimetype": "text/x-python",
   "name": "python",
   "nbconvert_exporter": "python",
   "pygments_lexer": "ipython3",
   "version": "3.11.7"
  }
 },
 "nbformat": 4,
 "nbformat_minor": 5
}
